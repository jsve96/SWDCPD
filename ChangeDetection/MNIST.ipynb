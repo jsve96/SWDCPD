{
 "cells": [
  {
   "cell_type": "code",
   "execution_count": 1,
   "metadata": {},
   "outputs": [],
   "source": [
    "import torch\n",
    "from torchvision import datasets\n",
    "from torch.utils.data import DataLoader\n",
    "from torchvision import transforms\n",
    "import numpy as np\n",
    "from utilsCPD import *\n",
    "import matplotlib.pyplot as plt\n",
    "from SWCPD import BaseDetector as SWDCP\n",
    "\n",
    "\n",
    "BATCH_SIZE  =32\n",
    "mnist_transforms = transforms.Compose([transforms.ToTensor()])\n",
    "train_val_dataset = datasets.MNIST(root=\"./datasets/\", train=True, download=True, transform=mnist_transforms)\n",
    "test_dataset = datasets.MNIST(root=\"./datasets/\", train=False, download=True, transform=mnist_transforms)\n",
    "train_size = int(0.9 * len(train_val_dataset))\n",
    "val_size = len(train_val_dataset) - train_size\n",
    "train_dataset, val_dataset = torch.utils.data.random_split(dataset=train_val_dataset, lengths=[train_size, val_size])\n",
    "train_dataloader = DataLoader(dataset=train_dataset, batch_size=BATCH_SIZE, shuffle=True)\n",
    "val_dataloader = DataLoader(dataset=val_dataset, batch_size=BATCH_SIZE, shuffle=True)\n",
    "test_dataloader = DataLoader(dataset=test_dataset, batch_size=BATCH_SIZE, shuffle=True)"
   ]
  },
  {
   "cell_type": "code",
   "execution_count": 2,
   "metadata": {},
   "outputs": [
    {
     "name": "stdout",
     "output_type": "stream",
     "text": [
      "torch.Size([10000, 784])\n"
     ]
    }
   ],
   "source": [
    "all_batches = []\n",
    "all_labels =[]\n",
    "torch.manual_seed(10)\n",
    "for x,y in test_dataloader:\n",
    "    bs = x.shape[0]\n",
    "    all_batches.append(x.flatten().reshape(bs,784))\n",
    "    all_labels.append(y)\n",
    "\n",
    "all_batches = torch.cat(all_batches,dim=0)\n",
    "all_labels = torch.cat(all_labels,dim=0)\n",
    "\n",
    "print(all_batches.shape)"
   ]
  },
  {
   "cell_type": "code",
   "execution_count": 3,
   "metadata": {},
   "outputs": [
    {
     "name": "stdout",
     "output_type": "stream",
     "text": [
      "[(3, 9, 8), (6, 5, 8), (0, 4, 3), (6, 7, 8), (4, 3, 0)]\n"
     ]
    },
    {
     "data": {
      "text/plain": [
       "(array([[0., 0., 0., ..., 0., 0., 0.],\n",
       "        [0., 0., 0., ..., 0., 0., 0.],\n",
       "        [0., 0., 0., ..., 0., 0., 0.],\n",
       "        ...,\n",
       "        [0., 0., 0., ..., 0., 0., 0.],\n",
       "        [0., 0., 0., ..., 0., 0., 0.],\n",
       "        [0., 0., 0., ..., 0., 0., 0.]], dtype=float32),\n",
       " array([200, 400]))"
      ]
     },
     "execution_count": 3,
     "metadata": {},
     "output_type": "execute_result"
    }
   ],
   "source": [
    "Labels_Sampled = []\n",
    "seed = 2025\n",
    "rng = np.random.default_rng(seed)\n",
    "\n",
    "\n",
    "def sample_classes(seed,n_classes = 3,nb_experiments=5):\n",
    "    rng = np.random.default_rng(seed)\n",
    "    Labels_Sampled = []\n",
    "    for run in range(nb_experiments):\n",
    "        l = tuple(rng.choice(np.arange(10),n_classes,replace=False))\n",
    "        if l not in Labels_Sampled:\n",
    "            Labels_Sampled.append(l)\n",
    "    return Labels_Sampled\n",
    "\n",
    "Labels_Sampled = sample_classes(seed=seed, n_classes=3,nb_experiments=5)\n",
    "\n",
    "print(Labels_Sampled)\n",
    "def FilterData(all_batches,all_labels,lables,N_Samples=200):\n",
    "    data = []\n",
    "    cps = []\n",
    "    for l in lables:\n",
    "        d =all_batches[all_labels==l].detach().numpy()\n",
    "        data.append(d[:N_Samples])\n",
    "        cps.append(len(d[:N_Samples]))\n",
    "    return np.vstack(data),np.cumsum(cps)[:-1]\n",
    "\n",
    "\n",
    "FilterData(all_batches,all_labels,list(Labels_Sampled[0]))\n"
   ]
  },
  {
   "cell_type": "code",
   "execution_count": 64,
   "metadata": {},
   "outputs": [
    {
     "data": {
      "text/plain": [
       "[[(3, 9, 8), (6, 5, 8), (0, 4, 3), (6, 7, 8), (4, 3, 0)],\n",
       " [(3, 7, 8, 9), (8, 3, 6, 5), (7, 6, 3, 8), (8, 7, 3, 2), (6, 7, 4, 2)],\n",
       " [(2, 6, 3, 7, 9),\n",
       "  (5, 2, 3, 4, 0),\n",
       "  (4, 0, 3, 8, 2),\n",
       "  (4, 6, 7, 0, 2),\n",
       "  (0, 1, 9, 3, 2)]]"
      ]
     },
     "execution_count": 64,
     "metadata": {},
     "output_type": "execute_result"
    }
   ],
   "source": [
    "LABELS_Sampled = [sample_classes(seed=seed,n_classes=3,nb_experiments=5),sample_classes(seed=seed, n_classes=4,nb_experiments=5),sample_classes(seed=seed, n_classes=5,nb_experiments=5)]\n",
    "LABELS_Sampled"
   ]
  },
  {
   "cell_type": "code",
   "execution_count": 23,
   "metadata": {},
   "outputs": [
    {
     "name": "stdout",
     "output_type": "stream",
     "text": [
      "0\n",
      "[200 400]\n",
      "cuda\n"
     ]
    },
    {
     "name": "stderr",
     "output_type": "stream",
     "text": [
      " 31%|███▏      | 173/551 [00:04<00:09, 38.67it/s]"
     ]
    },
    {
     "name": "stdout",
     "output_type": "stream",
     "text": [
      "Change detected at: 216 \n",
      "Initiate new segment\n"
     ]
    },
    {
     "name": "stderr",
     "output_type": "stream",
     "text": [
      " 68%|██████▊   | 376/551 [00:09<00:04, 36.78it/s]"
     ]
    },
    {
     "name": "stdout",
     "output_type": "stream",
     "text": [
      "Change detected at: 420 \n",
      "Initiate new segment\n"
     ]
    },
    {
     "name": "stderr",
     "output_type": "stream",
     "text": [
      "100%|██████████| 551/551 [00:14<00:00, 38.24it/s]\n"
     ]
    },
    {
     "name": "stdout",
     "output_type": "stream",
     "text": [
      "F1 score: 1.0\n",
      "Covering: 0.8874298540965208\n",
      "1.0\n",
      "{'F1': 1.0, 'Covering': 0.8874298540965208, 'AUC': 1.0}\n",
      "1\n",
      "[200 400]\n",
      "cuda\n"
     ]
    },
    {
     "name": "stderr",
     "output_type": "stream",
     "text": [
      " 31%|███       | 170/551 [00:04<00:09, 39.41it/s]"
     ]
    },
    {
     "name": "stdout",
     "output_type": "stream",
     "text": [
      "Change detected at: 215 \n",
      "Initiate new segment\n"
     ]
    },
    {
     "name": "stderr",
     "output_type": "stream",
     "text": [
      "100%|██████████| 551/551 [00:13<00:00, 39.64it/s]\n"
     ]
    },
    {
     "name": "stdout",
     "output_type": "stream",
     "text": [
      "F1 score: 0.8\n",
      "Covering: 0.6374043592066848\n",
      "0.8333333333333333\n",
      "{'F1': 0.8, 'Covering': 0.6374043592066848, 'AUC': 0.8333333333333333}\n",
      "2\n",
      "[200 400]\n",
      "cuda\n"
     ]
    },
    {
     "name": "stderr",
     "output_type": "stream",
     "text": [
      " 31%|███       | 171/551 [00:04<00:09, 41.05it/s]"
     ]
    },
    {
     "name": "stdout",
     "output_type": "stream",
     "text": [
      "Change detected at: 214 \n",
      "Initiate new segment\n"
     ]
    },
    {
     "name": "stderr",
     "output_type": "stream",
     "text": [
      " 67%|██████▋   | 367/551 [00:09<00:04, 40.04it/s]"
     ]
    },
    {
     "name": "stdout",
     "output_type": "stream",
     "text": [
      "Change detected at: 412 \n",
      "Initiate new segment\n"
     ]
    },
    {
     "name": "stderr",
     "output_type": "stream",
     "text": [
      "100%|██████████| 551/551 [00:13<00:00, 40.45it/s]\n"
     ]
    },
    {
     "name": "stdout",
     "output_type": "stream",
     "text": [
      "F1 score: 1.0\n",
      "Covering: 0.9173126432727914\n",
      "1.0\n",
      "{'F1': 1.0, 'Covering': 0.9173126432727914, 'AUC': 1.0}\n",
      "3\n",
      "[200 400]\n",
      "cuda\n"
     ]
    },
    {
     "name": "stderr",
     "output_type": "stream",
     "text": [
      " 31%|███       | 170/551 [00:04<00:09, 41.00it/s]"
     ]
    },
    {
     "name": "stdout",
     "output_type": "stream",
     "text": [
      "Change detected at: 212 \n",
      "Initiate new segment\n"
     ]
    },
    {
     "name": "stderr",
     "output_type": "stream",
     "text": [
      " 68%|██████▊   | 375/551 [00:09<00:04, 42.93it/s]"
     ]
    },
    {
     "name": "stdout",
     "output_type": "stream",
     "text": [
      "Change detected at: 416 \n",
      "Initiate new segment\n"
     ]
    },
    {
     "name": "stderr",
     "output_type": "stream",
     "text": [
      " 71%|███████   | 390/551 [00:09<00:03, 42.15it/s]"
     ]
    },
    {
     "name": "stdout",
     "output_type": "stream",
     "text": [
      "Change detected at: 431 \n",
      "Initiate new segment\n"
     ]
    },
    {
     "name": "stderr",
     "output_type": "stream",
     "text": [
      "100%|██████████| 551/551 [00:13<00:00, 41.27it/s]\n"
     ]
    },
    {
     "name": "stdout",
     "output_type": "stream",
     "text": [
      "F1 score: 0.8571428571428571\n",
      "Covering: 0.8862555322618216\n",
      "0.875\n",
      "{'F1': 0.8571428571428571, 'Covering': 0.8862555322618216, 'AUC': 0.875}\n",
      "4\n",
      "[200 400]\n",
      "cuda\n"
     ]
    },
    {
     "name": "stderr",
     "output_type": "stream",
     "text": [
      " 31%|███       | 169/551 [00:04<00:08, 42.87it/s]"
     ]
    },
    {
     "name": "stdout",
     "output_type": "stream",
     "text": [
      "Change detected at: 212 \n",
      "Initiate new segment\n"
     ]
    },
    {
     "name": "stderr",
     "output_type": "stream",
     "text": [
      " 66%|██████▌   | 364/551 [00:08<00:04, 40.35it/s]"
     ]
    },
    {
     "name": "stdout",
     "output_type": "stream",
     "text": [
      "Change detected at: 408 \n",
      "Initiate new segment\n"
     ]
    },
    {
     "name": "stderr",
     "output_type": "stream",
     "text": [
      "100%|██████████| 551/551 [00:13<00:00, 41.47it/s]\n"
     ]
    },
    {
     "name": "stdout",
     "output_type": "stream",
     "text": [
      "F1 score: 1.0\n",
      "Covering: 0.9357474600870826\n",
      "1.0\n",
      "{'F1': 1.0, 'Covering': 0.9357474600870826, 'AUC': 1.0}\n",
      "5\n",
      "[200 400 600]\n",
      "cuda\n"
     ]
    },
    {
     "name": "stderr",
     "output_type": "stream",
     "text": [
      " 22%|██▏       | 164/751 [00:03<00:14, 41.03it/s]"
     ]
    },
    {
     "name": "stdout",
     "output_type": "stream",
     "text": [
      "Change detected at: 210 \n",
      "Initiate new segment\n"
     ]
    },
    {
     "name": "stderr",
     "output_type": "stream",
     "text": [
      " 50%|████▉     | 372/751 [00:09<00:09, 39.81it/s]"
     ]
    },
    {
     "name": "stdout",
     "output_type": "stream",
     "text": [
      "Change detected at: 416 \n",
      "Initiate new segment\n"
     ]
    },
    {
     "name": "stderr",
     "output_type": "stream",
     "text": [
      " 52%|█████▏    | 388/751 [00:09<00:09, 37.03it/s]"
     ]
    },
    {
     "name": "stdout",
     "output_type": "stream",
     "text": [
      "Change detected at: 431 \n",
      "Initiate new segment\n"
     ]
    },
    {
     "name": "stderr",
     "output_type": "stream",
     "text": [
      " 78%|███████▊  | 583/751 [00:14<00:04, 39.78it/s]"
     ]
    },
    {
     "name": "stdout",
     "output_type": "stream",
     "text": [
      "Change detected at: 625 \n",
      "Initiate new segment\n"
     ]
    },
    {
     "name": "stderr",
     "output_type": "stream",
     "text": [
      "100%|██████████| 751/751 [00:18<00:00, 40.02it/s]\n"
     ]
    },
    {
     "name": "stdout",
     "output_type": "stream",
     "text": [
      "F1 score: 0.6666666666666665\n",
      "Covering: 0.8645304232804232\n",
      "0.675\n",
      "{'F1': 0.6666666666666665, 'Covering': 0.8645304232804232, 'AUC': 0.675}\n",
      "6\n",
      "[200 400 600]\n",
      "cuda\n"
     ]
    },
    {
     "name": "stderr",
     "output_type": "stream",
     "text": [
      " 23%|██▎       | 174/751 [00:04<00:14, 39.35it/s]"
     ]
    },
    {
     "name": "stdout",
     "output_type": "stream",
     "text": [
      "Change detected at: 218 \n",
      "Initiate new segment\n",
      "Change detected at: 220 \n",
      "Initiate new segment\n"
     ]
    },
    {
     "name": "stderr",
     "output_type": "stream",
     "text": [
      " 48%|████▊     | 363/751 [00:09<00:09, 39.05it/s]"
     ]
    },
    {
     "name": "stdout",
     "output_type": "stream",
     "text": [
      "Change detected at: 409 \n",
      "Initiate new segment\n"
     ]
    },
    {
     "name": "stderr",
     "output_type": "stream",
     "text": [
      " 76%|███████▋  | 574/751 [00:14<00:04, 43.11it/s]"
     ]
    },
    {
     "name": "stdout",
     "output_type": "stream",
     "text": [
      "Change detected at: 615 \n",
      "Initiate new segment\n"
     ]
    },
    {
     "name": "stderr",
     "output_type": "stream",
     "text": [
      "100%|██████████| 751/751 [00:18<00:00, 39.91it/s]\n"
     ]
    },
    {
     "name": "stdout",
     "output_type": "stream",
     "text": [
      "F1 score: 0.888888888888889\n",
      "Covering: 0.8980118262056405\n",
      "0.9\n",
      "{'F1': 0.888888888888889, 'Covering': 0.8980118262056405, 'AUC': 0.9}\n",
      "7\n",
      "[200 400 600]\n",
      "cuda\n"
     ]
    },
    {
     "name": "stderr",
     "output_type": "stream",
     "text": [
      " 23%|██▎       | 169/751 [00:04<00:13, 43.91it/s]"
     ]
    },
    {
     "name": "stdout",
     "output_type": "stream",
     "text": [
      "Change detected at: 212 \n",
      "Initiate new segment\n"
     ]
    },
    {
     "name": "stderr",
     "output_type": "stream",
     "text": [
      " 49%|████▉     | 369/751 [00:08<00:08, 42.53it/s]"
     ]
    },
    {
     "name": "stdout",
     "output_type": "stream",
     "text": [
      "Change detected at: 414 \n",
      "Initiate new segment\n"
     ]
    },
    {
     "name": "stderr",
     "output_type": "stream",
     "text": [
      " 76%|███████▌  | 572/751 [00:14<00:04, 39.53it/s]"
     ]
    },
    {
     "name": "stdout",
     "output_type": "stream",
     "text": [
      "Change detected at: 617 \n",
      "Initiate new segment\n"
     ]
    },
    {
     "name": "stderr",
     "output_type": "stream",
     "text": [
      "100%|██████████| 751/751 [00:18<00:00, 40.60it/s]\n"
     ]
    },
    {
     "name": "stdout",
     "output_type": "stream",
     "text": [
      "F1 score: 1.0\n",
      "Covering: 0.898510939113787\n",
      "1.0\n",
      "{'F1': 1.0, 'Covering': 0.898510939113787, 'AUC': 1.0}\n",
      "8\n",
      "[200 400 600]\n",
      "cuda\n"
     ]
    },
    {
     "name": "stderr",
     "output_type": "stream",
     "text": [
      " 23%|██▎       | 176/751 [00:04<00:14, 40.95it/s]"
     ]
    },
    {
     "name": "stdout",
     "output_type": "stream",
     "text": [
      "Change detected at: 220 \n",
      "Initiate new segment\n"
     ]
    },
    {
     "name": "stderr",
     "output_type": "stream",
     "text": [
      " 50%|████▉     | 373/751 [00:09<00:09, 40.93it/s]"
     ]
    },
    {
     "name": "stdout",
     "output_type": "stream",
     "text": [
      "Change detected at: 415 \n",
      "Initiate new segment\n"
     ]
    },
    {
     "name": "stderr",
     "output_type": "stream",
     "text": [
      " 76%|███████▌  | 572/751 [00:14<00:04, 42.08it/s]"
     ]
    },
    {
     "name": "stdout",
     "output_type": "stream",
     "text": [
      "Change detected at: 615 \n",
      "Initiate new segment\n"
     ]
    },
    {
     "name": "stderr",
     "output_type": "stream",
     "text": [
      "100%|██████████| 751/751 [00:18<00:00, 40.32it/s]\n"
     ]
    },
    {
     "name": "stdout",
     "output_type": "stream",
     "text": [
      "F1 score: 1.0\n",
      "Covering: 0.8829413319238901\n",
      "1.0\n",
      "{'F1': 1.0, 'Covering': 0.8829413319238901, 'AUC': 1.0}\n",
      "9\n",
      "[200 400 600]\n",
      "cuda\n"
     ]
    },
    {
     "name": "stderr",
     "output_type": "stream",
     "text": [
      " 23%|██▎       | 170/751 [00:04<00:14, 39.36it/s]"
     ]
    },
    {
     "name": "stdout",
     "output_type": "stream",
     "text": [
      "Change detected at: 212 \n",
      "Initiate new segment\n"
     ]
    },
    {
     "name": "stderr",
     "output_type": "stream",
     "text": [
      " 51%|█████     | 380/751 [00:09<00:08, 42.09it/s]"
     ]
    },
    {
     "name": "stdout",
     "output_type": "stream",
     "text": [
      "Change detected at: 422 \n",
      "Initiate new segment\n",
      "Change detected at: 424 \n",
      "Initiate new segment\n"
     ]
    },
    {
     "name": "stderr",
     "output_type": "stream",
     "text": [
      " 76%|███████▌  | 570/751 [00:14<00:04, 41.47it/s]"
     ]
    },
    {
     "name": "stdout",
     "output_type": "stream",
     "text": [
      "Change detected at: 614 \n",
      "Initiate new segment\n"
     ]
    },
    {
     "name": "stderr",
     "output_type": "stream",
     "text": [
      "100%|██████████| 751/751 [00:18<00:00, 40.75it/s]\n"
     ]
    },
    {
     "name": "stdout",
     "output_type": "stream",
     "text": [
      "F1 score: 0.6666666666666665\n",
      "Covering: 0.8856682449509993\n",
      "0.675\n",
      "{'F1': 0.6666666666666665, 'Covering': 0.8856682449509993, 'AUC': 0.675}\n",
      "10\n",
      "[200 400 600 800]\n",
      "cuda\n"
     ]
    },
    {
     "name": "stderr",
     "output_type": "stream",
     "text": [
      " 19%|█▊        | 177/951 [00:04<00:20, 38.53it/s]"
     ]
    },
    {
     "name": "stdout",
     "output_type": "stream",
     "text": [
      "Change detected at: 221 \n",
      "Initiate new segment\n"
     ]
    },
    {
     "name": "stderr",
     "output_type": "stream",
     "text": [
      " 39%|███▉      | 373/951 [00:09<00:13, 42.98it/s]"
     ]
    },
    {
     "name": "stdout",
     "output_type": "stream",
     "text": [
      "Change detected at: 414 \n",
      "Initiate new segment\n"
     ]
    },
    {
     "name": "stderr",
     "output_type": "stream",
     "text": [
      " 60%|█████▉    | 566/951 [00:13<00:09, 40.99it/s]"
     ]
    },
    {
     "name": "stdout",
     "output_type": "stream",
     "text": [
      "Change detected at: 610 \n",
      "Initiate new segment\n"
     ]
    },
    {
     "name": "stderr",
     "output_type": "stream",
     "text": [
      "100%|██████████| 951/951 [00:23<00:00, 40.97it/s]\n"
     ]
    },
    {
     "name": "stdout",
     "output_type": "stream",
     "text": [
      "F1 score: 0.6666666666666665\n",
      "Covering: 0.7229921544462501\n",
      "0.675\n",
      "{'F1': 0.6666666666666665, 'Covering': 0.7229921544462501, 'AUC': 0.675}\n",
      "11\n",
      "[200 400 600 800]\n",
      "cuda\n"
     ]
    },
    {
     "name": "stderr",
     "output_type": "stream",
     "text": [
      " 19%|█▉        | 179/951 [00:04<00:17, 44.08it/s]"
     ]
    },
    {
     "name": "stdout",
     "output_type": "stream",
     "text": [
      "Change detected at: 220 \n",
      "Initiate new segment\n"
     ]
    },
    {
     "name": "stderr",
     "output_type": "stream",
     "text": [
      " 19%|█▉        | 184/951 [00:04<00:18, 41.69it/s]"
     ]
    },
    {
     "name": "stdout",
     "output_type": "stream",
     "text": [
      "Change detected at: 230 \n",
      "Initiate new segment\n"
     ]
    },
    {
     "name": "stderr",
     "output_type": "stream",
     "text": [
      " 40%|███▉      | 379/951 [00:09<00:14, 40.35it/s]"
     ]
    },
    {
     "name": "stdout",
     "output_type": "stream",
     "text": [
      "Change detected at: 420 \n",
      "Initiate new segment\n"
     ]
    },
    {
     "name": "stderr",
     "output_type": "stream",
     "text": [
      " 60%|█████▉    | 569/951 [00:13<00:08, 44.21it/s]"
     ]
    },
    {
     "name": "stdout",
     "output_type": "stream",
     "text": [
      "Change detected at: 610 \n",
      "Initiate new segment\n"
     ]
    },
    {
     "name": "stderr",
     "output_type": "stream",
     "text": [
      " 80%|████████  | 764/951 [00:18<00:04, 42.30it/s]"
     ]
    },
    {
     "name": "stdout",
     "output_type": "stream",
     "text": [
      "Change detected at: 809 \n",
      "Initiate new segment\n"
     ]
    },
    {
     "name": "stderr",
     "output_type": "stream",
     "text": [
      "100%|██████████| 951/951 [00:22<00:00, 42.31it/s]\n"
     ]
    },
    {
     "name": "stdout",
     "output_type": "stream",
     "text": [
      "F1 score: 0.9090909090909091\n",
      "Covering: 0.8806103896103896\n",
      "0.9166666666666667\n",
      "{'F1': 0.9090909090909091, 'Covering': 0.8806103896103896, 'AUC': 0.9166666666666667}\n",
      "12\n",
      "[200 400 600 800]\n",
      "cuda\n"
     ]
    },
    {
     "name": "stderr",
     "output_type": "stream",
     "text": [
      " 18%|█▊        | 167/951 [00:04<00:17, 43.58it/s]"
     ]
    },
    {
     "name": "stdout",
     "output_type": "stream",
     "text": [
      "Change detected at: 209 \n",
      "Initiate new segment\n"
     ]
    },
    {
     "name": "stderr",
     "output_type": "stream",
     "text": [
      " 39%|███▉      | 372/951 [00:08<00:13, 41.87it/s]"
     ]
    },
    {
     "name": "stdout",
     "output_type": "stream",
     "text": [
      "Change detected at: 413 \n",
      "Initiate new segment\n"
     ]
    },
    {
     "name": "stderr",
     "output_type": "stream",
     "text": [
      " 60%|██████    | 571/951 [00:13<00:09, 41.28it/s]"
     ]
    },
    {
     "name": "stdout",
     "output_type": "stream",
     "text": [
      "Change detected at: 617 \n",
      "Initiate new segment\n"
     ]
    },
    {
     "name": "stderr",
     "output_type": "stream",
     "text": [
      " 82%|████████▏ | 777/951 [00:18<00:04, 41.72it/s]"
     ]
    },
    {
     "name": "stdout",
     "output_type": "stream",
     "text": [
      "Change detected at: 818 \n",
      "Initiate new segment\n"
     ]
    },
    {
     "name": "stderr",
     "output_type": "stream",
     "text": [
      "100%|██████████| 951/951 [00:22<00:00, 41.68it/s]\n"
     ]
    },
    {
     "name": "stdout",
     "output_type": "stream",
     "text": [
      "F1 score: 1.0\n",
      "Covering: 0.8929704214849346\n",
      "1.0\n",
      "{'F1': 1.0, 'Covering': 0.8929704214849346, 'AUC': 1.0}\n",
      "13\n",
      "[200 400 600 800]\n",
      "cuda\n"
     ]
    },
    {
     "name": "stderr",
     "output_type": "stream",
     "text": [
      " 18%|█▊        | 174/951 [00:04<00:18, 42.06it/s]"
     ]
    },
    {
     "name": "stdout",
     "output_type": "stream",
     "text": [
      "Change detected at: 218 \n",
      "Initiate new segment\n"
     ]
    },
    {
     "name": "stderr",
     "output_type": "stream",
     "text": [
      " 39%|███▉      | 369/951 [00:08<00:13, 42.47it/s]"
     ]
    },
    {
     "name": "stdout",
     "output_type": "stream",
     "text": [
      "Change detected at: 412 \n",
      "Initiate new segment\n"
     ]
    },
    {
     "name": "stderr",
     "output_type": "stream",
     "text": [
      " 60%|█████▉    | 569/951 [00:13<00:08, 42.55it/s]"
     ]
    },
    {
     "name": "stdout",
     "output_type": "stream",
     "text": [
      "Change detected at: 610 \n",
      "Initiate new segment\n"
     ]
    },
    {
     "name": "stderr",
     "output_type": "stream",
     "text": [
      " 81%|████████  | 768/951 [00:18<00:04, 41.13it/s]"
     ]
    },
    {
     "name": "stdout",
     "output_type": "stream",
     "text": [
      "Change detected at: 813 \n",
      "Initiate new segment\n"
     ]
    },
    {
     "name": "stderr",
     "output_type": "stream",
     "text": [
      "100%|██████████| 951/951 [00:22<00:00, 42.28it/s]\n"
     ]
    },
    {
     "name": "stdout",
     "output_type": "stream",
     "text": [
      "F1 score: 1.0\n",
      "Covering: 0.8996357266558209\n",
      "1.0\n",
      "{'F1': 1.0, 'Covering': 0.8996357266558209, 'AUC': 1.0}\n",
      "14\n",
      "[200 400 600 800]\n",
      "cuda\n"
     ]
    },
    {
     "name": "stderr",
     "output_type": "stream",
     "text": [
      " 17%|█▋        | 166/951 [00:03<00:18, 41.58it/s]"
     ]
    },
    {
     "name": "stdout",
     "output_type": "stream",
     "text": [
      "Change detected at: 210 \n",
      "Initiate new segment\n"
     ]
    },
    {
     "name": "stderr",
     "output_type": "stream",
     "text": [
      " 38%|███▊      | 366/951 [00:08<00:13, 42.14it/s]"
     ]
    },
    {
     "name": "stdout",
     "output_type": "stream",
     "text": [
      "Change detected at: 409 \n",
      "Initiate new segment\n"
     ]
    },
    {
     "name": "stderr",
     "output_type": "stream",
     "text": [
      " 60%|█████▉    | 570/951 [00:13<00:08, 43.92it/s]"
     ]
    },
    {
     "name": "stdout",
     "output_type": "stream",
     "text": [
      "Change detected at: 615 \n",
      "Initiate new segment\n"
     ]
    },
    {
     "name": "stderr",
     "output_type": "stream",
     "text": [
      " 81%|████████  | 770/951 [00:17<00:04, 43.64it/s]"
     ]
    },
    {
     "name": "stdout",
     "output_type": "stream",
     "text": [
      "Change detected at: 815 \n",
      "Initiate new segment\n"
     ]
    },
    {
     "name": "stderr",
     "output_type": "stream",
     "text": [
      "100%|██████████| 951/951 [00:22<00:00, 42.92it/s]"
     ]
    },
    {
     "name": "stdout",
     "output_type": "stream",
     "text": [
      "F1 score: 1.0\n",
      "Covering: 0.9070618141548373\n",
      "1.0\n",
      "{'F1': 1.0, 'Covering': 0.9070618141548373, 'AUC': 1.0}\n"
     ]
    },
    {
     "name": "stderr",
     "output_type": "stream",
     "text": [
      "\n"
     ]
    }
   ],
   "source": [
    "METRICS_SWD = {}\n",
    "Data_OUT = {}\n",
    "LABELS_Sampled = [sample_classes(seed=seed,n_classes=3,nb_experiments=5),sample_classes(seed=seed, n_classes=4,nb_experiments=5),sample_classes(seed=seed, n_classes=5,nb_experiments=5)]\n",
    "ind = 0\n",
    "ind2 = 0\n",
    "LABELS_Sampled\n",
    "for id,i in enumerate(range(15)):\n",
    "    print(id)\n",
    "    Data_OUT[id] = {}\n",
    "    METRICS_SWD[id]  = {}\n",
    "    if i in [5,10]:\n",
    "        ind+=1\n",
    "        ind2 = 0\n",
    "    df, GroundTruth = FilterData(all_batches,all_labels,list(LABELS_Sampled[ind][ind2]),N_Samples=200)\n",
    "    Data_OUT[id]['data'] = df\n",
    "    Data_OUT[id]['target'] = GroundTruth\n",
    "    ind2+=1\n",
    "    print(GroundTruth)\n",
    "    detector = SWDCP(data=df,window_length=50,max_history=50,significance=0.05)\n",
    "    print(detector.device)\n",
    "    detector.process_dataloader(p=4,n_theta=5000,seed=2025)\n",
    "    f1, covering_score, auc_score = detector.evaluate(GroundTruth,20)\n",
    "    METRICS_SWD[id]['F1'] = f1\n",
    "    METRICS_SWD[id]['Covering'] = covering_score\n",
    "    METRICS_SWD[id]['AUC'] = auc_score\n",
    "    print(METRICS_SWD[id])"
   ]
  },
  {
   "cell_type": "code",
   "execution_count": 24,
   "metadata": {},
   "outputs": [
    {
     "name": "stdout",
     "output_type": "stream",
     "text": [
      "0.8664722080501247\n",
      "0.9033333333333334\n"
     ]
    }
   ],
   "source": [
    "f1,cov, AUC = [],[],[]\n",
    "for k,metrics in METRICS_SWD.items():\n",
    "    f1.append(metrics['F1'])\n",
    "    cov.append(metrics['Covering'])\n",
    "    AUC.append(metrics['AUC'])\n",
    "\n",
    "\n",
    "#print(np.mean(f1))\n",
    "print(np.mean(cov))\n",
    "print(np.mean(AUC))"
   ]
  },
  {
   "cell_type": "code",
   "execution_count": null,
   "metadata": {},
   "outputs": [],
   "source": [
    "# import json\n",
    "\n",
    "# class NumpyEncoder(json.JSONEncoder):\n",
    "#     def default(self, obj):\n",
    "#         if isinstance(obj, np.ndarray):\n",
    "#             return obj.tolist()\n",
    "#         return super().default(obj)\n",
    "    \n",
    "# with open('data.json', 'w', encoding='utf-8') as f:\n",
    "#     json.dump(Data_OUT, f, ensure_ascii=False, indent=4,cls=NumpyEncoder)"
   ]
  },
  {
   "cell_type": "code",
   "execution_count": null,
   "metadata": {},
   "outputs": [],
   "source": [
    "from claspy.segmentation import BinaryClaSPSegmentation\n",
    "ind = 0\n",
    "ind2 = 0\n",
    "METRICS_Claspy = {}\n",
    "for id,i in enumerate(range(15)):\n",
    "    print(id)\n",
    "    METRICS_Claspy[id]  = {}\n",
    "    if i in [5,10]:\n",
    "        ind+=1\n",
    "        ind2 = 0\n",
    "    df, GroundTruth = FilterData(all_batches,all_labels,list(LABELS_Sampled[ind][ind2]),N_Samples=200)\n",
    "    ind2+=1\n",
    "    print(GroundTruth)\n",
    "    clasp = BinaryClaSPSegmentation(window_size=100).fit(df.astype(np.float64))\n",
    "    f1,auc_score = f_measure({'0':GroundTruth},clasp.change_points,20)\n",
    "    covering_score = covering({'0':GroundTruth},clasp.change_points,df.shape[0])\n",
    "    METRICS_Claspy[id]['F1'] = f1\n",
    "    METRICS_Claspy[id]['Covering'] = covering_score\n",
    "    METRICS_Claspy[id]['AUC'] = auc_score\n",
    "    print(METRICS_Claspy[id])"
   ]
  },
  {
   "cell_type": "code",
   "execution_count": 54,
   "metadata": {},
   "outputs": [
    {
     "name": "stdout",
     "output_type": "stream",
     "text": [
      "0.05499719409228699\n",
      "0.027498597046143512\n"
     ]
    }
   ],
   "source": [
    "f1,cov, AUC = [],[],[]\n",
    "for k,metrics in METRICS_Claspy.items():\n",
    "    f1.append(metrics['F1'])\n",
    "    cov.append(metrics['Covering'])\n",
    "    AUC.append(metrics['AUC'])\n",
    "print(np.std(cov))\n",
    "print(np.std(AUC))"
   ]
  },
  {
   "cell_type": "code",
   "execution_count": 21,
   "metadata": {},
   "outputs": [],
   "source": [
    "data_out = {}\n",
    "ind2=0\n",
    "ind=0\n",
    "for id,i in enumerate(range(15)):\n",
    "    if i in [5,10]:\n",
    "        ind+=1\n",
    "        ind2 = 0\n",
    "    df, GroundTruth = FilterData(all_batches,all_labels,list(LABELS_Sampled[ind][ind2]),N_Samples=200)\n",
    "    data_out[id] = {'data':df,'labels':GroundTruth}"
   ]
  },
  {
   "cell_type": "code",
   "execution_count": 22,
   "metadata": {},
   "outputs": [],
   "source": [
    "# import json\n",
    "\n",
    "# class NumpyEncoder(json.JSONEncoder):\n",
    "#     def default(self, obj):\n",
    "#         if isinstance(obj, np.ndarray):\n",
    "#             return obj.tolist()\n",
    "#         return super().default(obj)\n",
    "    \n",
    "# with open('data.json', 'w', encoding='utf-8') as f:\n",
    "#     json.dump(data_out, f, ensure_ascii=False, indent=4,cls=NumpyEncoder)"
   ]
  },
  {
   "cell_type": "markdown",
   "metadata": {},
   "source": [
    "### Results for E-divisive and BOCPD"
   ]
  },
  {
   "cell_type": "code",
   "execution_count": 48,
   "metadata": {},
   "outputs": [
    {
     "name": "stdout",
     "output_type": "stream",
     "text": [
      "0.9569023569023568\n",
      "0.05164545795524169\n",
      "0.047790695928014576\n"
     ]
    }
   ],
   "source": [
    "import json\n",
    "\n",
    "with open(\"./R/res//MNIST_Edivise.json\") as f:\n",
    "    ECP_Results = json.load(f)\n",
    "\n",
    "\n",
    "F1,Covering, AUC = [],[],[]\n",
    "\n",
    "for id, cps in ECP_Results.items():\n",
    "    ground_truths = data_out[int(id)]['labels']\n",
    "    n = ground_truths[-1] + 200\n",
    "    cps = cps[1:-1]\n",
    "\n",
    "    f1, AUC_score = f_measure({'0':ground_truths},cps,20)\n",
    "    covering_score = covering({'0':ground_truths},cps,n)\n",
    "    F1.append(f1)\n",
    "    AUC.append(AUC_score)\n",
    "    Covering.append(covering_score)\n",
    "\n",
    "print(np.mean(F1))\n",
    "print(np.std(Covering))\n",
    "print(np.std(AUC))"
   ]
  },
  {
   "cell_type": "code",
   "execution_count": 51,
   "metadata": {},
   "outputs": [
    {
     "name": "stdout",
     "output_type": "stream",
     "text": [
      "0.6844444444444445\n",
      "0.7847463171351448\n",
      "0.6916666666666668\n"
     ]
    }
   ],
   "source": [
    "with open(\"./R/res/MNIST_BOCPD.json\") as f:\n",
    "    ECP_Results = json.load(f)\n",
    "\n",
    "\n",
    "F1,Covering, AUC = [],[],[]\n",
    "\n",
    "for id, cps in ECP_Results.items():\n",
    "    #print(cps)\n",
    "    ground_truths = data_out[int(id)]['labels']\n",
    "    n = ground_truths[-1] + 200\n",
    "    cps = cps[0][1:]\n",
    "    #print(cps)\n",
    "    f1, AUC_score = f_measure({'0':ground_truths},cps,20)\n",
    "    covering_score = covering({'0':ground_truths},cps,n)\n",
    "    F1.append(f1)\n",
    "    AUC.append(AUC_score)\n",
    "    #print(AUC_score)\n",
    "    Covering.append(covering_score)\n",
    "\n",
    "print(np.mean(F1))\n",
    "print(np.mean(Covering))\n",
    "print(np.mean(AUC))"
   ]
  }
 ],
 "metadata": {
  "kernelspec": {
   "display_name": "torch",
   "language": "python",
   "name": "python3"
  },
  "language_info": {
   "codemirror_mode": {
    "name": "ipython",
    "version": 3
   },
   "file_extension": ".py",
   "mimetype": "text/x-python",
   "name": "python",
   "nbconvert_exporter": "python",
   "pygments_lexer": "ipython3",
   "version": "3.12.3"
  }
 },
 "nbformat": 4,
 "nbformat_minor": 2
}
