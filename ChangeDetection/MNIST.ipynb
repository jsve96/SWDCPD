{
 "cells": [
  {
   "cell_type": "code",
   "execution_count": 8,
   "metadata": {},
   "outputs": [],
   "source": [
    "import torch\n",
    "from torchvision import datasets\n",
    "from torch.utils.data import DataLoader\n",
    "from torchvision import transforms\n",
    "import numpy as np\n",
    "from utilsCPD import *\n",
    "import matplotlib.pyplot as plt\n",
    "from SWCPD import BaseDetector as SWDCP\n",
    "import time\n",
    "\n",
    "\n",
    "BATCH_SIZE  =32\n",
    "mnist_transforms = transforms.Compose([transforms.ToTensor()])\n",
    "train_val_dataset = datasets.MNIST(root=\"./datasets/\", train=True, download=True, transform=mnist_transforms)\n",
    "test_dataset = datasets.MNIST(root=\"./datasets/\", train=False, download=True, transform=mnist_transforms)\n",
    "train_size = int(0.9 * len(train_val_dataset))\n",
    "val_size = len(train_val_dataset) - train_size\n",
    "train_dataset, val_dataset = torch.utils.data.random_split(dataset=train_val_dataset, lengths=[train_size, val_size])\n",
    "train_dataloader = DataLoader(dataset=train_dataset, batch_size=BATCH_SIZE, shuffle=True)\n",
    "val_dataloader = DataLoader(dataset=val_dataset, batch_size=BATCH_SIZE, shuffle=True)\n",
    "test_dataloader = DataLoader(dataset=test_dataset, batch_size=BATCH_SIZE, shuffle=True)"
   ]
  },
  {
   "cell_type": "code",
   "execution_count": 9,
   "metadata": {},
   "outputs": [
    {
     "name": "stdout",
     "output_type": "stream",
     "text": [
      "torch.Size([10000, 784])\n"
     ]
    }
   ],
   "source": [
    "all_batches = []\n",
    "all_labels =[]\n",
    "torch.manual_seed(10)\n",
    "for x,y in test_dataloader:\n",
    "    bs = x.shape[0]\n",
    "    all_batches.append(x.flatten().reshape(bs,784))\n",
    "    all_labels.append(y)\n",
    "\n",
    "all_batches = torch.cat(all_batches,dim=0)\n",
    "all_labels = torch.cat(all_labels,dim=0)\n",
    "\n",
    "print(all_batches.shape)"
   ]
  },
  {
   "cell_type": "code",
   "execution_count": 10,
   "metadata": {},
   "outputs": [
    {
     "name": "stdout",
     "output_type": "stream",
     "text": [
      "[(3, 9, 8), (6, 5, 8), (0, 4, 3), (6, 7, 8), (4, 3, 0)]\n"
     ]
    },
    {
     "data": {
      "text/plain": [
       "(array([[0., 0., 0., ..., 0., 0., 0.],\n",
       "        [0., 0., 0., ..., 0., 0., 0.],\n",
       "        [0., 0., 0., ..., 0., 0., 0.],\n",
       "        ...,\n",
       "        [0., 0., 0., ..., 0., 0., 0.],\n",
       "        [0., 0., 0., ..., 0., 0., 0.],\n",
       "        [0., 0., 0., ..., 0., 0., 0.]], dtype=float32),\n",
       " array([200, 400]))"
      ]
     },
     "execution_count": 10,
     "metadata": {},
     "output_type": "execute_result"
    }
   ],
   "source": [
    "Labels_Sampled = []\n",
    "seed = 2025\n",
    "rng = np.random.default_rng(seed)\n",
    "\n",
    "\n",
    "def sample_classes(seed,n_classes = 3,nb_experiments=5):\n",
    "    rng = np.random.default_rng(seed)\n",
    "    Labels_Sampled = []\n",
    "    for run in range(nb_experiments):\n",
    "        l = tuple(rng.choice(np.arange(10),n_classes,replace=False))\n",
    "        if l not in Labels_Sampled:\n",
    "            Labels_Sampled.append(l)\n",
    "    return Labels_Sampled\n",
    "\n",
    "Labels_Sampled = sample_classes(seed=seed, n_classes=3,nb_experiments=5)\n",
    "\n",
    "print(Labels_Sampled)\n",
    "def FilterData(all_batches,all_labels,lables,N_Samples=200):\n",
    "    data = []\n",
    "    cps = []\n",
    "    for l in lables:\n",
    "        d =all_batches[all_labels==l].detach().numpy()\n",
    "        data.append(d[:N_Samples])\n",
    "        cps.append(len(d[:N_Samples]))\n",
    "    return np.vstack(data),np.cumsum(cps)[:-1]\n",
    "\n",
    "\n",
    "FilterData(all_batches,all_labels,list(Labels_Sampled[0]))\n"
   ]
  },
  {
   "cell_type": "code",
   "execution_count": 4,
   "metadata": {},
   "outputs": [
    {
     "data": {
      "text/plain": [
       "[[(3, 9, 8), (6, 5, 8), (0, 4, 3), (6, 7, 8), (4, 3, 0)],\n",
       " [(3, 7, 8, 9), (8, 3, 6, 5), (7, 6, 3, 8), (8, 7, 3, 2), (6, 7, 4, 2)],\n",
       " [(2, 6, 3, 7, 9),\n",
       "  (5, 2, 3, 4, 0),\n",
       "  (4, 0, 3, 8, 2),\n",
       "  (4, 6, 7, 0, 2),\n",
       "  (0, 1, 9, 3, 2)]]"
      ]
     },
     "execution_count": 4,
     "metadata": {},
     "output_type": "execute_result"
    }
   ],
   "source": [
    "LABELS_Sampled = [sample_classes(seed=seed,n_classes=3,nb_experiments=5),sample_classes(seed=seed, n_classes=4,nb_experiments=5),sample_classes(seed=seed, n_classes=5,nb_experiments=5)]\n",
    "LABELS_Sampled"
   ]
  },
  {
   "cell_type": "code",
   "execution_count": 67,
   "metadata": {},
   "outputs": [
    {
     "name": "stdout",
     "output_type": "stream",
     "text": [
      "0\n",
      "[200 400]\n",
      "cuda\n"
     ]
    },
    {
     "name": "stderr",
     "output_type": "stream",
     "text": [
      " 32%|███▏      | 174/551 [00:04<00:08, 44.19it/s]"
     ]
    },
    {
     "name": "stdout",
     "output_type": "stream",
     "text": [
      "Change detected at: 214 \n",
      "Initiate new segment\n"
     ]
    },
    {
     "name": "stderr",
     "output_type": "stream",
     "text": [
      " 68%|██████▊   | 372/551 [00:08<00:03, 58.04it/s]"
     ]
    },
    {
     "name": "stdout",
     "output_type": "stream",
     "text": [
      "Change detected at: 415 \n",
      "Initiate new segment\n"
     ]
    },
    {
     "name": "stderr",
     "output_type": "stream",
     "text": [
      "100%|██████████| 551/551 [00:11<00:00, 48.72it/s]\n"
     ]
    },
    {
     "name": "stdout",
     "output_type": "stream",
     "text": [
      "F1 score: 1.0\n",
      "Covering: 0.9082319061073679\n",
      "1.0\n",
      "F1 score: 0.3333333333333333\n",
      "Covering: 0.9082319061073679\n",
      "0.3333333333333333\n",
      "F1 score: 0.3333333333333333\n",
      "Covering: 0.9082319061073679\n",
      "0.3333333333333333\n",
      "F1 score: 1.0\n",
      "Covering: 0.9082319061073679\n",
      "1.0\n",
      "F1 score: 1.0\n",
      "Covering: 0.9082319061073679\n",
      "1.0\n",
      "{'F1': 1.0, 'Covering': 0.9082319061073679, 'AUC': 1.0, 'DD': 14.5, 'FP': 0, 'RunTime': 11.309395551681519}\n",
      "1\n",
      "[200 400]\n",
      "cuda\n"
     ]
    },
    {
     "name": "stderr",
     "output_type": "stream",
     "text": [
      " 31%|███       | 171/551 [00:02<00:06, 59.98it/s]"
     ]
    },
    {
     "name": "stdout",
     "output_type": "stream",
     "text": [
      "Change detected at: 210 \n",
      "Initiate new segment\n"
     ]
    },
    {
     "name": "stderr",
     "output_type": "stream",
     "text": [
      "100%|██████████| 551/551 [00:08<00:00, 63.84it/s]\n"
     ]
    },
    {
     "name": "stdout",
     "output_type": "stream",
     "text": [
      "F1 score: 0.8\n",
      "Covering: 0.6467338217338217\n",
      "0.8333333333333333\n",
      "F1 score: 0.4\n",
      "Covering: 0.6467338217338217\n",
      "0.4166666666666667\n",
      "F1 score: 0.8\n",
      "Covering: 0.6467338217338217\n",
      "0.8333333333333333\n",
      "F1 score: 0.8\n",
      "Covering: 0.6467338217338217\n",
      "0.8333333333333333\n",
      "F1 score: 0.8\n",
      "Covering: 0.6467338217338217\n",
      "0.8333333333333333\n",
      "{'F1': 0.8, 'Covering': 0.6467338217338217, 'AUC': 0.8333333333333333, 'DD': 10.0, 'FP': 0, 'RunTime': 8.632843017578125}\n",
      "2\n",
      "[200 400]\n",
      "cuda\n"
     ]
    },
    {
     "name": "stderr",
     "output_type": "stream",
     "text": [
      " 30%|███       | 167/551 [00:03<00:08, 47.27it/s]"
     ]
    },
    {
     "name": "stdout",
     "output_type": "stream",
     "text": [
      "Change detected at: 210 \n",
      "Initiate new segment\n"
     ]
    },
    {
     "name": "stderr",
     "output_type": "stream",
     "text": [
      " 67%|██████▋   | 367/551 [00:08<00:04, 41.72it/s]"
     ]
    },
    {
     "name": "stdout",
     "output_type": "stream",
     "text": [
      "Change detected at: 410 \n",
      "Initiate new segment\n"
     ]
    },
    {
     "name": "stderr",
     "output_type": "stream",
     "text": [
      "100%|██████████| 551/551 [00:12<00:00, 44.41it/s]\n"
     ]
    },
    {
     "name": "stdout",
     "output_type": "stream",
     "text": [
      "F1 score: 1.0\n",
      "Covering: 0.9357142857142857\n",
      "1.0\n",
      "F1 score: 0.3333333333333333\n",
      "Covering: 0.9357142857142857\n",
      "0.3333333333333333\n",
      "F1 score: 1.0\n",
      "Covering: 0.9357142857142857\n",
      "1.0\n",
      "F1 score: 1.0\n",
      "Covering: 0.9357142857142857\n",
      "1.0\n",
      "F1 score: 1.0\n",
      "Covering: 0.9357142857142857\n",
      "1.0\n",
      "{'F1': 1.0, 'Covering': 0.9357142857142857, 'AUC': 1.0, 'DD': 10.0, 'FP': 0, 'RunTime': 12.416941165924072}\n",
      "3\n",
      "[200 400]\n",
      "cuda\n"
     ]
    },
    {
     "name": "stderr",
     "output_type": "stream",
     "text": [
      " 30%|██▉       | 163/551 [00:04<00:09, 40.81it/s]"
     ]
    },
    {
     "name": "stdout",
     "output_type": "stream",
     "text": [
      "Change detected at: 208 \n",
      "Initiate new segment\n"
     ]
    },
    {
     "name": "stderr",
     "output_type": "stream",
     "text": [
      " 67%|██████▋   | 369/551 [00:09<00:04, 40.67it/s]"
     ]
    },
    {
     "name": "stdout",
     "output_type": "stream",
     "text": [
      "Change detected at: 412 \n",
      "Initiate new segment\n"
     ]
    },
    {
     "name": "stderr",
     "output_type": "stream",
     "text": [
      "100%|██████████| 551/551 [00:13<00:00, 40.13it/s]\n"
     ]
    },
    {
     "name": "stdout",
     "output_type": "stream",
     "text": [
      "F1 score: 1.0\n",
      "Covering: 0.9357329462989841\n",
      "1.0\n",
      "F1 score: 0.3333333333333333\n",
      "Covering: 0.9357329462989841\n",
      "0.3333333333333333\n",
      "F1 score: 0.6666666666666666\n",
      "Covering: 0.9357329462989841\n",
      "0.6666666666666666\n",
      "F1 score: 1.0\n",
      "Covering: 0.9357329462989841\n",
      "1.0\n",
      "F1 score: 1.0\n",
      "Covering: 0.9357329462989841\n",
      "1.0\n",
      "{'F1': 1.0, 'Covering': 0.9357329462989841, 'AUC': 1.0, 'DD': 10.0, 'FP': 0, 'RunTime': 13.73046875}\n",
      "4\n",
      "[200 400]\n",
      "cuda\n"
     ]
    },
    {
     "name": "stderr",
     "output_type": "stream",
     "text": [
      " 30%|███       | 166/551 [00:03<00:08, 47.77it/s]"
     ]
    },
    {
     "name": "stdout",
     "output_type": "stream",
     "text": [
      "Change detected at: 210 \n",
      "Initiate new segment\n"
     ]
    },
    {
     "name": "stderr",
     "output_type": "stream",
     "text": [
      " 66%|██████▌   | 364/551 [00:07<00:03, 47.28it/s]"
     ]
    },
    {
     "name": "stdout",
     "output_type": "stream",
     "text": [
      "Change detected at: 406 \n",
      "Initiate new segment\n"
     ]
    },
    {
     "name": "stderr",
     "output_type": "stream",
     "text": [
      "100%|██████████| 551/551 [00:11<00:00, 47.84it/s]\n"
     ]
    },
    {
     "name": "stdout",
     "output_type": "stream",
     "text": [
      "F1 score: 1.0\n",
      "Covering: 0.9482370164894436\n",
      "1.0\n",
      "F1 score: 0.3333333333333333\n",
      "Covering: 0.9482370164894436\n",
      "0.3333333333333333\n",
      "F1 score: 1.0\n",
      "Covering: 0.9482370164894436\n",
      "1.0\n",
      "F1 score: 1.0\n",
      "Covering: 0.9482370164894436\n",
      "1.0\n",
      "F1 score: 1.0\n",
      "Covering: 0.9482370164894436\n",
      "1.0\n",
      "{'F1': 1.0, 'Covering': 0.9482370164894436, 'AUC': 1.0, 'DD': 8.0, 'FP': 0, 'RunTime': 11.52855134010315}\n",
      "5\n",
      "[200 400 600]\n",
      "cuda\n"
     ]
    },
    {
     "name": "stderr",
     "output_type": "stream",
     "text": [
      " 22%|██▏       | 164/751 [00:03<00:12, 48.27it/s]"
     ]
    },
    {
     "name": "stdout",
     "output_type": "stream",
     "text": [
      "Change detected at: 208 \n",
      "Initiate new segment\n"
     ]
    },
    {
     "name": "stderr",
     "output_type": "stream",
     "text": [
      " 49%|████▉     | 371/751 [00:08<00:08, 44.06it/s]"
     ]
    },
    {
     "name": "stdout",
     "output_type": "stream",
     "text": [
      "Change detected at: 412 \n",
      "Initiate new segment\n"
     ]
    },
    {
     "name": "stderr",
     "output_type": "stream",
     "text": [
      " 77%|███████▋  | 579/751 [00:12<00:03, 48.59it/s]"
     ]
    },
    {
     "name": "stdout",
     "output_type": "stream",
     "text": [
      "Change detected at: 623 \n",
      "Initiate new segment\n"
     ]
    },
    {
     "name": "stderr",
     "output_type": "stream",
     "text": [
      "100%|██████████| 751/751 [00:16<00:00, 46.55it/s]\n"
     ]
    },
    {
     "name": "stdout",
     "output_type": "stream",
     "text": [
      "F1 score: 0.75\n",
      "Covering: 0.898812041562803\n",
      "0.75\n",
      "F1 score: 0.25\n",
      "Covering: 0.898812041562803\n",
      "0.25\n",
      "F1 score: 0.5\n",
      "Covering: 0.898812041562803\n",
      "0.5\n",
      "F1 score: 0.75\n",
      "Covering: 0.898812041562803\n",
      "0.75\n",
      "F1 score: 1.0\n",
      "Covering: 0.898812041562803\n",
      "1.0\n",
      "{'F1': 0.75, 'Covering': 0.898812041562803, 'AUC': 0.75, 'DD': 14.333333333333334, 'FP': 1, 'RunTime': 16.13359570503235}\n",
      "6\n",
      "[200 400 600]\n",
      "cuda\n"
     ]
    },
    {
     "name": "stderr",
     "output_type": "stream",
     "text": [
      " 23%|██▎       | 171/751 [00:03<00:11, 49.29it/s]"
     ]
    },
    {
     "name": "stdout",
     "output_type": "stream",
     "text": [
      "Change detected at: 215 \n",
      "Initiate new segment\n"
     ]
    },
    {
     "name": "stderr",
     "output_type": "stream",
     "text": [
      " 48%|████▊     | 363/751 [00:07<00:08, 45.79it/s]"
     ]
    },
    {
     "name": "stdout",
     "output_type": "stream",
     "text": [
      "Change detected at: 404 \n",
      "Initiate new segment\n"
     ]
    },
    {
     "name": "stderr",
     "output_type": "stream",
     "text": [
      " 76%|███████▌  | 569/751 [00:12<00:04, 43.37it/s]"
     ]
    },
    {
     "name": "stdout",
     "output_type": "stream",
     "text": [
      "Change detected at: 610 \n",
      "Initiate new segment\n"
     ]
    },
    {
     "name": "stderr",
     "output_type": "stream",
     "text": [
      "100%|██████████| 751/751 [00:16<00:00, 46.52it/s]\n"
     ]
    },
    {
     "name": "stdout",
     "output_type": "stream",
     "text": [
      "F1 score: 1.0\n",
      "Covering: 0.9301071591427268\n",
      "1.0\n",
      "F1 score: 0.5\n",
      "Covering: 0.9301071591427268\n",
      "0.5\n",
      "F1 score: 0.75\n",
      "Covering: 0.9301071591427268\n",
      "0.75\n",
      "F1 score: 1.0\n",
      "Covering: 0.9301071591427268\n",
      "1.0\n",
      "F1 score: 1.0\n",
      "Covering: 0.9301071591427268\n",
      "1.0\n",
      "{'F1': 1.0, 'Covering': 0.9301071591427268, 'AUC': 1.0, 'DD': 9.666666666666666, 'FP': 0, 'RunTime': 16.14554452896118}\n",
      "7\n",
      "[200 400 600]\n",
      "cuda\n"
     ]
    },
    {
     "name": "stderr",
     "output_type": "stream",
     "text": [
      " 22%|██▏       | 166/751 [00:03<00:12, 47.00it/s]"
     ]
    },
    {
     "name": "stdout",
     "output_type": "stream",
     "text": [
      "Change detected at: 209 \n",
      "Initiate new segment\n"
     ]
    },
    {
     "name": "stderr",
     "output_type": "stream",
     "text": [
      " 49%|████▉     | 369/751 [00:07<00:07, 52.56it/s]"
     ]
    },
    {
     "name": "stdout",
     "output_type": "stream",
     "text": [
      "Change detected at: 411 \n",
      "Initiate new segment\n"
     ]
    },
    {
     "name": "stderr",
     "output_type": "stream",
     "text": [
      " 76%|███████▌  | 572/751 [00:12<00:04, 44.50it/s]"
     ]
    },
    {
     "name": "stdout",
     "output_type": "stream",
     "text": [
      "Change detected at: 615 \n",
      "Initiate new segment\n"
     ]
    },
    {
     "name": "stderr",
     "output_type": "stream",
     "text": [
      "100%|██████████| 751/751 [00:16<00:00, 46.50it/s]\n"
     ]
    },
    {
     "name": "stdout",
     "output_type": "stream",
     "text": [
      "F1 score: 1.0\n",
      "Covering: 0.9165552091567757\n",
      "1.0\n",
      "F1 score: 0.25\n",
      "Covering: 0.9165552091567757\n",
      "0.25\n",
      "F1 score: 0.5\n",
      "Covering: 0.9165552091567757\n",
      "0.5\n",
      "F1 score: 1.0\n",
      "Covering: 0.9165552091567757\n",
      "1.0\n",
      "F1 score: 1.0\n",
      "Covering: 0.9165552091567757\n",
      "1.0\n",
      "{'F1': 1.0, 'Covering': 0.9165552091567757, 'AUC': 1.0, 'DD': 11.666666666666666, 'FP': 0, 'RunTime': 16.16036605834961}\n",
      "8\n",
      "[200 400 600]\n",
      "cuda\n"
     ]
    },
    {
     "name": "stderr",
     "output_type": "stream",
     "text": [
      " 23%|██▎       | 171/751 [00:03<00:13, 43.21it/s]"
     ]
    },
    {
     "name": "stdout",
     "output_type": "stream",
     "text": [
      "Change detected at: 215 \n",
      "Initiate new segment\n"
     ]
    },
    {
     "name": "stderr",
     "output_type": "stream",
     "text": [
      " 49%|████▉     | 368/751 [00:07<00:08, 44.29it/s]"
     ]
    },
    {
     "name": "stdout",
     "output_type": "stream",
     "text": [
      "Change detected at: 413 \n",
      "Initiate new segment\n"
     ]
    },
    {
     "name": "stderr",
     "output_type": "stream",
     "text": [
      " 76%|███████▌  | 568/751 [00:12<00:03, 52.36it/s]"
     ]
    },
    {
     "name": "stdout",
     "output_type": "stream",
     "text": [
      "Change detected at: 612 \n",
      "Initiate new segment\n"
     ]
    },
    {
     "name": "stderr",
     "output_type": "stream",
     "text": [
      "100%|██████████| 751/751 [00:16<00:00, 46.83it/s]\n"
     ]
    },
    {
     "name": "stdout",
     "output_type": "stream",
     "text": [
      "F1 score: 1.0\n",
      "Covering: 0.9052131576941538\n",
      "1.0\n",
      "F1 score: 0.25\n",
      "Covering: 0.9052131576941538\n",
      "0.25\n",
      "F1 score: 0.25\n",
      "Covering: 0.9052131576941538\n",
      "0.25\n",
      "F1 score: 1.0\n",
      "Covering: 0.9052131576941538\n",
      "1.0\n",
      "F1 score: 1.0\n",
      "Covering: 0.9052131576941538\n",
      "1.0\n",
      "{'F1': 1.0, 'Covering': 0.9052131576941538, 'AUC': 1.0, 'DD': 13.333333333333334, 'FP': 0, 'RunTime': 16.047014236450195}\n",
      "9\n",
      "[200 400 600]\n",
      "cuda\n"
     ]
    },
    {
     "name": "stderr",
     "output_type": "stream",
     "text": [
      " 22%|██▏       | 164/751 [00:03<00:11, 50.18it/s]"
     ]
    },
    {
     "name": "stdout",
     "output_type": "stream",
     "text": [
      "Change detected at: 208 \n",
      "Initiate new segment\n"
     ]
    },
    {
     "name": "stderr",
     "output_type": "stream",
     "text": [
      " 50%|█████     | 376/751 [00:07<00:07, 49.46it/s]"
     ]
    },
    {
     "name": "stdout",
     "output_type": "stream",
     "text": [
      "Change detected at: 419 \n",
      "Initiate new segment\n"
     ]
    },
    {
     "name": "stderr",
     "output_type": "stream",
     "text": [
      " 76%|███████▌  | 571/751 [00:11<00:03, 47.93it/s]"
     ]
    },
    {
     "name": "stdout",
     "output_type": "stream",
     "text": [
      "Change detected at: 612 \n",
      "Initiate new segment\n"
     ]
    },
    {
     "name": "stderr",
     "output_type": "stream",
     "text": [
      "100%|██████████| 751/751 [00:15<00:00, 48.40it/s]\n"
     ]
    },
    {
     "name": "stdout",
     "output_type": "stream",
     "text": [
      "F1 score: 1.0\n",
      "Covering: 0.9080060938028113\n",
      "1.0\n",
      "F1 score: 0.25\n",
      "Covering: 0.9080060938028113\n",
      "0.25\n",
      "F1 score: 0.5\n",
      "Covering: 0.9080060938028113\n",
      "0.5\n",
      "F1 score: 0.75\n",
      "Covering: 0.9080060938028113\n",
      "0.75\n",
      "F1 score: 1.0\n",
      "Covering: 0.9080060938028113\n",
      "1.0\n",
      "{'F1': 1.0, 'Covering': 0.9080060938028113, 'AUC': 1.0, 'DD': 13.0, 'FP': 0, 'RunTime': 15.51596713066101}\n",
      "10\n",
      "[200 400 600 800]\n",
      "cuda\n"
     ]
    },
    {
     "name": "stderr",
     "output_type": "stream",
     "text": [
      " 19%|█▉        | 180/951 [00:03<00:15, 49.72it/s]"
     ]
    },
    {
     "name": "stdout",
     "output_type": "stream",
     "text": [
      "Change detected at: 220 \n",
      "Initiate new segment\n"
     ]
    },
    {
     "name": "stderr",
     "output_type": "stream",
     "text": [
      " 39%|███▉      | 370/951 [00:07<00:13, 43.51it/s]"
     ]
    },
    {
     "name": "stdout",
     "output_type": "stream",
     "text": [
      "Change detected at: 411 \n",
      "Initiate new segment\n"
     ]
    },
    {
     "name": "stderr",
     "output_type": "stream",
     "text": [
      " 59%|█████▉    | 565/951 [00:11<00:08, 47.14it/s]"
     ]
    },
    {
     "name": "stdout",
     "output_type": "stream",
     "text": [
      "Change detected at: 608 \n",
      "Initiate new segment\n"
     ]
    },
    {
     "name": "stderr",
     "output_type": "stream",
     "text": [
      " 81%|████████▏ | 775/951 [00:16<00:03, 47.24it/s]"
     ]
    },
    {
     "name": "stdout",
     "output_type": "stream",
     "text": [
      "Change detected at: 819 \n",
      "Initiate new segment\n"
     ]
    },
    {
     "name": "stderr",
     "output_type": "stream",
     "text": [
      "100%|██████████| 951/951 [00:19<00:00, 47.58it/s]\n"
     ]
    },
    {
     "name": "stdout",
     "output_type": "stream",
     "text": [
      "F1 score: 1.0\n",
      "Covering: 0.8905075305464516\n",
      "1.0\n",
      "F1 score: 0.20000000000000004\n",
      "Covering: 0.8905075305464516\n",
      "0.2\n",
      "F1 score: 0.4000000000000001\n",
      "Covering: 0.8905075305464516\n",
      "0.39999999999999997\n",
      "F1 score: 0.6\n",
      "Covering: 0.8905075305464516\n",
      "0.6\n",
      "F1 score: 1.0\n",
      "Covering: 0.8905075305464516\n",
      "1.0\n",
      "{'F1': 1.0, 'Covering': 0.8905075305464516, 'AUC': 1.0, 'DD': 14.5, 'FP': 0, 'RunTime': 19.99051523208618}\n",
      "11\n",
      "[200 400 600 800]\n",
      "cuda\n"
     ]
    },
    {
     "name": "stderr",
     "output_type": "stream",
     "text": [
      " 19%|█▊        | 177/951 [00:03<00:16, 46.42it/s]"
     ]
    },
    {
     "name": "stdout",
     "output_type": "stream",
     "text": [
      "Change detected at: 218 \n",
      "Initiate new segment\n"
     ]
    },
    {
     "name": "stderr",
     "output_type": "stream",
     "text": [
      " 39%|███▉      | 375/951 [00:08<00:13, 44.11it/s]"
     ]
    },
    {
     "name": "stdout",
     "output_type": "stream",
     "text": [
      "Change detected at: 417 \n",
      "Initiate new segment\n"
     ]
    },
    {
     "name": "stderr",
     "output_type": "stream",
     "text": [
      " 60%|█████▉    | 568/951 [00:12<00:08, 44.95it/s]"
     ]
    },
    {
     "name": "stdout",
     "output_type": "stream",
     "text": [
      "Change detected at: 609 \n",
      "Initiate new segment\n"
     ]
    },
    {
     "name": "stderr",
     "output_type": "stream",
     "text": [
      " 81%|████████  | 766/951 [00:16<00:04, 44.45it/s]"
     ]
    },
    {
     "name": "stdout",
     "output_type": "stream",
     "text": [
      "Change detected at: 808 \n",
      "Initiate new segment\n"
     ]
    },
    {
     "name": "stderr",
     "output_type": "stream",
     "text": [
      "100%|██████████| 951/951 [00:21<00:00, 45.09it/s]\n"
     ]
    },
    {
     "name": "stdout",
     "output_type": "stream",
     "text": [
      "F1 score: 1.0\n",
      "Covering: 0.9020016373947076\n",
      "1.0\n",
      "F1 score: 0.20000000000000004\n",
      "Covering: 0.9020016373947076\n",
      "0.2\n",
      "F1 score: 0.6\n",
      "Covering: 0.9020016373947076\n",
      "0.6\n",
      "F1 score: 0.6\n",
      "Covering: 0.9020016373947076\n",
      "0.6\n",
      "F1 score: 1.0\n",
      "Covering: 0.9020016373947076\n",
      "1.0\n",
      "{'F1': 1.0, 'Covering': 0.9020016373947076, 'AUC': 1.0, 'DD': 13.0, 'FP': 0, 'RunTime': 21.091747045516968}\n",
      "12\n",
      "[200 400 600 800]\n",
      "cuda\n"
     ]
    },
    {
     "name": "stderr",
     "output_type": "stream",
     "text": [
      " 17%|█▋        | 165/951 [00:02<00:17, 45.80it/s]"
     ]
    },
    {
     "name": "stdout",
     "output_type": "stream",
     "text": [
      "Change detected at: 208 \n",
      "Initiate new segment\n"
     ]
    },
    {
     "name": "stderr",
     "output_type": "stream",
     "text": [
      " 39%|███▊      | 368/951 [00:06<00:11, 49.57it/s]"
     ]
    },
    {
     "name": "stdout",
     "output_type": "stream",
     "text": [
      "Change detected at: 410 \n",
      "Initiate new segment\n"
     ]
    },
    {
     "name": "stderr",
     "output_type": "stream",
     "text": [
      " 60%|██████    | 571/951 [00:11<00:08, 45.30it/s]"
     ]
    },
    {
     "name": "stdout",
     "output_type": "stream",
     "text": [
      "Change detected at: 615 \n",
      "Initiate new segment\n"
     ]
    },
    {
     "name": "stderr",
     "output_type": "stream",
     "text": [
      " 81%|████████  | 771/951 [00:15<00:03, 45.90it/s]"
     ]
    },
    {
     "name": "stdout",
     "output_type": "stream",
     "text": [
      "Change detected at: 815 \n",
      "Initiate new segment\n"
     ]
    },
    {
     "name": "stderr",
     "output_type": "stream",
     "text": [
      "100%|██████████| 951/951 [00:19<00:00, 49.27it/s]\n"
     ]
    },
    {
     "name": "stdout",
     "output_type": "stream",
     "text": [
      "F1 score: 1.0\n",
      "Covering: 0.9090020444671607\n",
      "1.0\n",
      "F1 score: 0.20000000000000004\n",
      "Covering: 0.9090020444671607\n",
      "0.2\n",
      "F1 score: 0.6\n",
      "Covering: 0.9090020444671607\n",
      "0.6\n",
      "F1 score: 1.0\n",
      "Covering: 0.9090020444671607\n",
      "1.0\n",
      "F1 score: 1.0\n",
      "Covering: 0.9090020444671607\n",
      "1.0\n",
      "{'F1': 1.0, 'Covering': 0.9090020444671607, 'AUC': 1.0, 'DD': 12.0, 'FP': 0, 'RunTime': 19.305055856704712}\n",
      "13\n",
      "[200 400 600 800]\n",
      "cuda\n"
     ]
    },
    {
     "name": "stderr",
     "output_type": "stream",
     "text": [
      " 18%|█▊        | 173/951 [00:03<00:16, 48.01it/s]"
     ]
    },
    {
     "name": "stdout",
     "output_type": "stream",
     "text": [
      "Change detected at: 215 \n",
      "Initiate new segment\n"
     ]
    },
    {
     "name": "stderr",
     "output_type": "stream",
     "text": [
      " 38%|███▊      | 366/951 [00:07<00:10, 54.22it/s]"
     ]
    },
    {
     "name": "stdout",
     "output_type": "stream",
     "text": [
      "Change detected at: 408 \n",
      "Initiate new segment\n"
     ]
    },
    {
     "name": "stderr",
     "output_type": "stream",
     "text": [
      " 60%|█████▉    | 567/951 [00:11<00:08, 45.33it/s]"
     ]
    },
    {
     "name": "stdout",
     "output_type": "stream",
     "text": [
      "Change detected at: 608 \n",
      "Initiate new segment\n"
     ]
    },
    {
     "name": "stderr",
     "output_type": "stream",
     "text": [
      " 81%|████████  | 769/951 [00:16<00:03, 45.63it/s]"
     ]
    },
    {
     "name": "stdout",
     "output_type": "stream",
     "text": [
      "Change detected at: 811 \n",
      "Initiate new segment\n"
     ]
    },
    {
     "name": "stderr",
     "output_type": "stream",
     "text": [
      "100%|██████████| 951/951 [00:20<00:00, 47.26it/s]\n"
     ]
    },
    {
     "name": "stdout",
     "output_type": "stream",
     "text": [
      "F1 score: 1.0\n",
      "Covering: 0.9195370329549212\n",
      "1.0\n",
      "F1 score: 0.20000000000000004\n",
      "Covering: 0.9195370329549212\n",
      "0.2\n",
      "F1 score: 0.6\n",
      "Covering: 0.9195370329549212\n",
      "0.6\n",
      "F1 score: 1.0\n",
      "Covering: 0.9195370329549212\n",
      "1.0\n",
      "F1 score: 1.0\n",
      "Covering: 0.9195370329549212\n",
      "1.0\n",
      "{'F1': 1.0, 'Covering': 0.9195370329549212, 'AUC': 1.0, 'DD': 10.5, 'FP': 0, 'RunTime': 20.12400507926941}\n",
      "14\n",
      "[200 400 600 800]\n",
      "cuda\n"
     ]
    },
    {
     "name": "stderr",
     "output_type": "stream",
     "text": [
      " 17%|█▋        | 165/951 [00:03<00:16, 48.46it/s]"
     ]
    },
    {
     "name": "stdout",
     "output_type": "stream",
     "text": [
      "Change detected at: 208 \n",
      "Initiate new segment\n"
     ]
    },
    {
     "name": "stderr",
     "output_type": "stream",
     "text": [
      " 35%|███▍      | 332/951 [00:06<00:12, 48.17it/s]"
     ]
    },
    {
     "name": "stdout",
     "output_type": "stream",
     "text": [
      "Change detected at: 374 \n",
      "Initiate new segment\n"
     ]
    },
    {
     "name": "stderr",
     "output_type": "stream",
     "text": [
      " 38%|███▊      | 363/951 [00:07<00:12, 48.15it/s]"
     ]
    },
    {
     "name": "stdout",
     "output_type": "stream",
     "text": [
      "Change detected at: 406 \n",
      "Initiate new segment\n"
     ]
    },
    {
     "name": "stderr",
     "output_type": "stream",
     "text": [
      " 60%|██████    | 571/951 [00:11<00:08, 44.54it/s]"
     ]
    },
    {
     "name": "stdout",
     "output_type": "stream",
     "text": [
      "Change detected at: 612 \n",
      "Initiate new segment\n"
     ]
    },
    {
     "name": "stderr",
     "output_type": "stream",
     "text": [
      " 81%|████████  | 771/951 [00:16<00:04, 44.94it/s]"
     ]
    },
    {
     "name": "stdout",
     "output_type": "stream",
     "text": [
      "Change detected at: 812 \n",
      "Initiate new segment\n"
     ]
    },
    {
     "name": "stderr",
     "output_type": "stream",
     "text": [
      "100%|██████████| 951/951 [00:20<00:00, 46.83it/s]"
     ]
    },
    {
     "name": "stdout",
     "output_type": "stream",
     "text": [
      "F1 score: 0.9090909090909091\n",
      "Covering: 0.9066850507982583\n",
      "0.9166666666666667\n",
      "F1 score: 0.1818181818181818\n",
      "Covering: 0.9066850507982583\n",
      "0.18333333333333335\n",
      "F1 score: 0.5454545454545454\n",
      "Covering: 0.9066850507982583\n",
      "0.5499999999999999\n",
      "F1 score: 0.9090909090909091\n",
      "Covering: 0.9066850507982583\n",
      "0.9166666666666667\n",
      "F1 score: 0.9090909090909091\n",
      "Covering: 0.9066850507982583\n",
      "0.9166666666666667\n",
      "{'F1': 0.9090909090909091, 'Covering': 0.9066850507982583, 'AUC': 0.9166666666666667, 'DD': 12.8, 'FP': 1, 'RunTime': 20.316514492034912}\n"
     ]
    },
    {
     "name": "stderr",
     "output_type": "stream",
     "text": [
      "\n"
     ]
    }
   ],
   "source": [
    "METRICS_SWD = {}\n",
    "METRICS_SWD_5 = {}\n",
    "METRICS_SWD_10 = {}\n",
    "METRICS_SWD_15 = {}\n",
    "METRICS_SWD_30 = {}\n",
    "\n",
    "Data_OUT = {}\n",
    "LABELS_Sampled = [sample_classes(seed=seed,n_classes=3,nb_experiments=5),sample_classes(seed=seed, n_classes=4,nb_experiments=5),sample_classes(seed=seed, n_classes=5,nb_experiments=5)]\n",
    "ind = 0\n",
    "ind2 = 0\n",
    "LABELS_Sampled\n",
    "for id,i in enumerate(range(15)):\n",
    "    print(id)\n",
    "    Data_OUT[id] = {}\n",
    "    METRICS_SWD[id]  = {}\n",
    "    METRICS_SWD_5[id] = {}\n",
    "    METRICS_SWD_10[id] = {}\n",
    "    METRICS_SWD_15[id] = {}\n",
    "    METRICS_SWD_30[id] = {}\n",
    "    if i in [5,10]:\n",
    "        ind+=1\n",
    "        ind2 = 0\n",
    "    df, GroundTruth = FilterData(all_batches,all_labels,list(LABELS_Sampled[ind][ind2]),N_Samples=200)\n",
    "    Data_OUT[id]['data'] = df\n",
    "    Data_OUT[id]['target'] = GroundTruth\n",
    "    ind2+=1\n",
    "    print(GroundTruth)\n",
    "    detector = SWDCP(data=df,window_length=50,max_history=25,significance=0.1)\n",
    "    print(detector.device)\n",
    "    start_time = time.time()\n",
    "    detector.process_dataloader(p=4,n_theta=5000,seed=2025)\n",
    "    end_time = time.time()\n",
    "    f1, covering_score, auc_score,fp,delay = detector.evaluate(GroundTruth,20)\n",
    "    METRICS_SWD[id]['F1'] = f1\n",
    "    METRICS_SWD[id]['Covering'] = covering_score\n",
    "    METRICS_SWD[id]['AUC'] = auc_score\n",
    "    METRICS_SWD[id]['DD'] = delay[1]\n",
    "    METRICS_SWD[id]['FP'] = fp\n",
    "    METRICS_SWD[id]['RunTime'] = end_time -start_time\n",
    "\n",
    "    f1, covering_score, auc_score,fp,delay = detector.evaluate(GroundTruth,5)\n",
    "    METRICS_SWD_5[id]['AUC'] = auc_score\n",
    "    METRICS_SWD_5[id]['FP'] = fp\n",
    "    f1, covering_score, auc_score,fp,delay = detector.evaluate(GroundTruth,10)\n",
    "    METRICS_SWD_10[id]['AUC'] = auc_score\n",
    "    METRICS_SWD_10[id]['FP'] = fp\n",
    "    f1, covering_score, auc_score,fp,delay = detector.evaluate(GroundTruth,15)\n",
    "    METRICS_SWD_15[id]['AUC'] = auc_score\n",
    "    METRICS_SWD_15[id]['FP'] = fp\n",
    "    f1, covering_score, auc_score,fp,delay = detector.evaluate(GroundTruth,30)\n",
    "    METRICS_SWD_30[id]['AUC'] = auc_score\n",
    "    METRICS_SWD_30[id]['FP'] = fp\n",
    "    print(METRICS_SWD[id])"
   ]
  },
  {
   "cell_type": "code",
   "execution_count": 6,
   "metadata": {},
   "outputs": [
    {
     "data": {
      "text/plain": [
       "{0: {'F1': 1.0,\n",
       "  'Covering': 0.9082319061073679,\n",
       "  'AUC': 1.0,\n",
       "  'DD': 14.5,\n",
       "  'FP': 0,\n",
       "  'RunTime': 8.714927434921265},\n",
       " 1: {'F1': 0.8,\n",
       "  'Covering': 0.6467338217338217,\n",
       "  'AUC': 0.8333333333333333,\n",
       "  'DD': 10.0,\n",
       "  'FP': 0,\n",
       "  'RunTime': 11.508496284484863},\n",
       " 2: {'F1': 1.0,\n",
       "  'Covering': 0.9357142857142857,\n",
       "  'AUC': 1.0,\n",
       "  'DD': 10.0,\n",
       "  'FP': 0,\n",
       "  'RunTime': 12.78207540512085},\n",
       " 3: {'F1': 1.0,\n",
       "  'Covering': 0.9357329462989841,\n",
       "  'AUC': 1.0,\n",
       "  'DD': 10.0,\n",
       "  'FP': 0,\n",
       "  'RunTime': 12.451367378234863},\n",
       " 4: {'F1': 1.0,\n",
       "  'Covering': 0.9482370164894436,\n",
       "  'AUC': 1.0,\n",
       "  'DD': 8.0,\n",
       "  'FP': 0,\n",
       "  'RunTime': 12.497658491134644},\n",
       " 5: {'F1': 0.75,\n",
       "  'Covering': 0.898812041562803,\n",
       "  'AUC': 0.75,\n",
       "  'DD': 14.333333333333334,\n",
       "  'FP': 1,\n",
       "  'RunTime': 17.414814472198486},\n",
       " 6: {'F1': 1.0,\n",
       "  'Covering': 0.9301071591427268,\n",
       "  'AUC': 1.0,\n",
       "  'DD': 9.666666666666666,\n",
       "  'FP': 0,\n",
       "  'RunTime': 17.21961498260498},\n",
       " 7: {'F1': 1.0,\n",
       "  'Covering': 0.9165552091567757,\n",
       "  'AUC': 1.0,\n",
       "  'DD': 11.666666666666666,\n",
       "  'FP': 0,\n",
       "  'RunTime': 17.07950448989868},\n",
       " 8: {'F1': 1.0,\n",
       "  'Covering': 0.9052131576941538,\n",
       "  'AUC': 1.0,\n",
       "  'DD': 13.333333333333334,\n",
       "  'FP': 0,\n",
       "  'RunTime': 16.93312120437622},\n",
       " 9: {'F1': 1.0,\n",
       "  'Covering': 0.9080060938028113,\n",
       "  'AUC': 1.0,\n",
       "  'DD': 13.0,\n",
       "  'FP': 0,\n",
       "  'RunTime': 17.150437593460083},\n",
       " 10: {'F1': 1.0,\n",
       "  'Covering': 0.8905075305464516,\n",
       "  'AUC': 1.0,\n",
       "  'DD': 14.5,\n",
       "  'FP': 0,\n",
       "  'RunTime': 21.432465314865112},\n",
       " 11: {'F1': 1.0,\n",
       "  'Covering': 0.9020016373947076,\n",
       "  'AUC': 1.0,\n",
       "  'DD': 13.0,\n",
       "  'FP': 0,\n",
       "  'RunTime': 21.867916345596313},\n",
       " 12: {'F1': 1.0,\n",
       "  'Covering': 0.9090020444671607,\n",
       "  'AUC': 1.0,\n",
       "  'DD': 12.0,\n",
       "  'FP': 0,\n",
       "  'RunTime': 21.847102880477905},\n",
       " 13: {'F1': 1.0,\n",
       "  'Covering': 0.9195370329549212,\n",
       "  'AUC': 1.0,\n",
       "  'DD': 10.5,\n",
       "  'FP': 0,\n",
       "  'RunTime': 22.251549005508423},\n",
       " 14: {'F1': 0.9090909090909091,\n",
       "  'Covering': 0.9066850507982583,\n",
       "  'AUC': 0.9166666666666667,\n",
       "  'DD': 12.8,\n",
       "  'FP': 1,\n",
       "  'RunTime': 19.863162517547607}}"
      ]
     },
     "execution_count": 6,
     "metadata": {},
     "output_type": "execute_result"
    }
   ],
   "source": [
    "METRICS_SWD"
   ]
  },
  {
   "cell_type": "code",
   "execution_count": 12,
   "metadata": {},
   "outputs": [
    {
     "name": "stdout",
     "output_type": "stream",
     "text": [
      "F1 0.963939393939394 0.07799955263463336\n",
      "Cov 0.8974051289243116 0.06873350569680424\n",
      "AUC 0.9666666666666666 0.073282810879294\n",
      "DD 11.82 14.5 8.0\n",
      "FP 0.13333333333333333 0.33993463423951903 1 0\n",
      "RunTime 18.17991789182027 4.559825638412763\n"
     ]
    }
   ],
   "source": [
    "f1,cov, AUC, DD, FP, RT = [],[], [], [],[],[]\n",
    "for k,metrics in METRICS_SWD.items():\n",
    "    f1.append(metrics['F1'])\n",
    "    cov.append(metrics['Covering'])\n",
    "    AUC.append(metrics['AUC'])\n",
    "    DD.append(metrics['DD'])\n",
    "    FP.append(metrics['FP'])\n",
    "    RT.append(metrics['RunTime'])\n",
    "\n",
    "print('F1',np.mean(f1),np.std(f1))\n",
    "print('Cov',np.mean(cov),np.std(cov))\n",
    "print('AUC',np.mean(AUC),np.std(AUC))\n",
    "print('DD',np.mean(DD),np.max(DD),np.min(DD))\n",
    "print('FP',np.mean(FP),np.std(FP),np.max(FP),np.min(FP))\n",
    "print('RunTime',np.mean(RT),np.std(RT))\n"
   ]
  },
  {
   "cell_type": "code",
   "execution_count": 66,
   "metadata": {},
   "outputs": [
    {
     "data": {
      "text/plain": [
       "{0: {'AUC': 0},\n",
       " 1: {'AUC': 0},\n",
       " 2: {'AUC': 0},\n",
       " 3: {'AUC': 0},\n",
       " 4: {'AUC': 0},\n",
       " 5: {'AUC': 1},\n",
       " 6: {'AUC': 0},\n",
       " 7: {'AUC': 0},\n",
       " 8: {'AUC': 0},\n",
       " 9: {'AUC': 1},\n",
       " 10: {'AUC': 2},\n",
       " 11: {'AUC': 2},\n",
       " 12: {'AUC': 0},\n",
       " 13: {'AUC': 0},\n",
       " 14: {'AUC': 1}}"
      ]
     },
     "execution_count": 66,
     "metadata": {},
     "output_type": "execute_result"
    }
   ],
   "source": [
    "METRICS_SWD_15"
   ]
  },
  {
   "cell_type": "code",
   "execution_count": 70,
   "metadata": {},
   "outputs": [
    {
     "data": {
      "text/plain": [
       "[2.933333333333333,\n",
       " 1.6666666666666667,\n",
       " 0.4666666666666667,\n",
       " 0.13333333333333333,\n",
       " 0.0]"
      ]
     },
     "execution_count": 70,
     "metadata": {},
     "output_type": "execute_result"
    }
   ],
   "source": [
    "def sum_aucs(METRICS_SWD):\n",
    "    AUC = []\n",
    "    FP = []\n",
    "    for k,metrics in METRICS_SWD.items():\n",
    "        #print(metrics)\n",
    "        AUC.append(metrics['AUC'])\n",
    "        FP.append(metrics['FP'])\n",
    "\n",
    "    return np.mean(AUC),np.mean(FP)\n",
    "\n",
    "\n",
    "\n",
    "\n",
    "SWD_AUC = [sum_aucs(d)[0] for d in [METRICS_SWD_5,METRICS_SWD_10,METRICS_SWD_15,METRICS_SWD,METRICS_SWD_30]]\n",
    "SWD_FPS = [sum_aucs(d)[1] for d in [METRICS_SWD_5,METRICS_SWD_10,METRICS_SWD_15,METRICS_SWD,METRICS_SWD_30]]\n",
    "\n",
    "SWD_FPS"
   ]
  },
  {
   "cell_type": "code",
   "execution_count": null,
   "metadata": {},
   "outputs": [],
   "source": [
    "# import json\n",
    "\n",
    "# class NumpyEncoder(json.JSONEncoder):\n",
    "#     def default(self, obj):\n",
    "#         if isinstance(obj, np.ndarray):\n",
    "#             return obj.tolist()\n",
    "#         return super().default(obj)\n",
    "    \n",
    "# with open('data.json', 'w', encoding='utf-8') as f:\n",
    "#     json.dump(Data_OUT, f, ensure_ascii=False, indent=4,cls=NumpyEncoder)"
   ]
  },
  {
   "cell_type": "code",
   "execution_count": 74,
   "metadata": {},
   "outputs": [
    {
     "name": "stdout",
     "output_type": "stream",
     "text": [
      "0\n",
      "[200 400]\n",
      "0.001477956771850586\n",
      "{'F1': 0.5, 'Covering': 0.33333333333333326, 'AUC': 0.6666666666666667, 'DD': 0, 'FP': 0, 'RunTime': 0.001477956771850586}\n",
      "1\n",
      "[200 400]\n",
      "0.0010204315185546875\n",
      "{'F1': 0.5, 'Covering': 0.33333333333333326, 'AUC': 0.6666666666666667, 'DD': 0, 'FP': 0, 'RunTime': 0.0010204315185546875}\n",
      "2\n",
      "[200 400]\n",
      "0.0010373592376708984\n",
      "{'F1': 0.5, 'Covering': 0.33333333333333326, 'AUC': 0.6666666666666667, 'DD': 0, 'FP': 0, 'RunTime': 0.0010373592376708984}\n",
      "3\n",
      "[200 400]\n",
      "0.0009996891021728516\n",
      "{'F1': 0.5, 'Covering': 0.33333333333333326, 'AUC': 0.6666666666666667, 'DD': 0, 'FP': 0, 'RunTime': 0.0009996891021728516}\n",
      "4\n",
      "[200 400]\n",
      "0.0020127296447753906\n",
      "{'F1': 0.5, 'Covering': 0.33333333333333326, 'AUC': 0.6666666666666667, 'DD': 0, 'FP': 0, 'RunTime': 0.0020127296447753906}\n",
      "5\n",
      "[200 400 600]\n",
      "0.002000570297241211\n",
      "{'F1': 0.4, 'Covering': 0.25, 'AUC': 0.625, 'DD': 0, 'FP': 0, 'RunTime': 0.002000570297241211}\n",
      "6\n",
      "[200 400 600]\n",
      "0.0030684471130371094\n",
      "{'F1': 0.4, 'Covering': 0.25, 'AUC': 0.625, 'DD': 0, 'FP': 0, 'RunTime': 0.0030684471130371094}\n",
      "7\n",
      "[200 400 600]\n",
      "0.0\n",
      "{'F1': 0.4, 'Covering': 0.25, 'AUC': 0.625, 'DD': 0, 'FP': 0, 'RunTime': 0.0}\n",
      "8\n",
      "[200 400 600]\n",
      "0.0\n",
      "{'F1': 0.4, 'Covering': 0.25, 'AUC': 0.625, 'DD': 0, 'FP': 0, 'RunTime': 0.0}\n",
      "9\n",
      "[200 400 600]\n",
      "0.004446506500244141\n",
      "{'F1': 0.4, 'Covering': 0.25, 'AUC': 0.625, 'DD': 0, 'FP': 0, 'RunTime': 0.004446506500244141}\n",
      "10\n",
      "[200 400 600 800]\n"
     ]
    },
    {
     "name": "stderr",
     "output_type": "stream",
     "text": [
      "c:\\Users\\Sven Jacob\\miniconda3\\envs\\torch\\Lib\\site-packages\\claspy\\segmentation.py:212: UserWarning: Time series must at least have 2*min_seg_size data points for segmentation. Try setting a smaller window size.\n",
      "  warnings.warn(\n",
      "c:\\Users\\Sven Jacob\\miniconda3\\envs\\torch\\Lib\\site-packages\\claspy\\segmentation.py:212: UserWarning: Time series must at least have 2*min_seg_size data points for segmentation. Try setting a smaller window size.\n",
      "  warnings.warn(\n",
      "c:\\Users\\Sven Jacob\\miniconda3\\envs\\torch\\Lib\\site-packages\\claspy\\segmentation.py:212: UserWarning: Time series must at least have 2*min_seg_size data points for segmentation. Try setting a smaller window size.\n",
      "  warnings.warn(\n",
      "c:\\Users\\Sven Jacob\\miniconda3\\envs\\torch\\Lib\\site-packages\\claspy\\segmentation.py:212: UserWarning: Time series must at least have 2*min_seg_size data points for segmentation. Try setting a smaller window size.\n",
      "  warnings.warn(\n",
      "c:\\Users\\Sven Jacob\\miniconda3\\envs\\torch\\Lib\\site-packages\\claspy\\segmentation.py:212: UserWarning: Time series must at least have 2*min_seg_size data points for segmentation. Try setting a smaller window size.\n",
      "  warnings.warn(\n",
      "c:\\Users\\Sven Jacob\\miniconda3\\envs\\torch\\Lib\\site-packages\\claspy\\segmentation.py:212: UserWarning: Time series must at least have 2*min_seg_size data points for segmentation. Try setting a smaller window size.\n",
      "  warnings.warn(\n",
      "c:\\Users\\Sven Jacob\\miniconda3\\envs\\torch\\Lib\\site-packages\\claspy\\segmentation.py:212: UserWarning: Time series must at least have 2*min_seg_size data points for segmentation. Try setting a smaller window size.\n",
      "  warnings.warn(\n",
      "c:\\Users\\Sven Jacob\\miniconda3\\envs\\torch\\Lib\\site-packages\\claspy\\segmentation.py:212: UserWarning: Time series must at least have 2*min_seg_size data points for segmentation. Try setting a smaller window size.\n",
      "  warnings.warn(\n",
      "c:\\Users\\Sven Jacob\\miniconda3\\envs\\torch\\Lib\\site-packages\\claspy\\segmentation.py:212: UserWarning: Time series must at least have 2*min_seg_size data points for segmentation. Try setting a smaller window size.\n",
      "  warnings.warn(\n",
      "c:\\Users\\Sven Jacob\\miniconda3\\envs\\torch\\Lib\\site-packages\\claspy\\segmentation.py:212: UserWarning: Time series must at least have 2*min_seg_size data points for segmentation. Try setting a smaller window size.\n",
      "  warnings.warn(\n"
     ]
    },
    {
     "name": "stdout",
     "output_type": "stream",
     "text": [
      "3.5052425861358643\n",
      "{'F1': 0.33333333333333337, 'Covering': 0.2, 'AUC': 0.6000000000000001, 'DD': 0, 'FP': 0, 'RunTime': 3.5052425861358643}\n",
      "11\n",
      "[200 400 600 800]\n",
      "3.3517096042633057\n",
      "{'F1': 0.33333333333333337, 'Covering': 0.2, 'AUC': 0.6000000000000001, 'DD': 0, 'FP': 0, 'RunTime': 3.3517096042633057}\n",
      "12\n",
      "[200 400 600 800]\n",
      "3.4377753734588623\n",
      "{'F1': 0.33333333333333337, 'Covering': 0.2, 'AUC': 0.6000000000000001, 'DD': 0, 'FP': 0, 'RunTime': 3.4377753734588623}\n",
      "13\n",
      "[200 400 600 800]\n",
      "3.4332096576690674\n",
      "{'F1': 0.33333333333333337, 'Covering': 0.2, 'AUC': 0.6000000000000001, 'DD': 0, 'FP': 0, 'RunTime': 3.4332096576690674}\n",
      "14\n",
      "[200 400 600 800]\n",
      "3.463819742202759\n",
      "{'F1': 0.33333333333333337, 'Covering': 0.2, 'AUC': 0.6000000000000001, 'DD': 0, 'FP': 0, 'RunTime': 3.463819742202759}\n"
     ]
    }
   ],
   "source": [
    "from claspy.segmentation import BinaryClaSPSegmentation\n",
    "ind = 0\n",
    "ind2 = 0\n",
    "METRICS_Claspy = {}\n",
    "METRICS_Claspy_5 = {}\n",
    "METRICS_Claspy_10 = {}\n",
    "METRICS_Claspy_15 = {}\n",
    "METRICS_Claspy_30 = {}\n",
    "\n",
    "for id,i in enumerate(range(15)):\n",
    "    print(id)\n",
    "    METRICS_Claspy[id]  = {}\n",
    "    METRICS_Claspy_5[id] = {}\n",
    "    METRICS_Claspy_10[id] = {}\n",
    "    METRICS_Claspy_15[id] = {}\n",
    "    METRICS_Claspy_30[id] = {}\n",
    "    if i in [5,10]:\n",
    "        ind+=1\n",
    "        ind2 = 0\n",
    "    df, GroundTruth = FilterData(all_batches,all_labels,list(LABELS_Sampled[ind][ind2]),N_Samples=200)\n",
    "    ind2+=1\n",
    "    print(GroundTruth)\n",
    "    start_time = time.time()\n",
    "    clasp = BinaryClaSPSegmentation(window_size=100).fit(df.astype(np.float64))\n",
    "    f1,auc_score,fp = f_measure({'0':GroundTruth},clasp.change_points,20)\n",
    "    covering_score = covering({'0':GroundTruth},clasp.change_points,df.shape[0])\n",
    "    end_time =time.time()\n",
    "    print(end_time-start_time)\n",
    "    METRICS_Claspy[id]['F1'] = f1\n",
    "    METRICS_Claspy[id]['Covering'] = covering_score\n",
    "    METRICS_Claspy[id]['AUC'] = auc_score\n",
    "    METRICS_Claspy[id]['DD'] = detection_delay(GroundTruth,clasp.change_points)[1]\n",
    "    METRICS_Claspy[id]['FP'] = fp\n",
    "    METRICS_Claspy[id]['RunTime'] = end_time- start_time\n",
    "\n",
    "\n",
    "    f1,auc_score,fp = f_measure({'0':GroundTruth},clasp.change_points,5)\n",
    "    METRICS_Claspy_5[id]['AUC'] = auc_score\n",
    "    METRICS_Claspy_5[id]['FP'] = fp\n",
    "\n",
    "    f1,auc_score,fp = f_measure({'0':GroundTruth},clasp.change_points,10)\n",
    "    METRICS_Claspy_10[id]['AUC'] = auc_score\n",
    "    METRICS_Claspy_10[id]['FP'] = fp\n",
    "\n",
    "    f1,auc_score,fp = f_measure({'0':GroundTruth},clasp.change_points,15)\n",
    "    METRICS_Claspy_15[id]['AUC'] = auc_score\n",
    "    METRICS_Claspy_15[id]['FP'] = fp\n",
    "\n",
    "    f1,auc_score,fp = f_measure({'0':GroundTruth},clasp.change_points,30)\n",
    "    METRICS_Claspy_30[id]['AUC'] = auc_score\n",
    "    METRICS_Claspy_30[id]['FP'] = fp\n",
    "\n",
    "    print(METRICS_Claspy[id])"
   ]
  },
  {
   "cell_type": "code",
   "execution_count": null,
   "metadata": {},
   "outputs": [],
   "source": []
  },
  {
   "cell_type": "code",
   "execution_count": 75,
   "metadata": {},
   "outputs": [
    {
     "data": {
      "text/plain": [
       "[0.0, 0.0, 0.0, 0.0, 0.0]"
      ]
     },
     "execution_count": 75,
     "metadata": {},
     "output_type": "execute_result"
    }
   ],
   "source": [
    "AUC_CLASP = [sum_aucs(d)[0] for d in [METRICS_Claspy_5,METRICS_Claspy_10,METRICS_Claspy_15,METRICS_Claspy,METRICS_Claspy_30]]\n",
    "FP_CLASP = [sum_aucs(d)[1] for d in [METRICS_Claspy_5,METRICS_Claspy_10,METRICS_Claspy_15,METRICS_Claspy,METRICS_Claspy_30]]\n",
    "FP_CLASP"
   ]
  },
  {
   "cell_type": "code",
   "execution_count": 20,
   "metadata": {},
   "outputs": [
    {
     "name": "stdout",
     "output_type": "stream",
     "text": [
      "F1 0.4111111111111111 0.0684934889218775\n",
      "Cov 0.2611111111111111 0.05499719409228699\n",
      "AUC 0.6305555555555554 0.027498597046143512\n",
      "DD 0.0 0 0\n",
      "FP 0.0 0.0 0 0\n",
      "RT 1.1770958264668783 1.6624028762695355\n"
     ]
    }
   ],
   "source": [
    "f1_CL,cov_CL, AUC_CL, DD_CL, FP_CL,RT_CL = [],[], [], [],[],[]\n",
    "for k,metrics in METRICS_Claspy.items():\n",
    "    f1_CL.append(metrics['F1'])\n",
    "    cov_CL.append(metrics['Covering'])\n",
    "    AUC_CL.append(metrics['AUC'])\n",
    "    DD_CL.append(metrics['DD'])\n",
    "    FP_CL.append(metrics['FP'])\n",
    "    RT_CL.append(metrics['RunTime'])\n",
    "\n",
    "print('F1',np.mean(f1_CL),np.std(f1_CL))\n",
    "print('Cov',np.mean(cov_CL),np.std(cov_CL))\n",
    "print('AUC',np.mean(AUC_CL),np.std(AUC_CL))\n",
    "print('DD',np.mean(DD_CL),np.max(DD_CL),np.min(DD_CL))\n",
    "print('FP',np.mean(FP_CL),np.std(FP_CL),np.max(FP_CL),np.min(FP_CL))\n",
    "print('RT',np.mean(RT_CL),np.std(RT_CL))\n"
   ]
  },
  {
   "cell_type": "code",
   "execution_count": 53,
   "metadata": {},
   "outputs": [
    {
     "data": {
      "text/plain": [
       "0.06754145648587327"
      ]
     },
     "execution_count": 53,
     "metadata": {},
     "output_type": "execute_result"
    }
   ],
   "source": [
    "np.std(RT_CL[10:])"
   ]
  },
  {
   "cell_type": "code",
   "execution_count": 35,
   "metadata": {},
   "outputs": [],
   "source": [
    "data_out = {}\n",
    "ind2=0\n",
    "ind=0\n",
    "for id,i in enumerate(range(15)):\n",
    "    if i in [5,10]:\n",
    "        ind+=1\n",
    "        ind2 = 0\n",
    "    df, GroundTruth = FilterData(all_batches,all_labels,list(LABELS_Sampled[ind][ind2]),N_Samples=200)\n",
    "    data_out[id] = {'data':df,'labels':GroundTruth}"
   ]
  },
  {
   "cell_type": "code",
   "execution_count": 22,
   "metadata": {},
   "outputs": [],
   "source": [
    "# import json\n",
    "\n",
    "# class NumpyEncoder(json.JSONEncoder):\n",
    "#     def default(self, obj):\n",
    "#         if isinstance(obj, np.ndarray):\n",
    "#             return obj.tolist()\n",
    "#         return super().default(obj)\n",
    "    \n",
    "# with open('data.json', 'w', encoding='utf-8') as f:\n",
    "#     json.dump(data_out, f, ensure_ascii=False, indent=4,cls=NumpyEncoder)"
   ]
  },
  {
   "cell_type": "markdown",
   "metadata": {},
   "source": [
    "### Results for E-divisive and BOCPD"
   ]
  },
  {
   "cell_type": "code",
   "execution_count": 52,
   "metadata": {},
   "outputs": [
    {
     "name": "stdout",
     "output_type": "stream",
     "text": [
      "[1, 201, 401, 601]\n",
      "[1, 201, 401, 601]\n",
      "[1, 201, 401, 601]\n",
      "[1, 201, 401, 601]\n",
      "[1, 201, 401, 601]\n",
      "[1, 201, 288, 401, 601, 801]\n",
      "[1, 201, 288, 401, 601, 801]\n",
      "[1, 201, 288, 401, 601, 801]\n",
      "[1, 201, 288, 401, 601, 801]\n",
      "[1, 201, 288, 401, 601, 801]\n",
      "[1, 201, 401, 601, 801, 1001]\n",
      "[1, 201, 401, 601, 688, 801, 1001]\n",
      "[1, 201, 401, 601, 801, 1001]\n",
      "[1, 201, 401, 601, 801, 1001]\n",
      "[1, 201, 401, 601, 801, 1001]\n",
      "0.9569023569023568\n",
      "0.05164545795524169\n",
      "0.961111111111111\n",
      "DD 9.41 1.0 22.75\n",
      "FP 0.4 0 1\n"
     ]
    }
   ],
   "source": [
    "import json\n",
    "\n",
    "with open(\"./R/res//MNIST_Edivise.json\") as f:\n",
    "    ECP_Results = json.load(f)\n",
    "\n",
    "\n",
    "F1,Covering, AUC,FP,DD,RT = [],[],[],[],[],[]\n",
    "\n",
    "for id, res in ECP_Results.items():\n",
    "    print(res)\n",
    "    cps = res#['CPs']\n",
    "    ground_truths = data_out[int(id)]['labels']\n",
    "    n = ground_truths[-1] + 200\n",
    "    cps = cps[1:-1]\n",
    "\n",
    "    f1, AUC_score,fp = f_measure({'0':ground_truths},cps,20)\n",
    "    covering_score = covering({'0':ground_truths},cps,n)\n",
    "    delay = detection_delay(ground_truths,cps)[1]\n",
    "    F1.append(f1)\n",
    "    AUC.append(AUC_score)\n",
    "    Covering.append(covering_score)\n",
    "    FP.append(fp)\n",
    "    DD.append(delay)\n",
    "    #RT.append(res['RunTime'])\n",
    "\n",
    "\n",
    "print(np.mean(F1))\n",
    "print(np.std(Covering))\n",
    "print(np.mean(AUC))\n",
    "\n",
    "print('DD',np.mean(DD),np.min(DD),np.max(DD))\n",
    "print('FP',np.mean(FP),np.min(FP),np.max(FP))\n",
    "#print('RT',np.mean(RT),np.std(RT))\n",
    "\n"
   ]
  },
  {
   "cell_type": "code",
   "execution_count": 41,
   "metadata": {},
   "outputs": [
    {
     "name": "stdout",
     "output_type": "stream",
     "text": [
      "0.6844444444444445\n",
      "0.7847463171351448\n",
      "0.6916666666666668\n",
      "DD 17.87777777777778 11.0 27.0\n",
      "FP 0.9333333333333333 0 2\n",
      "RT 17.357360000000003 22.77953078582612\n"
     ]
    }
   ],
   "source": [
    "with open(\"./R/res/MNIST_BOCPD_new.json\") as f:\n",
    "    ECP_Results = json.load(f)\n",
    "\n",
    "\n",
    "F1,Covering, AUC,FP,DD,RT = [],[],[],[],[],[]\n",
    "\n",
    "for id, res in ECP_Results.items():\n",
    "    #print(cps)\n",
    "    ground_truths = data_out[int(id)]['labels']\n",
    "    n = ground_truths[-1] + 200\n",
    "    cps = res['CPs']\n",
    "    cps = cps[0][1:]\n",
    "    #print(cps)\n",
    "    f1, AUC_score,fp = f_measure({'0':ground_truths},cps,20)\n",
    "    covering_score = covering({'0':ground_truths},cps,n)\n",
    "    delay = detection_delay(ground_truths,cps)[1]\n",
    "    F1.append(f1)\n",
    "    AUC.append(AUC_score)\n",
    "    Covering.append(covering_score)\n",
    "    FP.append(fp)\n",
    "    DD.append(delay)\n",
    "    RT.append(res['RunTime'])\n",
    "\n",
    "print(np.mean(F1))\n",
    "print(np.mean(Covering))\n",
    "print(np.mean(AUC))\n",
    "\n",
    "print('DD',np.mean(DD),np.min(DD),np.max(DD))\n",
    "print('FP',np.mean(FP),np.min(FP),np.max(FP))\n",
    "print('RT',np.mean(RT),np.std(RT))"
   ]
  },
  {
   "cell_type": "code",
   "execution_count": 78,
   "metadata": {},
   "outputs": [
    {
     "name": "stdout",
     "output_type": "stream",
     "text": [
      "[0.961111111111111, 0.961111111111111, 0.961111111111111, 0.961111111111111, 0.961111111111111]\n",
      "[0.2838888888888889, 0.46388888888888885, 0.6199999999999999, 0.6916666666666668, 0.8783333333333335]\n",
      "[0.4, 0.4, 0.4, 0.4, 0.4]\n",
      "[2.533333333333333, 1.8, 1.2, 0.9333333333333333, 0.26666666666666666]\n"
     ]
    }
   ],
   "source": [
    "import json\n",
    "\n",
    "def GET_AUCs_ECP(tau=100):\n",
    "    with open(\"./R/res//MNIST_Edivise.json\") as f:\n",
    "        ECP_Results = json.load(f)\n",
    "\n",
    "\n",
    "    F1,Covering, AUC,FP,DD,RT = [],[],[],[],[],[]\n",
    "\n",
    "    for id, res in ECP_Results.items():\n",
    "        cps = res#['CPs']\n",
    "        ground_truths = data_out[int(id)]['labels']\n",
    "        n = ground_truths[-1] + 200\n",
    "        cps = cps[1:-1]\n",
    "\n",
    "        f1, AUC_score,fp = f_measure({'0':ground_truths},cps,tau)\n",
    "        covering_score = covering({'0':ground_truths},cps,n)\n",
    "        delay = detection_delay(ground_truths,cps)[1]\n",
    "        F1.append(f1)\n",
    "        AUC.append(AUC_score)\n",
    "        Covering.append(covering_score)\n",
    "        FP.append(fp)\n",
    "        DD.append(delay)\n",
    "       # RT.append(res['RunTime'])\n",
    "    return np.mean(AUC),np.mean(FP)\n",
    "\n",
    "    \n",
    "    \n",
    "\n",
    "def GET_AUCs_BOCPD(tau=100):\n",
    "    with open(\"./R/res/MNIST_BOCPD_new.json\") as f:\n",
    "        ECP_Results = json.load(f)\n",
    "\n",
    "\n",
    "    F1,Covering, AUC,FP,DD,RT = [],[],[],[],[],[]\n",
    "\n",
    "    for id, res in ECP_Results.items():\n",
    "        #print(cps)\n",
    "        ground_truths = data_out[int(id)]['labels']\n",
    "        n = ground_truths[-1] + 200\n",
    "        cps = res['CPs']\n",
    "        cps = cps[0][1:]\n",
    "        #print(cps)\n",
    "        f1, AUC_score,fp = f_measure({'0':ground_truths},cps,tau)\n",
    "        covering_score = covering({'0':ground_truths},cps,n)\n",
    "        delay = detection_delay(ground_truths,cps)[1]\n",
    "        F1.append(f1)\n",
    "        AUC.append(AUC_score)\n",
    "        Covering.append(covering_score)\n",
    "        FP.append(fp)\n",
    "        DD.append(delay)\n",
    "        RT.append(res['RunTime'])\n",
    "\n",
    "    return np.mean(AUC),np.mean(FP)\n",
    "\n",
    "\n",
    "\n",
    "GET_AUCs_ECP(200)\n",
    "\n",
    "\n",
    "ECPS_M = [GET_AUCs_ECP(t)[0] for t in [5,10,15,20,30]]\n",
    "BOCPD_M = [GET_AUCs_BOCPD(t)[0] for t in [5,10,15,20,30]]\n",
    "\n",
    "print(ECPS_M)\n",
    "print(BOCPD_M)\n",
    "\n",
    "\n",
    "ECPS_M_FP = [GET_AUCs_ECP(t)[1] for t in [5,10,15,20,30]]\n",
    "BOCPD_M_FP = [GET_AUCs_BOCPD(t)[1] for t in [5,10,15,20,30]]\n",
    "\n",
    "print(ECPS_M_FP)\n",
    "print(BOCPD_M_FP)"
   ]
  },
  {
   "cell_type": "code",
   "execution_count": 41,
   "metadata": {},
   "outputs": [
    {
     "name": "stdout",
     "output_type": "stream",
     "text": [
      "RT 69.32691999999999 16.61958226102369\n"
     ]
    }
   ],
   "source": [
    "print('RT',np.mean(np.vstack((RT[:5],np.array(RT[5:])*60))),np.std(np.vstack((RT[:5],np.array(RT[5:])*60))))"
   ]
  },
  {
   "cell_type": "markdown",
   "metadata": {},
   "source": [
    "### Results\n",
    "\n",
    "\n",
    "| METHOD  | DD (min;max) | FP (min;max) |\n",
    "|-------------|----------|-----------|\n",
    "| SWD (ours)        | 15.5 (10.0;20.5)  | 0.46 (0;2) |\n",
    "| ECP         | 9.41 (0;22.75) | 0.4 (0;1)  |\n",
    "| KCPA         |21.7 (0;70.75) | 0.66 (0;2) |\n",
    "| CLasP         | 0 (0;0) |0 (0;0) |\n",
    "| BOCPD         | 17.8 (11;27)  | 0.93 (0;2) |"
   ]
  }
 ],
 "metadata": {
  "kernelspec": {
   "display_name": "torch",
   "language": "python",
   "name": "python3"
  },
  "language_info": {
   "codemirror_mode": {
    "name": "ipython",
    "version": 3
   },
   "file_extension": ".py",
   "mimetype": "text/x-python",
   "name": "python",
   "nbconvert_exporter": "python",
   "pygments_lexer": "ipython3",
   "version": "3.12.3"
  }
 },
 "nbformat": 4,
 "nbformat_minor": 2
}
