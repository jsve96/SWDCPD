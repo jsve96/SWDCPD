{
 "cells": [
  {
   "cell_type": "code",
   "execution_count": 1,
   "metadata": {},
   "outputs": [],
   "source": [
    "import torch\n",
    "from torchvision import datasets\n",
    "from torch.utils.data import DataLoader\n",
    "from torchvision import transforms\n",
    "import numpy as np\n",
    "from utilsCPD import *\n",
    "import matplotlib.pyplot as plt\n",
    "from SWCPD import BaseDetector as SWDCP\n",
    "\n",
    "\n",
    "BATCH_SIZE  =32\n",
    "mnist_transforms = transforms.Compose([transforms.ToTensor()])\n",
    "train_val_dataset = datasets.MNIST(root=\"./datasets/\", train=True, download=True, transform=mnist_transforms)\n",
    "test_dataset = datasets.MNIST(root=\"./datasets/\", train=False, download=True, transform=mnist_transforms)\n",
    "train_size = int(0.9 * len(train_val_dataset))\n",
    "val_size = len(train_val_dataset) - train_size\n",
    "train_dataset, val_dataset = torch.utils.data.random_split(dataset=train_val_dataset, lengths=[train_size, val_size])\n",
    "train_dataloader = DataLoader(dataset=train_dataset, batch_size=BATCH_SIZE, shuffle=True)\n",
    "val_dataloader = DataLoader(dataset=val_dataset, batch_size=BATCH_SIZE, shuffle=True)\n",
    "test_dataloader = DataLoader(dataset=test_dataset, batch_size=BATCH_SIZE, shuffle=True)"
   ]
  },
  {
   "cell_type": "code",
   "execution_count": 2,
   "metadata": {},
   "outputs": [
    {
     "name": "stdout",
     "output_type": "stream",
     "text": [
      "torch.Size([10000, 784])\n"
     ]
    }
   ],
   "source": [
    "all_batches = []\n",
    "all_labels =[]\n",
    "torch.manual_seed(10)\n",
    "for x,y in test_dataloader:\n",
    "    bs = x.shape[0]\n",
    "    all_batches.append(x.flatten().reshape(bs,784))\n",
    "    all_labels.append(y)\n",
    "\n",
    "all_batches = torch.cat(all_batches,dim=0)\n",
    "all_labels = torch.cat(all_labels,dim=0)\n",
    "\n",
    "print(all_batches.shape)"
   ]
  },
  {
   "cell_type": "code",
   "execution_count": null,
   "metadata": {},
   "outputs": [],
   "source": [
    "seed = 42\n",
    "rng = np.random.default_rng(seed)"
   ]
  },
  {
   "cell_type": "code",
   "execution_count": 3,
   "metadata": {},
   "outputs": [
    {
     "name": "stdout",
     "output_type": "stream",
     "text": [
      "[(3, 9, 8), (6, 5, 8), (0, 4, 3), (6, 7, 8), (4, 3, 0), (1, 9, 4), (2, 3, 5), (5, 2, 3), (9, 1, 8), (8, 4, 5)]\n"
     ]
    },
    {
     "data": {
      "text/plain": [
       "(array([[0., 0., 0., ..., 0., 0., 0.],\n",
       "        [0., 0., 0., ..., 0., 0., 0.],\n",
       "        [0., 0., 0., ..., 0., 0., 0.],\n",
       "        ...,\n",
       "        [0., 0., 0., ..., 0., 0., 0.],\n",
       "        [0., 0., 0., ..., 0., 0., 0.],\n",
       "        [0., 0., 0., ..., 0., 0., 0.]], dtype=float32),\n",
       " array([ 500, 1000]))"
      ]
     },
     "execution_count": 3,
     "metadata": {},
     "output_type": "execute_result"
    }
   ],
   "source": [
    "Labels_Sampled = []\n",
    "seed = 2025\n",
    "rng = np.random.default_rng(seed)\n",
    "\n",
    "for run in range(10):\n",
    "    \n",
    "    l = tuple(rng.choice(np.arange(10),3,replace=False))\n",
    "    if l not in Labels_Sampled:\n",
    "        Labels_Sampled.append(l)\n",
    "\n",
    "\n",
    "print(Labels_Sampled)\n",
    "def FilterData(all_batches,all_labels,lables):\n",
    "    data = []\n",
    "    cps = []\n",
    "    for l in lables:\n",
    "        d =all_batches[all_labels==l].detach().numpy()\n",
    "        data.append(d[:500])\n",
    "        cps.append(len(d[:500]))\n",
    "    return np.vstack(data),np.cumsum(cps)[:-1]\n",
    "\n",
    "\n",
    "FilterData(all_batches,all_labels,list(Labels_Sampled[0]))"
   ]
  },
  {
   "cell_type": "code",
   "execution_count": 14,
   "metadata": {},
   "outputs": [
    {
     "name": "stdout",
     "output_type": "stream",
     "text": [
      "0\n",
      "[ 500 1000]\n",
      "cuda\n"
     ]
    },
    {
     "name": "stderr",
     "output_type": "stream",
     "text": [
      " 33%|███▎      | 479/1451 [00:05<00:10, 94.85it/s]"
     ]
    },
    {
     "name": "stdout",
     "output_type": "stream",
     "text": [
      "Change detected at: 519 \n",
      "Initiate new segment\n"
     ]
    },
    {
     "name": "stderr",
     "output_type": "stream",
     "text": [
      " 68%|██████▊   | 984/1451 [00:10<00:04, 98.05it/s] "
     ]
    },
    {
     "name": "stdout",
     "output_type": "stream",
     "text": [
      "Change detected at: 1015 \n",
      "Initiate new segment\n"
     ]
    },
    {
     "name": "stderr",
     "output_type": "stream",
     "text": [
      "100%|██████████| 1451/1451 [00:15<00:00, 92.83it/s] \n"
     ]
    },
    {
     "name": "stdout",
     "output_type": "stream",
     "text": [
      "{'F1': 1.0, 'Covering': 0.9557905731086045}\n",
      "1\n",
      "[ 500 1000]\n",
      "cuda\n"
     ]
    },
    {
     "name": "stderr",
     "output_type": "stream",
     "text": [
      " 33%|███▎      | 486/1451 [00:05<00:10, 95.30it/s]"
     ]
    },
    {
     "name": "stdout",
     "output_type": "stream",
     "text": [
      "Change detected at: 517 \n",
      "Initiate new segment\n"
     ]
    },
    {
     "name": "stderr",
     "output_type": "stream",
     "text": [
      "100%|██████████| 1451/1451 [00:15<00:00, 94.96it/s] \n"
     ]
    },
    {
     "name": "stdout",
     "output_type": "stream",
     "text": [
      "{'F1': 0.8, 'Covering': 0.6529216624590968}\n",
      "2\n",
      "[ 500 1000]\n",
      "cuda\n"
     ]
    },
    {
     "name": "stderr",
     "output_type": "stream",
     "text": [
      " 33%|███▎      | 480/1451 [00:04<00:09, 97.97it/s] "
     ]
    },
    {
     "name": "stdout",
     "output_type": "stream",
     "text": [
      "Change detected at: 518 \n",
      "Initiate new segment\n"
     ]
    },
    {
     "name": "stderr",
     "output_type": "stream",
     "text": [
      " 67%|██████▋   | 979/1451 [00:10<00:04, 96.83it/s] "
     ]
    },
    {
     "name": "stdout",
     "output_type": "stream",
     "text": [
      "Change detected at: 1017 \n",
      "Initiate new segment\n"
     ]
    },
    {
     "name": "stderr",
     "output_type": "stream",
     "text": [
      "100%|██████████| 1451/1451 [00:14<00:00, 97.29it/s] \n"
     ]
    },
    {
     "name": "stdout",
     "output_type": "stream",
     "text": [
      "{'F1': 1.0, 'Covering': 0.9545175686877815}\n",
      "3\n",
      "[ 500 1000]\n",
      "cuda\n"
     ]
    },
    {
     "name": "stderr",
     "output_type": "stream",
     "text": [
      " 33%|███▎      | 472/1451 [00:04<00:09, 103.91it/s]"
     ]
    },
    {
     "name": "stdout",
     "output_type": "stream",
     "text": [
      "Change detected at: 512 \n",
      "Initiate new segment\n"
     ]
    },
    {
     "name": "stderr",
     "output_type": "stream",
     "text": [
      " 68%|██████▊   | 987/1451 [00:09<00:04, 103.34it/s]"
     ]
    },
    {
     "name": "stdout",
     "output_type": "stream",
     "text": [
      "Change detected at: 1017 \n",
      "Initiate new segment\n"
     ]
    },
    {
     "name": "stderr",
     "output_type": "stream",
     "text": [
      "100%|██████████| 1451/1451 [00:14<00:00, 100.17it/s]\n"
     ]
    },
    {
     "name": "stdout",
     "output_type": "stream",
     "text": [
      "{'F1': 1.0, 'Covering': 0.9621565522243714}\n",
      "4\n",
      "[ 500 1000]\n",
      "cuda\n"
     ]
    },
    {
     "name": "stderr",
     "output_type": "stream",
     "text": [
      " 33%|███▎      | 480/1451 [00:04<00:09, 98.57it/s] "
     ]
    },
    {
     "name": "stdout",
     "output_type": "stream",
     "text": [
      "Change detected at: 515 \n",
      "Initiate new segment\n"
     ]
    },
    {
     "name": "stderr",
     "output_type": "stream",
     "text": [
      " 68%|██████▊   | 982/1451 [00:10<00:04, 100.49it/s]"
     ]
    },
    {
     "name": "stdout",
     "output_type": "stream",
     "text": [
      "Change detected at: 1012 \n",
      "Initiate new segment\n"
     ]
    },
    {
     "name": "stderr",
     "output_type": "stream",
     "text": [
      "100%|██████████| 1451/1451 [00:14<00:00, 97.81it/s] \n"
     ]
    },
    {
     "name": "stdout",
     "output_type": "stream",
     "text": [
      "{'F1': 1.0, 'Covering': 0.9647131371359223}\n",
      "5\n",
      "[ 500 1000]\n",
      "cuda\n"
     ]
    },
    {
     "name": "stderr",
     "output_type": "stream",
     "text": [
      " 33%|███▎      | 478/1451 [00:04<00:09, 103.89it/s]"
     ]
    },
    {
     "name": "stdout",
     "output_type": "stream",
     "text": [
      "Change detected at: 508 \n",
      "Initiate new segment\n"
     ]
    },
    {
     "name": "stderr",
     "output_type": "stream",
     "text": [
      "100%|██████████| 1451/1451 [00:14<00:00, 100.29it/s]\n"
     ]
    },
    {
     "name": "stdout",
     "output_type": "stream",
     "text": [
      "{'F1': 0.8, 'Covering': 0.6600947421894844}\n",
      "6\n",
      "[ 500 1000]\n",
      "cuda\n"
     ]
    },
    {
     "name": "stderr",
     "output_type": "stream",
     "text": [
      " 34%|███▍      | 491/1451 [00:05<00:09, 96.23it/s] "
     ]
    },
    {
     "name": "stdout",
     "output_type": "stream",
     "text": [
      "Change detected at: 524 \n",
      "Initiate new segment\n"
     ]
    },
    {
     "name": "stderr",
     "output_type": "stream",
     "text": [
      "100%|██████████| 1451/1451 [00:14<00:00, 98.33it/s] \n"
     ]
    },
    {
     "name": "stdout",
     "output_type": "stream",
     "text": [
      "{'F1': 0.4, 'Covering': 0.6474978517498853}\n",
      "7\n",
      "[ 500 1000]\n",
      "cuda\n"
     ]
    },
    {
     "name": "stderr",
     "output_type": "stream",
     "text": [
      " 33%|███▎      | 477/1451 [00:05<00:10, 96.09it/s] "
     ]
    },
    {
     "name": "stdout",
     "output_type": "stream",
     "text": [
      "Change detected at: 518 \n",
      "Initiate new segment\n"
     ]
    },
    {
     "name": "stderr",
     "output_type": "stream",
     "text": [
      " 68%|██████▊   | 983/1451 [00:09<00:04, 107.11it/s]"
     ]
    },
    {
     "name": "stdout",
     "output_type": "stream",
     "text": [
      "Change detected at: 1023 \n",
      "Initiate new segment\n"
     ]
    },
    {
     "name": "stderr",
     "output_type": "stream",
     "text": [
      "100%|██████████| 1451/1451 [00:14<00:00, 99.06it/s] \n"
     ]
    },
    {
     "name": "stdout",
     "output_type": "stream",
     "text": [
      "{'F1': 0.6666666666666666, 'Covering': 0.9469523612659368}\n",
      "8\n",
      "[ 500 1000]\n",
      "cuda\n"
     ]
    },
    {
     "name": "stderr",
     "output_type": "stream",
     "text": [
      " 33%|███▎      | 477/1451 [00:04<00:09, 100.93it/s]"
     ]
    },
    {
     "name": "stdout",
     "output_type": "stream",
     "text": [
      "Change detected at: 512 \n",
      "Initiate new segment\n"
     ]
    },
    {
     "name": "stderr",
     "output_type": "stream",
     "text": [
      " 67%|██████▋   | 973/1451 [00:09<00:04, 96.98it/s] "
     ]
    },
    {
     "name": "stdout",
     "output_type": "stream",
     "text": [
      "Change detected at: 1009 \n",
      "Initiate new segment\n"
     ]
    },
    {
     "name": "stderr",
     "output_type": "stream",
     "text": [
      "100%|██████████| 1451/1451 [00:14<00:00, 101.19it/s]\n"
     ]
    },
    {
     "name": "stdout",
     "output_type": "stream",
     "text": [
      "{'F1': 1.0, 'Covering': 0.9724350442043223}\n",
      "9\n",
      "[ 500 1000]\n",
      "cuda\n"
     ]
    },
    {
     "name": "stderr",
     "output_type": "stream",
     "text": [
      " 34%|███▎      | 489/1451 [00:04<00:09, 103.56it/s]"
     ]
    },
    {
     "name": "stdout",
     "output_type": "stream",
     "text": [
      "Change detected at: 525 \n",
      "Initiate new segment\n"
     ]
    },
    {
     "name": "stderr",
     "output_type": "stream",
     "text": [
      " 67%|██████▋   | 978/1451 [00:09<00:04, 99.61it/s] "
     ]
    },
    {
     "name": "stdout",
     "output_type": "stream",
     "text": [
      "Change detected at: 1018 \n",
      "Initiate new segment\n"
     ]
    },
    {
     "name": "stderr",
     "output_type": "stream",
     "text": [
      "100%|██████████| 1451/1451 [00:14<00:00, 100.87it/s]"
     ]
    },
    {
     "name": "stdout",
     "output_type": "stream",
     "text": [
      "{'F1': 0.6666666666666666, 'Covering': 0.9444564564564565}\n"
     ]
    },
    {
     "name": "stderr",
     "output_type": "stream",
     "text": [
      "\n"
     ]
    }
   ],
   "source": [
    "METRICS_SWD = {}\n",
    "for id,i in enumerate(range(10)):\n",
    "    print(id)\n",
    "    METRICS_SWD[id]  = {}\n",
    "    df, GroundTruth = FilterData(all_batches,all_labels,list(Labels_Sampled[i]))\n",
    "    print(GroundTruth)\n",
    "    detector = SWDCP(data=df,window_length=50,max_history=50)\n",
    "    print(detector.device)\n",
    "    detector.process_dataloader(p=2,n_theta=1000)\n",
    "    METRICS_SWD[id]['F1'] =f_measure({'0':GroundTruth},detector.change_points['loc'],margin=20)\n",
    "    METRICS_SWD[id]['Covering'] = covering({'0':GroundTruth},detector.change_points['loc'],n_obs=df.shape[0])\n",
    "    print(METRICS_SWD[id])"
   ]
  },
  {
   "cell_type": "code",
   "execution_count": 15,
   "metadata": {},
   "outputs": [
    {
     "data": {
      "text/plain": [
       "(<Figure size 640x480 with 1 Axes>, <Axes: xlabel='Time'>)"
      ]
     },
     "execution_count": 15,
     "metadata": {},
     "output_type": "execute_result"
    },
    {
     "data": {
      "image/png": "[encoded data removed]",
      "text/plain": [
       "<Figure size 640x480 with 1 Axes>"
      ]
     },
     "metadata": {},
     "output_type": "display_data"
    }
   ],
   "source": [
    "detector.plot(GroundTruth)"
   ]
  },
  {
   "cell_type": "code",
   "execution_count": 17,
   "metadata": {},
   "outputs": [
    {
     "name": "stdout",
     "output_type": "stream",
     "text": [
      "0.8333333333333333\n",
      "0.8661535949481861\n"
     ]
    }
   ],
   "source": [
    "f1,cov = [],[]\n",
    "for k,metrics in METRICS_SWD.items():\n",
    "    f1.append(metrics['F1'])\n",
    "    cov.append(metrics['Covering'])\n",
    "\n",
    "print(np.mean(f1))\n",
    "print(np.mean(cov))"
   ]
  }
 ],
 "metadata": {
  "kernelspec": {
   "display_name": "torch",
   "language": "python",
   "name": "python3"
  },
  "language_info": {
   "codemirror_mode": {
    "name": "ipython",
    "version": 3
   },
   "file_extension": ".py",
   "mimetype": "text/x-python",
   "name": "python",
   "nbconvert_exporter": "python",
   "pygments_lexer": "ipython3",
   "version": "3.12.7"
  }
 },
 "nbformat": 4,
 "nbformat_minor": 2
}
