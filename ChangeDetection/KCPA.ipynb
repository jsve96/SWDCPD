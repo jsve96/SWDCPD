{
 "cells": [
  {
   "cell_type": "code",
   "execution_count": 1,
   "metadata": {},
   "outputs": [],
   "source": [
    "import numpy as np\n",
    "import time\n",
    "import pandas as pd\n",
    "import matplotlib.pyplot as plt\n",
    "from claspy.segmentation import BinaryClaSPSegmentation\n",
    "from claspy.data_loader import load_tssb_dataset, load_has_dataset\n",
    "import ruptures as rpt \n",
    "from utilsCPD import *"
   ]
  },
  {
   "cell_type": "code",
   "execution_count": 2,
   "metadata": {},
   "outputs": [],
   "source": [
    "df_TS_CL = load_has_dataset()"
   ]
  },
  {
   "cell_type": "code",
   "execution_count": 3,
   "metadata": {},
   "outputs": [
    {
     "name": "stdout",
     "output_type": "stream",
     "text": [
      "10\n",
      "14\n",
      "7\n",
      "182\n",
      "225\n",
      "19\n",
      "185\n",
      "33\n",
      "36\n",
      "87\n",
      "88\n",
      "210\n",
      "11\n",
      "20\n",
      "23\n",
      "243\n",
      "247\n",
      "91\n",
      "95\n",
      "96\n",
      "100\n",
      "141\n",
      "91\n",
      "95\n",
      "245\n"
     ]
    }
   ],
   "source": [
    "METRICS = {}\n",
    "IDs = [10,14,7,182,225,19,185,33,36,87,88,210,11,20,23,243,247,91,95,96,100,141,91,95,245]\n",
    "\n",
    "\n",
    "for id in IDs:\n",
    "    print(id)\n",
    "    METRICS[id]  = {}\n",
    "\n",
    "    dataset, window_size, true_cps,labels, time_series = df_TS_CL.iloc[id,:]\n",
    "    algo_c = rpt.KernelCPD(kernel=\"rbf\", min_size=2).fit(\n",
    "        time_series\n",
    "    ) \n",
    "    penalty_value = 10 # beta\n",
    "    cps_KCPA_PELT = algo_c.predict(pen=penalty_value)\n",
    "    cps = np.array(cps_KCPA_PELT)[:-1]\n",
    "    f1,AUC_run = f_measure({'0':true_cps},cps,100)\n",
    "    METRICS[id]['F1'] = f1\n",
    "    METRICS[id]['AUC'] = AUC_run\n",
    "    METRICS[id]['Covering'] = covering({'0':true_cps},cps,time_series.shape[0])\n",
    "\n",
    "\n",
    "f1,cov,AUC = [],[],[]\n",
    "for k,metrics in METRICS.items():\n",
    "    if len(metrics)>1:\n",
    "        f1.append(metrics['F1'])\n",
    "        cov.append(metrics['Covering'])\n",
    "        AUC.append(metrics['AUC'])"
   ]
  },
  {
   "cell_type": "code",
   "execution_count": 4,
   "metadata": {},
   "outputs": [
    {
     "name": "stdout",
     "output_type": "stream",
     "text": [
      "0.41465747239404527\n",
      "0.585138565707187\n",
      "0.6571305605290371\n"
     ]
    }
   ],
   "source": [
    "f1,cov,AUC = [],[],[]\n",
    "for k,metrics in METRICS.items():\n",
    "    if len(metrics)>1:\n",
    "        f1.append(metrics['F1'])\n",
    "        cov.append(metrics['Covering'])\n",
    "        AUC.append(metrics['AUC'])\n",
    "\n",
    "print(np.mean(f1))\n",
    "print(np.mean(cov))\n",
    "print(np.mean(AUC))"
   ]
  },
  {
   "cell_type": "code",
   "execution_count": 5,
   "metadata": {},
   "outputs": [
    {
     "name": "stdout",
     "output_type": "stream",
     "text": [
      "[ 153  827  919 1454 1527 2269 2358 2896 2960 3806 4107 6654 6742 7035\n",
      " 7213 7364 7492 8086]\n",
      "0.6407256925917354\n",
      "0.5182186234817814\n"
     ]
    }
   ],
   "source": [
    "Occupancy = pd.read_csv('./datasets/Occupancy/Occupancy.csv').iloc[:,1:]\n",
    "algo_c = rpt.KernelCPD(kernel=\"rbf\", min_size=2).fit(\n",
    "        Occupancy.to_numpy()\n",
    "    ) \n",
    "penalty_value = 50 # beta\n",
    "cps_KCPA_PELT = algo_c.predict(pen=penalty_value)\n",
    "cps = np.array(cps_KCPA_PELT)[:-1]\n",
    "print(cps)\n",
    "GroundTruth = [15,831,1455,2271,2895,3743,4271,5183,5759,6655,7215,8095]\n",
    "f1,AUC_run = f_measure({'0':GroundTruth},cps,30)\n",
    "print(covering({'0':GroundTruth},cps,Occupancy.shape[0]))\n",
    "print(AUC_run)"
   ]
  },
  {
   "cell_type": "code",
   "execution_count": 6,
   "metadata": {},
   "outputs": [],
   "source": [
    "import zipfile\n",
    "import json\n",
    "\n",
    "zip_file_path = './datasets/MNISTSeq.zip'\n",
    "\n",
    "with zipfile.ZipFile(zip_file_path, 'r') as zip_ref:\n",
    "    zip_contents = zip_ref.namelist()\n",
    "    json_file_name = zip_contents[0]\n",
    "    with zip_ref.open(json_file_name) as json_file:\n",
    "        data = json.load(json_file)"
   ]
  },
  {
   "cell_type": "code",
   "execution_count": 10,
   "metadata": {},
   "outputs": [
    {
     "name": "stdout",
     "output_type": "stream",
     "text": [
      "[200 400]\n",
      "[  4 200 374 381 400]\n",
      "[200 400]\n",
      "[  4 200 287 400]\n",
      "[200 400]\n",
      "[200 287 400 600]\n",
      "[200 400 404 600 774 781]\n",
      "[ 87 200 204 400 600]\n",
      "[200 287 400 600]\n",
      "[  4 200 287 400 600]\n",
      "[200 204 400 600 687 800]\n",
      "[174 181 200 400 600 800]\n",
      "[200 400 600 800]\n",
      "[200 204 400 600 800]\n",
      "[200 400 600 800]\n",
      "0.8955555555555555\n",
      "0.08489407684399873\n",
      "0.9463222222222224\n",
      "0.05303691819250082\n"
     ]
    }
   ],
   "source": [
    "F1,Covering,AUC = [],[],[]\n",
    "\n",
    "for id, k in enumerate(data.keys()):\n",
    "    ground_truths = data[k]['target']\n",
    "    ts = data[k]['data']\n",
    "    n = ground_truths[-1] + 200\n",
    "    algo_c = rpt.KernelCPD(kernel=\"rbf\", min_size=1).fit(\n",
    "        np.array(ts)\n",
    "    ) \n",
    "    penalty_value = 1# beta\n",
    "    cps_KCPA_PELT = algo_c.predict(pen=penalty_value)\n",
    "    cps = np.array(cps_KCPA_PELT)[:-1]\n",
    "    print(cps)\n",
    "    f1, AUC_score = f_measure({'0':ground_truths},cps,20)\n",
    "    covering_score = covering({'0':ground_truths},cps,n)\n",
    "    F1.append(f1)\n",
    "    AUC.append(AUC_score)\n",
    "    Covering.append(covering_score)\n",
    "\n",
    "print(np.mean(AUC))\n",
    "print(np.std(AUC))\n",
    "print(np.mean(Covering))\n",
    "print(np.std(Covering))"
   ]
  }
 ],
 "metadata": {
  "kernelspec": {
   "display_name": "torch",
   "language": "python",
   "name": "python3"
  },
  "language_info": {
   "codemirror_mode": {
    "name": "ipython",
    "version": 3
   },
   "file_extension": ".py",
   "mimetype": "text/x-python",
   "name": "python",
   "nbconvert_exporter": "python",
   "pygments_lexer": "ipython3",
   "version": "3.12.7"
  }
 },
 "nbformat": 4,
 "nbformat_minor": 2
}
