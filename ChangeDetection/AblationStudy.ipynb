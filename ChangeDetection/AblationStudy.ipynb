{
 "cells": [
  {
   "cell_type": "code",
   "execution_count": 2,
   "metadata": {},
   "outputs": [],
   "source": [
    "import matplotlib.pyplot as plt\n",
    "from utilsCPD import *\n",
    "from SWCPD import BaseDetector as SWDCP"
   ]
  },
  {
   "cell_type": "code",
   "execution_count": 1,
   "metadata": {},
   "outputs": [],
   "source": [
    "from itertools import product\n",
    "import time as time\n",
    "import zipfile\n",
    "import json\n",
    "\n",
    "zip_file_path = './datasets/MNISTSeq.zip'\n",
    "\n",
    "with zipfile.ZipFile(zip_file_path, 'r') as zip_ref:\n",
    "    zip_contents = zip_ref.namelist()\n",
    "    json_file_name = zip_contents[0]\n",
    "    with zip_ref.open(json_file_name) as json_file:\n",
    "        data = json.load(json_file)"
   ]
  },
  {
   "cell_type": "markdown",
   "metadata": {},
   "source": [
    "### Window Lenght"
   ]
  },
  {
   "cell_type": "code",
   "execution_count": 4,
   "metadata": {},
   "outputs": [
    {
     "name": "stdout",
     "output_type": "stream",
     "text": [
      "[200, 400]\n",
      "(5, 0.05, 20, 1000, 4)\n",
      "5\n"
     ]
    },
    {
     "name": "stderr",
     "output_type": "stream",
     "text": [
      "  0%|          | 0/596 [00:00<?, ?it/s]"
     ]
    },
    {
     "name": "stderr",
     "output_type": "stream",
     "text": [
      "100%|██████████| 596/596 [00:05<00:00, 108.79it/s]\n"
     ]
    },
    {
     "name": "stdout",
     "output_type": "stream",
     "text": [
      "5.480008602142334\n",
      "F1 score: 0.5\n",
      "Covering: 0.33333333333333326\n",
      "0.6666666666666667\n",
      "(20, 0.05, 20, 1000, 4)\n",
      "20\n"
     ]
    },
    {
     "name": "stderr",
     "output_type": "stream",
     "text": [
      "100%|██████████| 581/581 [00:05<00:00, 97.12it/s] \n"
     ]
    },
    {
     "name": "stdout",
     "output_type": "stream",
     "text": [
      "5.984766960144043\n",
      "F1 score: 0.8\n",
      "Covering: 0.6467338217338217\n",
      "0.8333333333333333\n",
      "(50, 0.05, 20, 1000, 4)\n",
      "50\n"
     ]
    },
    {
     "name": "stderr",
     "output_type": "stream",
     "text": [
      "100%|██████████| 551/551 [00:05<00:00, 103.60it/s]\n"
     ]
    },
    {
     "name": "stdout",
     "output_type": "stream",
     "text": [
      "5.318488121032715\n",
      "F1 score: 1.0\n",
      "Covering: 0.884492389331099\n",
      "1.0\n",
      "(70, 0.05, 20, 1000, 4)\n",
      "70\n"
     ]
    },
    {
     "name": "stderr",
     "output_type": "stream",
     "text": [
      "100%|██████████| 531/531 [00:05<00:00, 99.83it/s] \n"
     ]
    },
    {
     "name": "stdout",
     "output_type": "stream",
     "text": [
      "5.33513069152832\n",
      "F1 score: 0.3333333333333333\n",
      "Covering: 0.8642226528417507\n",
      "0.3333333333333333\n",
      "(100, 0.05, 20, 1000, 4)\n",
      "100\n"
     ]
    },
    {
     "name": "stderr",
     "output_type": "stream",
     "text": [
      "100%|██████████| 501/501 [00:05<00:00, 94.53it/s]\n"
     ]
    },
    {
     "name": "stdout",
     "output_type": "stream",
     "text": [
      "5.301119089126587\n",
      "F1 score: 0.3333333333333333\n",
      "Covering: 0.8195407285581958\n",
      "0.3333333333333333\n",
      "[200, 400]\n",
      "(5, 0.05, 20, 1000, 4)\n",
      "5\n"
     ]
    },
    {
     "name": "stderr",
     "output_type": "stream",
     "text": [
      "100%|██████████| 596/596 [00:05<00:00, 106.70it/s]\n"
     ]
    },
    {
     "name": "stdout",
     "output_type": "stream",
     "text": [
      "5.588648557662964\n",
      "F1 score: 0.3333333333333333\n",
      "Covering: 0.5101532274744762\n",
      "0.3333333333333333\n",
      "(20, 0.05, 20, 1000, 4)\n",
      "20\n"
     ]
    },
    {
     "name": "stderr",
     "output_type": "stream",
     "text": [
      "100%|██████████| 581/581 [00:05<00:00, 102.01it/s]\n"
     ]
    },
    {
     "name": "stdout",
     "output_type": "stream",
     "text": [
      "5.698701858520508\n",
      "F1 score: 0.8\n",
      "Covering: 0.6525298090988433\n",
      "0.8333333333333333\n",
      "(50, 0.05, 20, 1000, 4)\n",
      "50\n"
     ]
    },
    {
     "name": "stderr",
     "output_type": "stream",
     "text": [
      "100%|██████████| 551/551 [00:04<00:00, 121.22it/s]\n"
     ]
    },
    {
     "name": "stdout",
     "output_type": "stream",
     "text": [
      "4.54749608039856\n",
      "F1 score: 0.8\n",
      "Covering: 0.6374043592066848\n",
      "0.8333333333333333\n",
      "(70, 0.05, 20, 1000, 4)\n",
      "70\n"
     ]
    },
    {
     "name": "stderr",
     "output_type": "stream",
     "text": [
      "100%|██████████| 531/531 [00:04<00:00, 106.85it/s]\n"
     ]
    },
    {
     "name": "stdout",
     "output_type": "stream",
     "text": [
      "4.969458818435669\n",
      "F1 score: 0.5714285714285715\n",
      "Covering: 0.8560893404289631\n",
      "0.5833333333333334\n",
      "(100, 0.05, 20, 1000, 4)\n",
      "100\n"
     ]
    },
    {
     "name": "stderr",
     "output_type": "stream",
     "text": [
      "100%|██████████| 501/501 [00:05<00:00, 94.57it/s] \n"
     ]
    },
    {
     "name": "stdout",
     "output_type": "stream",
     "text": [
      "5.299735069274902\n",
      "F1 score: 0.5714285714285715\n",
      "Covering: 0.8143906444670971\n",
      "0.5833333333333334\n",
      "[200, 400]\n",
      "(5, 0.05, 20, 1000, 4)\n",
      "5\n"
     ]
    },
    {
     "name": "stderr",
     "output_type": "stream",
     "text": [
      "100%|██████████| 596/596 [00:05<00:00, 110.62it/s]\n"
     ]
    },
    {
     "name": "stdout",
     "output_type": "stream",
     "text": [
      "5.389824151992798\n",
      "F1 score: 0.28571428571428575\n",
      "Covering: 0.4165669515669515\n",
      "0.29166666666666663\n",
      "(20, 0.05, 20, 1000, 4)\n",
      "20\n"
     ]
    },
    {
     "name": "stderr",
     "output_type": "stream",
     "text": [
      "100%|██████████| 581/581 [00:05<00:00, 103.34it/s]\n"
     ]
    },
    {
     "name": "stdout",
     "output_type": "stream",
     "text": [
      "5.625325441360474\n",
      "F1 score: 1.0\n",
      "Covering: 0.945069009937431\n",
      "1.0\n",
      "(50, 0.05, 20, 1000, 4)\n",
      "50\n"
     ]
    },
    {
     "name": "stderr",
     "output_type": "stream",
     "text": [
      "100%|██████████| 551/551 [00:05<00:00, 110.20it/s]\n"
     ]
    },
    {
     "name": "stdout",
     "output_type": "stream",
     "text": [
      "5.001070737838745\n",
      "F1 score: 1.0\n",
      "Covering: 0.9203417781321049\n",
      "1.0\n",
      "(70, 0.05, 20, 1000, 4)\n",
      "70\n"
     ]
    },
    {
     "name": "stderr",
     "output_type": "stream",
     "text": [
      "100%|██████████| 531/531 [00:04<00:00, 108.24it/s]\n"
     ]
    },
    {
     "name": "stdout",
     "output_type": "stream",
     "text": [
      "4.911715030670166\n",
      "F1 score: 1.0\n",
      "Covering: 0.9142663039503898\n",
      "1.0\n",
      "(100, 0.05, 20, 1000, 4)\n",
      "100\n"
     ]
    },
    {
     "name": "stderr",
     "output_type": "stream",
     "text": [
      "100%|██████████| 501/501 [00:05<00:00, 92.98it/s]\n"
     ]
    },
    {
     "name": "stdout",
     "output_type": "stream",
     "text": [
      "5.390220403671265\n",
      "F1 score: 1.0\n",
      "Covering: 0.8874477972069665\n",
      "1.0\n",
      "[200, 400]\n",
      "(5, 0.05, 20, 1000, 4)\n",
      "5\n"
     ]
    },
    {
     "name": "stderr",
     "output_type": "stream",
     "text": [
      "100%|██████████| 596/596 [00:05<00:00, 108.52it/s]\n"
     ]
    },
    {
     "name": "stdout",
     "output_type": "stream",
     "text": [
      "5.494973182678223\n",
      "F1 score: 0.6666666666666666\n",
      "Covering: 0.5471995115252737\n",
      "0.6666666666666666\n",
      "(20, 0.05, 20, 1000, 4)\n",
      "20\n"
     ]
    },
    {
     "name": "stderr",
     "output_type": "stream",
     "text": [
      "100%|██████████| 581/581 [00:05<00:00, 105.43it/s]\n"
     ]
    },
    {
     "name": "stdout",
     "output_type": "stream",
     "text": [
      "5.511720180511475\n",
      "F1 score: 1.0\n",
      "Covering: 0.9482095169852607\n",
      "1.0\n",
      "(50, 0.05, 20, 1000, 4)\n",
      "50\n"
     ]
    },
    {
     "name": "stderr",
     "output_type": "stream",
     "text": [
      "100%|██████████| 551/551 [00:04<00:00, 117.93it/s]\n"
     ]
    },
    {
     "name": "stdout",
     "output_type": "stream",
     "text": [
      "4.6723737716674805\n",
      "F1 score: 1.0\n",
      "Covering: 0.9112555322618217\n",
      "1.0\n",
      "(70, 0.05, 20, 1000, 4)\n",
      "70\n"
     ]
    },
    {
     "name": "stderr",
     "output_type": "stream",
     "text": [
      "100%|██████████| 531/531 [00:04<00:00, 107.59it/s]\n"
     ]
    },
    {
     "name": "stdout",
     "output_type": "stream",
     "text": [
      "4.93517541885376\n",
      "F1 score: 1.0\n",
      "Covering: 0.9295339652448656\n",
      "1.0\n",
      "(100, 0.05, 20, 1000, 4)\n",
      "100\n"
     ]
    },
    {
     "name": "stderr",
     "output_type": "stream",
     "text": [
      "100%|██████████| 501/501 [00:05<00:00, 93.87it/s]\n"
     ]
    },
    {
     "name": "stdout",
     "output_type": "stream",
     "text": [
      "5.338185787200928\n",
      "F1 score: 1.0\n",
      "Covering: 0.9082888444483088\n",
      "1.0\n",
      "[200, 400]\n",
      "(5, 0.05, 20, 1000, 4)\n",
      "5\n"
     ]
    },
    {
     "name": "stderr",
     "output_type": "stream",
     "text": [
      "100%|██████████| 596/596 [00:05<00:00, 111.31it/s]\n"
     ]
    },
    {
     "name": "stdout",
     "output_type": "stream",
     "text": [
      "5.360360383987427\n",
      "F1 score: 0.3333333333333333\n",
      "Covering: 0.387681755829904\n",
      "0.3333333333333333\n",
      "(20, 0.05, 20, 1000, 4)\n",
      "20\n"
     ]
    },
    {
     "name": "stderr",
     "output_type": "stream",
     "text": [
      "100%|██████████| 581/581 [00:05<00:00, 102.25it/s]\n"
     ]
    },
    {
     "name": "stdout",
     "output_type": "stream",
     "text": [
      "5.685237884521484\n",
      "F1 score: 1.0\n",
      "Covering: 0.9513582311408398\n",
      "1.0\n",
      "(50, 0.05, 20, 1000, 4)\n",
      "50\n"
     ]
    },
    {
     "name": "stderr",
     "output_type": "stream",
     "text": [
      "100%|██████████| 551/551 [00:04<00:00, 118.70it/s]\n"
     ]
    },
    {
     "name": "stdout",
     "output_type": "stream",
     "text": [
      "4.642599821090698\n",
      "F1 score: 1.0\n",
      "Covering: 0.9326685325628987\n",
      "1.0\n",
      "(70, 0.05, 20, 1000, 4)\n",
      "70\n"
     ]
    },
    {
     "name": "stderr",
     "output_type": "stream",
     "text": [
      "100%|██████████| 531/531 [00:04<00:00, 106.24it/s]\n"
     ]
    },
    {
     "name": "stdout",
     "output_type": "stream",
     "text": [
      "4.997901201248169\n",
      "F1 score: 1.0\n",
      "Covering: 0.9265105307874615\n",
      "1.0\n",
      "(100, 0.05, 20, 1000, 4)\n",
      "100\n"
     ]
    },
    {
     "name": "stderr",
     "output_type": "stream",
     "text": [
      "100%|██████████| 501/501 [00:05<00:00, 89.50it/s]\n"
     ]
    },
    {
     "name": "stdout",
     "output_type": "stream",
     "text": [
      "5.599592208862305\n",
      "F1 score: 1.0\n",
      "Covering: 0.9052713052508601\n",
      "1.0\n",
      "[200, 400, 600]\n",
      "(5, 0.05, 20, 1000, 4)\n",
      "5\n"
     ]
    },
    {
     "name": "stderr",
     "output_type": "stream",
     "text": [
      "100%|██████████| 796/796 [00:07<00:00, 108.57it/s]\n"
     ]
    },
    {
     "name": "stdout",
     "output_type": "stream",
     "text": [
      "7.333887100219727\n",
      "F1 score: 0.4\n",
      "Covering: 0.25\n",
      "0.625\n",
      "(20, 0.05, 20, 1000, 4)\n",
      "20\n"
     ]
    },
    {
     "name": "stderr",
     "output_type": "stream",
     "text": [
      "100%|██████████| 781/781 [00:07<00:00, 103.13it/s]\n"
     ]
    },
    {
     "name": "stdout",
     "output_type": "stream",
     "text": [
      "7.574930667877197\n",
      "F1 score: 1.0\n",
      "Covering: 0.9349306395359026\n",
      "1.0\n",
      "(50, 0.05, 20, 1000, 4)\n",
      "50\n"
     ]
    },
    {
     "name": "stderr",
     "output_type": "stream",
     "text": [
      "100%|██████████| 751/751 [00:06<00:00, 117.46it/s]\n"
     ]
    },
    {
     "name": "stdout",
     "output_type": "stream",
     "text": [
      "6.394312620162964\n",
      "F1 score: 0.75\n",
      "Covering: 0.8810739675016928\n",
      "0.75\n",
      "(70, 0.05, 20, 1000, 4)\n",
      "70\n"
     ]
    },
    {
     "name": "stderr",
     "output_type": "stream",
     "text": [
      "100%|██████████| 731/731 [00:06<00:00, 107.82it/s]\n"
     ]
    },
    {
     "name": "stdout",
     "output_type": "stream",
     "text": [
      "6.781581163406372\n",
      "F1 score: 0.75\n",
      "Covering: 0.8631547532579156\n",
      "0.75\n",
      "(100, 0.05, 20, 1000, 4)\n",
      "100\n"
     ]
    },
    {
     "name": "stderr",
     "output_type": "stream",
     "text": [
      "100%|██████████| 701/701 [00:07<00:00, 94.10it/s]\n"
     ]
    },
    {
     "name": "stdout",
     "output_type": "stream",
     "text": [
      "7.451524019241333\n",
      "F1 score: 0.5\n",
      "Covering: 0.8164985723002167\n",
      "0.5\n",
      "[200, 400, 600]\n",
      "(5, 0.05, 20, 1000, 4)\n",
      "5\n"
     ]
    },
    {
     "name": "stderr",
     "output_type": "stream",
     "text": [
      "100%|██████████| 796/796 [00:06<00:00, 118.80it/s]\n"
     ]
    },
    {
     "name": "stdout",
     "output_type": "stream",
     "text": [
      "6.70174765586853\n",
      "F1 score: 0.5\n",
      "Covering: 0.6268206559986198\n",
      "0.5\n",
      "(20, 0.05, 20, 1000, 4)\n",
      "20\n"
     ]
    },
    {
     "name": "stderr",
     "output_type": "stream",
     "text": [
      "100%|██████████| 781/781 [00:06<00:00, 113.93it/s]\n"
     ]
    },
    {
     "name": "stdout",
     "output_type": "stream",
     "text": [
      "6.860655069351196\n",
      "F1 score: 1.0\n",
      "Covering: 0.9512680530571564\n",
      "1.0\n",
      "(50, 0.05, 20, 1000, 4)\n",
      "50\n"
     ]
    },
    {
     "name": "stderr",
     "output_type": "stream",
     "text": [
      "100%|██████████| 751/751 [00:06<00:00, 117.06it/s]\n"
     ]
    },
    {
     "name": "stdout",
     "output_type": "stream",
     "text": [
      "6.423643350601196\n",
      "F1 score: 1.0\n",
      "Covering: 0.9004041707032482\n",
      "1.0\n",
      "(70, 0.05, 20, 1000, 4)\n",
      "70\n"
     ]
    },
    {
     "name": "stderr",
     "output_type": "stream",
     "text": [
      "100%|██████████| 731/731 [00:06<00:00, 108.08it/s]\n"
     ]
    },
    {
     "name": "stdout",
     "output_type": "stream",
     "text": [
      "6.763429164886475\n",
      "F1 score: 0.6666666666666665\n",
      "Covering: 0.8741896679574853\n",
      "0.675\n",
      "(100, 0.05, 20, 1000, 4)\n",
      "100\n"
     ]
    },
    {
     "name": "stderr",
     "output_type": "stream",
     "text": [
      "100%|██████████| 701/701 [00:07<00:00, 93.32it/s]\n"
     ]
    },
    {
     "name": "stdout",
     "output_type": "stream",
     "text": [
      "7.512744903564453\n",
      "F1 score: 0.6666666666666665\n",
      "Covering: 0.8235239255396095\n",
      "0.675\n",
      "[200, 400, 600]\n",
      "(5, 0.05, 20, 1000, 4)\n",
      "5\n"
     ]
    },
    {
     "name": "stderr",
     "output_type": "stream",
     "text": [
      "100%|██████████| 796/796 [00:07<00:00, 106.36it/s]\n"
     ]
    },
    {
     "name": "stdout",
     "output_type": "stream",
     "text": [
      "7.486190557479858\n",
      "F1 score: 0.75\n",
      "Covering: 0.6578122722940165\n",
      "0.75\n",
      "(20, 0.05, 20, 1000, 4)\n",
      "20\n"
     ]
    },
    {
     "name": "stderr",
     "output_type": "stream",
     "text": [
      "100%|██████████| 781/781 [00:07<00:00, 107.67it/s]\n"
     ]
    },
    {
     "name": "stdout",
     "output_type": "stream",
     "text": [
      "7.255907773971558\n",
      "F1 score: 0.8571428571428571\n",
      "Covering: 0.7296644781654226\n",
      "0.875\n",
      "(50, 0.05, 20, 1000, 4)\n",
      "50\n"
     ]
    },
    {
     "name": "stderr",
     "output_type": "stream",
     "text": [
      "100%|██████████| 751/751 [00:06<00:00, 115.61it/s]\n"
     ]
    },
    {
     "name": "stdout",
     "output_type": "stream",
     "text": [
      "6.495896816253662\n",
      "F1 score: 1.0\n",
      "Covering: 0.8940539919513603\n",
      "1.0\n",
      "(70, 0.05, 20, 1000, 4)\n",
      "70\n"
     ]
    },
    {
     "name": "stderr",
     "output_type": "stream",
     "text": [
      "100%|██████████| 731/731 [00:06<00:00, 107.12it/s]\n"
     ]
    },
    {
     "name": "stdout",
     "output_type": "stream",
     "text": [
      "6.824237108230591\n",
      "F1 score: 0.6666666666666665\n",
      "Covering: 0.8973259296653581\n",
      "0.675\n",
      "(100, 0.05, 20, 1000, 4)\n",
      "100\n"
     ]
    },
    {
     "name": "stderr",
     "output_type": "stream",
     "text": [
      "100%|██████████| 701/701 [00:07<00:00, 94.36it/s]\n"
     ]
    },
    {
     "name": "stdout",
     "output_type": "stream",
     "text": [
      "7.42993688583374\n",
      "F1 score: 0.75\n",
      "Covering: 0.8542445722113828\n",
      "0.75\n",
      "[200, 400, 600]\n",
      "(5, 0.05, 20, 1000, 4)\n",
      "5\n"
     ]
    },
    {
     "name": "stderr",
     "output_type": "stream",
     "text": [
      "100%|██████████| 796/796 [00:07<00:00, 112.57it/s]\n"
     ]
    },
    {
     "name": "stdout",
     "output_type": "stream",
     "text": [
      "7.07283353805542\n",
      "F1 score: 0.6666666666666666\n",
      "Covering: 0.4958929396572353\n",
      "0.75\n",
      "(20, 0.05, 20, 1000, 4)\n",
      "20\n"
     ]
    },
    {
     "name": "stderr",
     "output_type": "stream",
     "text": [
      "100%|██████████| 781/781 [00:06<00:00, 128.27it/s]\n"
     ]
    },
    {
     "name": "stdout",
     "output_type": "stream",
     "text": [
      "6.089564800262451\n",
      "F1 score: 1.0\n",
      "Covering: 0.9418799173747686\n",
      "1.0\n",
      "(50, 0.05, 20, 1000, 4)\n",
      "50\n"
     ]
    },
    {
     "name": "stderr",
     "output_type": "stream",
     "text": [
      "100%|██████████| 751/751 [00:06<00:00, 116.19it/s]\n"
     ]
    },
    {
     "name": "stdout",
     "output_type": "stream",
     "text": [
      "6.4645209312438965\n",
      "F1 score: 1.0\n",
      "Covering: 0.8895717232879649\n",
      "1.0\n",
      "(70, 0.05, 20, 1000, 4)\n",
      "70\n"
     ]
    },
    {
     "name": "stderr",
     "output_type": "stream",
     "text": [
      "100%|██████████| 731/731 [00:07<00:00, 101.27it/s]\n"
     ]
    },
    {
     "name": "stdout",
     "output_type": "stream",
     "text": [
      "7.219399690628052\n",
      "F1 score: 0.75\n",
      "Covering: 0.8717365969517411\n",
      "0.75\n",
      "(100, 0.05, 20, 1000, 4)\n",
      "100\n"
     ]
    },
    {
     "name": "stderr",
     "output_type": "stream",
     "text": [
      "100%|██████████| 701/701 [00:07<00:00, 96.22it/s] \n"
     ]
    },
    {
     "name": "stdout",
     "output_type": "stream",
     "text": [
      "7.293736696243286\n",
      "F1 score: 0.5\n",
      "Covering: 0.8566633148986089\n",
      "0.5\n",
      "[200, 400, 600]\n",
      "(5, 0.05, 20, 1000, 4)\n",
      "5\n"
     ]
    },
    {
     "name": "stderr",
     "output_type": "stream",
     "text": [
      "100%|██████████| 796/796 [00:07<00:00, 108.92it/s]\n"
     ]
    },
    {
     "name": "stdout",
     "output_type": "stream",
     "text": [
      "7.3109002113342285\n",
      "F1 score: 0.5714285714285715\n",
      "Covering: 0.41091757019910724\n",
      "0.5833333333333333\n",
      "(20, 0.05, 20, 1000, 4)\n",
      "20\n"
     ]
    },
    {
     "name": "stderr",
     "output_type": "stream",
     "text": [
      "100%|██████████| 781/781 [00:07<00:00, 110.07it/s]\n"
     ]
    },
    {
     "name": "stdout",
     "output_type": "stream",
     "text": [
      "7.10179328918457\n",
      "F1 score: 1.0\n",
      "Covering: 0.944333466241361\n",
      "1.0\n",
      "(50, 0.05, 20, 1000, 4)\n",
      "50\n"
     ]
    },
    {
     "name": "stderr",
     "output_type": "stream",
     "text": [
      "100%|██████████| 751/751 [00:06<00:00, 117.83it/s]\n"
     ]
    },
    {
     "name": "stdout",
     "output_type": "stream",
     "text": [
      "6.37560510635376\n",
      "F1 score: 0.75\n",
      "Covering: 0.8901308893944023\n",
      "0.75\n",
      "(70, 0.05, 20, 1000, 4)\n",
      "70\n"
     ]
    },
    {
     "name": "stderr",
     "output_type": "stream",
     "text": [
      "100%|██████████| 731/731 [00:06<00:00, 107.31it/s]\n"
     ]
    },
    {
     "name": "stdout",
     "output_type": "stream",
     "text": [
      "6.8120951652526855\n",
      "F1 score: 0.75\n",
      "Covering: 0.8776382461890653\n",
      "0.75\n",
      "(100, 0.05, 20, 1000, 4)\n",
      "100\n"
     ]
    },
    {
     "name": "stderr",
     "output_type": "stream",
     "text": [
      "100%|██████████| 701/701 [00:07<00:00, 94.88it/s]\n"
     ]
    },
    {
     "name": "stdout",
     "output_type": "stream",
     "text": [
      "7.387945652008057\n",
      "F1 score: 0.6666666666666665\n",
      "Covering: 0.8606100027693395\n",
      "0.675\n",
      "[200, 400, 600, 800]\n",
      "(5, 0.05, 20, 1000, 4)\n",
      "5\n"
     ]
    },
    {
     "name": "stderr",
     "output_type": "stream",
     "text": [
      "100%|██████████| 996/996 [00:08<00:00, 121.35it/s]\n"
     ]
    },
    {
     "name": "stdout",
     "output_type": "stream",
     "text": [
      "8.209765672683716\n",
      "F1 score: 0.5\n",
      "Covering: 0.47818111926944085\n",
      "0.5333333333333333\n",
      "(20, 0.05, 20, 1000, 4)\n",
      "20\n"
     ]
    },
    {
     "name": "stderr",
     "output_type": "stream",
     "text": [
      "100%|██████████| 981/981 [00:08<00:00, 114.87it/s]\n"
     ]
    },
    {
     "name": "stdout",
     "output_type": "stream",
     "text": [
      "8.551080465316772\n",
      "F1 score: 0.7499999999999999\n",
      "Covering: 0.5801779359636503\n",
      "0.8\n",
      "(50, 0.05, 20, 1000, 4)\n",
      "50\n"
     ]
    },
    {
     "name": "stderr",
     "output_type": "stream",
     "text": [
      "100%|██████████| 951/951 [00:08<00:00, 114.65it/s]\n"
     ]
    },
    {
     "name": "stdout",
     "output_type": "stream",
     "text": [
      "8.295830726623535\n",
      "F1 score: 0.888888888888889\n",
      "Covering: 0.7236735619152913\n",
      "0.9\n",
      "(70, 0.05, 20, 1000, 4)\n",
      "70\n"
     ]
    },
    {
     "name": "stderr",
     "output_type": "stream",
     "text": [
      "100%|██████████| 931/931 [00:09<00:00, 103.31it/s]\n"
     ]
    },
    {
     "name": "stdout",
     "output_type": "stream",
     "text": [
      "9.017898082733154\n",
      "F1 score: 0.5454545454545454\n",
      "Covering: 0.8451962412622834\n",
      "0.5499999999999999\n",
      "(100, 0.05, 20, 1000, 4)\n",
      "100\n"
     ]
    },
    {
     "name": "stderr",
     "output_type": "stream",
     "text": [
      "100%|██████████| 901/901 [00:09<00:00, 93.59it/s]\n"
     ]
    },
    {
     "name": "stdout",
     "output_type": "stream",
     "text": [
      "9.635152578353882\n",
      "F1 score: 0.4000000000000001\n",
      "Covering: 0.7956588998269695\n",
      "0.39999999999999997\n",
      "[200, 400, 600, 800]\n",
      "(5, 0.05, 20, 1000, 4)\n",
      "5\n"
     ]
    },
    {
     "name": "stderr",
     "output_type": "stream",
     "text": [
      "100%|██████████| 996/996 [00:08<00:00, 118.77it/s]\n"
     ]
    },
    {
     "name": "stdout",
     "output_type": "stream",
     "text": [
      "8.388936758041382\n",
      "F1 score: 0.22222222222222224\n",
      "Covering: 0.35673015873015873\n",
      "0.225\n",
      "(20, 0.05, 20, 1000, 4)\n",
      "20\n"
     ]
    },
    {
     "name": "stderr",
     "output_type": "stream",
     "text": [
      "100%|██████████| 981/981 [00:09<00:00, 102.88it/s]\n"
     ]
    },
    {
     "name": "stdout",
     "output_type": "stream",
     "text": [
      "9.53614068031311\n",
      "F1 score: 0.888888888888889\n",
      "Covering: 0.7671451861015967\n",
      "0.9\n",
      "(50, 0.05, 20, 1000, 4)\n",
      "50\n"
     ]
    },
    {
     "name": "stderr",
     "output_type": "stream",
     "text": [
      "100%|██████████| 951/951 [00:08<00:00, 111.76it/s]\n"
     ]
    },
    {
     "name": "stdout",
     "output_type": "stream",
     "text": [
      "8.51106309890747\n",
      "F1 score: 1.0\n",
      "Covering: 0.8914181417498702\n",
      "1.0\n",
      "(70, 0.05, 20, 1000, 4)\n",
      "70\n"
     ]
    },
    {
     "name": "stderr",
     "output_type": "stream",
     "text": [
      "100%|██████████| 931/931 [00:08<00:00, 105.36it/s]\n"
     ]
    },
    {
     "name": "stdout",
     "output_type": "stream",
     "text": [
      "8.835988283157349\n",
      "F1 score: 0.7272727272727272\n",
      "Covering: 0.8808389452508603\n",
      "0.7333333333333333\n",
      "(100, 0.05, 20, 1000, 4)\n",
      "100\n"
     ]
    },
    {
     "name": "stderr",
     "output_type": "stream",
     "text": [
      "100%|██████████| 901/901 [00:09<00:00, 92.28it/s]\n"
     ]
    },
    {
     "name": "stdout",
     "output_type": "stream",
     "text": [
      "9.766414642333984\n",
      "F1 score: 0.6\n",
      "Covering: 0.8515599044602652\n",
      "0.6\n",
      "[200, 400, 600, 800]\n",
      "(5, 0.05, 20, 1000, 4)\n",
      "5\n"
     ]
    },
    {
     "name": "stderr",
     "output_type": "stream",
     "text": [
      "100%|██████████| 996/996 [00:09<00:00, 106.70it/s]\n"
     ]
    },
    {
     "name": "stdout",
     "output_type": "stream",
     "text": [
      "9.336271286010742\n",
      "F1 score: 0.25\n",
      "Covering: 0.3655008584230141\n",
      "0.26666666666666666\n",
      "(20, 0.05, 20, 1000, 4)\n",
      "20\n"
     ]
    },
    {
     "name": "stderr",
     "output_type": "stream",
     "text": [
      "100%|██████████| 981/981 [00:08<00:00, 111.13it/s]\n"
     ]
    },
    {
     "name": "stdout",
     "output_type": "stream",
     "text": [
      "8.82929253578186\n",
      "F1 score: 0.888888888888889\n",
      "Covering: 0.7627420454446211\n",
      "0.9\n",
      "(50, 0.05, 20, 1000, 4)\n",
      "50\n"
     ]
    },
    {
     "name": "stderr",
     "output_type": "stream",
     "text": [
      "100%|██████████| 951/951 [00:08<00:00, 108.81it/s]\n"
     ]
    },
    {
     "name": "stdout",
     "output_type": "stream",
     "text": [
      "8.741085052490234\n",
      "F1 score: 1.0\n",
      "Covering: 0.8895615843926294\n",
      "1.0\n",
      "(70, 0.05, 20, 1000, 4)\n",
      "70\n"
     ]
    },
    {
     "name": "stderr",
     "output_type": "stream",
     "text": [
      "100%|██████████| 931/931 [00:12<00:00, 77.12it/s]\n"
     ]
    },
    {
     "name": "stdout",
     "output_type": "stream",
     "text": [
      "12.072422504425049\n",
      "F1 score: 0.6\n",
      "Covering: 0.8693438479202643\n",
      "0.6\n",
      "(100, 0.05, 20, 1000, 4)\n",
      "100\n"
     ]
    },
    {
     "name": "stderr",
     "output_type": "stream",
     "text": [
      "100%|██████████| 901/901 [00:13<00:00, 68.95it/s]\n"
     ]
    },
    {
     "name": "stdout",
     "output_type": "stream",
     "text": [
      "13.070305109024048\n",
      "F1 score: 0.4000000000000001\n",
      "Covering: 0.8222970692548163\n",
      "0.39999999999999997\n",
      "[200, 400, 600, 800]\n",
      "(5, 0.05, 20, 1000, 4)\n",
      "5\n"
     ]
    },
    {
     "name": "stderr",
     "output_type": "stream",
     "text": [
      "100%|██████████| 996/996 [00:09<00:00, 101.87it/s]\n"
     ]
    },
    {
     "name": "stdout",
     "output_type": "stream",
     "text": [
      "9.7794349193573\n",
      "F1 score: 0.5454545454545454\n",
      "Covering: 0.7041053254612537\n",
      "0.5499999999999999\n",
      "(20, 0.05, 20, 1000, 4)\n",
      "20\n"
     ]
    },
    {
     "name": "stderr",
     "output_type": "stream",
     "text": [
      "100%|██████████| 981/981 [00:10<00:00, 93.88it/s] \n"
     ]
    },
    {
     "name": "stdout",
     "output_type": "stream",
     "text": [
      "10.449311971664429\n",
      "F1 score: 1.0\n",
      "Covering: 0.9437104924247302\n",
      "1.0\n",
      "(50, 0.05, 20, 1000, 4)\n",
      "50\n"
     ]
    },
    {
     "name": "stderr",
     "output_type": "stream",
     "text": [
      "100%|██████████| 951/951 [00:11<00:00, 79.47it/s]\n"
     ]
    },
    {
     "name": "stdout",
     "output_type": "stream",
     "text": [
      "11.96707272529602\n",
      "F1 score: 1.0\n",
      "Covering: 0.8960808774890625\n",
      "1.0\n",
      "(70, 0.05, 20, 1000, 4)\n",
      "70\n"
     ]
    },
    {
     "name": "stderr",
     "output_type": "stream",
     "text": [
      "100%|██████████| 931/931 [00:11<00:00, 78.88it/s]\n"
     ]
    },
    {
     "name": "stdout",
     "output_type": "stream",
     "text": [
      "11.802730560302734\n",
      "F1 score: 0.8000000000000002\n",
      "Covering: 0.8979130186987138\n",
      "0.8\n",
      "(100, 0.05, 20, 1000, 4)\n",
      "100\n"
     ]
    },
    {
     "name": "stderr",
     "output_type": "stream",
     "text": [
      "100%|██████████| 901/901 [00:13<00:00, 67.96it/s]\n"
     ]
    },
    {
     "name": "stdout",
     "output_type": "stream",
     "text": [
      "13.268667459487915\n",
      "F1 score: 0.7272727272727272\n",
      "Covering: 0.8755114608949055\n",
      "0.7333333333333333\n",
      "[200, 400, 600, 800]\n",
      "(5, 0.05, 20, 1000, 4)\n",
      "5\n"
     ]
    },
    {
     "name": "stderr",
     "output_type": "stream",
     "text": [
      "100%|██████████| 996/996 [00:09<00:00, 99.64it/s] \n"
     ]
    },
    {
     "name": "stdout",
     "output_type": "stream",
     "text": [
      "9.995640993118286\n",
      "F1 score: 0.16666666666666666\n",
      "Covering: 0.29467001675041876\n",
      "0.3483870967741935\n",
      "(20, 0.05, 20, 1000, 4)\n",
      "20\n"
     ]
    },
    {
     "name": "stderr",
     "output_type": "stream",
     "text": [
      "100%|██████████| 981/981 [00:10<00:00, 94.11it/s] \n"
     ]
    },
    {
     "name": "stdout",
     "output_type": "stream",
     "text": [
      "10.423567771911621\n",
      "F1 score: 1.0\n",
      "Covering: 0.9418725700945381\n",
      "1.0\n",
      "(50, 0.05, 20, 1000, 4)\n",
      "50\n"
     ]
    },
    {
     "name": "stderr",
     "output_type": "stream",
     "text": [
      "100%|██████████| 951/951 [00:12<00:00, 78.78it/s]\n"
     ]
    },
    {
     "name": "stdout",
     "output_type": "stream",
     "text": [
      "12.073487520217896\n",
      "F1 score: 1.0\n",
      "Covering: 0.9089175641046217\n",
      "1.0\n",
      "(70, 0.05, 20, 1000, 4)\n",
      "70\n"
     ]
    },
    {
     "name": "stderr",
     "output_type": "stream",
     "text": [
      "100%|██████████| 931/931 [00:11<00:00, 81.39it/s]\n"
     ]
    },
    {
     "name": "stdout",
     "output_type": "stream",
     "text": [
      "11.442381381988525\n",
      "F1 score: 1.0\n",
      "Covering: 0.8947017405713933\n",
      "1.0\n",
      "(100, 0.05, 20, 1000, 4)\n",
      "100\n"
     ]
    },
    {
     "name": "stderr",
     "output_type": "stream",
     "text": [
      "100%|██████████| 901/901 [00:13<00:00, 68.97it/s]"
     ]
    },
    {
     "name": "stdout",
     "output_type": "stream",
     "text": [
      "13.067730903625488\n",
      "F1 score: 0.6\n",
      "Covering: 0.8686552085800866\n",
      "0.6\n"
     ]
    },
    {
     "name": "stderr",
     "output_type": "stream",
     "text": [
      "\n"
     ]
    }
   ],
   "source": [
    "WindowLength = [5,20,50,70,100]#,200]\n",
    "Significance = [0.05]#,0.1,0.2]\n",
    "Lookback = [20]#,0.8,0.5]\n",
    "MonteCarloSample = [1000] #[200,1000,5000]\n",
    "WassersteinOrder = [4]#[1,2,4]\n",
    "\n",
    "METRICS = {}\n",
    "\n",
    "for rs in data.keys():\n",
    "    df = np.array(data[rs]['data']).astype(np.float32)\n",
    "    GroundTruth = data[rs]['target']\n",
    "    METRICS[rs] = {}\n",
    "\n",
    "    print(GroundTruth)\n",
    "\n",
    "    for combination in product(WindowLength,Significance,Lookback,MonteCarloSample,WassersteinOrder):\n",
    "        print(combination)\n",
    "        k,significance, lookack,L,p = combination\n",
    "        print(k)\n",
    "        METRICS[rs][k] = {}\n",
    "        detector = SWDCP(data=df,window_length=k,max_history=k,significance=significance)\n",
    "        start = time.time()\n",
    "        detector.process_dataloader(p=p,n_theta=L,explanations=False,seed=2025,verbose=False)\n",
    "        end = time.time()\n",
    "        print(end-start)\n",
    "        f1,cov, auc_score = detector.evaluate(GroundTruth,20)\n",
    "        METRICS[rs][k]['F1'] = f1\n",
    "        METRICS[rs][k]['Covering'] = cov\n",
    "        METRICS[rs][k]['AUC'] = auc_score\n",
    "        METRICS[rs][k]['cps'] = detector.change_points\n",
    "        METRICS[rs][k]['RunTime'] = end-start\n",
    "\n"
   ]
  },
  {
   "cell_type": "code",
   "execution_count": 5,
   "metadata": {},
   "outputs": [],
   "source": [
    "import pandas as pd\n",
    "import seaborn as sns"
   ]
  },
  {
   "cell_type": "code",
   "execution_count": 6,
   "metadata": {},
   "outputs": [
    {
     "data": {
      "text/plain": [
       "<Axes: >"
      ]
     },
     "execution_count": 6,
     "metadata": {},
     "output_type": "execute_result"
    },
    {
     "data": {
      "image/png": "[encoded data removed]",
      "text/plain": [
       "<Figure size 640x480 with 2 Axes>"
      ]
     },
     "metadata": {},
     "output_type": "display_data"
    }
   ],
   "source": [
    "Plot_data_WC = {k: [] for k in WindowLength}\n",
    "Plot_data_WAUC = {k: [] for k in WindowLength}\n",
    "\n",
    "for seed, val in METRICS.items():\n",
    "    for k, res in val.items():\n",
    "        Plot_data_WC[k].append(res['Covering'])\n",
    "        Plot_data_WAUC[k].append(res['AUC'])\n",
    "\n",
    "fig, ax = plt.subplots(1,2)\n",
    "sns.boxplot(Plot_data_WAUC,ax=ax[0])\n",
    "sns.boxplot(Plot_data_WC,ax=ax[1])\n",
    "\n"
   ]
  },
  {
   "cell_type": "code",
   "execution_count": 7,
   "metadata": {},
   "outputs": [
    {
     "name": "stdout",
     "output_type": "stream",
     "text": [
      "[200, 400]\n",
      "(50, 0.05, 5, 1000, 4)\n",
      "50\n"
     ]
    },
    {
     "name": "stderr",
     "output_type": "stream",
     "text": [
      "100%|██████████| 551/551 [00:04<00:00, 113.39it/s]\n"
     ]
    },
    {
     "name": "stdout",
     "output_type": "stream",
     "text": [
      "4.8613762855529785\n",
      "F1 score: 0.5\n",
      "Covering: 0.33333333333333326\n",
      "0.6666666666666667\n",
      "(50, 0.05, 10, 1000, 4)\n",
      "50\n"
     ]
    },
    {
     "name": "stderr",
     "output_type": "stream",
     "text": [
      "100%|██████████| 551/551 [00:05<00:00, 109.02it/s]\n"
     ]
    },
    {
     "name": "stdout",
     "output_type": "stream",
     "text": [
      "5.055135726928711\n",
      "F1 score: 0.5\n",
      "Covering: 0.33333333333333326\n",
      "0.6666666666666667\n",
      "(50, 0.05, 20, 1000, 4)\n",
      "50\n"
     ]
    },
    {
     "name": "stderr",
     "output_type": "stream",
     "text": [
      "100%|██████████| 551/551 [00:04<00:00, 116.59it/s]\n"
     ]
    },
    {
     "name": "stdout",
     "output_type": "stream",
     "text": [
      "4.72584080696106\n",
      "F1 score: 0.8\n",
      "Covering: 0.6319971340282113\n",
      "0.8333333333333333\n",
      "(50, 0.05, 50, 1000, 4)\n",
      "50\n"
     ]
    },
    {
     "name": "stderr",
     "output_type": "stream",
     "text": [
      "100%|██████████| 551/551 [00:04<00:00, 119.78it/s]\n"
     ]
    },
    {
     "name": "stdout",
     "output_type": "stream",
     "text": [
      "4.60066556930542\n",
      "F1 score: 1.0\n",
      "Covering: 0.884492389331099\n",
      "1.0\n",
      "(50, 0.05, 100, 1000, 4)\n",
      "50\n"
     ]
    },
    {
     "name": "stderr",
     "output_type": "stream",
     "text": [
      "100%|██████████| 551/551 [00:04<00:00, 121.09it/s]\n"
     ]
    },
    {
     "name": "stdout",
     "output_type": "stream",
     "text": [
      "4.551174163818359\n",
      "F1 score: 1.0\n",
      "Covering: 0.8874251415104265\n",
      "1.0\n",
      "[200, 400]\n",
      "(50, 0.05, 5, 1000, 4)\n",
      "50\n"
     ]
    },
    {
     "name": "stderr",
     "output_type": "stream",
     "text": [
      "100%|██████████| 551/551 [00:04<00:00, 118.98it/s]\n"
     ]
    },
    {
     "name": "stdout",
     "output_type": "stream",
     "text": [
      "4.63342547416687\n",
      "F1 score: 0.5\n",
      "Covering: 0.33333333333333326\n",
      "0.6666666666666667\n",
      "(50, 0.05, 10, 1000, 4)\n",
      "50\n"
     ]
    },
    {
     "name": "stderr",
     "output_type": "stream",
     "text": [
      "100%|██████████| 551/551 [00:05<00:00, 109.16it/s]\n"
     ]
    },
    {
     "name": "stdout",
     "output_type": "stream",
     "text": [
      "5.047536849975586\n",
      "F1 score: 0.5\n",
      "Covering: 0.33333333333333326\n",
      "0.6666666666666667\n",
      "(50, 0.05, 20, 1000, 4)\n",
      "50\n"
     ]
    },
    {
     "name": "stderr",
     "output_type": "stream",
     "text": [
      "100%|██████████| 551/551 [00:05<00:00, 108.39it/s]\n"
     ]
    },
    {
     "name": "stdout",
     "output_type": "stream",
     "text": [
      "5.084623336791992\n",
      "F1 score: 0.8\n",
      "Covering: 0.6374043592066848\n",
      "0.8333333333333333\n",
      "(50, 0.05, 50, 1000, 4)\n",
      "50\n"
     ]
    },
    {
     "name": "stderr",
     "output_type": "stream",
     "text": [
      "100%|██████████| 551/551 [00:04<00:00, 117.75it/s]\n"
     ]
    },
    {
     "name": "stdout",
     "output_type": "stream",
     "text": [
      "4.679271221160889\n",
      "F1 score: 0.8\n",
      "Covering: 0.6374043592066848\n",
      "0.8333333333333333\n",
      "(50, 0.05, 100, 1000, 4)\n",
      "50\n"
     ]
    },
    {
     "name": "stderr",
     "output_type": "stream",
     "text": [
      "100%|██████████| 551/551 [00:04<00:00, 120.80it/s]\n"
     ]
    },
    {
     "name": "stdout",
     "output_type": "stream",
     "text": [
      "4.56930136680603\n",
      "F1 score: 0.8\n",
      "Covering: 0.639238051426081\n",
      "0.8333333333333333\n",
      "[200, 400]\n",
      "(50, 0.05, 5, 1000, 4)\n",
      "50\n"
     ]
    },
    {
     "name": "stderr",
     "output_type": "stream",
     "text": [
      "100%|██████████| 551/551 [00:04<00:00, 120.53it/s]\n"
     ]
    },
    {
     "name": "stdout",
     "output_type": "stream",
     "text": [
      "4.576447486877441\n",
      "F1 score: 0.5\n",
      "Covering: 0.33333333333333326\n",
      "0.6666666666666667\n",
      "(50, 0.05, 10, 1000, 4)\n",
      "50\n"
     ]
    },
    {
     "name": "stderr",
     "output_type": "stream",
     "text": [
      "100%|██████████| 551/551 [00:04<00:00, 117.25it/s]\n"
     ]
    },
    {
     "name": "stdout",
     "output_type": "stream",
     "text": [
      "4.700734376907349\n",
      "F1 score: 0.5\n",
      "Covering: 0.33333333333333326\n",
      "0.6666666666666667\n",
      "(50, 0.05, 20, 1000, 4)\n",
      "50\n"
     ]
    },
    {
     "name": "stderr",
     "output_type": "stream",
     "text": [
      "100%|██████████| 551/551 [00:04<00:00, 116.26it/s]\n"
     ]
    },
    {
     "name": "stdout",
     "output_type": "stream",
     "text": [
      "4.7392871379852295\n",
      "F1 score: 0.8\n",
      "Covering: 0.6355864197530865\n",
      "0.8333333333333333\n",
      "(50, 0.05, 50, 1000, 4)\n",
      "50\n"
     ]
    },
    {
     "name": "stderr",
     "output_type": "stream",
     "text": [
      "100%|██████████| 551/551 [00:04<00:00, 117.89it/s]\n"
     ]
    },
    {
     "name": "stdout",
     "output_type": "stream",
     "text": [
      "4.673843622207642\n",
      "F1 score: 1.0\n",
      "Covering: 0.9203417781321049\n",
      "1.0\n",
      "(50, 0.05, 100, 1000, 4)\n",
      "50\n"
     ]
    },
    {
     "name": "stderr",
     "output_type": "stream",
     "text": [
      "100%|██████████| 551/551 [00:04<00:00, 117.11it/s]\n"
     ]
    },
    {
     "name": "stdout",
     "output_type": "stream",
     "text": [
      "4.70704460144043\n",
      "F1 score: 1.0\n",
      "Covering: 0.9203475359494492\n",
      "1.0\n",
      "[200, 400]\n",
      "(50, 0.05, 5, 1000, 4)\n",
      "50\n"
     ]
    },
    {
     "name": "stderr",
     "output_type": "stream",
     "text": [
      "100%|██████████| 551/551 [00:04<00:00, 119.95it/s]\n"
     ]
    },
    {
     "name": "stdout",
     "output_type": "stream",
     "text": [
      "4.595963716506958\n",
      "F1 score: 0.5\n",
      "Covering: 0.33333333333333326\n",
      "0.6666666666666667\n",
      "(50, 0.05, 10, 1000, 4)\n",
      "50\n"
     ]
    },
    {
     "name": "stderr",
     "output_type": "stream",
     "text": [
      "100%|██████████| 551/551 [00:04<00:00, 118.39it/s]\n"
     ]
    },
    {
     "name": "stdout",
     "output_type": "stream",
     "text": [
      "4.654321193695068\n",
      "F1 score: 0.5\n",
      "Covering: 0.33333333333333326\n",
      "0.6666666666666667\n",
      "(50, 0.05, 20, 1000, 4)\n",
      "50\n"
     ]
    },
    {
     "name": "stderr",
     "output_type": "stream",
     "text": [
      "100%|██████████| 551/551 [00:04<00:00, 117.08it/s]\n"
     ]
    },
    {
     "name": "stdout",
     "output_type": "stream",
     "text": [
      "4.70616602897644\n",
      "F1 score: 1.0\n",
      "Covering: 0.9142890995260664\n",
      "1.0\n",
      "(50, 0.05, 50, 1000, 4)\n",
      "50\n"
     ]
    },
    {
     "name": "stderr",
     "output_type": "stream",
     "text": [
      "100%|██████████| 551/551 [00:04<00:00, 120.46it/s]\n"
     ]
    },
    {
     "name": "stdout",
     "output_type": "stream",
     "text": [
      "4.576113224029541\n",
      "F1 score: 1.0\n",
      "Covering: 0.9112555322618217\n",
      "1.0\n",
      "(50, 0.05, 100, 1000, 4)\n",
      "50\n"
     ]
    },
    {
     "name": "stderr",
     "output_type": "stream",
     "text": [
      "100%|██████████| 551/551 [00:04<00:00, 117.30it/s]\n"
     ]
    },
    {
     "name": "stdout",
     "output_type": "stream",
     "text": [
      "4.699251651763916\n",
      "F1 score: 1.0\n",
      "Covering: 0.9264589108468211\n",
      "1.0\n",
      "[200, 400]\n",
      "(50, 0.05, 5, 1000, 4)\n",
      "50\n"
     ]
    },
    {
     "name": "stderr",
     "output_type": "stream",
     "text": [
      "100%|██████████| 551/551 [00:04<00:00, 116.99it/s]\n"
     ]
    },
    {
     "name": "stdout",
     "output_type": "stream",
     "text": [
      "4.712341785430908\n",
      "F1 score: 0.5\n",
      "Covering: 0.33333333333333326\n",
      "0.6666666666666667\n",
      "(50, 0.05, 10, 1000, 4)\n",
      "50\n"
     ]
    },
    {
     "name": "stderr",
     "output_type": "stream",
     "text": [
      "100%|██████████| 551/551 [00:04<00:00, 121.37it/s]\n"
     ]
    },
    {
     "name": "stdout",
     "output_type": "stream",
     "text": [
      "4.539825677871704\n",
      "F1 score: 0.5\n",
      "Covering: 0.33333333333333326\n",
      "0.6666666666666667\n",
      "(50, 0.05, 20, 1000, 4)\n",
      "50\n"
     ]
    },
    {
     "name": "stderr",
     "output_type": "stream",
     "text": [
      "100%|██████████| 551/551 [00:04<00:00, 116.45it/s]\n"
     ]
    },
    {
     "name": "stdout",
     "output_type": "stream",
     "text": [
      "4.73295259475708\n",
      "F1 score: 0.8\n",
      "Covering: 0.6443317033414834\n",
      "0.8333333333333333\n",
      "(50, 0.05, 50, 1000, 4)\n",
      "50\n"
     ]
    },
    {
     "name": "stderr",
     "output_type": "stream",
     "text": [
      "100%|██████████| 551/551 [00:04<00:00, 120.41it/s]\n"
     ]
    },
    {
     "name": "stdout",
     "output_type": "stream",
     "text": [
      "4.576019048690796\n",
      "F1 score: 1.0\n",
      "Covering: 0.9326685325628987\n",
      "1.0\n",
      "(50, 0.05, 100, 1000, 4)\n",
      "50\n"
     ]
    },
    {
     "name": "stderr",
     "output_type": "stream",
     "text": [
      "100%|██████████| 551/551 [00:04<00:00, 119.35it/s]\n"
     ]
    },
    {
     "name": "stdout",
     "output_type": "stream",
     "text": [
      "4.617654800415039\n",
      "F1 score: 1.0\n",
      "Covering: 0.932639252505191\n",
      "1.0\n",
      "[200, 400, 600]\n",
      "(50, 0.05, 5, 1000, 4)\n",
      "50\n"
     ]
    },
    {
     "name": "stderr",
     "output_type": "stream",
     "text": [
      "100%|██████████| 751/751 [00:06<00:00, 113.25it/s]\n"
     ]
    },
    {
     "name": "stdout",
     "output_type": "stream",
     "text": [
      "6.633185386657715\n",
      "F1 score: 0.4\n",
      "Covering: 0.25\n",
      "0.625\n",
      "(50, 0.05, 10, 1000, 4)\n",
      "50\n"
     ]
    },
    {
     "name": "stderr",
     "output_type": "stream",
     "text": [
      "100%|██████████| 751/751 [00:06<00:00, 115.11it/s]\n"
     ]
    },
    {
     "name": "stdout",
     "output_type": "stream",
     "text": [
      "6.524852991104126\n",
      "F1 score: 0.4\n",
      "Covering: 0.25\n",
      "0.625\n",
      "(50, 0.05, 20, 1000, 4)\n",
      "50\n"
     ]
    },
    {
     "name": "stderr",
     "output_type": "stream",
     "text": [
      "100%|██████████| 751/751 [00:06<00:00, 116.90it/s]\n"
     ]
    },
    {
     "name": "stdout",
     "output_type": "stream",
     "text": [
      "6.425193786621094\n",
      "F1 score: 0.8571428571428571\n",
      "Covering: 0.7009251579778831\n",
      "0.875\n",
      "(50, 0.05, 50, 1000, 4)\n",
      "50\n"
     ]
    },
    {
     "name": "stderr",
     "output_type": "stream",
     "text": [
      "100%|██████████| 751/751 [00:06<00:00, 119.96it/s]\n"
     ]
    },
    {
     "name": "stdout",
     "output_type": "stream",
     "text": [
      "6.260601282119751\n",
      "F1 score: 0.75\n",
      "Covering: 0.8810739675016928\n",
      "0.75\n",
      "(50, 0.05, 100, 1000, 4)\n",
      "50\n"
     ]
    },
    {
     "name": "stderr",
     "output_type": "stream",
     "text": [
      "100%|██████████| 751/751 [00:06<00:00, 119.15it/s]\n"
     ]
    },
    {
     "name": "stdout",
     "output_type": "stream",
     "text": [
      "6.302846670150757\n",
      "F1 score: 0.75\n",
      "Covering: 0.8896656117065445\n",
      "0.75\n",
      "[200, 400, 600]\n",
      "(50, 0.05, 5, 1000, 4)\n",
      "50\n"
     ]
    },
    {
     "name": "stderr",
     "output_type": "stream",
     "text": [
      "100%|██████████| 751/751 [00:06<00:00, 117.57it/s]\n"
     ]
    },
    {
     "name": "stdout",
     "output_type": "stream",
     "text": [
      "6.390393495559692\n",
      "F1 score: 0.4\n",
      "Covering: 0.25\n",
      "0.625\n",
      "(50, 0.05, 10, 1000, 4)\n",
      "50\n"
     ]
    },
    {
     "name": "stderr",
     "output_type": "stream",
     "text": [
      "100%|██████████| 751/751 [00:06<00:00, 116.67it/s]\n"
     ]
    },
    {
     "name": "stdout",
     "output_type": "stream",
     "text": [
      "6.438836097717285\n",
      "F1 score: 0.4\n",
      "Covering: 0.25\n",
      "0.625\n",
      "(50, 0.05, 20, 1000, 4)\n",
      "50\n"
     ]
    },
    {
     "name": "stderr",
     "output_type": "stream",
     "text": [
      "100%|██████████| 751/751 [00:06<00:00, 117.01it/s]\n"
     ]
    },
    {
     "name": "stdout",
     "output_type": "stream",
     "text": [
      "6.421719551086426\n",
      "F1 score: 0.8571428571428571\n",
      "Covering: 0.6925730977647325\n",
      "0.875\n",
      "(50, 0.05, 50, 1000, 4)\n",
      "50\n"
     ]
    },
    {
     "name": "stderr",
     "output_type": "stream",
     "text": [
      "100%|██████████| 751/751 [00:06<00:00, 120.89it/s]\n"
     ]
    },
    {
     "name": "stdout",
     "output_type": "stream",
     "text": [
      "6.217721223831177\n",
      "F1 score: 1.0\n",
      "Covering: 0.9004041707032482\n",
      "1.0\n",
      "(50, 0.05, 100, 1000, 4)\n",
      "50\n"
     ]
    },
    {
     "name": "stderr",
     "output_type": "stream",
     "text": [
      "100%|██████████| 751/751 [00:06<00:00, 115.65it/s]\n"
     ]
    },
    {
     "name": "stdout",
     "output_type": "stream",
     "text": [
      "6.493804931640625\n",
      "F1 score: 0.888888888888889\n",
      "Covering: 0.8959223328685968\n",
      "0.9\n",
      "[200, 400, 600]\n",
      "(50, 0.05, 5, 1000, 4)\n",
      "50\n"
     ]
    },
    {
     "name": "stderr",
     "output_type": "stream",
     "text": [
      "100%|██████████| 751/751 [00:06<00:00, 114.88it/s]\n"
     ]
    },
    {
     "name": "stdout",
     "output_type": "stream",
     "text": [
      "6.5399250984191895\n",
      "F1 score: 0.4\n",
      "Covering: 0.25\n",
      "0.625\n",
      "(50, 0.05, 10, 1000, 4)\n",
      "50\n"
     ]
    },
    {
     "name": "stderr",
     "output_type": "stream",
     "text": [
      "100%|██████████| 751/751 [00:06<00:00, 119.69it/s]\n"
     ]
    },
    {
     "name": "stdout",
     "output_type": "stream",
     "text": [
      "6.280649662017822\n",
      "F1 score: 0.4\n",
      "Covering: 0.25\n",
      "0.625\n",
      "(50, 0.05, 20, 1000, 4)\n",
      "50\n"
     ]
    },
    {
     "name": "stderr",
     "output_type": "stream",
     "text": [
      "100%|██████████| 751/751 [00:06<00:00, 118.25it/s]\n"
     ]
    },
    {
     "name": "stdout",
     "output_type": "stream",
     "text": [
      "6.353160381317139\n",
      "F1 score: 0.8571428571428571\n",
      "Covering: 0.6989834067192691\n",
      "0.875\n",
      "(50, 0.05, 50, 1000, 4)\n",
      "50\n"
     ]
    },
    {
     "name": "stderr",
     "output_type": "stream",
     "text": [
      "100%|██████████| 751/751 [00:06<00:00, 117.82it/s]\n"
     ]
    },
    {
     "name": "stdout",
     "output_type": "stream",
     "text": [
      "6.375910043716431\n",
      "F1 score: 1.0\n",
      "Covering: 0.8940539919513603\n",
      "1.0\n",
      "(50, 0.05, 100, 1000, 4)\n",
      "50\n"
     ]
    },
    {
     "name": "stderr",
     "output_type": "stream",
     "text": [
      "100%|██████████| 751/751 [00:06<00:00, 116.60it/s]\n"
     ]
    },
    {
     "name": "stdout",
     "output_type": "stream",
     "text": [
      "6.44246244430542\n",
      "F1 score: 1.0\n",
      "Covering: 0.9031331731513373\n",
      "1.0\n",
      "[200, 400, 600]\n",
      "(50, 0.05, 5, 1000, 4)\n",
      "50\n"
     ]
    },
    {
     "name": "stderr",
     "output_type": "stream",
     "text": [
      "100%|██████████| 751/751 [00:06<00:00, 120.10it/s]\n"
     ]
    },
    {
     "name": "stdout",
     "output_type": "stream",
     "text": [
      "6.2551374435424805\n",
      "F1 score: 0.4\n",
      "Covering: 0.25\n",
      "0.625\n",
      "(50, 0.05, 10, 1000, 4)\n",
      "50\n"
     ]
    },
    {
     "name": "stderr",
     "output_type": "stream",
     "text": [
      "100%|██████████| 751/751 [00:06<00:00, 119.95it/s]\n"
     ]
    },
    {
     "name": "stdout",
     "output_type": "stream",
     "text": [
      "6.26344895362854\n",
      "F1 score: 0.4\n",
      "Covering: 0.25\n",
      "0.625\n",
      "(50, 0.05, 20, 1000, 4)\n",
      "50\n"
     ]
    },
    {
     "name": "stderr",
     "output_type": "stream",
     "text": [
      "100%|██████████| 751/751 [00:06<00:00, 116.50it/s]\n"
     ]
    },
    {
     "name": "stdout",
     "output_type": "stream",
     "text": [
      "6.448367118835449\n",
      "F1 score: 0.8571428571428571\n",
      "Covering: 0.6793876465647759\n",
      "0.875\n",
      "(50, 0.05, 50, 1000, 4)\n",
      "50\n"
     ]
    },
    {
     "name": "stderr",
     "output_type": "stream",
     "text": [
      "100%|██████████| 751/751 [00:06<00:00, 121.23it/s]\n"
     ]
    },
    {
     "name": "stdout",
     "output_type": "stream",
     "text": [
      "6.194688320159912\n",
      "F1 score: 1.0\n",
      "Covering: 0.8895717232879649\n",
      "1.0\n",
      "(50, 0.05, 100, 1000, 4)\n",
      "50\n"
     ]
    },
    {
     "name": "stderr",
     "output_type": "stream",
     "text": [
      "100%|██████████| 751/751 [00:06<00:00, 115.66it/s]\n"
     ]
    },
    {
     "name": "stdout",
     "output_type": "stream",
     "text": [
      "6.494998455047607\n",
      "F1 score: 1.0\n",
      "Covering: 0.889503690362486\n",
      "1.0\n",
      "[200, 400, 600]\n",
      "(50, 0.05, 5, 1000, 4)\n",
      "50\n"
     ]
    },
    {
     "name": "stderr",
     "output_type": "stream",
     "text": [
      "100%|██████████| 751/751 [00:06<00:00, 119.17it/s]\n"
     ]
    },
    {
     "name": "stdout",
     "output_type": "stream",
     "text": [
      "6.302899599075317\n",
      "F1 score: 0.4\n",
      "Covering: 0.25\n",
      "0.625\n",
      "(50, 0.05, 10, 1000, 4)\n",
      "50\n"
     ]
    },
    {
     "name": "stderr",
     "output_type": "stream",
     "text": [
      "100%|██████████| 751/751 [00:06<00:00, 120.63it/s]\n"
     ]
    },
    {
     "name": "stdout",
     "output_type": "stream",
     "text": [
      "6.2304463386535645\n",
      "F1 score: 0.4\n",
      "Covering: 0.25\n",
      "0.625\n",
      "(50, 0.05, 20, 1000, 4)\n",
      "50\n"
     ]
    },
    {
     "name": "stderr",
     "output_type": "stream",
     "text": [
      "100%|██████████| 751/751 [00:06<00:00, 120.33it/s]\n"
     ]
    },
    {
     "name": "stdout",
     "output_type": "stream",
     "text": [
      "6.24227237701416\n",
      "F1 score: 0.5714285714285715\n",
      "Covering: 0.6930881505056444\n",
      "0.5833333333333333\n",
      "(50, 0.05, 50, 1000, 4)\n",
      "50\n"
     ]
    },
    {
     "name": "stderr",
     "output_type": "stream",
     "text": [
      "100%|██████████| 751/751 [00:06<00:00, 115.12it/s]\n"
     ]
    },
    {
     "name": "stdout",
     "output_type": "stream",
     "text": [
      "6.523427724838257\n",
      "F1 score: 0.75\n",
      "Covering: 0.8901308893944023\n",
      "0.75\n",
      "(50, 0.05, 100, 1000, 4)\n",
      "50\n"
     ]
    },
    {
     "name": "stderr",
     "output_type": "stream",
     "text": [
      "100%|██████████| 751/751 [00:06<00:00, 109.36it/s]\n"
     ]
    },
    {
     "name": "stdout",
     "output_type": "stream",
     "text": [
      "6.875141143798828\n",
      "F1 score: 1.0\n",
      "Covering: 0.9032474925227869\n",
      "1.0\n",
      "[200, 400, 600, 800]\n",
      "(50, 0.05, 5, 1000, 4)\n",
      "50\n"
     ]
    },
    {
     "name": "stderr",
     "output_type": "stream",
     "text": [
      "100%|██████████| 951/951 [00:07<00:00, 122.12it/s]\n"
     ]
    },
    {
     "name": "stdout",
     "output_type": "stream",
     "text": [
      "7.790297985076904\n",
      "F1 score: 0.33333333333333337\n",
      "Covering: 0.2\n",
      "0.6000000000000001\n",
      "(50, 0.05, 10, 1000, 4)\n",
      "50\n"
     ]
    },
    {
     "name": "stderr",
     "output_type": "stream",
     "text": [
      "100%|██████████| 951/951 [00:07<00:00, 120.98it/s]\n"
     ]
    },
    {
     "name": "stdout",
     "output_type": "stream",
     "text": [
      "7.863755464553833\n",
      "F1 score: 0.33333333333333337\n",
      "Covering: 0.2\n",
      "0.6000000000000001\n",
      "(50, 0.05, 20, 1000, 4)\n",
      "50\n"
     ]
    },
    {
     "name": "stderr",
     "output_type": "stream",
     "text": [
      "100%|██████████| 951/951 [00:09<00:00, 102.23it/s]\n"
     ]
    },
    {
     "name": "stdout",
     "output_type": "stream",
     "text": [
      "9.303683996200562\n",
      "F1 score: 0.7499999999999999\n",
      "Covering: 0.5668677960075343\n",
      "0.8\n",
      "(50, 0.05, 50, 1000, 4)\n",
      "50\n"
     ]
    },
    {
     "name": "stderr",
     "output_type": "stream",
     "text": [
      "100%|██████████| 951/951 [00:13<00:00, 70.86it/s]\n"
     ]
    },
    {
     "name": "stdout",
     "output_type": "stream",
     "text": [
      "13.420213222503662\n",
      "F1 score: 0.888888888888889\n",
      "Covering: 0.7236735619152913\n",
      "0.9\n",
      "(50, 0.05, 100, 1000, 4)\n",
      "50\n"
     ]
    },
    {
     "name": "stderr",
     "output_type": "stream",
     "text": [
      "100%|██████████| 951/951 [00:12<00:00, 74.66it/s]\n"
     ]
    },
    {
     "name": "stdout",
     "output_type": "stream",
     "text": [
      "12.737945079803467\n",
      "F1 score: 1.0\n",
      "Covering: 0.8834553780298271\n",
      "1.0\n",
      "[200, 400, 600, 800]\n",
      "(50, 0.05, 5, 1000, 4)\n",
      "50\n"
     ]
    },
    {
     "name": "stderr",
     "output_type": "stream",
     "text": [
      "100%|██████████| 951/951 [00:12<00:00, 74.97it/s]\n"
     ]
    },
    {
     "name": "stdout",
     "output_type": "stream",
     "text": [
      "12.685150146484375\n",
      "F1 score: 0.33333333333333337\n",
      "Covering: 0.2\n",
      "0.6000000000000001\n",
      "(50, 0.05, 10, 1000, 4)\n",
      "50\n"
     ]
    },
    {
     "name": "stderr",
     "output_type": "stream",
     "text": [
      "100%|██████████| 951/951 [00:12<00:00, 74.16it/s]\n"
     ]
    },
    {
     "name": "stdout",
     "output_type": "stream",
     "text": [
      "12.823091506958008\n",
      "F1 score: 0.33333333333333337\n",
      "Covering: 0.2\n",
      "0.6000000000000001\n",
      "(50, 0.05, 20, 1000, 4)\n",
      "50\n"
     ]
    },
    {
     "name": "stderr",
     "output_type": "stream",
     "text": [
      "100%|██████████| 951/951 [00:12<00:00, 76.00it/s]\n"
     ]
    },
    {
     "name": "stdout",
     "output_type": "stream",
     "text": [
      "12.51438283920288\n",
      "F1 score: 0.6666666666666665\n",
      "Covering: 0.7363511018672754\n",
      "0.675\n",
      "(50, 0.05, 50, 1000, 4)\n",
      "50\n"
     ]
    },
    {
     "name": "stderr",
     "output_type": "stream",
     "text": [
      "100%|██████████| 951/951 [00:12<00:00, 77.62it/s]\n"
     ]
    },
    {
     "name": "stdout",
     "output_type": "stream",
     "text": [
      "12.256166458129883\n",
      "F1 score: 1.0\n",
      "Covering: 0.8914181417498702\n",
      "1.0\n",
      "(50, 0.05, 100, 1000, 4)\n",
      "50\n"
     ]
    },
    {
     "name": "stderr",
     "output_type": "stream",
     "text": [
      "100%|██████████| 951/951 [00:11<00:00, 81.62it/s]\n"
     ]
    },
    {
     "name": "stdout",
     "output_type": "stream",
     "text": [
      "11.655036449432373\n",
      "F1 score: 1.0\n",
      "Covering: 0.893172791361874\n",
      "1.0\n",
      "[200, 400, 600, 800]\n",
      "(50, 0.05, 5, 1000, 4)\n",
      "50\n"
     ]
    },
    {
     "name": "stderr",
     "output_type": "stream",
     "text": [
      "100%|██████████| 951/951 [00:12<00:00, 79.25it/s]\n"
     ]
    },
    {
     "name": "stdout",
     "output_type": "stream",
     "text": [
      "12.003480195999146\n",
      "F1 score: 0.33333333333333337\n",
      "Covering: 0.2\n",
      "0.6000000000000001\n",
      "(50, 0.05, 10, 1000, 4)\n",
      "50\n"
     ]
    },
    {
     "name": "stderr",
     "output_type": "stream",
     "text": [
      "100%|██████████| 951/951 [00:12<00:00, 75.64it/s]\n"
     ]
    },
    {
     "name": "stdout",
     "output_type": "stream",
     "text": [
      "12.5877046585083\n",
      "F1 score: 0.33333333333333337\n",
      "Covering: 0.2\n",
      "0.6000000000000001\n",
      "(50, 0.05, 20, 1000, 4)\n",
      "50\n"
     ]
    },
    {
     "name": "stderr",
     "output_type": "stream",
     "text": [
      "100%|██████████| 951/951 [00:12<00:00, 76.09it/s]\n"
     ]
    },
    {
     "name": "stdout",
     "output_type": "stream",
     "text": [
      "12.498294830322266\n",
      "F1 score: 0.888888888888889\n",
      "Covering: 0.7312024083247864\n",
      "0.9\n",
      "(50, 0.05, 50, 1000, 4)\n",
      "50\n"
     ]
    },
    {
     "name": "stderr",
     "output_type": "stream",
     "text": [
      "100%|██████████| 951/951 [00:12<00:00, 77.22it/s]\n"
     ]
    },
    {
     "name": "stdout",
     "output_type": "stream",
     "text": [
      "12.329153060913086\n",
      "F1 score: 1.0\n",
      "Covering: 0.8895615843926294\n",
      "1.0\n",
      "(50, 0.05, 100, 1000, 4)\n",
      "50\n"
     ]
    },
    {
     "name": "stderr",
     "output_type": "stream",
     "text": [
      "100%|██████████| 951/951 [00:12<00:00, 77.29it/s]\n"
     ]
    },
    {
     "name": "stdout",
     "output_type": "stream",
     "text": [
      "12.320502758026123\n",
      "F1 score: 1.0\n",
      "Covering: 0.8860520500574068\n",
      "1.0\n",
      "[200, 400, 600, 800]\n",
      "(50, 0.05, 5, 1000, 4)\n",
      "50\n"
     ]
    },
    {
     "name": "stderr",
     "output_type": "stream",
     "text": [
      "100%|██████████| 951/951 [00:12<00:00, 76.23it/s]\n"
     ]
    },
    {
     "name": "stdout",
     "output_type": "stream",
     "text": [
      "12.475235223770142\n",
      "F1 score: 0.33333333333333337\n",
      "Covering: 0.2\n",
      "0.6000000000000001\n",
      "(50, 0.05, 10, 1000, 4)\n",
      "50\n"
     ]
    },
    {
     "name": "stderr",
     "output_type": "stream",
     "text": [
      "100%|██████████| 951/951 [00:12<00:00, 76.81it/s]\n"
     ]
    },
    {
     "name": "stdout",
     "output_type": "stream",
     "text": [
      "12.39250373840332\n",
      "F1 score: 0.33333333333333337\n",
      "Covering: 0.2\n",
      "0.6000000000000001\n",
      "(50, 0.05, 20, 1000, 4)\n",
      "50\n"
     ]
    },
    {
     "name": "stderr",
     "output_type": "stream",
     "text": [
      "100%|██████████| 951/951 [00:12<00:00, 76.60it/s]\n"
     ]
    },
    {
     "name": "stdout",
     "output_type": "stream",
     "text": [
      "12.415581941604614\n",
      "F1 score: 0.888888888888889\n",
      "Covering: 0.7346080748661238\n",
      "0.9\n",
      "(50, 0.05, 50, 1000, 4)\n",
      "50\n"
     ]
    },
    {
     "name": "stderr",
     "output_type": "stream",
     "text": [
      "100%|██████████| 951/951 [00:13<00:00, 69.88it/s]\n"
     ]
    },
    {
     "name": "stdout",
     "output_type": "stream",
     "text": [
      "13.609424114227295\n",
      "F1 score: 1.0\n",
      "Covering: 0.8960808774890625\n",
      "1.0\n",
      "(50, 0.05, 100, 1000, 4)\n",
      "50\n"
     ]
    },
    {
     "name": "stderr",
     "output_type": "stream",
     "text": [
      "100%|██████████| 951/951 [00:12<00:00, 76.43it/s]\n"
     ]
    },
    {
     "name": "stdout",
     "output_type": "stream",
     "text": [
      "12.451487064361572\n",
      "F1 score: 1.0\n",
      "Covering: 0.9050105462449567\n",
      "1.0\n",
      "[200, 400, 600, 800]\n",
      "(50, 0.05, 5, 1000, 4)\n",
      "50\n"
     ]
    },
    {
     "name": "stderr",
     "output_type": "stream",
     "text": [
      "100%|██████████| 951/951 [00:12<00:00, 77.62it/s]\n"
     ]
    },
    {
     "name": "stdout",
     "output_type": "stream",
     "text": [
      "12.25217342376709\n",
      "F1 score: 0.33333333333333337\n",
      "Covering: 0.2\n",
      "0.6000000000000001\n",
      "(50, 0.05, 10, 1000, 4)\n",
      "50\n"
     ]
    },
    {
     "name": "stderr",
     "output_type": "stream",
     "text": [
      "100%|██████████| 951/951 [00:12<00:00, 77.18it/s]\n"
     ]
    },
    {
     "name": "stdout",
     "output_type": "stream",
     "text": [
      "12.321797847747803\n",
      "F1 score: 0.5714285714285715\n",
      "Covering: 0.3958007811582854\n",
      "0.7\n",
      "(50, 0.05, 20, 1000, 4)\n",
      "50\n"
     ]
    },
    {
     "name": "stderr",
     "output_type": "stream",
     "text": [
      "100%|██████████| 951/951 [00:11<00:00, 81.10it/s]\n"
     ]
    },
    {
     "name": "stdout",
     "output_type": "stream",
     "text": [
      "11.726961612701416\n",
      "F1 score: 0.888888888888889\n",
      "Covering: 0.7434486802122758\n",
      "0.9\n",
      "(50, 0.05, 50, 1000, 4)\n",
      "50\n"
     ]
    },
    {
     "name": "stderr",
     "output_type": "stream",
     "text": [
      "100%|██████████| 951/951 [00:12<00:00, 78.60it/s]\n"
     ]
    },
    {
     "name": "stdout",
     "output_type": "stream",
     "text": [
      "12.116134643554688\n",
      "F1 score: 1.0\n",
      "Covering: 0.9089175641046217\n",
      "1.0\n",
      "(50, 0.05, 100, 1000, 4)\n",
      "50\n"
     ]
    },
    {
     "name": "stderr",
     "output_type": "stream",
     "text": [
      "100%|██████████| 951/951 [00:12<00:00, 78.67it/s]"
     ]
    },
    {
     "name": "stdout",
     "output_type": "stream",
     "text": [
      "12.092885255813599\n",
      "F1 score: 0.8333333333333333\n",
      "Covering: 0.8771506090808416\n",
      "0.8571428571428572\n"
     ]
    },
    {
     "name": "stderr",
     "output_type": "stream",
     "text": [
      "\n"
     ]
    }
   ],
   "source": [
    "WindowLength = [50]#,200]\n",
    "Significance = [0.05]#,0.1,0.2]\n",
    "Lookback = [5,10,20,50,100]#,0.8,0.5]\n",
    "MonteCarloSample = [1000] #[200,1000,5000]\n",
    "WassersteinOrder = [4]#[1,2,4]\n",
    "\n",
    "METRICS_LB = {}\n",
    "\n",
    "for rs in data.keys():\n",
    "    df = np.array(data[rs]['data']).astype(np.float32)\n",
    "    GroundTruth = data[rs]['target']\n",
    "    METRICS_LB[rs] = {}\n",
    "\n",
    "    print(GroundTruth)\n",
    "\n",
    "    for combination in product(WindowLength,Significance,Lookback,MonteCarloSample,WassersteinOrder):\n",
    "        print(combination)\n",
    "        k,significance, lookack,L,p = combination\n",
    "        print(k)\n",
    "        METRICS_LB[rs][lookack] = {}\n",
    "        detector = SWDCP(data=df,window_length=k,max_history=lookack,significance=significance)\n",
    "        start = time.time()\n",
    "        detector.process_dataloader(p=p,n_theta=L,explanations=False,seed=2025,verbose=False)\n",
    "        end = time.time()\n",
    "        print(end-start)\n",
    "        f1,cov, auc_score = detector.evaluate(GroundTruth,20)\n",
    "        METRICS_LB[rs][lookack]['F1'] = f1\n",
    "        METRICS_LB[rs][lookack]['Covering'] = cov\n",
    "        METRICS_LB[rs][lookack]['AUC'] = auc_score\n",
    "        METRICS_LB[rs][lookack]['cps'] = detector.change_points\n",
    "        METRICS_LB[rs][lookack]['RunTime'] = end-start"
   ]
  },
  {
   "cell_type": "code",
   "execution_count": 8,
   "metadata": {},
   "outputs": [
    {
     "data": {
      "text/plain": [
       "<Axes: >"
      ]
     },
     "execution_count": 8,
     "metadata": {},
     "output_type": "execute_result"
    },
    {
     "data": {
      "image/png": "[encoded data removed]",
      "text/plain": [
       "<Figure size 640x480 with 2 Axes>"
      ]
     },
     "metadata": {},
     "output_type": "display_data"
    }
   ],
   "source": [
    "Plot_data_LookbackC = {k: [] for k in Lookback}\n",
    "Plot_data_LookbackAUC = {k: [] for k in Lookback}\n",
    "\n",
    "for seed, val in METRICS_LB.items():\n",
    "    for k, res in val.items():\n",
    "        Plot_data_LookbackC[k].append(res['Covering'])\n",
    "        Plot_data_LookbackAUC[k].append(res['AUC'])\n",
    "\n",
    "fig, ax = plt.subplots(1,2)\n",
    "sns.boxplot(Plot_data_LookbackAUC,ax=ax[0])\n",
    "sns.boxplot(Plot_data_LookbackC,ax=ax[1])"
   ]
  },
  {
   "cell_type": "code",
   "execution_count": 9,
   "metadata": {},
   "outputs": [
    {
     "name": "stdout",
     "output_type": "stream",
     "text": [
      "[200, 400]\n",
      "(50, 0.05, 50, 100, 4)\n",
      "50\n"
     ]
    },
    {
     "name": "stderr",
     "output_type": "stream",
     "text": [
      "100%|██████████| 551/551 [00:02<00:00, 242.97it/s]\n"
     ]
    },
    {
     "name": "stdout",
     "output_type": "stream",
     "text": [
      "2.2701315879821777\n",
      "F1 score: 1.0\n",
      "Covering: 0.8962937361324458\n",
      "1.0\n",
      "(50, 0.05, 50, 200, 4)\n",
      "50\n"
     ]
    },
    {
     "name": "stderr",
     "output_type": "stream",
     "text": [
      "100%|██████████| 551/551 [00:02<00:00, 215.02it/s]\n"
     ]
    },
    {
     "name": "stdout",
     "output_type": "stream",
     "text": [
      "2.562610149383545\n",
      "F1 score: 1.0\n",
      "Covering: 0.8933256528417818\n",
      "1.0\n",
      "(50, 0.05, 50, 500, 4)\n",
      "50\n"
     ]
    },
    {
     "name": "stderr",
     "output_type": "stream",
     "text": [
      "100%|██████████| 551/551 [00:03<00:00, 139.81it/s]\n"
     ]
    },
    {
     "name": "stdout",
     "output_type": "stream",
     "text": [
      "3.9409799575805664\n",
      "F1 score: 1.0\n",
      "Covering: 0.8903695091531729\n",
      "1.0\n",
      "(50, 0.05, 50, 1000, 4)\n",
      "50\n"
     ]
    },
    {
     "name": "stderr",
     "output_type": "stream",
     "text": [
      "100%|██████████| 551/551 [00:05<00:00, 101.72it/s]\n"
     ]
    },
    {
     "name": "stdout",
     "output_type": "stream",
     "text": [
      "5.416600227355957\n",
      "F1 score: 1.0\n",
      "Covering: 0.884492389331099\n",
      "1.0\n",
      "(50, 0.05, 50, 5000, 4)\n",
      "50\n"
     ]
    },
    {
     "name": "stderr",
     "output_type": "stream",
     "text": [
      "100%|██████████| 551/551 [00:12<00:00, 43.25it/s]\n"
     ]
    },
    {
     "name": "stdout",
     "output_type": "stream",
     "text": [
      "12.739398956298828\n",
      "F1 score: 1.0\n",
      "Covering: 0.8874298540965208\n",
      "1.0\n",
      "[200, 400]\n",
      "(50, 0.05, 50, 100, 4)\n",
      "50\n"
     ]
    },
    {
     "name": "stderr",
     "output_type": "stream",
     "text": [
      "100%|██████████| 551/551 [00:02<00:00, 217.57it/s]\n"
     ]
    },
    {
     "name": "stdout",
     "output_type": "stream",
     "text": [
      "2.5325236320495605\n",
      "F1 score: 0.6666666666666666\n",
      "Covering: 0.8845961882405544\n",
      "0.6666666666666666\n",
      "(50, 0.05, 50, 200, 4)\n",
      "50\n"
     ]
    },
    {
     "name": "stderr",
     "output_type": "stream",
     "text": [
      "100%|██████████| 551/551 [00:02<00:00, 188.41it/s]\n"
     ]
    },
    {
     "name": "stdout",
     "output_type": "stream",
     "text": [
      "2.9245035648345947\n",
      "F1 score: 0.8\n",
      "Covering: 0.639238051426081\n",
      "0.8333333333333333\n",
      "(50, 0.05, 50, 500, 4)\n",
      "50\n"
     ]
    },
    {
     "name": "stderr",
     "output_type": "stream",
     "text": [
      "100%|██████████| 551/551 [00:05<00:00, 102.83it/s]\n"
     ]
    },
    {
     "name": "stdout",
     "output_type": "stream",
     "text": [
      "5.374304533004761\n",
      "F1 score: 0.8\n",
      "Covering: 0.6374043592066848\n",
      "0.8333333333333333\n",
      "(50, 0.05, 50, 1000, 4)\n",
      "50\n"
     ]
    },
    {
     "name": "stderr",
     "output_type": "stream",
     "text": [
      "100%|██████████| 551/551 [00:07<00:00, 76.70it/s]\n"
     ]
    },
    {
     "name": "stdout",
     "output_type": "stream",
     "text": [
      "7.183935880661011\n",
      "F1 score: 0.8\n",
      "Covering: 0.6374043592066848\n",
      "0.8333333333333333\n",
      "(50, 0.05, 50, 5000, 4)\n",
      "50\n"
     ]
    },
    {
     "name": "stderr",
     "output_type": "stream",
     "text": [
      "100%|██████████| 551/551 [00:13<00:00, 41.87it/s]\n"
     ]
    },
    {
     "name": "stdout",
     "output_type": "stream",
     "text": [
      "13.176400899887085\n",
      "F1 score: 0.8\n",
      "Covering: 0.6374043592066848\n",
      "0.8333333333333333\n",
      "[200, 400]\n",
      "(50, 0.05, 50, 100, 4)\n",
      "50\n"
     ]
    },
    {
     "name": "stderr",
     "output_type": "stream",
     "text": [
      "100%|██████████| 551/551 [00:02<00:00, 227.43it/s]\n"
     ]
    },
    {
     "name": "stdout",
     "output_type": "stream",
     "text": [
      "2.4227659702301025\n",
      "F1 score: 0.8571428571428571\n",
      "Covering: 0.8903417781321049\n",
      "0.875\n",
      "(50, 0.05, 50, 200, 4)\n",
      "50\n"
     ]
    },
    {
     "name": "stderr",
     "output_type": "stream",
     "text": [
      "100%|██████████| 551/551 [00:03<00:00, 154.26it/s]\n"
     ]
    },
    {
     "name": "stdout",
     "output_type": "stream",
     "text": [
      "3.5719258785247803\n",
      "F1 score: 1.0\n",
      "Covering: 0.9203417781321049\n",
      "1.0\n",
      "(50, 0.05, 50, 500, 4)\n",
      "50\n"
     ]
    },
    {
     "name": "stderr",
     "output_type": "stream",
     "text": [
      "100%|██████████| 551/551 [00:05<00:00, 106.91it/s]\n"
     ]
    },
    {
     "name": "stdout",
     "output_type": "stream",
     "text": [
      "5.169776916503906\n",
      "F1 score: 1.0\n",
      "Covering: 0.9203417781321049\n",
      "1.0\n",
      "(50, 0.05, 50, 1000, 4)\n",
      "50\n"
     ]
    },
    {
     "name": "stderr",
     "output_type": "stream",
     "text": [
      "100%|██████████| 551/551 [00:06<00:00, 79.84it/s]\n"
     ]
    },
    {
     "name": "stdout",
     "output_type": "stream",
     "text": [
      "6.901336908340454\n",
      "F1 score: 1.0\n",
      "Covering: 0.9203417781321049\n",
      "1.0\n",
      "(50, 0.05, 50, 5000, 4)\n",
      "50\n"
     ]
    },
    {
     "name": "stderr",
     "output_type": "stream",
     "text": [
      "100%|██████████| 551/551 [00:12<00:00, 42.95it/s]\n"
     ]
    },
    {
     "name": "stdout",
     "output_type": "stream",
     "text": [
      "12.827956914901733\n",
      "F1 score: 1.0\n",
      "Covering: 0.9173126432727914\n",
      "1.0\n",
      "[200, 400]\n",
      "(50, 0.05, 50, 100, 4)\n",
      "50\n"
     ]
    },
    {
     "name": "stderr",
     "output_type": "stream",
     "text": [
      "100%|██████████| 551/551 [00:02<00:00, 216.24it/s]\n"
     ]
    },
    {
     "name": "stdout",
     "output_type": "stream",
     "text": [
      "2.5481042861938477\n",
      "F1 score: 1.0\n",
      "Covering: 0.9112783468378942\n",
      "1.0\n",
      "(50, 0.05, 50, 200, 4)\n",
      "50\n"
     ]
    },
    {
     "name": "stderr",
     "output_type": "stream",
     "text": [
      "100%|██████████| 551/551 [00:03<00:00, 183.40it/s]\n"
     ]
    },
    {
     "name": "stdout",
     "output_type": "stream",
     "text": [
      "3.019939661026001\n",
      "F1 score: 1.0\n",
      "Covering: 0.9233970807467237\n",
      "1.0\n",
      "(50, 0.05, 50, 500, 4)\n",
      "50\n"
     ]
    },
    {
     "name": "stderr",
     "output_type": "stream",
     "text": [
      "100%|██████████| 551/551 [00:05<00:00, 105.64it/s]\n"
     ]
    },
    {
     "name": "stdout",
     "output_type": "stream",
     "text": [
      "5.215804576873779\n",
      "F1 score: 1.0\n",
      "Covering: 0.9142890995260664\n",
      "1.0\n",
      "(50, 0.05, 50, 1000, 4)\n",
      "50\n"
     ]
    },
    {
     "name": "stderr",
     "output_type": "stream",
     "text": [
      "100%|██████████| 551/551 [00:07<00:00, 78.04it/s]\n"
     ]
    },
    {
     "name": "stdout",
     "output_type": "stream",
     "text": [
      "7.07311749458313\n",
      "F1 score: 1.0\n",
      "Covering: 0.9112555322618217\n",
      "1.0\n",
      "(50, 0.05, 50, 5000, 4)\n",
      "50\n"
     ]
    },
    {
     "name": "stderr",
     "output_type": "stream",
     "text": [
      "100%|██████████| 551/551 [00:13<00:00, 40.99it/s]\n"
     ]
    },
    {
     "name": "stdout",
     "output_type": "stream",
     "text": [
      "13.442447185516357\n",
      "F1 score: 0.8571428571428571\n",
      "Covering: 0.8862555322618216\n",
      "0.875\n",
      "[200, 400]\n",
      "(50, 0.05, 50, 100, 4)\n",
      "50\n"
     ]
    },
    {
     "name": "stderr",
     "output_type": "stream",
     "text": [
      "100%|██████████| 551/551 [00:02<00:00, 203.83it/s]\n"
     ]
    },
    {
     "name": "stdout",
     "output_type": "stream",
     "text": [
      "2.7345197200775146\n",
      "F1 score: 0.8571428571428571\n",
      "Covering: 0.909785161888266\n",
      "0.875\n",
      "(50, 0.05, 50, 200, 4)\n",
      "50\n"
     ]
    },
    {
     "name": "stderr",
     "output_type": "stream",
     "text": [
      "100%|██████████| 551/551 [00:03<00:00, 157.02it/s]\n"
     ]
    },
    {
     "name": "stdout",
     "output_type": "stream",
     "text": [
      "3.509126901626587\n",
      "F1 score: 1.0\n",
      "Covering: 0.9389113754804991\n",
      "1.0\n",
      "(50, 0.05, 50, 500, 4)\n",
      "50\n"
     ]
    },
    {
     "name": "stderr",
     "output_type": "stream",
     "text": [
      "100%|██████████| 551/551 [00:05<00:00, 101.63it/s]\n"
     ]
    },
    {
     "name": "stdout",
     "output_type": "stream",
     "text": [
      "5.421869516372681\n",
      "F1 score: 1.0\n",
      "Covering: 0.9326685325628987\n",
      "1.0\n",
      "(50, 0.05, 50, 1000, 4)\n",
      "50\n"
     ]
    },
    {
     "name": "stderr",
     "output_type": "stream",
     "text": [
      "100%|██████████| 551/551 [00:07<00:00, 76.92it/s]\n"
     ]
    },
    {
     "name": "stdout",
     "output_type": "stream",
     "text": [
      "7.170711040496826\n",
      "F1 score: 1.0\n",
      "Covering: 0.9326685325628987\n",
      "1.0\n",
      "(50, 0.05, 50, 5000, 4)\n",
      "50\n"
     ]
    },
    {
     "name": "stderr",
     "output_type": "stream",
     "text": [
      "100%|██████████| 551/551 [00:13<00:00, 42.38it/s]\n"
     ]
    },
    {
     "name": "stdout",
     "output_type": "stream",
     "text": [
      "13.000715255737305\n",
      "F1 score: 1.0\n",
      "Covering: 0.9357474600870826\n",
      "1.0\n",
      "[200, 400, 600]\n",
      "(50, 0.05, 50, 100, 4)\n",
      "50\n"
     ]
    },
    {
     "name": "stderr",
     "output_type": "stream",
     "text": [
      "100%|██████████| 751/751 [00:03<00:00, 223.21it/s]\n"
     ]
    },
    {
     "name": "stdout",
     "output_type": "stream",
     "text": [
      "3.36448335647583\n",
      "F1 score: 0.75\n",
      "Covering: 0.876792093461754\n",
      "0.75\n",
      "(50, 0.05, 50, 200, 4)\n",
      "50\n"
     ]
    },
    {
     "name": "stderr",
     "output_type": "stream",
     "text": [
      "100%|██████████| 751/751 [00:04<00:00, 175.53it/s]\n"
     ]
    },
    {
     "name": "stdout",
     "output_type": "stream",
     "text": [
      "4.2783496379852295\n",
      "F1 score: 0.75\n",
      "Covering: 0.8899406312944119\n",
      "0.75\n",
      "(50, 0.05, 50, 500, 4)\n",
      "50\n"
     ]
    },
    {
     "name": "stderr",
     "output_type": "stream",
     "text": [
      "100%|██████████| 751/751 [00:06<00:00, 108.22it/s]\n"
     ]
    },
    {
     "name": "stdout",
     "output_type": "stream",
     "text": [
      "6.9398462772369385\n",
      "F1 score: 0.75\n",
      "Covering: 0.8811970899470899\n",
      "0.75\n",
      "(50, 0.05, 50, 1000, 4)\n",
      "50\n"
     ]
    },
    {
     "name": "stderr",
     "output_type": "stream",
     "text": [
      "100%|██████████| 751/751 [00:09<00:00, 79.57it/s]\n"
     ]
    },
    {
     "name": "stdout",
     "output_type": "stream",
     "text": [
      "9.454360485076904\n",
      "F1 score: 0.75\n",
      "Covering: 0.8810739675016928\n",
      "0.75\n",
      "(50, 0.05, 50, 5000, 4)\n",
      "50\n"
     ]
    },
    {
     "name": "stderr",
     "output_type": "stream",
     "text": [
      "100%|██████████| 751/751 [00:17<00:00, 42.11it/s]\n"
     ]
    },
    {
     "name": "stdout",
     "output_type": "stream",
     "text": [
      "17.833001613616943\n",
      "F1 score: 0.6666666666666665\n",
      "Covering: 0.8645304232804232\n",
      "0.675\n",
      "[200, 400, 600]\n",
      "(50, 0.05, 50, 100, 4)\n",
      "50\n"
     ]
    },
    {
     "name": "stderr",
     "output_type": "stream",
     "text": [
      "100%|██████████| 751/751 [00:03<00:00, 228.50it/s]\n"
     ]
    },
    {
     "name": "stdout",
     "output_type": "stream",
     "text": [
      "3.286592960357666\n",
      "F1 score: 1.0\n",
      "Covering: 0.9162319828716998\n",
      "1.0\n",
      "(50, 0.05, 50, 200, 4)\n",
      "50\n"
     ]
    },
    {
     "name": "stderr",
     "output_type": "stream",
     "text": [
      "100%|██████████| 751/751 [00:03<00:00, 188.78it/s]\n"
     ]
    },
    {
     "name": "stdout",
     "output_type": "stream",
     "text": [
      "3.9780972003936768\n",
      "F1 score: 1.0\n",
      "Covering: 0.9072080163828812\n",
      "1.0\n",
      "(50, 0.05, 50, 500, 4)\n",
      "50\n"
     ]
    },
    {
     "name": "stderr",
     "output_type": "stream",
     "text": [
      "100%|██████████| 751/751 [00:06<00:00, 116.38it/s]\n"
     ]
    },
    {
     "name": "stdout",
     "output_type": "stream",
     "text": [
      "6.468812942504883\n",
      "F1 score: 0.888888888888889\n",
      "Covering: 0.8980118262056405\n",
      "0.9\n",
      "(50, 0.05, 50, 1000, 4)\n",
      "50\n"
     ]
    },
    {
     "name": "stderr",
     "output_type": "stream",
     "text": [
      "100%|██████████| 751/751 [00:10<00:00, 72.42it/s]\n"
     ]
    },
    {
     "name": "stdout",
     "output_type": "stream",
     "text": [
      "10.385254859924316\n",
      "F1 score: 1.0\n",
      "Covering: 0.9004041707032482\n",
      "1.0\n",
      "(50, 0.05, 50, 5000, 4)\n",
      "50\n"
     ]
    },
    {
     "name": "stderr",
     "output_type": "stream",
     "text": [
      "100%|██████████| 751/751 [00:16<00:00, 46.33it/s]\n"
     ]
    },
    {
     "name": "stdout",
     "output_type": "stream",
     "text": [
      "16.209675788879395\n",
      "F1 score: 0.888888888888889\n",
      "Covering: 0.8980118262056405\n",
      "0.9\n",
      "[200, 400, 600]\n",
      "(50, 0.05, 50, 100, 4)\n",
      "50\n"
     ]
    },
    {
     "name": "stderr",
     "output_type": "stream",
     "text": [
      "100%|██████████| 751/751 [00:03<00:00, 226.57it/s]\n"
     ]
    },
    {
     "name": "stdout",
     "output_type": "stream",
     "text": [
      "3.3148996829986572\n",
      "F1 score: 1.0\n",
      "Covering: 0.9028870315624729\n",
      "1.0\n",
      "(50, 0.05, 50, 200, 4)\n",
      "50\n"
     ]
    },
    {
     "name": "stderr",
     "output_type": "stream",
     "text": [
      "100%|██████████| 751/751 [00:03<00:00, 200.66it/s]\n"
     ]
    },
    {
     "name": "stdout",
     "output_type": "stream",
     "text": [
      "3.748727321624756\n",
      "F1 score: 0.888888888888889\n",
      "Covering: 0.8864829957452279\n",
      "0.9\n",
      "(50, 0.05, 50, 500, 4)\n",
      "50\n"
     ]
    },
    {
     "name": "stderr",
     "output_type": "stream",
     "text": [
      "100%|██████████| 751/751 [00:05<00:00, 144.75it/s]\n"
     ]
    },
    {
     "name": "stdout",
     "output_type": "stream",
     "text": [
      "5.188098192214966\n",
      "F1 score: 1.0\n",
      "Covering: 0.8985639694614922\n",
      "1.0\n",
      "(50, 0.05, 50, 1000, 4)\n",
      "50\n"
     ]
    },
    {
     "name": "stderr",
     "output_type": "stream",
     "text": [
      "100%|██████████| 751/751 [00:06<00:00, 112.74it/s]\n"
     ]
    },
    {
     "name": "stdout",
     "output_type": "stream",
     "text": [
      "6.661073446273804\n",
      "F1 score: 1.0\n",
      "Covering: 0.8940539919513603\n",
      "1.0\n",
      "(50, 0.05, 50, 5000, 4)\n",
      "50\n"
     ]
    },
    {
     "name": "stderr",
     "output_type": "stream",
     "text": [
      "100%|██████████| 751/751 [00:16<00:00, 46.44it/s]\n"
     ]
    },
    {
     "name": "stdout",
     "output_type": "stream",
     "text": [
      "16.186179876327515\n",
      "F1 score: 1.0\n",
      "Covering: 0.898510939113787\n",
      "1.0\n",
      "[200, 400, 600]\n",
      "(50, 0.05, 50, 100, 4)\n",
      "50\n"
     ]
    },
    {
     "name": "stderr",
     "output_type": "stream",
     "text": [
      "100%|██████████| 751/751 [00:03<00:00, 217.40it/s]\n"
     ]
    },
    {
     "name": "stdout",
     "output_type": "stream",
     "text": [
      "3.4574363231658936\n",
      "F1 score: 1.0\n",
      "Covering: 0.887762252359235\n",
      "1.0\n",
      "(50, 0.05, 50, 200, 4)\n",
      "50\n"
     ]
    },
    {
     "name": "stderr",
     "output_type": "stream",
     "text": [
      "100%|██████████| 751/751 [00:04<00:00, 186.45it/s]\n"
     ]
    },
    {
     "name": "stdout",
     "output_type": "stream",
     "text": [
      "4.027925729751587\n",
      "F1 score: 1.0\n",
      "Covering: 0.896365821576688\n",
      "1.0\n",
      "(50, 0.05, 50, 500, 4)\n",
      "50\n"
     ]
    },
    {
     "name": "stderr",
     "output_type": "stream",
     "text": [
      "100%|██████████| 751/751 [00:05<00:00, 141.72it/s]\n"
     ]
    },
    {
     "name": "stdout",
     "output_type": "stream",
     "text": [
      "5.299221515655518\n",
      "F1 score: 0.888888888888889\n",
      "Covering: 0.8872823750993174\n",
      "0.9\n",
      "(50, 0.05, 50, 1000, 4)\n",
      "50\n"
     ]
    },
    {
     "name": "stderr",
     "output_type": "stream",
     "text": [
      "100%|██████████| 751/751 [00:06<00:00, 109.47it/s]\n"
     ]
    },
    {
     "name": "stdout",
     "output_type": "stream",
     "text": [
      "6.860245704650879\n",
      "F1 score: 1.0\n",
      "Covering: 0.8895717232879649\n",
      "1.0\n",
      "(50, 0.05, 50, 5000, 4)\n",
      "50\n"
     ]
    },
    {
     "name": "stderr",
     "output_type": "stream",
     "text": [
      "100%|██████████| 751/751 [00:16<00:00, 46.73it/s]\n"
     ]
    },
    {
     "name": "stdout",
     "output_type": "stream",
     "text": [
      "16.07821249961853\n",
      "F1 score: 1.0\n",
      "Covering: 0.8829413319238901\n",
      "1.0\n",
      "[200, 400, 600]\n",
      "(50, 0.05, 50, 100, 4)\n",
      "50\n"
     ]
    },
    {
     "name": "stderr",
     "output_type": "stream",
     "text": [
      "100%|██████████| 751/751 [00:03<00:00, 246.07it/s]\n"
     ]
    },
    {
     "name": "stdout",
     "output_type": "stream",
     "text": [
      "3.0549113750457764\n",
      "F1 score: 1.0\n",
      "Covering: 0.9055106469208735\n",
      "1.0\n",
      "(50, 0.05, 50, 200, 4)\n",
      "50\n"
     ]
    },
    {
     "name": "stderr",
     "output_type": "stream",
     "text": [
      "100%|██████████| 751/751 [00:03<00:00, 203.56it/s]\n"
     ]
    },
    {
     "name": "stdout",
     "output_type": "stream",
     "text": [
      "3.6892664432525635\n",
      "F1 score: 1.0\n",
      "Covering: 0.8944353655811539\n",
      "1.0\n",
      "(50, 0.05, 50, 500, 4)\n",
      "50\n"
     ]
    },
    {
     "name": "stderr",
     "output_type": "stream",
     "text": [
      "100%|██████████| 751/751 [00:05<00:00, 139.96it/s]\n"
     ]
    },
    {
     "name": "stdout",
     "output_type": "stream",
     "text": [
      "5.365833759307861\n",
      "F1 score: 0.75\n",
      "Covering: 0.8923798791546357\n",
      "0.75\n",
      "(50, 0.05, 50, 1000, 4)\n",
      "50\n"
     ]
    },
    {
     "name": "stderr",
     "output_type": "stream",
     "text": [
      "100%|██████████| 751/751 [00:07<00:00, 106.24it/s]\n"
     ]
    },
    {
     "name": "stdout",
     "output_type": "stream",
     "text": [
      "7.080013275146484\n",
      "F1 score: 0.75\n",
      "Covering: 0.8901308893944023\n",
      "0.75\n",
      "(50, 0.05, 50, 5000, 4)\n",
      "50\n"
     ]
    },
    {
     "name": "stderr",
     "output_type": "stream",
     "text": [
      "100%|██████████| 751/751 [00:15<00:00, 47.07it/s]\n"
     ]
    },
    {
     "name": "stdout",
     "output_type": "stream",
     "text": [
      "15.957029819488525\n",
      "F1 score: 0.6666666666666665\n",
      "Covering: 0.8856682449509993\n",
      "0.675\n",
      "[200, 400, 600, 800]\n",
      "(50, 0.05, 50, 100, 4)\n",
      "50\n"
     ]
    },
    {
     "name": "stderr",
     "output_type": "stream",
     "text": [
      "100%|██████████| 951/951 [00:04<00:00, 230.49it/s]\n"
     ]
    },
    {
     "name": "stdout",
     "output_type": "stream",
     "text": [
      "4.13374662399292\n",
      "F1 score: 0.8000000000000002\n",
      "Covering: 0.8798724412105878\n",
      "0.8\n",
      "(50, 0.05, 50, 200, 4)\n",
      "50\n"
     ]
    },
    {
     "name": "stderr",
     "output_type": "stream",
     "text": [
      "100%|██████████| 951/951 [00:04<00:00, 212.05it/s]\n"
     ]
    },
    {
     "name": "stdout",
     "output_type": "stream",
     "text": [
      "4.484699726104736\n",
      "F1 score: 0.8000000000000002\n",
      "Covering: 0.8780800831767699\n",
      "0.8\n",
      "(50, 0.05, 50, 500, 4)\n",
      "50\n"
     ]
    },
    {
     "name": "stderr",
     "output_type": "stream",
     "text": [
      "100%|██████████| 951/951 [00:06<00:00, 141.80it/s]\n"
     ]
    },
    {
     "name": "stdout",
     "output_type": "stream",
     "text": [
      "6.709040403366089\n",
      "F1 score: 0.888888888888889\n",
      "Covering: 0.724749440590562\n",
      "0.9\n",
      "(50, 0.05, 50, 1000, 4)\n",
      "50\n"
     ]
    },
    {
     "name": "stderr",
     "output_type": "stream",
     "text": [
      "100%|██████████| 951/951 [00:08<00:00, 108.04it/s]\n"
     ]
    },
    {
     "name": "stdout",
     "output_type": "stream",
     "text": [
      "8.802200317382812\n",
      "F1 score: 0.888888888888889\n",
      "Covering: 0.7236735619152913\n",
      "0.9\n",
      "(50, 0.05, 50, 5000, 4)\n",
      "50\n"
     ]
    },
    {
     "name": "stderr",
     "output_type": "stream",
     "text": [
      "100%|██████████| 951/951 [00:19<00:00, 47.72it/s]\n"
     ]
    },
    {
     "name": "stdout",
     "output_type": "stream",
     "text": [
      "19.932299613952637\n",
      "F1 score: 0.6666666666666665\n",
      "Covering: 0.7229921544462501\n",
      "0.675\n",
      "[200, 400, 600, 800]\n",
      "(50, 0.05, 50, 100, 4)\n",
      "50\n"
     ]
    },
    {
     "name": "stderr",
     "output_type": "stream",
     "text": [
      "100%|██████████| 951/951 [00:03<00:00, 242.09it/s]\n"
     ]
    },
    {
     "name": "stdout",
     "output_type": "stream",
     "text": [
      "3.931624174118042\n",
      "F1 score: 1.0\n",
      "Covering: 0.8930872696120612\n",
      "1.0\n",
      "(50, 0.05, 50, 200, 4)\n",
      "50\n"
     ]
    },
    {
     "name": "stderr",
     "output_type": "stream",
     "text": [
      "100%|██████████| 951/951 [00:04<00:00, 214.62it/s]\n"
     ]
    },
    {
     "name": "stdout",
     "output_type": "stream",
     "text": [
      "4.435212135314941\n",
      "F1 score: 0.8000000000000002\n",
      "Covering: 0.8932370292579022\n",
      "0.8\n",
      "(50, 0.05, 50, 500, 4)\n",
      "50\n"
     ]
    },
    {
     "name": "stderr",
     "output_type": "stream",
     "text": [
      "100%|██████████| 951/951 [00:06<00:00, 147.27it/s]\n"
     ]
    },
    {
     "name": "stdout",
     "output_type": "stream",
     "text": [
      "6.465745210647583\n",
      "F1 score: 0.8000000000000002\n",
      "Covering: 0.891591136561318\n",
      "0.8\n",
      "(50, 0.05, 50, 1000, 4)\n",
      "50\n"
     ]
    },
    {
     "name": "stderr",
     "output_type": "stream",
     "text": [
      "100%|██████████| 951/951 [00:08<00:00, 113.91it/s]\n"
     ]
    },
    {
     "name": "stdout",
     "output_type": "stream",
     "text": [
      "8.351455211639404\n",
      "F1 score: 1.0\n",
      "Covering: 0.8914181417498702\n",
      "1.0\n",
      "(50, 0.05, 50, 5000, 4)\n",
      "50\n"
     ]
    },
    {
     "name": "stderr",
     "output_type": "stream",
     "text": [
      "100%|██████████| 951/951 [00:20<00:00, 47.17it/s]\n"
     ]
    },
    {
     "name": "stdout",
     "output_type": "stream",
     "text": [
      "20.16201090812683\n",
      "F1 score: 0.9090909090909091\n",
      "Covering: 0.8806103896103896\n",
      "0.9166666666666667\n",
      "[200, 400, 600, 800]\n",
      "(50, 0.05, 50, 100, 4)\n",
      "50\n"
     ]
    },
    {
     "name": "stderr",
     "output_type": "stream",
     "text": [
      "100%|██████████| 951/951 [00:04<00:00, 218.48it/s]\n"
     ]
    },
    {
     "name": "stdout",
     "output_type": "stream",
     "text": [
      "4.3560004234313965\n",
      "F1 score: 1.0\n",
      "Covering: 0.8982582141426592\n",
      "1.0\n",
      "(50, 0.05, 50, 200, 4)\n",
      "50\n"
     ]
    },
    {
     "name": "stderr",
     "output_type": "stream",
     "text": [
      "100%|██████████| 951/951 [00:04<00:00, 215.54it/s]\n"
     ]
    },
    {
     "name": "stdout",
     "output_type": "stream",
     "text": [
      "4.414556503295898\n",
      "F1 score: 0.9090909090909091\n",
      "Covering: 0.8844106817915641\n",
      "0.9166666666666667\n",
      "(50, 0.05, 50, 500, 4)\n",
      "50\n"
     ]
    },
    {
     "name": "stderr",
     "output_type": "stream",
     "text": [
      "100%|██████████| 951/951 [00:06<00:00, 138.34it/s]\n"
     ]
    },
    {
     "name": "stdout",
     "output_type": "stream",
     "text": [
      "6.874583721160889\n",
      "F1 score: 1.0\n",
      "Covering: 0.8913616235432235\n",
      "1.0\n",
      "(50, 0.05, 50, 1000, 4)\n",
      "50\n"
     ]
    },
    {
     "name": "stderr",
     "output_type": "stream",
     "text": [
      "100%|██████████| 951/951 [00:08<00:00, 114.76it/s]\n"
     ]
    },
    {
     "name": "stdout",
     "output_type": "stream",
     "text": [
      "8.291021347045898\n",
      "F1 score: 1.0\n",
      "Covering: 0.8895615843926294\n",
      "1.0\n",
      "(50, 0.05, 50, 5000, 4)\n",
      "50\n"
     ]
    },
    {
     "name": "stderr",
     "output_type": "stream",
     "text": [
      "100%|██████████| 951/951 [00:20<00:00, 47.53it/s]\n"
     ]
    },
    {
     "name": "stdout",
     "output_type": "stream",
     "text": [
      "20.01181149482727\n",
      "F1 score: 1.0\n",
      "Covering: 0.8929704214849346\n",
      "1.0\n",
      "[200, 400, 600, 800]\n",
      "(50, 0.05, 50, 100, 4)\n",
      "50\n"
     ]
    },
    {
     "name": "stderr",
     "output_type": "stream",
     "text": [
      "100%|██████████| 951/951 [00:04<00:00, 218.02it/s]\n"
     ]
    },
    {
     "name": "stdout",
     "output_type": "stream",
     "text": [
      "4.363908052444458\n",
      "F1 score: 0.8000000000000002\n",
      "Covering: 0.9053633859741367\n",
      "0.8\n",
      "(50, 0.05, 50, 200, 4)\n",
      "50\n"
     ]
    },
    {
     "name": "stderr",
     "output_type": "stream",
     "text": [
      "100%|██████████| 951/951 [00:04<00:00, 202.48it/s]\n"
     ]
    },
    {
     "name": "stdout",
     "output_type": "stream",
     "text": [
      "4.696813583374023\n",
      "F1 score: 1.0\n",
      "Covering: 0.9050752275716055\n",
      "1.0\n",
      "(50, 0.05, 50, 500, 4)\n",
      "50\n"
     ]
    },
    {
     "name": "stderr",
     "output_type": "stream",
     "text": [
      "100%|██████████| 951/951 [00:06<00:00, 142.27it/s]\n"
     ]
    },
    {
     "name": "stdout",
     "output_type": "stream",
     "text": [
      "6.690433740615845\n",
      "F1 score: 1.0\n",
      "Covering: 0.8996161387376828\n",
      "1.0\n",
      "(50, 0.05, 50, 1000, 4)\n",
      "50\n"
     ]
    },
    {
     "name": "stderr",
     "output_type": "stream",
     "text": [
      "100%|██████████| 951/951 [00:08<00:00, 108.44it/s]\n"
     ]
    },
    {
     "name": "stdout",
     "output_type": "stream",
     "text": [
      "8.769810438156128\n",
      "F1 score: 1.0\n",
      "Covering: 0.8960808774890625\n",
      "1.0\n",
      "(50, 0.05, 50, 5000, 4)\n",
      "50\n"
     ]
    },
    {
     "name": "stderr",
     "output_type": "stream",
     "text": [
      "100%|██████████| 951/951 [00:20<00:00, 46.16it/s]\n"
     ]
    },
    {
     "name": "stdout",
     "output_type": "stream",
     "text": [
      "20.603198528289795\n",
      "F1 score: 1.0\n",
      "Covering: 0.8996357266558209\n",
      "1.0\n",
      "[200, 400, 600, 800]\n",
      "(50, 0.05, 50, 100, 4)\n",
      "50\n"
     ]
    },
    {
     "name": "stderr",
     "output_type": "stream",
     "text": [
      "100%|██████████| 951/951 [00:04<00:00, 222.61it/s]\n"
     ]
    },
    {
     "name": "stdout",
     "output_type": "stream",
     "text": [
      "4.277976036071777\n",
      "F1 score: 0.7142857142857143\n",
      "Covering: 0.9057083145255935\n",
      "0.7777777777777778\n",
      "(50, 0.05, 50, 200, 4)\n",
      "50\n"
     ]
    },
    {
     "name": "stderr",
     "output_type": "stream",
     "text": [
      "100%|██████████| 951/951 [00:05<00:00, 184.29it/s]\n"
     ]
    },
    {
     "name": "stdout",
     "output_type": "stream",
     "text": [
      "5.160449981689453\n",
      "F1 score: 0.8333333333333333\n",
      "Covering: 0.8993809779744746\n",
      "0.8571428571428572\n",
      "(50, 0.05, 50, 500, 4)\n",
      "50\n"
     ]
    },
    {
     "name": "stderr",
     "output_type": "stream",
     "text": [
      "100%|██████████| 951/951 [00:06<00:00, 146.59it/s]\n"
     ]
    },
    {
     "name": "stdout",
     "output_type": "stream",
     "text": [
      "6.487578868865967\n",
      "F1 score: 0.9090909090909091\n",
      "Covering: 0.9141142553109662\n",
      "0.9166666666666667\n",
      "(50, 0.05, 50, 1000, 4)\n",
      "50\n"
     ]
    },
    {
     "name": "stderr",
     "output_type": "stream",
     "text": [
      "100%|██████████| 951/951 [00:11<00:00, 80.29it/s] \n"
     ]
    },
    {
     "name": "stdout",
     "output_type": "stream",
     "text": [
      "11.844937562942505\n",
      "F1 score: 1.0\n",
      "Covering: 0.9089175641046217\n",
      "1.0\n",
      "(50, 0.05, 50, 5000, 4)\n",
      "50\n"
     ]
    },
    {
     "name": "stderr",
     "output_type": "stream",
     "text": [
      "100%|██████████| 951/951 [00:22<00:00, 42.42it/s]"
     ]
    },
    {
     "name": "stdout",
     "output_type": "stream",
     "text": [
      "22.417404413223267\n",
      "F1 score: 1.0\n",
      "Covering: 0.9070618141548373\n",
      "1.0\n"
     ]
    },
    {
     "name": "stderr",
     "output_type": "stream",
     "text": [
      "\n"
     ]
    }
   ],
   "source": [
    "WindowLength = [50]#,200]\n",
    "Significance = [0.05]#,0.1,0.2]\n",
    "Lookback = [50]#,0.8,0.5]\n",
    "MonteCarloSample = [100,200,500,1000,5000] #[200,1000,5000]\n",
    "WassersteinOrder = [4]#[1,2,4]\n",
    "\n",
    "METRICS_MCL = {}\n",
    "\n",
    "for rs in data.keys():\n",
    "    df = np.array(data[rs]['data']).astype(np.float32)\n",
    "    GroundTruth = data[rs]['target']\n",
    "    METRICS_MCL[rs] = {}\n",
    "\n",
    "    print(GroundTruth)\n",
    "\n",
    "    for combination in product(WindowLength,Significance,Lookback,MonteCarloSample,WassersteinOrder):\n",
    "        print(combination)\n",
    "        k,significance, lookack,L,p = combination\n",
    "        print(k)\n",
    "        METRICS_MCL[rs][L] = {}\n",
    "        detector = SWDCP(data=df,window_length=k,max_history=lookack,significance=significance)\n",
    "        start = time.time()\n",
    "        detector.process_dataloader(p=p,n_theta=L,explanations=False,seed=2025,verbose=False)\n",
    "        end = time.time()\n",
    "        print(end-start)\n",
    "        f1,cov, auc_score = detector.evaluate(GroundTruth,20)\n",
    "        METRICS_MCL[rs][L]['F1'] = f1\n",
    "        METRICS_MCL[rs][L]['Covering'] = cov\n",
    "        METRICS_MCL[rs][L]['AUC'] = auc_score\n",
    "        METRICS_MCL[rs][L]['cps'] = detector.change_points\n",
    "        METRICS_MCL[rs][L]['RunTime'] = end-start"
   ]
  },
  {
   "cell_type": "code",
   "execution_count": 10,
   "metadata": {},
   "outputs": [
    {
     "data": {
      "text/plain": [
       "<Axes: >"
      ]
     },
     "execution_count": 10,
     "metadata": {},
     "output_type": "execute_result"
    },
    {
     "data": {
      "image/png": "[encoded data removed]",
      "text/plain": [
       "<Figure size 640x480 with 2 Axes>"
      ]
     },
     "metadata": {},
     "output_type": "display_data"
    }
   ],
   "source": [
    "Plot_data_MCLC = {k: [] for k in MonteCarloSample}\n",
    "Plot_data_MCLAUC = {k: [] for k in MonteCarloSample}\n",
    "\n",
    "for seed, val in METRICS_MCL.items():\n",
    "    for k, res in val.items():\n",
    "        Plot_data_MCLC[k].append(res['Covering'])\n",
    "        Plot_data_MCLAUC[k].append(res['AUC'])\n",
    "\n",
    "fig, ax = plt.subplots(1,2)\n",
    "sns.boxplot(Plot_data_MCLAUC,ax=ax[0])\n",
    "sns.boxplot(Plot_data_MCLC,ax=ax[1])"
   ]
  },
  {
   "cell_type": "code",
   "execution_count": 11,
   "metadata": {},
   "outputs": [
    {
     "name": "stdout",
     "output_type": "stream",
     "text": [
      "[200, 400]\n",
      "(50, 0.05, 50, 1000, 1)\n",
      "50\n"
     ]
    },
    {
     "name": "stderr",
     "output_type": "stream",
     "text": [
      "  0%|          | 0/551 [00:00<?, ?it/s]"
     ]
    },
    {
     "name": "stderr",
     "output_type": "stream",
     "text": [
      "100%|██████████| 551/551 [00:04<00:00, 116.58it/s]\n"
     ]
    },
    {
     "name": "stdout",
     "output_type": "stream",
     "text": [
      "4.727750062942505\n",
      "F1 score: 0.6666666666666666\n",
      "Covering: 0.8699670673191774\n",
      "0.6666666666666666\n",
      "(50, 0.05, 50, 1000, 2)\n",
      "50\n"
     ]
    },
    {
     "name": "stderr",
     "output_type": "stream",
     "text": [
      "100%|██████████| 551/551 [00:04<00:00, 110.64it/s]\n"
     ]
    },
    {
     "name": "stdout",
     "output_type": "stream",
     "text": [
      "4.99251389503479\n",
      "F1 score: 1.0\n",
      "Covering: 0.884492389331099\n",
      "1.0\n",
      "(50, 0.05, 50, 1000, 3)\n",
      "50\n"
     ]
    },
    {
     "name": "stderr",
     "output_type": "stream",
     "text": [
      "100%|██████████| 551/551 [00:06<00:00, 81.52it/s]\n"
     ]
    },
    {
     "name": "stdout",
     "output_type": "stream",
     "text": [
      "6.774670362472534\n",
      "F1 score: 1.0\n",
      "Covering: 0.884492389331099\n",
      "1.0\n",
      "(50, 0.05, 50, 1000, 4)\n",
      "50\n"
     ]
    },
    {
     "name": "stderr",
     "output_type": "stream",
     "text": [
      "100%|██████████| 551/551 [00:06<00:00, 79.53it/s]\n"
     ]
    },
    {
     "name": "stdout",
     "output_type": "stream",
     "text": [
      "6.928431987762451\n",
      "F1 score: 1.0\n",
      "Covering: 0.884492389331099\n",
      "1.0\n",
      "(50, 0.05, 50, 1000, 6)\n",
      "50\n"
     ]
    },
    {
     "name": "stderr",
     "output_type": "stream",
     "text": [
      "100%|██████████| 551/551 [00:07<00:00, 77.37it/s]\n"
     ]
    },
    {
     "name": "stdout",
     "output_type": "stream",
     "text": [
      "7.138170003890991\n",
      "F1 score: 1.0\n",
      "Covering: 0.9112590530261673\n",
      "1.0\n",
      "[200, 400]\n",
      "(50, 0.05, 50, 1000, 1)\n",
      "50\n"
     ]
    },
    {
     "name": "stderr",
     "output_type": "stream",
     "text": [
      "100%|██████████| 551/551 [00:06<00:00, 79.82it/s]\n"
     ]
    },
    {
     "name": "stdout",
     "output_type": "stream",
     "text": [
      "6.907916784286499\n",
      "F1 score: 0.8\n",
      "Covering: 0.6284688995215311\n",
      "0.8333333333333333\n",
      "(50, 0.05, 50, 1000, 2)\n",
      "50\n"
     ]
    },
    {
     "name": "stderr",
     "output_type": "stream",
     "text": [
      "100%|██████████| 551/551 [00:07<00:00, 75.55it/s]\n"
     ]
    },
    {
     "name": "stdout",
     "output_type": "stream",
     "text": [
      "7.295649766921997\n",
      "F1 score: 0.8\n",
      "Covering: 0.6355864197530865\n",
      "0.8333333333333333\n",
      "(50, 0.05, 50, 1000, 3)\n",
      "50\n"
     ]
    },
    {
     "name": "stderr",
     "output_type": "stream",
     "text": [
      "100%|██████████| 551/551 [00:07<00:00, 77.70it/s]\n"
     ]
    },
    {
     "name": "stdout",
     "output_type": "stream",
     "text": [
      "7.091421604156494\n",
      "F1 score: 0.8\n",
      "Covering: 0.6374043592066848\n",
      "0.8333333333333333\n",
      "(50, 0.05, 50, 1000, 4)\n",
      "50\n"
     ]
    },
    {
     "name": "stderr",
     "output_type": "stream",
     "text": [
      "100%|██████████| 551/551 [00:07<00:00, 76.50it/s]\n"
     ]
    },
    {
     "name": "stdout",
     "output_type": "stream",
     "text": [
      "7.202920913696289\n",
      "F1 score: 0.8\n",
      "Covering: 0.6374043592066848\n",
      "0.8333333333333333\n",
      "(50, 0.05, 50, 1000, 6)\n",
      "50\n"
     ]
    },
    {
     "name": "stderr",
     "output_type": "stream",
     "text": [
      "100%|██████████| 551/551 [00:07<00:00, 75.07it/s]\n"
     ]
    },
    {
     "name": "stdout",
     "output_type": "stream",
     "text": [
      "7.340264320373535\n",
      "F1 score: 0.8\n",
      "Covering: 0.6410876672611032\n",
      "0.8333333333333333\n",
      "[200, 400]\n",
      "(50, 0.05, 50, 1000, 1)\n",
      "50\n"
     ]
    },
    {
     "name": "stderr",
     "output_type": "stream",
     "text": [
      "100%|██████████| 551/551 [00:06<00:00, 79.05it/s]\n"
     ]
    },
    {
     "name": "stdout",
     "output_type": "stream",
     "text": [
      "6.970115423202515\n",
      "F1 score: 0.8\n",
      "Covering: 0.6337840658877887\n",
      "0.8333333333333333\n",
      "(50, 0.05, 50, 1000, 2)\n",
      "50\n"
     ]
    },
    {
     "name": "stderr",
     "output_type": "stream",
     "text": [
      "100%|██████████| 551/551 [00:07<00:00, 76.63it/s]\n"
     ]
    },
    {
     "name": "stdout",
     "output_type": "stream",
     "text": [
      "7.192249059677124\n",
      "F1 score: 1.0\n",
      "Covering: 0.8992634828088829\n",
      "1.0\n",
      "(50, 0.05, 50, 1000, 3)\n",
      "50\n"
     ]
    },
    {
     "name": "stderr",
     "output_type": "stream",
     "text": [
      "100%|██████████| 551/551 [00:06<00:00, 81.48it/s]\n"
     ]
    },
    {
     "name": "stdout",
     "output_type": "stream",
     "text": [
      "6.777660608291626\n",
      "F1 score: 1.0\n",
      "Covering: 0.9112461059190031\n",
      "1.0\n",
      "(50, 0.05, 50, 1000, 4)\n",
      "50\n"
     ]
    },
    {
     "name": "stderr",
     "output_type": "stream",
     "text": [
      "100%|██████████| 551/551 [00:06<00:00, 79.45it/s]\n"
     ]
    },
    {
     "name": "stdout",
     "output_type": "stream",
     "text": [
      "6.935098171234131\n",
      "F1 score: 1.0\n",
      "Covering: 0.9203417781321049\n",
      "1.0\n",
      "(50, 0.05, 50, 1000, 6)\n",
      "50\n"
     ]
    },
    {
     "name": "stderr",
     "output_type": "stream",
     "text": [
      "100%|██████████| 551/551 [00:06<00:00, 78.74it/s]\n"
     ]
    },
    {
     "name": "stdout",
     "output_type": "stream",
     "text": [
      "6.997359275817871\n",
      "F1 score: 1.0\n",
      "Covering: 0.9388205361889572\n",
      "1.0\n",
      "[200, 400]\n",
      "(50, 0.05, 50, 1000, 1)\n",
      "50\n"
     ]
    },
    {
     "name": "stderr",
     "output_type": "stream",
     "text": [
      "100%|██████████| 551/551 [00:07<00:00, 72.60it/s]\n"
     ]
    },
    {
     "name": "stdout",
     "output_type": "stream",
     "text": [
      "7.589591979980469\n",
      "F1 score: 0.6666666666666666\n",
      "Covering: 0.8845219638242895\n",
      "0.6666666666666666\n",
      "(50, 0.05, 50, 1000, 2)\n",
      "50\n"
     ]
    },
    {
     "name": "stderr",
     "output_type": "stream",
     "text": [
      "100%|██████████| 551/551 [00:07<00:00, 78.26it/s]\n"
     ]
    },
    {
     "name": "stdout",
     "output_type": "stream",
     "text": [
      "7.040967702865601\n",
      "F1 score: 1.0\n",
      "Covering: 0.9022407654650645\n",
      "1.0\n",
      "(50, 0.05, 50, 1000, 3)\n",
      "50\n"
     ]
    },
    {
     "name": "stderr",
     "output_type": "stream",
     "text": [
      "100%|██████████| 551/551 [00:07<00:00, 73.62it/s]\n"
     ]
    },
    {
     "name": "stdout",
     "output_type": "stream",
     "text": [
      "7.483959913253784\n",
      "F1 score: 1.0\n",
      "Covering: 0.9112555322618217\n",
      "1.0\n",
      "(50, 0.05, 50, 1000, 4)\n",
      "50\n"
     ]
    },
    {
     "name": "stderr",
     "output_type": "stream",
     "text": [
      "100%|██████████| 551/551 [00:07<00:00, 73.72it/s]\n"
     ]
    },
    {
     "name": "stdout",
     "output_type": "stream",
     "text": [
      "7.489956855773926\n",
      "F1 score: 1.0\n",
      "Covering: 0.9112555322618217\n",
      "1.0\n",
      "(50, 0.05, 50, 1000, 6)\n",
      "50\n"
     ]
    },
    {
     "name": "stderr",
     "output_type": "stream",
     "text": [
      "100%|██████████| 551/551 [00:07<00:00, 74.54it/s]\n"
     ]
    },
    {
     "name": "stdout",
     "output_type": "stream",
     "text": [
      "7.391918182373047\n",
      "F1 score: 1.0\n",
      "Covering: 0.9295357891584306\n",
      "1.0\n",
      "[200, 400]\n",
      "(50, 0.05, 50, 1000, 1)\n",
      "50\n"
     ]
    },
    {
     "name": "stderr",
     "output_type": "stream",
     "text": [
      "100%|██████████| 551/551 [00:06<00:00, 82.20it/s]\n"
     ]
    },
    {
     "name": "stdout",
     "output_type": "stream",
     "text": [
      "6.703149318695068\n",
      "F1 score: 0.8\n",
      "Covering: 0.6320611916264091\n",
      "0.8333333333333333\n",
      "(50, 0.05, 50, 1000, 2)\n",
      "50\n"
     ]
    },
    {
     "name": "stderr",
     "output_type": "stream",
     "text": [
      "100%|██████████| 551/551 [00:06<00:00, 80.22it/s]\n"
     ]
    },
    {
     "name": "stdout",
     "output_type": "stream",
     "text": [
      "6.869213104248047\n",
      "F1 score: 1.0\n",
      "Covering: 0.908330144788904\n",
      "1.0\n",
      "(50, 0.05, 50, 1000, 3)\n",
      "50\n"
     ]
    },
    {
     "name": "stderr",
     "output_type": "stream",
     "text": [
      "100%|██████████| 551/551 [00:06<00:00, 80.64it/s]\n"
     ]
    },
    {
     "name": "stdout",
     "output_type": "stream",
     "text": [
      "6.83629298210144\n",
      "F1 score: 1.0\n",
      "Covering: 0.9265105307874615\n",
      "1.0\n",
      "(50, 0.05, 50, 1000, 4)\n",
      "50\n"
     ]
    },
    {
     "name": "stderr",
     "output_type": "stream",
     "text": [
      "100%|██████████| 551/551 [00:07<00:00, 78.68it/s]\n"
     ]
    },
    {
     "name": "stdout",
     "output_type": "stream",
     "text": [
      "7.0071961879730225\n",
      "F1 score: 1.0\n",
      "Covering: 0.9326685325628987\n",
      "1.0\n",
      "(50, 0.05, 50, 1000, 6)\n",
      "50\n"
     ]
    },
    {
     "name": "stderr",
     "output_type": "stream",
     "text": [
      "100%|██████████| 551/551 [00:07<00:00, 74.49it/s]\n"
     ]
    },
    {
     "name": "stdout",
     "output_type": "stream",
     "text": [
      "7.399253606796265\n",
      "F1 score: 1.0\n",
      "Covering: 0.9482370164894436\n",
      "1.0\n",
      "[200, 400, 600]\n",
      "(50, 0.05, 50, 1000, 1)\n",
      "50\n"
     ]
    },
    {
     "name": "stderr",
     "output_type": "stream",
     "text": [
      "100%|██████████| 751/751 [00:08<00:00, 88.18it/s] \n"
     ]
    },
    {
     "name": "stdout",
     "output_type": "stream",
     "text": [
      "8.517889499664307\n",
      "F1 score: 0.5714285714285715\n",
      "Covering: 0.682213820963821\n",
      "0.5833333333333333\n",
      "(50, 0.05, 50, 1000, 2)\n",
      "50\n"
     ]
    },
    {
     "name": "stderr",
     "output_type": "stream",
     "text": [
      "100%|██████████| 751/751 [00:06<00:00, 120.01it/s]\n"
     ]
    },
    {
     "name": "stdout",
     "output_type": "stream",
     "text": [
      "6.259728908538818\n",
      "F1 score: 0.75\n",
      "Covering: 0.6950580737615506\n",
      "0.75\n",
      "(50, 0.05, 50, 1000, 3)\n",
      "50\n"
     ]
    },
    {
     "name": "stderr",
     "output_type": "stream",
     "text": [
      "100%|██████████| 751/751 [00:06<00:00, 119.27it/s]\n"
     ]
    },
    {
     "name": "stdout",
     "output_type": "stream",
     "text": [
      "6.2968573570251465\n",
      "F1 score: 0.75\n",
      "Covering: 0.8810739675016928\n",
      "0.75\n",
      "(50, 0.05, 50, 1000, 4)\n",
      "50\n"
     ]
    },
    {
     "name": "stderr",
     "output_type": "stream",
     "text": [
      "100%|██████████| 751/751 [00:06<00:00, 112.13it/s]\n"
     ]
    },
    {
     "name": "stdout",
     "output_type": "stream",
     "text": [
      "6.697383880615234\n",
      "F1 score: 0.75\n",
      "Covering: 0.8810739675016928\n",
      "0.75\n",
      "(50, 0.05, 50, 1000, 6)\n",
      "50\n"
     ]
    },
    {
     "name": "stderr",
     "output_type": "stream",
     "text": [
      "100%|██████████| 751/751 [00:06<00:00, 111.51it/s]\n"
     ]
    },
    {
     "name": "stdout",
     "output_type": "stream",
     "text": [
      "6.7346861362457275\n",
      "F1 score: 0.75\n",
      "Covering: 0.894291727388798\n",
      "0.75\n",
      "[200, 400, 600]\n",
      "(50, 0.05, 50, 1000, 1)\n",
      "50\n"
     ]
    },
    {
     "name": "stderr",
     "output_type": "stream",
     "text": [
      "100%|██████████| 751/751 [00:06<00:00, 118.68it/s]\n"
     ]
    },
    {
     "name": "stdout",
     "output_type": "stream",
     "text": [
      "6.3296730518341064\n",
      "F1 score: 0.8571428571428571\n",
      "Covering: 0.6710526315789473\n",
      "0.875\n",
      "(50, 0.05, 50, 1000, 2)\n",
      "50\n"
     ]
    },
    {
     "name": "stderr",
     "output_type": "stream",
     "text": [
      "100%|██████████| 751/751 [00:06<00:00, 117.65it/s]\n"
     ]
    },
    {
     "name": "stdout",
     "output_type": "stream",
     "text": [
      "6.383250713348389\n",
      "F1 score: 0.8571428571428571\n",
      "Covering: 0.6868236714975845\n",
      "0.875\n",
      "(50, 0.05, 50, 1000, 3)\n",
      "50\n"
     ]
    },
    {
     "name": "stderr",
     "output_type": "stream",
     "text": [
      "100%|██████████| 751/751 [00:06<00:00, 115.67it/s]\n"
     ]
    },
    {
     "name": "stdout",
     "output_type": "stream",
     "text": [
      "6.492838382720947\n",
      "F1 score: 0.888888888888889\n",
      "Covering: 0.8914766002713246\n",
      "0.9\n",
      "(50, 0.05, 50, 1000, 4)\n",
      "50\n"
     ]
    },
    {
     "name": "stderr",
     "output_type": "stream",
     "text": [
      "100%|██████████| 751/751 [00:06<00:00, 112.58it/s]\n"
     ]
    },
    {
     "name": "stdout",
     "output_type": "stream",
     "text": [
      "6.671822547912598\n",
      "F1 score: 1.0\n",
      "Covering: 0.9004041707032482\n",
      "1.0\n",
      "(50, 0.05, 50, 1000, 6)\n",
      "50\n"
     ]
    },
    {
     "name": "stderr",
     "output_type": "stream",
     "text": [
      "100%|██████████| 751/751 [00:06<00:00, 113.14it/s]\n"
     ]
    },
    {
     "name": "stdout",
     "output_type": "stream",
     "text": [
      "6.639596939086914\n",
      "F1 score: 1.0\n",
      "Covering: 0.923070774166201\n",
      "1.0\n",
      "[200, 400, 600]\n",
      "(50, 0.05, 50, 1000, 1)\n",
      "50\n"
     ]
    },
    {
     "name": "stderr",
     "output_type": "stream",
     "text": [
      "100%|██████████| 751/751 [00:06<00:00, 119.03it/s]\n"
     ]
    },
    {
     "name": "stdout",
     "output_type": "stream",
     "text": [
      "6.312633037567139\n",
      "F1 score: 0.8571428571428571\n",
      "Covering: 0.6817591507772875\n",
      "0.875\n",
      "(50, 0.05, 50, 1000, 2)\n",
      "50\n"
     ]
    },
    {
     "name": "stderr",
     "output_type": "stream",
     "text": [
      "100%|██████████| 751/751 [00:06<00:00, 116.63it/s]\n"
     ]
    },
    {
     "name": "stdout",
     "output_type": "stream",
     "text": [
      "6.448859453201294\n",
      "F1 score: 1.0\n",
      "Covering: 0.8806622425808474\n",
      "1.0\n",
      "(50, 0.05, 50, 1000, 3)\n",
      "50\n"
     ]
    },
    {
     "name": "stderr",
     "output_type": "stream",
     "text": [
      "100%|██████████| 751/751 [00:06<00:00, 113.60it/s]\n"
     ]
    },
    {
     "name": "stdout",
     "output_type": "stream",
     "text": [
      "6.610668420791626\n",
      "F1 score: 0.888888888888889\n",
      "Covering: 0.8767784950860801\n",
      "0.9\n",
      "(50, 0.05, 50, 1000, 4)\n",
      "50\n"
     ]
    },
    {
     "name": "stderr",
     "output_type": "stream",
     "text": [
      "100%|██████████| 751/751 [00:06<00:00, 114.74it/s]\n"
     ]
    },
    {
     "name": "stdout",
     "output_type": "stream",
     "text": [
      "6.547858476638794\n",
      "F1 score: 1.0\n",
      "Covering: 0.8940539919513603\n",
      "1.0\n",
      "(50, 0.05, 50, 1000, 6)\n",
      "50\n"
     ]
    },
    {
     "name": "stderr",
     "output_type": "stream",
     "text": [
      "100%|██████████| 751/751 [00:06<00:00, 118.72it/s]\n"
     ]
    },
    {
     "name": "stdout",
     "output_type": "stream",
     "text": [
      "6.326967716217041\n",
      "F1 score: 1.0\n",
      "Covering: 0.9192108636461951\n",
      "1.0\n",
      "[200, 400, 600]\n",
      "(50, 0.05, 50, 1000, 1)\n",
      "50\n"
     ]
    },
    {
     "name": "stderr",
     "output_type": "stream",
     "text": [
      "100%|██████████| 751/751 [00:06<00:00, 116.05it/s]\n"
     ]
    },
    {
     "name": "stdout",
     "output_type": "stream",
     "text": [
      "6.4741504192352295\n",
      "F1 score: 0.5\n",
      "Covering: 0.850718399247811\n",
      "0.5\n",
      "(50, 0.05, 50, 1000, 2)\n",
      "50\n"
     ]
    },
    {
     "name": "stderr",
     "output_type": "stream",
     "text": [
      "100%|██████████| 751/751 [00:06<00:00, 121.52it/s]\n"
     ]
    },
    {
     "name": "stdout",
     "output_type": "stream",
     "text": [
      "6.180282354354858\n",
      "F1 score: 0.75\n",
      "Covering: 0.8720450351356424\n",
      "0.75\n",
      "(50, 0.05, 50, 1000, 3)\n",
      "50\n"
     ]
    },
    {
     "name": "stderr",
     "output_type": "stream",
     "text": [
      "100%|██████████| 751/751 [00:06<00:00, 116.59it/s]\n"
     ]
    },
    {
     "name": "stdout",
     "output_type": "stream",
     "text": [
      "6.441631078720093\n",
      "F1 score: 1.0\n",
      "Covering: 0.8852094346853788\n",
      "1.0\n",
      "(50, 0.05, 50, 1000, 4)\n",
      "50\n"
     ]
    },
    {
     "name": "stderr",
     "output_type": "stream",
     "text": [
      "100%|██████████| 751/751 [00:06<00:00, 116.24it/s]\n"
     ]
    },
    {
     "name": "stdout",
     "output_type": "stream",
     "text": [
      "6.4609410762786865\n",
      "F1 score: 1.0\n",
      "Covering: 0.8895717232879649\n",
      "1.0\n",
      "(50, 0.05, 50, 1000, 6)\n",
      "50\n"
     ]
    },
    {
     "name": "stderr",
     "output_type": "stream",
     "text": [
      "100%|██████████| 751/751 [00:06<00:00, 110.54it/s]\n"
     ]
    },
    {
     "name": "stdout",
     "output_type": "stream",
     "text": [
      "6.793697357177734\n",
      "F1 score: 1.0\n",
      "Covering: 0.9121008398094237\n",
      "1.0\n",
      "[200, 400, 600]\n",
      "(50, 0.05, 50, 1000, 1)\n",
      "50\n"
     ]
    },
    {
     "name": "stderr",
     "output_type": "stream",
     "text": [
      "100%|██████████| 751/751 [00:06<00:00, 123.37it/s]\n"
     ]
    },
    {
     "name": "stdout",
     "output_type": "stream",
     "text": [
      "6.090625047683716\n",
      "F1 score: 0.5714285714285715\n",
      "Covering: 0.6875054187831108\n",
      "0.5833333333333333\n",
      "(50, 0.05, 50, 1000, 2)\n",
      "50\n"
     ]
    },
    {
     "name": "stderr",
     "output_type": "stream",
     "text": [
      "100%|██████████| 751/751 [00:06<00:00, 122.26it/s]\n"
     ]
    },
    {
     "name": "stdout",
     "output_type": "stream",
     "text": [
      "6.14368200302124\n",
      "F1 score: 0.75\n",
      "Covering: 0.8769234436965067\n",
      "0.75\n",
      "(50, 0.05, 50, 1000, 3)\n",
      "50\n"
     ]
    },
    {
     "name": "stderr",
     "output_type": "stream",
     "text": [
      "100%|██████████| 751/751 [00:06<00:00, 123.74it/s]\n"
     ]
    },
    {
     "name": "stdout",
     "output_type": "stream",
     "text": [
      "6.070588827133179\n",
      "F1 score: 0.75\n",
      "Covering: 0.887908274745413\n",
      "0.75\n",
      "(50, 0.05, 50, 1000, 4)\n",
      "50\n"
     ]
    },
    {
     "name": "stderr",
     "output_type": "stream",
     "text": [
      "100%|██████████| 751/751 [00:06<00:00, 115.73it/s]\n"
     ]
    },
    {
     "name": "stdout",
     "output_type": "stream",
     "text": [
      "6.4893083572387695\n",
      "F1 score: 0.75\n",
      "Covering: 0.8901308893944023\n",
      "0.75\n",
      "(50, 0.05, 50, 1000, 6)\n",
      "50\n"
     ]
    },
    {
     "name": "stderr",
     "output_type": "stream",
     "text": [
      "100%|██████████| 751/751 [00:06<00:00, 113.84it/s]\n"
     ]
    },
    {
     "name": "stdout",
     "output_type": "stream",
     "text": [
      "6.596935987472534\n",
      "F1 score: 1.0\n",
      "Covering: 0.914839249080613\n",
      "1.0\n",
      "[200, 400, 600, 800]\n",
      "(50, 0.05, 50, 1000, 1)\n",
      "50\n"
     ]
    },
    {
     "name": "stderr",
     "output_type": "stream",
     "text": [
      "100%|██████████| 951/951 [00:07<00:00, 119.18it/s]\n"
     ]
    },
    {
     "name": "stdout",
     "output_type": "stream",
     "text": [
      "7.9814019203186035\n",
      "F1 score: 0.7499999999999999\n",
      "Covering: 0.5574576338928856\n",
      "0.8\n",
      "(50, 0.05, 50, 1000, 2)\n",
      "50\n"
     ]
    },
    {
     "name": "stderr",
     "output_type": "stream",
     "text": [
      "100%|██████████| 951/951 [00:08<00:00, 109.09it/s]\n"
     ]
    },
    {
     "name": "stdout",
     "output_type": "stream",
     "text": [
      "8.717608451843262\n",
      "F1 score: 0.6\n",
      "Covering: 0.7169168204209911\n",
      "0.6\n",
      "(50, 0.05, 50, 1000, 3)\n",
      "50\n"
     ]
    },
    {
     "name": "stderr",
     "output_type": "stream",
     "text": [
      "100%|██████████| 951/951 [00:07<00:00, 119.24it/s]\n"
     ]
    },
    {
     "name": "stdout",
     "output_type": "stream",
     "text": [
      "7.975218296051025\n",
      "F1 score: 0.6666666666666665\n",
      "Covering: 0.7219162757709794\n",
      "0.675\n",
      "(50, 0.05, 50, 1000, 4)\n",
      "50\n"
     ]
    },
    {
     "name": "stderr",
     "output_type": "stream",
     "text": [
      "100%|██████████| 951/951 [00:08<00:00, 115.64it/s]\n"
     ]
    },
    {
     "name": "stdout",
     "output_type": "stream",
     "text": [
      "8.230088472366333\n",
      "F1 score: 0.888888888888889\n",
      "Covering: 0.7236735619152913\n",
      "0.9\n",
      "(50, 0.05, 50, 1000, 6)\n",
      "50\n"
     ]
    },
    {
     "name": "stderr",
     "output_type": "stream",
     "text": [
      "100%|██████████| 951/951 [00:08<00:00, 114.29it/s]\n"
     ]
    },
    {
     "name": "stdout",
     "output_type": "stream",
     "text": [
      "8.322527170181274\n",
      "F1 score: 0.888888888888889\n",
      "Covering: 0.7293506121720591\n",
      "0.9\n",
      "[200, 400, 600, 800]\n",
      "(50, 0.05, 50, 1000, 1)\n",
      "50\n"
     ]
    },
    {
     "name": "stderr",
     "output_type": "stream",
     "text": [
      "100%|██████████| 951/951 [00:08<00:00, 118.37it/s]\n"
     ]
    },
    {
     "name": "stdout",
     "output_type": "stream",
     "text": [
      "8.035648584365845\n",
      "F1 score: 0.6666666666666665\n",
      "Covering: 0.7171958922657792\n",
      "0.675\n",
      "(50, 0.05, 50, 1000, 2)\n",
      "50\n"
     ]
    },
    {
     "name": "stderr",
     "output_type": "stream",
     "text": [
      "100%|██████████| 951/951 [00:07<00:00, 123.27it/s]\n"
     ]
    },
    {
     "name": "stdout",
     "output_type": "stream",
     "text": [
      "7.714929103851318\n",
      "F1 score: 0.6\n",
      "Covering: 0.8670661358039013\n",
      "0.6\n",
      "(50, 0.05, 50, 1000, 3)\n",
      "50\n"
     ]
    },
    {
     "name": "stderr",
     "output_type": "stream",
     "text": [
      "100%|██████████| 951/951 [00:08<00:00, 115.47it/s]\n"
     ]
    },
    {
     "name": "stdout",
     "output_type": "stream",
     "text": [
      "8.236058473587036\n",
      "F1 score: 0.8000000000000002\n",
      "Covering: 0.8826296529959127\n",
      "0.8\n",
      "(50, 0.05, 50, 1000, 4)\n",
      "50\n"
     ]
    },
    {
     "name": "stderr",
     "output_type": "stream",
     "text": [
      "100%|██████████| 951/951 [00:08<00:00, 112.81it/s]\n"
     ]
    },
    {
     "name": "stdout",
     "output_type": "stream",
     "text": [
      "8.430164098739624\n",
      "F1 score: 1.0\n",
      "Covering: 0.8914181417498702\n",
      "1.0\n",
      "(50, 0.05, 50, 1000, 6)\n",
      "50\n"
     ]
    },
    {
     "name": "stderr",
     "output_type": "stream",
     "text": [
      "100%|██████████| 951/951 [00:08<00:00, 115.55it/s]\n"
     ]
    },
    {
     "name": "stdout",
     "output_type": "stream",
     "text": [
      "8.236275672912598\n",
      "F1 score: 1.0\n",
      "Covering: 0.9022018893349826\n",
      "1.0\n",
      "[200, 400, 600, 800]\n",
      "(50, 0.05, 50, 1000, 1)\n",
      "50\n"
     ]
    },
    {
     "name": "stderr",
     "output_type": "stream",
     "text": [
      "100%|██████████| 951/951 [00:08<00:00, 113.90it/s]\n"
     ]
    },
    {
     "name": "stdout",
     "output_type": "stream",
     "text": [
      "8.351220846176147\n",
      "F1 score: 0.6666666666666665\n",
      "Covering: 0.7143637487261848\n",
      "0.675\n",
      "(50, 0.05, 50, 1000, 2)\n",
      "50\n"
     ]
    },
    {
     "name": "stderr",
     "output_type": "stream",
     "text": [
      "100%|██████████| 951/951 [00:07<00:00, 122.30it/s]\n"
     ]
    },
    {
     "name": "stdout",
     "output_type": "stream",
     "text": [
      "7.775902271270752\n",
      "F1 score: 0.8000000000000002\n",
      "Covering: 0.8719219742316302\n",
      "0.8\n",
      "(50, 0.05, 50, 1000, 3)\n",
      "50\n"
     ]
    },
    {
     "name": "stderr",
     "output_type": "stream",
     "text": [
      "100%|██████████| 951/951 [00:08<00:00, 117.63it/s]\n"
     ]
    },
    {
     "name": "stdout",
     "output_type": "stream",
     "text": [
      "8.090493440628052\n",
      "F1 score: 0.9090909090909091\n",
      "Covering: 0.8732471971761434\n",
      "0.9166666666666667\n",
      "(50, 0.05, 50, 1000, 4)\n",
      "50\n"
     ]
    },
    {
     "name": "stderr",
     "output_type": "stream",
     "text": [
      "100%|██████████| 951/951 [00:08<00:00, 116.96it/s]\n"
     ]
    },
    {
     "name": "stdout",
     "output_type": "stream",
     "text": [
      "8.131020069122314\n",
      "F1 score: 1.0\n",
      "Covering: 0.8895615843926294\n",
      "1.0\n",
      "(50, 0.05, 50, 1000, 6)\n",
      "50\n"
     ]
    },
    {
     "name": "stderr",
     "output_type": "stream",
     "text": [
      "100%|██████████| 951/951 [00:08<00:00, 117.63it/s]\n"
     ]
    },
    {
     "name": "stdout",
     "output_type": "stream",
     "text": [
      "8.08439040184021\n",
      "F1 score: 1.0\n",
      "Covering: 0.9073425350816656\n",
      "1.0\n",
      "[200, 400, 600, 800]\n",
      "(50, 0.05, 50, 1000, 1)\n",
      "50\n"
     ]
    },
    {
     "name": "stderr",
     "output_type": "stream",
     "text": [
      "100%|██████████| 951/951 [00:07<00:00, 121.34it/s]\n"
     ]
    },
    {
     "name": "stdout",
     "output_type": "stream",
     "text": [
      "7.840677261352539\n",
      "F1 score: 0.888888888888889\n",
      "Covering: 0.716652634089867\n",
      "0.9\n",
      "(50, 0.05, 50, 1000, 2)\n",
      "50\n"
     ]
    },
    {
     "name": "stderr",
     "output_type": "stream",
     "text": [
      "100%|██████████| 951/951 [00:08<00:00, 114.46it/s]\n"
     ]
    },
    {
     "name": "stdout",
     "output_type": "stream",
     "text": [
      "8.311967372894287\n",
      "F1 score: 0.8000000000000002\n",
      "Covering: 0.8802070005212113\n",
      "0.8\n",
      "(50, 0.05, 50, 1000, 3)\n",
      "50\n"
     ]
    },
    {
     "name": "stderr",
     "output_type": "stream",
     "text": [
      "100%|██████████| 951/951 [00:07<00:00, 119.70it/s]\n"
     ]
    },
    {
     "name": "stdout",
     "output_type": "stream",
     "text": [
      "7.951120615005493\n",
      "F1 score: 0.8000000000000002\n",
      "Covering: 0.887164133627544\n",
      "0.8\n",
      "(50, 0.05, 50, 1000, 4)\n",
      "50\n"
     ]
    },
    {
     "name": "stderr",
     "output_type": "stream",
     "text": [
      "100%|██████████| 951/951 [00:08<00:00, 116.08it/s]\n"
     ]
    },
    {
     "name": "stdout",
     "output_type": "stream",
     "text": [
      "8.198854446411133\n",
      "F1 score: 1.0\n",
      "Covering: 0.8960808774890625\n",
      "1.0\n",
      "(50, 0.05, 50, 1000, 6)\n",
      "50\n"
     ]
    },
    {
     "name": "stderr",
     "output_type": "stream",
     "text": [
      "100%|██████████| 951/951 [00:08<00:00, 110.30it/s]\n"
     ]
    },
    {
     "name": "stdout",
     "output_type": "stream",
     "text": [
      "8.622253656387329\n",
      "F1 score: 1.0\n",
      "Covering: 0.9178076834598573\n",
      "1.0\n",
      "[200, 400, 600, 800]\n",
      "(50, 0.05, 50, 1000, 1)\n",
      "50\n"
     ]
    },
    {
     "name": "stderr",
     "output_type": "stream",
     "text": [
      "100%|██████████| 951/951 [00:07<00:00, 125.19it/s]\n"
     ]
    },
    {
     "name": "stdout",
     "output_type": "stream",
     "text": [
      "7.598794221878052\n",
      "F1 score: 1.0\n",
      "Covering: 0.873391795452064\n",
      "1.0\n",
      "(50, 0.05, 50, 1000, 2)\n",
      "50\n"
     ]
    },
    {
     "name": "stderr",
     "output_type": "stream",
     "text": [
      "100%|██████████| 951/951 [00:07<00:00, 122.13it/s]\n"
     ]
    },
    {
     "name": "stdout",
     "output_type": "stream",
     "text": [
      "7.788700342178345\n",
      "F1 score: 1.0\n",
      "Covering: 0.8945056661739559\n",
      "1.0\n",
      "(50, 0.05, 50, 1000, 3)\n",
      "50\n"
     ]
    },
    {
     "name": "stderr",
     "output_type": "stream",
     "text": [
      "100%|██████████| 951/951 [00:08<00:00, 117.63it/s]\n"
     ]
    },
    {
     "name": "stdout",
     "output_type": "stream",
     "text": [
      "8.100306987762451\n",
      "F1 score: 1.0\n",
      "Covering: 0.9034493462843047\n",
      "1.0\n",
      "(50, 0.05, 50, 1000, 4)\n",
      "50\n"
     ]
    },
    {
     "name": "stderr",
     "output_type": "stream",
     "text": [
      "100%|██████████| 951/951 [00:08<00:00, 115.91it/s]\n"
     ]
    },
    {
     "name": "stdout",
     "output_type": "stream",
     "text": [
      "8.204368591308594\n",
      "F1 score: 1.0\n",
      "Covering: 0.9089175641046217\n",
      "1.0\n",
      "(50, 0.05, 50, 1000, 6)\n",
      "50\n"
     ]
    },
    {
     "name": "stderr",
     "output_type": "stream",
     "text": [
      "100%|██████████| 951/951 [00:08<00:00, 117.19it/s]"
     ]
    },
    {
     "name": "stdout",
     "output_type": "stream",
     "text": [
      "8.115678310394287\n",
      "F1 score: 0.7142857142857143\n",
      "Covering: 0.8645718432510886\n",
      "0.7777777777777778\n"
     ]
    },
    {
     "name": "stderr",
     "output_type": "stream",
     "text": [
      "\n"
     ]
    }
   ],
   "source": [
    "WindowLength = [50]#,200]\n",
    "Significance = [0.05]#,0.1,0.2]\n",
    "Lookback = [50]#,0.8,0.5]\n",
    "MonteCarloSample = [1000] #[200,1000,5000]\n",
    "WassersteinOrder = [1,2,3,4,6]#[1,2,4]\n",
    "\n",
    "METRICS_P = {}\n",
    "\n",
    "for rs in data.keys():\n",
    "    df = np.array(data[rs]['data']).astype(np.float32)\n",
    "    GroundTruth = data[rs]['target']\n",
    "    METRICS_P[rs] = {}\n",
    "\n",
    "    print(GroundTruth)\n",
    "\n",
    "    for combination in product(WindowLength,Significance,Lookback,MonteCarloSample,WassersteinOrder):\n",
    "        print(combination)\n",
    "        k,significance, lookack,L,p = combination\n",
    "        print(k)\n",
    "        METRICS_P[rs][p] = {}\n",
    "        detector = SWDCP(data=df,window_length=k,max_history=lookack,significance=significance)\n",
    "        start = time.time()\n",
    "        detector.process_dataloader(p=p,n_theta=L,explanations=False,seed=2025, verbose=False)\n",
    "        end = time.time()\n",
    "        print(end-start)\n",
    "        f1,cov, auc_score = detector.evaluate(GroundTruth,20)\n",
    "        METRICS_P[rs][p]['F1'] = f1\n",
    "        METRICS_P[rs][p]['Covering'] = cov\n",
    "        METRICS_P[rs][p]['AUC'] = auc_score\n",
    "        METRICS_P[rs][p]['cps'] = detector.change_points\n",
    "        METRICS_P[rs][p]['RunTime'] = end-start"
   ]
  },
  {
   "cell_type": "code",
   "execution_count": 12,
   "metadata": {},
   "outputs": [
    {
     "data": {
      "text/plain": [
       "<Axes: >"
      ]
     },
     "execution_count": 12,
     "metadata": {},
     "output_type": "execute_result"
    },
    {
     "data": {
      "image/png": "[encoded data removed]",
      "text/plain": [
       "<Figure size 640x480 with 2 Axes>"
      ]
     },
     "metadata": {},
     "output_type": "display_data"
    }
   ],
   "source": [
    "Plot_data_PC = {k: [] for k in WassersteinOrder}\n",
    "Plot_data_PAUC = {k: [] for k in WassersteinOrder}\n",
    "\n",
    "for seed, val in METRICS_P.items():\n",
    "    for k, res in val.items():\n",
    "        Plot_data_PC[k].append(res['Covering'])\n",
    "        Plot_data_PAUC[k].append(res['AUC'])\n",
    "\n",
    "fig, ax = plt.subplots(1,2)\n",
    "sns.boxplot(Plot_data_PAUC,ax=ax[0])\n",
    "sns.boxplot(Plot_data_PC,ax=ax[1])"
   ]
  },
  {
   "cell_type": "code",
   "execution_count": 13,
   "metadata": {},
   "outputs": [
    {
     "name": "stdout",
     "output_type": "stream",
     "text": [
      "[200, 400]\n",
      "(50, 0.01, 50, 1000, 4)\n",
      "50\n"
     ]
    },
    {
     "name": "stderr",
     "output_type": "stream",
     "text": [
      "100%|██████████| 551/551 [00:04<00:00, 114.50it/s]\n"
     ]
    },
    {
     "name": "stdout",
     "output_type": "stream",
     "text": [
      "4.813325881958008\n",
      "F1 score: 0.8\n",
      "Covering: 0.6284688995215311\n",
      "0.8333333333333333\n",
      "(50, 0.05, 50, 1000, 4)\n",
      "50\n"
     ]
    },
    {
     "name": "stderr",
     "output_type": "stream",
     "text": [
      "100%|██████████| 551/551 [00:04<00:00, 111.13it/s]\n"
     ]
    },
    {
     "name": "stdout",
     "output_type": "stream",
     "text": [
      "4.958327293395996\n",
      "F1 score: 1.0\n",
      "Covering: 0.884492389331099\n",
      "1.0\n",
      "(50, 0.1, 50, 1000, 4)\n",
      "50\n"
     ]
    },
    {
     "name": "stderr",
     "output_type": "stream",
     "text": [
      "100%|██████████| 551/551 [00:04<00:00, 110.47it/s]\n"
     ]
    },
    {
     "name": "stdout",
     "output_type": "stream",
     "text": [
      "4.987817049026489\n",
      "F1 score: 1.0\n",
      "Covering: 0.9082319061073679\n",
      "1.0\n",
      "(50, 0.2, 50, 1000, 4)\n",
      "50\n"
     ]
    },
    {
     "name": "stderr",
     "output_type": "stream",
     "text": [
      "100%|██████████| 551/551 [00:04<00:00, 110.89it/s]\n"
     ]
    },
    {
     "name": "stdout",
     "output_type": "stream",
     "text": [
      "4.968735933303833\n",
      "F1 score: 0.35294117647058826\n",
      "Covering: 0.4716264090177134\n",
      "0.6071428571428571\n",
      "[200, 400]\n",
      "(50, 0.01, 50, 1000, 4)\n",
      "50\n"
     ]
    },
    {
     "name": "stderr",
     "output_type": "stream",
     "text": [
      "100%|██████████| 551/551 [00:04<00:00, 116.59it/s]\n"
     ]
    },
    {
     "name": "stdout",
     "output_type": "stream",
     "text": [
      "4.726056098937988\n",
      "F1 score: 0.4\n",
      "Covering: 0.6250004766671433\n",
      "0.4166666666666667\n",
      "(50, 0.05, 50, 1000, 4)\n",
      "50\n"
     ]
    },
    {
     "name": "stderr",
     "output_type": "stream",
     "text": [
      "100%|██████████| 551/551 [00:04<00:00, 112.93it/s]\n"
     ]
    },
    {
     "name": "stdout",
     "output_type": "stream",
     "text": [
      "4.894707679748535\n",
      "F1 score: 0.8\n",
      "Covering: 0.6374043592066848\n",
      "0.8333333333333333\n",
      "(50, 0.1, 50, 1000, 4)\n",
      "50\n"
     ]
    },
    {
     "name": "stderr",
     "output_type": "stream",
     "text": [
      "100%|██████████| 551/551 [00:04<00:00, 112.53it/s]\n"
     ]
    },
    {
     "name": "stdout",
     "output_type": "stream",
     "text": [
      "4.9206743240356445\n",
      "F1 score: 1.0\n",
      "Covering: 0.9053391053391052\n",
      "1.0\n",
      "(50, 0.2, 50, 1000, 4)\n",
      "50\n"
     ]
    },
    {
     "name": "stderr",
     "output_type": "stream",
     "text": [
      "100%|██████████| 551/551 [00:04<00:00, 116.69it/s]\n"
     ]
    },
    {
     "name": "stdout",
     "output_type": "stream",
     "text": [
      "4.724619626998901\n",
      "F1 score: 0.2608695652173913\n",
      "Covering: 0.53\n",
      "0.575\n",
      "[200, 400]\n",
      "(50, 0.01, 50, 1000, 4)\n",
      "50\n"
     ]
    },
    {
     "name": "stderr",
     "output_type": "stream",
     "text": [
      "100%|██████████| 551/551 [00:04<00:00, 120.68it/s]\n"
     ]
    },
    {
     "name": "stdout",
     "output_type": "stream",
     "text": [
      "4.565777778625488\n",
      "F1 score: 0.6666666666666666\n",
      "Covering: 0.8786793445164147\n",
      "0.6666666666666666\n",
      "(50, 0.05, 50, 1000, 4)\n",
      "50\n"
     ]
    },
    {
     "name": "stderr",
     "output_type": "stream",
     "text": [
      "100%|██████████| 551/551 [00:04<00:00, 113.19it/s]\n"
     ]
    },
    {
     "name": "stdout",
     "output_type": "stream",
     "text": [
      "4.8739683628082275\n",
      "F1 score: 1.0\n",
      "Covering: 0.9203417781321049\n",
      "1.0\n",
      "(50, 0.1, 50, 1000, 4)\n",
      "50\n"
     ]
    },
    {
     "name": "stderr",
     "output_type": "stream",
     "text": [
      "100%|██████████| 551/551 [00:04<00:00, 116.65it/s]\n"
     ]
    },
    {
     "name": "stdout",
     "output_type": "stream",
     "text": [
      "4.725557565689087\n",
      "F1 score: 1.0\n",
      "Covering: 0.945069009937431\n",
      "1.0\n",
      "(50, 0.2, 50, 1000, 4)\n",
      "50\n"
     ]
    },
    {
     "name": "stderr",
     "output_type": "stream",
     "text": [
      "100%|██████████| 551/551 [00:04<00:00, 112.95it/s]\n"
     ]
    },
    {
     "name": "stdout",
     "output_type": "stream",
     "text": [
      "4.878208160400391\n",
      "F1 score: 0.5\n",
      "Covering: 0.705\n",
      "0.6666666666666666\n",
      "[200, 400]\n",
      "(50, 0.01, 50, 1000, 4)\n",
      "50\n"
     ]
    },
    {
     "name": "stderr",
     "output_type": "stream",
     "text": [
      "100%|██████████| 551/551 [00:04<00:00, 117.91it/s]\n"
     ]
    },
    {
     "name": "stdout",
     "output_type": "stream",
     "text": [
      "4.674792766571045\n",
      "F1 score: 0.6666666666666666\n",
      "Covering: 0.8670925744727115\n",
      "0.6666666666666666\n",
      "(50, 0.05, 50, 1000, 4)\n",
      "50\n"
     ]
    },
    {
     "name": "stderr",
     "output_type": "stream",
     "text": [
      "100%|██████████| 551/551 [00:04<00:00, 117.12it/s]\n"
     ]
    },
    {
     "name": "stdout",
     "output_type": "stream",
     "text": [
      "4.705511093139648\n",
      "F1 score: 1.0\n",
      "Covering: 0.9112555322618217\n",
      "1.0\n",
      "(50, 0.1, 50, 1000, 4)\n",
      "50\n"
     ]
    },
    {
     "name": "stderr",
     "output_type": "stream",
     "text": [
      "100%|██████████| 551/551 [00:04<00:00, 117.16it/s]\n"
     ]
    },
    {
     "name": "stdout",
     "output_type": "stream",
     "text": [
      "4.702887773513794\n",
      "F1 score: 1.0\n",
      "Covering: 0.9295357891584306\n",
      "1.0\n",
      "(50, 0.2, 50, 1000, 4)\n",
      "50\n"
     ]
    },
    {
     "name": "stderr",
     "output_type": "stream",
     "text": [
      "100%|██████████| 551/551 [00:05<00:00, 109.81it/s]\n"
     ]
    },
    {
     "name": "stdout",
     "output_type": "stream",
     "text": [
      "5.02431058883667\n",
      "F1 score: 0.3157894736842105\n",
      "Covering: 0.58\n",
      "0.59375\n",
      "[200, 400]\n",
      "(50, 0.01, 50, 1000, 4)\n",
      "50\n"
     ]
    },
    {
     "name": "stderr",
     "output_type": "stream",
     "text": [
      "100%|██████████| 551/551 [00:04<00:00, 114.14it/s]\n"
     ]
    },
    {
     "name": "stdout",
     "output_type": "stream",
     "text": [
      "4.831195592880249\n",
      "F1 score: 0.6666666666666666\n",
      "Covering: 0.8905888823081479\n",
      "0.6666666666666666\n",
      "(50, 0.05, 50, 1000, 4)\n",
      "50\n"
     ]
    },
    {
     "name": "stderr",
     "output_type": "stream",
     "text": [
      "100%|██████████| 551/551 [00:04<00:00, 119.45it/s]\n"
     ]
    },
    {
     "name": "stdout",
     "output_type": "stream",
     "text": [
      "4.61390233039856\n",
      "F1 score: 1.0\n",
      "Covering: 0.9326685325628987\n",
      "1.0\n",
      "(50, 0.1, 50, 1000, 4)\n",
      "50\n"
     ]
    },
    {
     "name": "stderr",
     "output_type": "stream",
     "text": [
      "100%|██████████| 551/551 [00:04<00:00, 121.36it/s]\n"
     ]
    },
    {
     "name": "stdout",
     "output_type": "stream",
     "text": [
      "4.541016101837158\n",
      "F1 score: 1.0\n",
      "Covering: 0.9545257654966393\n",
      "1.0\n",
      "(50, 0.2, 50, 1000, 4)\n",
      "50\n"
     ]
    },
    {
     "name": "stderr",
     "output_type": "stream",
     "text": [
      "100%|██████████| 551/551 [00:04<00:00, 120.79it/s]\n"
     ]
    },
    {
     "name": "stdout",
     "output_type": "stream",
     "text": [
      "4.562784671783447\n",
      "F1 score: 0.4\n",
      "Covering: 0.6651307189542484\n",
      "0.625\n",
      "[200, 400, 600]\n",
      "(50, 0.01, 50, 1000, 4)\n",
      "50\n"
     ]
    },
    {
     "name": "stderr",
     "output_type": "stream",
     "text": [
      "100%|██████████| 751/751 [00:06<00:00, 121.43it/s]\n"
     ]
    },
    {
     "name": "stdout",
     "output_type": "stream",
     "text": [
      "6.18743634223938\n",
      "F1 score: 0.5714285714285715\n",
      "Covering: 0.6776345413766055\n",
      "0.5833333333333333\n",
      "(50, 0.05, 50, 1000, 4)\n",
      "50\n"
     ]
    },
    {
     "name": "stderr",
     "output_type": "stream",
     "text": [
      "100%|██████████| 751/751 [00:06<00:00, 117.83it/s]\n"
     ]
    },
    {
     "name": "stdout",
     "output_type": "stream",
     "text": [
      "6.375590562820435\n",
      "F1 score: 0.75\n",
      "Covering: 0.8810739675016928\n",
      "0.75\n",
      "(50, 0.1, 50, 1000, 4)\n",
      "50\n"
     ]
    },
    {
     "name": "stderr",
     "output_type": "stream",
     "text": [
      "100%|██████████| 751/751 [00:06<00:00, 116.58it/s]\n"
     ]
    },
    {
     "name": "stdout",
     "output_type": "stream",
     "text": [
      "6.442004919052124\n",
      "F1 score: 0.75\n",
      "Covering: 0.9032193929821566\n",
      "0.75\n",
      "(50, 0.2, 50, 1000, 4)\n",
      "50\n"
     ]
    },
    {
     "name": "stderr",
     "output_type": "stream",
     "text": [
      "100%|██████████| 751/751 [00:06<00:00, 119.06it/s]\n"
     ]
    },
    {
     "name": "stdout",
     "output_type": "stream",
     "text": [
      "6.30893349647522\n",
      "F1 score: 0.34782608695652173\n",
      "Covering: 0.48833333333333334\n",
      "0.6052631578947368\n",
      "[200, 400, 600]\n",
      "(50, 0.01, 50, 1000, 4)\n",
      "50\n"
     ]
    },
    {
     "name": "stderr",
     "output_type": "stream",
     "text": [
      "100%|██████████| 751/751 [00:06<00:00, 120.43it/s]\n"
     ]
    },
    {
     "name": "stdout",
     "output_type": "stream",
     "text": [
      "6.238128662109375\n",
      "F1 score: 0.5714285714285715\n",
      "Covering: 0.6683892345582992\n",
      "0.5833333333333333\n",
      "(50, 0.05, 50, 1000, 4)\n",
      "50\n"
     ]
    },
    {
     "name": "stderr",
     "output_type": "stream",
     "text": [
      "100%|██████████| 751/751 [00:06<00:00, 119.84it/s]\n"
     ]
    },
    {
     "name": "stdout",
     "output_type": "stream",
     "text": [
      "6.266663312911987\n",
      "F1 score: 1.0\n",
      "Covering: 0.9004041707032482\n",
      "1.0\n",
      "(50, 0.1, 50, 1000, 4)\n",
      "50\n"
     ]
    },
    {
     "name": "stderr",
     "output_type": "stream",
     "text": [
      "100%|██████████| 751/751 [00:06<00:00, 113.32it/s]\n"
     ]
    },
    {
     "name": "stdout",
     "output_type": "stream",
     "text": [
      "6.62739372253418\n",
      "F1 score: 1.0\n",
      "Covering: 0.9278107527753019\n",
      "1.0\n",
      "(50, 0.2, 50, 1000, 4)\n",
      "50\n"
     ]
    },
    {
     "name": "stderr",
     "output_type": "stream",
     "text": [
      "100%|██████████| 751/751 [00:06<00:00, 119.71it/s]\n"
     ]
    },
    {
     "name": "stdout",
     "output_type": "stream",
     "text": [
      "6.276397228240967\n",
      "F1 score: 0.32\n",
      "Covering: 0.6477032019704433\n",
      "0.5952380952380952\n",
      "[200, 400, 600]\n",
      "(50, 0.01, 50, 1000, 4)\n",
      "50\n"
     ]
    },
    {
     "name": "stderr",
     "output_type": "stream",
     "text": [
      "100%|██████████| 751/751 [00:06<00:00, 119.23it/s]\n"
     ]
    },
    {
     "name": "stdout",
     "output_type": "stream",
     "text": [
      "6.301880836486816\n",
      "F1 score: 0.8571428571428571\n",
      "Covering: 0.6780712678333443\n",
      "0.875\n",
      "(50, 0.05, 50, 1000, 4)\n",
      "50\n"
     ]
    },
    {
     "name": "stderr",
     "output_type": "stream",
     "text": [
      "100%|██████████| 751/751 [00:06<00:00, 118.37it/s]\n"
     ]
    },
    {
     "name": "stdout",
     "output_type": "stream",
     "text": [
      "6.345479249954224\n",
      "F1 score: 1.0\n",
      "Covering: 0.8940539919513603\n",
      "1.0\n",
      "(50, 0.1, 50, 1000, 4)\n",
      "50\n"
     ]
    },
    {
     "name": "stderr",
     "output_type": "stream",
     "text": [
      "100%|██████████| 751/751 [00:06<00:00, 118.17it/s]\n"
     ]
    },
    {
     "name": "stdout",
     "output_type": "stream",
     "text": [
      "6.357624769210815\n",
      "F1 score: 1.0\n",
      "Covering: 0.9166227670433833\n",
      "1.0\n",
      "(50, 0.2, 50, 1000, 4)\n",
      "50\n"
     ]
    },
    {
     "name": "stderr",
     "output_type": "stream",
     "text": [
      "100%|██████████| 751/751 [00:06<00:00, 122.68it/s]\n"
     ]
    },
    {
     "name": "stdout",
     "output_type": "stream",
     "text": [
      "6.121995687484741\n",
      "F1 score: 0.38095238095238093\n",
      "Covering: 0.6611078199052133\n",
      "0.6176470588235294\n",
      "[200, 400, 600]\n",
      "(50, 0.01, 50, 1000, 4)\n",
      "50\n"
     ]
    },
    {
     "name": "stderr",
     "output_type": "stream",
     "text": [
      "100%|██████████| 751/751 [00:06<00:00, 119.81it/s]\n"
     ]
    },
    {
     "name": "stdout",
     "output_type": "stream",
     "text": [
      "6.269302606582642\n",
      "F1 score: 0.5\n",
      "Covering: 0.6648084973695226\n",
      "0.5\n",
      "(50, 0.05, 50, 1000, 4)\n",
      "50\n"
     ]
    },
    {
     "name": "stderr",
     "output_type": "stream",
     "text": [
      "100%|██████████| 751/751 [00:06<00:00, 119.94it/s]\n"
     ]
    },
    {
     "name": "stdout",
     "output_type": "stream",
     "text": [
      "6.262534856796265\n",
      "F1 score: 1.0\n",
      "Covering: 0.8895717232879649\n",
      "1.0\n",
      "(50, 0.1, 50, 1000, 4)\n",
      "50\n"
     ]
    },
    {
     "name": "stderr",
     "output_type": "stream",
     "text": [
      "100%|██████████| 751/751 [00:06<00:00, 122.05it/s]\n"
     ]
    },
    {
     "name": "stdout",
     "output_type": "stream",
     "text": [
      "6.154191017150879\n",
      "F1 score: 0.888888888888889\n",
      "Covering: 0.8860818052971919\n",
      "0.9\n",
      "(50, 0.2, 50, 1000, 4)\n",
      "50\n"
     ]
    },
    {
     "name": "stderr",
     "output_type": "stream",
     "text": [
      "100%|██████████| 751/751 [00:06<00:00, 117.67it/s]\n"
     ]
    },
    {
     "name": "stdout",
     "output_type": "stream",
     "text": [
      "6.383513450622559\n",
      "F1 score: 0.4\n",
      "Covering: 0.7141868932038835\n",
      "0.625\n",
      "[200, 400, 600]\n",
      "(50, 0.01, 50, 1000, 4)\n",
      "50\n"
     ]
    },
    {
     "name": "stderr",
     "output_type": "stream",
     "text": [
      "100%|██████████| 751/751 [00:06<00:00, 119.18it/s]\n"
     ]
    },
    {
     "name": "stdout",
     "output_type": "stream",
     "text": [
      "6.302232503890991\n",
      "F1 score: 0.5714285714285715\n",
      "Covering: 0.6839207970090004\n",
      "0.5833333333333333\n",
      "(50, 0.05, 50, 1000, 4)\n",
      "50\n"
     ]
    },
    {
     "name": "stderr",
     "output_type": "stream",
     "text": [
      "100%|██████████| 751/751 [00:06<00:00, 120.63it/s]\n"
     ]
    },
    {
     "name": "stdout",
     "output_type": "stream",
     "text": [
      "6.2274181842803955\n",
      "F1 score: 0.75\n",
      "Covering: 0.8901308893944023\n",
      "0.75\n",
      "(50, 0.1, 50, 1000, 4)\n",
      "50\n"
     ]
    },
    {
     "name": "stderr",
     "output_type": "stream",
     "text": [
      "100%|██████████| 751/751 [00:06<00:00, 122.18it/s]\n"
     ]
    },
    {
     "name": "stdout",
     "output_type": "stream",
     "text": [
      "6.148500442504883\n",
      "F1 score: 1.0\n",
      "Covering: 0.9214748677248675\n",
      "1.0\n",
      "(50, 0.2, 50, 1000, 4)\n",
      "50\n"
     ]
    },
    {
     "name": "stderr",
     "output_type": "stream",
     "text": [
      "100%|██████████| 751/751 [00:06<00:00, 120.19it/s]\n"
     ]
    },
    {
     "name": "stdout",
     "output_type": "stream",
     "text": [
      "6.249655485153198\n",
      "F1 score: 0.4444444444444445\n",
      "Covering: 0.6825\n",
      "0.6428571428571428\n",
      "[200, 400, 600, 800]\n",
      "(50, 0.01, 50, 1000, 4)\n",
      "50\n"
     ]
    },
    {
     "name": "stderr",
     "output_type": "stream",
     "text": [
      "100%|██████████| 951/951 [00:08<00:00, 111.65it/s]\n"
     ]
    },
    {
     "name": "stdout",
     "output_type": "stream",
     "text": [
      "8.52186131477356\n",
      "F1 score: 0.7499999999999999\n",
      "Covering: 0.5523134502853614\n",
      "0.8\n",
      "(50, 0.05, 50, 1000, 4)\n",
      "50\n"
     ]
    },
    {
     "name": "stderr",
     "output_type": "stream",
     "text": [
      "100%|██████████| 951/951 [00:07<00:00, 121.80it/s]\n"
     ]
    },
    {
     "name": "stdout",
     "output_type": "stream",
     "text": [
      "7.808747291564941\n",
      "F1 score: 0.888888888888889\n",
      "Covering: 0.7236735619152913\n",
      "0.9\n",
      "(50, 0.1, 50, 1000, 4)\n",
      "50\n"
     ]
    },
    {
     "name": "stderr",
     "output_type": "stream",
     "text": [
      "100%|██████████| 951/951 [00:07<00:00, 119.97it/s]\n"
     ]
    },
    {
     "name": "stdout",
     "output_type": "stream",
     "text": [
      "7.945322275161743\n",
      "F1 score: 1.0\n",
      "Covering: 0.9012924403702063\n",
      "1.0\n",
      "(50, 0.2, 50, 1000, 4)\n",
      "50\n"
     ]
    },
    {
     "name": "stderr",
     "output_type": "stream",
     "text": [
      "100%|██████████| 951/951 [00:08<00:00, 116.99it/s]\n"
     ]
    },
    {
     "name": "stdout",
     "output_type": "stream",
     "text": [
      "8.129862308502197\n",
      "F1 score: 0.45454545454545453\n",
      "Covering: 0.726432793407218\n",
      "0.6470588235294118\n",
      "[200, 400, 600, 800]\n",
      "(50, 0.01, 50, 1000, 4)\n",
      "50\n"
     ]
    },
    {
     "name": "stderr",
     "output_type": "stream",
     "text": [
      "100%|██████████| 951/951 [00:07<00:00, 119.66it/s]\n"
     ]
    },
    {
     "name": "stdout",
     "output_type": "stream",
     "text": [
      "7.948342800140381\n",
      "F1 score: 0.6666666666666665\n",
      "Covering: 0.7217931064620475\n",
      "0.675\n",
      "(50, 0.05, 50, 1000, 4)\n",
      "50\n"
     ]
    },
    {
     "name": "stderr",
     "output_type": "stream",
     "text": [
      "100%|██████████| 951/951 [00:08<00:00, 118.79it/s]\n"
     ]
    },
    {
     "name": "stdout",
     "output_type": "stream",
     "text": [
      "8.007632493972778\n",
      "F1 score: 1.0\n",
      "Covering: 0.8914181417498702\n",
      "1.0\n",
      "(50, 0.1, 50, 1000, 4)\n",
      "50\n"
     ]
    },
    {
     "name": "stderr",
     "output_type": "stream",
     "text": [
      "100%|██████████| 951/951 [00:08<00:00, 117.54it/s]\n"
     ]
    },
    {
     "name": "stdout",
     "output_type": "stream",
     "text": [
      "8.09087061882019\n",
      "F1 score: 1.0\n",
      "Covering: 0.9144752013135312\n",
      "1.0\n",
      "(50, 0.2, 50, 1000, 4)\n",
      "50\n"
     ]
    },
    {
     "name": "stderr",
     "output_type": "stream",
     "text": [
      "100%|██████████| 951/951 [00:08<00:00, 114.99it/s]\n"
     ]
    },
    {
     "name": "stdout",
     "output_type": "stream",
     "text": [
      "8.272430658340454\n",
      "F1 score: 0.4347826086956522\n",
      "Covering: 0.7138232729158319\n",
      "0.6388888888888888\n",
      "[200, 400, 600, 800]\n",
      "(50, 0.01, 50, 1000, 4)\n",
      "50\n"
     ]
    },
    {
     "name": "stderr",
     "output_type": "stream",
     "text": [
      "100%|██████████| 951/951 [00:08<00:00, 118.47it/s]\n"
     ]
    },
    {
     "name": "stdout",
     "output_type": "stream",
     "text": [
      "8.030470848083496\n",
      "F1 score: 0.6666666666666665\n",
      "Covering: 0.7203914494617588\n",
      "0.675\n",
      "(50, 0.05, 50, 1000, 4)\n",
      "50\n"
     ]
    },
    {
     "name": "stderr",
     "output_type": "stream",
     "text": [
      "100%|██████████| 951/951 [00:07<00:00, 119.96it/s]\n"
     ]
    },
    {
     "name": "stdout",
     "output_type": "stream",
     "text": [
      "7.929917097091675\n",
      "F1 score: 1.0\n",
      "Covering: 0.8895615843926294\n",
      "1.0\n",
      "(50, 0.1, 50, 1000, 4)\n",
      "50\n"
     ]
    },
    {
     "name": "stderr",
     "output_type": "stream",
     "text": [
      "100%|██████████| 951/951 [00:08<00:00, 117.26it/s]\n"
     ]
    },
    {
     "name": "stdout",
     "output_type": "stream",
     "text": [
      "8.112245082855225\n",
      "F1 score: 0.9090909090909091\n",
      "Covering: 0.8861349554089695\n",
      "0.9166666666666667\n",
      "(50, 0.2, 50, 1000, 4)\n",
      "50\n"
     ]
    },
    {
     "name": "stderr",
     "output_type": "stream",
     "text": [
      "100%|██████████| 951/951 [00:07<00:00, 120.70it/s]\n"
     ]
    },
    {
     "name": "stdout",
     "output_type": "stream",
     "text": [
      "7.878854513168335\n",
      "F1 score: 0.37037037037037035\n",
      "Covering: 0.6578341232227488\n",
      "0.6136363636363636\n",
      "[200, 400, 600, 800]\n",
      "(50, 0.01, 50, 1000, 4)\n",
      "50\n"
     ]
    },
    {
     "name": "stderr",
     "output_type": "stream",
     "text": [
      "100%|██████████| 951/951 [00:08<00:00, 118.87it/s]\n"
     ]
    },
    {
     "name": "stdout",
     "output_type": "stream",
     "text": [
      "8.002492904663086\n",
      "F1 score: 0.888888888888889\n",
      "Covering: 0.714599176909051\n",
      "0.9\n",
      "(50, 0.05, 50, 1000, 4)\n",
      "50\n"
     ]
    },
    {
     "name": "stderr",
     "output_type": "stream",
     "text": [
      "100%|██████████| 951/951 [00:08<00:00, 108.02it/s]\n"
     ]
    },
    {
     "name": "stdout",
     "output_type": "stream",
     "text": [
      "8.806406736373901\n",
      "F1 score: 1.0\n",
      "Covering: 0.8960808774890625\n",
      "1.0\n",
      "(50, 0.1, 50, 1000, 4)\n",
      "50\n"
     ]
    },
    {
     "name": "stderr",
     "output_type": "stream",
     "text": [
      "100%|██████████| 951/951 [00:08<00:00, 108.47it/s]\n"
     ]
    },
    {
     "name": "stdout",
     "output_type": "stream",
     "text": [
      "8.767568588256836\n",
      "F1 score: 1.0\n",
      "Covering: 0.9232763148800884\n",
      "1.0\n",
      "(50, 0.2, 50, 1000, 4)\n",
      "50\n"
     ]
    },
    {
     "name": "stderr",
     "output_type": "stream",
     "text": [
      "100%|██████████| 951/951 [00:08<00:00, 117.11it/s]\n"
     ]
    },
    {
     "name": "stdout",
     "output_type": "stream",
     "text": [
      "8.121759176254272\n",
      "F1 score: 0.37037037037037035\n",
      "Covering: 0.661\n",
      "0.6136363636363636\n",
      "[200, 400, 600, 800]\n",
      "(50, 0.01, 50, 1000, 4)\n",
      "50\n"
     ]
    },
    {
     "name": "stderr",
     "output_type": "stream",
     "text": [
      "100%|██████████| 951/951 [00:07<00:00, 119.45it/s]\n"
     ]
    },
    {
     "name": "stdout",
     "output_type": "stream",
     "text": [
      "7.963547706604004\n",
      "F1 score: 0.8000000000000002\n",
      "Covering: 0.7162959118792843\n",
      "0.8\n",
      "(50, 0.05, 50, 1000, 4)\n",
      "50\n"
     ]
    },
    {
     "name": "stderr",
     "output_type": "stream",
     "text": [
      "100%|██████████| 951/951 [00:08<00:00, 118.38it/s]\n"
     ]
    },
    {
     "name": "stdout",
     "output_type": "stream",
     "text": [
      "8.046602249145508\n",
      "F1 score: 1.0\n",
      "Covering: 0.9089175641046217\n",
      "1.0\n",
      "(50, 0.1, 50, 1000, 4)\n",
      "50\n"
     ]
    },
    {
     "name": "stderr",
     "output_type": "stream",
     "text": [
      "100%|██████████| 951/951 [00:08<00:00, 114.84it/s]\n"
     ]
    },
    {
     "name": "stdout",
     "output_type": "stream",
     "text": [
      "8.282798051834106\n",
      "F1 score: 0.7142857142857143\n",
      "Covering: 0.8850666612154787\n",
      "0.7777777777777778\n",
      "(50, 0.2, 50, 1000, 4)\n",
      "50\n"
     ]
    },
    {
     "name": "stderr",
     "output_type": "stream",
     "text": [
      "100%|██████████| 951/951 [00:08<00:00, 117.16it/s]"
     ]
    },
    {
     "name": "stdout",
     "output_type": "stream",
     "text": [
      "8.118110179901123\n",
      "F1 score: 0.32258064516129037\n",
      "Covering: 0.656368932038835\n",
      "0.5961538461538461\n"
     ]
    },
    {
     "name": "stderr",
     "output_type": "stream",
     "text": [
      "\n"
     ]
    }
   ],
   "source": [
    "WindowLength = [50]#,200]\n",
    "Significance = [0.01,0.05,0.1,0.2]#,0.1,0.2]\n",
    "Lookback = [50]#,0.8,0.5]\n",
    "MonteCarloSample = [1000] #[200,1000,5000]\n",
    "WassersteinOrder = [4]#[1,2,4]\n",
    "\n",
    "METRICS_Sig = {}\n",
    "\n",
    "for rs in data.keys():\n",
    "    df = np.array(data[rs]['data']).astype(np.float32)\n",
    "    GroundTruth = data[rs]['target']\n",
    "    METRICS_Sig[rs] = {}\n",
    "\n",
    "    print(GroundTruth)\n",
    "\n",
    "    for combination in product(WindowLength,Significance,Lookback,MonteCarloSample,WassersteinOrder):\n",
    "        print(combination)\n",
    "        k,significance, lookack,L,p = combination\n",
    "        print(k)\n",
    "        METRICS_Sig[rs][significance] = {}\n",
    "        detector = SWDCP(data=df,window_length=k,max_history=lookack,significance=significance)\n",
    "        start = time.time()\n",
    "        detector.process_dataloader(p=p,n_theta=L,explanations=False,seed=2025,verbose=False)\n",
    "        end = time.time()\n",
    "        print(end-start)\n",
    "        f1,cov, auc_score = detector.evaluate(GroundTruth,20)\n",
    "        METRICS_Sig[rs][significance]['F1'] = f1\n",
    "        METRICS_Sig[rs][significance]['Covering'] = cov\n",
    "        METRICS_Sig[rs][significance]['AUC'] = auc_score\n",
    "        METRICS_Sig[rs][significance]['cps'] = detector.change_points\n",
    "        METRICS_Sig[rs][significance]['RunTime'] = end-start"
   ]
  },
  {
   "cell_type": "code",
   "execution_count": null,
   "metadata": {},
   "outputs": [],
   "source": []
  },
  {
   "cell_type": "code",
   "execution_count": 14,
   "metadata": {},
   "outputs": [
    {
     "data": {
      "text/plain": [
       "<Axes: >"
      ]
     },
     "execution_count": 14,
     "metadata": {},
     "output_type": "execute_result"
    },
    {
     "data": {
      "image/png": "[encoded data removed]",
      "text/plain": [
       "<Figure size 640x480 with 2 Axes>"
      ]
     },
     "metadata": {},
     "output_type": "display_data"
    }
   ],
   "source": [
    "Plot_data_SigC = {k: [] for k in Significance}\n",
    "Plot_data_SigAUC = {k: [] for k in Significance}\n",
    "\n",
    "for seed, val in METRICS_Sig.items():\n",
    "    for k, res in val.items():\n",
    "        Plot_data_SigC[k].append(res['Covering'])\n",
    "        Plot_data_SigAUC[k].append(res['AUC'])\n",
    "\n",
    "fig, ax = plt.subplots(1,2)\n",
    "sns.boxplot(Plot_data_SigAUC,ax=ax[0])\n",
    "sns.boxplot(Plot_data_SigC,ax=ax[1])"
   ]
  },
  {
   "cell_type": "code",
   "execution_count": 16,
   "metadata": {},
   "outputs": [
    {
     "name": "stderr",
     "output_type": "stream",
     "text": [
      "C:\\Users\\Sven Jacob\\AppData\\Local\\Temp\\ipykernel_29756\\2128631948.py:28: UserWarning: The palette list has more values (5) than needed (4), which may not be intended.\n",
      "  sns.boxplot(Plot_data_SigAUC,ax=ax[0,4],**args)\n",
      "C:\\Users\\Sven Jacob\\AppData\\Local\\Temp\\ipykernel_29756\\2128631948.py:29: UserWarning: The palette list has more values (5) than needed (4), which may not be intended.\n",
      "  sns.boxplot(Plot_data_SigC,ax=ax[1,4],**args)\n"
     ]
    },
    {
     "data": {
      "image/png": "[encoded data removed]",
      "text/plain": [
       "<Figure size 1200x400 with 10 Axes>"
      ]
     },
     "metadata": {},
     "output_type": "display_data"
    }
   ],
   "source": [
    "from matplotlib.pyplot import Rectangle\n",
    "\n",
    "fig, ax = plt.subplots(2,5,figsize=(12,4))\n",
    "\n",
    "#sns.color_palette(\"colorblind\")\n",
    "args ={'palette':sns.color_palette(\"colorblind\",n_colors=5)}\n",
    "   \n",
    "ax[0,0].set_title('Window Length')\n",
    "ax[0,0].set_ylabel('AUC')\n",
    "ax[1,0].set_ylabel('Coveirng Score')\n",
    "sns.boxplot(Plot_data_WAUC,ax=ax[0,0],**args)\n",
    "sns.boxplot(Plot_data_WC,ax=ax[1,0],**args)\n",
    "\n",
    "ax[0,1].set_title('Lookback')\n",
    "sns.boxplot(Plot_data_LookbackAUC,ax=ax[0,1],**args)\n",
    "sns.boxplot(Plot_data_LookbackC,ax=ax[1,1],**args)\n",
    "\n",
    "\n",
    "ax[0,2].set_title('Monte Carlo Samples')\n",
    "sns.boxplot(Plot_data_MCLAUC,ax=ax[0,2],**args)\n",
    "sns.boxplot(Plot_data_MCLC,ax=ax[1,2],**args)\n",
    "\n",
    "ax[0,3].set_title('Wasserstein Order')\n",
    "sns.boxplot(Plot_data_PAUC,ax=ax[0,3],**args)\n",
    "sns.boxplot(Plot_data_PC,ax=ax[1,3],**args)\n",
    "\n",
    "ax[0,4].set_title('Sig Level')\n",
    "sns.boxplot(Plot_data_SigAUC,ax=ax[0,4],**args)\n",
    "sns.boxplot(Plot_data_SigC,ax=ax[1,4],**args)\n",
    "\n",
    "fig.tight_layout()\n",
    "\n",
    "fig.savefig('AblationMNIST.pdf')"
   ]
  },
  {
   "cell_type": "code",
   "execution_count": 3,
   "metadata": {},
   "outputs": [
    {
     "data": {
      "text/plain": [
       "<Axes: >"
      ]
     },
     "execution_count": 3,
     "metadata": {},
     "output_type": "execute_result"
    },
    {
     "data": {
      "image/png": "[encoded data removed]",
      "text/plain": [
       "<Figure size 640x480 with 1 Axes>"
      ]
     },
     "metadata": {},
     "output_type": "display_data"
    }
   ],
   "source": [
    "def make_dynamic_blobs(n_samples, base_center, n_clusters, varying_features, \n",
    "                       cluster_std=1.0, center_offset_range=(-5, 5), random_state=None):\n",
    "    \"\"\"\n",
    "    Generate synthetic data with dynamic centers based on a base center and random offsets.\n",
    "    \n",
    "    Parameters:\n",
    "        n_samples: int\n",
    "            Total number of samples.\n",
    "        base_center: array-like\n",
    "            The center of the first cluster. Shape: (n_features,).\n",
    "        n_clusters: int\n",
    "            Number of clusters to generate.\n",
    "        varying_features: list of int\n",
    "            Indices of features that should vary across clusters.\n",
    "        cluster_std: float\n",
    "            Standard deviation of clusters.\n",
    "        center_offset_range: tuple\n",
    "            Range (min, max) for random uniform offsets added to the base center for varying features.\n",
    "        random_state: int or None\n",
    "            Random seed for reproducibility.\n",
    "    \n",
    "    Returns:\n",
    "        X: ndarray of shape (n_samples, n_features)\n",
    "            The generated samples.\n",
    "        y: ndarray of shape (n_samples,)\n",
    "            The integer labels for cluster membership.\n",
    "    \"\"\"\n",
    "    if random_state is not None:\n",
    "        np.random.seed(random_state)\n",
    "    \n",
    "    n_features = len(base_center)\n",
    "    samples_per_cluster = n_samples // n_clusters\n",
    "    remainder = n_samples % n_clusters\n",
    "\n",
    "    # Generate cluster centers\n",
    "    centers = [np.array(base_center,dtype=float)]\n",
    "    for _ in range(1, n_clusters):\n",
    "        new_center = centers[0].copy()  # Start with the base center\n",
    "        for feature in varying_features:\n",
    "            #tmp = np.random.uniform(*center_offset_range)\n",
    "            #print(\"offset:\",tmp)\n",
    "            #print(new_center[feature]+tmp)\n",
    "            new_center[feature] +=  np.random.uniform(*center_offset_range)\n",
    "            #print(new_center[feature])\n",
    "            \n",
    "        centers.append(new_center)\n",
    "    centers = np.array(centers)\n",
    "   # print(centers)\n",
    "    \n",
    "    # Generate points for each cluster\n",
    "    X = []\n",
    "    y = []\n",
    "    for cluster_idx, center in enumerate(centers):\n",
    "        cluster_size = samples_per_cluster + (1 if cluster_idx < remainder else 0)\n",
    "        cluster_points = np.random.normal(\n",
    "            loc=center,\n",
    "            scale=cluster_std,\n",
    "            size=(cluster_size, n_features)\n",
    "        )\n",
    "        X.append(cluster_points)\n",
    "        y.extend([cluster_idx] * cluster_size)\n",
    "    \n",
    "    X = np.vstack(X)\n",
    "    y = np.array(y)\n",
    "    \n",
    "    return X.astype(np.float32), y, centers\n",
    "\n",
    "# Example Usage\n",
    "base_center = list(np.random.uniform(-4,4,10))#,0,0,0,0]  # Base center for the first cluster\n",
    "n_clusters = 10\n",
    "n_samples = 1500\n",
    "varying_features = [0,1,3]#[0,5,3]#, 1,4,5,6]  # Only the first two features vary\n",
    "X, y, centers = make_dynamic_blobs(\n",
    "    n_samples=n_samples, \n",
    "    base_center=base_center, \n",
    "    n_clusters=n_clusters, \n",
    "    varying_features=varying_features, \n",
    "    cluster_std=0.5, \n",
    "    center_offset_range=(-1, 1), \n",
    "    random_state=2025\n",
    ")\n",
    "\n",
    "fig, ax = plt.subplots()\n",
    "pd.DataFrame(X).plot(ax=ax,legend=True)"
   ]
  },
  {
   "cell_type": "code",
   "execution_count": 6,
   "metadata": {},
   "outputs": [
    {
     "name": "stdout",
     "output_type": "stream",
     "text": [
      "[ 150  300  450  600  750  900 1050 1200 1350]\n",
      "(50, 0.05, 20, 1000, 2)\n",
      "50\n"
     ]
    },
    {
     "name": "stderr",
     "output_type": "stream",
     "text": [
      "100%|██████████| 1451/1451 [00:06<00:00, 231.35it/s]\n"
     ]
    },
    {
     "name": "stdout",
     "output_type": "stream",
     "text": [
      "7.653516530990601\n",
      "F1 score: 0.761904761904762\n",
      "Covering: 0.8826933548546957\n",
      "0.7636363636363637\n",
      "(50, 0.1, 20, 1000, 2)\n",
      "50\n"
     ]
    },
    {
     "name": "stderr",
     "output_type": "stream",
     "text": [
      "100%|██████████| 1451/1451 [00:12<00:00, 119.28it/s]\n"
     ]
    },
    {
     "name": "stdout",
     "output_type": "stream",
     "text": [
      "12.171630620956421\n",
      "F1 score: 0.8181818181818182\n",
      "Covering: 0.891791016017825\n",
      "0.825\n",
      "(50, 0.2, 20, 1000, 2)\n",
      "50\n"
     ]
    },
    {
     "name": "stderr",
     "output_type": "stream",
     "text": [
      "100%|██████████| 1451/1451 [00:12<00:00, 117.02it/s]\n"
     ]
    },
    {
     "name": "stdout",
     "output_type": "stream",
     "text": [
      "12.405755519866943\n",
      "F1 score: 0.6666666666666666\n",
      "Covering: 0.7778591460271189\n",
      "0.75\n",
      "(50, 0.25, 20, 1000, 2)\n",
      "50\n"
     ]
    },
    {
     "name": "stderr",
     "output_type": "stream",
     "text": [
      "100%|██████████| 1451/1451 [00:12<00:00, 120.86it/s]\n"
     ]
    },
    {
     "name": "stdout",
     "output_type": "stream",
     "text": [
      "12.008201599121094\n",
      "F1 score: 0.4444444444444445\n",
      "Covering: 0.5942295805739515\n",
      "0.6428571428571428\n",
      "[ 150  300  450  600  750  900 1050 1200 1350]\n",
      "(50, 0.05, 20, 1000, 2)\n",
      "50\n"
     ]
    },
    {
     "name": "stderr",
     "output_type": "stream",
     "text": [
      "100%|██████████| 1451/1451 [00:12<00:00, 120.08it/s]\n"
     ]
    },
    {
     "name": "stdout",
     "output_type": "stream",
     "text": [
      "12.084258079528809\n",
      "F1 score: 1.0\n",
      "Covering: 0.9186676248944987\n",
      "1.0\n",
      "(50, 0.1, 20, 1000, 2)\n",
      "50\n"
     ]
    },
    {
     "name": "stderr",
     "output_type": "stream",
     "text": [
      "100%|██████████| 1451/1451 [00:11<00:00, 122.23it/s]\n"
     ]
    },
    {
     "name": "stdout",
     "output_type": "stream",
     "text": [
      "11.87208366394043\n",
      "F1 score: 0.9090909090909091\n",
      "Covering: 0.9292347083329563\n",
      "0.9166666666666667\n",
      "(50, 0.2, 20, 1000, 2)\n",
      "50\n"
     ]
    },
    {
     "name": "stderr",
     "output_type": "stream",
     "text": [
      "100%|██████████| 1451/1451 [00:11<00:00, 122.37it/s]\n"
     ]
    },
    {
     "name": "stdout",
     "output_type": "stream",
     "text": [
      "11.858381748199463\n",
      "F1 score: 0.625\n",
      "Covering: 0.8208199185797241\n",
      "0.7272727272727273\n",
      "(50, 0.25, 20, 1000, 2)\n",
      "50\n"
     ]
    },
    {
     "name": "stderr",
     "output_type": "stream",
     "text": [
      "100%|██████████| 1451/1451 [00:13<00:00, 109.73it/s]\n"
     ]
    },
    {
     "name": "stdout",
     "output_type": "stream",
     "text": [
      "13.230452537536621\n",
      "F1 score: 0.47619047619047616\n",
      "Covering: 0.7626666666666667\n",
      "0.65625\n",
      "[ 150  300  450  600  750  900 1050 1200 1350]\n",
      "(50, 0.05, 20, 1000, 2)\n",
      "50\n"
     ]
    },
    {
     "name": "stderr",
     "output_type": "stream",
     "text": [
      "100%|██████████| 1451/1451 [00:12<00:00, 115.34it/s]\n"
     ]
    },
    {
     "name": "stdout",
     "output_type": "stream",
     "text": [
      "12.582526445388794\n",
      "F1 score: 1.0\n",
      "Covering: 0.9123461448465735\n",
      "1.0\n",
      "(50, 0.1, 20, 1000, 2)\n",
      "50\n"
     ]
    },
    {
     "name": "stderr",
     "output_type": "stream",
     "text": [
      "100%|██████████| 1451/1451 [00:13<00:00, 109.27it/s]\n"
     ]
    },
    {
     "name": "stdout",
     "output_type": "stream",
     "text": [
      "13.286188125610352\n",
      "F1 score: 0.9523809523809523\n",
      "Covering: 0.9027819507600717\n",
      "0.9545454545454546\n",
      "(50, 0.2, 20, 1000, 2)\n",
      "50\n"
     ]
    },
    {
     "name": "stderr",
     "output_type": "stream",
     "text": [
      "100%|██████████| 1451/1451 [00:14<00:00, 102.49it/s]\n"
     ]
    },
    {
     "name": "stdout",
     "output_type": "stream",
     "text": [
      "14.156954288482666\n",
      "F1 score: 0.625\n",
      "Covering: 0.8057445954583051\n",
      "0.7272727272727273\n",
      "(50, 0.25, 20, 1000, 2)\n",
      "50\n"
     ]
    },
    {
     "name": "stderr",
     "output_type": "stream",
     "text": [
      "100%|██████████| 1451/1451 [00:13<00:00, 106.20it/s]\n"
     ]
    },
    {
     "name": "stdout",
     "output_type": "stream",
     "text": [
      "13.662540197372437\n",
      "F1 score: 0.4255319148936171\n",
      "Covering: 0.6932841896252172\n",
      "0.6351351351351351\n",
      "[ 150  300  450  600  750  900 1050 1200 1350]\n",
      "(50, 0.05, 20, 1000, 2)\n",
      "50\n"
     ]
    },
    {
     "name": "stderr",
     "output_type": "stream",
     "text": [
      "100%|██████████| 1451/1451 [00:12<00:00, 117.06it/s]\n"
     ]
    },
    {
     "name": "stdout",
     "output_type": "stream",
     "text": [
      "12.396684408187866\n",
      "F1 score: 0.8333333333333333\n",
      "Covering: 0.8690813122511257\n",
      "0.8571428571428572\n",
      "(50, 0.1, 20, 1000, 2)\n",
      "50\n"
     ]
    },
    {
     "name": "stderr",
     "output_type": "stream",
     "text": [
      "100%|██████████| 1451/1451 [00:11<00:00, 122.45it/s]\n"
     ]
    },
    {
     "name": "stdout",
     "output_type": "stream",
     "text": [
      "11.856008768081665\n",
      "F1 score: 0.8\n",
      "Covering: 0.8770310198644586\n",
      "0.8333333333333333\n",
      "(50, 0.2, 20, 1000, 2)\n",
      "50\n"
     ]
    },
    {
     "name": "stderr",
     "output_type": "stream",
     "text": [
      "100%|██████████| 1451/1451 [00:12<00:00, 113.36it/s]\n"
     ]
    },
    {
     "name": "stdout",
     "output_type": "stream",
     "text": [
      "12.801299571990967\n",
      "F1 score: 0.5714285714285715\n",
      "Covering: 0.7918910664706843\n",
      "0.7\n",
      "(50, 0.25, 20, 1000, 2)\n",
      "50\n"
     ]
    },
    {
     "name": "stderr",
     "output_type": "stream",
     "text": [
      "100%|██████████| 1451/1451 [00:12<00:00, 118.31it/s]\n"
     ]
    },
    {
     "name": "stdout",
     "output_type": "stream",
     "text": [
      "12.268120288848877\n",
      "F1 score: 0.3636363636363636\n",
      "Covering: 0.6626666666666666\n",
      "0.6111111111111112\n",
      "[ 150  300  450  600  750  900 1050 1200 1350]\n",
      "(50, 0.05, 20, 1000, 2)\n",
      "50\n"
     ]
    },
    {
     "name": "stderr",
     "output_type": "stream",
     "text": [
      "100%|██████████| 1451/1451 [00:10<00:00, 143.07it/s]\n"
     ]
    },
    {
     "name": "stdout",
     "output_type": "stream",
     "text": [
      "10.14220380783081\n",
      "F1 score: 1.0\n",
      "Covering: 0.9240472093184879\n",
      "1.0\n",
      "(50, 0.1, 20, 1000, 2)\n",
      "50\n"
     ]
    },
    {
     "name": "stderr",
     "output_type": "stream",
     "text": [
      "100%|██████████| 1451/1451 [00:15<00:00, 95.68it/s] \n"
     ]
    },
    {
     "name": "stdout",
     "output_type": "stream",
     "text": [
      "15.165704250335693\n",
      "F1 score: 0.8333333333333333\n",
      "Covering: 0.94334857714841\n",
      "0.8571428571428572\n",
      "(50, 0.2, 20, 1000, 2)\n",
      "50\n"
     ]
    },
    {
     "name": "stderr",
     "output_type": "stream",
     "text": [
      "100%|██████████| 1451/1451 [00:14<00:00, 97.17it/s] \n"
     ]
    },
    {
     "name": "stdout",
     "output_type": "stream",
     "text": [
      "14.932451009750366\n",
      "F1 score: 0.6666666666666666\n",
      "Covering: 0.8975982883156115\n",
      "0.75\n",
      "(50, 0.25, 20, 1000, 2)\n",
      "50\n"
     ]
    },
    {
     "name": "stderr",
     "output_type": "stream",
     "text": [
      "100%|██████████| 1451/1451 [00:15<00:00, 95.26it/s] \n"
     ]
    },
    {
     "name": "stdout",
     "output_type": "stream",
     "text": [
      "15.232033014297485\n",
      "F1 score: 0.5882352941176471\n",
      "Covering: 0.7404398131402479\n",
      "0.7083333333333334\n",
      "[ 150  300  450  600  750  900 1050 1200 1350]\n",
      "(50, 0.05, 20, 1000, 2)\n",
      "50\n"
     ]
    },
    {
     "name": "stderr",
     "output_type": "stream",
     "text": [
      "100%|██████████| 1451/1451 [00:15<00:00, 91.10it/s] \n"
     ]
    },
    {
     "name": "stdout",
     "output_type": "stream",
     "text": [
      "15.94402289390564\n",
      "F1 score: 0.9523809523809523\n",
      "Covering: 0.9236053280484591\n",
      "0.9545454545454546\n",
      "(50, 0.1, 20, 1000, 2)\n",
      "50\n"
     ]
    },
    {
     "name": "stderr",
     "output_type": "stream",
     "text": [
      "100%|██████████| 1451/1451 [00:15<00:00, 94.02it/s] \n"
     ]
    },
    {
     "name": "stdout",
     "output_type": "stream",
     "text": [
      "15.432846069335938\n",
      "F1 score: 0.8333333333333333\n",
      "Covering: 0.8672478915568369\n",
      "0.8571428571428572\n",
      "(50, 0.2, 20, 1000, 2)\n",
      "50\n"
     ]
    },
    {
     "name": "stderr",
     "output_type": "stream",
     "text": [
      "100%|██████████| 1451/1451 [00:14<00:00, 99.60it/s] \n"
     ]
    },
    {
     "name": "stdout",
     "output_type": "stream",
     "text": [
      "14.56893277168274\n",
      "F1 score: 0.625\n",
      "Covering: 0.7428492822966508\n",
      "0.7272727272727273\n",
      "(50, 0.25, 20, 1000, 2)\n",
      "50\n"
     ]
    },
    {
     "name": "stderr",
     "output_type": "stream",
     "text": [
      "100%|██████████| 1451/1451 [00:14<00:00, 97.46it/s] \n"
     ]
    },
    {
     "name": "stdout",
     "output_type": "stream",
     "text": [
      "14.888298511505127\n",
      "F1 score: 0.5\n",
      "Covering: 0.6873684791448821\n",
      "0.6666666666666666\n",
      "[ 150  300  450  600  750  900 1050 1200 1350]\n",
      "(50, 0.05, 20, 1000, 2)\n",
      "50\n"
     ]
    },
    {
     "name": "stderr",
     "output_type": "stream",
     "text": [
      "100%|██████████| 1451/1451 [00:15<00:00, 96.07it/s] \n"
     ]
    },
    {
     "name": "stdout",
     "output_type": "stream",
     "text": [
      "15.103797674179077\n",
      "F1 score: 0.9473684210526316\n",
      "Covering: 0.8494387893521832\n",
      "0.95\n",
      "(50, 0.1, 20, 1000, 2)\n",
      "50\n"
     ]
    },
    {
     "name": "stderr",
     "output_type": "stream",
     "text": [
      "100%|██████████| 1451/1451 [00:15<00:00, 91.95it/s] \n"
     ]
    },
    {
     "name": "stdout",
     "output_type": "stream",
     "text": [
      "15.779817581176758\n",
      "F1 score: 0.9473684210526316\n",
      "Covering: 0.8581085209173589\n",
      "0.95\n",
      "(50, 0.2, 20, 1000, 2)\n",
      "50\n"
     ]
    },
    {
     "name": "stderr",
     "output_type": "stream",
     "text": [
      "100%|██████████| 1451/1451 [00:15<00:00, 93.95it/s] \n"
     ]
    },
    {
     "name": "stdout",
     "output_type": "stream",
     "text": [
      "15.444183349609375\n",
      "F1 score: 0.5555555555555556\n",
      "Covering: 0.7348747346072186\n",
      "0.6923076923076923\n",
      "(50, 0.25, 20, 1000, 2)\n",
      "50\n"
     ]
    },
    {
     "name": "stderr",
     "output_type": "stream",
     "text": [
      "100%|██████████| 1451/1451 [00:14<00:00, 98.65it/s] \n"
     ]
    },
    {
     "name": "stdout",
     "output_type": "stream",
     "text": [
      "14.723942756652832\n",
      "F1 score: 0.47619047619047616\n",
      "Covering: 0.6747153479725805\n",
      "0.65625\n",
      "[ 150  300  450  600  750  900 1050 1200 1350]\n",
      "(50, 0.05, 20, 1000, 2)\n",
      "50\n"
     ]
    },
    {
     "name": "stderr",
     "output_type": "stream",
     "text": [
      "100%|██████████| 1451/1451 [00:15<00:00, 96.30it/s] \n"
     ]
    },
    {
     "name": "stdout",
     "output_type": "stream",
     "text": [
      "15.08295464515686\n",
      "F1 score: 0.8421052631578948\n",
      "Covering: 0.8248602392082195\n",
      "0.8444444444444444\n",
      "(50, 0.1, 20, 1000, 2)\n",
      "50\n"
     ]
    },
    {
     "name": "stderr",
     "output_type": "stream",
     "text": [
      "100%|██████████| 1451/1451 [00:15<00:00, 92.43it/s]\n"
     ]
    },
    {
     "name": "stdout",
     "output_type": "stream",
     "text": [
      "15.698095321655273\n",
      "F1 score: 0.8181818181818182\n",
      "Covering: 0.8648053417349899\n",
      "0.825\n",
      "(50, 0.2, 20, 1000, 2)\n",
      "50\n"
     ]
    },
    {
     "name": "stderr",
     "output_type": "stream",
     "text": [
      "100%|██████████| 1451/1451 [00:14<00:00, 101.22it/s]\n"
     ]
    },
    {
     "name": "stdout",
     "output_type": "stream",
     "text": [
      "14.334751605987549\n",
      "F1 score: 0.5555555555555556\n",
      "Covering: 0.778609676364825\n",
      "0.6923076923076923\n",
      "(50, 0.25, 20, 1000, 2)\n",
      "50\n"
     ]
    },
    {
     "name": "stderr",
     "output_type": "stream",
     "text": [
      "100%|██████████| 1451/1451 [00:14<00:00, 96.81it/s] \n"
     ]
    },
    {
     "name": "stdout",
     "output_type": "stream",
     "text": [
      "15.001054525375366\n",
      "F1 score: 0.3571428571428571\n",
      "Covering: 0.6456754385964912\n",
      "0.6086956521739131\n",
      "[ 150  300  450  600  750  900 1050 1200 1350]\n",
      "(50, 0.05, 20, 1000, 2)\n",
      "50\n"
     ]
    },
    {
     "name": "stderr",
     "output_type": "stream",
     "text": [
      "100%|██████████| 1451/1451 [00:17<00:00, 83.61it/s] \n"
     ]
    },
    {
     "name": "stdout",
     "output_type": "stream",
     "text": [
      "17.35460352897644\n",
      "F1 score: 0.9473684210526316\n",
      "Covering: 0.8124706861311776\n",
      "0.95\n",
      "(50, 0.1, 20, 1000, 2)\n",
      "50\n"
     ]
    },
    {
     "name": "stderr",
     "output_type": "stream",
     "text": [
      "100%|██████████| 1451/1451 [00:16<00:00, 86.27it/s] \n"
     ]
    },
    {
     "name": "stdout",
     "output_type": "stream",
     "text": [
      "16.818931102752686\n",
      "F1 score: 0.7200000000000001\n",
      "Covering: 0.8609609827735959\n",
      "0.7500000000000001\n",
      "(50, 0.2, 20, 1000, 2)\n",
      "50\n"
     ]
    },
    {
     "name": "stderr",
     "output_type": "stream",
     "text": [
      "100%|██████████| 1451/1451 [00:15<00:00, 96.14it/s] \n"
     ]
    },
    {
     "name": "stdout",
     "output_type": "stream",
     "text": [
      "15.092888355255127\n",
      "F1 score: 0.5714285714285715\n",
      "Covering: 0.702\n",
      "0.7\n",
      "(50, 0.25, 20, 1000, 2)\n",
      "50\n"
     ]
    },
    {
     "name": "stderr",
     "output_type": "stream",
     "text": [
      "100%|██████████| 1451/1451 [00:14<00:00, 97.36it/s] \n"
     ]
    },
    {
     "name": "stdout",
     "output_type": "stream",
     "text": [
      "14.915757894515991\n",
      "F1 score: 0.4\n",
      "Covering: 0.6455673289183224\n",
      "0.625\n",
      "[ 150  300  450  600  750  900 1050 1200 1350]\n",
      "(50, 0.05, 20, 1000, 2)\n",
      "50\n"
     ]
    },
    {
     "name": "stderr",
     "output_type": "stream",
     "text": [
      "100%|██████████| 1451/1451 [00:14<00:00, 98.51it/s] \n"
     ]
    },
    {
     "name": "stdout",
     "output_type": "stream",
     "text": [
      "14.755622625350952\n",
      "F1 score: 1.0\n",
      "Covering: 0.9172687730808187\n",
      "1.0\n",
      "(50, 0.1, 20, 1000, 2)\n",
      "50\n"
     ]
    },
    {
     "name": "stderr",
     "output_type": "stream",
     "text": [
      "100%|██████████| 1451/1451 [00:15<00:00, 94.34it/s] \n"
     ]
    },
    {
     "name": "stdout",
     "output_type": "stream",
     "text": [
      "15.379821062088013\n",
      "F1 score: 0.9090909090909091\n",
      "Covering: 0.9164316490604383\n",
      "0.9166666666666667\n",
      "(50, 0.2, 20, 1000, 2)\n",
      "50\n"
     ]
    },
    {
     "name": "stderr",
     "output_type": "stream",
     "text": [
      "100%|██████████| 1451/1451 [00:15<00:00, 91.37it/s] \n"
     ]
    },
    {
     "name": "stdout",
     "output_type": "stream",
     "text": [
      "15.88036584854126\n",
      "F1 score: 0.7142857142857143\n",
      "Covering: 0.8434953162893389\n",
      "0.7777777777777778\n",
      "(50, 0.25, 20, 1000, 2)\n",
      "50\n"
     ]
    },
    {
     "name": "stderr",
     "output_type": "stream",
     "text": [
      "100%|██████████| 1451/1451 [00:15<00:00, 96.03it/s] "
     ]
    },
    {
     "name": "stdout",
     "output_type": "stream",
     "text": [
      "15.109691381454468\n",
      "F1 score: 0.45454545454545453\n",
      "Covering: 0.6276152597402597\n",
      "0.6470588235294118\n"
     ]
    },
    {
     "name": "stderr",
     "output_type": "stream",
     "text": [
      "\n"
     ]
    }
   ],
   "source": [
    "from itertools import product\n",
    "import time as time\n",
    "WindowLength = [50]#,200]\n",
    "Significance = [0.05,0.1,0.2,0.25]#,0.1,0.2]\n",
    "Lookback = [20]#,0.8,0.5]\n",
    "MonteCarloSample = [1000] #[200,1000,5000]\n",
    "WassersteinOrder = [2]#[1,2,4]\n",
    "\n",
    "METRICS_SYNP = {}\n",
    "\n",
    "\n",
    "\n",
    "RANDOM_STATES = [2020,2021,2022,2023,2024,2025,2026,2027,2028,2029]\n",
    "\n",
    "\n",
    "for rs in RANDOM_STATES:\n",
    "    X, y, centers = make_dynamic_blobs(\n",
    "        n_samples=n_samples, \n",
    "        base_center=base_center, \n",
    "        n_clusters=n_clusters, \n",
    "        varying_features=varying_features, \n",
    "        cluster_std=0.25, \n",
    "        center_offset_range=(-1.0, 1.0), \n",
    "        random_state=rs\n",
    "    )\n",
    "    df,GroundTruth = X, np.where(np.diff(y)!=0)[0]+1\n",
    "    METRICS_SYNP[rs] = {}\n",
    "\n",
    "    print(GroundTruth)\n",
    "\n",
    "    for combination in product(WindowLength,Significance,Lookback,MonteCarloSample,WassersteinOrder):\n",
    "        print(combination)\n",
    "        k,significance, lookack,L,p = combination\n",
    "        print(k)\n",
    "        METRICS_SYNP[rs][significance] = {}\n",
    "        detector = SWDCP(data=df,window_length=k,max_history=k,significance=significance)\n",
    "        start = time.time()\n",
    "        detector.process_dataloader(p=p,n_theta=L,explanations=False,seed=2025,verbose=False)\n",
    "        end = time.time()\n",
    "        print(end-start)\n",
    "        f1,cov, auc_score = detector.evaluate(GroundTruth,20)\n",
    "        METRICS_SYNP[rs][significance]['F1'] = f1\n",
    "        METRICS_SYNP[rs][significance]['Covering'] = cov\n",
    "        METRICS_SYNP[rs][significance]['AUC'] = auc_score\n",
    "        METRICS_SYNP[rs][significance]['cps'] = detector.change_points\n",
    "        METRICS_SYNP[rs][significance]['RunTime'] = end-start\n",
    "\n"
   ]
  },
  {
   "cell_type": "code",
   "execution_count": 8,
   "metadata": {},
   "outputs": [
    {
     "data": {
      "text/plain": [
       "<Axes: >"
      ]
     },
     "execution_count": 8,
     "metadata": {},
     "output_type": "execute_result"
    },
    {
     "data": {
      "image/png": "[encoded data removed]",
      "text/plain": [
       "<Figure size 640x480 with 2 Axes>"
      ]
     },
     "metadata": {},
     "output_type": "display_data"
    }
   ],
   "source": [
    "import seaborn as sns\n",
    "Plot_data_SYNPC = {k: [] for k in Significance}\n",
    "Plot_data_SYNPAUC = {k: [] for k in Significance}\n",
    "\n",
    "for seed, val in METRICS_SYNP.items():\n",
    "    for k, res in val.items():\n",
    "        Plot_data_SYNPC[k].append(res['Covering'])\n",
    "        Plot_data_SYNPAUC[k].append(res['AUC'])\n",
    "\n",
    "fig, ax = plt.subplots(1,2)\n",
    "sns.boxplot(Plot_data_SYNPAUC,ax=ax[0])\n",
    "sns.boxplot(Plot_data_SYNPC,ax=ax[1])"
   ]
  },
  {
   "cell_type": "code",
   "execution_count": 9,
   "metadata": {},
   "outputs": [
    {
     "name": "stdout",
     "output_type": "stream",
     "text": [
      "[ 150  300  450  600  750  900 1050 1200 1350]\n",
      "(50, 0.05, 20, 1000, 2)\n",
      "50\n"
     ]
    },
    {
     "name": "stderr",
     "output_type": "stream",
     "text": [
      "100%|██████████| 1451/1451 [00:15<00:00, 94.81it/s]\n"
     ]
    },
    {
     "name": "stdout",
     "output_type": "stream",
     "text": [
      "15.307735204696655\n",
      "F1 score: 0.761904761904762\n",
      "Covering: 0.8826933548546957\n",
      "0.7636363636363637\n",
      "(50, 0.05, 20, 1000, 4)\n",
      "50\n"
     ]
    },
    {
     "name": "stderr",
     "output_type": "stream",
     "text": [
      "100%|██████████| 1451/1451 [00:14<00:00, 96.98it/s] \n"
     ]
    },
    {
     "name": "stdout",
     "output_type": "stream",
     "text": [
      "14.976709842681885\n",
      "F1 score: 0.8000000000000002\n",
      "Covering: 0.9087105501335468\n",
      "0.8\n",
      "(50, 0.05, 20, 1000, 6)\n",
      "50\n"
     ]
    },
    {
     "name": "stderr",
     "output_type": "stream",
     "text": [
      "100%|██████████| 1451/1451 [00:14<00:00, 99.25it/s] \n"
     ]
    },
    {
     "name": "stdout",
     "output_type": "stream",
     "text": [
      "14.620007514953613\n",
      "F1 score: 0.761904761904762\n",
      "Covering: 0.9122724974554066\n",
      "0.7636363636363637\n",
      "(50, 0.05, 20, 1000, 8)\n",
      "50\n"
     ]
    },
    {
     "name": "stderr",
     "output_type": "stream",
     "text": [
      "100%|██████████| 1451/1451 [00:14<00:00, 99.48it/s] \n"
     ]
    },
    {
     "name": "stdout",
     "output_type": "stream",
     "text": [
      "14.586473941802979\n",
      "F1 score: 0.8181818181818182\n",
      "Covering: 0.8640842519689107\n",
      "0.825\n",
      "[ 150  300  450  600  750  900 1050 1200 1350]\n",
      "(50, 0.05, 20, 1000, 2)\n",
      "50\n"
     ]
    },
    {
     "name": "stderr",
     "output_type": "stream",
     "text": [
      "100%|██████████| 1451/1451 [00:14<00:00, 100.13it/s]\n"
     ]
    },
    {
     "name": "stdout",
     "output_type": "stream",
     "text": [
      "14.490690469741821\n",
      "F1 score: 1.0\n",
      "Covering: 0.9186676248944987\n",
      "1.0\n",
      "(50, 0.05, 20, 1000, 4)\n",
      "50\n"
     ]
    },
    {
     "name": "stderr",
     "output_type": "stream",
     "text": [
      "100%|██████████| 1451/1451 [00:14<00:00, 100.87it/s]\n"
     ]
    },
    {
     "name": "stdout",
     "output_type": "stream",
     "text": [
      "14.385298252105713\n",
      "F1 score: 1.0\n",
      "Covering: 0.9372590001337038\n",
      "1.0\n",
      "(50, 0.05, 20, 1000, 6)\n",
      "50\n"
     ]
    },
    {
     "name": "stderr",
     "output_type": "stream",
     "text": [
      "100%|██████████| 1451/1451 [00:14<00:00, 97.08it/s] \n"
     ]
    },
    {
     "name": "stdout",
     "output_type": "stream",
     "text": [
      "14.978351831436157\n",
      "F1 score: 0.9523809523809523\n",
      "Covering: 0.9297864102059735\n",
      "0.9545454545454546\n",
      "(50, 0.05, 20, 1000, 8)\n",
      "50\n"
     ]
    },
    {
     "name": "stderr",
     "output_type": "stream",
     "text": [
      "100%|██████████| 1451/1451 [00:14<00:00, 99.80it/s] \n"
     ]
    },
    {
     "name": "stdout",
     "output_type": "stream",
     "text": [
      "14.539729595184326\n",
      "F1 score: 0.8695652173913044\n",
      "Covering: 0.9318175553968513\n",
      "0.8846153846153846\n",
      "[ 150  300  450  600  750  900 1050 1200 1350]\n",
      "(50, 0.05, 20, 1000, 2)\n",
      "50\n"
     ]
    },
    {
     "name": "stderr",
     "output_type": "stream",
     "text": [
      "100%|██████████| 1451/1451 [00:14<00:00, 98.34it/s] \n"
     ]
    },
    {
     "name": "stdout",
     "output_type": "stream",
     "text": [
      "14.754515409469604\n",
      "F1 score: 1.0\n",
      "Covering: 0.9123461448465735\n",
      "1.0\n",
      "(50, 0.05, 20, 1000, 4)\n",
      "50\n"
     ]
    },
    {
     "name": "stderr",
     "output_type": "stream",
     "text": [
      "100%|██████████| 1451/1451 [00:14<00:00, 97.55it/s] \n"
     ]
    },
    {
     "name": "stdout",
     "output_type": "stream",
     "text": [
      "14.874459505081177\n",
      "F1 score: 1.0\n",
      "Covering: 0.9383067922569679\n",
      "1.0\n",
      "(50, 0.05, 20, 1000, 6)\n",
      "50\n"
     ]
    },
    {
     "name": "stderr",
     "output_type": "stream",
     "text": [
      "100%|██████████| 1451/1451 [00:16<00:00, 89.78it/s] \n"
     ]
    },
    {
     "name": "stdout",
     "output_type": "stream",
     "text": [
      "16.176791429519653\n",
      "F1 score: 1.0\n",
      "Covering: 0.9484046514929902\n",
      "1.0\n",
      "(50, 0.05, 20, 1000, 8)\n",
      "50\n"
     ]
    },
    {
     "name": "stderr",
     "output_type": "stream",
     "text": [
      "100%|██████████| 1451/1451 [00:17<00:00, 85.10it/s] \n"
     ]
    },
    {
     "name": "stdout",
     "output_type": "stream",
     "text": [
      "17.049744129180908\n",
      "F1 score: 0.9090909090909091\n",
      "Covering: 0.9387888407597718\n",
      "0.9166666666666667\n",
      "[ 150  300  450  600  750  900 1050 1200 1350]\n",
      "(50, 0.05, 20, 1000, 2)\n",
      "50\n"
     ]
    },
    {
     "name": "stderr",
     "output_type": "stream",
     "text": [
      "100%|██████████| 1451/1451 [00:16<00:00, 89.35it/s] \n"
     ]
    },
    {
     "name": "stdout",
     "output_type": "stream",
     "text": [
      "16.23927116394043\n",
      "F1 score: 0.8333333333333333\n",
      "Covering: 0.8690813122511257\n",
      "0.8571428571428572\n",
      "(50, 0.05, 20, 1000, 4)\n",
      "50\n"
     ]
    },
    {
     "name": "stderr",
     "output_type": "stream",
     "text": [
      "100%|██████████| 1451/1451 [00:16<00:00, 88.12it/s] \n"
     ]
    },
    {
     "name": "stdout",
     "output_type": "stream",
     "text": [
      "16.481181621551514\n",
      "F1 score: 0.8\n",
      "Covering: 0.8797702208806262\n",
      "0.8333333333333333\n",
      "(50, 0.05, 20, 1000, 6)\n",
      "50\n"
     ]
    },
    {
     "name": "stderr",
     "output_type": "stream",
     "text": [
      "100%|██████████| 1451/1451 [00:15<00:00, 94.76it/s] \n"
     ]
    },
    {
     "name": "stdout",
     "output_type": "stream",
     "text": [
      "15.312824249267578\n",
      "F1 score: 0.8333333333333333\n",
      "Covering: 0.8985852673665861\n",
      "0.8571428571428572\n",
      "(50, 0.05, 20, 1000, 8)\n",
      "50\n"
     ]
    },
    {
     "name": "stderr",
     "output_type": "stream",
     "text": [
      "100%|██████████| 1451/1451 [00:14<00:00, 97.89it/s] \n"
     ]
    },
    {
     "name": "stdout",
     "output_type": "stream",
     "text": [
      "14.822514295578003\n",
      "F1 score: 0.8333333333333333\n",
      "Covering: 0.9001678003395335\n",
      "0.8571428571428572\n",
      "[ 150  300  450  600  750  900 1050 1200 1350]\n",
      "(50, 0.05, 20, 1000, 2)\n",
      "50\n"
     ]
    },
    {
     "name": "stderr",
     "output_type": "stream",
     "text": [
      "100%|██████████| 1451/1451 [00:15<00:00, 96.64it/s] \n"
     ]
    },
    {
     "name": "stdout",
     "output_type": "stream",
     "text": [
      "15.014187812805176\n",
      "F1 score: 1.0\n",
      "Covering: 0.9240472093184879\n",
      "1.0\n",
      "(50, 0.05, 20, 1000, 4)\n",
      "50\n"
     ]
    },
    {
     "name": "stderr",
     "output_type": "stream",
     "text": [
      "100%|██████████| 1451/1451 [00:15<00:00, 94.57it/s] \n"
     ]
    },
    {
     "name": "stdout",
     "output_type": "stream",
     "text": [
      "15.3527193069458\n",
      "F1 score: 0.9523809523809523\n",
      "Covering: 0.9419026988983865\n",
      "0.9545454545454546\n",
      "(50, 0.05, 20, 1000, 6)\n",
      "50\n"
     ]
    },
    {
     "name": "stderr",
     "output_type": "stream",
     "text": [
      "100%|██████████| 1451/1451 [00:16<00:00, 88.26it/s]\n"
     ]
    },
    {
     "name": "stdout",
     "output_type": "stream",
     "text": [
      "16.43933081626892\n",
      "F1 score: 1.0\n",
      "Covering: 0.9538425782942477\n",
      "1.0\n",
      "(50, 0.05, 20, 1000, 8)\n",
      "50\n"
     ]
    },
    {
     "name": "stderr",
     "output_type": "stream",
     "text": [
      "100%|██████████| 1451/1451 [00:16<00:00, 87.38it/s] \n"
     ]
    },
    {
     "name": "stdout",
     "output_type": "stream",
     "text": [
      "16.60545325279236\n",
      "F1 score: 0.9523809523809523\n",
      "Covering: 0.9595625232166417\n",
      "0.9545454545454546\n",
      "[ 150  300  450  600  750  900 1050 1200 1350]\n",
      "(50, 0.05, 20, 1000, 2)\n",
      "50\n"
     ]
    },
    {
     "name": "stderr",
     "output_type": "stream",
     "text": [
      "100%|██████████| 1451/1451 [00:14<00:00, 97.66it/s] \n"
     ]
    },
    {
     "name": "stdout",
     "output_type": "stream",
     "text": [
      "14.857481241226196\n",
      "F1 score: 0.9523809523809523\n",
      "Covering: 0.9236053280484591\n",
      "0.9545454545454546\n",
      "(50, 0.05, 20, 1000, 4)\n",
      "50\n"
     ]
    },
    {
     "name": "stderr",
     "output_type": "stream",
     "text": [
      "100%|██████████| 1451/1451 [00:15<00:00, 92.73it/s] \n"
     ]
    },
    {
     "name": "stdout",
     "output_type": "stream",
     "text": [
      "15.647438049316406\n",
      "F1 score: 0.9523809523809523\n",
      "Covering: 0.9499385181535221\n",
      "0.9545454545454546\n",
      "(50, 0.05, 20, 1000, 6)\n",
      "50\n"
     ]
    },
    {
     "name": "stderr",
     "output_type": "stream",
     "text": [
      "100%|██████████| 1451/1451 [00:15<00:00, 92.16it/s] \n"
     ]
    },
    {
     "name": "stdout",
     "output_type": "stream",
     "text": [
      "15.744374752044678\n",
      "F1 score: 0.9090909090909091\n",
      "Covering: 0.9556595462268992\n",
      "0.9166666666666667\n",
      "(50, 0.05, 20, 1000, 8)\n",
      "50\n"
     ]
    },
    {
     "name": "stderr",
     "output_type": "stream",
     "text": [
      "100%|██████████| 1451/1451 [00:14<00:00, 97.51it/s] \n"
     ]
    },
    {
     "name": "stdout",
     "output_type": "stream",
     "text": [
      "14.880486249923706\n",
      "F1 score: 0.6451612903225806\n",
      "Covering: 0.8425785250906574\n",
      "0.7380952380952381\n",
      "[ 150  300  450  600  750  900 1050 1200 1350]\n",
      "(50, 0.05, 20, 1000, 2)\n",
      "50\n"
     ]
    },
    {
     "name": "stderr",
     "output_type": "stream",
     "text": [
      "100%|██████████| 1451/1451 [00:14<00:00, 99.79it/s] \n"
     ]
    },
    {
     "name": "stdout",
     "output_type": "stream",
     "text": [
      "14.539997816085815\n",
      "F1 score: 0.9473684210526316\n",
      "Covering: 0.8494387893521832\n",
      "0.95\n",
      "(50, 0.05, 20, 1000, 4)\n",
      "50\n"
     ]
    },
    {
     "name": "stderr",
     "output_type": "stream",
     "text": [
      "100%|██████████| 1451/1451 [00:14<00:00, 97.53it/s] \n"
     ]
    },
    {
     "name": "stdout",
     "output_type": "stream",
     "text": [
      "14.878093957901001\n",
      "F1 score: 0.9473684210526316\n",
      "Covering: 0.8688353550945107\n",
      "0.95\n",
      "(50, 0.05, 20, 1000, 6)\n",
      "50\n"
     ]
    },
    {
     "name": "stderr",
     "output_type": "stream",
     "text": [
      "100%|██████████| 1451/1451 [00:15<00:00, 92.59it/s] \n"
     ]
    },
    {
     "name": "stdout",
     "output_type": "stream",
     "text": [
      "15.670947313308716\n",
      "F1 score: 0.9473684210526316\n",
      "Covering: 0.8823986315645197\n",
      "0.95\n",
      "(50, 0.05, 20, 1000, 8)\n",
      "50\n"
     ]
    },
    {
     "name": "stderr",
     "output_type": "stream",
     "text": [
      "100%|██████████| 1451/1451 [00:14<00:00, 96.96it/s] \n"
     ]
    },
    {
     "name": "stdout",
     "output_type": "stream",
     "text": [
      "14.964378118515015\n",
      "F1 score: 0.8333333333333333\n",
      "Covering: 0.8594919832694318\n",
      "0.8571428571428572\n",
      "[ 150  300  450  600  750  900 1050 1200 1350]\n",
      "(50, 0.05, 20, 1000, 2)\n",
      "50\n"
     ]
    },
    {
     "name": "stderr",
     "output_type": "stream",
     "text": [
      "100%|██████████| 1451/1451 [00:14<00:00, 98.25it/s] \n"
     ]
    },
    {
     "name": "stdout",
     "output_type": "stream",
     "text": [
      "14.768891334533691\n",
      "F1 score: 0.8421052631578948\n",
      "Covering: 0.8248602392082195\n",
      "0.8444444444444444\n",
      "(50, 0.05, 20, 1000, 4)\n",
      "50\n"
     ]
    },
    {
     "name": "stderr",
     "output_type": "stream",
     "text": [
      "100%|██████████| 1451/1451 [00:15<00:00, 91.70it/s] \n"
     ]
    },
    {
     "name": "stdout",
     "output_type": "stream",
     "text": [
      "15.822551488876343\n",
      "F1 score: 0.8421052631578948\n",
      "Covering: 0.8451656574478718\n",
      "0.8444444444444444\n",
      "(50, 0.05, 20, 1000, 6)\n",
      "50\n"
     ]
    },
    {
     "name": "stderr",
     "output_type": "stream",
     "text": [
      "100%|██████████| 1451/1451 [00:15<00:00, 94.10it/s] \n"
     ]
    },
    {
     "name": "stdout",
     "output_type": "stream",
     "text": [
      "15.419490575790405\n",
      "F1 score: 0.9\n",
      "Covering: 0.8559497599392482\n",
      "0.9\n",
      "(50, 0.05, 20, 1000, 8)\n",
      "50\n"
     ]
    },
    {
     "name": "stderr",
     "output_type": "stream",
     "text": [
      "100%|██████████| 1451/1451 [00:14<00:00, 100.23it/s]\n"
     ]
    },
    {
     "name": "stdout",
     "output_type": "stream",
     "text": [
      "14.477469682693481\n",
      "F1 score: 0.75\n",
      "Covering: 0.7784696307580546\n",
      "0.7714285714285715\n",
      "[ 150  300  450  600  750  900 1050 1200 1350]\n",
      "(50, 0.05, 20, 1000, 2)\n",
      "50\n"
     ]
    },
    {
     "name": "stderr",
     "output_type": "stream",
     "text": [
      "100%|██████████| 1451/1451 [00:13<00:00, 105.50it/s]\n"
     ]
    },
    {
     "name": "stdout",
     "output_type": "stream",
     "text": [
      "13.754181146621704\n",
      "F1 score: 0.9473684210526316\n",
      "Covering: 0.8124706861311776\n",
      "0.95\n",
      "(50, 0.05, 20, 1000, 4)\n",
      "50\n"
     ]
    },
    {
     "name": "stderr",
     "output_type": "stream",
     "text": [
      "100%|██████████| 1451/1451 [00:11<00:00, 124.52it/s]\n"
     ]
    },
    {
     "name": "stdout",
     "output_type": "stream",
     "text": [
      "11.6579430103302\n",
      "F1 score: 0.8181818181818182\n",
      "Covering: 0.8215370470844577\n",
      "0.825\n",
      "(50, 0.05, 20, 1000, 6)\n",
      "50\n"
     ]
    },
    {
     "name": "stderr",
     "output_type": "stream",
     "text": [
      "100%|██████████| 1451/1451 [00:11<00:00, 130.01it/s]\n"
     ]
    },
    {
     "name": "stdout",
     "output_type": "stream",
     "text": [
      "11.16399097442627\n",
      "F1 score: 0.7826086956521738\n",
      "Covering: 0.8410331361889025\n",
      "0.7961538461538461\n",
      "(50, 0.05, 20, 1000, 8)\n",
      "50\n"
     ]
    },
    {
     "name": "stderr",
     "output_type": "stream",
     "text": [
      "100%|██████████| 1451/1451 [00:10<00:00, 132.63it/s]\n"
     ]
    },
    {
     "name": "stdout",
     "output_type": "stream",
     "text": [
      "10.941932916641235\n",
      "F1 score: 0.6428571428571429\n",
      "Covering: 0.7957709442413137\n",
      "0.7000000000000001\n",
      "[ 150  300  450  600  750  900 1050 1200 1350]\n",
      "(50, 0.05, 20, 1000, 2)\n",
      "50\n"
     ]
    },
    {
     "name": "stderr",
     "output_type": "stream",
     "text": [
      "100%|██████████| 1451/1451 [00:10<00:00, 132.57it/s]\n"
     ]
    },
    {
     "name": "stdout",
     "output_type": "stream",
     "text": [
      "10.945128202438354\n",
      "F1 score: 1.0\n",
      "Covering: 0.9172687730808187\n",
      "1.0\n",
      "(50, 0.05, 20, 1000, 4)\n",
      "50\n"
     ]
    },
    {
     "name": "stderr",
     "output_type": "stream",
     "text": [
      "100%|██████████| 1451/1451 [00:11<00:00, 131.60it/s]\n"
     ]
    },
    {
     "name": "stdout",
     "output_type": "stream",
     "text": [
      "11.02599048614502\n",
      "F1 score: 0.9090909090909091\n",
      "Covering: 0.9243200829048854\n",
      "0.9166666666666667\n",
      "(50, 0.05, 20, 1000, 6)\n",
      "50\n"
     ]
    },
    {
     "name": "stderr",
     "output_type": "stream",
     "text": [
      "100%|██████████| 1451/1451 [00:09<00:00, 148.20it/s]\n"
     ]
    },
    {
     "name": "stdout",
     "output_type": "stream",
     "text": [
      "9.790521383285522\n",
      "F1 score: 1.0\n",
      "Covering: 0.9521226177389899\n",
      "1.0\n",
      "(50, 0.05, 20, 1000, 8)\n",
      "50\n"
     ]
    },
    {
     "name": "stderr",
     "output_type": "stream",
     "text": [
      "100%|██████████| 1451/1451 [00:13<00:00, 109.73it/s]"
     ]
    },
    {
     "name": "stdout",
     "output_type": "stream",
     "text": [
      "13.24802303314209\n",
      "F1 score: 0.9090909090909091\n",
      "Covering: 0.920503687850273\n",
      "0.9166666666666667\n"
     ]
    },
    {
     "name": "stderr",
     "output_type": "stream",
     "text": [
      "\n"
     ]
    }
   ],
   "source": [
    "WindowLength = [50]#,200]\n",
    "Significance = [0.05]#,0.1,0.2]\n",
    "Lookback = [20]#,0.8,0.5]\n",
    "MonteCarloSample = [1000] #[200,1000,5000]\n",
    "WassersteinOrder = [2,4,6,8]#[1,2,4]\n",
    "\n",
    "METRICS_SYNWO = {}\n",
    "\n",
    "\n",
    "\n",
    "RANDOM_STATES = [2020,2021,2022,2023,2024,2025,2026,2027,2028,2029]\n",
    "\n",
    "\n",
    "for rs in RANDOM_STATES:\n",
    "    X, y, centers = make_dynamic_blobs(\n",
    "        n_samples=n_samples, \n",
    "        base_center=base_center, \n",
    "        n_clusters=n_clusters, \n",
    "        varying_features=varying_features, \n",
    "        cluster_std=0.25, \n",
    "        center_offset_range=(-1.0, 1.0), \n",
    "        random_state=rs\n",
    "    )\n",
    "    df,GroundTruth = X, np.where(np.diff(y)!=0)[0]+1\n",
    "    METRICS_SYNWO[rs] = {}\n",
    "\n",
    "    print(GroundTruth)\n",
    "\n",
    "    for combination in product(WindowLength,Significance,Lookback,MonteCarloSample,WassersteinOrder):\n",
    "        print(combination)\n",
    "        k,significance, lookack,L,p = combination\n",
    "        print(k)\n",
    "        METRICS_SYNWO[rs][p] = {}\n",
    "        detector = SWDCP(data=df,window_length=k,max_history=k,significance=significance)\n",
    "        start = time.time()\n",
    "        detector.process_dataloader(p=p,n_theta=L,explanations=False,seed=2025,verbose=False)\n",
    "        end = time.time()\n",
    "        print(end-start)\n",
    "        f1,cov, auc_score = detector.evaluate(GroundTruth,20)\n",
    "        METRICS_SYNWO[rs][p]['F1'] = f1\n",
    "        METRICS_SYNWO[rs][p]['Covering'] = cov\n",
    "        METRICS_SYNWO[rs][p]['AUC'] = auc_score\n",
    "        METRICS_SYNWO[rs][p]['cps'] = detector.change_points\n",
    "        METRICS_SYNWO[rs][p]['RunTime'] = end-start\n",
    "\n"
   ]
  },
  {
   "cell_type": "code",
   "execution_count": 10,
   "metadata": {},
   "outputs": [
    {
     "data": {
      "text/plain": [
       "<Axes: >"
      ]
     },
     "execution_count": 10,
     "metadata": {},
     "output_type": "execute_result"
    },
    {
     "data": {
      "image/png": "[encoded data removed]",
      "text/plain": [
       "<Figure size 640x480 with 2 Axes>"
      ]
     },
     "metadata": {},
     "output_type": "display_data"
    }
   ],
   "source": [
    "Plot_data_SYNWOC = {k: [] for k in WassersteinOrder}\n",
    "Plot_data_SYNWOAUC = {k: [] for k in WassersteinOrder}\n",
    "\n",
    "for seed, val in METRICS_SYNWO.items():\n",
    "    for k, res in val.items():\n",
    "        Plot_data_SYNWOAUC[k].append(res['Covering'])\n",
    "        Plot_data_SYNWOC[k].append(res['AUC'])\n",
    "\n",
    "fig, ax = plt.subplots(1,2)\n",
    "sns.boxplot(Plot_data_SYNWOAUC,ax=ax[0])\n",
    "sns.boxplot(Plot_data_SYNWOC,ax=ax[1])"
   ]
  },
  {
   "cell_type": "code",
   "execution_count": 14,
   "metadata": {},
   "outputs": [
    {
     "data": {
      "image/png": "[encoded data removed]",
      "text/plain": [
       "<Figure size 500x400 with 4 Axes>"
      ]
     },
     "metadata": {},
     "output_type": "display_data"
    }
   ],
   "source": [
    "\n",
    "fig2, ax = plt.subplots(2,2,figsize=(5,4))\n",
    "\n",
    "#sns.color_palette(\"colorblind\")\n",
    "args ={'palette':sns.color_palette(\"colorblind\",n_colors=4)}\n",
    "   \n",
    "ax[0,0].set_title('Sig Level')\n",
    "ax[0,0].set_ylabel('AUC')\n",
    "ax[1,0].set_ylabel('Coveirng Score')\n",
    "sns.boxplot(Plot_data_SYNPAUC,ax=ax[0,0],**args)\n",
    "sns.boxplot(Plot_data_SYNPC,ax=ax[1,0],**args)\n",
    "\n",
    "ax[0,1].set_title('Wasserstein Order')\n",
    "sns.boxplot(Plot_data_SYNWOAUC,ax=ax[0,1],**args)\n",
    "sns.boxplot(Plot_data_SYNWOC,ax=ax[1,1],**args)\n",
    "\n",
    "fig2.tight_layout()\n"
   ]
  },
  {
   "cell_type": "code",
   "execution_count": 15,
   "metadata": {},
   "outputs": [],
   "source": [
    "fig2.savefig('AdditionalExpAppendix.pdf')"
   ]
  }
 ],
 "metadata": {
  "kernelspec": {
   "display_name": "torch",
   "language": "python",
   "name": "python3"
  },
  "language_info": {
   "codemirror_mode": {
    "name": "ipython",
    "version": 3
   },
   "file_extension": ".py",
   "mimetype": "text/x-python",
   "name": "python",
   "nbconvert_exporter": "python",
   "pygments_lexer": "ipython3",
   "version": "3.12.3"
  }
 },
 "nbformat": 4,
 "nbformat_minor": 2
}
