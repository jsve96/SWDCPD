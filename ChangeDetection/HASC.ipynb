{
 "cells": [
  {
   "cell_type": "code",
   "execution_count": 1,
   "metadata": {},
   "outputs": [],
   "source": [
    "import torch\n",
    "from torchvision import datasets\n",
    "from torch.utils.data import DataLoader\n",
    "from torchvision import transforms\n",
    "import numpy as np\n",
    "import matplotlib.pyplot as plt\n",
    "import pandas as pd\n",
    "from pathlib import Path\n",
    "import os,sys\n",
    "#parent_path = str(Path(os.getcwd()).parent)\n",
    "#sys.path.insert(1,parent_path)\n",
    "from utilsCPD import *\n",
    "from SWCPD import BaseDetector as SWDCP"
   ]
  },
  {
   "cell_type": "code",
   "execution_count": 2,
   "metadata": {},
   "outputs": [],
   "source": [
    "df_TS = load_master_data(\"./datasets/has2023_master.csv.zip\")\n",
    "\n",
    "\n",
    "def prepare_data(df_TS,channels_start,id):\n",
    "    initalized = False\n",
    "    for k,name in zip(df_TS.iloc[id,channels_start:],df_TS.columns[channels_start:]):\n",
    "        if np.array(k).shape[0]!=0:\n",
    "            if not initalized:\n",
    "                data = pd.DataFrame(k,columns=[name]).astype('float32')\n",
    "                initalized = True\n",
    "            else:\n",
    "                data[name] = np.array(k).astype(np.float32)\n",
    "    if df_TS.iloc[id].group == 'outdoor':\n",
    "        data = data.iloc[:,:-3]\n",
    "    GroundTruth = df_TS.iloc[id,5]\n",
    "\n",
    "    data = (data - data.mean())/(data.std())\n",
    "    return data,GroundTruth"
   ]
  },
  {
   "cell_type": "code",
   "execution_count": 3,
   "metadata": {},
   "outputs": [
    {
     "name": "stdout",
     "output_type": "stream",
     "text": [
      "10\n"
     ]
    },
    {
     "name": "stderr",
     "output_type": "stream",
     "text": [
      " 15%|█▌        | 788/5098 [00:07<00:54, 78.40it/s] "
     ]
    },
    {
     "name": "stdout",
     "output_type": "stream",
     "text": [
      "Change detected at: 1281 \n",
      "Initiate new segment\n"
     ]
    },
    {
     "name": "stderr",
     "output_type": "stream",
     "text": [
      " 73%|███████▎  | 3706/5098 [00:42<00:17, 79.58it/s] "
     ]
    },
    {
     "name": "stdout",
     "output_type": "stream",
     "text": [
      "Change detected at: 4193 \n",
      "Initiate new segment\n"
     ]
    },
    {
     "name": "stderr",
     "output_type": "stream",
     "text": [
      "100%|██████████| 5098/5098 [01:00<00:00, 84.07it/s]\n"
     ]
    },
    {
     "name": "stdout",
     "output_type": "stream",
     "text": [
      "F1 score: 0.8571428571428571\n",
      "Covering: 0.736405939112972\n",
      "0.875\n",
      "F1 score: 0.8571428571428571\n",
      "Covering: 0.736405939112972\n",
      "0.875\n",
      "F1 score: 0.8571428571428571\n",
      "Covering: 0.736405939112972\n",
      "0.875\n",
      "F1 score: 0.8571428571428571\n",
      "Covering: 0.736405939112972\n",
      "0.875\n",
      "F1 score: 0.8571428571428571\n",
      "Covering: 0.736405939112972\n",
      "0.875\n",
      "{'F1': 0.8571428571428571, 'Covering': 0.736405939112972, 'AUC': 0.875, 'FP': 0, 'DD': 7.5}\n",
      "14\n"
     ]
    },
    {
     "name": "stderr",
     "output_type": "stream",
     "text": [
      " 43%|████▎     | 2353/5453 [00:31<00:57, 53.50it/s]"
     ]
    },
    {
     "name": "stdout",
     "output_type": "stream",
     "text": [
      "Change detected at: 2845 \n",
      "Initiate new segment\n"
     ]
    },
    {
     "name": "stderr",
     "output_type": "stream",
     "text": [
      " 66%|██████▋   | 3613/5453 [00:47<00:22, 81.65it/s]"
     ]
    },
    {
     "name": "stdout",
     "output_type": "stream",
     "text": [
      "Change detected at: 4096 \n",
      "Initiate new segment\n"
     ]
    },
    {
     "name": "stderr",
     "output_type": "stream",
     "text": [
      "100%|██████████| 5453/5453 [01:11<00:00, 76.15it/s]\n"
     ]
    },
    {
     "name": "stdout",
     "output_type": "stream",
     "text": [
      "F1 score: 0.8571428571428571\n",
      "Covering: 0.7601708295222658\n",
      "0.875\n",
      "F1 score: 0.8571428571428571\n",
      "Covering: 0.7601708295222658\n",
      "0.875\n",
      "F1 score: 0.8571428571428571\n",
      "Covering: 0.7601708295222658\n",
      "0.875\n",
      "F1 score: 0.8571428571428571\n",
      "Covering: 0.7601708295222658\n",
      "0.875\n",
      "F1 score: 0.8571428571428571\n",
      "Covering: 0.7601708295222658\n",
      "0.875\n",
      "{'F1': 0.8571428571428571, 'Covering': 0.7601708295222658, 'AUC': 0.875, 'FP': 0, 'DD': 1.5}\n",
      "7\n"
     ]
    },
    {
     "name": "stderr",
     "output_type": "stream",
     "text": [
      " 19%|█▉        | 1124/5876 [00:14<01:09, 68.32it/s]"
     ]
    },
    {
     "name": "stdout",
     "output_type": "stream",
     "text": [
      "Change detected at: 1611 \n",
      "Initiate new segment\n"
     ]
    },
    {
     "name": "stderr",
     "output_type": "stream",
     "text": [
      " 40%|███▉      | 2348/5876 [00:32<00:51, 68.00it/s]"
     ]
    },
    {
     "name": "stdout",
     "output_type": "stream",
     "text": [
      "Change detected at: 2841 \n",
      "Initiate new segment\n"
     ]
    },
    {
     "name": "stderr",
     "output_type": "stream",
     "text": [
      " 62%|██████▏   | 3648/5876 [00:49<00:34, 65.34it/s] "
     ]
    },
    {
     "name": "stdout",
     "output_type": "stream",
     "text": [
      "Change detected at: 4137 \n",
      "Initiate new segment\n"
     ]
    },
    {
     "name": "stderr",
     "output_type": "stream",
     "text": [
      " 82%|████████▏ | 4811/5876 [01:05<00:13, 76.56it/s]"
     ]
    },
    {
     "name": "stdout",
     "output_type": "stream",
     "text": [
      "Change detected at: 5301 \n",
      "Initiate new segment\n"
     ]
    },
    {
     "name": "stderr",
     "output_type": "stream",
     "text": [
      "100%|██████████| 5876/5876 [01:19<00:00, 73.67it/s]\n"
     ]
    },
    {
     "name": "stdout",
     "output_type": "stream",
     "text": [
      "F1 score: 1.0\n",
      "Covering: 0.9959297005309319\n",
      "1.0\n",
      "F1 score: 1.0\n",
      "Covering: 0.9959297005309319\n",
      "1.0\n",
      "F1 score: 1.0\n",
      "Covering: 0.9959297005309319\n",
      "1.0\n",
      "F1 score: 1.0\n",
      "Covering: 0.9959297005309319\n",
      "1.0\n",
      "F1 score: 1.0\n",
      "Covering: 0.9959297005309319\n",
      "1.0\n",
      "{'F1': 1.0, 'Covering': 0.9959297005309319, 'AUC': 1.0, 'FP': 0, 'DD': 3.25}\n",
      "182\n"
     ]
    },
    {
     "name": "stderr",
     "output_type": "stream",
     "text": [
      " 42%|████▏     | 3455/8241 [00:50<01:20, 59.09it/s] "
     ]
    },
    {
     "name": "stdout",
     "output_type": "stream",
     "text": [
      "Change detected at: 3944 \n",
      "Initiate new segment\n"
     ]
    },
    {
     "name": "stderr",
     "output_type": "stream",
     "text": [
      " 45%|████▍     | 3682/8241 [00:54<01:18, 57.99it/s]"
     ]
    },
    {
     "name": "stdout",
     "output_type": "stream",
     "text": [
      "Change detected at: 4176 \n",
      "Initiate new segment\n"
     ]
    },
    {
     "name": "stderr",
     "output_type": "stream",
     "text": [
      " 87%|████████▋ | 7201/8241 [01:55<00:18, 56.86it/s]"
     ]
    },
    {
     "name": "stdout",
     "output_type": "stream",
     "text": [
      "Change detected at: 7694 \n",
      "Initiate new segment\n"
     ]
    },
    {
     "name": "stderr",
     "output_type": "stream",
     "text": [
      "100%|██████████| 8241/8241 [02:11<00:00, 62.44it/s]\n"
     ]
    },
    {
     "name": "stdout",
     "output_type": "stream",
     "text": [
      "F1 score: 0.6666666666666665\n",
      "Covering: 0.6987334201393177\n",
      "0.675\n",
      "F1 score: 0.4444444444444445\n",
      "Covering: 0.6987334201393177\n",
      "0.45000000000000007\n",
      "F1 score: 0.4444444444444445\n",
      "Covering: 0.6987334201393177\n",
      "0.45000000000000007\n",
      "F1 score: 0.6666666666666665\n",
      "Covering: 0.6987334201393177\n",
      "0.675\n",
      "F1 score: 0.6666666666666665\n",
      "Covering: 0.6987334201393177\n",
      "0.675\n",
      "{'F1': 0.6666666666666665, 'Covering': 0.6987334201393177, 'AUC': 0.675, 'FP': 1, 'DD': 96.0}\n",
      "225\n"
     ]
    },
    {
     "name": "stderr",
     "output_type": "stream",
     "text": [
      " 36%|███▌      | 2394/6739 [00:39<01:09, 62.27it/s]"
     ]
    },
    {
     "name": "stdout",
     "output_type": "stream",
     "text": [
      "Change detected at: 2885 \n",
      "Initiate new segment\n"
     ]
    },
    {
     "name": "stderr",
     "output_type": "stream",
     "text": [
      " 56%|█████▌    | 3782/6739 [01:03<00:49, 60.17it/s]"
     ]
    },
    {
     "name": "stdout",
     "output_type": "stream",
     "text": [
      "Change detected at: 4273 \n",
      "Initiate new segment\n"
     ]
    },
    {
     "name": "stderr",
     "output_type": "stream",
     "text": [
      " 81%|████████▏ | 5487/6739 [01:32<00:20, 60.24it/s]"
     ]
    },
    {
     "name": "stdout",
     "output_type": "stream",
     "text": [
      "Change detected at: 5978 \n",
      "Initiate new segment\n"
     ]
    },
    {
     "name": "stderr",
     "output_type": "stream",
     "text": [
      "100%|██████████| 6739/6739 [01:53<00:00, 59.53it/s]\n"
     ]
    },
    {
     "name": "stdout",
     "output_type": "stream",
     "text": [
      "F1 score: 0.888888888888889\n",
      "Covering: 0.8021980341691818\n",
      "0.9\n",
      "F1 score: 0.888888888888889\n",
      "Covering: 0.8021980341691818\n",
      "0.9\n",
      "F1 score: 0.888888888888889\n",
      "Covering: 0.8021980341691818\n",
      "0.9\n",
      "F1 score: 0.888888888888889\n",
      "Covering: 0.8021980341691818\n",
      "0.9\n",
      "F1 score: 0.888888888888889\n",
      "Covering: 0.8021980341691818\n",
      "0.9\n",
      "{'F1': 0.888888888888889, 'Covering': 0.8021980341691818, 'AUC': 0.9, 'FP': 0, 'DD': 1.0}\n",
      "19\n"
     ]
    },
    {
     "name": "stderr",
     "output_type": "stream",
     "text": [
      "100%|██████████| 3797/3797 [01:05<00:00, 57.86it/s]\n"
     ]
    },
    {
     "name": "stdout",
     "output_type": "stream",
     "text": [
      "F1 score: 0.5\n",
      "Covering: 0.3339207967916108\n",
      "0.6666666666666667\n",
      "F1 score: 0.5\n",
      "Covering: 0.3339207967916108\n",
      "0.6666666666666667\n",
      "F1 score: 0.5\n",
      "Covering: 0.3339207967916108\n",
      "0.6666666666666667\n",
      "F1 score: 0.5\n",
      "Covering: 0.3339207967916108\n",
      "0.6666666666666667\n",
      "F1 score: 0.5\n",
      "Covering: 0.3339207967916108\n",
      "0.6666666666666667\n",
      "{'F1': 0.5, 'Covering': 0.3339207967916108, 'AUC': 0.6666666666666667, 'FP': 0, 'DD': 0}\n",
      "185\n"
     ]
    },
    {
     "name": "stderr",
     "output_type": "stream",
     "text": [
      " 13%|█▎        | 1036/7761 [00:17<01:49, 61.67it/s]"
     ]
    },
    {
     "name": "stdout",
     "output_type": "stream",
     "text": [
      "Change detected at: 1526 \n",
      "Initiate new segment\n",
      "Change detected at: 1528 \n",
      "Initiate new segment\n"
     ]
    },
    {
     "name": "stderr",
     "output_type": "stream",
     "text": [
      " 49%|████▉     | 3833/7761 [01:00<00:57, 68.03it/s]"
     ]
    },
    {
     "name": "stdout",
     "output_type": "stream",
     "text": [
      "Change detected at: 4321 \n",
      "Initiate new segment\n"
     ]
    },
    {
     "name": "stderr",
     "output_type": "stream",
     "text": [
      " 67%|██████▋   | 5193/7761 [01:19<00:34, 75.45it/s]"
     ]
    },
    {
     "name": "stdout",
     "output_type": "stream",
     "text": [
      "Change detected at: 5680 \n",
      "Initiate new segment\n"
     ]
    },
    {
     "name": "stderr",
     "output_type": "stream",
     "text": [
      " 83%|████████▎ | 6441/7761 [01:37<00:20, 64.47it/s]"
     ]
    },
    {
     "name": "stdout",
     "output_type": "stream",
     "text": [
      "Change detected at: 6931 \n",
      "Initiate new segment\n"
     ]
    },
    {
     "name": "stderr",
     "output_type": "stream",
     "text": [
      "100%|██████████| 7761/7761 [01:54<00:00, 67.90it/s] \n"
     ]
    },
    {
     "name": "stdout",
     "output_type": "stream",
     "text": [
      "F1 score: 0.8333333333333334\n",
      "Covering: 0.829612892665417\n",
      "0.8333333333333334\n",
      "F1 score: 0.8333333333333334\n",
      "Covering: 0.829612892665417\n",
      "0.8333333333333334\n",
      "F1 score: 0.8333333333333334\n",
      "Covering: 0.829612892665417\n",
      "0.8333333333333334\n",
      "F1 score: 0.8333333333333334\n",
      "Covering: 0.829612892665417\n",
      "0.8333333333333334\n",
      "F1 score: 0.8333333333333334\n",
      "Covering: 0.829612892665417\n",
      "0.8333333333333334\n",
      "{'F1': 0.8333333333333334, 'Covering': 0.829612892665417, 'AUC': 0.8333333333333334, 'FP': 0, 'DD': 3.2}\n",
      "33\n"
     ]
    },
    {
     "name": "stderr",
     "output_type": "stream",
     "text": [
      " 12%|█▏        | 929/7449 [00:11<01:40, 64.56it/s] "
     ]
    },
    {
     "name": "stdout",
     "output_type": "stream",
     "text": [
      "Change detected at: 1421 \n",
      "Initiate new segment\n"
     ]
    },
    {
     "name": "stderr",
     "output_type": "stream",
     "text": [
      " 34%|███▍      | 2520/7449 [00:37<01:23, 58.87it/s]"
     ]
    },
    {
     "name": "stdout",
     "output_type": "stream",
     "text": [
      "Change detected at: 3007 \n",
      "Initiate new segment\n"
     ]
    },
    {
     "name": "stderr",
     "output_type": "stream",
     "text": [
      " 52%|█████▏    | 3897/7449 [01:01<00:57, 61.38it/s]"
     ]
    },
    {
     "name": "stdout",
     "output_type": "stream",
     "text": [
      "Change detected at: 4390 \n",
      "Initiate new segment\n"
     ]
    },
    {
     "name": "stderr",
     "output_type": "stream",
     "text": [
      "100%|██████████| 7449/7449 [02:00<00:00, 61.68it/s]\n"
     ]
    },
    {
     "name": "stdout",
     "output_type": "stream",
     "text": [
      "F1 score: 0.8\n",
      "Covering: 0.7219857469274573\n",
      "0.8333333333333333\n",
      "F1 score: 0.8\n",
      "Covering: 0.7219857469274573\n",
      "0.8333333333333333\n",
      "F1 score: 0.8\n",
      "Covering: 0.7219857469274573\n",
      "0.8333333333333333\n",
      "F1 score: 0.8\n",
      "Covering: 0.7219857469274573\n",
      "0.8333333333333333\n",
      "F1 score: 0.8\n",
      "Covering: 0.7219857469274573\n",
      "0.8333333333333333\n",
      "{'F1': 0.8, 'Covering': 0.7219857469274573, 'AUC': 0.8333333333333333, 'FP': 0, 'DD': 9.0}\n",
      "36\n"
     ]
    },
    {
     "name": "stderr",
     "output_type": "stream",
     "text": [
      " 11%|█         | 1055/9963 [00:14<02:26, 60.85it/s]"
     ]
    },
    {
     "name": "stdout",
     "output_type": "stream",
     "text": [
      "Change detected at: 1548 \n",
      "Initiate new segment\n"
     ]
    },
    {
     "name": "stderr",
     "output_type": "stream",
     "text": [
      " 41%|████      | 4098/9963 [01:04<01:40, 58.26it/s]"
     ]
    },
    {
     "name": "stdout",
     "output_type": "stream",
     "text": [
      "Change detected at: 4591 \n",
      "Initiate new segment\n"
     ]
    },
    {
     "name": "stderr",
     "output_type": "stream",
     "text": [
      "100%|██████████| 9963/9963 [02:40<00:00, 61.92it/s]\n"
     ]
    },
    {
     "name": "stdout",
     "output_type": "stream",
     "text": [
      "F1 score: 0.6\n",
      "Covering: 0.4326497948382314\n",
      "0.7142857142857142\n",
      "F1 score: 0.6\n",
      "Covering: 0.4326497948382314\n",
      "0.7142857142857142\n",
      "F1 score: 0.6\n",
      "Covering: 0.4326497948382314\n",
      "0.7142857142857142\n",
      "F1 score: 0.6\n",
      "Covering: 0.4326497948382314\n",
      "0.7142857142857142\n",
      "F1 score: 0.6\n",
      "Covering: 0.4326497948382314\n",
      "0.7142857142857142\n",
      "{'F1': 0.6, 'Covering': 0.4326497948382314, 'AUC': 0.7142857142857142, 'FP': 0, 'DD': 3.5}\n",
      "87\n"
     ]
    },
    {
     "name": "stderr",
     "output_type": "stream",
     "text": [
      "100%|██████████| 3062/3062 [00:48<00:00, 63.11it/s]\n"
     ]
    },
    {
     "name": "stdout",
     "output_type": "stream",
     "text": [
      "F1 score: 0.6666666666666666\n",
      "Covering: 0.5314433619350193\n",
      "0.75\n",
      "F1 score: 0.6666666666666666\n",
      "Covering: 0.5314433619350193\n",
      "0.75\n",
      "F1 score: 0.6666666666666666\n",
      "Covering: 0.5314433619350193\n",
      "0.75\n",
      "F1 score: 0.6666666666666666\n",
      "Covering: 0.5314433619350193\n",
      "0.75\n",
      "F1 score: 0.6666666666666666\n",
      "Covering: 0.5314433619350193\n",
      "0.75\n",
      "{'F1': 0.6666666666666666, 'Covering': 0.5314433619350193, 'AUC': 0.75, 'FP': 0, 'DD': 0}\n",
      "88\n"
     ]
    },
    {
     "name": "stderr",
     "output_type": "stream",
     "text": [
      "100%|██████████| 3947/3947 [01:01<00:00, 64.37it/s] \n"
     ]
    },
    {
     "name": "stdout",
     "output_type": "stream",
     "text": [
      "F1 score: 0.6666666666666666\n",
      "Covering: 0.6193302991726175\n",
      "0.75\n",
      "F1 score: 0.6666666666666666\n",
      "Covering: 0.6193302991726175\n",
      "0.75\n",
      "F1 score: 0.6666666666666666\n",
      "Covering: 0.6193302991726175\n",
      "0.75\n",
      "F1 score: 0.6666666666666666\n",
      "Covering: 0.6193302991726175\n",
      "0.75\n",
      "F1 score: 0.6666666666666666\n",
      "Covering: 0.6193302991726175\n",
      "0.75\n",
      "{'F1': 0.6666666666666666, 'Covering': 0.6193302991726175, 'AUC': 0.75, 'FP': 0, 'DD': 0}\n",
      "210\n"
     ]
    },
    {
     "name": "stderr",
     "output_type": "stream",
     "text": [
      " 34%|███▍      | 797/2361 [00:13<00:25, 60.28it/s]"
     ]
    },
    {
     "name": "stdout",
     "output_type": "stream",
     "text": [
      "Change detected at: 1291 \n",
      "Initiate new segment\n"
     ]
    },
    {
     "name": "stderr",
     "output_type": "stream",
     "text": [
      "100%|██████████| 2361/2361 [00:39<00:00, 60.49it/s]\n"
     ]
    },
    {
     "name": "stdout",
     "output_type": "stream",
     "text": [
      "F1 score: 1.0\n",
      "Covering: 0.9993009701375309\n",
      "1.0\n",
      "F1 score: 1.0\n",
      "Covering: 0.9993009701375309\n",
      "1.0\n",
      "F1 score: 1.0\n",
      "Covering: 0.9993009701375309\n",
      "1.0\n",
      "F1 score: 1.0\n",
      "Covering: 0.9993009701375309\n",
      "1.0\n",
      "F1 score: 1.0\n",
      "Covering: 0.9993009701375309\n",
      "1.0\n",
      "{'F1': 1.0, 'Covering': 0.9993009701375309, 'AUC': 1.0, 'FP': 0, 'DD': 1.0}\n",
      "11\n"
     ]
    },
    {
     "name": "stderr",
     "output_type": "stream",
     "text": [
      " 35%|███▌      | 1033/2924 [00:17<00:36, 51.92it/s]"
     ]
    },
    {
     "name": "stdout",
     "output_type": "stream",
     "text": [
      "Change detected at: 1526 \n",
      "Initiate new segment\n"
     ]
    },
    {
     "name": "stderr",
     "output_type": "stream",
     "text": [
      "100%|██████████| 2924/2924 [00:48<00:00, 60.80it/s]\n"
     ]
    },
    {
     "name": "stdout",
     "output_type": "stream",
     "text": [
      "F1 score: 0.8\n",
      "Covering: 0.8056260760098357\n",
      "0.8333333333333333\n",
      "F1 score: 0.8\n",
      "Covering: 0.8056260760098357\n",
      "0.8333333333333333\n",
      "F1 score: 0.8\n",
      "Covering: 0.8056260760098357\n",
      "0.8333333333333333\n",
      "F1 score: 0.8\n",
      "Covering: 0.8056260760098357\n",
      "0.8333333333333333\n",
      "F1 score: 0.8\n",
      "Covering: 0.8056260760098357\n",
      "0.8333333333333333\n",
      "{'F1': 0.8, 'Covering': 0.8056260760098357, 'AUC': 0.8333333333333333, 'FP': 0, 'DD': 13.0}\n",
      "20\n"
     ]
    },
    {
     "name": "stderr",
     "output_type": "stream",
     "text": [
      " 66%|██████▌   | 2635/4005 [00:39<00:17, 76.52it/s]"
     ]
    },
    {
     "name": "stdout",
     "output_type": "stream",
     "text": [
      "Change detected at: 3126 \n",
      "Initiate new segment\n"
     ]
    },
    {
     "name": "stderr",
     "output_type": "stream",
     "text": [
      "100%|██████████| 4005/4005 [00:58<00:00, 68.39it/s]\n"
     ]
    },
    {
     "name": "stdout",
     "output_type": "stream",
     "text": [
      "Change detected at: 4500 \n",
      "Initiate new segment\n",
      "F1 score: 0.6666666666666666\n",
      "Covering: 0.651887239777765\n",
      "0.6666666666666666\n",
      "F1 score: 0.6666666666666666\n",
      "Covering: 0.651887239777765\n",
      "0.6666666666666666\n",
      "F1 score: 0.6666666666666666\n",
      "Covering: 0.651887239777765\n",
      "0.6666666666666666\n",
      "F1 score: 0.6666666666666666\n",
      "Covering: 0.651887239777765\n",
      "0.6666666666666666\n",
      "F1 score: 0.6666666666666666\n",
      "Covering: 0.651887239777765\n",
      "0.6666666666666666\n",
      "{'F1': 0.6666666666666666, 'Covering': 0.651887239777765, 'AUC': 0.6666666666666666, 'FP': 1, 'DD': 688.0}\n",
      "23\n"
     ]
    },
    {
     "name": "stderr",
     "output_type": "stream",
     "text": [
      " 42%|████▏     | 953/2282 [00:13<00:17, 74.16it/s]"
     ]
    },
    {
     "name": "stdout",
     "output_type": "stream",
     "text": [
      "Change detected at: 1444 \n",
      "Initiate new segment\n"
     ]
    },
    {
     "name": "stderr",
     "output_type": "stream",
     "text": [
      " 63%|██████▎   | 1444/2282 [00:20<00:11, 75.88it/s]"
     ]
    },
    {
     "name": "stdout",
     "output_type": "stream",
     "text": [
      "Change detected at: 1931 \n",
      "Initiate new segment\n"
     ]
    },
    {
     "name": "stderr",
     "output_type": "stream",
     "text": [
      "100%|██████████| 2282/2282 [00:31<00:00, 72.59it/s]\n"
     ]
    },
    {
     "name": "stdout",
     "output_type": "stream",
     "text": [
      "F1 score: 1.0\n",
      "Covering: 0.9501523348940841\n",
      "1.0\n",
      "F1 score: 0.6666666666666666\n",
      "Covering: 0.9501523348940841\n",
      "0.6666666666666666\n",
      "F1 score: 0.6666666666666666\n",
      "Covering: 0.9501523348940841\n",
      "0.6666666666666666\n",
      "F1 score: 1.0\n",
      "Covering: 0.9501523348940841\n",
      "1.0\n",
      "F1 score: 1.0\n",
      "Covering: 0.9501523348940841\n",
      "1.0\n",
      "{'F1': 1.0, 'Covering': 0.9501523348940841, 'AUC': 1.0, 'FP': 0, 'DD': 37.5}\n",
      "243\n"
     ]
    },
    {
     "name": "stderr",
     "output_type": "stream",
     "text": [
      " 31%|███       | 1125/3612 [00:15<00:35, 69.73it/s]"
     ]
    },
    {
     "name": "stdout",
     "output_type": "stream",
     "text": [
      "Change detected at: 1612 \n",
      "Initiate new segment\n"
     ]
    },
    {
     "name": "stderr",
     "output_type": "stream",
     "text": [
      " 69%|██████▉   | 2493/3612 [00:34<00:13, 81.19it/s]"
     ]
    },
    {
     "name": "stdout",
     "output_type": "stream",
     "text": [
      "Change detected at: 2980 \n",
      "Initiate new segment\n"
     ]
    },
    {
     "name": "stderr",
     "output_type": "stream",
     "text": [
      "100%|██████████| 3612/3612 [00:50<00:00, 71.83it/s]\n"
     ]
    },
    {
     "name": "stdout",
     "output_type": "stream",
     "text": [
      "F1 score: 1.0\n",
      "Covering: 0.9990275069977558\n",
      "1.0\n",
      "F1 score: 1.0\n",
      "Covering: 0.9990275069977558\n",
      "1.0\n",
      "F1 score: 1.0\n",
      "Covering: 0.9990275069977558\n",
      "1.0\n",
      "F1 score: 1.0\n",
      "Covering: 0.9990275069977558\n",
      "1.0\n",
      "F1 score: 1.0\n",
      "Covering: 0.9990275069977558\n",
      "1.0\n",
      "{'F1': 1.0, 'Covering': 0.9990275069977558, 'AUC': 1.0, 'FP': 0, 'DD': 1.0}\n",
      "247\n"
     ]
    },
    {
     "name": "stderr",
     "output_type": "stream",
     "text": [
      " 77%|███████▋  | 1278/1658 [00:19<00:05, 68.12it/s]"
     ]
    },
    {
     "name": "stdout",
     "output_type": "stream",
     "text": [
      "Change detected at: 1770 \n",
      "Initiate new segment\n"
     ]
    },
    {
     "name": "stderr",
     "output_type": "stream",
     "text": [
      "100%|██████████| 1658/1658 [00:24<00:00, 67.55it/s]\n"
     ]
    },
    {
     "name": "stdout",
     "output_type": "stream",
     "text": [
      "F1 score: 0.8\n",
      "Covering: 0.6495311662854052\n",
      "0.8333333333333333\n",
      "F1 score: 0.8\n",
      "Covering: 0.6495311662854052\n",
      "0.8333333333333333\n",
      "F1 score: 0.8\n",
      "Covering: 0.6495311662854052\n",
      "0.8333333333333333\n",
      "F1 score: 0.8\n",
      "Covering: 0.6495311662854052\n",
      "0.8333333333333333\n",
      "F1 score: 0.8\n",
      "Covering: 0.6495311662854052\n",
      "0.8333333333333333\n",
      "{'F1': 0.8, 'Covering': 0.6495311662854052, 'AUC': 0.8333333333333333, 'FP': 0, 'DD': 8.0}\n",
      "91\n"
     ]
    },
    {
     "name": "stderr",
     "output_type": "stream",
     "text": [
      "100%|██████████| 2262/2262 [00:33<00:00, 67.83it/s] \n"
     ]
    },
    {
     "name": "stdout",
     "output_type": "stream",
     "text": [
      "F1 score: 1.0\n",
      "Covering: 1.0\n",
      "1.0\n",
      "F1 score: 1.0\n",
      "Covering: 1.0\n",
      "1.0\n",
      "F1 score: 1.0\n",
      "Covering: 1.0\n",
      "1.0\n",
      "F1 score: 1.0\n",
      "Covering: 1.0\n",
      "1.0\n",
      "F1 score: 1.0\n",
      "Covering: 1.0\n",
      "1.0\n",
      "{'F1': 1.0, 'Covering': 1.0, 'AUC': 1.0, 'FP': 0, 'DD': 0}\n",
      "95\n",
      "96\n"
     ]
    },
    {
     "name": "stderr",
     "output_type": "stream",
     "text": [
      "100%|██████████| 638/638 [00:07<00:00, 84.50it/s] \n"
     ]
    },
    {
     "name": "stdout",
     "output_type": "stream",
     "text": [
      "F1 score: 1.0\n",
      "Covering: 1.0\n",
      "1.0\n",
      "F1 score: 1.0\n",
      "Covering: 1.0\n",
      "1.0\n",
      "F1 score: 1.0\n",
      "Covering: 1.0\n",
      "1.0\n",
      "F1 score: 1.0\n",
      "Covering: 1.0\n",
      "1.0\n",
      "F1 score: 1.0\n",
      "Covering: 1.0\n",
      "1.0\n",
      "{'F1': 1.0, 'Covering': 1.0, 'AUC': 1.0, 'FP': 0, 'DD': 0}\n",
      "100\n"
     ]
    },
    {
     "name": "stderr",
     "output_type": "stream",
     "text": [
      "100%|██████████| 455/455 [00:06<00:00, 69.03it/s]\n"
     ]
    },
    {
     "name": "stdout",
     "output_type": "stream",
     "text": [
      "F1 score: 1.0\n",
      "Covering: 1.0\n",
      "1.0\n",
      "F1 score: 1.0\n",
      "Covering: 1.0\n",
      "1.0\n",
      "F1 score: 1.0\n",
      "Covering: 1.0\n",
      "1.0\n",
      "F1 score: 1.0\n",
      "Covering: 1.0\n",
      "1.0\n",
      "F1 score: 1.0\n",
      "Covering: 1.0\n",
      "1.0\n",
      "{'F1': 1.0, 'Covering': 1.0, 'AUC': 1.0, 'FP': 0, 'DD': 0}\n",
      "141\n"
     ]
    },
    {
     "name": "stderr",
     "output_type": "stream",
     "text": [
      "100%|██████████| 5701/5701 [01:35<00:00, 59.79it/s]\n"
     ]
    },
    {
     "name": "stdout",
     "output_type": "stream",
     "text": [
      "F1 score: 1.0\n",
      "Covering: 1.0\n",
      "1.0\n",
      "F1 score: 1.0\n",
      "Covering: 1.0\n",
      "1.0\n",
      "F1 score: 1.0\n",
      "Covering: 1.0\n",
      "1.0\n",
      "F1 score: 1.0\n",
      "Covering: 1.0\n",
      "1.0\n",
      "F1 score: 1.0\n",
      "Covering: 1.0\n",
      "1.0\n",
      "{'F1': 1.0, 'Covering': 1.0, 'AUC': 1.0, 'FP': 0, 'DD': 0}\n",
      "91\n"
     ]
    },
    {
     "name": "stderr",
     "output_type": "stream",
     "text": [
      "100%|██████████| 2262/2262 [00:37<00:00, 60.33it/s]\n"
     ]
    },
    {
     "name": "stdout",
     "output_type": "stream",
     "text": [
      "F1 score: 1.0\n",
      "Covering: 1.0\n",
      "1.0\n",
      "F1 score: 1.0\n",
      "Covering: 1.0\n",
      "1.0\n",
      "F1 score: 1.0\n",
      "Covering: 1.0\n",
      "1.0\n",
      "F1 score: 1.0\n",
      "Covering: 1.0\n",
      "1.0\n",
      "F1 score: 1.0\n",
      "Covering: 1.0\n",
      "1.0\n",
      "{'F1': 1.0, 'Covering': 1.0, 'AUC': 1.0, 'FP': 0, 'DD': 0}\n",
      "95\n",
      "245\n"
     ]
    },
    {
     "name": "stderr",
     "output_type": "stream",
     "text": [
      "100%|██████████| 804/804 [00:11<00:00, 69.63it/s]"
     ]
    },
    {
     "name": "stdout",
     "output_type": "stream",
     "text": [
      "F1 score: 1.0\n",
      "Covering: 1.0\n",
      "1.0\n",
      "F1 score: 1.0\n",
      "Covering: 1.0\n",
      "1.0\n",
      "F1 score: 1.0\n",
      "Covering: 1.0\n",
      "1.0\n",
      "F1 score: 1.0\n",
      "Covering: 1.0\n",
      "1.0\n",
      "F1 score: 1.0\n",
      "Covering: 1.0\n",
      "1.0\n",
      "{'F1': 1.0, 'Covering': 1.0, 'AUC': 1.0, 'FP': 0, 'DD': 0}\n"
     ]
    },
    {
     "name": "stderr",
     "output_type": "stream",
     "text": [
      "\n"
     ]
    }
   ],
   "source": [
    "IDs = [10,14,7,182,225,19,185,33,36,87,88,210,11,20,23,243,247,91,95,96,100,141,91,95,245]\n",
    "\n",
    "METRICS_SWD = {}\n",
    "METRICS_SWD_25 = {}\n",
    "METRICS_SWD_50 = {}\n",
    "METRICS_SWD_150 = {}\n",
    "METRICS_SWD_200 = {}\n",
    "for id in IDs:\n",
    "    print(id)\n",
    "    METRICS_SWD[id]  = {}\n",
    "    METRICS_SWD_25[id]  = {}\n",
    "    METRICS_SWD_50[id]  = {}\n",
    "    METRICS_SWD_150[id]  = {}\n",
    "    METRICS_SWD_200[id]  = {}\n",
    "    df, GroundTruth = prepare_data(df_TS,8,id)\n",
    "    if df.shape[0]<500:\n",
    "        continue\n",
    "    detector = SWDCP(data=df.to_numpy(),window_length=500,max_history=20)\n",
    "    detector.process_dataloader()\n",
    "    f1,Cover, AUC,fp,delay = detector.evaluate(GroundTruth,tolerance=100)\n",
    "    METRICS_SWD[id]['F1'] =f1\n",
    "    METRICS_SWD[id]['Covering'] = Cover\n",
    "    METRICS_SWD[id]['AUC'] = AUC\n",
    "    METRICS_SWD[id]['FP'] = fp\n",
    "    METRICS_SWD[id]['DD'] = delay[1]\n",
    "\n",
    "    f1,Cover, AUC,fp,delay = detector.evaluate(GroundTruth,tolerance=25)\n",
    "    METRICS_SWD_25[id]['F1'] =f1\n",
    "    METRICS_SWD_25[id]['Covering'] = Cover\n",
    "    METRICS_SWD_25[id]['AUC'] = AUC\n",
    "    METRICS_SWD_25[id]['FP'] = fp\n",
    "    METRICS_SWD_25[id]['DD'] = delay[1]\n",
    "\n",
    "    f1,Cover, AUC,fp,delay = detector.evaluate(GroundTruth,tolerance=50)\n",
    "    METRICS_SWD_50[id]['F1'] =f1\n",
    "    METRICS_SWD_50[id]['Covering'] = Cover\n",
    "    METRICS_SWD_50[id]['AUC'] = AUC\n",
    "    METRICS_SWD_50[id]['FP'] = fp\n",
    "    METRICS_SWD_50[id]['DD'] = delay[1]\n",
    "\n",
    "    f1,Cover, AUC,fp,delay = detector.evaluate(GroundTruth,tolerance=150)\n",
    "    METRICS_SWD_150[id]['F1'] =f1\n",
    "    METRICS_SWD_150[id]['Covering'] = Cover\n",
    "    METRICS_SWD_150[id]['AUC'] = AUC\n",
    "    METRICS_SWD_150[id]['FP'] = fp\n",
    "    METRICS_SWD_150[id]['DD'] = delay[1]\n",
    "\n",
    "    f1,Cover, AUC,fp,delay = detector.evaluate(GroundTruth,tolerance=200)\n",
    "    METRICS_SWD_200[id]['F1'] =f1\n",
    "    METRICS_SWD_200[id]['Covering'] = Cover\n",
    "    METRICS_SWD_200[id]['AUC'] = AUC\n",
    "    METRICS_SWD_200[id]['FP'] = fp\n",
    "    METRICS_SWD_200[id]['DD'] = delay[1]\n",
    "\n",
    "\n",
    "    print(METRICS_SWD[id])\n"
   ]
  },
  {
   "cell_type": "code",
   "execution_count": 6,
   "metadata": {},
   "outputs": [
    {
     "name": "stdout",
     "output_type": "stream",
     "text": [
      "F1 0.8455988455988457 0.1553457237021786\n",
      "Cov 0.7962684595412455 0.19821524615368347\n",
      "AUC 0.8729978354978356 0.12284337608467708\n",
      "DD 39.70227272727273 142.97120695287558 0.0 688.0\n",
      "FP 0.09090909090909091 0.2874797872880344 0 1\n"
     ]
    }
   ],
   "source": [
    "f1,cov,AUC,DD,FP = [],[],[],[],[]\n",
    "for k,metrics in METRICS_SWD.items():\n",
    "    if len(metrics)>1:\n",
    "        f1.append(metrics['F1'])\n",
    "        cov.append(metrics['Covering'])\n",
    "        AUC.append(metrics['AUC'])\n",
    "        DD.append(metrics['DD'])\n",
    "        FP.append(metrics['FP'])\n",
    "\n",
    "print('F1',np.mean(f1),np.std(f1))\n",
    "print('Cov',np.mean(cov),np.std(cov))\n",
    "print('AUC',np.mean(AUC),np.std(AUC))\n",
    "print('DD',np.mean(DD),np.std(DD),np.min(DD),np.max(DD))\n",
    "print('FP',np.mean(FP),np.std(FP),np.min(FP),np.max(FP))"
   ]
  },
  {
   "cell_type": "code",
   "execution_count": null,
   "metadata": {},
   "outputs": [
    {
     "data": {
      "image/png": "[encoded data removed]",
      "text/plain": [
       "<Figure size 1000x500 with 3 Axes>"
      ]
     },
     "metadata": {},
     "output_type": "display_data"
    }
   ],
   "source": [
    "from matplotlib.pyplot import GridSpec\n",
    "groups = []\n",
    "ind_out = []\n",
    "lengths = []\n",
    "for id in IDs:\n",
    "    groups.append(len(df_TS.iloc[id].change_points))\n",
    "    ind_out.append(df_TS.iloc[id].group)\n",
    "    lengths.append(df_TS.iloc[id]['x-acc'].shape[0])\n",
    "\n",
    "\n",
    "\n",
    "fig = plt.figure(figsize=(10,5))\n",
    "\n",
    "gs = GridSpec(2,2)\n",
    "\n",
    "ax1 = fig.add_subplot(gs[:, 0])\n",
    "pd_plot1 = pd.Series(groups).value_counts()\n",
    "pd_plot1.plot(kind='bar',edgecolor='black',color='grey',alpha=0.75,lw=2,ax=ax1)\n",
    "ax1.set_xlabel('Number of Change Points',fontsize=15)\n",
    "ax2 = fig.add_subplot(gs[:1, 1])\n",
    "pd.Series(ind_out).value_counts().plot(kind='barh',edgecolor='black',color='grey',alpha=0.75,lw=2,ax=ax2)\n",
    "ax3 = fig.add_subplot(gs[1:,1])\n",
    "\n",
    "df_plot3 = pd.DataFrame({'groups':groups,'n_obs':lengths}).groupby(['groups']).mean()\n",
    "df_plot3.columns.values[0] = 'Avg. n_obs'\n",
    "df_plot3.plot(kind='bar',ax=ax3,legend=False,edgecolor='black',color='grey',alpha=0.75,lw=2)\n",
    "ax3.legend(fontsize=15)\n",
    "ax3.set_xlabel('Groups',fontsize=15)\n",
    "fig.tight_layout()"
   ]
  },
  {
   "cell_type": "code",
   "execution_count": 5,
   "metadata": {},
   "outputs": [],
   "source": [
    "fig.savefig('HASC_appendix_analysis.pdf')"
   ]
  },
  {
   "cell_type": "code",
   "execution_count": 58,
   "metadata": {},
   "outputs": [],
   "source": [
    "from claspy.segmentation import BinaryClaSPSegmentation\n",
    "from claspy.data_loader import load_has_dataset\n",
    "df_TS_CL = load_has_dataset()"
   ]
  },
  {
   "cell_type": "code",
   "execution_count": 93,
   "metadata": {},
   "outputs": [
    {
     "name": "stdout",
     "output_type": "stream",
     "text": [
      "10\n",
      "14\n",
      "7\n",
      "182\n",
      "225\n",
      "19\n",
      "185\n",
      "33\n",
      "36\n",
      "87\n",
      "88\n",
      "210\n",
      "11\n",
      "20\n",
      "23\n",
      "243\n",
      "247\n",
      "91\n",
      "95\n",
      "96\n",
      "100\n",
      "141\n"
     ]
    },
    {
     "name": "stderr",
     "output_type": "stream",
     "text": [
      "c:\\Users\\Sven Jacob\\miniconda3\\envs\\torch\\Lib\\site-packages\\claspy\\segmentation.py:212: UserWarning: Time series must at least have 2*min_seg_size data points for segmentation. Try setting a smaller window size.\n",
      "  warnings.warn(\n"
     ]
    },
    {
     "name": "stdout",
     "output_type": "stream",
     "text": [
      "91\n",
      "95\n",
      "245\n"
     ]
    },
    {
     "name": "stderr",
     "output_type": "stream",
     "text": [
      "c:\\Users\\Sven Jacob\\miniconda3\\envs\\torch\\Lib\\site-packages\\claspy\\segmentation.py:212: UserWarning: Time series must at least have 2*min_seg_size data points for segmentation. Try setting a smaller window size.\n",
      "  warnings.warn(\n"
     ]
    }
   ],
   "source": [
    "METRICS = {}\n",
    "METRICS_C_25 = {}\n",
    "METRICS_C_50 = {}\n",
    "METRICS_C_150 = {}\n",
    "METRICS_C_200 = {}\n",
    "\n",
    "IDs = [10,14,7,182,225,19,185,33,36,87,88,210,11,20,23,243,247,91,95,96,100,141,91,95,245]\n",
    "\n",
    "for id in IDs:\n",
    "    print(id)\n",
    "    METRICS[id]  = {}\n",
    "    METRICS_C_25[id] = {}\n",
    "    METRICS_C_50[id] = {}\n",
    "    METRICS_C_150[id] = {}\n",
    "    METRICS_C_200[id] = {}\n",
    "\n",
    "    dataset, window_size, true_cps,labels, time_series = df_TS_CL.iloc[id,:]\n",
    "\n",
    "    clasp = BinaryClaSPSegmentation(window_size=window_size).fit(time_series)\n",
    "    f1,AUC_run,fp = f_measure({'0':true_cps},clasp.change_points,100)\n",
    "    METRICS[id]['F1'] = f1\n",
    "    METRICS[id]['AUC'] = AUC_run\n",
    "    METRICS[id]['Covering'] = covering({'0':true_cps},clasp.change_points,time_series.shape[0])\n",
    "    METRICS[id]['FP'] = fp\n",
    "    METRICS[id]['DD'] = detection_delay(true_cps,clasp.change_points)[1]\n",
    "\n",
    "    f1,AUC_run,fp = f_measure({'0':true_cps},clasp.change_points,25)\n",
    "    METRICS_C_25[id]['F1'] = f1\n",
    "    METRICS_C_25[id]['AUC'] = AUC_run\n",
    "    METRICS_C_25[id]['Covering'] = covering({'0':true_cps},clasp.change_points,time_series.shape[0])\n",
    "    METRICS_C_25[id]['FP'] = fp\n",
    "    METRICS_C_25[id]['DD'] = detection_delay(true_cps,clasp.change_points)[1]\n",
    "\n",
    "\n",
    "    f1,AUC_run,fp = f_measure({'0':true_cps},clasp.change_points,50)\n",
    "    METRICS_C_50[id]['F1'] = f1\n",
    "    METRICS_C_50[id]['AUC'] = AUC_run\n",
    "    METRICS_C_50[id]['Covering'] = covering({'0':true_cps},clasp.change_points,time_series.shape[0])\n",
    "    METRICS_C_50[id]['FP'] = fp\n",
    "    METRICS_C_50[id]['DD'] = detection_delay(true_cps,clasp.change_points)[1]\n",
    "\n",
    "\n",
    "\n",
    "    f1,AUC_run,fp = f_measure({'0':true_cps},clasp.change_points,150)\n",
    "    METRICS_C_150[id]['F1'] = f1\n",
    "    METRICS_C_150[id]['AUC'] = AUC_run\n",
    "    METRICS_C_150[id]['Covering'] = covering({'0':true_cps},clasp.change_points,time_series.shape[0])\n",
    "    METRICS_C_150[id]['FP'] = fp\n",
    "    METRICS_C_150[id]['DD'] = detection_delay(true_cps,clasp.change_points)[1]\n",
    "\n",
    "\n",
    "    f1,AUC_run,fp = f_measure({'0':true_cps},clasp.change_points,200)\n",
    "    METRICS_C_200[id]['F1'] = f1\n",
    "    METRICS_C_200[id]['AUC'] = AUC_run\n",
    "    METRICS_C_200[id]['Covering'] = covering({'0':true_cps},clasp.change_points,time_series.shape[0])\n",
    "    METRICS_C_200[id]['FP'] = fp\n",
    "    METRICS_C_200[id]['DD'] = detection_delay(true_cps,clasp.change_points)[1]\n",
    "\n"
   ]
  },
  {
   "cell_type": "code",
   "execution_count": 36,
   "metadata": {},
   "outputs": [
    {
     "name": "stdout",
     "output_type": "stream",
     "text": [
      "F1 0.8042124542124544 0.167022026210334\n",
      "Cov 0.7881114826696931 0.17667086724406597\n",
      "AUC 0.8384575569358179 0.14533031504503635\n",
      "DD 180.53695652173914 290.0899456114319 0.0 1054.6666666666667\n",
      "FP 0.782608695652174 1.0196555999616153 0 4\n"
     ]
    }
   ],
   "source": [
    "f1_CL,cov_CL, AUC_CL, DD_CL, FP_CL = [],[], [], [],[]\n",
    "for k,metrics in METRICS.items():\n",
    "    f1_CL.append(metrics['F1'])\n",
    "    cov_CL.append(metrics['Covering'])\n",
    "    AUC_CL.append(metrics['AUC'])\n",
    "    DD_CL.append(metrics['DD'])\n",
    "    FP_CL.append(metrics['FP'])\n",
    "\n",
    "print('F1',np.mean(f1_CL),np.std(f1_CL))\n",
    "print('Cov',np.mean(cov_CL),np.std(cov_CL))\n",
    "print('AUC',np.mean(AUC_CL),np.std(AUC_CL))\n",
    "print('DD',np.mean(DD_CL),np.std(DD_CL),np.min(DD_CL),np.max(DD_CL))\n",
    "print('FP',np.mean(FP_CL),np.std(FP_CL),np.min(FP_CL),np.max(FP_CL))"
   ]
  },
  {
   "cell_type": "code",
   "execution_count": null,
   "metadata": {},
   "outputs": [
    {
     "name": "stdout",
     "output_type": "stream",
     "text": [
      "F1 0.6354515050167223 0.17308053116279057\n",
      "Cov 0.5717929037873651 0.18587539065156664\n",
      "AUC 0.7340419242593156 0.1150117764742446\n",
      "DD 357.5037474602692 1264.857142857143 0.0\n",
      "FP 3.739130434782609 2.3630744768175984 8 0\n"
     ]
    }
   ],
   "source": [
    "import json\n",
    "from utilsCPD import *\n",
    "\n",
    "with open(\"./R/res/HASC_ECP.json\") as f:\n",
    "    res = json.load(f)\n",
    "\n",
    "METRICS_ECP = {}\n",
    "\n",
    "for id, cps_ecp in res.items():\n",
    "    METRICS_ECP[id]  = {}\n",
    "    _, _, true_cps,_, time_series = df_TS_CL.iloc[int(id),:]\n",
    "\n",
    "    f1,AUC_run,fp = f_measure({'0':true_cps},cps_ecp[1:-1],100)\n",
    "    METRICS_ECP[id]['F1'] = f1\n",
    "    METRICS_ECP[id]['AUC'] = AUC_run\n",
    "    METRICS_ECP[id]['Covering'] = covering({'0':true_cps},cps_ecp[1:-1],time_series.shape[0])\n",
    "    METRICS_ECP[id]['FP'] = fp\n",
    "    METRICS_ECP[id]['DD'] = detection_delay(true_cps,cps_ecp[1:-1])[1]\n",
    "   \n",
    "f1,cov, AUC, DD, FP = [],[], [], [],[]\n",
    "for k,metrics in METRICS_ECP.items():\n",
    "    f1.append(metrics['F1'])\n",
    "    cov.append(metrics['Covering'])\n",
    "    AUC.append(metrics['AUC'])\n",
    "    DD.append(metrics['DD'])\n",
    "    FP.append(metrics['FP'])\n",
    "\n",
    "print('F1',np.mean(f1),np.std(f1))\n",
    "print('Cov',np.mean(cov),np.std(cov))\n",
    "print('AUC',np.mean(AUC),np.std(AUC))\n",
    "print('DD',np.mean(DD),np.max(DD),np.min(DD))\n",
    "print('FP',np.mean(FP),np.std(FP),np.max(FP),np.min(FP))"
   ]
  },
  {
   "cell_type": "code",
   "execution_count": 59,
   "metadata": {},
   "outputs": [
    {
     "name": "stdout",
     "output_type": "stream",
     "text": [
      "F1 0.4201986701788573 0.22649722213348408\n",
      "Cov 0.6565344410952614 0.24443277353017626\n",
      "AUC 0.6471897444922078 0.09960024847440418\n",
      "DD 445.2578348522582 1866.625 0.0\n",
      "FP 9.043478260869565 10.22136832867288 46 0\n"
     ]
    }
   ],
   "source": [
    "import json\n",
    "from utilsCPD import *\n",
    "\n",
    "with open(\"./R/res/HASC_BOCPD.json\") as f:\n",
    "    res = json.load(f)\n",
    "\n",
    "METRICS_BOCPD = {}\n",
    "\n",
    "for id, cps_bocpd in res.items():\n",
    "    METRICS_BOCPD[id]  = {}\n",
    "    _, _, true_cps,_, time_series = df_TS_CL.iloc[int(id),:]\n",
    "    f1,AUC_run,fp = f_measure({'0':true_cps},cps_bocpd[0],100)\n",
    "    METRICS_BOCPD[id]['F1'] = f1\n",
    "    METRICS_BOCPD[id]['AUC'] = AUC_run\n",
    "    METRICS_BOCPD[id]['Covering'] = covering({'0':true_cps},cps_bocpd[0],time_series.shape[0])\n",
    "    METRICS_BOCPD[id]['FP'] = fp\n",
    "    METRICS_BOCPD[id]['DD'] = detection_delay(true_cps,cps_bocpd[0])[1]\n",
    "\n",
    "   \n",
    "f1,cov, AUC, DD, FP = [],[], [], [],[]\n",
    "for k,metrics in METRICS_BOCPD.items():\n",
    "    f1.append(metrics['F1'])\n",
    "    cov.append(metrics['Covering'])\n",
    "    AUC.append(metrics['AUC'])\n",
    "    DD.append(metrics['DD'])\n",
    "    FP.append(metrics['FP'])\n",
    "\n",
    "print('F1',np.mean(f1),np.std(f1))\n",
    "print('Cov',np.mean(cov),np.std(cov))\n",
    "print('AUC',np.mean(AUC),np.std(AUC))\n",
    "print('DD',np.mean(DD),np.max(DD),np.min(DD))\n",
    "print('FP',np.mean(FP),np.std(FP),np.max(FP),np.min(FP))\n"
   ]
  },
  {
   "cell_type": "markdown",
   "metadata": {},
   "source": [
    "#### Result\n",
    "\n",
    "\n",
    "| METHOD  | DD (min;max) | FP (min;max) |\n",
    "|-------------|----------|-----------|\n",
    "| SWD (ours)        | 39 (0;688)  | 0.09 (0;1) |\n",
    "| ECP         | 357 (0;1264) | 3.8 (0;8)  |\n",
    "| KCPA         |334 (0;1540) | 14 (0;47) |\n",
    "| CLasP         | 180 (0;1054) |0.78 (0;4) |\n",
    "| BOCPD         | 445 (0;1866)  | 9 (0;46) |"
   ]
  },
  {
   "cell_type": "code",
   "execution_count": 209,
   "metadata": {},
   "outputs": [
    {
     "data": {
      "image/png": "[encoded data removed]",
      "text/plain": [
       "<Figure size 1600x800 with 8 Axes>"
      ]
     },
     "metadata": {},
     "output_type": "display_data"
    }
   ],
   "source": [
    "import matplotlib.pyplot as plt\n",
    "from matplotlib.gridspec import GridSpec\n",
    "import numpy as np\n",
    "from matplotlib.ticker import FuncFormatter\n",
    "\n",
    "\n",
    "fig = plt.figure(figsize=(16, 8))\n",
    "gs = GridSpec(df.shape[1],2)\n",
    "\n",
    "\n",
    "\n",
    "ax1 = fig.add_subplot(gs[0:df.shape[1]//2, 0])  # Top half of the first column\n",
    "ax1.set_title('SWCPD',fontsize=18)\n",
    "test_stat = np.subtract(detector.upper[:-1],detector.cumsum[1:])\n",
    "ax1.plot(t,test_stat,alpha=1,lw=2,color='blue')\n",
    "ax1.vlines(np.array(detector.change_points['loc']),min(test_stat),max(test_stat),color='red',alpha=1.0,lw=2,ls='--',label='Estimated CPs')\n",
    "ax1.scatter(GroundTruth,np.zeros(len(GroundTruth)),marker='x',color='black',s=100,linewidth=3,label='True CPs')\n",
    "ax1.set_ylabel('Test score',fontsize=16)\n",
    "ax1.legend(loc='upper right')\n",
    "\n",
    "ax2 = fig.add_subplot(gs[df.shape[1]//2:, 0])  # Top half of the first colum\n",
    "ax2.set_title('ClasPy',fontsize=20)\n",
    "#ax2.plot(np.arange(clasp.profile.shape[0]),clasp.profile,color='blue',lw=0.75)\n",
    "ax2.plot(t[:-window_size],clasp.profile[t[:-window_size]],color='blue',lw=2)\n",
    "ax2.scatter(GroundTruth,np.min(clasp.profile)*np.ones(len(GroundTruth)),marker='x',color='black',s=100,linewidth=3)\n",
    "ax2.vlines(clasp.change_points,np.min(clasp.profile),np.max(clasp.profile),color='red',lw=2,ls='--')\n",
    "#ax2.plot(clasp.change_points,np.min(clasp.profile)*np.ones(len(clasp.change_points)),'o',color='red',ms=4)\n",
    "#ax2.set_xlabel('Time')\n",
    "ax2.set_ylabel('ClaSP Score',fontsize=16)\n",
    "ax2.yaxis.set_major_formatter(FuncFormatter(lambda y, _: f\"{y:.2f}\"))\n",
    "\n",
    "\n",
    "#### fill out right hand side\n",
    "\n",
    "for i in range(df.shape[1]):\n",
    "    ax = fig.add_subplot(gs[i, 1])  \n",
    "    ax.plot(df.iloc[:,i].values,lw=2,color='blue',alpha=1)\n",
    "    ax.scatter(GroundTruth,(np.min(df.iloc[:,i]-1))*np.ones(len(GroundTruth)),marker='x',color='black',s=30,alpha=1)\n",
    "    if i == 0: \n",
    "        ax.set_title('Time Series',fontsize=18)\n",
    "\n",
    "fig.tight_layout()\n"
   ]
  },
  {
   "cell_type": "code",
   "execution_count": 210,
   "metadata": {},
   "outputs": [],
   "source": [
    "fig.savefig('HASC_TS_243.pdf')"
   ]
  },
  {
   "cell_type": "code",
   "execution_count": 213,
   "metadata": {},
   "outputs": [
    {
     "data": {
      "text/plain": [
       "'HASC_TS_243.csv'"
      ]
     },
     "execution_count": 213,
     "metadata": {},
     "output_type": "execute_result"
    }
   ],
   "source": [
    "\"HASC_TS_\"+str(id)+\".csv\""
   ]
  },
  {
   "cell_type": "code",
   "execution_count": 404,
   "metadata": {},
   "outputs": [],
   "source": [
    "for id in IDs:\n",
    "    df_exp, cps = prepare_data(df_TS,8,id)\n",
    "    df_exp.to_csv(\"HASC_TS_\"+str(id)+\".csv\")"
   ]
  },
  {
   "cell_type": "code",
   "execution_count": 142,
   "metadata": {},
   "outputs": [],
   "source": [
    "\n",
    "def GET_AUCs_BOCPD(tau=100):\n",
    "    with open(\"./R/res/HASC_BOCPD.json\") as f:\n",
    "        res = json.load(f)\n",
    "    METRICS_BOCPD = {}\n",
    "    for id, cps_bocpd in res.items():\n",
    "        METRICS_BOCPD[id]  = {}\n",
    "        _, _, true_cps,_, time_series = df_TS_CL.iloc[int(id),:]\n",
    "        f1,AUC_run,fp = f_measure({'0':true_cps},cps_bocpd[0],tau)\n",
    "        METRICS_BOCPD[id]['F1'] = f1\n",
    "        METRICS_BOCPD[id]['AUC'] = AUC_run\n",
    "        METRICS_BOCPD[id]['Covering'] = covering({'0':true_cps},cps_bocpd[0],time_series.shape[0])\n",
    "        METRICS_BOCPD[id]['FP'] = fp\n",
    "        METRICS_BOCPD[id]['DD'] = detection_delay(true_cps,cps_bocpd[0])[1]\n",
    "    \n",
    "    f1,cov,AUC,DD,FP = [],[],[],[],[]\n",
    "    for k,metrics in METRICS_BOCPD.items():\n",
    "        if len(metrics)>1:\n",
    "            f1.append(metrics['F1'])\n",
    "            cov.append(metrics['Covering'])\n",
    "            AUC.append(metrics['AUC'])\n",
    "            DD.append(metrics['DD'])\n",
    "            FP.append(metrics['FP'])\n",
    "\n",
    "    return np.mean(AUC),np.mean(FP)\n",
    "    \n",
    "\n",
    "def GET_AUCs_ECP(tau=100):\n",
    "    with open(\"./R/res/HASC_ECP.json\") as f:\n",
    "        res = json.load(f)\n",
    "\n",
    "    METRICS_ECP = {}\n",
    "\n",
    "    for id, cps_ecp in res.items():\n",
    "        METRICS_ECP[id]  = {}\n",
    "        _, _, true_cps,_, time_series = df_TS_CL.iloc[int(id),:]\n",
    "\n",
    "        f1,AUC_run,fp = f_measure({'0':true_cps},cps_ecp[1:-1],tau)\n",
    "        METRICS_ECP[id]['F1'] = f1\n",
    "        METRICS_ECP[id]['AUC'] = AUC_run\n",
    "        METRICS_ECP[id]['Covering'] = covering({'0':true_cps},cps_ecp[1:-1],time_series.shape[0])\n",
    "        METRICS_ECP[id]['FP'] = fp\n",
    "        METRICS_ECP[id]['DD'] = detection_delay(true_cps,cps_ecp[1:-1])[1]\n",
    "    \n",
    "    f1,cov, AUC, DD, FP = [],[], [], [],[]\n",
    "    for k,metrics in METRICS_ECP.items():\n",
    "        f1.append(metrics['F1'])\n",
    "        cov.append(metrics['Covering'])\n",
    "        AUC.append(metrics['AUC'])\n",
    "        DD.append(metrics['DD'])\n",
    "        FP.append(metrics['FP'])\n",
    "\n",
    "    return np.mean(AUC),np.mean(FP)\n",
    "\n",
    "\n",
    "GET_AUCs_ECP(200)\n",
    "\n",
    "\n",
    "ECPS_M = [GET_AUCs_ECP(t)[0] for t in [25,50,100,150,200]]\n",
    "BOCPD_M = [GET_AUCs_BOCPD(t)[0] for t in [25,50,100,150,200]]\n",
    "\n",
    "ECPS_FP = [GET_AUCs_ECP(t)[1] for t in [25,50,100,150,200]]\n",
    "BOCPD_FP = [GET_AUCs_BOCPD(t)[1] for t in [25,50,100,150,200]]"
   ]
  },
  {
   "cell_type": "code",
   "execution_count": 152,
   "metadata": {},
   "outputs": [],
   "source": [
    "def AUC_analysis(METRICS_SWD):\n",
    "    f1,cov,AUC,DD,FP = [],[],[],[],[]\n",
    "    for k,metrics in METRICS_SWD.items():\n",
    "        if len(metrics)>1:\n",
    "            f1.append(metrics['F1'])\n",
    "            cov.append(metrics['Covering'])\n",
    "            AUC.append(metrics['AUC'])\n",
    "            DD.append(metrics['DD'])\n",
    "            FP.append(metrics['FP'])\n",
    "\n",
    "    return np.mean(AUC),np.mean(FP)\n",
    "\n",
    "MEAN ,FPS_SWD= [], []\n",
    "for res in [METRICS_SWD_25,METRICS_SWD_50,METRICS_SWD,METRICS_SWD_150,METRICS_SWD_200]:\n",
    "    m,fp =AUC_analysis(res)\n",
    "    MEAN.append(m)\n",
    "    FPS_SWD.append(fp)\n",
    "\n",
    "\n",
    "MEAN_Claps = []\n",
    "FP_Clasp  =[]\n",
    "for res in [METRICS_C_25,METRICS_C_50,METRICS,METRICS_C_150,METRICS_C_200]:\n",
    "    m,fp =AUC_analysis(res)\n",
    "    MEAN_Claps.append(m)\n",
    "    FP_Clasp.append(fp)\n",
    "\n",
    "\n",
    "\n",
    "SWD_df = pd.DataFrame(FPS_SWD,index=[25,50,100,150,200],columns=['SWCPD (ours)'])\n",
    "\n"
   ]
  },
  {
   "cell_type": "code",
   "execution_count": 154,
   "metadata": {},
   "outputs": [
    {
     "data": {
      "text/plain": [
       "[1.4782608695652173,\n",
       " 1.0434782608695652,\n",
       " 0.782608695652174,\n",
       " 0.6956521739130435,\n",
       " 0.6086956521739131]"
      ]
     },
     "execution_count": 154,
     "metadata": {},
     "output_type": "execute_result"
    }
   ],
   "source": [
    "FP_Clasp"
   ]
  },
  {
   "cell_type": "code",
   "execution_count": 145,
   "metadata": {},
   "outputs": [],
   "source": [
    "SWD_df['ClasP'] = FP_Clasp#MEAN_Claps\n",
    "SWD_df['e-divisive'] = ECPS_FP#ECPS_M\n",
    "SWD_df['BOCPD'] = BOCPD_FP#BOCPD_M\n",
    "\n",
    "#copy from KCPA \n",
    "# SWD_df['KCP'] = [0.6093832204863007,\n",
    "#  0.6370112084403755,\n",
    "#  0.6571305605290371,\n",
    "#  0.6571305605290371,\n",
    "#  0.6571305605290371]\n",
    "SWD_df['KCP'] = [15.782608695652174,\n",
    "  15.043478260869565,\n",
    "  13.956521739130435,\n",
    "  12.565217391304348,\n",
    "  11.652173913043478]\n",
    "\n",
    "\n",
    "\n",
    "#copy from OT-CPD\n",
    "# SWD_df['OT-CPD'] = [np.float64(0.741609231411863),\n",
    "#  np.float64(0.7543285296574771),\n",
    "#  np.float64(0.7872232664995823),\n",
    "#  np.float64(0.7872232664995823),\n",
    "#  np.float64(0.7872232664995823)]\n",
    "\n",
    "SWD_df['OT-CPD'] = [np.float64(4.105263157894737),\n",
    " np.float64(4.0),\n",
    " np.float64(3.736842105263158),\n",
    " np.float64(3.736842105263158),\n",
    " np.float64(3.5789473684210527)]"
   ]
  }
 ],
 "metadata": {
  "kernelspec": {
   "display_name": "torch",
   "language": "python",
   "name": "python3"
  },
  "language_info": {
   "codemirror_mode": {
    "name": "ipython",
    "version": 3
   },
   "file_extension": ".py",
   "mimetype": "text/x-python",
   "name": "python",
   "nbconvert_exporter": "python",
   "pygments_lexer": "ipython3",
   "version": "3.12.3"
  }
 },
 "nbformat": 4,
 "nbformat_minor": 2
}
