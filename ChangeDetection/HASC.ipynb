{
 "cells": [
  {
   "cell_type": "code",
   "execution_count": 2,
   "metadata": {},
   "outputs": [],
   "source": [
    "import torch\n",
    "from torchvision import datasets\n",
    "from torch.utils.data import DataLoader\n",
    "from torchvision import transforms\n",
    "import numpy as np\n",
    "import matplotlib.pyplot as plt\n",
    "import pandas as pd\n",
    "from pathlib import Path\n",
    "import os,sys\n",
    "#parent_path = str(Path(os.getcwd()).parent)\n",
    "#sys.path.insert(1,parent_path)\n",
    "from utilsCPD import *\n",
    "from SWCPD import BaseDetector as SWDCP"
   ]
  },
  {
   "cell_type": "code",
   "execution_count": 3,
   "metadata": {},
   "outputs": [],
   "source": [
    "df_TS = load_master_data(\"./datasets/has2023_master.csv.zip\")\n",
    "\n",
    "\n",
    "def prepare_data(df_TS,channels_start,id):\n",
    "    initalized = False\n",
    "    for k,name in zip(df_TS.iloc[id,channels_start:],df_TS.columns[channels_start:]):\n",
    "        if np.array(k).shape[0]!=0:\n",
    "            if not initalized:\n",
    "                data = pd.DataFrame(k,columns=[name]).astype('float32')\n",
    "                initalized = True\n",
    "            else:\n",
    "                data[name] = np.array(k).astype(np.float32)\n",
    "    if df_TS.iloc[id].group == 'outdoor':\n",
    "        data = data.iloc[:,:-3]\n",
    "    GroundTruth = df_TS.iloc[id,5]\n",
    "\n",
    "    data = (data - data.mean())/(data.std())\n",
    "    return data,GroundTruth"
   ]
  },
  {
   "cell_type": "code",
   "execution_count": 5,
   "metadata": {},
   "outputs": [
    {
     "name": "stdout",
     "output_type": "stream",
     "text": [
      "10\n"
     ]
    },
    {
     "name": "stderr",
     "output_type": "stream",
     "text": [
      " 15%|█▌        | 788/5098 [00:12<01:18, 54.82it/s]"
     ]
    },
    {
     "name": "stdout",
     "output_type": "stream",
     "text": [
      "Change detected at: 1281 \n",
      "Initiate new segment\n"
     ]
    },
    {
     "name": "stderr",
     "output_type": "stream",
     "text": [
      " 73%|███████▎  | 3698/5098 [01:01<00:26, 53.19it/s]"
     ]
    },
    {
     "name": "stdout",
     "output_type": "stream",
     "text": [
      "Change detected at: 4192 \n",
      "Initiate new segment\n"
     ]
    },
    {
     "name": "stderr",
     "output_type": "stream",
     "text": [
      "100%|██████████| 5098/5098 [01:24<00:00, 60.44it/s]\n"
     ]
    },
    {
     "name": "stdout",
     "output_type": "stream",
     "text": [
      "F1 score: 0.8571428571428571\n",
      "Covering: 0.7366734252994743\n",
      "0.875\n",
      "{'F1': 0.8571428571428571, 'Covering': 0.7366734252994743, 'AUC': 0.875}\n",
      "14\n"
     ]
    },
    {
     "name": "stderr",
     "output_type": "stream",
     "text": [
      " 43%|████▎     | 2356/5453 [00:38<00:50, 61.06it/s]"
     ]
    },
    {
     "name": "stdout",
     "output_type": "stream",
     "text": [
      "Change detected at: 2845 \n",
      "Initiate new segment\n"
     ]
    },
    {
     "name": "stderr",
     "output_type": "stream",
     "text": [
      " 66%|██████▌   | 3607/5453 [01:00<00:30, 60.20it/s]"
     ]
    },
    {
     "name": "stdout",
     "output_type": "stream",
     "text": [
      "Change detected at: 4096 \n",
      "Initiate new segment\n"
     ]
    },
    {
     "name": "stderr",
     "output_type": "stream",
     "text": [
      "100%|██████████| 5453/5453 [01:29<00:00, 60.75it/s]\n"
     ]
    },
    {
     "name": "stdout",
     "output_type": "stream",
     "text": [
      "F1 score: 0.8571428571428571\n",
      "Covering: 0.7601708295222658\n",
      "0.875\n",
      "{'F1': 0.8571428571428571, 'Covering': 0.7601708295222658, 'AUC': 0.875}\n",
      "7\n"
     ]
    },
    {
     "name": "stderr",
     "output_type": "stream",
     "text": [
      " 19%|█▉        | 1119/5876 [00:18<01:15, 62.81it/s]"
     ]
    },
    {
     "name": "stdout",
     "output_type": "stream",
     "text": [
      "Change detected at: 1609 \n",
      "Initiate new segment\n",
      "Change detected at: 1611 \n",
      "Initiate new segment\n"
     ]
    },
    {
     "name": "stderr",
     "output_type": "stream",
     "text": [
      " 40%|████      | 2354/5876 [00:37<00:54, 64.23it/s]"
     ]
    },
    {
     "name": "stdout",
     "output_type": "stream",
     "text": [
      "Change detected at: 2841 \n",
      "Initiate new segment\n"
     ]
    },
    {
     "name": "stderr",
     "output_type": "stream",
     "text": [
      " 62%|██████▏   | 3648/5876 [00:58<00:37, 59.76it/s]"
     ]
    },
    {
     "name": "stdout",
     "output_type": "stream",
     "text": [
      "Change detected at: 4137 \n",
      "Initiate new segment\n"
     ]
    },
    {
     "name": "stderr",
     "output_type": "stream",
     "text": [
      " 82%|████████▏ | 4818/5876 [01:14<00:13, 79.96it/s]"
     ]
    },
    {
     "name": "stdout",
     "output_type": "stream",
     "text": [
      "Change detected at: 5301 \n",
      "Initiate new segment\n"
     ]
    },
    {
     "name": "stderr",
     "output_type": "stream",
     "text": [
      "100%|██████████| 5876/5876 [01:28<00:00, 66.34it/s]\n"
     ]
    },
    {
     "name": "stdout",
     "output_type": "stream",
     "text": [
      "F1 score: 0.9090909090909091\n",
      "Covering: 0.9962414805616646\n",
      "0.9166666666666667\n",
      "{'F1': 0.9090909090909091, 'Covering': 0.9962414805616646, 'AUC': 0.9166666666666667}\n",
      "182\n"
     ]
    },
    {
     "name": "stderr",
     "output_type": "stream",
     "text": [
      " 42%|████▏     | 3454/8241 [00:54<01:12, 66.29it/s]"
     ]
    },
    {
     "name": "stdout",
     "output_type": "stream",
     "text": [
      "Change detected at: 3944 \n",
      "Initiate new segment\n"
     ]
    },
    {
     "name": "stderr",
     "output_type": "stream",
     "text": [
      " 45%|████▍     | 3690/8241 [00:57<01:09, 65.58it/s]"
     ]
    },
    {
     "name": "stdout",
     "output_type": "stream",
     "text": [
      "Change detected at: 4176 \n",
      "Initiate new segment\n"
     ]
    },
    {
     "name": "stderr",
     "output_type": "stream",
     "text": [
      " 87%|████████▋ | 7206/8241 [01:52<00:15, 64.96it/s]"
     ]
    },
    {
     "name": "stdout",
     "output_type": "stream",
     "text": [
      "Change detected at: 7693 \n",
      "Initiate new segment\n"
     ]
    },
    {
     "name": "stderr",
     "output_type": "stream",
     "text": [
      "100%|██████████| 8241/8241 [02:09<00:00, 63.55it/s]\n"
     ]
    },
    {
     "name": "stdout",
     "output_type": "stream",
     "text": [
      "F1 score: 0.6666666666666665\n",
      "Covering: 0.6986307937963215\n",
      "0.675\n",
      "{'F1': 0.6666666666666665, 'Covering': 0.6986307937963215, 'AUC': 0.675}\n",
      "225\n"
     ]
    },
    {
     "name": "stderr",
     "output_type": "stream",
     "text": [
      " 36%|███▌      | 2394/6739 [00:38<01:10, 61.90it/s]"
     ]
    },
    {
     "name": "stdout",
     "output_type": "stream",
     "text": [
      "Change detected at: 2885 \n",
      "Initiate new segment\n"
     ]
    },
    {
     "name": "stderr",
     "output_type": "stream",
     "text": [
      " 56%|█████▌    | 3784/6739 [01:00<00:47, 62.20it/s]"
     ]
    },
    {
     "name": "stdout",
     "output_type": "stream",
     "text": [
      "Change detected at: 4273 \n",
      "Initiate new segment\n"
     ]
    },
    {
     "name": "stderr",
     "output_type": "stream",
     "text": [
      " 81%|████████▏ | 5484/6739 [01:28<00:20, 61.53it/s]"
     ]
    },
    {
     "name": "stdout",
     "output_type": "stream",
     "text": [
      "Change detected at: 5978 \n",
      "Initiate new segment\n"
     ]
    },
    {
     "name": "stderr",
     "output_type": "stream",
     "text": [
      "100%|██████████| 6739/6739 [01:48<00:00, 62.36it/s]\n"
     ]
    },
    {
     "name": "stdout",
     "output_type": "stream",
     "text": [
      "F1 score: 0.888888888888889\n",
      "Covering: 0.8021980341691818\n",
      "0.9\n",
      "{'F1': 0.888888888888889, 'Covering': 0.8021980341691818, 'AUC': 0.9}\n",
      "19\n"
     ]
    },
    {
     "name": "stderr",
     "output_type": "stream",
     "text": [
      "100%|██████████| 3797/3797 [01:03<00:00, 59.69it/s]\n"
     ]
    },
    {
     "name": "stdout",
     "output_type": "stream",
     "text": [
      "F1 score: 0.5\n",
      "Covering: 0.3339207967916108\n",
      "0.6666666666666667\n",
      "{'F1': 0.5, 'Covering': 0.3339207967916108, 'AUC': 0.6666666666666667}\n",
      "185\n"
     ]
    },
    {
     "name": "stderr",
     "output_type": "stream",
     "text": [
      " 13%|█▎        | 1036/7761 [00:16<01:47, 62.85it/s]"
     ]
    },
    {
     "name": "stdout",
     "output_type": "stream",
     "text": [
      "Change detected at: 1526 \n",
      "Initiate new segment\n"
     ]
    },
    {
     "name": "stderr",
     "output_type": "stream",
     "text": [
      " 49%|████▉     | 3832/7761 [01:00<01:04, 61.33it/s]"
     ]
    },
    {
     "name": "stdout",
     "output_type": "stream",
     "text": [
      "Change detected at: 4321 \n",
      "Initiate new segment\n"
     ]
    },
    {
     "name": "stderr",
     "output_type": "stream",
     "text": [
      " 67%|██████▋   | 5188/7761 [01:21<00:38, 66.99it/s]"
     ]
    },
    {
     "name": "stdout",
     "output_type": "stream",
     "text": [
      "Change detected at: 5681 \n",
      "Initiate new segment\n"
     ]
    },
    {
     "name": "stderr",
     "output_type": "stream",
     "text": [
      " 83%|████████▎ | 6439/7761 [01:41<00:21, 62.31it/s]"
     ]
    },
    {
     "name": "stdout",
     "output_type": "stream",
     "text": [
      "Change detected at: 6931 \n",
      "Initiate new segment\n"
     ]
    },
    {
     "name": "stderr",
     "output_type": "stream",
     "text": [
      "100%|██████████| 7761/7761 [02:01<00:00, 64.09it/s]\n"
     ]
    },
    {
     "name": "stdout",
     "output_type": "stream",
     "text": [
      "F1 score: 0.9090909090909091\n",
      "Covering: 0.8299383305375034\n",
      "0.9166666666666667\n",
      "{'F1': 0.9090909090909091, 'Covering': 0.8299383305375034, 'AUC': 0.9166666666666667}\n",
      "33\n"
     ]
    },
    {
     "name": "stderr",
     "output_type": "stream",
     "text": [
      " 13%|█▎        | 935/7449 [00:15<01:46, 61.42it/s]"
     ]
    },
    {
     "name": "stdout",
     "output_type": "stream",
     "text": [
      "Change detected at: 1422 \n",
      "Initiate new segment\n"
     ]
    },
    {
     "name": "stderr",
     "output_type": "stream",
     "text": [
      " 34%|███▍      | 2521/7449 [00:40<01:15, 65.03it/s]"
     ]
    },
    {
     "name": "stdout",
     "output_type": "stream",
     "text": [
      "Change detected at: 3007 \n",
      "Initiate new segment\n"
     ]
    },
    {
     "name": "stderr",
     "output_type": "stream",
     "text": [
      " 52%|█████▏    | 3898/7449 [01:06<01:09, 51.20it/s]"
     ]
    },
    {
     "name": "stdout",
     "output_type": "stream",
     "text": [
      "Change detected at: 4390 \n",
      "Initiate new segment\n"
     ]
    },
    {
     "name": "stderr",
     "output_type": "stream",
     "text": [
      "100%|██████████| 7449/7449 [02:09<00:00, 57.52it/s]\n"
     ]
    },
    {
     "name": "stdout",
     "output_type": "stream",
     "text": [
      "F1 score: 0.8\n",
      "Covering: 0.7222343067466297\n",
      "0.8333333333333333\n",
      "{'F1': 0.8, 'Covering': 0.7222343067466297, 'AUC': 0.8333333333333333}\n",
      "36\n"
     ]
    },
    {
     "name": "stderr",
     "output_type": "stream",
     "text": [
      " 11%|█         | 1061/9963 [00:19<02:28, 60.07it/s]"
     ]
    },
    {
     "name": "stdout",
     "output_type": "stream",
     "text": [
      "Change detected at: 1548 \n",
      "Initiate new segment\n"
     ]
    },
    {
     "name": "stderr",
     "output_type": "stream",
     "text": [
      " 41%|████      | 4099/9963 [01:16<01:42, 57.16it/s]"
     ]
    },
    {
     "name": "stdout",
     "output_type": "stream",
     "text": [
      "Change detected at: 4591 \n",
      "Initiate new segment\n"
     ]
    },
    {
     "name": "stderr",
     "output_type": "stream",
     "text": [
      "100%|██████████| 9963/9963 [03:01<00:00, 54.84it/s]\n"
     ]
    },
    {
     "name": "stdout",
     "output_type": "stream",
     "text": [
      "F1 score: 0.6\n",
      "Covering: 0.4326497948382314\n",
      "0.7142857142857142\n",
      "{'F1': 0.6, 'Covering': 0.4326497948382314, 'AUC': 0.7142857142857142}\n",
      "87\n"
     ]
    },
    {
     "name": "stderr",
     "output_type": "stream",
     "text": [
      "100%|██████████| 3062/3062 [00:53<00:00, 57.06it/s]\n"
     ]
    },
    {
     "name": "stdout",
     "output_type": "stream",
     "text": [
      "F1 score: 0.6666666666666666\n",
      "Covering: 0.5314433619350193\n",
      "0.75\n",
      "{'F1': 0.6666666666666666, 'Covering': 0.5314433619350193, 'AUC': 0.75}\n",
      "88\n"
     ]
    },
    {
     "name": "stderr",
     "output_type": "stream",
     "text": [
      "100%|██████████| 3947/3947 [01:11<00:00, 55.51it/s]\n"
     ]
    },
    {
     "name": "stdout",
     "output_type": "stream",
     "text": [
      "F1 score: 0.6666666666666666\n",
      "Covering: 0.6193302991726175\n",
      "0.75\n",
      "{'F1': 0.6666666666666666, 'Covering': 0.6193302991726175, 'AUC': 0.75}\n",
      "210\n"
     ]
    },
    {
     "name": "stderr",
     "output_type": "stream",
     "text": [
      " 34%|███▍      | 801/2361 [00:14<00:30, 51.77it/s]"
     ]
    },
    {
     "name": "stdout",
     "output_type": "stream",
     "text": [
      "Change detected at: 1291 \n",
      "Initiate new segment\n"
     ]
    },
    {
     "name": "stderr",
     "output_type": "stream",
     "text": [
      "100%|██████████| 2361/2361 [00:43<00:00, 54.76it/s]\n"
     ]
    },
    {
     "name": "stdout",
     "output_type": "stream",
     "text": [
      "F1 score: 1.0\n",
      "Covering: 0.9993009701375309\n",
      "1.0\n",
      "{'F1': 1.0, 'Covering': 0.9993009701375309, 'AUC': 1.0}\n",
      "11\n"
     ]
    },
    {
     "name": "stderr",
     "output_type": "stream",
     "text": [
      " 35%|███▌      | 1037/2924 [00:18<00:31, 60.61it/s]"
     ]
    },
    {
     "name": "stdout",
     "output_type": "stream",
     "text": [
      "Change detected at: 1526 \n",
      "Initiate new segment\n"
     ]
    },
    {
     "name": "stderr",
     "output_type": "stream",
     "text": [
      "100%|██████████| 2924/2924 [00:51<00:00, 56.24it/s]\n"
     ]
    },
    {
     "name": "stdout",
     "output_type": "stream",
     "text": [
      "F1 score: 0.8\n",
      "Covering: 0.8056260760098357\n",
      "0.8333333333333333\n",
      "{'F1': 0.8, 'Covering': 0.8056260760098357, 'AUC': 0.8333333333333333}\n",
      "20\n"
     ]
    },
    {
     "name": "stderr",
     "output_type": "stream",
     "text": [
      " 66%|██████▌   | 2633/4005 [00:44<00:22, 61.52it/s]"
     ]
    },
    {
     "name": "stdout",
     "output_type": "stream",
     "text": [
      "Change detected at: 3126 \n",
      "Initiate new segment\n"
     ]
    },
    {
     "name": "stderr",
     "output_type": "stream",
     "text": [
      "100%|██████████| 4005/4005 [01:09<00:00, 57.64it/s]\n"
     ]
    },
    {
     "name": "stdout",
     "output_type": "stream",
     "text": [
      "Change detected at: 4499 \n",
      "Initiate new segment\n",
      "F1 score: 0.6666666666666666\n",
      "Covering: 0.6516652149109798\n",
      "0.6666666666666666\n",
      "{'F1': 0.6666666666666666, 'Covering': 0.6516652149109798, 'AUC': 0.6666666666666666}\n",
      "23\n"
     ]
    },
    {
     "name": "stderr",
     "output_type": "stream",
     "text": [
      " 42%|████▏     | 952/2282 [00:16<00:22, 58.66it/s]"
     ]
    },
    {
     "name": "stdout",
     "output_type": "stream",
     "text": [
      "Change detected at: 1444 \n",
      "Initiate new segment\n"
     ]
    },
    {
     "name": "stderr",
     "output_type": "stream",
     "text": [
      "100%|██████████| 2282/2282 [00:40<00:00, 56.33it/s]\n"
     ]
    },
    {
     "name": "stdout",
     "output_type": "stream",
     "text": [
      "F1 score: 0.8\n",
      "Covering: 0.7940905596617417\n",
      "0.8333333333333333\n",
      "{'F1': 0.8, 'Covering': 0.7940905596617417, 'AUC': 0.8333333333333333}\n",
      "243\n"
     ]
    },
    {
     "name": "stderr",
     "output_type": "stream",
     "text": [
      " 31%|███       | 1124/3612 [00:20<00:40, 61.66it/s]"
     ]
    },
    {
     "name": "stdout",
     "output_type": "stream",
     "text": [
      "Change detected at: 1612 \n",
      "Initiate new segment\n"
     ]
    },
    {
     "name": "stderr",
     "output_type": "stream",
     "text": [
      " 69%|██████▉   | 2486/3612 [00:44<00:21, 53.11it/s]"
     ]
    },
    {
     "name": "stdout",
     "output_type": "stream",
     "text": [
      "Change detected at: 2980 \n",
      "Initiate new segment\n"
     ]
    },
    {
     "name": "stderr",
     "output_type": "stream",
     "text": [
      "100%|██████████| 3612/3612 [01:05<00:00, 55.11it/s]\n"
     ]
    },
    {
     "name": "stdout",
     "output_type": "stream",
     "text": [
      "F1 score: 1.0\n",
      "Covering: 0.9990275069977558\n",
      "1.0\n",
      "{'F1': 1.0, 'Covering': 0.9990275069977558, 'AUC': 1.0}\n",
      "247\n"
     ]
    },
    {
     "name": "stderr",
     "output_type": "stream",
     "text": [
      " 77%|███████▋  | 1277/1658 [00:22<00:07, 53.23it/s]"
     ]
    },
    {
     "name": "stdout",
     "output_type": "stream",
     "text": [
      "Change detected at: 1771 \n",
      "Initiate new segment\n"
     ]
    },
    {
     "name": "stderr",
     "output_type": "stream",
     "text": [
      "100%|██████████| 1658/1658 [00:29<00:00, 55.74it/s]\n"
     ]
    },
    {
     "name": "stdout",
     "output_type": "stream",
     "text": [
      "F1 score: 0.8\n",
      "Covering: 0.6502612405296444\n",
      "0.8333333333333333\n",
      "{'F1': 0.8, 'Covering': 0.6502612405296444, 'AUC': 0.8333333333333333}\n",
      "91\n"
     ]
    },
    {
     "name": "stderr",
     "output_type": "stream",
     "text": [
      "100%|██████████| 2262/2262 [00:42<00:00, 53.42it/s]\n"
     ]
    },
    {
     "name": "stdout",
     "output_type": "stream",
     "text": [
      "F1 score: 1.0\n",
      "Covering: 1.0\n",
      "1.0\n",
      "{'F1': 1.0, 'Covering': 1.0, 'AUC': 1.0}\n",
      "95\n",
      "96\n"
     ]
    },
    {
     "name": "stderr",
     "output_type": "stream",
     "text": [
      "100%|██████████| 638/638 [00:12<00:00, 52.97it/s]\n"
     ]
    },
    {
     "name": "stdout",
     "output_type": "stream",
     "text": [
      "F1 score: 1.0\n",
      "Covering: 1.0\n",
      "1.0\n",
      "{'F1': 1.0, 'Covering': 1.0, 'AUC': 1.0}\n",
      "100\n"
     ]
    },
    {
     "name": "stderr",
     "output_type": "stream",
     "text": [
      "100%|██████████| 455/455 [00:08<00:00, 50.74it/s]\n"
     ]
    },
    {
     "name": "stdout",
     "output_type": "stream",
     "text": [
      "F1 score: 1.0\n",
      "Covering: 1.0\n",
      "1.0\n",
      "{'F1': 1.0, 'Covering': 1.0, 'AUC': 1.0}\n",
      "141\n"
     ]
    },
    {
     "name": "stderr",
     "output_type": "stream",
     "text": [
      " 86%|████████▋ | 4923/5701 [01:25<00:07, 100.62it/s]"
     ]
    },
    {
     "name": "stdout",
     "output_type": "stream",
     "text": [
      "Change detected at: 5408 \n",
      "Initiate new segment\n"
     ]
    },
    {
     "name": "stderr",
     "output_type": "stream",
     "text": [
      "100%|██████████| 5701/5701 [01:34<00:00, 60.07it/s] \n"
     ]
    },
    {
     "name": "stdout",
     "output_type": "stream",
     "text": [
      "F1 score: 0.6666666666666666\n",
      "Covering: 0.8722580645161291\n",
      "0.75\n",
      "{'F1': 0.6666666666666666, 'Covering': 0.8722580645161291, 'AUC': 0.75}\n",
      "91\n"
     ]
    },
    {
     "name": "stderr",
     "output_type": "stream",
     "text": [
      "100%|██████████| 2262/2262 [00:28<00:00, 79.01it/s]\n"
     ]
    },
    {
     "name": "stdout",
     "output_type": "stream",
     "text": [
      "F1 score: 1.0\n",
      "Covering: 1.0\n",
      "1.0\n",
      "{'F1': 1.0, 'Covering': 1.0, 'AUC': 1.0}\n",
      "95\n",
      "245\n"
     ]
    },
    {
     "name": "stderr",
     "output_type": "stream",
     "text": [
      "100%|██████████| 804/804 [00:12<00:00, 65.12it/s]"
     ]
    },
    {
     "name": "stdout",
     "output_type": "stream",
     "text": [
      "F1 score: 1.0\n",
      "Covering: 1.0\n",
      "1.0\n",
      "{'F1': 1.0, 'Covering': 1.0, 'AUC': 1.0}\n"
     ]
    },
    {
     "name": "stderr",
     "output_type": "stream",
     "text": [
      "\n"
     ]
    }
   ],
   "source": [
    "IDs = [10,14,7,182,225,19,185,33,36,87,88,210,11,20,23,243,247,91,95,96,100,141,91,95,245]\n",
    "\n",
    "METRICS_SWD = {}\n",
    "for id in IDs:\n",
    "    print(id)\n",
    "    METRICS_SWD[id]  = {}\n",
    "    df, GroundTruth = prepare_data(df_TS,8,id)\n",
    "    if df.shape[0]<500:\n",
    "        continue\n",
    "    detector = SWDCP(data=df.to_numpy(),window_length=500,max_history=20)\n",
    "    detector.process_dataloader()\n",
    "    f1,Cover, AUC = detector.evaluate(GroundTruth,tolerance=100)\n",
    "    METRICS_SWD[id]['F1'] =f1\n",
    "    METRICS_SWD[id]['Covering'] = Cover\n",
    "    METRICS_SWD[id]['AUC'] = AUC\n",
    "    print(METRICS_SWD[id])\n"
   ]
  },
  {
   "cell_type": "code",
   "execution_count": 18,
   "metadata": {},
   "outputs": [
    {
     "name": "stdout",
     "output_type": "stream",
     "text": [
      "0.8206677161222617\n",
      "0.7834391402788244\n",
      "0.8540584415584417\n"
     ]
    }
   ],
   "source": [
    "f1,cov,AUC = [],[],[]\n",
    "for k,metrics in METRICS_SWD.items():\n",
    "    if len(metrics)>1:\n",
    "        f1.append(metrics['F1'])\n",
    "        cov.append(metrics['Covering'])\n",
    "        AUC.append(metrics['AUC'])\n",
    "\n",
    "print(np.mean(f1))\n",
    "print(np.mean(cov))\n",
    "print(np.mean(AUC))"
   ]
  },
  {
   "cell_type": "code",
   "execution_count": 400,
   "metadata": {},
   "outputs": [
    {
     "data": {
      "image/png": "[encoded data removed]",
      "text/plain": [
       "<Figure size 1000x500 with 3 Axes>"
      ]
     },
     "metadata": {},
     "output_type": "display_data"
    }
   ],
   "source": [
    "from matplotlib.pyplot import GridSpec\n",
    "groups = []\n",
    "ind_out = []\n",
    "lengths = []\n",
    "for id in IDs:\n",
    "    groups.append(len(df_TS.iloc[id].change_points))\n",
    "    ind_out.append(df_TS.iloc[id].group)\n",
    "    lengths.append(df_TS.iloc[id]['x-acc'].shape[0])\n",
    "\n",
    "\n",
    "\n",
    "fig = plt.figure(figsize=(10,5))\n",
    "\n",
    "gs = GridSpec(2,2)\n",
    "\n",
    "ax1 = fig.add_subplot(gs[:, 0])\n",
    "pd_plot1 = pd.Series(groups).value_counts()\n",
    "pd_plot1.plot(kind='bar',edgecolor='black',color='grey',alpha=0.75,lw=2,ax=ax1)\n",
    "ax1.set_xlabel('Number of Change Points',fontsize=15)\n",
    "ax2 = fig.add_subplot(gs[:1, 1])\n",
    "pd.Series(ind_out).value_counts().plot(kind='barh',edgecolor='black',color='grey',alpha=0.75,lw=2,ax=ax2)\n",
    "ax3 = fig.add_subplot(gs[1:,1])\n",
    "\n",
    "df_plot3 = pd.DataFrame({'groups':groups,'n_obs':lengths}).groupby(['groups']).mean()\n",
    "df_plot3.columns.values[0] = 'Avg. n_obs'\n",
    "df_plot3.plot(kind='bar',ax=ax3,legend=False,edgecolor='black',color='grey',alpha=0.75,lw=2)\n",
    "ax3.legend(fontsize=15)\n",
    "ax3.set_xlabel('Gropus',fontsize=15)\n",
    "fig.tight_layout()"
   ]
  },
  {
   "cell_type": "code",
   "execution_count": 401,
   "metadata": {},
   "outputs": [],
   "source": [
    "fig.savefig('HASC_appendix_analysis.pdf')"
   ]
  },
  {
   "cell_type": "code",
   "execution_count": 12,
   "metadata": {},
   "outputs": [],
   "source": [
    "from claspy.segmentation import BinaryClaSPSegmentation\n",
    "from claspy.data_loader import load_has_dataset\n",
    "df_TS_CL = load_has_dataset()"
   ]
  },
  {
   "cell_type": "code",
   "execution_count": null,
   "metadata": {},
   "outputs": [
    {
     "name": "stdout",
     "output_type": "stream",
     "text": [
      "10\n",
      "0.6666666666666666\n",
      "0.47362938777338753\n",
      "14\n",
      "0.8\n",
      "0.8147039545873119\n",
      "7\n",
      "1.0\n",
      "0.9608166258723849\n",
      "182\n",
      "0.8333333333333333\n",
      "0.8337458823596751\n",
      "225\n",
      "0.8000000000000002\n",
      "0.8889321183710303\n",
      "19\n",
      "0.5\n",
      "0.3339207967916108\n",
      "185\n",
      "0.3333333333333333\n",
      "0.7536165086029252\n",
      "33\n",
      "0.923076923076923\n",
      "0.9143636350134828\n",
      "36\n",
      "0.8333333333333333\n",
      "0.6864314899996291\n",
      "87\n",
      "0.6666666666666666\n",
      "0.6686324066273519\n",
      "88\n",
      "0.8\n",
      "0.6270406599128661\n",
      "210\n",
      "1.0\n",
      "0.9958139083139084\n",
      "11\n",
      "0.8\n",
      "0.7932636738020196\n",
      "20\n",
      "0.7499999999999999\n",
      "0.782645504781384\n",
      "23\n",
      "0.8571428571428571\n",
      "0.7121560476078309\n",
      "243\n",
      "0.8\n",
      "0.6898923340070571\n",
      "247\n",
      "0.8\n",
      "0.6292284958231936\n",
      "91\n",
      "1.0\n",
      "1.0\n",
      "95\n",
      "1.0\n",
      "1.0\n",
      "96\n",
      "1.0\n",
      "1.0\n",
      "100\n",
      "1.0\n",
      "1.0\n",
      "141\n"
     ]
    },
    {
     "name": "stderr",
     "output_type": "stream",
     "text": [
      "c:\\Users\\Sven Jacob\\miniconda3\\envs\\torch\\Lib\\site-packages\\claspy\\segmentation.py:212: UserWarning: Time series must at least have 2*min_seg_size data points for segmentation. Try setting a smaller window size.\n",
      "  warnings.warn(\n"
     ]
    },
    {
     "name": "stdout",
     "output_type": "stream",
     "text": [
      "0.6666666666666666\n",
      "0.9230645161290323\n",
      "91\n",
      "1.0\n",
      "1.0\n",
      "95\n",
      "1.0\n",
      "1.0\n",
      "245\n",
      "0.6666666666666666\n",
      "0.6446661550268611\n"
     ]
    },
    {
     "name": "stderr",
     "output_type": "stream",
     "text": [
      "c:\\Users\\Sven Jacob\\miniconda3\\envs\\torch\\Lib\\site-packages\\claspy\\segmentation.py:212: UserWarning: Time series must at least have 2*min_seg_size data points for segmentation. Try setting a smaller window size.\n",
      "  warnings.warn(\n"
     ]
    }
   ],
   "source": [
    "METRICS = {}\n",
    "IDs = [10,14,7,182,225,19,185,33,36,87,88,210,11,20,23,243,247,91,95,96,100,141,91,95,245]\n",
    "\n",
    "for id in IDs:\n",
    "    print(id)\n",
    "    METRICS[id]  = {}\n",
    "\n",
    "    dataset, window_size, true_cps,labels, time_series = df_TS_CL.iloc[id,:]\n",
    "\n",
    "    clasp = BinaryClaSPSegmentation(window_size=window_size).fit(time_series)\n",
    "    f1,AUC_run = f_measure({'0':true_cps},clasp.change_points,100)\n",
    "    METRICS[id]['F1'] = f1\n",
    "    METRICS[id]['AUC'] = AUC_run\n",
    "    METRICS[id]['Covering'] = covering({'0':true_cps},clasp.change_points,time_series.shape[0])\n",
    "\n",
    "   "
   ]
  },
  {
   "cell_type": "code",
   "execution_count": 19,
   "metadata": {},
   "outputs": [
    {
     "name": "stdout",
     "output_type": "stream",
     "text": [
      "0.8042124542124544\n",
      "0.7881114826696931\n",
      "0.14533031504503635\n"
     ]
    }
   ],
   "source": [
    "f1,cov, AUC = [],[], []\n",
    "for k,metrics in METRICS.items():\n",
    "    f1.append(metrics['F1'])\n",
    "    cov.append(metrics['Covering'])\n",
    "    AUC.append(metrics['AUC'])\n",
    "\n",
    "print(np.mean(f1))\n",
    "print(np.mean(cov))\n",
    "print(np.std(AUC))\n"
   ]
  },
  {
   "cell_type": "code",
   "execution_count": 209,
   "metadata": {},
   "outputs": [
    {
     "data": {
      "image/png": "[encoded data removed]",
      "text/plain": [
       "<Figure size 1600x800 with 8 Axes>"
      ]
     },
     "metadata": {},
     "output_type": "display_data"
    }
   ],
   "source": [
    "import matplotlib.pyplot as plt\n",
    "from matplotlib.gridspec import GridSpec\n",
    "import numpy as np\n",
    "from matplotlib.ticker import FuncFormatter\n",
    "\n",
    "\n",
    "fig = plt.figure(figsize=(16, 8))\n",
    "gs = GridSpec(df.shape[1],2)\n",
    "\n",
    "\n",
    "\n",
    "ax1 = fig.add_subplot(gs[0:df.shape[1]//2, 0])  # Top half of the first column\n",
    "ax1.set_title('SWCPD',fontsize=18)\n",
    "test_stat = np.subtract(detector.upper[:-1],detector.cumsum[1:])\n",
    "ax1.plot(t,test_stat,alpha=1,lw=2,color='blue')\n",
    "ax1.vlines(np.array(detector.change_points['loc']),min(test_stat),max(test_stat),color='red',alpha=1.0,lw=2,ls='--',label='Estimated CPs')\n",
    "ax1.scatter(GroundTruth,np.zeros(len(GroundTruth)),marker='x',color='black',s=100,linewidth=3,label='True CPs')\n",
    "ax1.set_ylabel('Test score',fontsize=16)\n",
    "ax1.legend(loc='upper right')\n",
    "\n",
    "ax2 = fig.add_subplot(gs[df.shape[1]//2:, 0])  # Top half of the first colum\n",
    "ax2.set_title('ClasPy',fontsize=20)\n",
    "#ax2.plot(np.arange(clasp.profile.shape[0]),clasp.profile,color='blue',lw=0.75)\n",
    "ax2.plot(t[:-window_size],clasp.profile[t[:-window_size]],color='blue',lw=2)\n",
    "ax2.scatter(GroundTruth,np.min(clasp.profile)*np.ones(len(GroundTruth)),marker='x',color='black',s=100,linewidth=3)\n",
    "ax2.vlines(clasp.change_points,np.min(clasp.profile),np.max(clasp.profile),color='red',lw=2,ls='--')\n",
    "#ax2.plot(clasp.change_points,np.min(clasp.profile)*np.ones(len(clasp.change_points)),'o',color='red',ms=4)\n",
    "#ax2.set_xlabel('Time')\n",
    "ax2.set_ylabel('ClaSP Score',fontsize=16)\n",
    "ax2.yaxis.set_major_formatter(FuncFormatter(lambda y, _: f\"{y:.2f}\"))\n",
    "\n",
    "\n",
    "#### fill out right hand side\n",
    "\n",
    "for i in range(df.shape[1]):\n",
    "    ax = fig.add_subplot(gs[i, 1])  \n",
    "    ax.plot(df.iloc[:,i].values,lw=2,color='blue',alpha=1)\n",
    "    ax.scatter(GroundTruth,(np.min(df.iloc[:,i]-1))*np.ones(len(GroundTruth)),marker='x',color='black',s=30,alpha=1)\n",
    "    if i == 0: \n",
    "        ax.set_title('Time Series',fontsize=18)\n",
    "\n",
    "fig.tight_layout()\n"
   ]
  },
  {
   "cell_type": "code",
   "execution_count": 210,
   "metadata": {},
   "outputs": [],
   "source": [
    "fig.savefig('HASC_TS_243.pdf')"
   ]
  },
  {
   "cell_type": "code",
   "execution_count": 213,
   "metadata": {},
   "outputs": [
    {
     "data": {
      "text/plain": [
       "'HASC_TS_243.csv'"
      ]
     },
     "execution_count": 213,
     "metadata": {},
     "output_type": "execute_result"
    }
   ],
   "source": [
    "\"HASC_TS_\"+str(id)+\".csv\""
   ]
  },
  {
   "cell_type": "code",
   "execution_count": 28,
   "metadata": {},
   "outputs": [
    {
     "data": {
      "text/plain": [
       "'c:\\\\Users\\\\Sven Jacob\\\\Documents\\\\Github\\\\SWDCPD\\\\Appendix'"
      ]
     },
     "execution_count": 28,
     "metadata": {},
     "output_type": "execute_result"
    }
   ],
   "source": [
    "BinaryClaSPSegmentation()"
   ]
  },
  {
   "cell_type": "code",
   "execution_count": 404,
   "metadata": {},
   "outputs": [],
   "source": [
    "for id in IDs:\n",
    "    df_exp, cps = prepare_data(df_TS,8,id)\n",
    "    df_exp.to_csv(\"HASC_TS_\"+str(id)+\".csv\")"
   ]
  }
 ],
 "metadata": {
  "kernelspec": {
   "display_name": "torch",
   "language": "python",
   "name": "python3"
  },
  "language_info": {
   "codemirror_mode": {
    "name": "ipython",
    "version": 3
   },
   "file_extension": ".py",
   "mimetype": "text/x-python",
   "name": "python",
   "nbconvert_exporter": "python",
   "pygments_lexer": "ipython3",
   "version": "3.12.3"
  }
 },
 "nbformat": 4,
 "nbformat_minor": 2
}
