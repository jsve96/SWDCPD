{
 "cells": [
  {
   "cell_type": "code",
   "execution_count": 3,
   "metadata": {},
   "outputs": [],
   "source": [
    "import numpy as np\n",
    "import matplotlib.pyplot as plt\n",
    "import pandas as pd\n",
    "import torch\n",
    "from torchvision import datasets\n",
    "from torch.utils.data import DataLoader\n",
    "from torchvision import transforms\n",
    "from utilsCPD import *\n",
    "import matplotlib.pyplot as plt\n",
    "from SWCPD import BaseDetector as SWDCP"
   ]
  },
  {
   "cell_type": "code",
   "execution_count": 98,
   "metadata": {},
   "outputs": [],
   "source": [
    "#detection_delay(set(detector.change_points['loc']),set(GroundTruth))\n",
    "def detection_delay(gt, pred):\n",
    "    \"\"\"Compute detection delay for each predicted CP.\n",
    "    \n",
    "    Args:\n",
    "        T (set): Ground truth CPs (annotations).\n",
    "        X (set): Predicted CPs.\n",
    "\n",
    "    Returns:\n",
    "        delays (dict): {prediction: detection delay}\n",
    "        avg_delay (float): Mean detection delay\n",
    "    \"\"\"\n",
    "    T = set(gt)\n",
    "    X = set(pred)\n",
    "    delays = {}\n",
    "    for x in X:\n",
    "        if T:  # Ensure T is not empty\n",
    "            closest_t = min(T, key=lambda t: abs(x - t))  # Find closest annotation\n",
    "            delays[x] = abs(x - closest_t)  # Compute delay\n",
    "    \n",
    "    avg_delay = np.mean(list(delays.values())) if delays else 0  # Mean delay\n",
    "    return delays, avg_delay\n",
    "\n",
    "\n",
    "def f_measure(annotations, predictions, margin=5, alpha=0.5, return_PR=False):\n",
    "    \"\"\"Compute the F-measure based on human annotations.\n",
    "\n",
    "    annotations : dict from user_id to iterable of CP locations\n",
    "    predictions : iterable of predicted CP locations\n",
    "    alpha : value for the F-measure, alpha=0.5 gives the F1-measure\n",
    "    return_PR : whether to return precision and recall too\n",
    "\n",
    "    Remember that all CP locations are 0-based!\n",
    "\n",
    "    >>> f_measure({1: [10, 20], 2: [11, 20], 3: [10], 4: [0, 5]}, [10, 20])\n",
    "    1.0\n",
    "    >>> f_measure({1: [], 2: [10], 3: [50]}, [10])\n",
    "    0.9090909090909091\n",
    "    >>> f_measure({1: [], 2: [10], 3: [50]}, [])\n",
    "    0.8\n",
    "    \"\"\"\n",
    "    # ensure 0 is in all the sets\n",
    "    Tks = {k + 1: set(annotations[uid]) for k, uid in enumerate(annotations)}\n",
    "    for Tk in Tks.values():\n",
    "        Tk.add(0)\n",
    "\n",
    "    X = set(predictions)\n",
    "    X.add(0)\n",
    "\n",
    "    Tstar = set()\n",
    "    for Tk in Tks.values():\n",
    "        for tau in Tk:\n",
    "            Tstar.add(tau)\n",
    "\n",
    "    K = len(Tks)\n",
    "\n",
    "    P = len(true_positives(Tstar, X, margin=margin)) / len(X)\n",
    "\n",
    "    TPk = {k: true_positives(Tks[k], X, margin=margin) for k in Tks}\n",
    "    R = 1 / K * sum(len(TPk[k]) / len(Tks[k]) for k in Tks)\n",
    "\n",
    "    TP = false_positives(Tstar,X,margin=margin)\n",
    "    F = P * R / (alpha * R + (1 - alpha) * P)\n",
    "    if return_PR:\n",
    "        return F, P, R\n",
    "    return F, auc([0,R,1.0],[1.0,P,0]),len(false_positives(Tstar,X,margin=margin))\n",
    "\n",
    "\n",
    "\n",
    "def true_positives(T, X, margin=5):\n",
    "    \"\"\"Compute true positives without double counting\n",
    "\n",
    "    >>> true_positives({1, 10, 20, 23}, {3, 8, 20})\n",
    "    {1, 10, 20}\n",
    "    >>> true_positives({1, 10, 20, 23}, {1, 3, 8, 20})\n",
    "    {1, 10, 20}\n",
    "    >>> true_positives({1, 10, 20, 23}, {1, 3, 5, 8, 20})\n",
    "    {1, 10, 20}\n",
    "    >>> true_positives(set(), {1, 2, 3})\n",
    "    set()\n",
    "    >>> true_positives({1, 2, 3}, set())\n",
    "    set()\n",
    "    \"\"\"\n",
    "    # make a copy so we don't affect the caller\n",
    "    X = set(list(X))\n",
    "    TP = set()\n",
    "    for tau in T:\n",
    "        close = [(abs(tau - x), x) for x in X if abs(tau - x) <= margin]\n",
    "        close.sort()\n",
    "        if not close:\n",
    "            continue\n",
    "        dist, xstar = close[0]\n",
    "        TP.add(tau)\n",
    "        X.remove(xstar)\n",
    "    return TP\n",
    "\n",
    "# def false_positives(T, X, margin=5):\n",
    "#     \"\"\"Returns a set of false positives (incorrectly predicted CPs).\"\"\"\n",
    "#     TP = true_positives(T, X, margin)\n",
    "#     return X - TP  # FP = All Predictions - True Positives\n",
    "def false_positives(T, X, margin=5):\n",
    "    \"\"\"Compute false positives (predictions that don't match any true CPs within margin).\"\"\"\n",
    "    FP = set()\n",
    "    for x in X:\n",
    "        if not any(abs(x - t) <= margin for t in T):  # No match within margin\n",
    "            FP.add(x)\n",
    "    return FP"
   ]
  },
  {
   "cell_type": "markdown",
   "metadata": {},
   "source": [
    "#### Add Grid Search for reviewer as well, \n",
    "\n",
    "### Add metrics False change rate, Detection delay, Error rate, detection accuracy"
   ]
  },
  {
   "cell_type": "code",
   "execution_count": 46,
   "metadata": {},
   "outputs": [
    {
     "name": "stdout",
     "output_type": "stream",
     "text": [
      "[[1.57454012 0.2        0.2        1.93199394 0.2        2.15071431\n",
      "  0.2        0.2        0.2        0.2        0.2        0.2\n",
      "  0.2        0.2        0.2        0.2        0.2        0.2\n",
      "  0.2        0.2       ]\n",
      " [3.3731986  0.2        0.2        3.28798846 0.2        3.50673295\n",
      "  0.2        0.2        0.2        0.2        0.2        0.2\n",
      "  0.2        0.2        0.2        0.2        0.2        0.2\n",
      "  0.2        0.2       ]]\n"
     ]
    },
    {
     "data": {
      "text/plain": [
       "<Axes: >"
      ]
     },
     "execution_count": 46,
     "metadata": {},
     "output_type": "execute_result"
    },
    {
     "data": {
      "image/png": "[encoded data removed]",
      "text/plain": [
       "<Figure size 640x480 with 1 Axes>"
      ]
     },
     "metadata": {},
     "output_type": "display_data"
    }
   ],
   "source": [
    "import numpy as np\n",
    "\n",
    "def make_dynamic_blobs_var(n_samples, base_center, n_clusters, varying_features, \n",
    "                           base_cluster_std=1.0, std_variation_range=(0.5, 2.0), \n",
    "                           random_state=None):\n",
    "    \"\"\"\n",
    "    Generate synthetic data where the variance of certain features varies across clusters.\n",
    "    \n",
    "    Parameters:\n",
    "        n_samples: int\n",
    "            Total number of samples.\n",
    "        base_center: array-like\n",
    "            The center of the first cluster. Shape: (n_features,).\n",
    "        n_clusters: int\n",
    "            Number of clusters to generate.\n",
    "        varying_features: list of int\n",
    "            Indices of features where variance should change across clusters.\n",
    "        base_cluster_std: float\n",
    "            Base standard deviation of clusters.\n",
    "        std_variation_range: tuple\n",
    "            Range (min, max) for random uniform scaling of the base standard deviation.\n",
    "        random_state: int or None\n",
    "            Random seed for reproducibility.\n",
    "    \n",
    "    Returns:\n",
    "        X: ndarray of shape (n_samples, n_features)\n",
    "            The generated samples.\n",
    "        y: ndarray of shape (n_samples,)\n",
    "            The integer labels for cluster membership.\n",
    "        cluster_stds: ndarray of shape (n_clusters, n_features)\n",
    "            The standard deviations used for each cluster.\n",
    "    \"\"\"\n",
    "    if random_state is not None:\n",
    "        np.random.seed(random_state)\n",
    "    \n",
    "    n_features = len(base_center)\n",
    "    samples_per_cluster = n_samples // n_clusters\n",
    "    remainder = n_samples % n_clusters\n",
    "\n",
    "    # Keep the same center for all clusters\n",
    "    centers = np.tile(base_center, (n_clusters, 1))\n",
    "\n",
    "    # Generate different standard deviations per cluster\n",
    "    cluster_stds = np.full((n_clusters, n_features), base_cluster_std, dtype=float)\n",
    "    \n",
    "    for cluster_idx in range(n_clusters):\n",
    "        for feature in varying_features:\n",
    "            # Randomly scale the standard deviation for this cluster and feature\n",
    "            cluster_stds[cluster_idx, feature] += np.random.uniform(*std_variation_range)#*np.random.uniform(*std_variation_range)\n",
    "            if cluster_idx>0:\n",
    "                cluster_stds[cluster_idx, feature] +=cluster_stds[cluster_idx-1,feature]\n",
    "    \n",
    "    # Generate points for each cluster\n",
    "    X = []\n",
    "    y = []\n",
    "    for cluster_idx in range(n_clusters):\n",
    "        cluster_size = samples_per_cluster + (1 if cluster_idx < remainder else 0)\n",
    "        cluster_points = np.random.normal(\n",
    "            loc=centers[cluster_idx],  # Keep the center fixed\n",
    "            scale=cluster_stds[cluster_idx],  # Use varying standard deviation\n",
    "            size=(cluster_size, n_features)\n",
    "        )\n",
    "        X.append(cluster_points)\n",
    "        y.extend([cluster_idx] * cluster_size)\n",
    "    \n",
    "    X = np.vstack(X)\n",
    "    y = np.array(y)\n",
    "    \n",
    "    return X.astype(np.float32), y, cluster_stds\n",
    "\n",
    "\n",
    "\n",
    "\n",
    "base_center = list(np.random.uniform(-5,5,20))  # 2D example\n",
    "n_clusters = 2\n",
    "n_samples = 1000\n",
    "varying_features = [0,5,3]  # Only vary the variance of the second feature\n",
    "base_cluster_std = 0.2\n",
    "std_variation_range = (1.0, 2.0)\n",
    "\n",
    "X, y, cluster_stds = make_dynamic_blobs_var(n_samples, base_center, n_clusters, \n",
    "                                            varying_features, base_cluster_std, \n",
    "                                            std_variation_range, random_state=42)\n",
    "print(cluster_stds)\n",
    "fig, ax = plt.subplots()\n",
    "pd.DataFrame(X).plot(ax=ax,legend=True)"
   ]
  },
  {
   "cell_type": "code",
   "execution_count": 89,
   "metadata": {},
   "outputs": [
    {
     "name": "stdout",
     "output_type": "stream",
     "text": [
      "0\n",
      "[ 500 1000]\n",
      "cpu\n"
     ]
    },
    {
     "name": "stderr",
     "output_type": "stream",
     "text": [
      " 68%|██████▊   | 984/1451 [00:07<00:03, 127.96it/s]"
     ]
    },
    {
     "name": "stdout",
     "output_type": "stream",
     "text": [
      "Change detected at: 1014 \n",
      "Initiate new segment\n"
     ]
    },
    {
     "name": "stderr",
     "output_type": "stream",
     "text": [
      "100%|██████████| 1451/1451 [00:10<00:00, 140.47it/s]"
     ]
    },
    {
     "name": "stdout",
     "output_type": "stream",
     "text": [
      "{'F1': (0.8, 0.8333333333333333, 0, 7.0), 'Covering': 0.6527310979618672}\n"
     ]
    },
    {
     "name": "stderr",
     "output_type": "stream",
     "text": [
      "\n"
     ]
    }
   ],
   "source": [
    "METRICS_SWD = {}\n",
    "for id,i in enumerate(range(1)):\n",
    "    print(id)\n",
    "    METRICS_SWD[id]  = {}\n",
    "    df, GroundTruth = X, np.where(np.diff(y)!=0)[0]+1\n",
    "    print(GroundTruth)\n",
    "    #100-100\n",
    "    #50-50 for ExpPLot \n",
    "    detector = SWDCP(data=df,window_length=50,max_history=50,significance=0.01)\n",
    "    print(detector.device)\n",
    "    detector.process_dataloader(p=4,n_theta=1000,explanations=False,exp_param={'num_features_to_remove':3,'max_parameter':True,\"q\":0.95})\n",
    "    METRICS_SWD[id]['F1'] =f_measure({'0':GroundTruth},detector.change_points['loc'],margin=20)\n",
    "    METRICS_SWD[id]['Covering'] = covering({'0':GroundTruth},detector.change_points['loc'],n_obs=df.shape[0])\n",
    "    print(METRICS_SWD[id])"
   ]
  },
  {
   "cell_type": "code",
   "execution_count": 91,
   "metadata": {},
   "outputs": [],
   "source": [
    "base_center = list(np.random.uniform(-5,5,50))#,0,0,0,0]  # Base center for the first cluster\n",
    "base_cluster_std = 0.2\n",
    "std_variation_range = (1.0, 2.0)"
   ]
  },
  {
   "cell_type": "code",
   "execution_count": 100,
   "metadata": {},
   "outputs": [
    {
     "name": "stdout",
     "output_type": "stream",
     "text": [
      "2020 (0.5, 1.0)\n",
      "[ 500 1000]\n",
      "cpu\n"
     ]
    },
    {
     "name": "stderr",
     "output_type": "stream",
     "text": [
      " 35%|███▍      | 507/1451 [00:02<00:04, 191.87it/s]"
     ]
    },
    {
     "name": "stdout",
     "output_type": "stream",
     "text": [
      "Change detected at: 523 \n",
      "Initiate new segment\n"
     ]
    },
    {
     "name": "stderr",
     "output_type": "stream",
     "text": [
      "100%|██████████| 1451/1451 [00:07<00:00, 191.82it/s]\n"
     ]
    },
    {
     "name": "stdout",
     "output_type": "stream",
     "text": [
      "2021 (0.5, 1.0)\n",
      "[ 500 1000]\n",
      "cpu\n"
     ]
    },
    {
     "name": "stderr",
     "output_type": "stream",
     "text": [
      " 33%|███▎      | 479/1451 [00:02<00:05, 184.75it/s]"
     ]
    },
    {
     "name": "stdout",
     "output_type": "stream",
     "text": [
      "Change detected at: 505 \n",
      "Initiate new segment\n"
     ]
    },
    {
     "name": "stderr",
     "output_type": "stream",
     "text": [
      " 69%|██████▊   | 994/1451 [00:05<00:02, 190.90it/s]"
     ]
    },
    {
     "name": "stdout",
     "output_type": "stream",
     "text": [
      "Change detected at: 1010 \n",
      "Initiate new segment\n"
     ]
    },
    {
     "name": "stderr",
     "output_type": "stream",
     "text": [
      "100%|██████████| 1451/1451 [00:07<00:00, 189.43it/s]\n"
     ]
    },
    {
     "name": "stdout",
     "output_type": "stream",
     "text": [
      "2022 (0.5, 1.0)\n",
      "[ 500 1000]\n",
      "cpu\n"
     ]
    },
    {
     "name": "stderr",
     "output_type": "stream",
     "text": [
      " 34%|███▍      | 490/1451 [00:02<00:05, 191.02it/s]"
     ]
    },
    {
     "name": "stdout",
     "output_type": "stream",
     "text": [
      "Change detected at: 506 \n",
      "Initiate new segment\n"
     ]
    },
    {
     "name": "stderr",
     "output_type": "stream",
     "text": [
      " 69%|██████▊   | 997/1451 [00:05<00:02, 197.18it/s]"
     ]
    },
    {
     "name": "stdout",
     "output_type": "stream",
     "text": [
      "Change detected at: 1023 \n",
      "Initiate new segment\n",
      "Change detected at: 1030 \n",
      "Initiate new segment\n"
     ]
    },
    {
     "name": "stderr",
     "output_type": "stream",
     "text": [
      "100%|██████████| 1451/1451 [00:07<00:00, 193.89it/s]\n"
     ]
    },
    {
     "name": "stdout",
     "output_type": "stream",
     "text": [
      "2023 (0.5, 1.0)\n",
      "[ 500 1000]\n",
      "cpu\n"
     ]
    },
    {
     "name": "stderr",
     "output_type": "stream",
     "text": [
      " 35%|███▍      | 501/1451 [00:02<00:04, 195.48it/s]"
     ]
    },
    {
     "name": "stdout",
     "output_type": "stream",
     "text": [
      "Change detected at: 523 \n",
      "Initiate new segment\n",
      "Change detected at: 540 \n",
      "Initiate new segment\n"
     ]
    },
    {
     "name": "stderr",
     "output_type": "stream",
     "text": [
      "100%|██████████| 1451/1451 [00:07<00:00, 196.77it/s]\n"
     ]
    },
    {
     "name": "stdout",
     "output_type": "stream",
     "text": [
      "2024 (0.5, 1.0)\n",
      "[ 500 1000]\n",
      "cpu\n"
     ]
    },
    {
     "name": "stderr",
     "output_type": "stream",
     "text": [
      " 33%|███▎      | 481/1451 [00:02<00:05, 191.36it/s]"
     ]
    },
    {
     "name": "stdout",
     "output_type": "stream",
     "text": [
      "Change detected at: 508 \n",
      "Initiate new segment\n",
      "Change detected at: 510 \n",
      "Initiate new segment\n"
     ]
    },
    {
     "name": "stderr",
     "output_type": "stream",
     "text": [
      "100%|██████████| 1451/1451 [00:07<00:00, 196.36it/s]\n"
     ]
    },
    {
     "name": "stdout",
     "output_type": "stream",
     "text": [
      "2020 (0.7, 1.2)\n",
      "[ 500 1000]\n",
      "cpu\n"
     ]
    },
    {
     "name": "stderr",
     "output_type": "stream",
     "text": [
      " 34%|███▍      | 500/1451 [00:02<00:04, 192.80it/s]"
     ]
    },
    {
     "name": "stdout",
     "output_type": "stream",
     "text": [
      "Change detected at: 519 \n",
      "Initiate new segment\n"
     ]
    },
    {
     "name": "stderr",
     "output_type": "stream",
     "text": [
      "100%|██████████| 1451/1451 [00:07<00:00, 193.86it/s]\n"
     ]
    },
    {
     "name": "stdout",
     "output_type": "stream",
     "text": [
      "2021 (0.7, 1.2)\n",
      "[ 500 1000]\n",
      "cpu\n"
     ]
    },
    {
     "name": "stderr",
     "output_type": "stream",
     "text": [
      " 33%|███▎      | 483/1451 [00:02<00:04, 202.07it/s]"
     ]
    },
    {
     "name": "stdout",
     "output_type": "stream",
     "text": [
      "Change detected at: 505 \n",
      "Initiate new segment\n"
     ]
    },
    {
     "name": "stderr",
     "output_type": "stream",
     "text": [
      " 67%|██████▋   | 979/1451 [00:04<00:02, 197.61it/s]"
     ]
    },
    {
     "name": "stdout",
     "output_type": "stream",
     "text": [
      "Change detected at: 1010 \n",
      "Initiate new segment\n"
     ]
    },
    {
     "name": "stderr",
     "output_type": "stream",
     "text": [
      "100%|██████████| 1451/1451 [00:07<00:00, 198.81it/s]\n"
     ]
    },
    {
     "name": "stdout",
     "output_type": "stream",
     "text": [
      "2022 (0.7, 1.2)\n",
      "[ 500 1000]\n",
      "cpu\n"
     ]
    },
    {
     "name": "stderr",
     "output_type": "stream",
     "text": [
      " 34%|███▍      | 491/1451 [00:02<00:05, 191.15it/s]"
     ]
    },
    {
     "name": "stdout",
     "output_type": "stream",
     "text": [
      "Change detected at: 506 \n",
      "Initiate new segment\n"
     ]
    },
    {
     "name": "stderr",
     "output_type": "stream",
     "text": [
      " 69%|██████▉   | 1004/1451 [00:05<00:02, 186.10it/s]"
     ]
    },
    {
     "name": "stdout",
     "output_type": "stream",
     "text": [
      "Change detected at: 1023 \n",
      "Initiate new segment\n",
      "Change detected at: 1030 \n",
      "Initiate new segment\n"
     ]
    },
    {
     "name": "stderr",
     "output_type": "stream",
     "text": [
      "100%|██████████| 1451/1451 [00:07<00:00, 189.60it/s]\n"
     ]
    },
    {
     "name": "stdout",
     "output_type": "stream",
     "text": [
      "2023 (0.7, 1.2)\n",
      "[ 500 1000]\n",
      "cpu\n"
     ]
    },
    {
     "name": "stderr",
     "output_type": "stream",
     "text": [
      " 34%|███▍      | 500/1451 [00:02<00:04, 191.81it/s]"
     ]
    },
    {
     "name": "stdout",
     "output_type": "stream",
     "text": [
      "Change detected at: 521 \n",
      "Initiate new segment\n"
     ]
    },
    {
     "name": "stderr",
     "output_type": "stream",
     "text": [
      "100%|██████████| 1451/1451 [00:07<00:00, 190.05it/s]\n"
     ]
    },
    {
     "name": "stdout",
     "output_type": "stream",
     "text": [
      "2024 (0.7, 1.2)\n",
      "[ 500 1000]\n",
      "cpu\n"
     ]
    },
    {
     "name": "stderr",
     "output_type": "stream",
     "text": [
      " 33%|███▎      | 479/1451 [00:02<00:05, 189.14it/s]"
     ]
    },
    {
     "name": "stdout",
     "output_type": "stream",
     "text": [
      "Change detected at: 507 \n",
      "Initiate new segment\n"
     ]
    },
    {
     "name": "stderr",
     "output_type": "stream",
     "text": [
      "100%|██████████| 1451/1451 [00:07<00:00, 191.71it/s]\n"
     ]
    },
    {
     "name": "stdout",
     "output_type": "stream",
     "text": [
      "2020 (1.2, 1.7)\n",
      "[ 500 1000]\n",
      "cpu\n"
     ]
    },
    {
     "name": "stderr",
     "output_type": "stream",
     "text": [
      " 34%|███▎      | 488/1451 [00:02<00:04, 197.87it/s]"
     ]
    },
    {
     "name": "stdout",
     "output_type": "stream",
     "text": [
      "Change detected at: 514 \n",
      "Initiate new segment\n",
      "Change detected at: 517 \n",
      "Initiate new segment\n"
     ]
    },
    {
     "name": "stderr",
     "output_type": "stream",
     "text": [
      "100%|██████████| 1451/1451 [00:07<00:00, 189.64it/s]\n"
     ]
    },
    {
     "name": "stdout",
     "output_type": "stream",
     "text": [
      "2021 (1.2, 1.7)\n",
      "[ 500 1000]\n",
      "cpu\n"
     ]
    },
    {
     "name": "stderr",
     "output_type": "stream",
     "text": [
      " 34%|███▍      | 493/1451 [00:02<00:04, 193.18it/s]"
     ]
    },
    {
     "name": "stdout",
     "output_type": "stream",
     "text": [
      "Change detected at: 505 \n",
      "Initiate new segment\n"
     ]
    },
    {
     "name": "stderr",
     "output_type": "stream",
     "text": [
      " 69%|██████▊   | 995/1451 [00:05<00:02, 196.33it/s]"
     ]
    },
    {
     "name": "stdout",
     "output_type": "stream",
     "text": [
      "Change detected at: 1011 \n",
      "Initiate new segment\n"
     ]
    },
    {
     "name": "stderr",
     "output_type": "stream",
     "text": [
      "100%|██████████| 1451/1451 [00:07<00:00, 191.66it/s]\n"
     ]
    },
    {
     "name": "stdout",
     "output_type": "stream",
     "text": [
      "2022 (1.2, 1.7)\n",
      "[ 500 1000]\n",
      "cpu\n"
     ]
    },
    {
     "name": "stderr",
     "output_type": "stream",
     "text": [
      " 33%|███▎      | 484/1451 [00:02<00:05, 189.90it/s]"
     ]
    },
    {
     "name": "stdout",
     "output_type": "stream",
     "text": [
      "Change detected at: 506 \n",
      "Initiate new segment\n"
     ]
    },
    {
     "name": "stderr",
     "output_type": "stream",
     "text": [
      " 69%|██████▉   | 1005/1451 [00:05<00:02, 188.06it/s]"
     ]
    },
    {
     "name": "stdout",
     "output_type": "stream",
     "text": [
      "Change detected at: 1023 \n",
      "Initiate new segment\n",
      "Change detected at: 1029 \n",
      "Initiate new segment\n"
     ]
    },
    {
     "name": "stderr",
     "output_type": "stream",
     "text": [
      "100%|██████████| 1451/1451 [00:07<00:00, 182.58it/s]\n"
     ]
    },
    {
     "name": "stdout",
     "output_type": "stream",
     "text": [
      "2023 (1.2, 1.7)\n",
      "[ 500 1000]\n",
      "cpu\n"
     ]
    },
    {
     "name": "stderr",
     "output_type": "stream",
     "text": [
      " 34%|███▍      | 496/1451 [00:02<00:04, 197.15it/s]"
     ]
    },
    {
     "name": "stdout",
     "output_type": "stream",
     "text": [
      "Change detected at: 520 \n",
      "Initiate new segment\n"
     ]
    },
    {
     "name": "stderr",
     "output_type": "stream",
     "text": [
      "100%|██████████| 1451/1451 [00:07<00:00, 192.69it/s]\n"
     ]
    },
    {
     "name": "stdout",
     "output_type": "stream",
     "text": [
      "2024 (1.2, 1.7)\n",
      "[ 500 1000]\n",
      "cpu\n"
     ]
    },
    {
     "name": "stderr",
     "output_type": "stream",
     "text": [
      " 34%|███▎      | 487/1451 [00:02<00:05, 192.50it/s]"
     ]
    },
    {
     "name": "stdout",
     "output_type": "stream",
     "text": [
      "Change detected at: 507 \n",
      "Initiate new segment\n"
     ]
    },
    {
     "name": "stderr",
     "output_type": "stream",
     "text": [
      "100%|██████████| 1451/1451 [00:07<00:00, 191.51it/s]\n"
     ]
    },
    {
     "data": {
      "text/plain": [
       "{'(0.5, 1.0)': {'F1 & AUC & FP': [{'5': (0.4, 0.4166666666666667, 1),\n",
       "    '10': (0.4, 0.4166666666666667, 1),\n",
       "    '20': (0.4, 0.4166666666666667, 1)},\n",
       "   {'5': (0.6666666666666666, 0.6666666666666666, 1),\n",
       "    '10': (1.0, 1.0, 0),\n",
       "    '20': (1.0, 1.0, 0)},\n",
       "   {'5': (0.28571428571428575, 0.29166666666666663, 3),\n",
       "    '10': (0.5714285714285715, 0.5833333333333334, 2),\n",
       "    '20': (0.5714285714285715, 0.5833333333333334, 2)},\n",
       "   {'5': (0.3333333333333333, 0.3333333333333333, 2),\n",
       "    '10': (0.3333333333333333, 0.3333333333333333, 2),\n",
       "    '20': (0.3333333333333333, 0.3333333333333333, 2)},\n",
       "   {'5': (0.3333333333333333, 0.3333333333333333, 2),\n",
       "    '10': (0.6666666666666666, 0.6666666666666666, 0),\n",
       "    '20': (0.6666666666666666, 0.6666666666666666, 0)}],\n",
       "  'Covering': [0.648264557088367,\n",
       "   0.9802290817317025,\n",
       "   0.9575643205687265,\n",
       "   0.6456187592946676,\n",
       "   0.659767491184814],\n",
       "  'DD': [23.0, 7.5, 19.666666666666668, 31.5, 9.0]},\n",
       " '(0.7, 1.2)': {'F1 & AUC & FP': [{'5': (0.4, 0.4166666666666667, 1),\n",
       "    '10': (0.4, 0.4166666666666667, 1),\n",
       "    '20': (0.8, 0.8333333333333333, 0)},\n",
       "   {'5': (0.6666666666666666, 0.6666666666666666, 1),\n",
       "    '10': (1.0, 1.0, 0),\n",
       "    '20': (1.0, 1.0, 0)},\n",
       "   {'5': (0.28571428571428575, 0.29166666666666663, 3),\n",
       "    '10': (0.5714285714285715, 0.5833333333333334, 2),\n",
       "    '20': (0.5714285714285715, 0.5833333333333334, 2)},\n",
       "   {'5': (0.4, 0.4166666666666667, 1),\n",
       "    '10': (0.4, 0.4166666666666667, 1),\n",
       "    '20': (0.4, 0.4166666666666667, 1)},\n",
       "   {'5': (0.4, 0.4166666666666667, 1),\n",
       "    '10': (0.8, 0.8333333333333333, 0),\n",
       "    '20': (0.8, 0.8333333333333333, 0)}],\n",
       "  'Covering': [0.6513583775746898,\n",
       "   0.9802290817317025,\n",
       "   0.9575643205687265,\n",
       "   0.6498060426996354,\n",
       "   0.6609059888648547],\n",
       "  'DD': [19.0, 7.5, 19.666666666666668, 21.0, 7.0]},\n",
       " '(1.2, 1.7)': {'F1 & AUC & FP': [{'5': (0.3333333333333333,\n",
       "     0.3333333333333333,\n",
       "     2),\n",
       "    '10': (0.3333333333333333, 0.3333333333333333, 2),\n",
       "    '20': (0.6666666666666666, 0.6666666666666666, 0)},\n",
       "   {'5': (0.6666666666666666, 0.6666666666666666, 1),\n",
       "    '10': (0.6666666666666666, 0.6666666666666666, 1),\n",
       "    '20': (1.0, 1.0, 0)},\n",
       "   {'5': (0.28571428571428575, 0.29166666666666663, 3),\n",
       "    '10': (0.5714285714285715, 0.5833333333333334, 2),\n",
       "    '20': (0.5714285714285715, 0.5833333333333334, 2)},\n",
       "   {'5': (0.4, 0.4166666666666667, 1),\n",
       "    '10': (0.4, 0.4166666666666667, 1),\n",
       "    '20': (0.8, 0.8333333333333333, 0)},\n",
       "   {'5': (0.4, 0.4166666666666667, 1),\n",
       "    '10': (0.8, 0.8333333333333333, 0),\n",
       "    '20': (0.8, 0.8333333333333333, 0)}],\n",
       "  'Covering': [0.6548032149657009,\n",
       "   0.9789292851007214,\n",
       "   0.9582309872353932,\n",
       "   0.6505808477237048,\n",
       "   0.6609059888648547],\n",
       "  'DD': [15.5, 8.0, 19.333333333333332, 20.0, 7.0]}}"
      ]
     },
     "execution_count": 100,
     "metadata": {},
     "output_type": "execute_result"
    }
   ],
   "source": [
    "random_states = [2020,2021,2022,2023,2024]#,2021,2022,2023,2024,2025]\n",
    "n_clusters = 3\n",
    "n_samples = 1500\n",
    "varying_features = [0,5,3,10,15,20]\n",
    "\n",
    "SIGMA = [(0.5,1.0),(0.7,1.2),(1.2,1.7)]\n",
    "\n",
    "METRICS = []\n",
    "#METRICS[rs] = {}\n",
    "RUN_STATS = {}\n",
    "for sigma in SIGMA:\n",
    "    RUN_STATS[str(sigma)] = {'F1 & AUC & FP':[],'Covering':[],'DD':[]}\n",
    "    for rs in random_states:\n",
    "        print(rs,sigma)\n",
    "        #RUN_STATS[sigma] = {}\n",
    "        X, y, centers = make_dynamic_blobs_var(\n",
    "            n_samples=n_samples, \n",
    "            base_center=base_center, \n",
    "            n_clusters=n_clusters, \n",
    "            varying_features=varying_features, \n",
    "            base_cluster_std=base_cluster_std,\n",
    "            std_variation_range=sigma,\n",
    "            random_state=rs\n",
    "        )\n",
    "        df, GroundTruth = X, np.where(np.diff(y)!=0)[0]+1\n",
    "        print(GroundTruth)\n",
    "        detector = SWDCP(data=df,window_length=50,max_history=50,significance=0.01)\n",
    "        print(detector.device)\n",
    "        detector.process_dataloader(p=4,n_theta=1000,explanations=False)\n",
    "        TMP = {}\n",
    "        for margin in [5,10,20]:\n",
    "            TMP[str(margin)] = f_measure({'0':GroundTruth},detector.change_points['loc'],margin=margin)\n",
    "        RUN_STATS[str(sigma)]['F1 & AUC & FP'].append(TMP)\n",
    "        RUN_STATS[str(sigma)]['Covering'].append(covering({'0':GroundTruth},detector.change_points['loc'],n_obs=df.shape[0]))\n",
    "        RUN_STATS[str(sigma)]['DD'].append(detection_delay(GroundTruth,detector.change_points['loc'])[1])\n",
    "\n",
    "    \n",
    "RUN_STATS\n"
   ]
  },
  {
   "cell_type": "code",
   "execution_count": 94,
   "metadata": {},
   "outputs": [],
   "source": [
    "k1,k2,k3 = RUN_STATS.keys()"
   ]
  },
  {
   "cell_type": "markdown",
   "metadata": {},
   "source": [
    "### AUC"
   ]
  },
  {
   "cell_type": "code",
   "execution_count": 128,
   "metadata": {},
   "outputs": [
    {
     "name": "stdout",
     "output_type": "stream",
     "text": [
      "5 0.41 0.14\n",
      "10 0.6 0.23\n",
      "20 0.6 0.23\n",
      "5 0.44 0.12\n",
      "10 0.65 0.23\n",
      "20 0.73 0.21\n",
      "5 0.42 0.13\n",
      "10 0.57 0.18\n",
      "20 0.78 0.15\n",
      "########## Fales Positives ############\n",
      "5 1.8 1 3\n",
      "10 1.0 0 2\n",
      "20 1.0 0 2\n",
      "5 1.4 1 3\n",
      "10 0.8 0 2\n",
      "20 0.6 0 2\n",
      "5 1.6 1 3\n",
      "10 1.2 0 2\n",
      "20 0.4 0 2\n"
     ]
    }
   ],
   "source": [
    "#RUN_STATS['(0.5, 1.0)']['F1 & AUC']\n",
    "\n",
    "\n",
    "grouped = {}\n",
    "\n",
    "for d in RUN_STATS[k1]['F1 & AUC & FP']:\n",
    "    for key, value in d.items():\n",
    "        if key not in grouped:\n",
    "            grouped[key] = []  # Initialize a list for each key\n",
    "        grouped[key].append(value[1])  # Append the value to the corresponding key\n",
    "\n",
    "#print(k1,pd.DataFrame(grouped).describe())\n",
    "for k,v in grouped.items():\n",
    "    print(k,np.round(np.mean(v),2),np.round(np.std(v),2))\n",
    "\n",
    "\n",
    "grouped = {}\n",
    "\n",
    "for d in RUN_STATS[k2]['F1 & AUC & FP']:\n",
    "    for key, value in d.items():\n",
    "        if key not in grouped:\n",
    "            grouped[key] = []  # Initialize a list for each key\n",
    "        grouped[key].append(value[1])  # Append the value to the corresponding key\n",
    "\n",
    "\n",
    "for k,v in grouped.items():\n",
    "    print(k,np.round(np.mean(v),2),np.round(np.std(v),2))\n",
    "\n",
    "\n",
    "grouped = {}\n",
    "\n",
    "\n",
    "for d in RUN_STATS[k3]['F1 & AUC & FP']:\n",
    "    for key, value in d.items():\n",
    "        if key not in grouped:\n",
    "            grouped[key] = []  # Initialize a list for each key\n",
    "        grouped[key].append(value[1])  # Append the value to the corresponding key\n",
    "\n",
    "#print(k3,pd.DataFrame(grouped).describe())\n",
    "for k,v in grouped.items():\n",
    "    print(k,np.round(np.mean(v),2),np.round(np.std(v),2))\n",
    "\n",
    "#### \n",
    "print(\"########## Fales Positives ############\")\n",
    "\n",
    "grouped = {}\n",
    "\n",
    "for d in RUN_STATS[k1]['F1 & AUC & FP']:\n",
    "    for key, value in d.items():\n",
    "        if key not in grouped:\n",
    "            grouped[key] = []  # Initialize a list for each key\n",
    "        grouped[key].append(value[2])  # Append the value to the corresponding key\n",
    "\n",
    "#print(k1,pd.DataFrame(grouped).describe())\n",
    "for k,v in grouped.items():\n",
    "    print(k,np.round(np.mean(v),2),np.min(v),np.max(v))\n",
    "\n",
    "\n",
    "grouped = {}\n",
    "\n",
    "for d in RUN_STATS[k2]['F1 & AUC & FP']:\n",
    "    for key, value in d.items():\n",
    "        if key not in grouped:\n",
    "            grouped[key] = []  # Initialize a list for each key\n",
    "        grouped[key].append(value[2])  # Append the value to the corresponding key\n",
    "\n",
    "\n",
    "for k,v in grouped.items():\n",
    "    print(k,np.round(np.mean(v),2),np.min(v),np.max(v))\n",
    "\n",
    "\n",
    "grouped = {}\n",
    "\n",
    "\n",
    "for d in RUN_STATS[k3]['F1 & AUC & FP']:\n",
    "    for key, value in d.items():\n",
    "        if key not in grouped:\n",
    "            grouped[key] = []  # Initialize a list for each key\n",
    "        grouped[key].append(value[2])  # Append the value to the corresponding key\n",
    "\n",
    "#print(k3,pd.DataFrame(grouped).describe())\n",
    "for k,v in grouped.items():\n",
    "    print(k,np.round(np.mean(v),2),np.min(v),np.max(v))"
   ]
  },
  {
   "cell_type": "code",
   "execution_count": 111,
   "metadata": {},
   "outputs": [],
   "source": [
    "key_dict = list(RUN_STATS.keys())"
   ]
  },
  {
   "cell_type": "code",
   "execution_count": 126,
   "metadata": {},
   "outputs": [
    {
     "name": "stdout",
     "output_type": "stream",
     "text": [
      "COVERING\n",
      "(0.5, 1.0) 0.7782888419736557 0.1558682352179693\n",
      "(0.7, 1.2) 0.7799727622879218 0.15446895249641127\n",
      "(1.2, 1.7) 0.780690064778075 0.1535862622643671\n",
      "DD\n",
      "(0.5, 1.0) 18.133333333333333 7.5 31.5\n",
      "(0.7, 1.2) 14.833333333333334 7.0 21.0\n",
      "(1.2, 1.7) 13.966666666666665 7.0 20.0\n"
     ]
    }
   ],
   "source": [
    "print('COVERING')\n",
    "for i in range(3):\n",
    "    print(key_dict[i],np.mean(RUN_STATS[key_dict[i]]['Covering']),np.std(RUN_STATS[key_dict[i]]['Covering']))\n",
    "print('DD')\n",
    "for i in range(3):\n",
    "    print(key_dict[i],np.mean(RUN_STATS[key_dict[i]]['DD']),np.min(RUN_STATS[key_dict[i]]['DD']),np.max(RUN_STATS[key_dict[i]]['DD']))"
   ]
  },
  {
   "cell_type": "markdown",
   "metadata": {},
   "source": [
    "\n",
    "\n",
    "| jump interval| $\\tau=5$ | $\\tau=10$ | $\\tau=20$ |\n",
    "|-------------|----------|-----------|-----------|\n",
    "| (0.5,1.0)        | 0.41 ± 0.14   | 0.6 ± 0.23  | 0.6 ± 0.23 |\n",
    "| (0.7,1.2)        | 0.44 ± 0.12  | 0.65± 0.23  | 0.73± 0.21   |\n",
    "| (1.2,1.7)       | 0.42 ± 0.13 | 0.57 ± 0.18  | 0.78 ± 0.15  |\n",
    "\n",
    "| jump interval| $\\tau=5$ | $\\tau=10$ | $\\tau=20$ |\n",
    "|-------------|----------|-----------|-----------|\n",
    "| (0.5,1.0)        | 1.8 (1;3)  | 1.0 (0;2)  | 1.0 (0;0)|\n",
    "| (0.7,1.2)        | 1.4 (1;3) | 0.8 (0;2) | 0.6  (0;0)  |\n",
    "| (1.2,1.7)       | 1.6 (1;3) | 1.2 (0;2) | 0.4 (0;2) |\n",
    "\n",
    "## Detection Delay\n",
    "\n",
    "| jump interval |DD (min;max)|\n",
    "|-------------|----------|\n",
    "| (0.5,1.0)          | 18 (7.5;31.5) | \n",
    "| (0.7,1.2)        | 14.8 (7;21) | \n",
    "|    (1.2,1.7)    | 14 (7.0;20) |"
   ]
  },
  {
   "cell_type": "markdown",
   "metadata": {},
   "source": [
    "### Other distributions"
   ]
  },
  {
   "cell_type": "code",
   "execution_count": 71,
   "metadata": {},
   "outputs": [],
   "source": [
    "import numpy as np\n",
    "\n",
    "def make_dynamic_blobs(n_samples, base_center, n_clusters, varying_features, \n",
    "                       cluster_std=1.0, center_offset_range=(-5, 5), \n",
    "                       distribution=\"normal\", random_state=None):\n",
    "    \"\"\"\n",
    "    Generate synthetic data with dynamic centers and optional non-Gaussian distributions.\n",
    "    \n",
    "    Parameters:\n",
    "        n_samples: int\n",
    "            Total number of samples.\n",
    "        base_center: array-like\n",
    "            The center of the first cluster. Shape: (n_features,).\n",
    "        n_clusters: int\n",
    "            Number of clusters to generate.\n",
    "        varying_features: list of int\n",
    "            Indices of features that should vary across clusters.\n",
    "        cluster_std: float\n",
    "            Standard deviation of clusters.\n",
    "        center_offset_range: tuple\n",
    "            Range (min, max) for random uniform offsets added to the base center for varying features.\n",
    "        distribution: str\n",
    "            Distribution type: \"normal\", \"uniform\", \"laplace\", \"exponential\", \"beta\", \"gamma\".\n",
    "        random_state: int or None\n",
    "            Random seed for reproducibility.\n",
    "    \n",
    "    Returns:\n",
    "        X: ndarray of shape (n_samples, n_features)\n",
    "            The generated samples.\n",
    "        y: ndarray of shape (n_samples,)\n",
    "            The integer labels for cluster membership.\n",
    "        centers: ndarray of shape (n_clusters, n_features)\n",
    "            The centers of the clusters.\n",
    "    \"\"\"\n",
    "    if random_state is not None:\n",
    "        np.random.seed(random_state)\n",
    "    \n",
    "    n_features = len(base_center)\n",
    "    samples_per_cluster = n_samples // n_clusters\n",
    "    remainder = n_samples % n_clusters\n",
    "\n",
    "    # Generate cluster centers\n",
    "    centers = [np.array(base_center, dtype=float)]\n",
    "    for _ in range(1, n_clusters):\n",
    "        new_center = centers[0].copy()  # Start with the base center\n",
    "        for feature in varying_features:\n",
    "            new_center[feature] += np.random.uniform(*center_offset_range)\n",
    "        centers.append(new_center)\n",
    "    centers = np.array(centers)\n",
    "    \n",
    "    # Generate points for each cluster with the chosen distribution\n",
    "    X = []\n",
    "    y = []\n",
    "    \n",
    "    for cluster_idx, center in enumerate(centers):\n",
    "        cluster_size = samples_per_cluster + (1 if cluster_idx < remainder else 0)\n",
    "        \n",
    "        if distribution == \"normal\":\n",
    "            cluster_points = np.random.normal(loc=center, scale=cluster_std, size=(cluster_size, n_features))\n",
    "        \n",
    "        elif distribution == \"uniform\":\n",
    "            cluster_points = np.random.uniform(low=center - cluster_std, high=center + cluster_std, size=(cluster_size, n_features))\n",
    "        \n",
    "        elif distribution == \"laplace\":\n",
    "            cluster_points = np.random.laplace(loc=center, scale=cluster_std, size=(cluster_size, n_features))\n",
    "        \n",
    "        elif distribution == \"exponential\":\n",
    "            cluster_points = np.random.exponential(scale=cluster_std, size=(cluster_size, n_features)) + center\n",
    "        \n",
    "        elif distribution == \"beta\":\n",
    "            cluster_points = np.random.beta(a=2, b=5, size=(cluster_size, n_features)) * cluster_std + center  # Shape parameters (2,5) can be tuned\n",
    "        \n",
    "        elif distribution == \"gamma\":\n",
    "            cluster_points = np.random.gamma(shape=2, scale=cluster_std, size=(cluster_size, n_features)) + center  # Shape=2 can be adjusted\n",
    "        \n",
    "        else:\n",
    "            raise ValueError(f\"Unsupported distribution: {distribution}\")\n",
    "        \n",
    "        X.append(cluster_points)\n",
    "        y.extend([cluster_idx] * cluster_size)\n",
    "    \n",
    "    X = np.vstack(X)\n",
    "    y = np.array(y)\n",
    "    \n",
    "    return X.astype(np.float32), y, centers\n"
   ]
  },
  {
   "cell_type": "code",
   "execution_count": 83,
   "metadata": {},
   "outputs": [
    {
     "data": {
      "image/png": "[encoded data removed]",
      "text/plain": [
       "<Figure size 640x480 with 1 Axes>"
      ]
     },
     "metadata": {},
     "output_type": "display_data"
    }
   ],
   "source": [
    "# Base center for the clusters\n",
    "base_center = list(np.random.uniform(-5, 5, 10))  \n",
    "n_clusters = 3\n",
    "n_samples = 300\n",
    "varying_features = [0, 5, 3]  \n",
    "\n",
    "# Generate dataset with Laplace distribution (heavy tails)\n",
    "X, y, centers = make_dynamic_blobs(\n",
    "    n_samples=n_samples, \n",
    "    base_center=base_center, \n",
    "    n_clusters=n_clusters, \n",
    "    varying_features=varying_features, \n",
    "    cluster_std=0.5, \n",
    "    center_offset_range=(-2, 2), \n",
    "    distribution=\"laplace\",\n",
    "    random_state=42\n",
    ")\n",
    "\n",
    "# Plot the results\n",
    "fig, ax = plt.subplots()\n",
    "pd.DataFrame(X).plot(ax=ax, legend=True)\n",
    "plt.show()\n"
   ]
  },
  {
   "cell_type": "markdown",
   "metadata": {},
   "source": [
    "### Exponential"
   ]
  },
  {
   "cell_type": "code",
   "execution_count": 133,
   "metadata": {},
   "outputs": [
    {
     "name": "stdout",
     "output_type": "stream",
     "text": [
      "2020 0.1\n",
      "[ 500 1000]\n",
      "cpu\n"
     ]
    },
    {
     "name": "stderr",
     "output_type": "stream",
     "text": [
      " 33%|███▎      | 476/1451 [00:03<00:08, 117.38it/s]"
     ]
    },
    {
     "name": "stdout",
     "output_type": "stream",
     "text": [
      "Change detected at: 501 \n",
      "Initiate new segment\n"
     ]
    },
    {
     "name": "stderr",
     "output_type": "stream",
     "text": [
      " 67%|██████▋   | 973/1451 [00:07<00:03, 124.19it/s]"
     ]
    },
    {
     "name": "stdout",
     "output_type": "stream",
     "text": [
      "Change detected at: 1001 \n",
      "Initiate new segment\n"
     ]
    },
    {
     "name": "stderr",
     "output_type": "stream",
     "text": [
      "100%|██████████| 1451/1451 [00:11<00:00, 122.84it/s]\n"
     ]
    },
    {
     "name": "stdout",
     "output_type": "stream",
     "text": [
      "2021 0.1\n",
      "[ 500 1000]\n",
      "cpu\n"
     ]
    },
    {
     "name": "stderr",
     "output_type": "stream",
     "text": [
      " 32%|███▏      | 467/1451 [00:03<00:08, 116.96it/s]"
     ]
    },
    {
     "name": "stdout",
     "output_type": "stream",
     "text": [
      "Change detected at: 502 \n",
      "Initiate new segment\n"
     ]
    },
    {
     "name": "stderr",
     "output_type": "stream",
     "text": [
      " 67%|██████▋   | 972/1451 [00:07<00:03, 127.78it/s]"
     ]
    },
    {
     "name": "stdout",
     "output_type": "stream",
     "text": [
      "Change detected at: 1002 \n",
      "Initiate new segment\n"
     ]
    },
    {
     "name": "stderr",
     "output_type": "stream",
     "text": [
      "100%|██████████| 1451/1451 [00:11<00:00, 122.16it/s]\n"
     ]
    },
    {
     "name": "stdout",
     "output_type": "stream",
     "text": [
      "2022 0.1\n",
      "[ 500 1000]\n",
      "cpu\n"
     ]
    },
    {
     "name": "stderr",
     "output_type": "stream",
     "text": [
      " 33%|███▎      | 474/1451 [00:03<00:07, 123.73it/s]"
     ]
    },
    {
     "name": "stdout",
     "output_type": "stream",
     "text": [
      "Change detected at: 501 \n",
      "Initiate new segment\n"
     ]
    },
    {
     "name": "stderr",
     "output_type": "stream",
     "text": [
      " 67%|██████▋   | 972/1451 [00:07<00:03, 125.37it/s]"
     ]
    },
    {
     "name": "stdout",
     "output_type": "stream",
     "text": [
      "Change detected at: 1002 \n",
      "Initiate new segment\n"
     ]
    },
    {
     "name": "stderr",
     "output_type": "stream",
     "text": [
      "100%|██████████| 1451/1451 [00:11<00:00, 122.26it/s]\n"
     ]
    },
    {
     "name": "stdout",
     "output_type": "stream",
     "text": [
      "2023 0.1\n",
      "[ 500 1000]\n",
      "cpu\n"
     ]
    },
    {
     "name": "stderr",
     "output_type": "stream",
     "text": [
      " 32%|███▏      | 468/1451 [00:03<00:08, 116.37it/s]"
     ]
    },
    {
     "name": "stdout",
     "output_type": "stream",
     "text": [
      "Change detected at: 502 \n",
      "Initiate new segment\n"
     ]
    },
    {
     "name": "stderr",
     "output_type": "stream",
     "text": [
      " 67%|██████▋   | 975/1451 [00:08<00:03, 119.51it/s]"
     ]
    },
    {
     "name": "stdout",
     "output_type": "stream",
     "text": [
      "Change detected at: 1001 \n",
      "Initiate new segment\n"
     ]
    },
    {
     "name": "stderr",
     "output_type": "stream",
     "text": [
      "100%|██████████| 1451/1451 [00:12<00:00, 118.76it/s]\n"
     ]
    },
    {
     "name": "stdout",
     "output_type": "stream",
     "text": [
      "2024 0.1\n",
      "[ 500 1000]\n",
      "cpu\n"
     ]
    },
    {
     "name": "stderr",
     "output_type": "stream",
     "text": [
      " 32%|███▏      | 470/1451 [00:04<00:08, 112.82it/s]"
     ]
    },
    {
     "name": "stdout",
     "output_type": "stream",
     "text": [
      "Change detected at: 502 \n",
      "Initiate new segment\n"
     ]
    },
    {
     "name": "stderr",
     "output_type": "stream",
     "text": [
      " 67%|██████▋   | 970/1451 [00:08<00:03, 124.30it/s]"
     ]
    },
    {
     "name": "stdout",
     "output_type": "stream",
     "text": [
      "Change detected at: 1001 \n",
      "Initiate new segment\n"
     ]
    },
    {
     "name": "stderr",
     "output_type": "stream",
     "text": [
      "100%|██████████| 1451/1451 [00:12<00:00, 120.58it/s]\n"
     ]
    },
    {
     "name": "stdout",
     "output_type": "stream",
     "text": [
      "2020 0.5\n",
      "[ 500 1000]\n",
      "cpu\n"
     ]
    },
    {
     "name": "stderr",
     "output_type": "stream",
     "text": [
      " 33%|███▎      | 484/1451 [00:03<00:08, 120.65it/s]"
     ]
    },
    {
     "name": "stdout",
     "output_type": "stream",
     "text": [
      "Change detected at: 514 \n",
      "Initiate new segment\n"
     ]
    },
    {
     "name": "stderr",
     "output_type": "stream",
     "text": [
      " 67%|██████▋   | 970/1451 [00:07<00:03, 120.58it/s]"
     ]
    },
    {
     "name": "stdout",
     "output_type": "stream",
     "text": [
      "Change detected at: 1008 \n",
      "Initiate new segment\n"
     ]
    },
    {
     "name": "stderr",
     "output_type": "stream",
     "text": [
      "100%|██████████| 1451/1451 [00:11<00:00, 122.01it/s]\n"
     ]
    },
    {
     "name": "stdout",
     "output_type": "stream",
     "text": [
      "2021 0.5\n",
      "[ 500 1000]\n",
      "cpu\n"
     ]
    },
    {
     "name": "stderr",
     "output_type": "stream",
     "text": [
      " 34%|███▍      | 497/1451 [00:04<00:07, 127.59it/s]"
     ]
    },
    {
     "name": "stdout",
     "output_type": "stream",
     "text": [
      "Change detected at: 520 \n",
      "Initiate new segment\n"
     ]
    },
    {
     "name": "stderr",
     "output_type": "stream",
     "text": [
      " 68%|██████▊   | 984/1451 [00:08<00:03, 123.63it/s]"
     ]
    },
    {
     "name": "stdout",
     "output_type": "stream",
     "text": [
      "Change detected at: 1017 \n",
      "Initiate new segment\n"
     ]
    },
    {
     "name": "stderr",
     "output_type": "stream",
     "text": [
      "100%|██████████| 1451/1451 [00:11<00:00, 121.78it/s]\n"
     ]
    },
    {
     "name": "stdout",
     "output_type": "stream",
     "text": [
      "2022 0.5\n",
      "[ 500 1000]\n",
      "cpu\n"
     ]
    },
    {
     "name": "stderr",
     "output_type": "stream",
     "text": [
      " 33%|███▎      | 473/1451 [00:03<00:08, 121.96it/s]"
     ]
    },
    {
     "name": "stdout",
     "output_type": "stream",
     "text": [
      "Change detected at: 509 \n",
      "Initiate new segment\n"
     ]
    },
    {
     "name": "stderr",
     "output_type": "stream",
     "text": [
      " 68%|██████▊   | 985/1451 [00:08<00:03, 124.58it/s]"
     ]
    },
    {
     "name": "stdout",
     "output_type": "stream",
     "text": [
      "Change detected at: 1022 \n",
      "Initiate new segment\n"
     ]
    },
    {
     "name": "stderr",
     "output_type": "stream",
     "text": [
      "100%|██████████| 1451/1451 [00:11<00:00, 122.30it/s]\n"
     ]
    },
    {
     "name": "stdout",
     "output_type": "stream",
     "text": [
      "2023 0.5\n",
      "[ 500 1000]\n",
      "cpu\n"
     ]
    },
    {
     "name": "stderr",
     "output_type": "stream",
     "text": [
      " 34%|███▍      | 494/1451 [00:04<00:07, 124.62it/s]"
     ]
    },
    {
     "name": "stdout",
     "output_type": "stream",
     "text": [
      "Change detected at: 520 \n",
      "Initiate new segment\n"
     ]
    },
    {
     "name": "stderr",
     "output_type": "stream",
     "text": [
      " 68%|██████▊   | 985/1451 [00:07<00:03, 126.53it/s]"
     ]
    },
    {
     "name": "stdout",
     "output_type": "stream",
     "text": [
      "Change detected at: 1010 \n",
      "Initiate new segment\n"
     ]
    },
    {
     "name": "stderr",
     "output_type": "stream",
     "text": [
      "100%|██████████| 1451/1451 [00:11<00:00, 122.99it/s]\n"
     ]
    },
    {
     "name": "stdout",
     "output_type": "stream",
     "text": [
      "2024 0.5\n",
      "[ 500 1000]\n",
      "cpu\n"
     ]
    },
    {
     "name": "stderr",
     "output_type": "stream",
     "text": [
      " 33%|███▎      | 484/1451 [00:04<00:07, 123.66it/s]"
     ]
    },
    {
     "name": "stdout",
     "output_type": "stream",
     "text": [
      "Change detected at: 519 \n",
      "Initiate new segment\n"
     ]
    },
    {
     "name": "stderr",
     "output_type": "stream",
     "text": [
      " 67%|██████▋   | 972/1451 [00:08<00:03, 122.89it/s]"
     ]
    },
    {
     "name": "stdout",
     "output_type": "stream",
     "text": [
      "Change detected at: 1009 \n",
      "Initiate new segment\n"
     ]
    },
    {
     "name": "stderr",
     "output_type": "stream",
     "text": [
      "100%|██████████| 1451/1451 [00:12<00:00, 120.10it/s]\n"
     ]
    },
    {
     "name": "stdout",
     "output_type": "stream",
     "text": [
      "2020 1\n",
      "[ 500 1000]\n",
      "cpu\n"
     ]
    },
    {
     "name": "stderr",
     "output_type": "stream",
     "text": [
      " 68%|██████▊   | 981/1451 [00:08<00:03, 123.88it/s]"
     ]
    },
    {
     "name": "stdout",
     "output_type": "stream",
     "text": [
      "Change detected at: 1018 \n",
      "Initiate new segment\n"
     ]
    },
    {
     "name": "stderr",
     "output_type": "stream",
     "text": [
      "100%|██████████| 1451/1451 [00:11<00:00, 121.76it/s]\n"
     ]
    },
    {
     "name": "stdout",
     "output_type": "stream",
     "text": [
      "2021 1\n",
      "[ 500 1000]\n",
      "cpu\n"
     ]
    },
    {
     "name": "stderr",
     "output_type": "stream",
     "text": [
      "100%|██████████| 1451/1451 [00:11<00:00, 124.02it/s]\n"
     ]
    },
    {
     "name": "stdout",
     "output_type": "stream",
     "text": [
      "2022 1\n",
      "[ 500 1000]\n",
      "cpu\n"
     ]
    },
    {
     "name": "stderr",
     "output_type": "stream",
     "text": [
      " 34%|███▎      | 489/1451 [00:04<00:07, 126.07it/s]"
     ]
    },
    {
     "name": "stdout",
     "output_type": "stream",
     "text": [
      "Change detected at: 521 \n",
      "Initiate new segment\n"
     ]
    },
    {
     "name": "stderr",
     "output_type": "stream",
     "text": [
      "100%|██████████| 1451/1451 [00:11<00:00, 123.20it/s]\n"
     ]
    },
    {
     "name": "stdout",
     "output_type": "stream",
     "text": [
      "2023 1\n",
      "[ 500 1000]\n",
      "cpu\n"
     ]
    },
    {
     "name": "stderr",
     "output_type": "stream",
     "text": [
      " 68%|██████▊   | 992/1451 [00:08<00:03, 121.49it/s]"
     ]
    },
    {
     "name": "stdout",
     "output_type": "stream",
     "text": [
      "Change detected at: 1022 \n",
      "Initiate new segment\n"
     ]
    },
    {
     "name": "stderr",
     "output_type": "stream",
     "text": [
      "100%|██████████| 1451/1451 [00:11<00:00, 122.55it/s]\n"
     ]
    },
    {
     "name": "stdout",
     "output_type": "stream",
     "text": [
      "2024 1\n",
      "[ 500 1000]\n",
      "cpu\n"
     ]
    },
    {
     "name": "stderr",
     "output_type": "stream",
     "text": [
      " 68%|██████▊   | 983/1451 [00:07<00:03, 125.16it/s]"
     ]
    },
    {
     "name": "stdout",
     "output_type": "stream",
     "text": [
      "Change detected at: 1022 \n",
      "Initiate new segment\n"
     ]
    },
    {
     "name": "stderr",
     "output_type": "stream",
     "text": [
      "100%|██████████| 1451/1451 [00:11<00:00, 123.01it/s]\n"
     ]
    },
    {
     "data": {
      "text/plain": [
       "{'0.1': {'F1 & AUC & FP': [{'5': (1.0, 1.0, 0),\n",
       "    '10': (1.0, 1.0, 0),\n",
       "    '20': (1.0, 1.0, 0)},\n",
       "   {'5': (1.0, 1.0, 0), '10': (1.0, 1.0, 0), '20': (1.0, 1.0, 0)},\n",
       "   {'5': (1.0, 1.0, 0), '10': (1.0, 1.0, 0), '20': (1.0, 1.0, 0)},\n",
       "   {'5': (1.0, 1.0, 0), '10': (1.0, 1.0, 0), '20': (1.0, 1.0, 0)},\n",
       "   {'5': (1.0, 1.0, 0), '10': (1.0, 1.0, 0), '20': (1.0, 1.0, 0)}],\n",
       "  'Covering': [0.9973373253493014,\n",
       "   0.9946826029216468,\n",
       "   0.9960092987994794,\n",
       "   0.9960093041009613,\n",
       "   0.9960093041009613],\n",
       "  'DD': [1.0, 2.0, 1.5, 1.5, 1.5]},\n",
       " '0.5': {'F1 & AUC & FP': [{'5': (0.3333333333333333, 0.3333333333333333, 2),\n",
       "    '10': (0.6666666666666666, 0.6666666666666666, 1),\n",
       "    '20': (1.0, 1.0, 0)},\n",
       "   {'5': (0.3333333333333333, 0.3333333333333333, 2),\n",
       "    '10': (0.3333333333333333, 0.3333333333333333, 2),\n",
       "    '20': (1.0, 1.0, 0)},\n",
       "   {'5': (0.3333333333333333, 0.3333333333333333, 2),\n",
       "    '10': (0.6666666666666666, 0.6666666666666666, 1),\n",
       "    '20': (0.6666666666666666, 0.6666666666666666, 1)},\n",
       "   {'5': (0.3333333333333333, 0.3333333333333333, 2),\n",
       "    '10': (0.6666666666666666, 0.6666666666666666, 1),\n",
       "    '20': (1.0, 1.0, 0)},\n",
       "   {'5': (0.3333333333333333, 0.3333333333333333, 2),\n",
       "    '10': (0.6666666666666666, 0.6666666666666666, 1),\n",
       "    '20': (1.0, 1.0, 0)}],\n",
       "  'Covering': [0.9711518531000746,\n",
       "   0.9519905767990874,\n",
       "   0.9596437659799222,\n",
       "   0.9609049773755657,\n",
       "   0.9634604378729433],\n",
       "  'DD': [11.0, 18.5, 15.5, 15.0, 14.0]},\n",
       " '1': {'F1 & AUC & FP': [{'5': (0.4, 0.4166666666666667, 1),\n",
       "    '10': (0.4, 0.4166666666666667, 1),\n",
       "    '20': (0.8, 0.8333333333333333, 0)},\n",
       "   {'5': (0.5, 0.6666666666666667, 0),\n",
       "    '10': (0.5, 0.6666666666666667, 0),\n",
       "    '20': (0.5, 0.6666666666666667, 0)},\n",
       "   {'5': (0.4, 0.4166666666666667, 1),\n",
       "    '10': (0.4, 0.4166666666666667, 1),\n",
       "    '20': (0.4, 0.4166666666666667, 1)},\n",
       "   {'5': (0.4, 0.4166666666666667, 1),\n",
       "    '10': (0.4, 0.4166666666666667, 1),\n",
       "    '20': (0.4, 0.4166666666666667, 1)},\n",
       "   {'5': (0.4, 0.4166666666666667, 1),\n",
       "    '10': (0.4, 0.4166666666666667, 1),\n",
       "    '20': (0.4, 0.4166666666666667, 1)}],\n",
       "  'Covering': [0.6487727570399476,\n",
       "   0.3333333333333333,\n",
       "   0.6498060426996354,\n",
       "   0.6448245270711024,\n",
       "   0.6448245270711024],\n",
       "  'DD': [18.0, 0, 21.0, 22.0, 22.0]}}"
      ]
     },
     "execution_count": 133,
     "metadata": {},
     "output_type": "execute_result"
    }
   ],
   "source": [
    "random_states = [2020,2021,2022,2023,2024]#,2021,2022,2023,2024,2025]\n",
    "n_clusters = 3\n",
    "n_samples = 1500\n",
    "varying_features = [0,5,3]\n",
    "\n",
    "SIGMA = [0.1,0.5,1]\n",
    "\n",
    "METRICS = []\n",
    "#METRICS[rs] = {}\n",
    "RUN_STATS = {}\n",
    "for sigma in SIGMA:\n",
    "    RUN_STATS[str(sigma)] = {'F1 & AUC & FP':[],'Covering':[], 'DD':[]}\n",
    "    for rs in random_states:\n",
    "        print(rs,sigma)\n",
    "        #RUN_STATS[sigma] = {}\n",
    "        X, y, centers = make_dynamic_blobs(\n",
    "            n_samples=n_samples, \n",
    "            base_center=base_center, \n",
    "            n_clusters=n_clusters, \n",
    "            varying_features=varying_features, \n",
    "            cluster_std=sigma, \n",
    "            center_offset_range=(-3, 3), \n",
    "            random_state=rs, distribution='exponential'\n",
    "        )\n",
    "        df, GroundTruth = X, np.where(np.diff(y)!=0)[0]+1\n",
    "        print(GroundTruth)\n",
    "        detector = SWDCP(data=df,window_length=50,max_history=50,significance=0.05)\n",
    "        print(detector.device)\n",
    "        detector.process_dataloader(p=2,n_theta=5000,explanations=False)\n",
    "        TMP = {}\n",
    "        for margin in [5,10,20]:\n",
    "            TMP[str(margin)] = f_measure({'0':GroundTruth},detector.change_points['loc'],margin=margin)\n",
    "        RUN_STATS[str(sigma)]['F1 & AUC & FP'].append(TMP)\n",
    "        RUN_STATS[str(sigma)]['Covering'].append(covering({'0':GroundTruth},detector.change_points['loc'],n_obs=df.shape[0]))\n",
    "        RUN_STATS[str(sigma)]['DD'].append(detection_delay(GroundTruth,detector.change_points['loc'])[1])\n",
    "        #print(RUN_STATS)\n",
    "    #METRICS.append(RUN_STATS)\n",
    "RUN_STATS\n"
   ]
  },
  {
   "cell_type": "code",
   "execution_count": 134,
   "metadata": {},
   "outputs": [
    {
     "name": "stdout",
     "output_type": "stream",
     "text": [
      "5 1.0 0.0\n",
      "10 1.0 0.0\n",
      "20 1.0 0.0\n",
      "5 0.33 0.0\n",
      "10 0.6 0.13\n",
      "20 0.93 0.13\n",
      "5 0.47 0.1\n",
      "10 0.47 0.1\n",
      "20 0.55 0.17\n",
      "########## Fales Positives ############\n",
      "5 0.0 0 0\n",
      "10 0.0 0 0\n",
      "20 0.0 0 0\n",
      "5 2.0 2 2\n",
      "10 1.2 1 2\n",
      "20 0.2 0 1\n",
      "5 0.8 0 1\n",
      "10 0.8 0 1\n",
      "20 0.6 0 1\n"
     ]
    }
   ],
   "source": [
    "#RUN_STATS['(0.5, 1.0)']['F1 & AUC']\n",
    "k1,k2,k3 = RUN_STATS.keys()\n",
    "\n",
    "grouped = {}\n",
    "\n",
    "for d in RUN_STATS[k1]['F1 & AUC & FP']:\n",
    "    for key, value in d.items():\n",
    "        if key not in grouped:\n",
    "            grouped[key] = []  # Initialize a list for each key\n",
    "        grouped[key].append(value[1])  # Append the value to the corresponding key\n",
    "\n",
    "#print(k1,pd.DataFrame(grouped).describe())\n",
    "for k,v in grouped.items():\n",
    "    print(k,np.round(np.mean(v),2),np.round(np.std(v),2))\n",
    "\n",
    "\n",
    "grouped = {}\n",
    "\n",
    "for d in RUN_STATS[k2]['F1 & AUC & FP']:\n",
    "    for key, value in d.items():\n",
    "        if key not in grouped:\n",
    "            grouped[key] = []  # Initialize a list for each key\n",
    "        grouped[key].append(value[1])  # Append the value to the corresponding key\n",
    "\n",
    "\n",
    "for k,v in grouped.items():\n",
    "    print(k,np.round(np.mean(v),2),np.round(np.std(v),2))\n",
    "\n",
    "\n",
    "grouped = {}\n",
    "\n",
    "\n",
    "for d in RUN_STATS[k3]['F1 & AUC & FP']:\n",
    "    for key, value in d.items():\n",
    "        if key not in grouped:\n",
    "            grouped[key] = []  # Initialize a list for each key\n",
    "        grouped[key].append(value[1])  # Append the value to the corresponding key\n",
    "\n",
    "#print(k3,pd.DataFrame(grouped).describe())\n",
    "for k,v in grouped.items():\n",
    "    print(k,np.round(np.mean(v),2),np.round(np.std(v),2))\n",
    "\n",
    "#### \n",
    "print(\"########## Fales Positives ############\")\n",
    "\n",
    "grouped = {}\n",
    "\n",
    "for d in RUN_STATS[k1]['F1 & AUC & FP']:\n",
    "    for key, value in d.items():\n",
    "        if key not in grouped:\n",
    "            grouped[key] = []  # Initialize a list for each key\n",
    "        grouped[key].append(value[2])  # Append the value to the corresponding key\n",
    "\n",
    "#print(k1,pd.DataFrame(grouped).describe())\n",
    "for k,v in grouped.items():\n",
    "    print(k,np.round(np.mean(v),2),np.min(v),np.max(v))\n",
    "\n",
    "\n",
    "grouped = {}\n",
    "\n",
    "for d in RUN_STATS[k2]['F1 & AUC & FP']:\n",
    "    for key, value in d.items():\n",
    "        if key not in grouped:\n",
    "            grouped[key] = []  # Initialize a list for each key\n",
    "        grouped[key].append(value[2])  # Append the value to the corresponding key\n",
    "\n",
    "\n",
    "for k,v in grouped.items():\n",
    "    print(k,np.round(np.mean(v),2),np.min(v),np.max(v))\n",
    "\n",
    "\n",
    "grouped = {}\n",
    "\n",
    "\n",
    "for d in RUN_STATS[k3]['F1 & AUC & FP']:\n",
    "    for key, value in d.items():\n",
    "        if key not in grouped:\n",
    "            grouped[key] = []  # Initialize a list for each key\n",
    "        grouped[key].append(value[2])  # Append the value to the corresponding key\n",
    "\n",
    "#print(k3,pd.DataFrame(grouped).describe())\n",
    "for k,v in grouped.items():\n",
    "    print(k,np.round(np.mean(v),2),np.min(v),np.max(v))"
   ]
  },
  {
   "cell_type": "code",
   "execution_count": 135,
   "metadata": {},
   "outputs": [
    {
     "name": "stdout",
     "output_type": "stream",
     "text": [
      "COVERING\n",
      "0.1 0.99600956705447 0.0008394970053005233\n",
      "0.5 0.9614303222255186 0.006183948515839121\n",
      "1 0.5843122374430243 0.12550576226919824\n",
      "DD\n",
      "0.1 1.5 1.0 2.0\n",
      "0.5 14.8 11.0 18.5\n",
      "1 16.6 0.0 22.0\n"
     ]
    }
   ],
   "source": [
    "key_dict = list(RUN_STATS.keys())\n",
    "print('COVERING')\n",
    "for i in range(3):\n",
    "    print(key_dict[i],np.mean(RUN_STATS[key_dict[i]]['Covering']),np.std(RUN_STATS[key_dict[i]]['Covering']))\n",
    "print('DD')\n",
    "for i in range(3):\n",
    "    print(key_dict[i],np.mean(RUN_STATS[key_dict[i]]['DD']),np.min(RUN_STATS[key_dict[i]]['DD']),np.max(RUN_STATS[key_dict[i]]['DD']))"
   ]
  },
  {
   "cell_type": "markdown",
   "metadata": {},
   "source": [
    "\n",
    "\n",
    "| $\\lambda$ | $\\tau=5$ | $\\tau=10$ | $\\tau=20$ |\n",
    "|-------------|----------|-----------|-----------|\n",
    "| 0.1       | 1.0 ± 0.0   | 1.0 ± 0.0  | 1 ± 0.23 |\n",
    "| 0.5        | 0.33 ± 0.0  | 0.6± 0.13  | 0.93± 0.13   |\n",
    "| 1       | 0.47 ± 0.1 | 0.47 ± 0.1  | 0.55 ± 0.17  |\n",
    "\n",
    "| $\\lambda$| $\\tau=5$ | $\\tau=10$ | $\\tau=20$ |\n",
    "|-------------|----------|-----------|-----------|\n",
    "| 0.1        | 0 (0;0)  | 0 (0;0)  | 0 (0;0)|\n",
    "| 0.5        | 2 (2;2) | 1.2 (1;2) | 0.2  (0;1)  |\n",
    "| 1      | 0.8 (0;1) | 0.8 (0;1) | 0.6 (0;1) |\n",
    "\n",
    "## Detection Delay\n",
    "\n",
    "| jump interval |DD (min;max)|\n",
    "|-------------|----------|\n",
    "| 0.1          | 1.5 (1;2) | \n",
    "| 0.5        | 14.8 (11;18.5) | \n",
    "|  1    | 16.6 (0.0;22) |"
   ]
  },
  {
   "cell_type": "markdown",
   "metadata": {},
   "source": [
    "### Beta"
   ]
  },
  {
   "cell_type": "code",
   "execution_count": 137,
   "metadata": {},
   "outputs": [
    {
     "name": "stdout",
     "output_type": "stream",
     "text": [
      "2020 0.1\n",
      "[ 500 1000]\n",
      "cpu\n"
     ]
    },
    {
     "name": "stderr",
     "output_type": "stream",
     "text": [
      "  0%|          | 0/1451 [00:00<?, ?it/s]"
     ]
    },
    {
     "name": "stderr",
     "output_type": "stream",
     "text": [
      " 32%|███▏      | 470/1451 [00:04<00:08, 115.62it/s]"
     ]
    },
    {
     "name": "stdout",
     "output_type": "stream",
     "text": [
      "Change detected at: 501 \n",
      "Initiate new segment\n"
     ]
    },
    {
     "name": "stderr",
     "output_type": "stream",
     "text": [
      " 66%|██████▋   | 962/1451 [00:08<00:04, 121.42it/s]"
     ]
    },
    {
     "name": "stdout",
     "output_type": "stream",
     "text": [
      "Change detected at: 1001 \n",
      "Initiate new segment\n"
     ]
    },
    {
     "name": "stderr",
     "output_type": "stream",
     "text": [
      "100%|██████████| 1451/1451 [00:12<00:00, 115.91it/s]\n"
     ]
    },
    {
     "name": "stdout",
     "output_type": "stream",
     "text": [
      "2021 0.1\n",
      "[ 500 1000]\n",
      "cpu\n"
     ]
    },
    {
     "name": "stderr",
     "output_type": "stream",
     "text": [
      " 32%|███▏      | 469/1451 [00:04<00:08, 116.03it/s]"
     ]
    },
    {
     "name": "stdout",
     "output_type": "stream",
     "text": [
      "Change detected at: 501 \n",
      "Initiate new segment\n"
     ]
    },
    {
     "name": "stderr",
     "output_type": "stream",
     "text": [
      " 67%|██████▋   | 968/1451 [00:08<00:04, 118.13it/s]"
     ]
    },
    {
     "name": "stdout",
     "output_type": "stream",
     "text": [
      "Change detected at: 1001 \n",
      "Initiate new segment\n"
     ]
    },
    {
     "name": "stderr",
     "output_type": "stream",
     "text": [
      "100%|██████████| 1451/1451 [00:12<00:00, 119.28it/s]\n"
     ]
    },
    {
     "name": "stdout",
     "output_type": "stream",
     "text": [
      "2022 0.1\n",
      "[ 500 1000]\n",
      "cpu\n"
     ]
    },
    {
     "name": "stderr",
     "output_type": "stream",
     "text": [
      " 33%|███▎      | 476/1451 [00:04<00:07, 123.33it/s]"
     ]
    },
    {
     "name": "stdout",
     "output_type": "stream",
     "text": [
      "Change detected at: 501 \n",
      "Initiate new segment\n"
     ]
    },
    {
     "name": "stderr",
     "output_type": "stream",
     "text": [
      " 66%|██████▌   | 961/1451 [00:07<00:04, 121.26it/s]"
     ]
    },
    {
     "name": "stdout",
     "output_type": "stream",
     "text": [
      "Change detected at: 1001 \n",
      "Initiate new segment\n"
     ]
    },
    {
     "name": "stderr",
     "output_type": "stream",
     "text": [
      "100%|██████████| 1451/1451 [00:12<00:00, 120.83it/s]\n"
     ]
    },
    {
     "name": "stdout",
     "output_type": "stream",
     "text": [
      "2023 0.1\n",
      "[ 500 1000]\n",
      "cpu\n"
     ]
    },
    {
     "name": "stderr",
     "output_type": "stream",
     "text": [
      " 32%|███▏      | 462/1451 [00:03<00:08, 118.62it/s]"
     ]
    },
    {
     "name": "stdout",
     "output_type": "stream",
     "text": [
      "Change detected at: 501 \n",
      "Initiate new segment\n"
     ]
    },
    {
     "name": "stderr",
     "output_type": "stream",
     "text": [
      " 67%|██████▋   | 975/1451 [00:08<00:04, 112.64it/s]"
     ]
    },
    {
     "name": "stdout",
     "output_type": "stream",
     "text": [
      "Change detected at: 1001 \n",
      "Initiate new segment\n"
     ]
    },
    {
     "name": "stderr",
     "output_type": "stream",
     "text": [
      "100%|██████████| 1451/1451 [00:12<00:00, 119.12it/s]\n"
     ]
    },
    {
     "name": "stdout",
     "output_type": "stream",
     "text": [
      "2024 0.1\n",
      "[ 500 1000]\n",
      "cpu\n"
     ]
    },
    {
     "name": "stderr",
     "output_type": "stream",
     "text": [
      " 33%|███▎      | 473/1451 [00:03<00:08, 114.42it/s]"
     ]
    },
    {
     "name": "stdout",
     "output_type": "stream",
     "text": [
      "Change detected at: 501 \n",
      "Initiate new segment\n"
     ]
    },
    {
     "name": "stderr",
     "output_type": "stream",
     "text": [
      " 67%|██████▋   | 969/1451 [00:08<00:03, 122.84it/s]"
     ]
    },
    {
     "name": "stdout",
     "output_type": "stream",
     "text": [
      "Change detected at: 1001 \n",
      "Initiate new segment\n"
     ]
    },
    {
     "name": "stderr",
     "output_type": "stream",
     "text": [
      "100%|██████████| 1451/1451 [00:12<00:00, 118.95it/s]\n"
     ]
    },
    {
     "name": "stdout",
     "output_type": "stream",
     "text": [
      "2020 0.5\n",
      "[ 500 1000]\n",
      "cpu\n"
     ]
    },
    {
     "name": "stderr",
     "output_type": "stream",
     "text": [
      " 32%|███▏      | 469/1451 [00:03<00:08, 120.33it/s]"
     ]
    },
    {
     "name": "stdout",
     "output_type": "stream",
     "text": [
      "Change detected at: 501 \n",
      "Initiate new segment\n"
     ]
    },
    {
     "name": "stderr",
     "output_type": "stream",
     "text": [
      " 67%|██████▋   | 972/1451 [00:08<00:03, 122.85it/s]"
     ]
    },
    {
     "name": "stdout",
     "output_type": "stream",
     "text": [
      "Change detected at: 1001 \n",
      "Initiate new segment\n"
     ]
    },
    {
     "name": "stderr",
     "output_type": "stream",
     "text": [
      "100%|██████████| 1451/1451 [00:12<00:00, 119.73it/s]\n"
     ]
    },
    {
     "name": "stdout",
     "output_type": "stream",
     "text": [
      "2021 0.5\n",
      "[ 500 1000]\n",
      "cpu\n"
     ]
    },
    {
     "name": "stderr",
     "output_type": "stream",
     "text": [
      " 32%|███▏      | 466/1451 [00:04<00:08, 118.38it/s]"
     ]
    },
    {
     "name": "stdout",
     "output_type": "stream",
     "text": [
      "Change detected at: 502 \n",
      "Initiate new segment\n"
     ]
    },
    {
     "name": "stderr",
     "output_type": "stream",
     "text": [
      " 67%|██████▋   | 973/1451 [00:08<00:03, 120.14it/s]"
     ]
    },
    {
     "name": "stdout",
     "output_type": "stream",
     "text": [
      "Change detected at: 1002 \n",
      "Initiate new segment\n"
     ]
    },
    {
     "name": "stderr",
     "output_type": "stream",
     "text": [
      "100%|██████████| 1451/1451 [00:12<00:00, 118.03it/s]\n"
     ]
    },
    {
     "name": "stdout",
     "output_type": "stream",
     "text": [
      "2022 0.5\n",
      "[ 500 1000]\n",
      "cpu\n"
     ]
    },
    {
     "name": "stderr",
     "output_type": "stream",
     "text": [
      " 32%|███▏      | 464/1451 [00:03<00:08, 115.19it/s]"
     ]
    },
    {
     "name": "stdout",
     "output_type": "stream",
     "text": [
      "Change detected at: 501 \n",
      "Initiate new segment\n"
     ]
    },
    {
     "name": "stderr",
     "output_type": "stream",
     "text": [
      " 67%|██████▋   | 975/1451 [00:08<00:03, 120.77it/s]"
     ]
    },
    {
     "name": "stdout",
     "output_type": "stream",
     "text": [
      "Change detected at: 1002 \n",
      "Initiate new segment\n"
     ]
    },
    {
     "name": "stderr",
     "output_type": "stream",
     "text": [
      "100%|██████████| 1451/1451 [00:12<00:00, 119.59it/s]\n"
     ]
    },
    {
     "name": "stdout",
     "output_type": "stream",
     "text": [
      "2023 0.5\n",
      "[ 500 1000]\n",
      "cpu\n"
     ]
    },
    {
     "name": "stderr",
     "output_type": "stream",
     "text": [
      " 32%|███▏      | 467/1451 [00:04<00:08, 117.10it/s]"
     ]
    },
    {
     "name": "stdout",
     "output_type": "stream",
     "text": [
      "Change detected at: 502 \n",
      "Initiate new segment\n"
     ]
    },
    {
     "name": "stderr",
     "output_type": "stream",
     "text": [
      " 66%|██████▋   | 962/1451 [00:08<00:04, 114.96it/s]"
     ]
    },
    {
     "name": "stdout",
     "output_type": "stream",
     "text": [
      "Change detected at: 1001 \n",
      "Initiate new segment\n"
     ]
    },
    {
     "name": "stderr",
     "output_type": "stream",
     "text": [
      "100%|██████████| 1451/1451 [00:12<00:00, 113.34it/s]\n"
     ]
    },
    {
     "name": "stdout",
     "output_type": "stream",
     "text": [
      "2024 0.5\n",
      "[ 500 1000]\n",
      "cpu\n"
     ]
    },
    {
     "name": "stderr",
     "output_type": "stream",
     "text": [
      " 32%|███▏      | 469/1451 [00:03<00:08, 119.13it/s]"
     ]
    },
    {
     "name": "stdout",
     "output_type": "stream",
     "text": [
      "Change detected at: 502 \n",
      "Initiate new segment\n"
     ]
    },
    {
     "name": "stderr",
     "output_type": "stream",
     "text": [
      " 67%|██████▋   | 970/1451 [00:08<00:04, 119.26it/s]"
     ]
    },
    {
     "name": "stdout",
     "output_type": "stream",
     "text": [
      "Change detected at: 1001 \n",
      "Initiate new segment\n"
     ]
    },
    {
     "name": "stderr",
     "output_type": "stream",
     "text": [
      "100%|██████████| 1451/1451 [00:12<00:00, 116.74it/s]\n"
     ]
    },
    {
     "name": "stdout",
     "output_type": "stream",
     "text": [
      "2020 1\n",
      "[ 500 1000]\n",
      "cpu\n"
     ]
    },
    {
     "name": "stderr",
     "output_type": "stream",
     "text": [
      " 33%|███▎      | 475/1451 [00:03<00:08, 121.96it/s]"
     ]
    },
    {
     "name": "stdout",
     "output_type": "stream",
     "text": [
      "Change detected at: 502 \n",
      "Initiate new segment\n"
     ]
    },
    {
     "name": "stderr",
     "output_type": "stream",
     "text": [
      " 67%|██████▋   | 969/1451 [00:08<00:04, 119.01it/s]"
     ]
    },
    {
     "name": "stdout",
     "output_type": "stream",
     "text": [
      "Change detected at: 1001 \n",
      "Initiate new segment\n"
     ]
    },
    {
     "name": "stderr",
     "output_type": "stream",
     "text": [
      "100%|██████████| 1451/1451 [00:12<00:00, 116.42it/s]\n"
     ]
    },
    {
     "name": "stdout",
     "output_type": "stream",
     "text": [
      "2021 1\n",
      "[ 500 1000]\n",
      "cpu\n"
     ]
    },
    {
     "name": "stderr",
     "output_type": "stream",
     "text": [
      " 33%|███▎      | 474/1451 [00:03<00:08, 119.47it/s]"
     ]
    },
    {
     "name": "stdout",
     "output_type": "stream",
     "text": [
      "Change detected at: 503 \n",
      "Initiate new segment\n"
     ]
    },
    {
     "name": "stderr",
     "output_type": "stream",
     "text": [
      " 67%|██████▋   | 965/1451 [00:08<00:03, 121.92it/s]"
     ]
    },
    {
     "name": "stdout",
     "output_type": "stream",
     "text": [
      "Change detected at: 1005 \n",
      "Initiate new segment\n"
     ]
    },
    {
     "name": "stderr",
     "output_type": "stream",
     "text": [
      "100%|██████████| 1451/1451 [00:12<00:00, 118.59it/s]\n"
     ]
    },
    {
     "name": "stdout",
     "output_type": "stream",
     "text": [
      "2022 1\n",
      "[ 500 1000]\n",
      "cpu\n"
     ]
    },
    {
     "name": "stderr",
     "output_type": "stream",
     "text": [
      " 33%|███▎      | 473/1451 [00:04<00:08, 118.57it/s]"
     ]
    },
    {
     "name": "stdout",
     "output_type": "stream",
     "text": [
      "Change detected at: 502 \n",
      "Initiate new segment\n"
     ]
    },
    {
     "name": "stderr",
     "output_type": "stream",
     "text": [
      " 67%|██████▋   | 967/1451 [00:08<00:04, 116.23it/s]"
     ]
    },
    {
     "name": "stdout",
     "output_type": "stream",
     "text": [
      "Change detected at: 1004 \n",
      "Initiate new segment\n"
     ]
    },
    {
     "name": "stderr",
     "output_type": "stream",
     "text": [
      "100%|██████████| 1451/1451 [00:12<00:00, 115.58it/s]\n"
     ]
    },
    {
     "name": "stdout",
     "output_type": "stream",
     "text": [
      "2023 1\n",
      "[ 500 1000]\n",
      "cpu\n"
     ]
    },
    {
     "name": "stderr",
     "output_type": "stream",
     "text": [
      " 33%|███▎      | 475/1451 [00:04<00:08, 110.95it/s]"
     ]
    },
    {
     "name": "stdout",
     "output_type": "stream",
     "text": [
      "Change detected at: 504 \n",
      "Initiate new segment\n"
     ]
    },
    {
     "name": "stderr",
     "output_type": "stream",
     "text": [
      " 67%|██████▋   | 972/1451 [00:08<00:04, 115.43it/s]"
     ]
    },
    {
     "name": "stdout",
     "output_type": "stream",
     "text": [
      "Change detected at: 1002 \n",
      "Initiate new segment\n"
     ]
    },
    {
     "name": "stderr",
     "output_type": "stream",
     "text": [
      "100%|██████████| 1451/1451 [00:12<00:00, 114.07it/s]\n"
     ]
    },
    {
     "name": "stdout",
     "output_type": "stream",
     "text": [
      "2024 1\n",
      "[ 500 1000]\n",
      "cpu\n"
     ]
    },
    {
     "name": "stderr",
     "output_type": "stream",
     "text": [
      " 33%|███▎      | 474/1451 [00:04<00:08, 114.49it/s]"
     ]
    },
    {
     "name": "stdout",
     "output_type": "stream",
     "text": [
      "Change detected at: 506 \n",
      "Initiate new segment\n"
     ]
    },
    {
     "name": "stderr",
     "output_type": "stream",
     "text": [
      " 67%|██████▋   | 965/1451 [00:08<00:04, 119.98it/s]"
     ]
    },
    {
     "name": "stdout",
     "output_type": "stream",
     "text": [
      "Change detected at: 1002 \n",
      "Initiate new segment\n"
     ]
    },
    {
     "name": "stderr",
     "output_type": "stream",
     "text": [
      "100%|██████████| 1451/1451 [00:12<00:00, 117.83it/s]\n"
     ]
    },
    {
     "data": {
      "text/plain": [
       "{'0.1': {'F1 & AUC & FP': [{'5': (1.0, 1.0, 0),\n",
       "    '10': (1.0, 1.0, 0),\n",
       "    '20': (1.0, 1.0, 0)},\n",
       "   {'5': (1.0, 1.0, 0), '10': (1.0, 1.0, 0), '20': (1.0, 1.0, 0)},\n",
       "   {'5': (1.0, 1.0, 0), '10': (1.0, 1.0, 0), '20': (1.0, 1.0, 0)},\n",
       "   {'5': (1.0, 1.0, 0), '10': (1.0, 1.0, 0), '20': (1.0, 1.0, 0)},\n",
       "   {'5': (1.0, 1.0, 0), '10': (1.0, 1.0, 0), '20': (1.0, 1.0, 0)}],\n",
       "  'Covering': [0.9973373253493014,\n",
       "   0.9973373253493014,\n",
       "   0.9973373253493014,\n",
       "   0.9973373253493014,\n",
       "   0.9973373253493014],\n",
       "  'DD': [1.0, 1.0, 1.0, 1.0, 1.0]},\n",
       " '0.5': {'F1 & AUC & FP': [{'5': (1.0, 1.0, 0),\n",
       "    '10': (1.0, 1.0, 0),\n",
       "    '20': (1.0, 1.0, 0)},\n",
       "   {'5': (1.0, 1.0, 0), '10': (1.0, 1.0, 0), '20': (1.0, 1.0, 0)},\n",
       "   {'5': (1.0, 1.0, 0), '10': (1.0, 1.0, 0), '20': (1.0, 1.0, 0)},\n",
       "   {'5': (1.0, 1.0, 0), '10': (1.0, 1.0, 0), '20': (1.0, 1.0, 0)},\n",
       "   {'5': (1.0, 1.0, 0), '10': (1.0, 1.0, 0), '20': (1.0, 1.0, 0)}],\n",
       "  'Covering': [0.9973373253493014,\n",
       "   0.9946826029216468,\n",
       "   0.9960092987994794,\n",
       "   0.9960093041009613,\n",
       "   0.9960093041009613],\n",
       "  'DD': [1.0, 2.0, 1.5, 1.5, 1.5]},\n",
       " '1': {'F1 & AUC & FP': [{'5': (1.0, 1.0, 0),\n",
       "    '10': (1.0, 1.0, 0),\n",
       "    '20': (1.0, 1.0, 0)},\n",
       "   {'5': (1.0, 1.0, 0), '10': (1.0, 1.0, 0), '20': (1.0, 1.0, 0)},\n",
       "   {'5': (1.0, 1.0, 0), '10': (1.0, 1.0, 0), '20': (1.0, 1.0, 0)},\n",
       "   {'5': (1.0, 1.0, 0), '10': (1.0, 1.0, 0), '20': (1.0, 1.0, 0)},\n",
       "   {'5': (0.6666666666666666, 0.6666666666666666, 1),\n",
       "    '10': (1.0, 1.0, 0),\n",
       "    '20': (1.0, 1.0, 0)}],\n",
       "  'Covering': [0.9960093041009613,\n",
       "   0.9893980670432849,\n",
       "   0.9920370581167395,\n",
       "   0.9920371002761441,\n",
       "   0.9894020125033464],\n",
       "  'DD': [1.5, 4.0, 3.0, 3.0, 4.0]}}"
      ]
     },
     "execution_count": 137,
     "metadata": {},
     "output_type": "execute_result"
    }
   ],
   "source": [
    "\n",
    "random_states = [2020,2021,2022,2023,2024]#,2021,2022,2023,2024,2025]\n",
    "n_clusters = 3\n",
    "n_samples = 1500\n",
    "varying_features = [0,5,3]\n",
    "\n",
    "SIGMA = [0.1,0.5,1]\n",
    "\n",
    "METRICS = []\n",
    "#METRICS[rs] = {}\n",
    "RUN_STATS = {}\n",
    "for sigma in SIGMA:\n",
    "    RUN_STATS[str(sigma)] = {'F1 & AUC & FP':[],'Covering':[],'DD':[]}\n",
    "    for rs in random_states:\n",
    "        print(rs,sigma)\n",
    "        #RUN_STATS[sigma] = {}\n",
    "        X, y, centers = make_dynamic_blobs(\n",
    "            n_samples=n_samples, \n",
    "            base_center=base_center, \n",
    "            n_clusters=n_clusters, \n",
    "            varying_features=varying_features, \n",
    "            cluster_std=sigma, \n",
    "            center_offset_range=(-3, 3), \n",
    "            random_state=rs, distribution='beta'\n",
    "        )\n",
    "        df, GroundTruth = X, np.where(np.diff(y)!=0)[0]+1\n",
    "        print(GroundTruth)\n",
    "        detector = SWDCP(data=df,window_length=50,max_history=50,significance=0.05)\n",
    "        print(detector.device)\n",
    "        detector.process_dataloader(p=2,n_theta=5000,explanations=False)\n",
    "        TMP = {}\n",
    "        for margin in [5,10,20]:\n",
    "            TMP[str(margin)] = f_measure({'0':GroundTruth},detector.change_points['loc'],margin=margin)\n",
    "        RUN_STATS[str(sigma)]['F1 & AUC & FP'].append(TMP)\n",
    "        RUN_STATS[str(sigma)]['Covering'].append(covering({'0':GroundTruth},detector.change_points['loc'],n_obs=df.shape[0]))\n",
    "        RUN_STATS[str(sigma)]['DD'].append(detection_delay(GroundTruth,detector.change_points['loc'])[1])\n",
    "        #print(RUN_STATS)\n",
    "    #METRICS.append(RUN_STATS)\n",
    "RUN_STATS\n"
   ]
  },
  {
   "cell_type": "code",
   "execution_count": 138,
   "metadata": {},
   "outputs": [
    {
     "name": "stdout",
     "output_type": "stream",
     "text": [
      "5 1.0 0.0\n",
      "10 1.0 0.0\n",
      "20 1.0 0.0\n",
      "5 1.0 0.0\n",
      "10 1.0 0.0\n",
      "20 1.0 0.0\n",
      "5 0.93 0.13\n",
      "10 1.0 0.0\n",
      "20 1.0 0.0\n",
      "########## Fales Positives ############\n",
      "5 0.0 0 0\n",
      "10 0.0 0 0\n",
      "20 0.0 0 0\n",
      "5 0.0 0 0\n",
      "10 0.0 0 0\n",
      "20 0.0 0 0\n",
      "5 0.2 0 1\n",
      "10 0.0 0 0\n",
      "20 0.0 0 0\n"
     ]
    }
   ],
   "source": [
    "#RUN_STATS['(0.5, 1.0)']['F1 & AUC']\n",
    "\n",
    "\n",
    "grouped = {}\n",
    "\n",
    "for d in RUN_STATS[k1]['F1 & AUC & FP']:\n",
    "    for key, value in d.items():\n",
    "        if key not in grouped:\n",
    "            grouped[key] = []  # Initialize a list for each key\n",
    "        grouped[key].append(value[1])  # Append the value to the corresponding key\n",
    "\n",
    "#print(k1,pd.DataFrame(grouped).describe())\n",
    "for k,v in grouped.items():\n",
    "    print(k,np.round(np.mean(v),2),np.round(np.std(v),2))\n",
    "\n",
    "\n",
    "grouped = {}\n",
    "\n",
    "for d in RUN_STATS[k2]['F1 & AUC & FP']:\n",
    "    for key, value in d.items():\n",
    "        if key not in grouped:\n",
    "            grouped[key] = []  # Initialize a list for each key\n",
    "        grouped[key].append(value[1])  # Append the value to the corresponding key\n",
    "\n",
    "\n",
    "for k,v in grouped.items():\n",
    "    print(k,np.round(np.mean(v),2),np.round(np.std(v),2))\n",
    "\n",
    "\n",
    "grouped = {}\n",
    "\n",
    "\n",
    "for d in RUN_STATS[k3]['F1 & AUC & FP']:\n",
    "    for key, value in d.items():\n",
    "        if key not in grouped:\n",
    "            grouped[key] = []  # Initialize a list for each key\n",
    "        grouped[key].append(value[1])  # Append the value to the corresponding key\n",
    "\n",
    "#print(k3,pd.DataFrame(grouped).describe())\n",
    "for k,v in grouped.items():\n",
    "    print(k,np.round(np.mean(v),2),np.round(np.std(v),2))\n",
    "\n",
    "#### \n",
    "print(\"########## Fales Positives ############\")\n",
    "\n",
    "grouped = {}\n",
    "\n",
    "for d in RUN_STATS[k1]['F1 & AUC & FP']:\n",
    "    for key, value in d.items():\n",
    "        if key not in grouped:\n",
    "            grouped[key] = []  # Initialize a list for each key\n",
    "        grouped[key].append(value[2])  # Append the value to the corresponding key\n",
    "\n",
    "#print(k1,pd.DataFrame(grouped).describe())\n",
    "for k,v in grouped.items():\n",
    "    print(k,np.round(np.mean(v),2),np.min(v),np.max(v))\n",
    "\n",
    "\n",
    "grouped = {}\n",
    "\n",
    "for d in RUN_STATS[k2]['F1 & AUC & FP']:\n",
    "    for key, value in d.items():\n",
    "        if key not in grouped:\n",
    "            grouped[key] = []  # Initialize a list for each key\n",
    "        grouped[key].append(value[2])  # Append the value to the corresponding key\n",
    "\n",
    "\n",
    "for k,v in grouped.items():\n",
    "    print(k,np.round(np.mean(v),2),np.min(v),np.max(v))\n",
    "\n",
    "\n",
    "grouped = {}\n",
    "\n",
    "\n",
    "for d in RUN_STATS[k3]['F1 & AUC & FP']:\n",
    "    for key, value in d.items():\n",
    "        if key not in grouped:\n",
    "            grouped[key] = []  # Initialize a list for each key\n",
    "        grouped[key].append(value[2])  # Append the value to the corresponding key\n",
    "\n",
    "#print(k3,pd.DataFrame(grouped).describe())\n",
    "for k,v in grouped.items():\n",
    "    print(k,np.round(np.mean(v),2),np.min(v),np.max(v))"
   ]
  },
  {
   "cell_type": "code",
   "execution_count": 139,
   "metadata": {},
   "outputs": [
    {
     "name": "stdout",
     "output_type": "stream",
     "text": [
      "COVERING\n",
      "0.1 0.9973373253493014 0.0\n",
      "0.5 0.99600956705447 0.0008394970053005233\n",
      "1 0.9917767084080953 0.002422707889012768\n",
      "DD\n",
      "0.1 1.0 1.0 1.0\n",
      "0.5 1.5 1.0 2.0\n",
      "1 3.1 1.5 4.0\n"
     ]
    }
   ],
   "source": [
    "key_dict = list(RUN_STATS.keys())\n",
    "print('COVERING')\n",
    "for i in range(3):\n",
    "    print(key_dict[i],np.mean(RUN_STATS[key_dict[i]]['Covering']),np.std(RUN_STATS[key_dict[i]]['Covering']))\n",
    "print('DD')\n",
    "for i in range(3):\n",
    "    print(key_dict[i],np.mean(RUN_STATS[key_dict[i]]['DD']),np.min(RUN_STATS[key_dict[i]]['DD']),np.max(RUN_STATS[key_dict[i]]['DD']))"
   ]
  },
  {
   "cell_type": "markdown",
   "metadata": {},
   "source": [
    "\n",
    "| noise | $\\tau=5$ | $\\tau=10$ | $\\tau=20$ |\n",
    "|-------------|----------|-----------|-----------|\n",
    "| 0.1       | 1.0 ± 0.0   | 1.0 ± 0.0  | 1 ± 0.0 |\n",
    "| 0.5       | 1.0 ± 0.0   | 1.0 ± 0.0  | 1 ± 0.0 |\n",
    "| 1       | 0.93 ± 0.13   | 1.0 ± 0.0  | 1 ± 0.0 |\n",
    "\n",
    "| noise| $\\tau=5$ | $\\tau=10$ | $\\tau=20$ |\n",
    "|-------------|----------|-----------|-----------|\n",
    "| 0.1        | 0 (0;0)  | 0 (0;0)  | 0 (0;0)|\n",
    "| 0.5        | 0 (0;0)  | 0 (0;0)  | 0 (0;0)|\n",
    "| 1      |   0.2 (0;1)  | 0 (0;0)  | 0 (0;0)|\n",
    "\n",
    "## Detection Delay\n",
    "\n",
    "| noise |DD (min;max)|\n",
    "|-------------|----------|\n",
    "| 0.1          | 1.0 (1;1) | \n",
    "| 0.5        | 1.5 (1;2) | \n",
    "|  1    | 3.1 (1.5;4.0) |"
   ]
  },
  {
   "cell_type": "markdown",
   "metadata": {},
   "source": [
    "### Laplace"
   ]
  },
  {
   "cell_type": "code",
   "execution_count": 84,
   "metadata": {},
   "outputs": [
    {
     "name": "stdout",
     "output_type": "stream",
     "text": [
      "2020 0.1\n",
      "[ 500 1000]\n",
      "cpu\n"
     ]
    },
    {
     "name": "stderr",
     "output_type": "stream",
     "text": [
      " 33%|███▎      | 474/1451 [00:03<00:07, 130.89it/s]"
     ]
    },
    {
     "name": "stdout",
     "output_type": "stream",
     "text": [
      "Change detected at: 501 \n",
      "Initiate new segment\n"
     ]
    },
    {
     "name": "stderr",
     "output_type": "stream",
     "text": [
      " 67%|██████▋   | 971/1451 [00:07<00:03, 126.78it/s]"
     ]
    },
    {
     "name": "stdout",
     "output_type": "stream",
     "text": [
      "Change detected at: 1001 \n",
      "Initiate new segment\n"
     ]
    },
    {
     "name": "stderr",
     "output_type": "stream",
     "text": [
      "100%|██████████| 1451/1451 [00:11<00:00, 129.94it/s]\n"
     ]
    },
    {
     "name": "stdout",
     "output_type": "stream",
     "text": [
      "2021 0.1\n",
      "[ 500 1000]\n",
      "cpu\n"
     ]
    },
    {
     "name": "stderr",
     "output_type": "stream",
     "text": [
      " 32%|███▏      | 466/1451 [00:03<00:08, 115.34it/s]"
     ]
    },
    {
     "name": "stdout",
     "output_type": "stream",
     "text": [
      "Change detected at: 501 \n",
      "Initiate new segment\n"
     ]
    },
    {
     "name": "stderr",
     "output_type": "stream",
     "text": [
      " 67%|██████▋   | 977/1451 [00:07<00:03, 134.04it/s]"
     ]
    },
    {
     "name": "stdout",
     "output_type": "stream",
     "text": [
      "Change detected at: 1001 \n",
      "Initiate new segment\n"
     ]
    },
    {
     "name": "stderr",
     "output_type": "stream",
     "text": [
      "100%|██████████| 1451/1451 [00:11<00:00, 125.01it/s]\n"
     ]
    },
    {
     "name": "stdout",
     "output_type": "stream",
     "text": [
      "2022 0.1\n",
      "[ 500 1000]\n",
      "cpu\n"
     ]
    },
    {
     "name": "stderr",
     "output_type": "stream",
     "text": [
      " 32%|███▏      | 468/1451 [00:03<00:08, 117.53it/s]"
     ]
    },
    {
     "name": "stdout",
     "output_type": "stream",
     "text": [
      "Change detected at: 501 \n",
      "Initiate new segment\n"
     ]
    },
    {
     "name": "stderr",
     "output_type": "stream",
     "text": [
      " 66%|██████▋   | 963/1451 [00:08<00:04, 113.31it/s]"
     ]
    },
    {
     "name": "stdout",
     "output_type": "stream",
     "text": [
      "Change detected at: 1001 \n",
      "Initiate new segment\n"
     ]
    },
    {
     "name": "stderr",
     "output_type": "stream",
     "text": [
      "100%|██████████| 1451/1451 [00:12<00:00, 114.39it/s]\n"
     ]
    },
    {
     "name": "stdout",
     "output_type": "stream",
     "text": [
      "2023 0.1\n",
      "[ 500 1000]\n",
      "cpu\n"
     ]
    },
    {
     "name": "stderr",
     "output_type": "stream",
     "text": [
      " 32%|███▏      | 470/1451 [00:04<00:08, 114.98it/s]"
     ]
    },
    {
     "name": "stdout",
     "output_type": "stream",
     "text": [
      "Change detected at: 501 \n",
      "Initiate new segment\n"
     ]
    },
    {
     "name": "stderr",
     "output_type": "stream",
     "text": [
      " 67%|██████▋   | 972/1451 [00:08<00:04, 115.97it/s]"
     ]
    },
    {
     "name": "stdout",
     "output_type": "stream",
     "text": [
      "Change detected at: 1001 \n",
      "Initiate new segment\n"
     ]
    },
    {
     "name": "stderr",
     "output_type": "stream",
     "text": [
      "100%|██████████| 1451/1451 [00:12<00:00, 111.77it/s]\n"
     ]
    },
    {
     "name": "stdout",
     "output_type": "stream",
     "text": [
      "2024 0.1\n",
      "[ 500 1000]\n",
      "cpu\n"
     ]
    },
    {
     "name": "stderr",
     "output_type": "stream",
     "text": [
      " 32%|███▏      | 462/1451 [00:04<00:09, 104.86it/s]"
     ]
    },
    {
     "name": "stdout",
     "output_type": "stream",
     "text": [
      "Change detected at: 501 \n",
      "Initiate new segment\n"
     ]
    },
    {
     "name": "stderr",
     "output_type": "stream",
     "text": [
      " 66%|██████▋   | 962/1451 [00:08<00:04, 113.76it/s]"
     ]
    },
    {
     "name": "stdout",
     "output_type": "stream",
     "text": [
      "Change detected at: 1001 \n",
      "Initiate new segment\n"
     ]
    },
    {
     "name": "stderr",
     "output_type": "stream",
     "text": [
      "100%|██████████| 1451/1451 [00:12<00:00, 112.45it/s]\n"
     ]
    },
    {
     "name": "stdout",
     "output_type": "stream",
     "text": [
      "2020 0.5\n",
      "[ 500 1000]\n",
      "cpu\n"
     ]
    },
    {
     "name": "stderr",
     "output_type": "stream",
     "text": [
      " 33%|███▎      | 477/1451 [00:04<00:08, 113.49it/s]"
     ]
    },
    {
     "name": "stdout",
     "output_type": "stream",
     "text": [
      "Change detected at: 506 \n",
      "Initiate new segment\n"
     ]
    },
    {
     "name": "stderr",
     "output_type": "stream",
     "text": [
      " 67%|██████▋   | 970/1451 [00:08<00:04, 104.32it/s]"
     ]
    },
    {
     "name": "stdout",
     "output_type": "stream",
     "text": [
      "Change detected at: 1004 \n",
      "Initiate new segment\n"
     ]
    },
    {
     "name": "stderr",
     "output_type": "stream",
     "text": [
      "100%|██████████| 1451/1451 [00:13<00:00, 111.44it/s]\n"
     ]
    },
    {
     "name": "stdout",
     "output_type": "stream",
     "text": [
      "2021 0.5\n",
      "[ 500 1000]\n",
      "cpu\n"
     ]
    },
    {
     "name": "stderr",
     "output_type": "stream",
     "text": [
      " 33%|███▎      | 478/1451 [00:04<00:08, 111.73it/s]"
     ]
    },
    {
     "name": "stdout",
     "output_type": "stream",
     "text": [
      "Change detected at: 512 \n",
      "Initiate new segment\n"
     ]
    },
    {
     "name": "stderr",
     "output_type": "stream",
     "text": [
      " 67%|██████▋   | 972/1451 [00:08<00:04, 96.02it/s] "
     ]
    },
    {
     "name": "stdout",
     "output_type": "stream",
     "text": [
      "Change detected at: 1009 \n",
      "Initiate new segment\n"
     ]
    },
    {
     "name": "stderr",
     "output_type": "stream",
     "text": [
      "100%|██████████| 1451/1451 [00:13<00:00, 108.65it/s]\n"
     ]
    },
    {
     "name": "stdout",
     "output_type": "stream",
     "text": [
      "2022 0.5\n",
      "[ 500 1000]\n",
      "cpu\n"
     ]
    },
    {
     "name": "stderr",
     "output_type": "stream",
     "text": [
      " 33%|███▎      | 478/1451 [00:04<00:08, 114.34it/s]"
     ]
    },
    {
     "name": "stdout",
     "output_type": "stream",
     "text": [
      "Change detected at: 506 \n",
      "Initiate new segment\n"
     ]
    },
    {
     "name": "stderr",
     "output_type": "stream",
     "text": [
      " 67%|██████▋   | 972/1451 [00:08<00:03, 133.80it/s]"
     ]
    },
    {
     "name": "stdout",
     "output_type": "stream",
     "text": [
      "Change detected at: 1005 \n",
      "Initiate new segment\n"
     ]
    },
    {
     "name": "stderr",
     "output_type": "stream",
     "text": [
      "100%|██████████| 1451/1451 [00:11<00:00, 124.84it/s]\n"
     ]
    },
    {
     "name": "stdout",
     "output_type": "stream",
     "text": [
      "2023 0.5\n",
      "[ 500 1000]\n",
      "cpu\n"
     ]
    },
    {
     "name": "stderr",
     "output_type": "stream",
     "text": [
      " 33%|███▎      | 486/1451 [00:03<00:07, 137.42it/s]"
     ]
    },
    {
     "name": "stdout",
     "output_type": "stream",
     "text": [
      "Change detected at: 510 \n",
      "Initiate new segment\n"
     ]
    },
    {
     "name": "stderr",
     "output_type": "stream",
     "text": [
      " 68%|██████▊   | 981/1451 [00:07<00:03, 142.51it/s]"
     ]
    },
    {
     "name": "stdout",
     "output_type": "stream",
     "text": [
      "Change detected at: 1004 \n",
      "Initiate new segment\n"
     ]
    },
    {
     "name": "stderr",
     "output_type": "stream",
     "text": [
      "100%|██████████| 1451/1451 [00:10<00:00, 137.45it/s]\n"
     ]
    },
    {
     "name": "stdout",
     "output_type": "stream",
     "text": [
      "2024 0.5\n",
      "[ 500 1000]\n",
      "cpu\n"
     ]
    },
    {
     "name": "stderr",
     "output_type": "stream",
     "text": [
      " 33%|███▎      | 481/1451 [00:03<00:06, 140.59it/s]"
     ]
    },
    {
     "name": "stdout",
     "output_type": "stream",
     "text": [
      "Change detected at: 506 \n",
      "Initiate new segment\n",
      "Change detected at: 511 \n",
      "Initiate new segment\n"
     ]
    },
    {
     "name": "stderr",
     "output_type": "stream",
     "text": [
      " 67%|██████▋   | 966/1451 [00:06<00:03, 139.46it/s]"
     ]
    },
    {
     "name": "stdout",
     "output_type": "stream",
     "text": [
      "Change detected at: 1005 \n",
      "Initiate new segment\n"
     ]
    },
    {
     "name": "stderr",
     "output_type": "stream",
     "text": [
      "100%|██████████| 1451/1451 [00:10<00:00, 137.66it/s]\n"
     ]
    },
    {
     "name": "stdout",
     "output_type": "stream",
     "text": [
      "2020 1\n",
      "[ 500 1000]\n",
      "cpu\n"
     ]
    },
    {
     "name": "stderr",
     "output_type": "stream",
     "text": [
      " 33%|███▎      | 485/1451 [00:03<00:07, 126.45it/s]"
     ]
    },
    {
     "name": "stdout",
     "output_type": "stream",
     "text": [
      "Change detected at: 513 \n",
      "Initiate new segment\n",
      "Change detected at: 515 \n",
      "Initiate new segment\n"
     ]
    },
    {
     "name": "stderr",
     "output_type": "stream",
     "text": [
      " 68%|██████▊   | 987/1451 [00:07<00:03, 133.04it/s]"
     ]
    },
    {
     "name": "stdout",
     "output_type": "stream",
     "text": [
      "Change detected at: 1011 \n",
      "Initiate new segment\n"
     ]
    },
    {
     "name": "stderr",
     "output_type": "stream",
     "text": [
      "100%|██████████| 1451/1451 [00:10<00:00, 135.17it/s]\n"
     ]
    },
    {
     "name": "stdout",
     "output_type": "stream",
     "text": [
      "2021 1\n",
      "[ 500 1000]\n",
      "cpu\n"
     ]
    },
    {
     "name": "stderr",
     "output_type": "stream",
     "text": [
      " 67%|██████▋   | 977/1451 [00:08<00:04, 114.68it/s]"
     ]
    },
    {
     "name": "stdout",
     "output_type": "stream",
     "text": [
      "Change detected at: 1011 \n",
      "Initiate new segment\n",
      "Change detected at: 1025 \n",
      "Initiate new segment\n"
     ]
    },
    {
     "name": "stderr",
     "output_type": "stream",
     "text": [
      "100%|██████████| 1451/1451 [00:12<00:00, 119.42it/s]\n"
     ]
    },
    {
     "name": "stdout",
     "output_type": "stream",
     "text": [
      "2022 1\n",
      "[ 500 1000]\n",
      "cpu\n"
     ]
    },
    {
     "name": "stderr",
     "output_type": "stream",
     "text": [
      " 33%|███▎      | 484/1451 [00:04<00:08, 114.10it/s]"
     ]
    },
    {
     "name": "stdout",
     "output_type": "stream",
     "text": [
      "Change detected at: 513 \n",
      "Initiate new segment\n"
     ]
    },
    {
     "name": "stderr",
     "output_type": "stream",
     "text": [
      " 67%|██████▋   | 977/1451 [00:08<00:03, 118.99it/s]"
     ]
    },
    {
     "name": "stdout",
     "output_type": "stream",
     "text": [
      "Change detected at: 1011 \n",
      "Initiate new segment\n"
     ]
    },
    {
     "name": "stderr",
     "output_type": "stream",
     "text": [
      "100%|██████████| 1451/1451 [00:12<00:00, 114.45it/s]\n"
     ]
    },
    {
     "name": "stdout",
     "output_type": "stream",
     "text": [
      "2023 1\n",
      "[ 500 1000]\n",
      "cpu\n"
     ]
    },
    {
     "name": "stderr",
     "output_type": "stream",
     "text": [
      " 33%|███▎      | 481/1451 [00:04<00:08, 116.34it/s]"
     ]
    },
    {
     "name": "stdout",
     "output_type": "stream",
     "text": [
      "Change detected at: 520 \n",
      "Initiate new segment\n"
     ]
    },
    {
     "name": "stderr",
     "output_type": "stream",
     "text": [
      " 67%|██████▋   | 976/1451 [00:08<00:04, 110.21it/s]"
     ]
    },
    {
     "name": "stdout",
     "output_type": "stream",
     "text": [
      "Change detected at: 1010 \n",
      "Initiate new segment\n"
     ]
    },
    {
     "name": "stderr",
     "output_type": "stream",
     "text": [
      "100%|██████████| 1451/1451 [00:12<00:00, 114.18it/s]\n"
     ]
    },
    {
     "name": "stdout",
     "output_type": "stream",
     "text": [
      "2024 1\n",
      "[ 500 1000]\n",
      "cpu\n"
     ]
    },
    {
     "name": "stderr",
     "output_type": "stream",
     "text": [
      " 68%|██████▊   | 982/1451 [00:08<00:03, 133.84it/s]"
     ]
    },
    {
     "name": "stdout",
     "output_type": "stream",
     "text": [
      "Change detected at: 1013 \n",
      "Initiate new segment\n"
     ]
    },
    {
     "name": "stderr",
     "output_type": "stream",
     "text": [
      "100%|██████████| 1451/1451 [00:11<00:00, 128.05it/s]\n"
     ]
    },
    {
     "data": {
      "text/plain": [
       "{'0.1': {'F1 & AUC': [{'5': (1.0, 1.0), '10': (1.0, 1.0), '20': (1.0, 1.0)},\n",
       "   {'5': (1.0, 1.0), '10': (1.0, 1.0), '20': (1.0, 1.0)},\n",
       "   {'5': (1.0, 1.0), '10': (1.0, 1.0), '20': (1.0, 1.0)},\n",
       "   {'5': (1.0, 1.0), '10': (1.0, 1.0), '20': (1.0, 1.0)},\n",
       "   {'5': (1.0, 1.0), '10': (1.0, 1.0), '20': (1.0, 1.0)}],\n",
       "  'Covering': [0.9973373253493014,\n",
       "   0.9973373253493014,\n",
       "   0.9973373253493014,\n",
       "   0.9973373253493014,\n",
       "   0.9973373253493014]},\n",
       " '0.5': {'F1 & AUC': [{'5': (0.6666666666666666, 0.6666666666666666),\n",
       "    '10': (1.0, 1.0),\n",
       "    '20': (1.0, 1.0)},\n",
       "   {'5': (0.3333333333333333, 0.3333333333333333),\n",
       "    '10': (0.6666666666666666, 0.6666666666666666),\n",
       "    '20': (1.0, 1.0)},\n",
       "   {'5': (0.6666666666666666, 0.6666666666666666),\n",
       "    '10': (1.0, 1.0),\n",
       "    '20': (1.0, 1.0)},\n",
       "   {'5': (0.6666666666666666, 0.6666666666666666),\n",
       "    '10': (1.0, 1.0),\n",
       "    '20': (1.0, 1.0)},\n",
       "   {'5': (0.5714285714285715, 0.5833333333333334),\n",
       "    '10': (0.8571428571428571, 0.875),\n",
       "    '20': (0.8571428571428571, 0.875)}],\n",
       "  'Covering': [0.9867670075496162,\n",
       "   0.9724350442043223,\n",
       "   0.985453371424099,\n",
       "   0.9815381263616558,\n",
       "   0.9821530413910956]},\n",
       " '1': {'F1 & AUC': [{'5': (0.28571428571428575, 0.29166666666666663),\n",
       "    '10': (0.28571428571428575, 0.29166666666666663),\n",
       "    '20': (0.8571428571428571, 0.875)},\n",
       "   {'5': (0.3333333333333333, 0.3333333333333333),\n",
       "    '10': (0.3333333333333333, 0.3333333333333333),\n",
       "    '20': (0.6666666666666666, 0.6666666666666666)},\n",
       "   {'5': (0.3333333333333333, 0.3333333333333333),\n",
       "    '10': (0.3333333333333333, 0.3333333333333333),\n",
       "    '20': (1.0, 1.0)},\n",
       "   {'5': (0.3333333333333333, 0.3333333333333333),\n",
       "    '10': (0.6666666666666666, 0.6666666666666666),\n",
       "    '20': (1.0, 1.0)},\n",
       "   {'5': (0.4, 0.4166666666666667),\n",
       "    '10': (0.4, 0.4166666666666667),\n",
       "    '20': (0.8, 0.8333333333333333)}],\n",
       "  'Covering': [0.9672594143908732,\n",
       "   0.6463732278272338,\n",
       "   0.9685640458324909,\n",
       "   0.9609049773755657,\n",
       "   0.6537222770648239]}}"
      ]
     },
     "execution_count": 84,
     "metadata": {},
     "output_type": "execute_result"
    }
   ],
   "source": [
    "\n",
    "random_states = [2020,2021,2022,2023,2024]#,2021,2022,2023,2024,2025]\n",
    "n_clusters = 3\n",
    "n_samples = 1500\n",
    "varying_features = [0,5,3]\n",
    "\n",
    "SIGMA = [0.1,0.5,1]\n",
    "\n",
    "METRICS = []\n",
    "#METRICS[rs] = {}\n",
    "RUN_STATS = {}\n",
    "for sigma in SIGMA:\n",
    "    RUN_STATS[str(sigma)] = {'F1 & AUC':[],'Covering':[]}\n",
    "    for rs in random_states:\n",
    "        print(rs,sigma)\n",
    "        #RUN_STATS[sigma] = {}\n",
    "        X, y, centers = make_dynamic_blobs(\n",
    "            n_samples=n_samples, \n",
    "            base_center=base_center, \n",
    "            n_clusters=n_clusters, \n",
    "            varying_features=varying_features, \n",
    "            cluster_std=sigma, \n",
    "            center_offset_range=(-3, 3), \n",
    "            random_state=rs, distribution='laplace'\n",
    "        )\n",
    "        df, GroundTruth = X, np.where(np.diff(y)!=0)[0]+1\n",
    "        print(GroundTruth)\n",
    "        detector = SWDCP(data=df,window_length=50,max_history=50,significance=0.05)\n",
    "        print(detector.device)\n",
    "        detector.process_dataloader(p=2,n_theta=5000,explanations=False)\n",
    "        TMP = {}\n",
    "        for margin in [5,10,20]:\n",
    "            TMP[str(margin)] = f_measure({'0':GroundTruth},detector.change_points['loc'],margin=margin)\n",
    "        RUN_STATS[str(sigma)]['F1 & AUC'].append(TMP)\n",
    "        RUN_STATS[str(sigma)]['Covering'].append(covering({'0':GroundTruth},detector.change_points['loc'],n_obs=df.shape[0]))\n",
    "        #print(RUN_STATS)\n",
    "    #METRICS.append(RUN_STATS)\n",
    "RUN_STATS\n"
   ]
  },
  {
   "cell_type": "code",
   "execution_count": 85,
   "metadata": {},
   "outputs": [
    {
     "name": "stdout",
     "output_type": "stream",
     "text": [
      "0.1          5   10   20\n",
      "count  5.0  5.0  5.0\n",
      "mean   1.0  1.0  1.0\n",
      "std    0.0  0.0  0.0\n",
      "min    1.0  1.0  1.0\n",
      "25%    1.0  1.0  1.0\n",
      "50%    1.0  1.0  1.0\n",
      "75%    1.0  1.0  1.0\n",
      "max    1.0  1.0  1.0\n",
      "0.5                5         10         20\n",
      "count  10.000000  10.000000  10.000000\n",
      "mean    0.791667   0.954167   0.987500\n",
      "std     0.239759   0.108387   0.039528\n",
      "min     0.333333   0.666667   0.875000\n",
      "25%     0.666667   1.000000   1.000000\n",
      "50%     0.833333   1.000000   1.000000\n",
      "75%     1.000000   1.000000   1.000000\n",
      "max     1.000000   1.000000   1.000000\n",
      "1                5         10         20\n",
      "count  15.000000  15.000000  15.000000\n",
      "mean    0.641667   0.772222   0.950000\n",
      "std     0.292855   0.291610   0.097336\n",
      "min     0.291667   0.291667   0.666667\n",
      "25%     0.333333   0.541667   0.937500\n",
      "50%     0.666667   1.000000   1.000000\n",
      "75%     1.000000   1.000000   1.000000\n",
      "max     1.000000   1.000000   1.000000\n"
     ]
    }
   ],
   "source": [
    "RUN_STATS['0.1']['F1 & AUC']\n",
    "\n",
    "grouped = {}\n",
    "\n",
    "for d in RUN_STATS['0.1']['F1 & AUC']:\n",
    "    for key, value in d.items():\n",
    "        if key not in grouped:\n",
    "            grouped[key] = []  # Initialize a list for each key\n",
    "        grouped[key].append(value[1])  # Append the value to the corresponding key\n",
    "\n",
    "print(0.1,pd.DataFrame(grouped).describe())\n",
    "\n",
    "\n",
    "for d in RUN_STATS['0.5']['F1 & AUC']:\n",
    "    for key, value in d.items():\n",
    "        if key not in grouped:\n",
    "            grouped[key] = []  # Initialize a list for each key\n",
    "        grouped[key].append(value[1])  # Append the value to the corresponding key\n",
    "\n",
    "print(0.5,pd.DataFrame(grouped).describe())\n",
    "\n",
    "\n",
    "\n",
    "for d in RUN_STATS['1']['F1 & AUC']:\n",
    "    for key, value in d.items():\n",
    "        if key not in grouped:\n",
    "            grouped[key] = []  # Initialize a list for each key\n",
    "        grouped[key].append(value[1])  # Append the value to the corresponding key\n",
    "\n",
    "print(1,pd.DataFrame(grouped).describe())"
   ]
  },
  {
   "cell_type": "code",
   "execution_count": null,
   "metadata": {},
   "outputs": [],
   "source": []
  }
 ],
 "metadata": {
  "kernelspec": {
   "display_name": "CodePaper",
   "language": "python",
   "name": "python3"
  },
  "language_info": {
   "codemirror_mode": {
    "name": "ipython",
    "version": 3
   },
   "file_extension": ".py",
   "mimetype": "text/x-python",
   "name": "python",
   "nbconvert_exporter": "python",
   "pygments_lexer": "ipython3",
   "version": "3.12.3"
  }
 },
 "nbformat": 4,
 "nbformat_minor": 2
}
