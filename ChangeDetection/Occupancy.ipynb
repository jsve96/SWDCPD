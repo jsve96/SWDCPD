{
 "cells": [
  {
   "cell_type": "code",
   "execution_count": 2,
   "metadata": {},
   "outputs": [],
   "source": [
    "import torch\n",
    "from torchvision import datasets\n",
    "from torch.utils.data import DataLoader\n",
    "from torchvision import transforms\n",
    "import numpy as np\n",
    "from utilsCPD import *\n",
    "import matplotlib.pyplot as plt\n",
    "from SWCPD import BaseDetector as SWDCP\n",
    "import os\n",
    "from pathlib import Path"
   ]
  },
  {
   "cell_type": "code",
   "execution_count": 4,
   "metadata": {},
   "outputs": [
    {
     "data": {
      "text/html": [
       "<div>\n",
       "<style scoped>\n",
       "    .dataframe tbody tr th:only-of-type {\n",
       "        vertical-align: middle;\n",
       "    }\n",
       "\n",
       "    .dataframe tbody tr th {\n",
       "        vertical-align: top;\n",
       "    }\n",
       "\n",
       "    .dataframe thead th {\n",
       "        text-align: right;\n",
       "    }\n",
       "</style>\n",
       "<table border=\"1\" class=\"dataframe\">\n",
       "  <thead>\n",
       "    <tr style=\"text-align: right;\">\n",
       "      <th></th>\n",
       "      <th>Temperature</th>\n",
       "      <th>Humidity</th>\n",
       "      <th>Light</th>\n",
       "      <th>CO2</th>\n",
       "    </tr>\n",
       "  </thead>\n",
       "  <tbody>\n",
       "    <tr>\n",
       "      <th>0</th>\n",
       "      <td>23.18</td>\n",
       "      <td>27.2720</td>\n",
       "      <td>426.0</td>\n",
       "      <td>721.25</td>\n",
       "    </tr>\n",
       "    <tr>\n",
       "      <th>1</th>\n",
       "      <td>23.15</td>\n",
       "      <td>27.2675</td>\n",
       "      <td>429.5</td>\n",
       "      <td>714.00</td>\n",
       "    </tr>\n",
       "    <tr>\n",
       "      <th>2</th>\n",
       "      <td>23.15</td>\n",
       "      <td>27.2450</td>\n",
       "      <td>426.0</td>\n",
       "      <td>713.50</td>\n",
       "    </tr>\n",
       "    <tr>\n",
       "      <th>3</th>\n",
       "      <td>23.15</td>\n",
       "      <td>27.2000</td>\n",
       "      <td>426.0</td>\n",
       "      <td>708.25</td>\n",
       "    </tr>\n",
       "    <tr>\n",
       "      <th>4</th>\n",
       "      <td>23.10</td>\n",
       "      <td>27.2000</td>\n",
       "      <td>426.0</td>\n",
       "      <td>704.50</td>\n",
       "    </tr>\n",
       "  </tbody>\n",
       "</table>\n",
       "</div>"
      ],
      "text/plain": [
       "   Temperature  Humidity  Light     CO2\n",
       "0        23.18   27.2720  426.0  721.25\n",
       "1        23.15   27.2675  429.5  714.00\n",
       "2        23.15   27.2450  426.0  713.50\n",
       "3        23.15   27.2000  426.0  708.25\n",
       "4        23.10   27.2000  426.0  704.50"
      ]
     },
     "execution_count": 4,
     "metadata": {},
     "output_type": "execute_result"
    }
   ],
   "source": [
    "file_name = 'Occupancy.csv'\n",
    "\n",
    "file_path = os.path.normpath(os.path.join(os.getcwd(),\"datasets/Occupancy\",file_name))\n",
    "\n",
    "Occupancy = pd.read_csv(file_path).iloc[:,1:]\n",
    "\n",
    "Targets = pd.read_csv(os.path.normpath(os.path.join(os.getcwd(),\"datasets/Occupancy/OccupancyTargets.csv\"))).iloc[:,1:]\n",
    "\n",
    "GroundTruth = list(Targets.to_numpy().flatten())\n",
    "\n",
    "Occupancy.head()"
   ]
  },
  {
   "cell_type": "markdown",
   "metadata": {},
   "source": [
    "### SWCPD"
   ]
  },
  {
   "cell_type": "code",
   "execution_count": 7,
   "metadata": {},
   "outputs": [
    {
     "name": "stdout",
     "output_type": "stream",
     "text": [
      "cpu\n"
     ]
    },
    {
     "name": "stderr",
     "output_type": "stream",
     "text": [
      "  5%|▍         | 346/7644 [00:03<01:16, 94.98it/s] "
     ]
    },
    {
     "name": "stdout",
     "output_type": "stream",
     "text": [
      "Change detected at: 828 \n",
      "Initiate new segment\n"
     ]
    },
    {
     "name": "stderr",
     "output_type": "stream",
     "text": [
      " 14%|█▍        | 1059/7644 [00:11<01:01, 106.40it/s]"
     ]
    },
    {
     "name": "stdout",
     "output_type": "stream",
     "text": [
      "Change detected at: 1544 \n",
      "Initiate new segment\n"
     ]
    },
    {
     "name": "stderr",
     "output_type": "stream",
     "text": [
      " 23%|██▎       | 1781/7644 [00:17<00:58, 99.85it/s] "
     ]
    },
    {
     "name": "stdout",
     "output_type": "stream",
     "text": [
      "Change detected at: 2271 \n",
      "Initiate new segment\n"
     ]
    },
    {
     "name": "stderr",
     "output_type": "stream",
     "text": [
      " 33%|███▎      | 2501/7644 [00:24<00:48, 105.13it/s]"
     ]
    },
    {
     "name": "stdout",
     "output_type": "stream",
     "text": [
      "Change detected at: 2988 \n",
      "Initiate new segment\n"
     ]
    },
    {
     "name": "stderr",
     "output_type": "stream",
     "text": [
      " 43%|████▎     | 3249/7644 [00:32<00:45, 97.44it/s] "
     ]
    },
    {
     "name": "stdout",
     "output_type": "stream",
     "text": [
      "Change detected at: 3731 \n",
      "Initiate new segment\n"
     ]
    },
    {
     "name": "stderr",
     "output_type": "stream",
     "text": [
      " 62%|██████▏   | 4749/7644 [00:46<00:27, 105.95it/s]"
     ]
    },
    {
     "name": "stdout",
     "output_type": "stream",
     "text": [
      "Change detected at: 5232 \n",
      "Initiate new segment\n"
     ]
    },
    {
     "name": "stderr",
     "output_type": "stream",
     "text": [
      " 69%|██████▉   | 5304/7644 [00:52<00:23, 99.09it/s] "
     ]
    },
    {
     "name": "stdout",
     "output_type": "stream",
     "text": [
      "Change detected at: 5787 \n",
      "Initiate new segment\n"
     ]
    },
    {
     "name": "stderr",
     "output_type": "stream",
     "text": [
      " 81%|████████  | 6166/7644 [01:01<00:15, 97.11it/s] "
     ]
    },
    {
     "name": "stdout",
     "output_type": "stream",
     "text": [
      "Change detected at: 6655 \n",
      "Initiate new segment\n"
     ]
    },
    {
     "name": "stderr",
     "output_type": "stream",
     "text": [
      " 91%|█████████ | 6971/7644 [01:08<00:05, 121.15it/s]"
     ]
    },
    {
     "name": "stdout",
     "output_type": "stream",
     "text": [
      "Change detected at: 7454 \n",
      "Initiate new segment\n"
     ]
    },
    {
     "name": "stderr",
     "output_type": "stream",
     "text": [
      "100%|█████████▉| 7618/7644 [01:15<00:00, 86.03it/s] "
     ]
    },
    {
     "name": "stdout",
     "output_type": "stream",
     "text": [
      "Change detected at: 8101 \n",
      "Initiate new segment\n"
     ]
    },
    {
     "name": "stderr",
     "output_type": "stream",
     "text": [
      "100%|██████████| 7644/7644 [01:16<00:00, 100.46it/s]"
     ]
    },
    {
     "name": "stdout",
     "output_type": "stream",
     "text": [
      "F1 score: 0.5833333333333334\n",
      "Covering: 0.8027825975884822\n",
      "0.5874125874125874\n"
     ]
    },
    {
     "name": "stderr",
     "output_type": "stream",
     "text": [
      "\n"
     ]
    },
    {
     "data": {
      "text/plain": [
       "(0.5833333333333334,\n",
       " 0.8027825975884822,\n",
       " 0.5874125874125874,\n",
       " 4,\n",
       " ({8101: 6,\n",
       "   1544: 89,\n",
       "   6655: 0,\n",
       "   2988: 93,\n",
       "   5232: 49,\n",
       "   3731: 12,\n",
       "   5787: 28,\n",
       "   828: 3,\n",
       "   7454: 239,\n",
       "   2271: 0},\n",
       "  51.9))"
      ]
     },
     "execution_count": 7,
     "metadata": {},
     "output_type": "execute_result"
    }
   ],
   "source": [
    "detector = SWDCP(data=Occupancy.to_numpy().astype(np.float32),window_length=500,max_history=500,significance=0.05)\n",
    "print(detector.device)\n",
    "detector.process_dataloader(p=2,n_theta=1000,seed=2025)\n",
    "detector.evaluate(GroundTruth,30)"
   ]
  },
  {
   "cell_type": "code",
   "execution_count": 9,
   "metadata": {},
   "outputs": [
    {
     "name": "stdout",
     "output_type": "stream",
     "text": [
      "F1 score: 0.5833333333333334\n",
      "Covering: 0.8027825975884822\n",
      "0.5874125874125874\n"
     ]
    },
    {
     "data": {
      "text/plain": [
       "(0.5833333333333334,\n",
       " 0.8027825975884822,\n",
       " 0.5874125874125874,\n",
       " 4,\n",
       " ({8101: 6,\n",
       "   1544: 89,\n",
       "   6655: 0,\n",
       "   2988: 93,\n",
       "   5232: 49,\n",
       "   3731: 12,\n",
       "   5787: 28,\n",
       "   828: 3,\n",
       "   7454: 239,\n",
       "   2271: 0},\n",
       "  51.9))"
      ]
     },
     "execution_count": 9,
     "metadata": {},
     "output_type": "execute_result"
    }
   ],
   "source": [
    "detector.evaluate(GroundTruth,30)"
   ]
  },
  {
   "cell_type": "code",
   "execution_count": 14,
   "metadata": {},
   "outputs": [
    {
     "name": "stdout",
     "output_type": "stream",
     "text": [
      "F1 score: 0.41666666666666663\n",
      "Covering: 0.8027825975884822\n",
      "0.4195804195804196\n",
      "F1 score: 0.5833333333333334\n",
      "Covering: 0.8027825975884822\n",
      "0.5874125874125874\n",
      "F1 score: 0.6666666666666667\n",
      "Covering: 0.8027825975884822\n",
      "0.6713286713286712\n",
      "F1 score: 0.6666666666666667\n",
      "Covering: 0.8027825975884822\n",
      "0.6713286713286712\n",
      "F1 score: 0.8333333333333333\n",
      "Covering: 0.8027825975884822\n",
      "0.8391608391608393\n"
     ]
    },
    {
     "data": {
      "text/plain": [
       "[0.4195804195804196,\n",
       " 0.5874125874125874,\n",
       " 0.6713286713286712,\n",
       " 0.6713286713286712,\n",
       " 0.8391608391608393]"
      ]
     },
     "execution_count": 14,
     "metadata": {},
     "output_type": "execute_result"
    }
   ],
   "source": [
    "SWD_AUCS = [detector.evaluate(GroundTruth,tau)[2] for tau in [10,30,50,75,100]]\n",
    "SWD_AUCS"
   ]
  },
  {
   "cell_type": "markdown",
   "metadata": {},
   "source": [
    "### Clasp"
   ]
  },
  {
   "cell_type": "code",
   "execution_count": 11,
   "metadata": {},
   "outputs": [
    {
     "name": "stdout",
     "output_type": "stream",
     "text": [
      "F1 & AUC & FP (0.2666666666666667, 0.5769230769230769, 0)\n"
     ]
    },
    {
     "data": {
      "text/plain": [
       "({828: 3}, 3.0)"
      ]
     },
     "execution_count": 11,
     "metadata": {},
     "output_type": "execute_result"
    }
   ],
   "source": [
    "from claspy.segmentation import BinaryClaSPSegmentation\n",
    "\n",
    "clasp = BinaryClaSPSegmentation(window_size=50).fit(Occupancy.to_numpy())\n",
    "print('F1 & AUC & FP',f_measure({'0':GroundTruth},clasp.change_points,30))\n",
    "covering({'0':GroundTruth},clasp.change_points,Occupancy.shape[0])\n",
    "detection_delay(GroundTruth,clasp.change_points)"
   ]
  },
  {
   "cell_type": "code",
   "execution_count": 12,
   "metadata": {},
   "outputs": [
    {
     "data": {
      "text/plain": [
       "[0, 0, 0, 0, 0]"
      ]
     },
     "execution_count": 12,
     "metadata": {},
     "output_type": "execute_result"
    }
   ],
   "source": [
    "CLASP_AUCS = [f_measure({'0':GroundTruth},clasp.change_points,tau)[2] for tau in [10,30,50,75,100]]\n",
    "CLASP_AUCS"
   ]
  },
  {
   "cell_type": "markdown",
   "metadata": {},
   "source": [
    "### Results for R methods"
   ]
  },
  {
   "cell_type": "code",
   "execution_count": 6,
   "metadata": {},
   "outputs": [
    {
     "name": "stdout",
     "output_type": "stream",
     "text": [
      "f1 & AUC & FP (0.33333333333333337, 0.3393665158371041, 12)\n",
      "Covering 0.6401316828686778\n",
      "Delay 167.4375\n",
      "F1 & AUC & FP (0.5454545454545455, 0.5711538461538461, 11)\n",
      "Covering 0.7367589017005471\n",
      "Delay 105.6842105263158\n",
      "[0.2714932126696833, 0.3393665158371041, 0.40723981900452494, 0.6108597285067873, 0.6787330316742082]\n",
      "[0.5711538461538461, 0.5711538461538461, 0.5711538461538461, 0.6346153846153847, 0.698076923076923]\n"
     ]
    }
   ],
   "source": [
    "import json\n",
    "\n",
    "#R=30,sig.lvl=0.05,min.size = 400\n",
    "with open(\"./R/res/OccupancyECP.json\") as f:\n",
    "    res = json.load(f)[1:-1]\n",
    "\n",
    "ECP_CPS =res\n",
    "print(\"f1 & AUC & FP\",f_measure({'0':GroundTruth},ECP_CPS,30))\n",
    "print(\"Covering\",covering({'0':GroundTruth},ECP_CPS,Occupancy.shape[0]))\n",
    "print('Delay', detection_delay(GroundTruth,ECP_CPS)[1])\n",
    "\n",
    "ECP_AUCS = [f_measure({'0':GroundTruth},ECP_CPS,tau)[1] for tau in [10,30,50,75,100]]\n",
    "#BOCPD with datanormalization\n",
    "with open(\"./R/res/OccupancyBOCPD.json\") as f:\n",
    "    res = json.load(f)[0][1:]\n",
    "\n",
    "BOCPD_CPS =  res\n",
    "print(\"F1 & AUC & FP\",f_measure({'0':GroundTruth},BOCPD_CPS,30))\n",
    "print(\"Covering\",covering({'0':GroundTruth},BOCPD_CPS,Occupancy.shape[0]))\n",
    "print('Delay',detection_delay(GroundTruth,BOCPD_CPS)[1])\n",
    "\n",
    "BOCPD_AUCS = [f_measure({'0':GroundTruth},BOCPD_CPS,tau)[1] for tau in [10,30,50,75,100]]\n",
    "\n",
    "\n",
    "print(ECP_AUCS)\n",
    "print(BOCPD_AUCS)"
   ]
  },
  {
   "cell_type": "markdown",
   "metadata": {},
   "source": [
    "## FP"
   ]
  },
  {
   "cell_type": "markdown",
   "metadata": {},
   "source": [
    "### Results\n",
    "\n",
    "| METHOD  | DD  | FP  |\n",
    "|-------------|----------|-----------|\n",
    "| SWD (ours)       | 52 | 4|\n",
    "| ECP         | 167 | 12  |\n",
    "| KCPA         |77 | 11|\n",
    "| CLasP         | 3 | 0 |\n",
    "| BOCPD         | 105  | 11 |"
   ]
  }
 ],
 "metadata": {
  "kernelspec": {
   "display_name": "CodePaper",
   "language": "python",
   "name": "python3"
  },
  "language_info": {
   "codemirror_mode": {
    "name": "ipython",
    "version": 3
   },
   "file_extension": ".py",
   "mimetype": "text/x-python",
   "name": "python",
   "nbconvert_exporter": "python",
   "pygments_lexer": "ipython3",
   "version": "3.12.3"
  }
 },
 "nbformat": 4,
 "nbformat_minor": 2
}
