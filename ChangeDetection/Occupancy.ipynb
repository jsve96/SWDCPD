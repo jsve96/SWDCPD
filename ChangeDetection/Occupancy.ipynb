{
 "cells": [
  {
   "cell_type": "code",
   "execution_count": 1,
   "metadata": {},
   "outputs": [],
   "source": [
    "import torch\n",
    "from torchvision import datasets\n",
    "from torch.utils.data import DataLoader\n",
    "from torchvision import transforms\n",
    "import numpy as np\n",
    "from utilsCPD import *\n",
    "import matplotlib.pyplot as plt\n",
    "from SWCPD import BaseDetector as SWDCP\n",
    "import os\n",
    "from pathlib import Path"
   ]
  },
  {
   "cell_type": "code",
   "execution_count": 4,
   "metadata": {},
   "outputs": [
    {
     "data": {
      "text/html": [
       "<div>\n",
       "<style scoped>\n",
       "    .dataframe tbody tr th:only-of-type {\n",
       "        vertical-align: middle;\n",
       "    }\n",
       "\n",
       "    .dataframe tbody tr th {\n",
       "        vertical-align: top;\n",
       "    }\n",
       "\n",
       "    .dataframe thead th {\n",
       "        text-align: right;\n",
       "    }\n",
       "</style>\n",
       "<table border=\"1\" class=\"dataframe\">\n",
       "  <thead>\n",
       "    <tr style=\"text-align: right;\">\n",
       "      <th></th>\n",
       "      <th>Temperature</th>\n",
       "      <th>Humidity</th>\n",
       "      <th>Light</th>\n",
       "      <th>CO2</th>\n",
       "    </tr>\n",
       "  </thead>\n",
       "  <tbody>\n",
       "    <tr>\n",
       "      <th>0</th>\n",
       "      <td>23.18</td>\n",
       "      <td>27.2720</td>\n",
       "      <td>426.0</td>\n",
       "      <td>721.25</td>\n",
       "    </tr>\n",
       "    <tr>\n",
       "      <th>1</th>\n",
       "      <td>23.15</td>\n",
       "      <td>27.2675</td>\n",
       "      <td>429.5</td>\n",
       "      <td>714.00</td>\n",
       "    </tr>\n",
       "    <tr>\n",
       "      <th>2</th>\n",
       "      <td>23.15</td>\n",
       "      <td>27.2450</td>\n",
       "      <td>426.0</td>\n",
       "      <td>713.50</td>\n",
       "    </tr>\n",
       "    <tr>\n",
       "      <th>3</th>\n",
       "      <td>23.15</td>\n",
       "      <td>27.2000</td>\n",
       "      <td>426.0</td>\n",
       "      <td>708.25</td>\n",
       "    </tr>\n",
       "    <tr>\n",
       "      <th>4</th>\n",
       "      <td>23.10</td>\n",
       "      <td>27.2000</td>\n",
       "      <td>426.0</td>\n",
       "      <td>704.50</td>\n",
       "    </tr>\n",
       "  </tbody>\n",
       "</table>\n",
       "</div>"
      ],
      "text/plain": [
       "   Temperature  Humidity  Light     CO2\n",
       "0        23.18   27.2720  426.0  721.25\n",
       "1        23.15   27.2675  429.5  714.00\n",
       "2        23.15   27.2450  426.0  713.50\n",
       "3        23.15   27.2000  426.0  708.25\n",
       "4        23.10   27.2000  426.0  704.50"
      ]
     },
     "execution_count": 4,
     "metadata": {},
     "output_type": "execute_result"
    }
   ],
   "source": [
    "file_name = 'Occupancy.csv'\n",
    "\n",
    "file_path = os.path.normpath(os.path.join(os.getcwd(),\"datasets/Occupancy\",file_name))\n",
    "\n",
    "Occupancy = pd.read_csv(file_path).iloc[:,1:]\n",
    "\n",
    "Targets = pd.read_csv(os.path.normpath(os.path.join(os.getcwd(),\"datasets/Occupancy/OccupancyTargets.csv\"))).iloc[:,1:]\n",
    "\n",
    "GroundTruth = list(Targets.to_numpy().flatten())\n",
    "\n",
    "Occupancy.head()"
   ]
  },
  {
   "cell_type": "markdown",
   "metadata": {},
   "source": [
    "### SWCPD"
   ]
  },
  {
   "cell_type": "code",
   "execution_count": null,
   "metadata": {},
   "outputs": [
    {
     "name": "stdout",
     "output_type": "stream",
     "text": [
      "cuda\n"
     ]
    },
    {
     "name": "stderr",
     "output_type": "stream",
     "text": [
      "  4%|▍         | 336/7644 [00:04<01:38, 73.90it/s]"
     ]
    },
    {
     "name": "stdout",
     "output_type": "stream",
     "text": [
      "Change detected at: 828 \n",
      "Initiate new segment\n"
     ]
    },
    {
     "name": "stderr",
     "output_type": "stream",
     "text": [
      " 14%|█▎        | 1050/7644 [00:17<01:49, 60.32it/s]"
     ]
    },
    {
     "name": "stdout",
     "output_type": "stream",
     "text": [
      "Change detected at: 1543 \n",
      "Initiate new segment\n"
     ]
    },
    {
     "name": "stderr",
     "output_type": "stream",
     "text": [
      " 23%|██▎       | 1779/7644 [00:30<01:51, 52.37it/s]"
     ]
    },
    {
     "name": "stdout",
     "output_type": "stream",
     "text": [
      "Change detected at: 2271 \n",
      "Initiate new segment\n"
     ]
    },
    {
     "name": "stderr",
     "output_type": "stream",
     "text": [
      " 33%|███▎      | 2499/7644 [00:43<01:19, 64.99it/s]"
     ]
    },
    {
     "name": "stdout",
     "output_type": "stream",
     "text": [
      "Change detected at: 2987 \n",
      "Initiate new segment\n"
     ]
    },
    {
     "name": "stderr",
     "output_type": "stream",
     "text": [
      " 42%|████▏     | 3236/7644 [00:59<02:24, 30.59it/s]"
     ]
    },
    {
     "name": "stdout",
     "output_type": "stream",
     "text": [
      "Change detected at: 3730 \n",
      "Initiate new segment\n"
     ]
    },
    {
     "name": "stderr",
     "output_type": "stream",
     "text": [
      " 62%|██████▏   | 4739/7644 [01:34<00:58, 49.99it/s]"
     ]
    },
    {
     "name": "stdout",
     "output_type": "stream",
     "text": [
      "Change detected at: 5232 \n",
      "Initiate new segment\n"
     ]
    },
    {
     "name": "stderr",
     "output_type": "stream",
     "text": [
      " 69%|██████▉   | 5296/7644 [01:45<00:46, 50.46it/s]"
     ]
    },
    {
     "name": "stdout",
     "output_type": "stream",
     "text": [
      "Change detected at: 5787 \n",
      "Initiate new segment\n"
     ]
    },
    {
     "name": "stderr",
     "output_type": "stream",
     "text": [
      " 81%|████████  | 6166/7644 [02:02<00:29, 49.29it/s]"
     ]
    },
    {
     "name": "stdout",
     "output_type": "stream",
     "text": [
      "Change detected at: 6655 \n",
      "Initiate new segment\n"
     ]
    },
    {
     "name": "stderr",
     "output_type": "stream",
     "text": [
      " 91%|█████████ | 6960/7644 [02:19<00:13, 51.76it/s]"
     ]
    },
    {
     "name": "stdout",
     "output_type": "stream",
     "text": [
      "Change detected at: 7454 \n",
      "Initiate new segment\n"
     ]
    },
    {
     "name": "stderr",
     "output_type": "stream",
     "text": [
      "100%|█████████▉| 7606/7644 [02:32<00:00, 50.13it/s]"
     ]
    },
    {
     "name": "stdout",
     "output_type": "stream",
     "text": [
      "Change detected at: 8100 \n",
      "Initiate new segment\n"
     ]
    },
    {
     "name": "stderr",
     "output_type": "stream",
     "text": [
      "100%|██████████| 7644/7644 [02:32<00:00, 50.03it/s]"
     ]
    },
    {
     "name": "stdout",
     "output_type": "stream",
     "text": [
      "F1 score: 0.5833333333333334\n",
      "Covering: 0.8032426077984104\n",
      "0.5874125874125874\n"
     ]
    },
    {
     "name": "stderr",
     "output_type": "stream",
     "text": [
      "\n"
     ]
    },
    {
     "data": {
      "text/plain": [
       "(0.5833333333333334, 0.8032426077984104, 0.5874125874125874)"
      ]
     },
     "execution_count": 3,
     "metadata": {},
     "output_type": "execute_result"
    }
   ],
   "source": [
    "detector = SWDCP(data=Occupancy.to_numpy().astype(np.float32),window_length=500,max_history=500,significance=0.01)\n",
    "print(detector.device)\n",
    "detector.process_dataloader(p=2,n_theta=1000,seed=2025)\n",
    "detector.evaluate(GroundTruth,30)"
   ]
  },
  {
   "cell_type": "markdown",
   "metadata": {},
   "source": [
    "### Clasp"
   ]
  },
  {
   "cell_type": "code",
   "execution_count": 4,
   "metadata": {},
   "outputs": [
    {
     "name": "stdout",
     "output_type": "stream",
     "text": [
      "(0.2666666666666667, 0.5769230769230769)\n"
     ]
    },
    {
     "data": {
      "text/plain": [
       "0.19039153072090945"
      ]
     },
     "execution_count": 4,
     "metadata": {},
     "output_type": "execute_result"
    }
   ],
   "source": [
    "from claspy.segmentation import BinaryClaSPSegmentation\n",
    "\n",
    "clasp = BinaryClaSPSegmentation(window_size=50).fit(Occupancy.to_numpy())\n",
    "print(f_measure({'0':GroundTruth},clasp.change_points,30))\n",
    "covering({'0':GroundTruth},clasp.change_points,Occupancy.shape[0])"
   ]
  },
  {
   "cell_type": "markdown",
   "metadata": {},
   "source": [
    "### Results for R methods"
   ]
  },
  {
   "cell_type": "code",
   "execution_count": 27,
   "metadata": {},
   "outputs": [
    {
     "name": "stdout",
     "output_type": "stream",
     "text": [
      "f1 & AUC (0.33333333333333337, 0.3393665158371041)\n",
      "Covering 0.6401316828686778\n",
      "F1 & AUC (0.5454545454545455, 0.5711538461538461)\n",
      "Covering 0.7367589017005471\n"
     ]
    }
   ],
   "source": [
    "import json\n",
    "\n",
    "#R=30,sig.lvl=0.05,min.size = 400\n",
    "with open(\"./R/res/OccupancyECP.json\") as f:\n",
    "    res = json.load(f)[1:-1]\n",
    "\n",
    "ECP_CPS =res\n",
    "print(\"f1 & AUC\",f_measure({'0':GroundTruth},ECP_CPS,30))\n",
    "print(\"Covering\",covering({'0':GroundTruth},ECP_CPS,Occupancy.shape[0]))\n",
    "\n",
    "\n",
    "#BOCPD with datanormalization\n",
    "with open(\"./R/res/OccupancyBOCPD.json\") as f:\n",
    "    res = json.load(f)[0][1:]\n",
    "\n",
    "BOCPD_CPS =  res\n",
    "print(\"F1 & AUC\",f_measure({'0':GroundTruth},BOCPD_CPS,30))\n",
    "print(\"Covering\",covering({'0':GroundTruth},BOCPD_CPS,Occupancy.shape[0]))"
   ]
  }
 ],
 "metadata": {
  "kernelspec": {
   "display_name": "torch",
   "language": "python",
   "name": "python3"
  },
  "language_info": {
   "codemirror_mode": {
    "name": "ipython",
    "version": 3
   },
   "file_extension": ".py",
   "mimetype": "text/x-python",
   "name": "python",
   "nbconvert_exporter": "python",
   "pygments_lexer": "ipython3",
   "version": "3.12.7"
  }
 },
 "nbformat": 4,
 "nbformat_minor": 2
}
