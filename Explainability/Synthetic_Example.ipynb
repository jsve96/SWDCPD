{
 "cells": [
  {
   "cell_type": "code",
   "execution_count": 1,
   "metadata": {},
   "outputs": [],
   "source": [
    "import numpy as np\n",
    "import pandas as pd\n",
    "from utils import *\n",
    "import matplotlib.pyplot as plt"
   ]
  },
  {
   "cell_type": "code",
   "execution_count": 2,
   "metadata": {},
   "outputs": [],
   "source": [
    "def generateData(d,N,seed,ndrift):\n",
    "    np.random.seed(seed)\n",
    "    #### generate random mean\n",
    "    mu1 = np.random.randn(d)\n",
    "    #sample random indicies\n",
    "    ind = list(np.random.choice(np.arange(0,d),ndrift,replace=False))\n",
    "    severity = np.random.normal(2,1,ndrift)\n",
    "    print(severity)\n",
    "    mu2 = mu1.copy()\n",
    "    mu2[ind] = mu2[ind] + severity\n",
    "\n",
    "    Sigma = np.eye(d)\n",
    "    Sigma_y = Sigma.copy()\n",
    "    Sigma_y[0,0] = 1\n",
    "    X = np.random.multivariate_normal(mu1,Sigma,size=N)\n",
    "    Y = np.random.multivariate_normal(mu2,Sigma_y,size=N)\n",
    "    return ind,severity, X,Y"
   ]
  },
  {
   "cell_type": "code",
   "execution_count": 144,
   "metadata": {},
   "outputs": [],
   "source": [
    "# #drifted_ind, severity, X,Y = generateData(50,1000,0,10)\n",
    "# beta_overall = []\n",
    "# SWDs_overall = []\n",
    "# fig,ax = plt.subplots(2,1,figsize=(12,8))\n",
    "# for _ in range(10):\n",
    "#     drifted_ind, severity, X,Y = generateData(20,1000,_,10)\n",
    "#     removed, betas,SWDs,_ = remove_important_features_syn(X,Y,15,N_Theta=1000)\n",
    "#     beta_overall.append(betas)\n",
    "#     SWDs_overall.append(SWDs)\n",
    "#     ax[0].plot(range(len(betas)),betas,marker='.',color='grey',alpha=0.4)\n",
    "#     ax[1].plot(range(len(SWDs)),SWDs,marker='.',color='grey',alpha=0.4)\n",
    "\n",
    "# ax[0].plot(range(len(betas)),np.array(beta_overall).mean(axis=0),marker='.',color='red')\n",
    "\n",
    "# ax[1].plot(range(len(SWDs)),np.array(SWDs_overall).mean(axis=0),marker='.',color='red')"
   ]
  },
  {
   "cell_type": "code",
   "execution_count": 3,
   "metadata": {},
   "outputs": [
    {
     "name": "stdout",
     "output_type": "stream",
     "text": [
      "[ 2.07042975  0.9495182   0.62380174  1.06918083  1.58137499 -0.05153057\n",
      "  2.95241103  2.8860449   0.96727365  3.33933427]\n"
     ]
    }
   ],
   "source": [
    "###  generate_train_data\n",
    "N=10000\n",
    "drifted_ind, severity, X1,X2 = generateData(d=20,N=N,seed=404,ndrift=10)\n",
    "\n",
    "X1_train_val = X1.copy()\n",
    "X1_train_val_label = np.ones(len(X1_train_val))\n",
    "\n",
    "X2_train_val = X2.copy()\n",
    "X2_train_val_label = np.zeros(len(X2_train_val))"
   ]
  },
  {
   "cell_type": "code",
   "execution_count": 116,
   "metadata": {},
   "outputs": [
    {
     "name": "stdout",
     "output_type": "stream",
     "text": [
      "[1.96747666 1.42143353 1.56826515]\n"
     ]
    }
   ],
   "source": [
    "import torch\n",
    "from torch.utils.data import Dataset, DataLoader\n",
    "import numpy as np\n",
    "\n",
    "def generateData(d, N, seed, ndrift):\n",
    "    np.random.seed(seed)\n",
    "    mu1 = np.random.randn(d)\n",
    "    ind = list(np.random.choice(np.arange(0, d), ndrift, replace=False))\n",
    "    severity = np.random.normal(2, 1, ndrift)\n",
    "    print(severity)\n",
    "    mu2 = mu1.copy()\n",
    "    mu2[ind] = mu2[ind] + severity\n",
    "\n",
    "    Sigma = np.eye(d)\n",
    "    Sigma_y = Sigma.copy()\n",
    "    #Sigma_y[0, 0] = 1\n",
    "    X = np.random.multivariate_normal(mu1, Sigma, size=N)\n",
    "    Y = np.random.multivariate_normal(mu2, Sigma_y, size=N)\n",
    "    return ind, severity, X, Y\n",
    "\n",
    "class SyntheticDataset(Dataset):\n",
    "    def __init__(self, d, N, seed, ndrift):\n",
    "        # Generate data\n",
    "        self.ind, self.severity, self.X, self.Y = generateData(d, N, seed, ndrift)\n",
    "        # Convert data to torch tensors\n",
    "        self.X = torch.tensor(self.X, dtype=torch.float32)\n",
    "        self.Y = torch.tensor(self.Y, dtype=torch.float32)\n",
    "        \n",
    "        # Labels: 0 for X samples, 1 for Y samples\n",
    "        self.labels_X = torch.zeros(len(self.X), dtype=torch.long)\n",
    "        self.labels_Y = torch.ones(len(self.Y), dtype=torch.long)\n",
    "        \n",
    "        # Combine X and Y with their respective labels\n",
    "        self.data = torch.cat((self.X, self.Y), dim=0)\n",
    "        self.labels = torch.cat((self.labels_X, self.labels_Y), dim=0)\n",
    "\n",
    "    def __len__(self):\n",
    "        # Total number of samples (sum of X and Y samples)\n",
    "        return len(self.data)\n",
    "\n",
    "    def __getitem__(self, idx):\n",
    "        # Return a sample and its label as a tuple\n",
    "        return self.data[idx], self.labels[idx]\n",
    "\n",
    "# Example usage\n",
    "d = 10    # Number of dimensions\n",
    "N = 5000       # Number of samples per class\n",
    "seed = 44     # Random seed\n",
    "ndrift = 3    # Number of drift dimensions\n",
    "\n",
    "# Initialize dataset\n",
    "dataset = SyntheticDataset(d, N, seed, ndrift)\n",
    "\n",
    "train_size = int(0.8 * len(dataset))\n",
    "val_size = len(dataset) - train_size - int(0.1 * len(dataset))\n",
    "test_size = int(0.1*len(dataset))\n",
    "\n",
    "train_dataset, val_dataset, test_dataset = torch.utils.data.random_split(dataset=dataset, lengths=[train_size, val_size,test_size])\n",
    "\n",
    "len(train_dataset), len(val_dataset), len(test_dataset)\n",
    "\n",
    "\n",
    "BATCH_SIZE = 16\n",
    "\n",
    "train_dataloader = DataLoader(dataset=train_dataset, batch_size=BATCH_SIZE, shuffle=True)\n",
    "val_dataloader = DataLoader(dataset=val_dataset, batch_size=BATCH_SIZE, shuffle=True)\n",
    "test_dataloader = DataLoader(dataset=test_dataset, batch_size=BATCH_SIZE,shuffle=True)\n",
    "\n",
    "# # Create DataLoader\n",
    "# dataloader = DataLoader(dataset, batch_size=16, shuffle=True)\n",
    "\n",
    "# # Iterate over DataLoader\n",
    "# for data_batch, label_batch in dataloader:\n",
    "#     print(\"Data batch:\", data_batch)\n",
    "#     print(\"Label batch:\", label_batch)\n",
    "#     break  # Just display one batch"
   ]
  },
  {
   "cell_type": "code",
   "execution_count": 117,
   "metadata": {},
   "outputs": [],
   "source": [
    "from torch import nn\n",
    "import torch.optim as optim\n",
    "\n",
    "\n",
    "class ClassificationNet(nn.Module):\n",
    "    def __init__(self, input_dim):\n",
    "        super(ClassificationNet, self).__init__()\n",
    "        # self.fc1 = nn.Linear(input_dim, 64)    # First fully connected layer\n",
    "        # self.fc2 = nn.Linear(64, 32)           # Second fully connected layer\n",
    "        # self.fc3 = nn.Linear(32, 1)            # Output layer for binary classification\n",
    "        self.fc1 = nn.Linear(input_dim, 128)  # Increased to 128 units\n",
    "        self.fc2 = nn.Linear(128, 64)         # Increased to 64 units\n",
    "        self.fc3 = nn.Linear(64, 32)          # Additional hidden layer\n",
    "        self.fc4 = nn.Linear(32, 1)  \n",
    "        self.sigmoid = nn.Sigmoid()            # Sigmoid for binary output\n",
    "\n",
    "    def forward(self, x):\n",
    "        x = torch.relu(self.fc1(x))\n",
    "        x = torch.relu(self.fc2(x))\n",
    "        x = torch.relu(self.fc3(x))\n",
    "        x = self.sigmoid(self.fc4(x))          # Sigmoid activation for the output\n",
    "        return x\n",
    "\n",
    "\n",
    "\n",
    "def train_model(model, dataloader, criterion, optimizer, num_epochs=20):\n",
    "    model.train()  # Set model to training mode\n",
    "    for epoch in range(num_epochs):\n",
    "        running_loss = 0.0\n",
    "        for data_batch, label_batch in dataloader:\n",
    "            # Move inputs and labels to device if GPU is used\n",
    "            label_batch = label_batch.float().unsqueeze(1)  # Reshape for BCELoss\n",
    "\n",
    "            # Zero the parameter gradients\n",
    "            optimizer.zero_grad()\n",
    "\n",
    "            # Forward pass\n",
    "            outputs = model(data_batch)\n",
    "            loss = criterion(outputs, label_batch)\n",
    "\n",
    "            # Backward pass and optimization\n",
    "            loss.backward()\n",
    "            optimizer.step()\n",
    "\n",
    "            # Accumulate the loss for display\n",
    "            running_loss += loss.item()\n",
    "\n",
    "        # Print the average loss for this epoch\n",
    "        print(f\"Epoch [{epoch+1}/{num_epochs}], Loss: {running_loss/len(dataloader):.4f}\")"
   ]
  },
  {
   "cell_type": "code",
   "execution_count": 118,
   "metadata": {},
   "outputs": [
    {
     "name": "stderr",
     "output_type": "stream",
     "text": [
      " 10%|█         | 1/10 [00:01<00:11,  1.23s/it]"
     ]
    },
    {
     "name": "stdout",
     "output_type": "stream",
     "text": [
      "Epoch: 0| Train loss:  0.52257| Train acc:  0.74150| Val loss:  0.29433| Val acc:  0.90278\n"
     ]
    },
    {
     "name": "stderr",
     "output_type": "stream",
     "text": [
      " 20%|██        | 2/10 [00:02<00:08,  1.09s/it]"
     ]
    },
    {
     "name": "stdout",
     "output_type": "stream",
     "text": [
      "Epoch: 1| Train loss:  0.23573| Train acc:  0.90812| Val loss:  0.21319| Val acc:  0.91567\n"
     ]
    },
    {
     "name": "stderr",
     "output_type": "stream",
     "text": [
      " 30%|███       | 3/10 [00:03<00:07,  1.02s/it]"
     ]
    },
    {
     "name": "stdout",
     "output_type": "stream",
     "text": [
      "Epoch: 2| Train loss:  0.20697| Train acc:  0.91712| Val loss:  0.20491| Val acc:  0.91964\n"
     ]
    },
    {
     "name": "stderr",
     "output_type": "stream",
     "text": [
      " 40%|████      | 4/10 [00:04<00:06,  1.03s/it]"
     ]
    },
    {
     "name": "stdout",
     "output_type": "stream",
     "text": [
      "Epoch: 3| Train loss:  0.19680| Train acc:  0.91913| Val loss:  0.19621| Val acc:  0.92460\n"
     ]
    },
    {
     "name": "stderr",
     "output_type": "stream",
     "text": [
      " 50%|█████     | 5/10 [00:05<00:04,  1.00it/s]"
     ]
    },
    {
     "name": "stdout",
     "output_type": "stream",
     "text": [
      "Epoch: 4| Train loss:  0.19266| Train acc:  0.92313| Val loss:  0.19987| Val acc:  0.91667\n"
     ]
    },
    {
     "name": "stderr",
     "output_type": "stream",
     "text": [
      " 60%|██████    | 6/10 [00:06<00:04,  1.01s/it]"
     ]
    },
    {
     "name": "stdout",
     "output_type": "stream",
     "text": [
      "Epoch: 5| Train loss:  0.18926| Train acc:  0.92375| Val loss:  0.19335| Val acc:  0.92262\n"
     ]
    },
    {
     "name": "stderr",
     "output_type": "stream",
     "text": [
      " 70%|███████   | 7/10 [00:07<00:02,  1.00it/s]"
     ]
    },
    {
     "name": "stdout",
     "output_type": "stream",
     "text": [
      "Epoch: 6| Train loss:  0.18903| Train acc:  0.92263| Val loss:  0.19398| Val acc:  0.93056\n"
     ]
    },
    {
     "name": "stderr",
     "output_type": "stream",
     "text": [
      " 80%|████████  | 8/10 [00:08<00:01,  1.01it/s]"
     ]
    },
    {
     "name": "stdout",
     "output_type": "stream",
     "text": [
      "Epoch: 7| Train loss:  0.18707| Train acc:  0.92450| Val loss:  0.19192| Val acc:  0.92857\n"
     ]
    },
    {
     "name": "stderr",
     "output_type": "stream",
     "text": [
      " 90%|█████████ | 9/10 [00:09<00:00,  1.01it/s]"
     ]
    },
    {
     "name": "stdout",
     "output_type": "stream",
     "text": [
      "Epoch: 8| Train loss:  0.18751| Train acc:  0.92338| Val loss:  0.18686| Val acc:  0.93056\n"
     ]
    },
    {
     "name": "stderr",
     "output_type": "stream",
     "text": [
      "100%|██████████| 10/10 [00:10<00:00,  1.01s/it]"
     ]
    },
    {
     "name": "stdout",
     "output_type": "stream",
     "text": [
      "Epoch: 9| Train loss:  0.18561| Train acc:  0.92600| Val loss:  0.19071| Val acc:  0.93452\n"
     ]
    },
    {
     "name": "stderr",
     "output_type": "stream",
     "text": [
      "\n"
     ]
    }
   ],
   "source": [
    "from torchmetrics.classification import BinaryAccuracy\n",
    "\n",
    "input_dim = d   # Number of features from the dataset\n",
    "model_NN1 = ClassificationNet(input_dim)\n",
    "\n",
    "loss_fn = nn.BCELoss()\n",
    "accuracy = BinaryAccuracy()\n",
    "optimizer = optim.SGD(model_NN1.parameters(), lr=0.001,momentum=0.9)\n",
    "\n",
    "\n",
    "from tqdm import tqdm\n",
    "from torch.utils.tensorboard import SummaryWriter\n",
    "\n",
    "from datetime import datetime\n",
    "import os\n",
    "\n",
    "# Experiment tracking\n",
    "timestamp = datetime.now().strftime(\"%Y-%m-%d\")\n",
    "experiment_name = \"Synthetic\"\n",
    "model_name = \"NN1\"\n",
    "log_dir = os.path.join(\"runs\", timestamp, experiment_name, model_name)\n",
    "writer = SummaryWriter(log_dir)\n",
    "\n",
    "# device-agnostic setup\n",
    "device = 'cuda' if torch.cuda.is_available() else 'cpu'\n",
    "accuracy = accuracy.to(device)\n",
    "model_NN1 = model_NN1.to(device)\n",
    "\n",
    "EPOCHS = 10\n",
    "\n",
    "\n",
    "for epoch in tqdm(range(EPOCHS)):\n",
    "    # Training loop\n",
    "    train_loss, train_acc = 0.0, 0.0\n",
    "    for X, y in train_dataloader:\n",
    "        X, y = X.to(device), y.float().to(device)\n",
    "        \n",
    "        model_NN1.train()\n",
    "        \n",
    "        y_pred = model_NN1(X)\n",
    "        loss = loss_fn(y_pred, y.unsqueeze(1))\n",
    "        train_loss += loss.item()\n",
    "        \n",
    "        acc = accuracy(y_pred, y.unsqueeze(1))\n",
    "        train_acc += acc\n",
    "        \n",
    "        optimizer.zero_grad()\n",
    "        loss.backward()\n",
    "        optimizer.step()\n",
    "        \n",
    "    train_loss /= len(train_dataloader)\n",
    "    train_acc /= len(train_dataloader)\n",
    "        \n",
    "    # Validation loop\n",
    "    val_loss, val_acc = 0.0, 0.0\n",
    "    model_NN1.eval()\n",
    "    with torch.inference_mode():\n",
    "        for X, y in val_dataloader:\n",
    "            X, y = X.to(device), y.float().to(device)\n",
    "        \n",
    "            y_pred = model_NN1(X)\n",
    "            \n",
    "            loss = loss_fn(y_pred, y.unsqueeze(1))\n",
    "            val_loss += loss.item()\n",
    "            \n",
    "            acc = accuracy(y_pred, y.unsqueeze(1))\n",
    "            val_acc += acc\n",
    "            \n",
    "        val_loss /= len(val_dataloader)\n",
    "        val_acc /= len(val_dataloader)\n",
    "        \n",
    "    writer.add_scalars(main_tag=\"Loss\", tag_scalar_dict={\"train/loss\": train_loss, \"val/loss\": val_loss}, global_step=epoch)\n",
    "    writer.add_scalars(main_tag=\"Accuracy\", tag_scalar_dict={\"train/acc\": train_acc, \"val/acc\": val_acc}, global_step=epoch)\n",
    "    \n",
    "    print(f\"Epoch: {epoch}| Train loss: {train_loss: .5f}| Train acc: {train_acc: .5f}| Val loss: {val_loss: .5f}| Val acc: {val_acc: .5f}\")"
   ]
  },
  {
   "cell_type": "code",
   "execution_count": 119,
   "metadata": {},
   "outputs": [
    {
     "name": "stdout",
     "output_type": "stream",
     "text": [
      "fc1.weight torch.Size([128, 10])\n",
      "fc1.bias torch.Size([128])\n",
      "fc2.weight torch.Size([64, 128])\n",
      "fc2.bias torch.Size([64])\n",
      "fc3.weight torch.Size([32, 64])\n",
      "fc3.bias torch.Size([32])\n",
      "fc4.weight torch.Size([1, 32])\n",
      "fc4.bias torch.Size([1])\n"
     ]
    }
   ],
   "source": [
    "for name, param in model_NN1.named_parameters():\n",
    "    if param.requires_grad:\n",
    "        print(name, param.data.shape)"
   ]
  },
  {
   "cell_type": "code",
   "execution_count": 120,
   "metadata": {},
   "outputs": [
    {
     "name": "stdout",
     "output_type": "stream",
     "text": [
      "Test loss:  0.20223| Test acc:  0.91766\n"
     ]
    }
   ],
   "source": [
    "device = 'cuda' if torch.cuda.is_available() else 'cpu'\n",
    "\n",
    "loss_fn = nn.BCELoss()\n",
    "accuracy = BinaryAccuracy()\n",
    "\n",
    "test_loss, test_acc = 0, 0\n",
    "\n",
    "#model_lenet5_v1_mnist_loaded.to(device)\n",
    "model_NN1.eval()\n",
    "with torch.inference_mode():\n",
    "    for X, y in test_dataloader:\n",
    "        X, y = X.to(device), y.float().to(device)\n",
    "        y_pred = model_NN1(X)\n",
    "        \n",
    "        test_loss += loss_fn(y_pred, y.unsqueeze(1))\n",
    "        test_acc += accuracy(y_pred, y.unsqueeze(1))\n",
    "        \n",
    "    test_loss /= len(test_dataloader)\n",
    "    test_acc /= len(test_dataloader)\n",
    "\n",
    "print(f\"Test loss: {test_loss: .5f}| Test acc: {test_acc: .5f}\")"
   ]
  },
  {
   "cell_type": "code",
   "execution_count": 51,
   "metadata": {},
   "outputs": [
    {
     "data": {
      "text/plain": [
       "ClassificationNet(\n",
       "  (fc1): Linear(in_features=10, out_features=64, bias=True)\n",
       "  (fc2): Linear(in_features=64, out_features=32, bias=True)\n",
       "  (fc3): Linear(in_features=32, out_features=1, bias=True)\n",
       "  (sigmoid): Sigmoid()\n",
       ")"
      ]
     },
     "execution_count": 51,
     "metadata": {},
     "output_type": "execute_result"
    }
   ],
   "source": [
    "model_NN1"
   ]
  },
  {
   "cell_type": "code",
   "execution_count": 132,
   "metadata": {},
   "outputs": [
    {
     "name": "stderr",
     "output_type": "stream",
     "text": [
      "c:\\ProgramData\\anaconda3\\envs\\torch\\Lib\\site-packages\\captum\\attr\\_core\\deep_lift.py:304: UserWarning: Setting forward, backward hooks and attributes on non-linear\n",
      "               activations. The hooks and attributes will be removed\n",
      "            after the attribution is finished\n",
      "  warnings.warn(\n"
     ]
    }
   ],
   "source": [
    "from captum.attr import IntegratedGradients, GradientShap, KernelShap, DeepLift\n",
    "\n",
    "ig = IntegratedGradients(model_NN1)\n",
    "gs = GradientShap(model_NN1)\n",
    "ks = KernelShap(model_NN1)\n",
    "dl = DeepLift(model_NN1)\n",
    "#sample ,label = test_dataset[10]\n",
    "\n",
    "#tensor_1 = torch.mean(torch.stack(data_c1),axis=0)\n",
    "#tensor_2 = torch.mean(torch.stack(data_c2),axis=0)\n",
    "\n",
    "all_attributions_ig = []\n",
    "all_labels = []\n",
    "all_attributions_gs = []\n",
    "all_attributions_ks = []\n",
    "all_attributions_dl = []\n",
    "\n",
    "for batch_samples, batch_labels in test_dataloader:\n",
    "    # Ensure samples have the correct shape\n",
    "    batch_samples = batch_samples.requires_grad_()  # Enable gradients for attribution\n",
    "    baseline_dist = torch.zeros((batch_samples.shape[0],input_dim))\n",
    "    #baseline_dist = torch.abs(torch.tensor(Contributions[0],dtype=torch.float32).repeat(batch_samples.shape[0],1))\n",
    "\n",
    "    # Calculate the attributions for each sample in the batch\n",
    "    # We use target=0 as we are working with a binary classification output\n",
    "    attributions, deltas = ig.attribute(batch_samples, target=0, return_convergence_delta=True)\n",
    "\n",
    "    \n",
    "    # Append attributions and labels for further analysis\n",
    "    all_attributions_ig.append(attributions)\n",
    "    all_labels.append(batch_labels)\n",
    "    #batch_samples = batch_samples.requires_grad_()\n",
    "    attributions_gs, deltas = gs.attribute(batch_samples, target=0,  baselines=baseline_dist,return_convergence_delta=True)\n",
    "    all_attributions_gs.append(attributions_gs)\n",
    "    \n",
    "    #batch_samples = batch_samples.requires_grad_()\n",
    "    attributions_dl = dl.attribute(batch_samples, target=0)\n",
    "    all_attributions_dl.append(attributions_dl)\n",
    "\n",
    "\n",
    "# Concatenate all attributions and labels\n",
    "all_attributions_ig = torch.cat(all_attributions_ig, dim=0)  # Shape: [num_samples, num_features]\n",
    "all_labels = torch.cat(all_labels, dim=0)\n",
    "\n",
    "all_attributions_gs = torch.cat(all_attributions_gs, dim=0)\n",
    "all_attributions_dl = torch.cat(all_attributions_dl, dim=0)\n",
    "\n"
   ]
  },
  {
   "cell_type": "code",
   "execution_count": 123,
   "metadata": {},
   "outputs": [
    {
     "name": "stdout",
     "output_type": "stream",
     "text": [
      "[8, 9, 2]\n",
      "SWD: 0.8093727041952168\n",
      "[[ 0.01770071 -0.00598727  0.39146087  0.00250438 -0.04456042  0.05257728\n",
      "   0.03543146 -0.00650224  0.43839207  0.33618169]\n",
      " [-0.00332929  0.013214   -0.40456459  0.00238068  0.03486865 -0.02904393\n",
      "  -0.01357947 -0.01851592 -0.44214566 -0.32290977]]\n",
      "[ 0.01770071 -0.00598727  0.39146087  0.00250438 -0.04456042  0.05257728\n",
      "  0.03543146 -0.00650224  0.43839207  0.33618169]\n"
     ]
    },
    {
     "name": "stderr",
     "output_type": "stream",
     "text": [
      "c:\\ProgramData\\anaconda3\\envs\\torch\\Lib\\site-packages\\sklearn\\cluster\\_kmeans.py:1429: UserWarning: KMeans is known to have a memory leak on Windows with MKL, when there are less chunks than available threads. You can avoid it by setting the environment variable OMP_NUM_THREADS=2.\n",
      "  warnings.warn(\n"
     ]
    },
    {
     "name": "stdout",
     "output_type": "stream",
     "text": [
      "SWD: 0.48025677796618654\n",
      "[[ 0.00789169  0.00286994  0.51519357  0.01586882 -0.02791575  0.00886312\n",
      "   0.04276914  0.01146325 -0.037073    0.43982132]\n",
      " [-0.00484397 -0.0217033  -0.53277149  0.00276074  0.04159193 -0.03195092\n",
      "  -0.02332073  0.00570991  0.02608569 -0.42879963]]\n",
      "[ 0.00789169  0.00286994  0.51519357  0.01586882 -0.02791575  0.00886312\n",
      "  0.04276914  0.01146325 -0.037073    0.43982132]\n"
     ]
    },
    {
     "name": "stderr",
     "output_type": "stream",
     "text": [
      "c:\\ProgramData\\anaconda3\\envs\\torch\\Lib\\site-packages\\sklearn\\cluster\\_kmeans.py:1429: UserWarning: KMeans is known to have a memory leak on Windows with MKL, when there are less chunks than available threads. You can avoid it by setting the environment variable OMP_NUM_THREADS=2.\n",
      "  warnings.warn(\n"
     ]
    },
    {
     "name": "stdout",
     "output_type": "stream",
     "text": [
      "SWD: 0.23237525936994516\n",
      "[[-2.46300606e-02  3.94095321e-02  6.79410557e-03 -1.81594937e-02\n",
      "   4.86498382e-02 -4.08877482e-02 -4.62102596e-02  7.45300457e-03\n",
      "  -1.70728338e-02 -6.74171954e-01]\n",
      " [ 1.32992419e-02 -1.56026910e-02  1.11276793e-02  2.55680357e-02\n",
      "  -3.51157197e-02  5.35933975e-02  3.48862834e-02 -2.37166710e-04\n",
      "  -6.63483443e-03  6.76647061e-01]]\n",
      "[-0.02463006  0.03940953  0.00679411 -0.01815949  0.04864984 -0.04088775\n",
      " -0.04621026  0.007453   -0.01707283 -0.67417195]\n"
     ]
    },
    {
     "name": "stderr",
     "output_type": "stream",
     "text": [
      "c:\\ProgramData\\anaconda3\\envs\\torch\\Lib\\site-packages\\sklearn\\cluster\\_kmeans.py:1429: UserWarning: KMeans is known to have a memory leak on Windows with MKL, when there are less chunks than available threads. You can avoid it by setting the environment variable OMP_NUM_THREADS=2.\n",
      "  warnings.warn(\n"
     ]
    }
   ],
   "source": [
    "from utils import *\n",
    "\n",
    "\n",
    "Syn_samples = []\n",
    "\n",
    "all_labels = []\n",
    "for batch_samples, batch_labels in test_dataloader:\n",
    "    Syn_samples.append(batch_samples)\n",
    "    all_labels.append(batch_labels)\n",
    "\n",
    "\n",
    "Syn_samples = torch.cat(Syn_samples, dim=0)\n",
    "all_labels = torch.cat(all_labels,dim=0)\n",
    "\n",
    "Syn_X = Syn_samples[all_labels==0].numpy()\n",
    "Syn_Y = Syn_samples[all_labels==1].numpy()\n",
    "\n",
    "print(dataset.ind)\n",
    "rf, betas, SWDs , Contributions = remove_important_features_syn(Syn_X,Syn_Y,3,10000,max_parameter=False,q=0.95)\n"
   ]
  },
  {
   "cell_type": "code",
   "execution_count": 11,
   "metadata": {},
   "outputs": [],
   "source": [
    "import pandas as pd\n",
    "\n",
    "contributions_plot = np.abs((Contributions)).mean(axis=0)"
   ]
  },
  {
   "cell_type": "code",
   "execution_count": 133,
   "metadata": {},
   "outputs": [],
   "source": [
    "bars = tuple([str(i) for i in range(d)])\n",
    "ig_plot = torch.abs(all_attributions_ig[all_labels ==0 ].mean(axis=0)-all_attributions_ig[all_labels ==1 ].mean(axis=0)).detach().numpy()\n",
    "gs_plot = torch.abs(all_attributions_gs[all_labels ==0 ].mean(axis=0)-all_attributions_gs[all_labels ==1 ].mean(axis=0)).detach().numpy()\n",
    "dl_plot = torch.abs(all_attributions_dl[all_labels ==0 ].mean(axis=0)-all_attributions_dl[all_labels ==1 ].mean(axis=0)).detach().numpy()"
   ]
  },
  {
   "cell_type": "code",
   "execution_count": 25,
   "metadata": {},
   "outputs": [
    {
     "data": {
      "text/plain": [
       "[array([-0.43984838, -0.47824501, -0.0036617 ,  0.00329671, -0.18359461,\n",
       "         0.02616959, -0.12166752,  0.00614444, -0.03128047,  0.03987045]),\n",
       " array([-0.4438008 , -0.47501027,  0.05716069, -0.01945878, -0.18853435,\n",
       "         0.01911711, -0.09931729, -0.00606956,  0.00378418, -0.00342632]),\n",
       " array([-0.43528106, -0.48214825, -0.01416876, -0.02842868, -0.18144298,\n",
       "         0.01383956, -0.09038715, -0.0140193 , -0.02087687,  0.00162387])]"
      ]
     },
     "execution_count": 25,
     "metadata": {},
     "output_type": "execute_result"
    }
   ],
   "source": [
    "Contributions"
   ]
  },
  {
   "cell_type": "code",
   "execution_count": 134,
   "metadata": {},
   "outputs": [
    {
     "data": {
      "image/png": "[encoded data removed]",
      "text/plain": [
       "<Figure size 800x400 with 2 Axes>"
      ]
     },
     "metadata": {},
     "output_type": "display_data"
    }
   ],
   "source": [
    "data = {\n",
    "    'Features': list(bars),\n",
    "    'IG': ig_plot,\n",
    "    'GS': gs_plot,\n",
    "    'DL': dl_plot,\n",
    "    'swd_group': np.abs(Contributions[0]) # This will be plotted on the secondary y-axis\n",
    "}\n",
    "df = pd.DataFrame(data)\n",
    "\n",
    "df.set_index('Features', inplace=True)\n",
    "\n",
    "# Plot settings\n",
    "bar_width = 0.2  # Width of each bar\n",
    "x = np.arange(len(df))  # X positions for the features\n",
    "plt.rcParams['hatch.linewidth'] = 1  # Default is 1.0\n",
    "#hatch_patterns = ['..', '..', '..']  # Hatches for the first 3 groups\n",
    "hatch_patterns = ['', '', '']\n",
    "fig, ax = plt.subplots(figsize=(8, 4))\n",
    "\n",
    "# Plot the first three groups with hatches on the primary y-axis\n",
    "colors = [plt.colormaps.get_cmap('tab20c')(18),plt.colormaps.get_cmap('tab20c')(17),plt.colormaps.get_cmap('tab20c')(16)]\n",
    "for i, (group, hatch) in enumerate(zip(df.columns[:-1], hatch_patterns)):  # Exclude 'Group 4'\n",
    "    ax.bar(x + i * bar_width, df[group], bar_width, label=group, hatch=hatch,color=colors[i],edgecolor='black',lw=2,alpha=1)\n",
    "\n",
    "# Create a secondary y-axis for 'Group 4'\n",
    "ax2 = ax.twinx()\n",
    "ax2.bar(x + 3 * bar_width, df['swd_group'], bar_width, label='SWD', color='blue',edgecolor='black',lw=2,alpha=0.9)\n",
    "\n",
    "# Customizations for primary y-axis\n",
    "#ax.set_ylabel('Values (Groups 1-3)')\n",
    "ax.set_xticks(x + bar_width * 1.5)  # Align x-axis labels to the center of the groups\n",
    "ax.set_xticklabels(df.index)\n",
    "ax.legend(loc='upper left')\n",
    "\n",
    "for i in dataset.ind:\n",
    "    ax.xaxis.get_ticklabels()[i].set_bbox(dict(facecolor='none',edgecolor='red'))\n",
    "\n",
    "ax.set_xlabel('Features')\n",
    "# Customizations for secondary y-axis\n",
    "#ax2.set_ylabel(color='lightcoral')\n",
    "ax2.legend(loc='upper right', frameon=True)\n",
    "\n",
    "# Aligning grid and layout\n",
    "plt.title('Explanation scores')\n",
    "fig.tight_layout()\n",
    "\n",
    "plt.show()"
   ]
  },
  {
   "cell_type": "code",
   "execution_count": 135,
   "metadata": {},
   "outputs": [],
   "source": [
    "fig.savefig('Syn_Experiment1.pdf')"
   ]
  },
  {
   "cell_type": "code",
   "execution_count": 142,
   "metadata": {},
   "outputs": [
    {
     "data": {
      "text/plain": [
       "0.9999435782949371"
      ]
     },
     "execution_count": 142,
     "metadata": {},
     "output_type": "execute_result"
    }
   ],
   "source": [
    "cos_sim = lambda a,b : np.dot(a, b)/(np.linalg.norm(a)*np.linalg.norm(b))\n",
    "\n",
    "cos_sim(gs_plot,ig_plot)"
   ]
  },
  {
   "cell_type": "code",
   "execution_count": 143,
   "metadata": {},
   "outputs": [
    {
     "name": "stdout",
     "output_type": "stream",
     "text": [
      "[8, 9, 2] [1.96747666 1.42143353 1.56826515]\n"
     ]
    }
   ],
   "source": [
    "print(dataset.ind, dataset.severity)"
   ]
  }
 ],
 "metadata": {
  "kernelspec": {
   "display_name": "torch",
   "language": "python",
   "name": "python3"
  },
  "language_info": {
   "codemirror_mode": {
    "name": "ipython",
    "version": 3
   },
   "file_extension": ".py",
   "mimetype": "text/x-python",
   "name": "python",
   "nbconvert_exporter": "python",
   "pygments_lexer": "ipython3",
   "version": "undefined.undefined.undefined"
  }
 },
 "nbformat": 4,
 "nbformat_minor": 2
}
