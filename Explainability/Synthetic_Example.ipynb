{
 "cells": [
  {
   "cell_type": "code",
   "execution_count": 1,
   "metadata": {},
   "outputs": [],
   "source": [
    "import numpy as np\n",
    "import pandas as pd\n",
    "from utils import *\n",
    "import matplotlib.pyplot as plt"
   ]
  },
  {
   "cell_type": "code",
   "execution_count": 2,
   "metadata": {},
   "outputs": [],
   "source": [
    "def generateData(d,N,seed,ndrift):\n",
    "    np.random.seed(seed)\n",
    "    #### generate random mean\n",
    "    mu1 = np.random.randn(d)\n",
    "    #sample random indicies\n",
    "    ind = list(np.random.choice(np.arange(0,d),ndrift,replace=False))\n",
    "    severity = np.random.normal(2,1,ndrift)\n",
    "    print(severity)\n",
    "    mu2 = mu1.copy()\n",
    "    mu2[ind] = mu2[ind] + severity\n",
    "\n",
    "    Sigma = np.eye(d)\n",
    "    Sigma_y = Sigma.copy()\n",
    "    Sigma_y[0,0] = 1\n",
    "    X = np.random.multivariate_normal(mu1,Sigma,size=N)\n",
    "    Y = np.random.multivariate_normal(mu2,Sigma_y,size=N)\n",
    "    return ind,severity, X,Y"
   ]
  },
  {
   "cell_type": "code",
   "execution_count": 144,
   "metadata": {},
   "outputs": [],
   "source": [
    "# #drifted_ind, severity, X,Y = generateData(50,1000,0,10)\n",
    "# beta_overall = []\n",
    "# SWDs_overall = []\n",
    "# fig,ax = plt.subplots(2,1,figsize=(12,8))\n",
    "# for _ in range(10):\n",
    "#     drifted_ind, severity, X,Y = generateData(20,1000,_,10)\n",
    "#     removed, betas,SWDs,_ = remove_important_features_syn(X,Y,15,N_Theta=1000)\n",
    "#     beta_overall.append(betas)\n",
    "#     SWDs_overall.append(SWDs)\n",
    "#     ax[0].plot(range(len(betas)),betas,marker='.',color='grey',alpha=0.4)\n",
    "#     ax[1].plot(range(len(SWDs)),SWDs,marker='.',color='grey',alpha=0.4)\n",
    "\n",
    "# ax[0].plot(range(len(betas)),np.array(beta_overall).mean(axis=0),marker='.',color='red')\n",
    "\n",
    "# ax[1].plot(range(len(SWDs)),np.array(SWDs_overall).mean(axis=0),marker='.',color='red')"
   ]
  },
  {
   "cell_type": "code",
   "execution_count": null,
   "metadata": {},
   "outputs": [
    {
     "name": "stdout",
     "output_type": "stream",
     "text": [
      "[ 2.07042975  0.9495182   0.62380174  1.06918083  1.58137499 -0.05153057\n",
      "  2.95241103  2.8860449   0.96727365  3.33933427]\n"
     ]
    }
   ],
   "source": [
    "###  generate_train_data\n",
    "N=10000\n",
    "drifted_ind, severity, X1,X2 = generateData(d=20,N=N,seed=404,ndrift=10)\n",
    "\n",
    "X1_train_val = X1.copy()\n",
    "X1_train_val_label = np.ones(len(X1_train_val))\n",
    "\n",
    "X2_train_val = X2.copy()\n",
    "X2_train_val_label = np.zeros(len(X2_train_val))"
   ]
  },
  {
   "cell_type": "code",
   "execution_count": 2,
   "metadata": {},
   "outputs": [
    {
     "name": "stdout",
     "output_type": "stream",
     "text": [
      "[1.96747666 1.42143353 1.56826515]\n"
     ]
    }
   ],
   "source": [
    "import torch\n",
    "from torch.utils.data import Dataset, DataLoader\n",
    "import numpy as np\n",
    "\n",
    "def generateData(d, N, seed, ndrift):\n",
    "    np.random.seed(seed)\n",
    "    mu1 = np.random.randn(d)\n",
    "    ind = list(np.random.choice(np.arange(0, d), ndrift, replace=False))\n",
    "    severity = np.random.normal(2, 1, ndrift)\n",
    "    print(severity)\n",
    "    mu2 = mu1.copy()\n",
    "    mu2[ind] = mu2[ind] + severity\n",
    "\n",
    "    Sigma = np.eye(d)\n",
    "    Sigma_y = Sigma.copy()\n",
    "    #Sigma_y[0, 0] = 1\n",
    "    X = np.random.multivariate_normal(mu1, Sigma, size=N)\n",
    "    Y = np.random.multivariate_normal(mu2, Sigma_y, size=N)\n",
    "    return ind, severity, X, Y\n",
    "\n",
    "class SyntheticDataset(Dataset):\n",
    "    def __init__(self, d, N, seed, ndrift):\n",
    "        # Generate data\n",
    "        self.ind, self.severity, self.X, self.Y = generateData(d, N, seed, ndrift)\n",
    "        # Convert data to torch tensors\n",
    "        self.X = torch.tensor(self.X, dtype=torch.float32)\n",
    "        self.Y = torch.tensor(self.Y, dtype=torch.float32)\n",
    "        \n",
    "        # Labels: 0 for X samples, 1 for Y samples\n",
    "        self.labels_X = torch.zeros(len(self.X), dtype=torch.long)\n",
    "        self.labels_Y = torch.ones(len(self.Y), dtype=torch.long)\n",
    "        \n",
    "        # Combine X and Y with their respective labels\n",
    "        self.data = torch.cat((self.X, self.Y), dim=0)\n",
    "        self.labels = torch.cat((self.labels_X, self.labels_Y), dim=0)\n",
    "\n",
    "    def __len__(self):\n",
    "        # Total number of samples (sum of X and Y samples)\n",
    "        return len(self.data)\n",
    "\n",
    "    def __getitem__(self, idx):\n",
    "        # Return a sample and its label as a tuple\n",
    "        return self.data[idx], self.labels[idx]\n",
    "\n",
    "# Example usage\n",
    "d = 10   # Number of dimensions\n",
    "N = 5000       # Number of samples per class\n",
    "seed = 44     # Random seed\n",
    "ndrift = 3    # Number of drift dimensions\n",
    "\n",
    "# Initialize dataset\n",
    "dataset = SyntheticDataset(d, N, seed, ndrift)\n",
    "\n",
    "train_size = int(0.8 * len(dataset))\n",
    "val_size = len(dataset) - train_size - int(0.1 * len(dataset))\n",
    "test_size = int(0.1*len(dataset))\n",
    "\n",
    "train_dataset, val_dataset, test_dataset = torch.utils.data.random_split(dataset=dataset, lengths=[train_size, val_size,test_size])\n",
    "\n",
    "len(train_dataset), len(val_dataset), len(test_dataset)\n",
    "\n",
    "\n",
    "BATCH_SIZE = 16\n",
    "\n",
    "train_dataloader = DataLoader(dataset=train_dataset, batch_size=BATCH_SIZE, shuffle=True)\n",
    "val_dataloader = DataLoader(dataset=val_dataset, batch_size=BATCH_SIZE, shuffle=True)\n",
    "test_dataloader = DataLoader(dataset=test_dataset, batch_size=BATCH_SIZE,shuffle=True)\n",
    "\n",
    "# # Create DataLoader\n",
    "# dataloader = DataLoader(dataset, batch_size=16, shuffle=True)\n",
    "\n",
    "# # Iterate over DataLoader\n",
    "# for data_batch, label_batch in dataloader:\n",
    "#     print(\"Data batch:\", data_batch)\n",
    "#     print(\"Label batch:\", label_batch)\n",
    "#     break  # Just display one batch"
   ]
  },
  {
   "cell_type": "code",
   "execution_count": 3,
   "metadata": {},
   "outputs": [],
   "source": [
    "from torch import nn\n",
    "import torch.optim as optim\n",
    "\n",
    "\n",
    "class ClassificationNet(nn.Module):\n",
    "    def __init__(self, input_dim):\n",
    "        super(ClassificationNet, self).__init__()\n",
    "        # self.fc1 = nn.Linear(input_dim, 64)    # First fully connected layer\n",
    "        # self.fc2 = nn.Linear(64, 32)           # Second fully connected layer\n",
    "        # self.fc3 = nn.Linear(32, 1)            # Output layer for binary classification\n",
    "        self.fc1 = nn.Linear(input_dim, 128)  # Increased to 128 units\n",
    "        self.fc2 = nn.Linear(128, 64)         # Increased to 64 units\n",
    "        self.fc3 = nn.Linear(64, 32)          # Additional hidden layer\n",
    "        self.fc4 = nn.Linear(32, 1)  \n",
    "        self.sigmoid = nn.Sigmoid()            # Sigmoid for binary output\n",
    "\n",
    "    def forward(self, x):\n",
    "        x = torch.relu(self.fc1(x))\n",
    "        x = torch.relu(self.fc2(x))\n",
    "        x = torch.relu(self.fc3(x))\n",
    "        x = self.sigmoid(self.fc4(x))          # Sigmoid activation for the output\n",
    "        return x\n",
    "\n",
    "\n",
    "\n",
    "def train_model(model, dataloader, criterion, optimizer, num_epochs=20):\n",
    "    model.train()  # Set model to training mode\n",
    "    for epoch in range(num_epochs):\n",
    "        running_loss = 0.0\n",
    "        for data_batch, label_batch in dataloader:\n",
    "            # Move inputs and labels to device if GPU is used\n",
    "            label_batch = label_batch.float().unsqueeze(1)  # Reshape for BCELoss\n",
    "\n",
    "            # Zero the parameter gradients\n",
    "            optimizer.zero_grad()\n",
    "\n",
    "            # Forward pass\n",
    "            outputs = model(data_batch)\n",
    "            loss = criterion(outputs, label_batch)\n",
    "\n",
    "            # Backward pass and optimization\n",
    "            loss.backward()\n",
    "            optimizer.step()\n",
    "\n",
    "            # Accumulate the loss for display\n",
    "            running_loss += loss.item()\n",
    "\n",
    "        # Print the average loss for this epoch\n",
    "        print(f\"Epoch [{epoch+1}/{num_epochs}], Loss: {running_loss/len(dataloader):.4f}\")"
   ]
  },
  {
   "cell_type": "code",
   "execution_count": 4,
   "metadata": {},
   "outputs": [
    {
     "name": "stderr",
     "output_type": "stream",
     "text": [
      " 10%|█         | 1/10 [00:01<00:13,  1.52s/it]"
     ]
    },
    {
     "name": "stdout",
     "output_type": "stream",
     "text": [
      "Epoch: 0| Train loss:  0.25372| Train acc:  0.89988| Val loss:  0.20791| Val acc:  0.92460\n"
     ]
    },
    {
     "name": "stderr",
     "output_type": "stream",
     "text": [
      " 20%|██        | 2/10 [00:02<00:10,  1.30s/it]"
     ]
    },
    {
     "name": "stdout",
     "output_type": "stream",
     "text": [
      "Epoch: 1| Train loss:  0.20252| Train acc:  0.91775| Val loss:  0.20030| Val acc:  0.91766\n"
     ]
    },
    {
     "name": "stderr",
     "output_type": "stream",
     "text": [
      " 30%|███       | 3/10 [00:03<00:08,  1.23s/it]"
     ]
    },
    {
     "name": "stdout",
     "output_type": "stream",
     "text": [
      "Epoch: 2| Train loss:  0.20032| Train acc:  0.91825| Val loss:  0.19252| Val acc:  0.92460\n"
     ]
    },
    {
     "name": "stderr",
     "output_type": "stream",
     "text": [
      " 40%|████      | 4/10 [00:04<00:07,  1.20s/it]"
     ]
    },
    {
     "name": "stdout",
     "output_type": "stream",
     "text": [
      "Epoch: 3| Train loss:  0.19450| Train acc:  0.92200| Val loss:  0.18897| Val acc:  0.92262\n"
     ]
    },
    {
     "name": "stderr",
     "output_type": "stream",
     "text": [
      " 50%|█████     | 5/10 [00:06<00:05,  1.18s/it]"
     ]
    },
    {
     "name": "stdout",
     "output_type": "stream",
     "text": [
      "Epoch: 4| Train loss:  0.19079| Train acc:  0.92388| Val loss:  0.18526| Val acc:  0.92262\n"
     ]
    },
    {
     "name": "stderr",
     "output_type": "stream",
     "text": [
      " 60%|██████    | 6/10 [00:09<00:07,  1.83s/it]"
     ]
    },
    {
     "name": "stdout",
     "output_type": "stream",
     "text": [
      "Epoch: 5| Train loss:  0.18914| Train acc:  0.92438| Val loss:  0.18834| Val acc:  0.92659\n"
     ]
    },
    {
     "name": "stderr",
     "output_type": "stream",
     "text": [
      " 70%|███████   | 7/10 [00:13<00:07,  2.52s/it]"
     ]
    },
    {
     "name": "stdout",
     "output_type": "stream",
     "text": [
      "Epoch: 6| Train loss:  0.18454| Train acc:  0.92738| Val loss:  0.18766| Val acc:  0.92262\n"
     ]
    },
    {
     "name": "stderr",
     "output_type": "stream",
     "text": [
      " 80%|████████  | 8/10 [00:17<00:05,  2.96s/it]"
     ]
    },
    {
     "name": "stdout",
     "output_type": "stream",
     "text": [
      "Epoch: 7| Train loss:  0.18330| Train acc:  0.92625| Val loss:  0.21026| Val acc:  0.92758\n"
     ]
    },
    {
     "name": "stderr",
     "output_type": "stream",
     "text": [
      " 90%|█████████ | 9/10 [00:20<00:03,  3.25s/it]"
     ]
    },
    {
     "name": "stdout",
     "output_type": "stream",
     "text": [
      "Epoch: 8| Train loss:  0.18140| Train acc:  0.92963| Val loss:  0.18108| Val acc:  0.93056\n"
     ]
    },
    {
     "name": "stderr",
     "output_type": "stream",
     "text": [
      "100%|██████████| 10/10 [00:24<00:00,  2.50s/it]"
     ]
    },
    {
     "name": "stdout",
     "output_type": "stream",
     "text": [
      "Epoch: 9| Train loss:  0.17936| Train acc:  0.92838| Val loss:  0.18790| Val acc:  0.92460\n"
     ]
    },
    {
     "name": "stderr",
     "output_type": "stream",
     "text": [
      "\n"
     ]
    }
   ],
   "source": [
    "from torchmetrics.classification import BinaryAccuracy\n",
    "\n",
    "input_dim = d   # Number of features from the dataset\n",
    "model_NN1 = ClassificationNet(input_dim)\n",
    "\n",
    "loss_fn = nn.BCELoss()\n",
    "accuracy = BinaryAccuracy()\n",
    "#optimizer = optim.SGD(model_NN1.parameters(), lr=0.001,momentum=0.9)\n",
    "optimizer = optim.Adam(model_NN1.parameters(),lr=0.001)\n",
    "\n",
    "\n",
    "from tqdm import tqdm\n",
    "from torch.utils.tensorboard import SummaryWriter\n",
    "\n",
    "from datetime import datetime\n",
    "import os\n",
    "\n",
    "# Experiment tracking\n",
    "timestamp = datetime.now().strftime(\"%Y-%m-%d\")\n",
    "experiment_name = \"Synthetic\"\n",
    "model_name = \"NN1\"\n",
    "log_dir = os.path.join(\"runs\", timestamp, experiment_name, model_name)\n",
    "writer = SummaryWriter(log_dir)\n",
    "\n",
    "# device-agnostic setup\n",
    "device = 'cuda' if torch.cuda.is_available() else 'cpu'\n",
    "accuracy = accuracy.to(device)\n",
    "model_NN1 = model_NN1.to(device)\n",
    "\n",
    "EPOCHS = 10\n",
    "\n",
    "\n",
    "for epoch in tqdm(range(EPOCHS)):\n",
    "    # Training loop\n",
    "    train_loss, train_acc = 0.0, 0.0\n",
    "    for X, y in train_dataloader:\n",
    "        X, y = X.to(device), y.float().to(device)\n",
    "        \n",
    "        model_NN1.train()\n",
    "        \n",
    "        y_pred = model_NN1(X)\n",
    "        loss = loss_fn(y_pred, y.unsqueeze(1))\n",
    "        train_loss += loss.item()\n",
    "        \n",
    "        acc = accuracy(y_pred, y.unsqueeze(1))\n",
    "        train_acc += acc\n",
    "        \n",
    "        optimizer.zero_grad()\n",
    "        loss.backward()\n",
    "        optimizer.step()\n",
    "        \n",
    "    train_loss /= len(train_dataloader)\n",
    "    train_acc /= len(train_dataloader)\n",
    "        \n",
    "    # Validation loop\n",
    "    val_loss, val_acc = 0.0, 0.0\n",
    "    model_NN1.eval()\n",
    "    with torch.inference_mode():\n",
    "        for X, y in val_dataloader:\n",
    "            X, y = X.to(device), y.float().to(device)\n",
    "        \n",
    "            y_pred = model_NN1(X)\n",
    "            \n",
    "            loss = loss_fn(y_pred, y.unsqueeze(1))\n",
    "            val_loss += loss.item()\n",
    "            \n",
    "            acc = accuracy(y_pred, y.unsqueeze(1))\n",
    "            val_acc += acc\n",
    "            \n",
    "        val_loss /= len(val_dataloader)\n",
    "        val_acc /= len(val_dataloader)\n",
    "        \n",
    "    writer.add_scalars(main_tag=\"Loss\", tag_scalar_dict={\"train/loss\": train_loss, \"val/loss\": val_loss}, global_step=epoch)\n",
    "    writer.add_scalars(main_tag=\"Accuracy\", tag_scalar_dict={\"train/acc\": train_acc, \"val/acc\": val_acc}, global_step=epoch)\n",
    "    \n",
    "    print(f\"Epoch: {epoch}| Train loss: {train_loss: .5f}| Train acc: {train_acc: .5f}| Val loss: {val_loss: .5f}| Val acc: {val_acc: .5f}\")"
   ]
  },
  {
   "cell_type": "code",
   "execution_count": 5,
   "metadata": {},
   "outputs": [
    {
     "name": "stdout",
     "output_type": "stream",
     "text": [
      "fc1.weight torch.Size([128, 10])\n",
      "fc1.bias torch.Size([128])\n",
      "fc2.weight torch.Size([64, 128])\n",
      "fc2.bias torch.Size([64])\n",
      "fc3.weight torch.Size([32, 64])\n",
      "fc3.bias torch.Size([32])\n",
      "fc4.weight torch.Size([1, 32])\n",
      "fc4.bias torch.Size([1])\n"
     ]
    }
   ],
   "source": [
    "for name, param in model_NN1.named_parameters():\n",
    "    if param.requires_grad:\n",
    "        print(name, param.data.shape)"
   ]
  },
  {
   "cell_type": "code",
   "execution_count": 5,
   "metadata": {},
   "outputs": [
    {
     "name": "stdout",
     "output_type": "stream",
     "text": [
      "Test loss:  0.19221| Test acc:  0.91369\n"
     ]
    }
   ],
   "source": [
    "device = 'cuda' if torch.cuda.is_available() else 'cpu'\n",
    "\n",
    "loss_fn = nn.BCELoss().to(device)\n",
    "accuracy = BinaryAccuracy().to(device)\n",
    "\n",
    "test_loss, test_acc = 0, 0\n",
    "\n",
    "#model_lenet5_v1_mnist_loaded.to(device)\n",
    "model_NN1.eval()\n",
    "with torch.inference_mode():\n",
    "    for X, y in test_dataloader:\n",
    "        X, y = X.to(device), y.float().to(device)\n",
    "        y_pred = model_NN1(X)\n",
    "        \n",
    "        test_loss += loss_fn(y_pred, y.unsqueeze(1))\n",
    "        test_acc += accuracy(y_pred, y.unsqueeze(1))\n",
    "        \n",
    "    test_loss /= len(test_dataloader)\n",
    "    test_acc /= len(test_dataloader)\n",
    "\n",
    "print(f\"Test loss: {test_loss: .5f}| Test acc: {test_acc: .5f}\")"
   ]
  },
  {
   "cell_type": "code",
   "execution_count": 129,
   "metadata": {},
   "outputs": [
    {
     "data": {
      "text/plain": [
       "tensor([[9.9657e-01],\n",
       "        [9.9636e-01],\n",
       "        [9.9992e-01],\n",
       "        [9.9718e-01],\n",
       "        [9.8691e-01],\n",
       "        [9.9902e-01],\n",
       "        [1.9469e-05],\n",
       "        [8.3124e-01],\n",
       "        [9.9939e-01],\n",
       "        [2.5167e-02],\n",
       "        [7.4609e-02],\n",
       "        [9.9961e-01],\n",
       "        [9.9497e-01],\n",
       "        [9.6825e-01],\n",
       "        [9.9999e-01],\n",
       "        [9.9786e-01]], device='cuda:0')"
      ]
     },
     "execution_count": 129,
     "metadata": {},
     "output_type": "execute_result"
    }
   ],
   "source": [
    "y_pred"
   ]
  },
  {
   "cell_type": "code",
   "execution_count": 51,
   "metadata": {},
   "outputs": [
    {
     "data": {
      "text/plain": [
       "ClassificationNet(\n",
       "  (fc1): Linear(in_features=10, out_features=64, bias=True)\n",
       "  (fc2): Linear(in_features=64, out_features=32, bias=True)\n",
       "  (fc3): Linear(in_features=32, out_features=1, bias=True)\n",
       "  (sigmoid): Sigmoid()\n",
       ")"
      ]
     },
     "execution_count": 51,
     "metadata": {},
     "output_type": "execute_result"
    }
   ],
   "source": [
    "model_NN1"
   ]
  },
  {
   "cell_type": "code",
   "execution_count": 14,
   "metadata": {},
   "outputs": [
    {
     "name": "stderr",
     "output_type": "stream",
     "text": [
      "  0%|          | 0/63 [00:00<?, ?it/s]c:\\Users\\Sven Jacob\\miniconda3\\envs\\torch\\Lib\\site-packages\\captum\\attr\\_core\\deep_lift.py:304: UserWarning: Setting forward, backward hooks and attributes on non-linear\n",
      "               activations. The hooks and attributes will be removed\n",
      "            after the attribution is finished\n",
      "  warnings.warn(\n",
      "100%|██████████| 63/63 [00:15<00:00,  4.16it/s]\n"
     ]
    }
   ],
   "source": [
    "from captum.attr import IntegratedGradients, GradientShap, KernelShap, DeepLift\n",
    "from tqdm import tqdm\n",
    "ig = IntegratedGradients(model_NN1)\n",
    "gs = GradientShap(model_NN1)\n",
    "ks = KernelShap(model_NN1)\n",
    "dl = DeepLift(model_NN1)\n",
    "#sample ,label = test_dataset[10]\n",
    "\n",
    "#tensor_1 = torch.mean(torch.stack(data_c1),axis=0)\n",
    "#tensor_2 = torch.mean(torch.stack(data_c2),axis=0)\n",
    "\n",
    "all_attributions_ig = []\n",
    "all_labels = []\n",
    "all_attributions_gs = []\n",
    "all_attributions_ks = []\n",
    "all_attributions_dl = []\n",
    "model_NN1.eval()\n",
    "for batch_samples, batch_labels in tqdm(test_dataloader):\n",
    "    # Ensure samples have the correct shape\n",
    "    batch_samples = batch_samples.requires_grad_().to(device) # Enable gradients for attribution\n",
    "    batch_labels = batch_labels.to(device)\n",
    "    baseline_dist = torch.zeros((batch_samples.shape[0],input_dim)).to(device)\n",
    "    #baseline_dist = torch.abs(torch.tensor(Contributions[0],dtype=torch.float32).repeat(batch_samples.shape[0],1))\n",
    "\n",
    "    # Calculate the attributions for each sample in the batch\n",
    "    # We use target=0 as we are working with a binary classification output\n",
    "    attributions, deltas = ig.attribute(batch_samples, target=0, return_convergence_delta=True,n_steps=200)\n",
    "\n",
    "    \n",
    "    # Append attributions and labels for further analysis\n",
    "    all_attributions_ig.append(attributions)\n",
    "    all_labels.append(batch_labels)\n",
    "    #batch_samples = batch_samples.requires_grad_()\n",
    "    attributions_gs, deltas = gs.attribute(batch_samples, target=0,  baselines=baseline_dist,return_convergence_delta=True,n_samples=50)\n",
    "    all_attributions_gs.append(attributions_gs)\n",
    "    \n",
    "    #batch_samples = batch_samples.requires_grad_()\n",
    "    attributions_dl = dl.attribute(batch_samples, target=0)\n",
    "    all_attributions_dl.append(attributions_dl)\n",
    "\n",
    "\n",
    "# Concatenate all attributions and labels\n",
    "all_attributions_ig = torch.cat(all_attributions_ig, dim=0)  # Shape: [num_samples, num_features]\n",
    "all_labels = torch.cat(all_labels, dim=0)\n",
    "\n",
    "all_attributions_gs = torch.cat(all_attributions_gs, dim=0)\n",
    "all_attributions_dl = torch.cat(all_attributions_dl, dim=0)\n",
    "\n"
   ]
  },
  {
   "cell_type": "code",
   "execution_count": null,
   "metadata": {},
   "outputs": [
    {
     "data": {
      "text/plain": [
       "True"
      ]
     },
     "execution_count": 73,
     "metadata": {},
     "output_type": "execute_result"
    }
   ],
   "source": []
  },
  {
   "cell_type": "code",
   "execution_count": 15,
   "metadata": {},
   "outputs": [
    {
     "name": "stdout",
     "output_type": "stream",
     "text": [
      "[8, 9, 2]\n",
      "SWD: 0.7843804950088487\n",
      "[[ 2.89801657e-02  7.79731914e-03 -3.90339366e-01 -5.93848677e-03\n",
      "  -3.71647543e-03 -4.13291032e-02 -2.66091065e-04  3.09379135e-02\n",
      "  -4.46659577e-01 -3.40958562e-01]\n",
      " [-3.10355549e-02  1.78349620e-02  3.56376198e-01 -2.14387747e-02\n",
      "   1.89065720e-02  7.26934919e-03  2.83791031e-04 -1.89399604e-02\n",
      "   4.75221231e-01  3.31032961e-01]]\n",
      "[ 2.89801657e-02  7.79731914e-03 -3.90339366e-01 -5.93848677e-03\n",
      " -3.71647543e-03 -4.13291032e-02 -2.66091065e-04  3.09379135e-02\n",
      " -4.46659577e-01 -3.40958562e-01]\n"
     ]
    },
    {
     "name": "stderr",
     "output_type": "stream",
     "text": [
      "c:\\Users\\Sven Jacob\\miniconda3\\envs\\torch\\Lib\\site-packages\\sklearn\\cluster\\_kmeans.py:1429: UserWarning: KMeans is known to have a memory leak on Windows with MKL, when there are less chunks than available threads. You can avoid it by setting the environment variable OMP_NUM_THREADS=2.\n",
      "  warnings.warn(\n"
     ]
    },
    {
     "name": "stdout",
     "output_type": "stream",
     "text": [
      "SWD: 0.8099925058586964\n",
      "[[-2.19657350e-02 -1.03333286e-02  3.62588541e-01  1.39690362e-04\n",
      "  -3.09248392e-03  3.07177992e-02  3.79241194e-03 -2.81162754e-03\n",
      "   4.81743972e-01  3.38262134e-01]\n",
      " [ 4.81802766e-02  2.48360383e-04 -3.57214974e-01 -3.51996698e-03\n",
      "   1.13684635e-02 -9.49436247e-03 -1.82097785e-02 -7.82767282e-03\n",
      "  -4.86582055e-01 -3.39203279e-01]]\n",
      "[-2.19657350e-02 -1.03333286e-02  3.62588541e-01  1.39690362e-04\n",
      " -3.09248392e-03  3.07177992e-02  3.79241194e-03 -2.81162754e-03\n",
      "  4.81743972e-01  3.38262134e-01]\n"
     ]
    },
    {
     "name": "stderr",
     "output_type": "stream",
     "text": [
      "c:\\Users\\Sven Jacob\\miniconda3\\envs\\torch\\Lib\\site-packages\\sklearn\\cluster\\_kmeans.py:1429: UserWarning: KMeans is known to have a memory leak on Windows with MKL, when there are less chunks than available threads. You can avoid it by setting the environment variable OMP_NUM_THREADS=2.\n",
      "  warnings.warn(\n"
     ]
    },
    {
     "name": "stdout",
     "output_type": "stream",
     "text": [
      "SWD: 0.4453589788543815\n",
      "[[ 0.01634685 -0.04156733 -0.51624926 -0.02128208 -0.02650944  0.01628856\n",
      "  -0.03270505 -0.01208056  0.02038258 -0.44341165]\n",
      " [ 0.0066706   0.01355128  0.51050804 -0.00097566 -0.00704671  0.00269326\n",
      "  -0.00066483 -0.01717633 -0.00706206  0.44836178]]\n",
      "[ 0.01634685 -0.04156733 -0.51624926 -0.02128208 -0.02650944  0.01628856\n",
      " -0.03270505 -0.01208056  0.02038258 -0.44341165]\n"
     ]
    },
    {
     "name": "stderr",
     "output_type": "stream",
     "text": [
      "c:\\Users\\Sven Jacob\\miniconda3\\envs\\torch\\Lib\\site-packages\\sklearn\\cluster\\_kmeans.py:1429: UserWarning: KMeans is known to have a memory leak on Windows with MKL, when there are less chunks than available threads. You can avoid it by setting the environment variable OMP_NUM_THREADS=2.\n",
      "  warnings.warn(\n"
     ]
    }
   ],
   "source": [
    "from utils import *\n",
    "\n",
    "\n",
    "Syn_samples = []\n",
    "\n",
    "all_labels = []\n",
    "for batch_samples, batch_labels in test_dataloader:\n",
    "    Syn_samples.append(batch_samples)\n",
    "    all_labels.append(batch_labels)\n",
    "\n",
    "\n",
    "Syn_samples = torch.cat(Syn_samples, dim=0)\n",
    "all_labels = torch.cat(all_labels,dim=0)\n",
    "\n",
    "Syn_X = Syn_samples[all_labels==0].numpy()\n",
    "Syn_Y = Syn_samples[all_labels==1].numpy()\n",
    "\n",
    "print(dataset.ind)\n",
    "rf, betas, SWDs , Contributions = remove_important_features_syn(Syn_X,Syn_Y,3,10000,max_parameter=False,q=0.95)\n"
   ]
  },
  {
   "cell_type": "code",
   "execution_count": 11,
   "metadata": {},
   "outputs": [],
   "source": [
    "import pandas as pd\n",
    "\n",
    "contributions_plot = np.abs((Contributions)).mean(axis=0)"
   ]
  },
  {
   "cell_type": "code",
   "execution_count": 16,
   "metadata": {},
   "outputs": [],
   "source": [
    "bars = tuple([str(i) for i in range(d)])\n",
    "ig_plot = torch.abs(all_attributions_ig[all_labels ==0 ].mean(axis=0)-all_attributions_ig[all_labels ==1 ].mean(axis=0)).detach().cpu().numpy()\n",
    "gs_plot = torch.abs(all_attributions_gs[all_labels ==0 ].mean(axis=0)-all_attributions_gs[all_labels ==1 ].mean(axis=0)).detach().cpu().numpy()\n",
    "dl_plot = torch.abs(all_attributions_dl[all_labels ==0 ].mean(axis=0)-all_attributions_dl[all_labels ==1 ].mean(axis=0)).detach().cpu().numpy()"
   ]
  },
  {
   "cell_type": "code",
   "execution_count": 27,
   "metadata": {},
   "outputs": [
    {
     "data": {
      "text/plain": [
       "[array([-0.01783957, -0.03639256, -0.37608461, -0.01454402,  0.00594951,\n",
       "        -0.0098662 ,  0.01113785,  0.01084753, -0.46738715, -0.32929304]),\n",
       " array([ 0.00181259,  0.00520202,  0.36193348,  0.01002458, -0.00800981,\n",
       "         0.02463911, -0.00638874,  0.01784618,  0.48197824,  0.32655414]),\n",
       " array([ 0.00627071, -0.00314288, -0.50346801,  0.00923644,  0.02881554,\n",
       "         0.00493313, -0.04081449, -0.03270971,  0.01488048, -0.48107194])]"
      ]
     },
     "execution_count": 27,
     "metadata": {},
     "output_type": "execute_result"
    }
   ],
   "source": [
    "Contributions"
   ]
  },
  {
   "cell_type": "code",
   "execution_count": 18,
   "metadata": {},
   "outputs": [
    {
     "data": {
      "image/png": "[encoded data removed]",
      "text/plain": [
       "<Figure size 800x400 with 2 Axes>"
      ]
     },
     "metadata": {},
     "output_type": "display_data"
    }
   ],
   "source": [
    "import matplotlib.ticker as ticker\n",
    "\n",
    "data = {\n",
    "    'Features': list(bars),\n",
    "    'IG': ig_plot,\n",
    "    'GS': gs_plot,\n",
    "    'DL': dl_plot,\n",
    "    'swd_group': np.abs(Contributions[0]) # This will be plotted on the secondary y-axis\n",
    "}\n",
    "df = pd.DataFrame(data)\n",
    "\n",
    "df.set_index('Features', inplace=True)\n",
    "\n",
    "# Plot settings\n",
    "bar_width = 0.2  # Width of each bar\n",
    "x = np.arange(len(df))  # X positions for the features\n",
    "plt.rcParams['hatch.linewidth'] = 1  # Default is 1.0\n",
    "#hatch_patterns = ['..', '..', '..']  # Hatches for the first 3 groups\n",
    "hatch_patterns = ['', '', '']\n",
    "fig, ax = plt.subplots(figsize=(8, 4))\n",
    "\n",
    "# Plot the first three groups with hatches on the primary y-axis\n",
    "colors = [plt.colormaps.get_cmap('tab20c')(18),plt.colormaps.get_cmap('tab20c')(17),plt.colormaps.get_cmap('tab20c')(16)]\n",
    "for i, (group, hatch) in enumerate(zip(df.columns[:-1], hatch_patterns)):  # Exclude 'Group 4'\n",
    "    ax.bar(x + i * bar_width, df[group], bar_width, label=group, hatch=hatch,color=colors[i],edgecolor='black',lw=2,alpha=1)\n",
    "\n",
    "# Create a secondary y-axis for 'Group 4'\n",
    "ax2 = ax.twinx()\n",
    "ax2.bar(x + 3 * bar_width, df['swd_group'], bar_width, label='SWD', color='blue',edgecolor='black',lw=2,alpha=0.9)\n",
    "\n",
    "# Customizations for primary y-axis\n",
    "#ax.set_ylabel('Values (Groups 1-3)')\n",
    "ax.set_xticks(x + bar_width * 1.5)  # Align x-axis labels to the center of the groups\n",
    "ax.set_xticklabels(df.index)\n",
    "ax.legend(loc='upper left')\n",
    "\n",
    "for i in dataset.ind:\n",
    "    ax.xaxis.get_ticklabels()[i].set_bbox(dict(facecolor='none',edgecolor='red'))\n",
    "\n",
    "ax.set_xlabel('Features')\n",
    "ax.yaxis.set_major_formatter(ticker.ScalarFormatter(useMathText=True))\n",
    "ax.ticklabel_format(style='sci', axis='y', scilimits=(0, 0))\n",
    "# Customizations for secondary y-axis\n",
    "#ax2.set_ylabel(color='lightcoral')\n",
    "ax2.legend(loc='upper right', frameon=True)\n",
    "\n",
    "# Aligning grid and layout\n",
    "plt.title('Explanation scores')\n",
    "fig.tight_layout()\n",
    "\n",
    "plt.show()"
   ]
  },
  {
   "cell_type": "code",
   "execution_count": 135,
   "metadata": {},
   "outputs": [],
   "source": [
    "fig.savefig('Syn_Experiment1.pdf')"
   ]
  },
  {
   "cell_type": "code",
   "execution_count": 61,
   "metadata": {},
   "outputs": [
    {
     "data": {
      "text/plain": [
       "0.8686595600041314"
      ]
     },
     "execution_count": 61,
     "metadata": {},
     "output_type": "execute_result"
    }
   ],
   "source": [
    "cos_sim = lambda a,b : np.dot(a, b)/(np.linalg.norm(a)*np.linalg.norm(b))\n",
    "\n",
    "cos_sim(data['swd_group'],dl_plot)"
   ]
  },
  {
   "cell_type": "code",
   "execution_count": 152,
   "metadata": {},
   "outputs": [
    {
     "ename": "RuntimeError",
     "evalue": "CUDA error: device-side assert triggered\nCUDA kernel errors might be asynchronously reported at some other API call, so the stacktrace below might be incorrect.\nFor debugging consider passing CUDA_LAUNCH_BLOCKING=1\nCompile with `TORCH_USE_CUDA_DSA` to enable device-side assertions.\n",
     "output_type": "error",
     "traceback": [
      "\u001b[1;31m---------------------------------------------------------------------------\u001b[0m",
      "\u001b[1;31mRuntimeError\u001b[0m                              Traceback (most recent call last)",
      "Cell \u001b[1;32mIn[152], line 20\u001b[0m\n\u001b[0;32m     18\u001b[0m \u001b[38;5;28;01mfor\u001b[39;00m x,y \u001b[38;5;129;01min\u001b[39;00m test_dataloader:\n\u001b[0;32m     19\u001b[0m     REPORT[\u001b[38;5;124m'\u001b[39m\u001b[38;5;124moriginal\u001b[39m\u001b[38;5;124m'\u001b[39m][\u001b[38;5;124m'\u001b[39m\u001b[38;5;124mx\u001b[39m\u001b[38;5;124m'\u001b[39m]\u001b[38;5;241m.\u001b[39mappend(x)\n\u001b[1;32m---> 20\u001b[0m     x,y \u001b[38;5;241m=\u001b[39m \u001b[43mx\u001b[49m\u001b[38;5;241;43m.\u001b[39;49m\u001b[43mto\u001b[49m\u001b[43m(\u001b[49m\u001b[43mdevice\u001b[49m\u001b[43m)\u001b[49m, y\u001b[38;5;241m.\u001b[39mto(device)\n\u001b[0;32m     21\u001b[0m     \u001b[38;5;66;03m#target = torch.abs(y-1)\u001b[39;00m\n\u001b[0;32m     22\u001b[0m     x_fgm \u001b[38;5;241m=\u001b[39m fast_gradient_method(model_NN1,x,eps,norm\u001b[38;5;241m=\u001b[39m\u001b[38;5;241m2\u001b[39m)\n",
      "\u001b[1;31mRuntimeError\u001b[0m: CUDA error: device-side assert triggered\nCUDA kernel errors might be asynchronously reported at some other API call, so the stacktrace below might be incorrect.\nFor debugging consider passing CUDA_LAUNCH_BLOCKING=1\nCompile with `TORCH_USE_CUDA_DSA` to enable device-side assertions.\n"
     ]
    }
   ],
   "source": [
    "from cleverhans.torch.attacks.fast_gradient_method import fast_gradient_method\n",
    "from cleverhans.torch.attacks.projected_gradient_descent import projected_gradient_descent\n",
    "\n",
    "\n",
    "#model_loaded = model_NN1\n",
    "\n",
    "model_NN1.eval()\n",
    "epsilons = [1]\n",
    "accuracies = []\n",
    "#eps = 0.0005\n",
    "REPORTS= []\n",
    "for eps in epsilons:\n",
    "    nb_missclassified_FGSM=0\n",
    "    nb_missclassified_PGD=0\n",
    "\n",
    "    REPORT = {'original':{'y':[],'x':[]},'attack_FGSM':{'y':[],'x':[]},'attack_PGD':{'y':[],'x':[]}}\n",
    "    #torch.manual_seed(10)\n",
    "    for x,y in test_dataloader:\n",
    "        REPORT['original']['x'].append(x)\n",
    "        x,y = x.to(device), y.to(device)\n",
    "        #target = torch.abs(y-1)\n",
    "        x_fgm = fast_gradient_method(model_NN1,x,eps,norm=2)\n",
    "        REPORT['attack_FGSM']['x'].append(x_fgm.detach().cpu())\n",
    "\n",
    "       # x_pgd = projected_gradient_descent(model_loaded,x,eps, eps_iter=0.0001, nb_iter=40, norm=2)\n",
    "        #REPORT['attack_PGD']['x'].append(x_pgd.detach().cpu())\n",
    "\n",
    "\n",
    "        _, y_pred = model_NN1(x).max(1)\n",
    "        REPORT['original']['y'].append(y.detach().cpu())\n",
    "\n",
    "        _, y_pred_fgm = model_NN1(x_fgm).max(1)\n",
    "        REPORT['attack_FGSM']['y'].append(y_pred_fgm.detach().cpu())\n",
    "\n",
    "        #_, y_pred_pgd = model_loaded(x_pgd).max(1)\n",
    "        #REPORT['attack_PGD']['y'].append(y_pred_pgd.detach().cpu())\n",
    "\n",
    "     \n",
    "\n",
    "        nb_missclassified_FGSM+= torch.sum((y_pred_fgm == y_pred))\n",
    "        #nb_missclassified_PGD+= torch.sum((y_pred_pgd == y_pred))\n",
    "\n",
    "    REPORT['original']['y'] = torch.cat(REPORT['original']['y'],axis=0)\n",
    "    REPORT['original']['x'] = torch.cat(REPORT['original']['x'],axis=0)\n",
    "\n",
    "    REPORT['attack_FGSM']['y'] = torch.cat(REPORT['attack_FGSM']['y'],axis=0)\n",
    "    REPORT['attack_FGSM']['x'] = torch.cat(REPORT['attack_FGSM']['x'],axis=0)\n",
    "\n",
    "    #REPORT['attack_PGD']['y'] = torch.cat(REPORT['attack_PGD']['y'],axis=0)\n",
    "    #REPORT['attack_PGD']['x'] = torch.cat(REPORT['attack_PGD']['x'],axis=0)\n",
    "    acc_FGSM = nb_missclassified_FGSM.detach().cpu().numpy()/len(test_dataset)\n",
    "    #acc_PGD = nb_missclassified_PGD.detach().cpu().numpy()/len(test_dataset)\n",
    "\n",
    "    accuracies.append(acc_FGSM)\n",
    "    print(eps,acc_FGSM)\n",
    "    #print(eps, acc_PGD)\n",
    "\n",
    "    REPORTS.append(REPORT)"
   ]
  },
  {
   "cell_type": "code",
   "execution_count": 53,
   "metadata": {},
   "outputs": [],
   "source": [
    "# Define FGSM attack function\n",
    "def fgsm_attack(model, criterion, inputs, labels, epsilon):\n",
    "    \"\"\"\n",
    "    Performs FGSM attack on the input samples.\n",
    "\n",
    "    Args:\n",
    "        model: The neural network model\n",
    "        criterion: Loss function used for training\n",
    "        inputs: Original input data (torch.Tensor)\n",
    "        labels: True labels corresponding to the inputs\n",
    "        epsilon: Perturbation magnitude (float)\n",
    "    \n",
    "    Returns:\n",
    "        perturbed_inputs: Adversarial examples created by FGSM\n",
    "    \"\"\"\n",
    "    # Ensure input requires gradient for FGSM\n",
    "    inputs.requires_grad = True\n",
    "\n",
    "    # Forward pass\n",
    "    outputs = model(inputs)\n",
    "    loss = criterion(outputs, labels)\n",
    "\n",
    "    # Backward pass to compute gradients\n",
    "    model.zero_grad()\n",
    "    loss.backward()\n",
    "\n",
    "    # Compute the sign of the gradients\n",
    "    data_grad = inputs.grad.data\n",
    "    sign_data_grad = data_grad.sign()\n",
    "\n",
    "    # Create perturbed input\n",
    "    perturbed_inputs = inputs + epsilon * sign_data_grad\n",
    "    perturbed_inputs = torch.clamp(perturbed_inputs, 0, 1)  # Clamp to valid range (optional)\n",
    "\n",
    "    return perturbed_inputs"
   ]
  },
  {
   "cell_type": "code",
   "execution_count": 61,
   "metadata": {},
   "outputs": [
    {
     "name": "stdout",
     "output_type": "stream",
     "text": [
      "Epsilon: 10\tTest Accuracy = 47.30%\n"
     ]
    }
   ],
   "source": [
    "epsilon = 10  # Choose an epsilon value\n",
    "criterion = nn.BCELoss()  # Binary cross-entropy loss\n",
    "\n",
    "model_NN1.eval()  # Set the model to evaluation mode\n",
    "\n",
    "correct = 0\n",
    "adv_examples = []\n",
    "\n",
    "for data, target in test_dataloader:\n",
    "    data, target = data.to(device), target.to(device)\n",
    "\n",
    "    # Convert target to match the output size for BCE Loss\n",
    "    target = target.view(-1, 1).float()\n",
    "\n",
    "    # Generate adversarial examples\n",
    "    perturbed_data = fgsm_attack(model_NN1, criterion, data, target, epsilon)\n",
    "\n",
    "    # Re-evaluate the model with perturbed data\n",
    "    output = model_NN1(perturbed_data)\n",
    "    pred = (output > 0.5).float()  # Binary prediction\n",
    "\n",
    "    # Track accuracy\n",
    "    correct += (pred == target).sum().item()\n",
    "    \n",
    "\n",
    "    # Optionally, save adversarial examples\n",
    "    for i in range(data.size(0)):  # Iterate over batch\n",
    "        if pred[i] != target[i]:  # Check if attack was successful\n",
    "            adv_examples.append((data[i].detach().cpu(), perturbed_data[i].detach().cpu()))\n",
    "    \n",
    "\n",
    "# Calculate final accuracy\n",
    "final_acc = correct / len(test_dataloader.dataset)\n",
    "print(f\"Epsilon: {epsilon}\\tTest Accuracy = {final_acc * 100:.2f}%\")"
   ]
  },
  {
   "cell_type": "code",
   "execution_count": 57,
   "metadata": {},
   "outputs": [],
   "source": [
    "l = torch.zeros(10).to(device)\n",
    "\n",
    "for i in range(len(adv_examples)):\n",
    "    l+=torch.abs(adv_examples[i][0]-adv_examples[i][1]).mean(axis=0)\n"
   ]
  },
  {
   "cell_type": "code",
   "execution_count": 58,
   "metadata": {},
   "outputs": [
    {
     "data": {
      "text/plain": [
       "tensor([-1.9353,  0.8520,  2.5920, -1.1417, -1.3757, -2.5052,  1.6496, -0.0100,\n",
       "         1.1052,  0.3070])"
      ]
     },
     "execution_count": 58,
     "metadata": {},
     "output_type": "execute_result"
    }
   ],
   "source": [
    "adv_examples[0][0]-adv_examples[0][1]"
   ]
  }
 ],
 "metadata": {
  "kernelspec": {
   "display_name": "torch",
   "language": "python",
   "name": "python3"
  },
  "language_info": {
   "codemirror_mode": {
    "name": "ipython",
    "version": 3
   },
   "file_extension": ".py",
   "mimetype": "text/x-python",
   "name": "python",
   "nbconvert_exporter": "python",
   "pygments_lexer": "ipython3",
   "version": "3.12.7"
  }
 },
 "nbformat": 4,
 "nbformat_minor": 2
}
