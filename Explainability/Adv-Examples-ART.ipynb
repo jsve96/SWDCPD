{
 "cells": [
  {
   "cell_type": "code",
   "execution_count": 1,
   "metadata": {},
   "outputs": [],
   "source": [
    "from torchvision import datasets\n",
    "import numpy as np\n",
    "import torch\n",
    "from torchvision import transforms\n",
    "from torch.utils.data import DataLoader\n",
    "from vit_pytorch import ViT  # ViT model\n",
    "\n",
    "\n",
    "BATCH_SIZE  =32\n",
    "mnist_transforms = transforms.Compose([transforms.ToTensor()])\n",
    "train_val_dataset = datasets.MNIST(root=\"./datasets/\", train=True, download=False, transform=mnist_transforms)\n",
    "test_dataset = datasets.MNIST(root=\"./datasets/\", train=False, download=False, transform=mnist_transforms)\n",
    "train_size = int(0.9 * len(train_val_dataset))\n",
    "val_size = len(train_val_dataset) - train_size\n",
    "train_dataset, val_dataset = torch.utils.data.random_split(dataset=train_val_dataset, lengths=[train_size, val_size])\n",
    "train_dataloader = DataLoader(dataset=train_dataset, batch_size=BATCH_SIZE, shuffle=True)\n",
    "val_dataloader = DataLoader(dataset=val_dataset, batch_size=BATCH_SIZE, shuffle=True)\n",
    "test_dataloader = DataLoader(dataset=test_dataset, batch_size=BATCH_SIZE, shuffle=True)\n",
    "\n",
    "\n",
    "device = 'cuda' if torch.cuda.is_available() else 'cpu'\n",
    "\n",
    "\n",
    "from torch import nn\n",
    "\n",
    "class LeNet5(nn.Module):\n",
    "    def __init__(self):\n",
    "        super().__init__()\n",
    "        self.feature = nn.Sequential(\n",
    "            #1\n",
    "            nn.Conv2d(in_channels=1, out_channels=6, kernel_size=5, stride=1, padding=2),   # 28*28->32*32-->28*28\n",
    "            nn.Tanh(),\n",
    "            nn.AvgPool2d(kernel_size=2, stride=2),  # 14*14\n",
    "            \n",
    "            #2\n",
    "            nn.Conv2d(in_channels=6, out_channels=16, kernel_size=5, stride=1),  # 10*10\n",
    "            nn.Tanh(),\n",
    "            nn.AvgPool2d(kernel_size=2, stride=2),  # 5*5\n",
    "            \n",
    "        )\n",
    "        self.classifier = nn.Sequential(\n",
    "            nn.Flatten(),\n",
    "            nn.Linear(in_features=16*5*5, out_features=120),\n",
    "            nn.Tanh(),\n",
    "            nn.Linear(in_features=120, out_features=84),\n",
    "            nn.Tanh(),\n",
    "            nn.Linear(in_features=84, out_features=10),\n",
    "        )\n",
    "        \n",
    "    def forward(self, x):\n",
    "        return self.classifier(self.feature(x))\n",
    "    \n",
    "\n",
    "### Load trained models\n",
    "\n",
    "model_vit_v1 = ViT(\n",
    "    image_size=28,       # MNIST images are 28x28\n",
    "    patch_size=4,        # 4 patches per dimension (28/7)\n",
    "    num_classes=10,      # 10 output classes for digits 0-9\n",
    "    dim=64,             # Embedding dimension\n",
    "    depth=6,             # Number of transformer layers\n",
    "    heads=8,             # Number of attention heads\n",
    "    mlp_dim=128,         # Hidden dimension in MLP layers\n",
    "    dropout=0.1,         # Dropout rate in transformer\n",
    "    emb_dropout=0.1,     # Dropout rate for embeddings\n",
    "    channels = 1\n",
    ").to(device)\n",
    "\n",
    "\n",
    "model_vit_v2 = ViT(\n",
    "    image_size=28,       # MNIST images are 28x28\n",
    "    patch_size=7,        # 4 patches per dimension (28/7)\n",
    "    num_classes=10,      # 10 output classes for digits 0-9\n",
    "    dim=64,             # Embedding dimension\n",
    "    depth=6,             # Number of transformer layers\n",
    "    heads=8,             # Number of attention heads\n",
    "    mlp_dim=128,         # Hidden dimension in MLP layers\n",
    "    dropout=0.1,         # Dropout rate in transformer\n",
    "    emb_dropout=0.1,     # Dropout rate for embeddings\n",
    "    channels = 1\n",
    ").to(device)\n",
    "\n",
    "model_lenet5 = LeNet5().to(device)"
   ]
  },
  {
   "cell_type": "code",
   "execution_count": 2,
   "metadata": {},
   "outputs": [
    {
     "name": "stderr",
     "output_type": "stream",
     "text": [
      "/tmp/ipykernel_45419/2789388921.py:9: FutureWarning: You are using `torch.load` with `weights_only=False` (the current default value), which uses the default pickle module implicitly. It is possible to construct malicious pickle data which will execute arbitrary code during unpickling (See https://github.com/pytorch/pytorch/blob/main/SECURITY.md#untrusted-models for more details). In a future release, the default value for `weights_only` will be flipped to `True`. This limits the functions that could be executed during unpickling. Arbitrary objects will no longer be allowed to be loaded via this mode unless they are explicitly allowlisted by the user via `torch.serialization.add_safe_globals`. We recommend you start setting `weights_only=True` for any use case where you don't have full control of the loaded file. Please open an issue on GitHub for any issues related to this experimental feature.\n",
      "  model_lenet5.load_state_dict(torch.load(MODEL_SAVE_PATH))\n",
      "/tmp/ipykernel_45419/2789388921.py:17: FutureWarning: You are using `torch.load` with `weights_only=False` (the current default value), which uses the default pickle module implicitly. It is possible to construct malicious pickle data which will execute arbitrary code during unpickling (See https://github.com/pytorch/pytorch/blob/main/SECURITY.md#untrusted-models for more details). In a future release, the default value for `weights_only` will be flipped to `True`. This limits the functions that could be executed during unpickling. Arbitrary objects will no longer be allowed to be loaded via this mode unless they are explicitly allowlisted by the user via `torch.serialization.add_safe_globals`. We recommend you start setting `weights_only=True` for any use case where you don't have full control of the loaded file. Please open an issue on GitHub for any issues related to this experimental feature.\n",
      "  model_vit_v2.load_state_dict(torch.load(MODEL_SAVE_PATH))\n",
      "/tmp/ipykernel_45419/2789388921.py:25: FutureWarning: You are using `torch.load` with `weights_only=False` (the current default value), which uses the default pickle module implicitly. It is possible to construct malicious pickle data which will execute arbitrary code during unpickling (See https://github.com/pytorch/pytorch/blob/main/SECURITY.md#untrusted-models for more details). In a future release, the default value for `weights_only` will be flipped to `True`. This limits the functions that could be executed during unpickling. Arbitrary objects will no longer be allowed to be loaded via this mode unless they are explicitly allowlisted by the user via `torch.serialization.add_safe_globals`. We recommend you start setting `weights_only=True` for any use case where you don't have full control of the loaded file. Please open an issue on GitHub for any issues related to this experimental feature.\n",
      "  model_vit_v1.load_state_dict(torch.load(MODEL_SAVE_PATH))\n"
     ]
    },
    {
     "data": {
      "text/plain": [
       "<All keys matched successfully>"
      ]
     },
     "execution_count": 2,
     "metadata": {},
     "output_type": "execute_result"
    }
   ],
   "source": [
    "from pathlib import Path\n",
    "\n",
    "MODEL_PATH = Path(\"models\")\n",
    "MODEL_PATH.mkdir(parents=True, exist_ok=True)\n",
    "MODEL_NAME = \"LENeT5_mnist.pth\"\n",
    "MODEL_SAVE_PATH = MODEL_PATH / MODEL_NAME\n",
    "\n",
    "\n",
    "model_lenet5.load_state_dict(torch.load(MODEL_SAVE_PATH))\n",
    "\n",
    "\n",
    "MODEL_PATH = Path(\"models\")\n",
    "MODEL_PATH.mkdir(parents=True, exist_ok=True)\n",
    "MODEL_NAME = \"ViT_v2_mnist.pth\"\n",
    "MODEL_SAVE_PATH = MODEL_PATH / MODEL_NAME\n",
    "\n",
    "model_vit_v2.load_state_dict(torch.load(MODEL_SAVE_PATH))\n",
    "\n",
    "\n",
    "MODEL_PATH = Path(\"models\")\n",
    "MODEL_PATH.mkdir(parents=True, exist_ok=True)\n",
    "MODEL_NAME = \"ViT_v1_mnist.pth\"\n",
    "MODEL_SAVE_PATH = MODEL_PATH / MODEL_NAME\n",
    "\n",
    "model_vit_v1.load_state_dict(torch.load(MODEL_SAVE_PATH))"
   ]
  },
  {
   "cell_type": "code",
   "execution_count": 16,
   "metadata": {},
   "outputs": [],
   "source": [
    "from art.attacks.evasion import FastGradientMethod\n",
    "from art.estimators.classification import PyTorchClassifier\n",
    "import torch.nn as nn\n",
    "from torch.optim import Adam\n",
    "from torchmetrics import Accuracy"
   ]
  },
  {
   "cell_type": "code",
   "execution_count": 112,
   "metadata": {},
   "outputs": [
    {
     "name": "stdout",
     "output_type": "stream",
     "text": [
      "Accuracy on benign test examples: 98.03%\n"
     ]
    }
   ],
   "source": [
    "model_id = model_vit_v1\n",
    "\n",
    "loss_fn = nn.CrossEntropyLoss()\n",
    "optimizer = Adam(model_id.parameters(), lr=0.001)\n",
    "classifier = PyTorchClassifier(model=model_id,clip_values=(0,1),loss=loss_fn,optimizer=optimizer,input_shape=(1,28,28),nb_classes=10)\n",
    "nb_correct=0\n",
    "for x,y in test_dataloader:\n",
    "    y_pred = classifier.predict(x)\n",
    "    nb_correct+=np.sum(np.argmax(y_pred,axis=1)==y.detach().cpu().numpy())\n",
    "\n",
    "print(\"Accuracy on benign test examples: {}%\".format(nb_correct/len(test_dataset)*100))"
   ]
  },
  {
   "cell_type": "code",
   "execution_count": 90,
   "metadata": {},
   "outputs": [
    {
     "data": {
      "text/plain": [
       "array([0.01  , 0.0325, 0.055 , 0.0775, 0.1   ])"
      ]
     },
     "execution_count": 90,
     "metadata": {},
     "output_type": "execute_result"
    }
   ],
   "source": [
    "np.linspace(0.01,0.1,5)"
   ]
  },
  {
   "cell_type": "code",
   "execution_count": 113,
   "metadata": {},
   "outputs": [
    {
     "name": "stdout",
     "output_type": "stream",
     "text": [
      "Accuracy on adversarial test examples with eps:0.0001 : 97.74000000000001%\n",
      "Accuracy on adversarial test examples with eps:0.0003 : 95.48%\n",
      "Accuracy on adversarial test examples with eps:0.0005 : 89.60000000000001%\n",
      "Accuracy on adversarial test examples with eps:0.001 : 65.34%\n",
      "Accuracy on adversarial test examples with eps:0.005 : 36.08%\n",
      "Accuracy on adversarial test examples with eps:0.01 : 32.06%\n",
      "Accuracy on adversarial test examples with eps:0.05 : 20.919999999999998%\n",
      "Accuracy on adversarial test examples with eps:0.1 : 13.08%\n"
     ]
    }
   ],
   "source": [
    "epsilons = [0.0001,0.0003,0.0005,0.001,0.005,0.01,0.05,0.1]\n",
    "epsilons_CNN = list(np.linspace(0.01,0.1,5))\n",
    "accuracies = []\n",
    "REPORTS= []\n",
    "for eps in epsilons:\n",
    "    nb_missclassified_FGSM=0\n",
    "    nb_missclassified_PGD=0\n",
    "\n",
    "\n",
    "    REPORT = {'original':{'y':[],'x':[]},'attack_FGSM':{'y':[],'x':[]},'attack_PGD':{'y':[],'x':[]}}\n",
    "\n",
    "\n",
    "    attack = FastGradientMethod(estimator=classifier, eps=eps)\n",
    "    nb_correct_attack=0\n",
    "    torch.manual_seed(10)\n",
    "    for x,y in test_dataloader:\n",
    "        REPORT['original']['x'].append(x)\n",
    "\n",
    "        x_test_fgm = attack.generate(x=x.detach().cpu().numpy())\n",
    "        REPORT['attack_FGSM']['x'].append(x_test_fgm)\n",
    "\n",
    "        #y_pred = classifier.predict(x)\n",
    "        REPORT['original']['y'].append(y.detach().cpu().numpy())\n",
    "        y_pred = classifier.predict(x_test_fgm)\n",
    "        REPORT['attack_FGSM']['y'].append(np.argmax(y_pred,axis=1))\n",
    "\n",
    "        nb_correct_attack+=np.sum(np.argmax(y_pred,axis=1)==y.detach().cpu().numpy())\n",
    "\n",
    "    print(\"Accuracy on adversarial test examples with eps:{} : {}%\".format(eps,nb_correct_attack/len(test_dataset) * 100))\n",
    "\n",
    "\n",
    "\n",
    "    REPORT['original']['y'] = np.concatenate(REPORT['original']['y'])\n",
    "    REPORT['original']['x'] = np.concatenate(REPORT['original']['x'])\n",
    "\n",
    "    REPORT['attack_FGSM']['y'] = np.concatenate(REPORT['attack_FGSM']['y'])\n",
    "    REPORT['attack_FGSM']['x'] = np.concatenate(REPORT['attack_FGSM']['x'])\n",
    "\n",
    "    REPORTS.append(REPORT)"
   ]
  },
  {
   "cell_type": "code",
   "execution_count": 121,
   "metadata": {},
   "outputs": [
    {
     "data": {
      "image/png": "[encoded data removed]",
      "text/plain": [
       "<Figure size 300x500 with 6 Axes>"
      ]
     },
     "metadata": {},
     "output_type": "display_data"
    }
   ],
   "source": [
    "import matplotlib.pyplot as plt\n",
    "c1_list = [5,7,9]\n",
    "c2_list = [6,1,3]\n",
    "\n",
    "x_false = []\n",
    "x_true =[]\n",
    "\n",
    "eps_summary = 0.0005\n",
    "\n",
    "REPORT_plot = REPORTS[epsilons.index(eps_summary)]\n",
    "### get index of c1 in original\n",
    "#print(REPORT)\n",
    "row = 0\n",
    "fig,ax = plt.subplots(3,2,figsize=(3,5))\n",
    "for c1,c2 in zip(c1_list,c2_list):\n",
    "    #x_false = []\n",
    "    #x_true =[]\n",
    "    ind = REPORT_plot['original']['y'] == c1\n",
    "\n",
    "    x_true = REPORT_plot['original']['x'][ind]\n",
    "    ### get index in pertubed of c1 but with c2 predictions\n",
    "    ind_wrong = REPORT_plot['attack_FGSM']['y'][ind] == c2\n",
    "    ind_wrong\n",
    "    x_false_FGSM = REPORT_plot['attack_FGSM']['x'][ind][ind_wrong]\n",
    "\n",
    "\n",
    "    ax[row,0].imshow(x_false_FGSM.mean(axis=0)[0,:,:],cmap='gray')\n",
    "    ax[row,0].set_title(f\"{c1} -> {c2}\")\n",
    "    ax[row,1].imshow(np.abs(x_true.mean(axis=0)[0,:,:]-x_false_FGSM.mean(axis=0)[0,:,:])**4,cmap='plasma')\n",
    "    #ax[row,2].imshow(np.abs(x_true.mean(axis=0)[0,:,:].numpy()-x_false_PGD.mean(axis=0)[0,:,:].numpy())**4,cmap='plasma')\n",
    "    ax[row,0].set_xticks([])\n",
    "    ax[row,1].set_xticks([])\n",
    "    ax[row,0].set_yticks([])\n",
    "    ax[row,1].set_yticks([])\n",
    "    row+=1\n",
    "\n",
    "fig.tight_layout()"
   ]
  },
  {
   "cell_type": "code",
   "execution_count": 122,
   "metadata": {},
   "outputs": [],
   "source": [
    "fig.savefig('/home/sven/Downloads/Adv_example_VIT.pdf')"
   ]
  }
 ],
 "metadata": {
  "kernelspec": {
   "display_name": "torch",
   "language": "python",
   "name": "python3"
  },
  "language_info": {
   "codemirror_mode": {
    "name": "ipython",
    "version": 3
   },
   "file_extension": ".py",
   "mimetype": "text/x-python",
   "name": "python",
   "nbconvert_exporter": "python",
   "pygments_lexer": "ipython3",
   "version": "3.12.2"
  }
 },
 "nbformat": 4,
 "nbformat_minor": 2
}
