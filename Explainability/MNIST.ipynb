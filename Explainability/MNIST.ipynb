{
 "cells": [
  {
   "cell_type": "code",
   "execution_count": 6,
   "metadata": {},
   "outputs": [],
   "source": [
    "from torchvision import datasets\n",
    "import numpy as np\n",
    "import torch\n",
    "import matplotlib.pyplot as plt\n",
    "from torchvision import transforms\n",
    "from torch.utils.data import DataLoader\n",
    "from tqdm import tqdm\n",
    "from torch.utils.tensorboard import SummaryWriter\n",
    "from datetime import datetime\n",
    "import torch\n",
    "import torch.nn as nn\n",
    "import torch.optim as optim\n",
    "from vit_pytorch import ViT  # ViT model\n",
    "import os\n",
    "from torchmetrics import Accuracy\n",
    "from pathlib import Path\n",
    "from captum.attr import IntegratedGradients, GradientShap, DeepLift\n",
    "from utils import *\n",
    "device = 'cuda' if torch.cuda.is_available() else 'cpu'\n"
   ]
  },
  {
   "cell_type": "markdown",
   "metadata": {},
   "source": [
    "### Dataloader"
   ]
  },
  {
   "cell_type": "code",
   "execution_count": 2,
   "metadata": {},
   "outputs": [
    {
     "data": {
      "text/plain": [
       "(1688, 188, 313)"
      ]
     },
     "execution_count": 2,
     "metadata": {},
     "output_type": "execute_result"
    }
   ],
   "source": [
    "BATCH_SIZE = 32\n",
    "mnist_transforms = transforms.Compose([transforms.ToTensor()])\n",
    "train_val_dataset = datasets.MNIST(root=\"./datasets/\", train=True, download=False, transform=mnist_transforms)\n",
    "test_dataset = datasets.MNIST(root=\"./datasets/\", train=False, download=False, transform=mnist_transforms)\n",
    "train_val_dataset, test_dataset\n",
    "train_size = int(0.9 * len(train_val_dataset))\n",
    "val_size = len(train_val_dataset) - train_size\n",
    "train_dataset, val_dataset = torch.utils.data.random_split(dataset=train_val_dataset, lengths=[train_size, val_size])\n",
    "len(train_dataset), len(val_dataset), len(test_dataset)\n",
    "\n",
    "train_dataloader = DataLoader(dataset=train_dataset, batch_size=BATCH_SIZE, shuffle=True)\n",
    "val_dataloader = DataLoader(dataset=val_dataset, batch_size=BATCH_SIZE, shuffle=True)\n",
    "test_dataloader = DataLoader(dataset=test_dataset, batch_size=BATCH_SIZE, shuffle=True)\n",
    "len(train_dataloader), len(val_dataloader), len(test_dataloader) "
   ]
  },
  {
   "cell_type": "markdown",
   "metadata": {},
   "source": [
    "### First ViT Model"
   ]
  },
  {
   "cell_type": "code",
   "execution_count": 12,
   "metadata": {},
   "outputs": [
    {
     "name": "stderr",
     "output_type": "stream",
     "text": [
      "  7%|▋         | 1/15 [00:24<05:36, 24.06s/it]"
     ]
    },
    {
     "name": "stdout",
     "output_type": "stream",
     "text": [
      "Epoch: 1 | Train Loss: 0.67245 | Train Accuracy: 0.79541 | Val Loss: 0.18838 | Val Accuracy: 0.94614\n"
     ]
    },
    {
     "name": "stderr",
     "output_type": "stream",
     "text": [
      " 13%|█▎        | 2/15 [00:47<05:09, 23.81s/it]"
     ]
    },
    {
     "name": "stdout",
     "output_type": "stream",
     "text": [
      "Epoch: 2 | Train Loss: 0.20723 | Train Accuracy: 0.93926 | Val Loss: 0.12411 | Val Accuracy: 0.96326\n"
     ]
    },
    {
     "name": "stderr",
     "output_type": "stream",
     "text": [
      " 20%|██        | 3/15 [01:10<04:37, 23.13s/it]"
     ]
    },
    {
     "name": "stdout",
     "output_type": "stream",
     "text": [
      "Epoch: 3 | Train Loss: 0.15586 | Train Accuracy: 0.95292 | Val Loss: 0.10359 | Val Accuracy: 0.96908\n"
     ]
    },
    {
     "name": "stderr",
     "output_type": "stream",
     "text": [
      " 27%|██▋       | 4/15 [01:32<04:10, 22.80s/it]"
     ]
    },
    {
     "name": "stdout",
     "output_type": "stream",
     "text": [
      "Epoch: 4 | Train Loss: 0.12426 | Train Accuracy: 0.96233 | Val Loss: 0.08871 | Val Accuracy: 0.97307\n"
     ]
    },
    {
     "name": "stderr",
     "output_type": "stream",
     "text": [
      " 33%|███▎      | 5/15 [01:54<03:47, 22.73s/it]"
     ]
    },
    {
     "name": "stdout",
     "output_type": "stream",
     "text": [
      "Epoch: 5 | Train Loss: 0.10835 | Train Accuracy: 0.96645 | Val Loss: 0.07891 | Val Accuracy: 0.97606\n"
     ]
    },
    {
     "name": "stderr",
     "output_type": "stream",
     "text": [
      " 40%|████      | 6/15 [02:18<03:27, 23.00s/it]"
     ]
    },
    {
     "name": "stdout",
     "output_type": "stream",
     "text": [
      "Epoch: 6 | Train Loss: 0.09641 | Train Accuracy: 0.96990 | Val Loss: 0.07987 | Val Accuracy: 0.97523\n"
     ]
    },
    {
     "name": "stderr",
     "output_type": "stream",
     "text": [
      " 47%|████▋     | 7/15 [02:37<02:54, 21.80s/it]"
     ]
    },
    {
     "name": "stdout",
     "output_type": "stream",
     "text": [
      "Epoch: 7 | Train Loss: 0.08529 | Train Accuracy: 0.97340 | Val Loss: 0.07453 | Val Accuracy: 0.97689\n"
     ]
    },
    {
     "name": "stderr",
     "output_type": "stream",
     "text": [
      " 53%|█████▎    | 8/15 [02:57<02:27, 21.06s/it]"
     ]
    },
    {
     "name": "stdout",
     "output_type": "stream",
     "text": [
      "Epoch: 8 | Train Loss: 0.07556 | Train Accuracy: 0.97645 | Val Loss: 0.06897 | Val Accuracy: 0.97939\n"
     ]
    },
    {
     "name": "stderr",
     "output_type": "stream",
     "text": [
      " 60%|██████    | 9/15 [03:19<02:09, 21.56s/it]"
     ]
    },
    {
     "name": "stdout",
     "output_type": "stream",
     "text": [
      "Epoch: 9 | Train Loss: 0.07052 | Train Accuracy: 0.97795 | Val Loss: 0.06834 | Val Accuracy: 0.97939\n"
     ]
    },
    {
     "name": "stderr",
     "output_type": "stream",
     "text": [
      " 67%|██████▋   | 10/15 [03:39<01:44, 20.96s/it]"
     ]
    },
    {
     "name": "stdout",
     "output_type": "stream",
     "text": [
      "Epoch: 10 | Train Loss: 0.06371 | Train Accuracy: 0.98002 | Val Loss: 0.06547 | Val Accuracy: 0.98072\n"
     ]
    },
    {
     "name": "stderr",
     "output_type": "stream",
     "text": [
      " 73%|███████▎  | 11/15 [03:59<01:23, 20.79s/it]"
     ]
    },
    {
     "name": "stdout",
     "output_type": "stream",
     "text": [
      "Epoch: 11 | Train Loss: 0.05945 | Train Accuracy: 0.98104 | Val Loss: 0.06326 | Val Accuracy: 0.98155\n"
     ]
    },
    {
     "name": "stderr",
     "output_type": "stream",
     "text": [
      " 80%|████████  | 12/15 [04:22<01:04, 21.42s/it]"
     ]
    },
    {
     "name": "stdout",
     "output_type": "stream",
     "text": [
      "Epoch: 12 | Train Loss: 0.05435 | Train Accuracy: 0.98258 | Val Loss: 0.06141 | Val Accuracy: 0.98105\n"
     ]
    },
    {
     "name": "stderr",
     "output_type": "stream",
     "text": [
      " 87%|████████▋ | 13/15 [04:45<00:43, 21.80s/it]"
     ]
    },
    {
     "name": "stdout",
     "output_type": "stream",
     "text": [
      "Epoch: 13 | Train Loss: 0.04922 | Train Accuracy: 0.98449 | Val Loss: 0.06474 | Val Accuracy: 0.98172\n"
     ]
    },
    {
     "name": "stderr",
     "output_type": "stream",
     "text": [
      " 93%|█████████▎| 14/15 [05:07<00:21, 21.77s/it]"
     ]
    },
    {
     "name": "stdout",
     "output_type": "stream",
     "text": [
      "Epoch: 14 | Train Loss: 0.04630 | Train Accuracy: 0.98515 | Val Loss: 0.06162 | Val Accuracy: 0.98305\n"
     ]
    },
    {
     "name": "stderr",
     "output_type": "stream",
     "text": [
      "100%|██████████| 15/15 [05:30<00:00, 22.00s/it]"
     ]
    },
    {
     "name": "stdout",
     "output_type": "stream",
     "text": [
      "Epoch: 15 | Train Loss: 0.04370 | Train Accuracy: 0.98554 | Val Loss: 0.06028 | Val Accuracy: 0.98105\n"
     ]
    },
    {
     "name": "stderr",
     "output_type": "stream",
     "text": [
      "\n"
     ]
    }
   ],
   "source": [
    "# Experiment tracking setup\n",
    "timestamp = datetime.now().strftime(\"%Y-%m-%d\")\n",
    "experiment_name = \"MNIST\"\n",
    "model_name = \"VisionTransformer_v1\"\n",
    "log_dir = os.path.join(\"runs\", timestamp, experiment_name, model_name)\n",
    "writer = SummaryWriter(log_dir)\n",
    "\n",
    "# Device setup\n",
    "device = 'cuda' if torch.cuda.is_available() else 'cpu'\n",
    "\n",
    "model_vit = ViT(\n",
    "    image_size=28,       # MNIST images are 28x28\n",
    "    patch_size=4,        # 4 patches per dimension (28/7)\n",
    "    num_classes=10,      # 10 output classes for digits 0-9\n",
    "    dim=64,             # Embedding dimension\n",
    "    depth=6,             # Number of transformer layers\n",
    "    heads=8,             # Number of attention heads\n",
    "    mlp_dim=128,         # Hidden dimension in MLP layers\n",
    "    dropout=0.1,         # Dropout rate in transformer\n",
    "    emb_dropout=0.1,     # Dropout rate for embeddings\n",
    "    channels = 1\n",
    ").to(device)\n",
    "\n",
    "loss_fn = nn.CrossEntropyLoss()\n",
    "optimizer = optim.Adam(model_vit.parameters(), lr=1e-4)\n",
    "\n",
    "\n",
    "\n",
    "accuracy = Accuracy(task='multiclass', num_classes=10).to(device)\n",
    "# Training and Validation Loops\n",
    "EPOCHS = 15\n",
    "for epoch in tqdm(range(EPOCHS)):\n",
    "    # Training Loop\n",
    "    train_loss, train_acc = 0.0, 0.0\n",
    "    model_vit.train()\n",
    "    torch.manual_seed(epoch)\n",
    "    for X, y in train_dataloader:\n",
    "        X, y = X.to(device), y.to(device)\n",
    "       # print(X.shape)\n",
    "        optimizer.zero_grad()\n",
    "        \n",
    "        # Forward pass\n",
    "        y_pred = model_vit(X)\n",
    "        loss = loss_fn(y_pred, y)\n",
    "        train_loss += loss.item()\n",
    "        train_acc += accuracy(y_pred, y)\n",
    "        \n",
    "        # Backward pass and optimization\n",
    "        loss.backward()\n",
    "        optimizer.step()\n",
    "\n",
    "    # Average metrics\n",
    "    train_loss /= len(train_dataloader)\n",
    "    train_acc /= len(train_dataloader)\n",
    "\n",
    "    # Validation Loop\n",
    "    val_loss, val_acc = 0.0, 0.0\n",
    "    model_vit.eval()\n",
    "    torch.manual_seed(epoch)\n",
    "    with torch.no_grad():\n",
    "        for X, y in val_dataloader:\n",
    "            X, y = X.to(device), y.to(device)\n",
    "            \n",
    "            # Forward pass\n",
    "            y_pred = model_vit(X)\n",
    "            loss = loss_fn(y_pred, y)\n",
    "            val_loss += loss.item()\n",
    "            val_acc += accuracy(y_pred, y)\n",
    "\n",
    "    # Average metrics\n",
    "    val_loss /= len(val_dataloader)\n",
    "    val_acc /= len(val_dataloader)\n",
    "\n",
    "    # Log metrics to TensorBoard\n",
    "    writer.add_scalars(main_tag=\"Loss\", tag_scalar_dict={\"train/loss\": train_loss, \"val/loss\": val_loss}, global_step=epoch)\n",
    "    writer.add_scalars(main_tag=\"Accuracy\", tag_scalar_dict={\"train/acc\": train_acc, \"val/acc\": val_acc}, global_step=epoch)\n",
    "\n",
    "    # Print progress\n",
    "    print(f\"Epoch: {epoch+1} | Train Loss: {train_loss:.5f} | Train Accuracy: {train_acc:.5f} | Val Loss: {val_loss:.5f} | Val Accuracy: {val_acc:.5f}\")"
   ]
  },
  {
   "cell_type": "code",
   "execution_count": 4,
   "metadata": {},
   "outputs": [],
   "source": [
    "MODEL_PATH = Path(\"models\")\n",
    "MODEL_PATH.mkdir(parents=True, exist_ok=True)\n",
    "MODEL_NAME = \"ViT_v1_mnist.pth\"\n",
    "MODEL_SAVE_PATH = MODEL_PATH / MODEL_NAME\n",
    "#Saving the model\n",
    "#print(f\"Saving the model: {MODEL_SAVE_PATH}\")\n",
    "#torch.save(obj=model_vit.state_dict(), f=MODEL_SAVE_PATH)"
   ]
  },
  {
   "cell_type": "code",
   "execution_count": 7,
   "metadata": {},
   "outputs": [
    {
     "name": "stderr",
     "output_type": "stream",
     "text": [
      "C:\\Users\\Sven Jacob\\AppData\\Local\\Temp\\ipykernel_13408\\609405720.py:15: FutureWarning: You are using `torch.load` with `weights_only=False` (the current default value), which uses the default pickle module implicitly. It is possible to construct malicious pickle data which will execute arbitrary code during unpickling (See https://github.com/pytorch/pytorch/blob/main/SECURITY.md#untrusted-models for more details). In a future release, the default value for `weights_only` will be flipped to `True`. This limits the functions that could be executed during unpickling. Arbitrary objects will no longer be allowed to be loaded via this mode unless they are explicitly allowlisted by the user via `torch.serialization.add_safe_globals`. We recommend you start setting `weights_only=True` for any use case where you don't have full control of the loaded file. Please open an issue on GitHub for any issues related to this experimental feature.\n",
      "  model_ViT_mnist_loaded.load_state_dict(torch.load(MODEL_SAVE_PATH))\n"
     ]
    },
    {
     "data": {
      "text/plain": [
       "<All keys matched successfully>"
      ]
     },
     "execution_count": 7,
     "metadata": {},
     "output_type": "execute_result"
    }
   ],
   "source": [
    "#Loading the saved model\n",
    "model_ViT_mnist_loaded = ViT(\n",
    "    image_size=28,       # MNIST images are 28x28\n",
    "    patch_size=4,        # 4 patches per dimension (28/7)\n",
    "    num_classes=10,      # 10 output classes for digits 0-9\n",
    "    dim=64,             # Embedding dimension\n",
    "    depth=6,             # Number of transformer layers\n",
    "    heads=8,             # Number of attention heads\n",
    "    mlp_dim=128,         # Hidden dimension in MLP layers\n",
    "    dropout=0.1,         # Dropout rate in transformer\n",
    "    emb_dropout=0.1,     # Dropout rate for embeddings\n",
    "    channels = 1\n",
    ").to(device)\n",
    "\n",
    "model_ViT_mnist_loaded.load_state_dict(torch.load(MODEL_SAVE_PATH))\n"
   ]
  },
  {
   "cell_type": "markdown",
   "metadata": {},
   "source": [
    "### Feature Attributions for first ViT model"
   ]
  },
  {
   "cell_type": "code",
   "execution_count": 8,
   "metadata": {},
   "outputs": [
    {
     "name": "stderr",
     "output_type": "stream",
     "text": [
      "  0%|          | 0/313 [00:00<?, ?it/s]c:\\Users\\Sven Jacob\\miniconda3\\envs\\torch\\Lib\\site-packages\\captum\\attr\\_core\\deep_lift.py:304: UserWarning: Setting forward, backward hooks and attributes on non-linear\n",
      "               activations. The hooks and attributes will be removed\n",
      "            after the attribution is finished\n",
      "  warnings.warn(\n",
      "100%|██████████| 313/313 [01:20<00:00,  3.89it/s]\n"
     ]
    }
   ],
   "source": [
    "model_loaded = model_ViT_mnist_loaded.to(device)\n",
    "\n",
    "ig = IntegratedGradients(model_loaded)\n",
    "gs = GradientShap(model_loaded)\n",
    "dl = DeepLift(model_loaded)\n",
    "\n",
    "all_attributions_ig = []\n",
    "all_labels = []\n",
    "all_attributions_gs = []\n",
    "all_attributions_ks = []\n",
    "all_attributions_dl = []\n",
    "all_batches= []\n",
    "model_loaded.eval()\n",
    "torch.manual_seed(210)\n",
    "for batch_samples, batch_labels in tqdm(test_dataloader):\n",
    "    # Ensure samples have the correct shape\n",
    "    batch_labels = batch_labels.to(device)\n",
    "    batch_samples = batch_samples.requires_grad_().to(device) # Enable gradients for attribution\n",
    "    baseline_dist = torch.zeros((batch_samples.shape[0],1,28,28)).to(device)\n",
    "    \n",
    "\n",
    "    # Calculate the attributions for each sample in the batch\n",
    "    attributions, deltas = ig.attribute(batch_samples, target=batch_labels, return_convergence_delta=True)\n",
    "\n",
    "    \n",
    "    # Append attributions and labels for further analysis\n",
    "\n",
    "    all_attributions_ig.append(attributions)\n",
    "    all_labels.append(batch_labels)\n",
    "    all_batches.append(batch_samples.detach())\n",
    "    attributions_gs, deltas = gs.attribute(batch_samples, target=batch_labels,  baselines=baseline_dist,return_convergence_delta=True)\n",
    "    all_attributions_gs.append(attributions_gs)\n",
    "    \n",
    "\n",
    "    attributions_dl = dl.attribute(batch_samples, target=batch_labels)\n",
    "    all_attributions_dl.append(attributions_dl)\n",
    "\n",
    "\n",
    "# Concatenate all attributions and labels\n",
    "all_attributions_ig = torch.cat(all_attributions_ig, dim=0)  \n",
    "all_labels = torch.cat(all_labels, dim=0)\n",
    "\n",
    "all_attributions_gs = torch.cat(all_attributions_gs, dim=0)\n",
    "all_attributions_dl = torch.cat(all_attributions_dl, dim=0)\n",
    "\n",
    "all_batches = torch.cat(all_batches,dim=0)"
   ]
  },
  {
   "cell_type": "code",
   "execution_count": 9,
   "metadata": {},
   "outputs": [],
   "source": [
    "def filter_explanations(C1,C2,all_attributions_ig,all_attributions_dl,all_attributions_gs,all_labels):\n",
    "    data={'X':[],'Y':[],'Features':[],'IG':[],'GS':[],'DL':[]}\n",
    "    for c1,c2 in zip(C1,C2):\n",
    "        data['IG'].append(torch.abs(all_attributions_ig[all_labels ==c1 ].mean(axis=0)-all_attributions_ig[all_labels ==c2 ].mean(axis=0)).cpu().detach().numpy())\n",
    "        data['DL'].append(torch.abs(all_attributions_dl[all_labels ==c1 ].mean(axis=0)-all_attributions_dl[all_labels ==c2 ].mean(axis=0)).cpu().detach().numpy())\n",
    "        data['GS'].append(torch.abs(all_attributions_gs[all_labels ==c1 ].mean(axis=0)-all_attributions_gs[all_labels ==c2 ].mean(axis=0)).cpu().detach().numpy())\n",
    "\n",
    "        data_X = all_batches[all_labels==c1].mean(axis=0)[0,:,:]\n",
    "        data_Y = all_batches[all_labels==c2].mean(axis=0)[0,:,:]\n",
    "\n",
    "        data['X'].append(data_X)\n",
    "        data['Y'].append(data_Y)\n",
    "\n",
    "        rf, _, _ = remove_important_features(data_X.cpu().detach().numpy().reshape(1,784),data_Y.cpu().detach().numpy().reshape(1,784),250,1000)\n",
    "\n",
    "        Features = np.zeros(784)\n",
    "        f_id = []\n",
    "        contributions = []\n",
    "        k=1\n",
    "        for d in rf:\n",
    "            i = d[\"removed_feature\"]\n",
    "            Features[i] = 1/(np.log(k+1)**3)\n",
    "            k+=0.075\n",
    "            f_id.append(i)\n",
    "            contributions.append(d['contribution_value'])\n",
    "        data['Features'].append(Features)\n",
    "\n",
    "    return data\n",
    "\n",
    "\n",
    "def plot_MNIST_explanations(n_rows,n_cols,data):\n",
    "    fig, ax = plt.subplots(n_rows,n_cols,figsize=(12,6))\n",
    "    \n",
    "    for i in range(n_rows):\n",
    "        data_X = data['X'][i]\n",
    "        data_Y = data['Y'][i]\n",
    "        Features = data['Features'][i]\n",
    "        ig_plot = data['IG'][i]\n",
    "        gs_plot = data['GS'][i]\n",
    "        dl_plot = data['DL'][i]\n",
    "        ###first row set titles\n",
    "        if i==0:\n",
    "            ax[i,0].set_title('Before Drift',fontsize=17)\n",
    "            ax[i,1].set_title('After Drift',fontsize=17)\n",
    "            ax[i,2].set_title('SWD',fontsize=17)\n",
    "            ax[i,3].set_title('IG',fontsize=17)\n",
    "            ax[i,4].set_title('Grad SHAP',fontsize=17)\n",
    "            ax[i,5].set_title('DeepLift',fontsize=17)\n",
    "\n",
    "        ax[i,0].imshow(data_X.cpu().numpy(),cmap='gray')\n",
    "        ax[i,0].set_xticks([])\n",
    "        ax[i,0].set_yticks([])\n",
    "        ax[i,1].imshow(data_Y.cpu().numpy(),cmap='gray')\n",
    "        ax[i,1].set_xticks([])\n",
    "        ax[i,1].set_yticks([])\n",
    "        ax[i,2].imshow(np.float64(Features.reshape(28,28)),cmap='plasma')\n",
    "        ax[i,2].set_xticks([])\n",
    "        ax[i,2].set_yticks([])\n",
    "        ax[i,3].imshow(ig_plot[0,:,:],cmap='plasma')\n",
    "        ax[i,3].set_xticks([])\n",
    "        ax[i,3].set_yticks([])\n",
    "        ax[i,4].imshow(gs_plot[0,:,:], cmap='plasma')\n",
    "        ax[i,4].set_xticks([])\n",
    "        ax[i,4].set_yticks([])\n",
    "        ax[i,5].imshow(dl_plot[0,:,:], cmap='plasma')\n",
    "        ax[i,5].set_xticks([])\n",
    "        ax[i,5].set_yticks([])\n",
    "    \n",
    "\n",
    "    fig.tight_layout()\n",
    "\n",
    "    return fig"
   ]
  },
  {
   "cell_type": "code",
   "execution_count": 10,
   "metadata": {},
   "outputs": [
    {
     "data": {
      "image/png": "[encoded data removed]",
      "text/plain": [
       "<Figure size 1200x600 with 18 Axes>"
      ]
     },
     "metadata": {},
     "output_type": "display_data"
    }
   ],
   "source": [
    "data = filter_explanations([5,7,9],[6,1,3],all_attributions_ig,all_attributions_dl,all_attributions_gs,all_labels)\n",
    "fig = plot_MNIST_explanations(3,6,data)"
   ]
  },
  {
   "cell_type": "markdown",
   "metadata": {},
   "source": [
    "### Second ViT model"
   ]
  },
  {
   "cell_type": "code",
   "execution_count": 18,
   "metadata": {},
   "outputs": [
    {
     "name": "stderr",
     "output_type": "stream",
     "text": [
      "  7%|▋         | 1/15 [00:19<04:27, 19.11s/it]"
     ]
    },
    {
     "name": "stdout",
     "output_type": "stream",
     "text": [
      "Epoch: 1 | Train Loss: 0.58614 | Train Accuracy: 0.82868 | Val Loss: 0.18049 | Val Accuracy: 0.95213\n"
     ]
    },
    {
     "name": "stderr",
     "output_type": "stream",
     "text": [
      " 13%|█▎        | 2/15 [00:37<04:04, 18.80s/it]"
     ]
    },
    {
     "name": "stdout",
     "output_type": "stream",
     "text": [
      "Epoch: 2 | Train Loss: 0.19785 | Train Accuracy: 0.94339 | Val Loss: 0.12639 | Val Accuracy: 0.96393\n"
     ]
    },
    {
     "name": "stderr",
     "output_type": "stream",
     "text": [
      " 20%|██        | 3/15 [00:55<03:42, 18.53s/it]"
     ]
    },
    {
     "name": "stdout",
     "output_type": "stream",
     "text": [
      "Epoch: 3 | Train Loss: 0.14493 | Train Accuracy: 0.95640 | Val Loss: 0.09967 | Val Accuracy: 0.96809\n"
     ]
    },
    {
     "name": "stderr",
     "output_type": "stream",
     "text": [
      " 27%|██▋       | 4/15 [01:14<03:23, 18.53s/it]"
     ]
    },
    {
     "name": "stdout",
     "output_type": "stream",
     "text": [
      "Epoch: 4 | Train Loss: 0.11949 | Train Accuracy: 0.96323 | Val Loss: 0.08961 | Val Accuracy: 0.97291\n"
     ]
    },
    {
     "name": "stderr",
     "output_type": "stream",
     "text": [
      " 33%|███▎      | 5/15 [01:34<03:10, 19.04s/it]"
     ]
    },
    {
     "name": "stdout",
     "output_type": "stream",
     "text": [
      "Epoch: 5 | Train Loss: 0.09859 | Train Accuracy: 0.96997 | Val Loss: 0.08896 | Val Accuracy: 0.97357\n"
     ]
    },
    {
     "name": "stderr",
     "output_type": "stream",
     "text": [
      " 40%|████      | 6/15 [01:57<03:03, 20.42s/it]"
     ]
    },
    {
     "name": "stdout",
     "output_type": "stream",
     "text": [
      "Epoch: 6 | Train Loss: 0.08807 | Train Accuracy: 0.97221 | Val Loss: 0.07903 | Val Accuracy: 0.97540\n"
     ]
    },
    {
     "name": "stderr",
     "output_type": "stream",
     "text": [
      " 47%|████▋     | 7/15 [02:15<02:37, 19.74s/it]"
     ]
    },
    {
     "name": "stdout",
     "output_type": "stream",
     "text": [
      "Epoch: 7 | Train Loss: 0.07868 | Train Accuracy: 0.97571 | Val Loss: 0.07771 | Val Accuracy: 0.97806\n"
     ]
    },
    {
     "name": "stderr",
     "output_type": "stream",
     "text": [
      " 53%|█████▎    | 8/15 [02:35<02:16, 19.57s/it]"
     ]
    },
    {
     "name": "stdout",
     "output_type": "stream",
     "text": [
      "Epoch: 8 | Train Loss: 0.06964 | Train Accuracy: 0.97754 | Val Loss: 0.07062 | Val Accuracy: 0.97856\n"
     ]
    },
    {
     "name": "stderr",
     "output_type": "stream",
     "text": [
      " 60%|██████    | 9/15 [02:57<02:02, 20.36s/it]"
     ]
    },
    {
     "name": "stdout",
     "output_type": "stream",
     "text": [
      "Epoch: 9 | Train Loss: 0.06114 | Train Accuracy: 0.98002 | Val Loss: 0.06425 | Val Accuracy: 0.98138\n"
     ]
    },
    {
     "name": "stderr",
     "output_type": "stream",
     "text": [
      " 67%|██████▋   | 10/15 [03:18<01:43, 20.74s/it]"
     ]
    },
    {
     "name": "stdout",
     "output_type": "stream",
     "text": [
      "Epoch: 10 | Train Loss: 0.05730 | Train Accuracy: 0.98147 | Val Loss: 0.06863 | Val Accuracy: 0.97955\n"
     ]
    },
    {
     "name": "stderr",
     "output_type": "stream",
     "text": [
      " 73%|███████▎  | 11/15 [03:38<01:22, 20.58s/it]"
     ]
    },
    {
     "name": "stdout",
     "output_type": "stream",
     "text": [
      "Epoch: 11 | Train Loss: 0.05020 | Train Accuracy: 0.98391 | Val Loss: 0.06688 | Val Accuracy: 0.98039\n"
     ]
    },
    {
     "name": "stderr",
     "output_type": "stream",
     "text": [
      " 80%|████████  | 12/15 [03:59<01:02, 20.70s/it]"
     ]
    },
    {
     "name": "stdout",
     "output_type": "stream",
     "text": [
      "Epoch: 12 | Train Loss: 0.04727 | Train Accuracy: 0.98480 | Val Loss: 0.06569 | Val Accuracy: 0.98072\n"
     ]
    },
    {
     "name": "stderr",
     "output_type": "stream",
     "text": [
      " 87%|████████▋ | 13/15 [04:19<00:40, 20.47s/it]"
     ]
    },
    {
     "name": "stdout",
     "output_type": "stream",
     "text": [
      "Epoch: 13 | Train Loss: 0.04367 | Train Accuracy: 0.98569 | Val Loss: 0.06458 | Val Accuracy: 0.98388\n"
     ]
    },
    {
     "name": "stderr",
     "output_type": "stream",
     "text": [
      " 93%|█████████▎| 14/15 [04:40<00:20, 20.67s/it]"
     ]
    },
    {
     "name": "stdout",
     "output_type": "stream",
     "text": [
      "Epoch: 14 | Train Loss: 0.03777 | Train Accuracy: 0.98774 | Val Loss: 0.06079 | Val Accuracy: 0.98338\n"
     ]
    },
    {
     "name": "stderr",
     "output_type": "stream",
     "text": [
      "100%|██████████| 15/15 [05:02<00:00, 20.17s/it]"
     ]
    },
    {
     "name": "stdout",
     "output_type": "stream",
     "text": [
      "Epoch: 15 | Train Loss: 0.03673 | Train Accuracy: 0.98793 | Val Loss: 0.06420 | Val Accuracy: 0.98321\n",
      "Saving the model: models\\ViT_v2_mnist.pth\n"
     ]
    },
    {
     "name": "stderr",
     "output_type": "stream",
     "text": [
      "\n"
     ]
    }
   ],
   "source": [
    "# Experiment tracking setup\n",
    "timestamp = datetime.now().strftime(\"%Y-%m-%d\")\n",
    "experiment_name = \"MNIST\"\n",
    "model_name = \"VisionTransformer_v2\"\n",
    "log_dir = os.path.join(\"runs\", timestamp, experiment_name, model_name)\n",
    "writer = SummaryWriter(log_dir)\n",
    "\n",
    "# Device setup\n",
    "device = 'cuda' if torch.cuda.is_available() else 'cpu'\n",
    "\n",
    "model_vit = ViT(\n",
    "    image_size=28,       # MNIST images are 28x28\n",
    "    patch_size=7,        # 4 patches per dimension (28/7)\n",
    "    num_classes=10,      # 10 output classes for digits 0-9\n",
    "    dim=64,             # Embedding dimension\n",
    "    depth=6,             # Number of transformer layers\n",
    "    heads=8,             # Number of attention heads\n",
    "    mlp_dim=128,         # Hidden dimension in MLP layers\n",
    "    dropout=0.1,         # Dropout rate in transformer\n",
    "    emb_dropout=0.1,     # Dropout rate for embeddings\n",
    "    channels = 1\n",
    ").to(device)\n",
    "\n",
    "loss_fn = nn.CrossEntropyLoss()\n",
    "optimizer = optim.Adam(model_vit.parameters(), lr=1e-4)\n",
    "\n",
    "\n",
    "\n",
    "accuracy = Accuracy(task='multiclass', num_classes=10).to(device)\n",
    "# Training and Validation Loops\n",
    "EPOCHS = 15\n",
    "for epoch in tqdm(range(EPOCHS)):\n",
    "    # Training Loop\n",
    "    train_loss, train_acc = 0.0, 0.0\n",
    "    model_vit.train()\n",
    "    torch.manual_seed(epoch)\n",
    "    for X, y in train_dataloader:\n",
    "        X, y = X.to(device), y.to(device)\n",
    "       # print(X.shape)\n",
    "        optimizer.zero_grad()\n",
    "        \n",
    "        # Forward pass\n",
    "        y_pred = model_vit(X)\n",
    "        loss = loss_fn(y_pred, y)\n",
    "        train_loss += loss.item()\n",
    "        train_acc += accuracy(y_pred, y)\n",
    "        \n",
    "        # Backward pass and optimization\n",
    "        loss.backward()\n",
    "        optimizer.step()\n",
    "\n",
    "    # Average metrics\n",
    "    train_loss /= len(train_dataloader)\n",
    "    train_acc /= len(train_dataloader)\n",
    "\n",
    "    # Validation Loop\n",
    "    val_loss, val_acc = 0.0, 0.0\n",
    "    model_vit.eval()\n",
    "    torch.manual_seed(epoch)\n",
    "    with torch.no_grad():\n",
    "        for X, y in val_dataloader:\n",
    "            X, y = X.to(device), y.to(device)\n",
    "            \n",
    "            # Forward pass\n",
    "            y_pred = model_vit(X)\n",
    "            loss = loss_fn(y_pred, y)\n",
    "            val_loss += loss.item()\n",
    "            val_acc += accuracy(y_pred, y)\n",
    "\n",
    "    # Average metrics\n",
    "    val_loss /= len(val_dataloader)\n",
    "    val_acc /= len(val_dataloader)\n",
    "\n",
    "    # Log metrics to TensorBoard\n",
    "    writer.add_scalars(main_tag=\"Loss\", tag_scalar_dict={\"train/loss\": train_loss, \"val/loss\": val_loss}, global_step=epoch)\n",
    "    writer.add_scalars(main_tag=\"Accuracy\", tag_scalar_dict={\"train/acc\": train_acc, \"val/acc\": val_acc}, global_step=epoch)\n",
    "\n",
    "    # Print progress\n",
    "    print(f\"Epoch: {epoch+1} | Train Loss: {train_loss:.5f} | Train Accuracy: {train_acc:.5f} | Val Loss: {val_loss:.5f} | Val Accuracy: {val_acc:.5f}\")\n",
    "\n",
    "\n",
    "MODEL_PATH = Path(\"models\")\n",
    "MODEL_PATH.mkdir(parents=True, exist_ok=True)\n",
    "MODEL_NAME = \"ViT_v2_mnist.pth\"\n",
    "MODEL_SAVE_PATH = MODEL_PATH / MODEL_NAME\n",
    "#Saving the model\n",
    "print(f\"Saving the model: {MODEL_SAVE_PATH}\")\n",
    "torch.save(obj=model_vit.state_dict(), f=MODEL_SAVE_PATH)  "
   ]
  },
  {
   "cell_type": "code",
   "execution_count": 11,
   "metadata": {},
   "outputs": [
    {
     "name": "stderr",
     "output_type": "stream",
     "text": [
      "C:\\Users\\Sven Jacob\\AppData\\Local\\Temp\\ipykernel_13408\\3303951566.py:19: FutureWarning: You are using `torch.load` with `weights_only=False` (the current default value), which uses the default pickle module implicitly. It is possible to construct malicious pickle data which will execute arbitrary code during unpickling (See https://github.com/pytorch/pytorch/blob/main/SECURITY.md#untrusted-models for more details). In a future release, the default value for `weights_only` will be flipped to `True`. This limits the functions that could be executed during unpickling. Arbitrary objects will no longer be allowed to be loaded via this mode unless they are explicitly allowlisted by the user via `torch.serialization.add_safe_globals`. We recommend you start setting `weights_only=True` for any use case where you don't have full control of the loaded file. Please open an issue on GitHub for any issues related to this experimental feature.\n",
      "  model_ViT_mnist_loaded_v2.load_state_dict(torch.load(MODEL_SAVE_PATH))\n"
     ]
    },
    {
     "data": {
      "text/plain": [
       "<All keys matched successfully>"
      ]
     },
     "execution_count": 11,
     "metadata": {},
     "output_type": "execute_result"
    }
   ],
   "source": [
    "MODEL_PATH = Path(\"models\")\n",
    "MODEL_PATH.mkdir(parents=True, exist_ok=True)\n",
    "MODEL_NAME = \"ViT_v2_mnist.pth\"\n",
    "MODEL_SAVE_PATH = MODEL_PATH / MODEL_NAME\n",
    "\n",
    "#Loading the saved model\n",
    "model_ViT_mnist_loaded_v2 = ViT(\n",
    "    image_size=28,       # MNIST images are 28x28\n",
    "    patch_size=7,        # 4 patches per dimension (28/7)\n",
    "    num_classes=10,      # 10 output classes for digits 0-9\n",
    "    dim=64,             # Embedding dimension\n",
    "    depth=6,             # Number of transformer layers\n",
    "    heads=8,             # Number of attention heads\n",
    "    mlp_dim=128,         # Hidden dimension in MLP layers\n",
    "    dropout=0.1,         # Dropout rate in transformer\n",
    "    emb_dropout=0.1,     # Dropout rate for embeddings\n",
    "    channels = 1\n",
    ").to(device)\n",
    "model_ViT_mnist_loaded_v2.load_state_dict(torch.load(MODEL_SAVE_PATH))\n"
   ]
  },
  {
   "cell_type": "code",
   "execution_count": 12,
   "metadata": {},
   "outputs": [
    {
     "name": "stderr",
     "output_type": "stream",
     "text": [
      "100%|██████████| 313/313 [01:14<00:00,  4.20it/s]\n"
     ]
    }
   ],
   "source": [
    "model_loaded = model_ViT_mnist_loaded_v2.to(device)\n",
    "\n",
    "ig = IntegratedGradients(model_loaded)\n",
    "gs = GradientShap(model_loaded)\n",
    "dl = DeepLift(model_loaded)\n",
    "\n",
    "all_attributions_ig = []\n",
    "all_labels = []\n",
    "all_attributions_gs = []\n",
    "all_attributions_ks = []\n",
    "all_attributions_dl = []\n",
    "all_batches= []\n",
    "model_loaded.eval()\n",
    "torch.manual_seed(210)\n",
    "for batch_samples, batch_labels in tqdm(test_dataloader):\n",
    "    # Ensure samples have the correct shape\n",
    "    batch_labels = batch_labels.to(device)\n",
    "    batch_samples = batch_samples.requires_grad_().to(device) # Enable gradients for attribution\n",
    "    baseline_dist = torch.zeros((batch_samples.shape[0],1,28,28)).to(device)\n",
    "    \n",
    "\n",
    "    # Calculate the attributions for each sample in the batch\n",
    "    attributions, deltas = ig.attribute(batch_samples, target=batch_labels, return_convergence_delta=True)\n",
    "\n",
    "    \n",
    "    # Append attributions and labels for further analysis\n",
    "\n",
    "    all_attributions_ig.append(attributions)\n",
    "    all_labels.append(batch_labels)\n",
    "    all_batches.append(batch_samples.detach())\n",
    "    attributions_gs, deltas = gs.attribute(batch_samples, target=batch_labels,  baselines=baseline_dist,return_convergence_delta=True)\n",
    "    all_attributions_gs.append(attributions_gs)\n",
    "    \n",
    "\n",
    "    attributions_dl = dl.attribute(batch_samples, target=batch_labels)\n",
    "    all_attributions_dl.append(attributions_dl)\n",
    "\n",
    "\n",
    "# Concatenate all attributions and labels\n",
    "all_attributions_ig = torch.cat(all_attributions_ig, dim=0)  \n",
    "all_labels = torch.cat(all_labels, dim=0)\n",
    "\n",
    "all_attributions_gs = torch.cat(all_attributions_gs, dim=0)\n",
    "all_attributions_dl = torch.cat(all_attributions_dl, dim=0)\n",
    "\n",
    "all_batches = torch.cat(all_batches,dim=0)"
   ]
  },
  {
   "cell_type": "code",
   "execution_count": 13,
   "metadata": {},
   "outputs": [
    {
     "data": {
      "image/png": "[encoded data removed]",
      "text/plain": [
       "<Figure size 1200x600 with 18 Axes>"
      ]
     },
     "metadata": {},
     "output_type": "display_data"
    }
   ],
   "source": [
    "data = filter_explanations([5,7,9],[6,1,3],all_attributions_ig,all_attributions_dl,all_attributions_gs,all_labels)\n",
    "fig = plot_MNIST_explanations(3,6,data)"
   ]
  },
  {
   "cell_type": "markdown",
   "metadata": {},
   "source": [
    "### CNN"
   ]
  },
  {
   "cell_type": "code",
   "execution_count": 14,
   "metadata": {},
   "outputs": [],
   "source": [
    "class LeNet5V1(nn.Module):\n",
    "    def __init__(self):\n",
    "        super().__init__()\n",
    "        self.feature = nn.Sequential(\n",
    "            #1\n",
    "            nn.Conv2d(in_channels=1, out_channels=6, kernel_size=5, stride=1, padding=2),   # 28*28->32*32-->28*28\n",
    "            nn.Tanh(),\n",
    "            nn.AvgPool2d(kernel_size=2, stride=2),  # 14*14\n",
    "            \n",
    "            #2\n",
    "            nn.Conv2d(in_channels=6, out_channels=16, kernel_size=5, stride=1),  # 10*10\n",
    "            nn.Tanh(),\n",
    "            nn.AvgPool2d(kernel_size=2, stride=2),  # 5*5\n",
    "            \n",
    "        )\n",
    "        self.classifier = nn.Sequential(\n",
    "            nn.Flatten(),\n",
    "            nn.Linear(in_features=16*5*5, out_features=120),\n",
    "            nn.Tanh(),\n",
    "            nn.Linear(in_features=120, out_features=84),\n",
    "            nn.Tanh(),\n",
    "            nn.Linear(in_features=84, out_features=10),\n",
    "        )\n",
    "        \n",
    "    def forward(self, x):\n",
    "        return self.classifier(self.feature(x))"
   ]
  },
  {
   "cell_type": "code",
   "execution_count": null,
   "metadata": {},
   "outputs": [
    {
     "name": "stdout",
     "output_type": "stream",
     "text": [
      "Saving the model: models\\LENeT5_mnist.pth\n"
     ]
    }
   ],
   "source": [
    "# Experiment tracking setup\n",
    "timestamp = datetime.now().strftime(\"%Y-%m-%d\")\n",
    "experiment_name = \"MNIST\"\n",
    "model_name = \"LeNet5\"\n",
    "log_dir = os.path.join(\"runs\", timestamp, experiment_name, model_name)\n",
    "writer = SummaryWriter(log_dir)\n",
    "\n",
    "# Device setup\n",
    "device = 'cuda' if torch.cuda.is_available() else 'cpu'\n",
    "\n",
    "model_lenet5 = LeNet5V1().to(device)\n",
    "\n",
    "loss_fn = nn.CrossEntropyLoss()\n",
    "optimizer = optim.Adam(model_lenet5.parameters(), lr=1e-4)\n",
    "\n",
    "\n",
    "\n",
    "accuracy = Accuracy(task='multiclass', num_classes=10).to(device)\n",
    "# Training and Validation Loops\n",
    "EPOCHS = 15\n",
    "for epoch in tqdm(range(EPOCHS)):\n",
    "    # Training Loop\n",
    "    train_loss, train_acc = 0.0, 0.0\n",
    "    model_lenet5.train()\n",
    "    torch.manual_seed(epoch)\n",
    "    for X, y in train_dataloader:\n",
    "        X, y = X.to(device), y.to(device)\n",
    "       # print(X.shape)\n",
    "        optimizer.zero_grad()\n",
    "        \n",
    "        # Forward pass\n",
    "        y_pred = model_lenet5(X)\n",
    "        loss = loss_fn(y_pred, y)\n",
    "        train_loss += loss.item()\n",
    "        train_acc += accuracy(y_pred, y)\n",
    "        \n",
    "        # Backward pass and optimization\n",
    "        loss.backward()\n",
    "        optimizer.step()\n",
    "\n",
    "    # Average metrics\n",
    "    train_loss /= len(train_dataloader)\n",
    "    train_acc /= len(train_dataloader)\n",
    "\n",
    "    # Validation Loop\n",
    "    val_loss, val_acc = 0.0, 0.0\n",
    "    model_lenet5.eval()\n",
    "    torch.manual_seed(epoch)\n",
    "    with torch.no_grad():\n",
    "        for X, y in val_dataloader:\n",
    "            X, y = X.to(device), y.to(device)\n",
    "            \n",
    "            # Forward pass\n",
    "            y_pred = model_lenet5(X)\n",
    "            loss = loss_fn(y_pred, y)\n",
    "            val_loss += loss.item()\n",
    "            val_acc += accuracy(y_pred, y)\n",
    "\n",
    "    # Average metrics\n",
    "    val_loss /= len(val_dataloader)\n",
    "    val_acc /= len(val_dataloader)\n",
    "\n",
    "    # Log metrics to TensorBoard\n",
    "    writer.add_scalars(main_tag=\"Loss\", tag_scalar_dict={\"train/loss\": train_loss, \"val/loss\": val_loss}, global_step=epoch)\n",
    "    writer.add_scalars(main_tag=\"Accuracy\", tag_scalar_dict={\"train/acc\": train_acc, \"val/acc\": val_acc}, global_step=epoch)\n",
    "\n",
    "    # Print progress\n",
    "    print(f\"Epoch: {epoch+1} | Train Loss: {train_loss:.5f} | Train Accuracy: {train_acc:.5f} | Val Loss: {val_loss:.5f} | Val Accuracy: {val_acc:.5f}\")\n",
    "\n",
    "\n",
    "MODEL_PATH = Path(\"models\")\n",
    "MODEL_PATH.mkdir(parents=True, exist_ok=True)\n",
    "MODEL_NAME = \"LENeT5_mnist.pth\"\n",
    "MODEL_SAVE_PATH = MODEL_PATH / MODEL_NAME\n",
    "#Saving the model\n",
    "print(f\"Saving the model: {MODEL_SAVE_PATH}\")\n",
    "torch.save(obj=model_lenet5.state_dict(), f=MODEL_SAVE_PATH)  "
   ]
  },
  {
   "cell_type": "code",
   "execution_count": 15,
   "metadata": {},
   "outputs": [
    {
     "name": "stderr",
     "output_type": "stream",
     "text": [
      "C:\\Users\\Sven Jacob\\AppData\\Local\\Temp\\ipykernel_13408\\3378268383.py:7: FutureWarning: You are using `torch.load` with `weights_only=False` (the current default value), which uses the default pickle module implicitly. It is possible to construct malicious pickle data which will execute arbitrary code during unpickling (See https://github.com/pytorch/pytorch/blob/main/SECURITY.md#untrusted-models for more details). In a future release, the default value for `weights_only` will be flipped to `True`. This limits the functions that could be executed during unpickling. Arbitrary objects will no longer be allowed to be loaded via this mode unless they are explicitly allowlisted by the user via `torch.serialization.add_safe_globals`. We recommend you start setting `weights_only=True` for any use case where you don't have full control of the loaded file. Please open an issue on GitHub for any issues related to this experimental feature.\n",
      "  model_LeNet5_mnist_loaded.load_state_dict(torch.load(MODEL_SAVE_PATH))\n"
     ]
    },
    {
     "data": {
      "text/plain": [
       "<All keys matched successfully>"
      ]
     },
     "execution_count": 15,
     "metadata": {},
     "output_type": "execute_result"
    }
   ],
   "source": [
    "MODEL_PATH = Path(\"models\")\n",
    "MODEL_PATH.mkdir(parents=True, exist_ok=True)\n",
    "MODEL_NAME = \"LENeT5_mnist.pth\"\n",
    "MODEL_SAVE_PATH = MODEL_PATH / MODEL_NAME\n",
    "\n",
    "model_LeNet5_mnist_loaded = LeNet5V1().to(device)\n",
    "model_LeNet5_mnist_loaded.load_state_dict(torch.load(MODEL_SAVE_PATH))"
   ]
  },
  {
   "cell_type": "code",
   "execution_count": 16,
   "metadata": {},
   "outputs": [
    {
     "name": "stderr",
     "output_type": "stream",
     "text": [
      "100%|██████████| 313/313 [00:32<00:00,  9.59it/s]\n"
     ]
    }
   ],
   "source": [
    "model_loaded = model_LeNet5_mnist_loaded.to(device)\n",
    "\n",
    "ig = IntegratedGradients(model_loaded)\n",
    "gs = GradientShap(model_loaded)\n",
    "dl = DeepLift(model_loaded)\n",
    "\n",
    "all_attributions_ig = []\n",
    "all_labels = []\n",
    "all_attributions_gs = []\n",
    "all_attributions_ks = []\n",
    "all_attributions_dl = []\n",
    "all_batches= []\n",
    "model_loaded.eval()\n",
    "torch.manual_seed(210)\n",
    "for batch_samples, batch_labels in tqdm(test_dataloader):\n",
    "    # Ensure samples have the correct shape\n",
    "    batch_labels = batch_labels.to(device)\n",
    "    batch_samples = batch_samples.requires_grad_().to(device) # Enable gradients for attribution\n",
    "    baseline_dist = torch.zeros((batch_samples.shape[0],1,28,28)).to(device)\n",
    "    \n",
    "\n",
    "    # Calculate the attributions for each sample in the batch\n",
    "    attributions, deltas = ig.attribute(batch_samples, target=batch_labels, return_convergence_delta=True)\n",
    "\n",
    "    \n",
    "    # Append attributions and labels for further analysis\n",
    "\n",
    "    all_attributions_ig.append(attributions)\n",
    "    all_labels.append(batch_labels)\n",
    "    all_batches.append(batch_samples.detach())\n",
    "    attributions_gs, deltas = gs.attribute(batch_samples, target=batch_labels,  baselines=baseline_dist,return_convergence_delta=True)\n",
    "    all_attributions_gs.append(attributions_gs)\n",
    "    \n",
    "\n",
    "    attributions_dl = dl.attribute(batch_samples, target=batch_labels)\n",
    "    all_attributions_dl.append(attributions_dl)\n",
    "\n",
    "\n",
    "# Concatenate all attributions and labels\n",
    "all_attributions_ig = torch.cat(all_attributions_ig, dim=0)  \n",
    "all_labels = torch.cat(all_labels, dim=0)\n",
    "\n",
    "all_attributions_gs = torch.cat(all_attributions_gs, dim=0)\n",
    "all_attributions_dl = torch.cat(all_attributions_dl, dim=0)\n",
    "\n",
    "all_batches = torch.cat(all_batches,dim=0)"
   ]
  },
  {
   "cell_type": "code",
   "execution_count": 17,
   "metadata": {},
   "outputs": [
    {
     "data": {
      "image/png": "[encoded data removed]",
      "text/plain": [
       "<Figure size 1200x600 with 18 Axes>"
      ]
     },
     "metadata": {},
     "output_type": "display_data"
    }
   ],
   "source": [
    "data = filter_explanations([5,7,9],[6,1,3],all_attributions_ig,all_attributions_dl,all_attributions_gs,all_labels)\n",
    "fig = plot_MNIST_explanations(3,6,data)"
   ]
  },
  {
   "cell_type": "code",
   "execution_count": 98,
   "metadata": {},
   "outputs": [
    {
     "data": {
      "image/png": "[encoded data removed]",
      "text/plain": [
       "<Figure size 640x480 with 1 Axes>"
      ]
     },
     "metadata": {},
     "output_type": "display_data"
    }
   ],
   "source": [
    "c1 = 9\n",
    "list_c1 = []\n",
    "for x,y in test_dataloader:\n",
    "    list_c1.append(x[y==c1])\n",
    "\n",
    "pixelwise_mean = torch.cat(list_c1,dim=0)[:10,0,:,:].mean(dim=0)\n",
    "pixelwise_std = torch.cat(list_c1,dim=0)[:10,0,:,:].std(dim=0)\n",
    "\n",
    "\n",
    "plt.imshow(pixelwise_mean.detach().numpy())\n",
    "\n",
    "def generate(mu,std):\n",
    "    mu_np = mu.detach().cpu().numpy().flatten()\n",
    "    std_np = std.detach().cpu().numpy().flatten()\n",
    "\n",
    "   \n",
    "   \n",
    "    SIGMA = np.diag(std_np)\n",
    "    print(SIGMA.shape)\n",
    "    return np.random.multivariate_normal(mu_np,SIGMA,size=1)\n",
    "\n",
    "\n",
    "#plt.imshow(generate(pixelwise_mean,pixelwise_std).reshape(28,28),cmap='gray')\n"
   ]
  },
  {
   "cell_type": "code",
   "execution_count": 96,
   "metadata": {},
   "outputs": [],
   "source": [
    "pixelwise_min = torch.cat(list_c1,dim=0)[:10,0,:,:].min(dim=0)[0]\n",
    "pixelwise_max = torch.cat(list_c1,dim=0)[:10,0,:,:].max(dim=0)[0]"
   ]
  },
  {
   "cell_type": "code",
   "execution_count": 91,
   "metadata": {},
   "outputs": [
    {
     "data": {
      "text/plain": [
       "tensor([[0, 0, 0, 0, 0, 0, 0, 0, 0, 0, 0, 0, 0, 0, 0, 0, 0, 0, 0, 0, 0, 0, 0, 0,\n",
       "         0, 0, 0, 0],\n",
       "        [0, 0, 0, 0, 0, 0, 0, 0, 0, 0, 0, 0, 0, 0, 0, 0, 0, 0, 0, 0, 0, 0, 0, 0,\n",
       "         0, 0, 0, 0],\n",
       "        [0, 0, 0, 0, 0, 0, 0, 0, 0, 0, 0, 0, 0, 0, 0, 0, 0, 0, 0, 0, 0, 0, 0, 0,\n",
       "         0, 0, 0, 0],\n",
       "        [0, 0, 0, 0, 0, 0, 0, 0, 0, 0, 0, 0, 0, 0, 0, 0, 0, 0, 0, 0, 0, 0, 0, 0,\n",
       "         0, 0, 0, 0],\n",
       "        [0, 0, 0, 0, 0, 0, 0, 0, 0, 0, 0, 0, 9, 5, 4, 4, 4, 0, 0, 0, 0, 0, 0, 0,\n",
       "         0, 0, 0, 0],\n",
       "        [0, 0, 0, 0, 0, 0, 0, 0, 0, 0, 0, 0, 9, 5, 2, 4, 8, 7, 7, 6, 7, 0, 0, 0,\n",
       "         0, 0, 0, 0],\n",
       "        [0, 0, 0, 0, 0, 0, 0, 0, 0, 0, 0, 0, 9, 5, 2, 4, 7, 1, 6, 6, 7, 0, 0, 0,\n",
       "         0, 0, 0, 0],\n",
       "        [0, 0, 0, 0, 0, 0, 0, 0, 0, 0, 0, 0, 9, 5, 2, 8, 7, 7, 6, 6, 7, 0, 0, 0,\n",
       "         0, 0, 0, 0],\n",
       "        [0, 0, 0, 0, 0, 0, 0, 0, 0, 0, 0, 0, 9, 4, 2, 4, 1, 6, 6, 6, 6, 0, 0, 0,\n",
       "         0, 0, 0, 0],\n",
       "        [0, 0, 0, 0, 0, 0, 0, 0, 0, 0, 0, 0, 9, 4, 2, 4, 1, 6, 6, 6, 0, 0, 0, 0,\n",
       "         0, 0, 0, 0],\n",
       "        [0, 0, 0, 0, 0, 0, 0, 0, 0, 0, 0, 0, 9, 9, 2, 0, 6, 6, 6, 0, 0, 0, 0, 0,\n",
       "         0, 0, 0, 0],\n",
       "        [0, 0, 0, 0, 0, 0, 0, 0, 0, 0, 0, 0, 9, 9, 2, 1, 6, 6, 6, 0, 0, 0, 0, 0,\n",
       "         0, 0, 0, 0],\n",
       "        [0, 0, 0, 0, 0, 0, 0, 0, 0, 0, 0, 0, 9, 9, 2, 1, 6, 6, 0, 0, 0, 0, 0, 0,\n",
       "         0, 0, 0, 0],\n",
       "        [0, 0, 0, 0, 0, 0, 0, 0, 0, 0, 0, 0, 9, 9, 1, 7, 6, 6, 0, 0, 0, 0, 0, 0,\n",
       "         0, 0, 0, 0],\n",
       "        [0, 0, 0, 0, 0, 0, 0, 0, 0, 0, 0, 0, 8, 0, 1, 4, 4, 0, 0, 0, 0, 0, 0, 0,\n",
       "         0, 0, 0, 0],\n",
       "        [0, 0, 0, 0, 0, 0, 0, 0, 0, 0, 0, 0, 8, 1, 2, 4, 4, 0, 0, 0, 0, 0, 0, 0,\n",
       "         0, 0, 0, 0],\n",
       "        [0, 0, 0, 0, 0, 0, 0, 0, 0, 0, 0, 6, 1, 1, 2, 4, 4, 0, 0, 0, 0, 0, 0, 0,\n",
       "         0, 0, 0, 0],\n",
       "        [0, 0, 0, 0, 0, 0, 0, 0, 0, 0, 0, 6, 6, 1, 2, 4, 4, 0, 0, 0, 0, 0, 0, 0,\n",
       "         0, 0, 0, 0],\n",
       "        [0, 0, 0, 0, 0, 0, 0, 0, 0, 0, 6, 6, 6, 1, 2, 4, 4, 0, 0, 0, 0, 0, 0, 0,\n",
       "         0, 0, 0, 0],\n",
       "        [0, 0, 0, 0, 0, 0, 0, 0, 0, 0, 7, 6, 1, 3, 2, 4, 4, 0, 0, 0, 0, 0, 0, 0,\n",
       "         0, 0, 0, 0],\n",
       "        [0, 0, 0, 0, 0, 0, 0, 0, 0, 6, 6, 6, 1, 3, 2, 4, 5, 5, 0, 0, 0, 0, 0, 0,\n",
       "         0, 0, 0, 0],\n",
       "        [0, 0, 0, 0, 0, 0, 0, 0, 0, 7, 6, 6, 1, 3, 2, 9, 5, 5, 0, 0, 0, 0, 0, 0,\n",
       "         0, 0, 0, 0],\n",
       "        [0, 0, 0, 0, 0, 0, 0, 0, 7, 7, 6, 7, 1, 3, 2, 2, 5, 9, 0, 0, 0, 0, 0, 0,\n",
       "         0, 0, 0, 0],\n",
       "        [0, 0, 0, 0, 0, 0, 0, 0, 7, 7, 6, 1, 3, 3, 4, 9, 9, 9, 0, 0, 0, 0, 0, 0,\n",
       "         0, 0, 0, 0],\n",
       "        [0, 0, 0, 0, 0, 0, 0, 0, 7, 7, 6, 1, 3, 3, 0, 0, 0, 0, 0, 0, 0, 0, 0, 0,\n",
       "         0, 0, 0, 0],\n",
       "        [0, 0, 0, 0, 0, 0, 0, 0, 0, 0, 0, 0, 0, 0, 0, 0, 0, 0, 0, 0, 0, 0, 0, 0,\n",
       "         0, 0, 0, 0],\n",
       "        [0, 0, 0, 0, 0, 0, 0, 0, 0, 0, 0, 0, 0, 0, 0, 0, 0, 0, 0, 0, 0, 0, 0, 0,\n",
       "         0, 0, 0, 0],\n",
       "        [0, 0, 0, 0, 0, 0, 0, 0, 0, 0, 0, 0, 0, 0, 0, 0, 0, 0, 0, 0, 0, 0, 0, 0,\n",
       "         0, 0, 0, 0]])"
      ]
     },
     "execution_count": 91,
     "metadata": {},
     "output_type": "execute_result"
    }
   ],
   "source": [
    "pixelwise_max[1]"
   ]
  },
  {
   "cell_type": "code",
   "execution_count": 97,
   "metadata": {},
   "outputs": [
    {
     "data": {
      "text/plain": [
       "<matplotlib.image.AxesImage at 0x20a84c1b200>"
      ]
     },
     "execution_count": 97,
     "metadata": {},
     "output_type": "execute_result"
    },
    {
     "data": {
      "image/png": "[encoded data removed]",
      "text/plain": [
       "<Figure size 640x480 with 1 Axes>"
      ]
     },
     "metadata": {},
     "output_type": "display_data"
    }
   ],
   "source": [
    "plt.imshow(np.random.uniform(pixelwise_min.detach().numpy().flatten(),pixelwise_max.detach().numpy().flatten()).reshape(28,28))"
   ]
  },
  {
   "cell_type": "code",
   "execution_count": 68,
   "metadata": {},
   "outputs": [
    {
     "data": {
      "text/plain": [
       "array([[1, 0, 0],\n",
       "       [0, 2, 0],\n",
       "       [0, 0, 3]])"
      ]
     },
     "execution_count": 68,
     "metadata": {},
     "output_type": "execute_result"
    }
   ],
   "source": [
    "np.diag([1,2,3])"
   ]
  }
 ],
 "metadata": {
  "kernelspec": {
   "display_name": "torch",
   "language": "python",
   "name": "python3"
  },
  "language_info": {
   "codemirror_mode": {
    "name": "ipython",
    "version": 3
   },
   "file_extension": ".py",
   "mimetype": "text/x-python",
   "name": "python",
   "nbconvert_exporter": "python",
   "pygments_lexer": "ipython3",
   "version": "3.12.7"
  }
 },
 "nbformat": 4,
 "nbformat_minor": 2
}
