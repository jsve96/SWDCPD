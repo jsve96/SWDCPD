{
 "cells": [
  {
   "cell_type": "code",
   "execution_count": 24,
   "metadata": {},
   "outputs": [],
   "source": [
    "import torch\n",
    "from utils import *"
   ]
  },
  {
   "cell_type": "code",
   "execution_count": 47,
   "metadata": {},
   "outputs": [],
   "source": [
    "d = 10\n",
    "\n",
    "X = np.random.multivariate_normal(np.zeros(d),np.eye(d),100)\n",
    "\n",
    "mu2 = np.zeros(d)\n",
    "mu2[0] = 1\n",
    "mu2[1] = 20\n",
    "\n",
    "\n",
    "Y = np.random.multivariate_normal(np.zeros(d),np.eye(d),100)\n",
    "\n"
   ]
  },
  {
   "cell_type": "code",
   "execution_count": 48,
   "metadata": {},
   "outputs": [
    {
     "name": "stdout",
     "output_type": "stream",
     "text": [
      "13.5 ms ± 164 μs per loop (mean ± std. dev. of 7 runs, 100 loops each)\n"
     ]
    }
   ],
   "source": [
    "THETA = sample_theta(X,1000)\n",
    "%timeit project_and_calc_dist(X,Y,THETA,p=2).mean()"
   ]
  },
  {
   "cell_type": "code",
   "execution_count": 49,
   "metadata": {},
   "outputs": [],
   "source": [
    "device = 'cuda' if torch.cuda.is_available() else 'cpu'\n",
    "Tensor_THETA = torch.Tensor(THETA)\n",
    "\n",
    "\n",
    "def project_and_calc_dist_torch(X, Y, theta, p):\n",
    "    # Project data onto theta\n",
    "    x_proj = torch.matmul(X, theta.T)\n",
    "    y_proj = torch.matmul(Y, theta.T)\n",
    "\n",
    "    # Generate quantile positions\n",
    "    qs = torch.linspace(0, 1, 100, device=X.device)\n",
    "\n",
    "    # Compute quantiles for x_proj and y_proj\n",
    "    xp_quantiles = torch.quantile(x_proj, qs, dim=0, interpolation=\"lower\")\n",
    "    yp_quantiles = torch.quantile(y_proj, qs, dim=0, interpolation=\"lower\")\n",
    "\n",
    "    # Calculate the p-distance between quantiles\n",
    "    dist_p = torch.abs(xp_quantiles - yp_quantiles).pow(p)\n",
    "\n",
    "    return dist_p\n",
    "\n",
    "\n"
   ]
  },
  {
   "cell_type": "code",
   "execution_count": 50,
   "metadata": {},
   "outputs": [
    {
     "name": "stdout",
     "output_type": "stream",
     "text": [
      "473 μs ± 55.8 μs per loop (mean ± std. dev. of 7 runs, 100 loops each)\n"
     ]
    }
   ],
   "source": [
    "%timeit project_and_calc_dist_torch(torch.Tensor(X).to(device),torch.Tensor(Y).to(device),Tensor_THETA.to(device),p=2)"
   ]
  }
 ],
 "metadata": {
  "kernelspec": {
   "display_name": "torch",
   "language": "python",
   "name": "python3"
  },
  "language_info": {
   "codemirror_mode": {
    "name": "ipython",
    "version": 3
   },
   "file_extension": ".py",
   "mimetype": "text/x-python",
   "name": "python",
   "nbconvert_exporter": "python",
   "pygments_lexer": "ipython3",
   "version": "3.12.7"
  }
 },
 "nbformat": 4,
 "nbformat_minor": 2
}
