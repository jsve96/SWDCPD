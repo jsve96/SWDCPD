{
 "cells": [
  {
   "cell_type": "code",
   "execution_count": 1,
   "metadata": {},
   "outputs": [],
   "source": [
    "from torchvision import datasets\n",
    "import numpy as np\n",
    "import torch\n",
    "\n",
    "#train_val_dataset = datasets.MNIST(root=\"./datasets/\", train=True, download=True)\n",
    "#test_dataset = datasets.MNIST(root=\"./datasets/\", train=False, download=True)"
   ]
  },
  {
   "cell_type": "code",
   "execution_count": 2,
   "metadata": {},
   "outputs": [
    {
     "name": "stdout",
     "output_type": "stream",
     "text": [
      "12.4\n"
     ]
    },
    {
     "data": {
      "text/plain": [
       "True"
      ]
     },
     "execution_count": 2,
     "metadata": {},
     "output_type": "execute_result"
    }
   ],
   "source": [
    "print(torch.version.cuda)\n",
    "torch.cuda.is_available()"
   ]
  },
  {
   "cell_type": "code",
   "execution_count": 3,
   "metadata": {},
   "outputs": [],
   "source": [
    "import matplotlib.pyplot as plt"
   ]
  },
  {
   "cell_type": "code",
   "execution_count": 4,
   "metadata": {},
   "outputs": [
    {
     "data": {
      "text/plain": [
       "['0 - zero',\n",
       " '1 - one',\n",
       " '2 - two',\n",
       " '3 - three',\n",
       " '4 - four',\n",
       " '5 - five',\n",
       " '6 - six',\n",
       " '7 - seven',\n",
       " '8 - eight',\n",
       " '9 - nine']"
      ]
     },
     "execution_count": 4,
     "metadata": {},
     "output_type": "execute_result"
    }
   ],
   "source": [
    "train_val_dataset, test_dataset\n",
    "class_names = train_val_dataset.classes\n",
    "class_names"
   ]
  },
  {
   "cell_type": "code",
   "execution_count": 5,
   "metadata": {},
   "outputs": [
    {
     "data": {
      "text/plain": [
       "Text(0.5, 1.0, '3 - three')"
      ]
     },
     "execution_count": 5,
     "metadata": {},
     "output_type": "execute_result"
    },
    {
     "data": {
      "image/png": "[encoded data removed]",
      "text/plain": [
       "<Figure size 640x480 with 1 Axes>"
      ]
     },
     "metadata": {},
     "output_type": "display_data"
    }
   ],
   "source": [
    "img, label = train_val_dataset[10]\n",
    "img, label\n",
    "plt.imshow(img, cmap='gray')\n",
    "plt.title(f\"{class_names[label]}\")"
   ]
  },
  {
   "cell_type": "code",
   "execution_count": 2,
   "metadata": {},
   "outputs": [
    {
     "data": {
      "text/plain": [
       "(Dataset MNIST\n",
       "     Number of datapoints: 60000\n",
       "     Root location: ./datasets/\n",
       "     Split: Train\n",
       "     StandardTransform\n",
       " Transform: Compose(\n",
       "                ToTensor()\n",
       "            ),\n",
       " Dataset MNIST\n",
       "     Number of datapoints: 10000\n",
       "     Root location: ./datasets/\n",
       "     Split: Test\n",
       "     StandardTransform\n",
       " Transform: Compose(\n",
       "                ToTensor()\n",
       "            ))"
      ]
     },
     "execution_count": 2,
     "metadata": {},
     "output_type": "execute_result"
    }
   ],
   "source": [
    "from torchvision import transforms\n",
    "\n",
    "train_val_dataset = datasets.MNIST(root=\"./datasets/\", train=True, download=False, transform=transforms.ToTensor())\n",
    "test_dataset = datasets.MNIST(root=\"./datasets\", train=False, download=False, transform=transforms.ToTensor())\n",
    "mnist_transforms = transforms.Compose([transforms.ToTensor()])\n",
    "\n",
    "train_val_dataset = datasets.MNIST(root=\"./datasets/\", train=True, download=False, transform=mnist_transforms)\n",
    "test_dataset = datasets.MNIST(root=\"./datasets/\", train=False, download=False, transform=mnist_transforms)\n",
    "train_val_dataset, test_dataset"
   ]
  },
  {
   "cell_type": "code",
   "execution_count": 3,
   "metadata": {},
   "outputs": [
    {
     "data": {
      "text/plain": [
       "(54000, 6000, 10000)"
      ]
     },
     "execution_count": 3,
     "metadata": {},
     "output_type": "execute_result"
    }
   ],
   "source": [
    "train_size = int(0.9 * len(train_val_dataset))\n",
    "val_size = len(train_val_dataset) - train_size\n",
    "\n",
    "train_dataset, val_dataset = torch.utils.data.random_split(dataset=train_val_dataset, lengths=[train_size, val_size])\n",
    "len(train_dataset), len(val_dataset), len(test_dataset)"
   ]
  },
  {
   "cell_type": "code",
   "execution_count": 4,
   "metadata": {},
   "outputs": [
    {
     "data": {
      "text/plain": [
       "(1688, 188, 313)"
      ]
     },
     "execution_count": 4,
     "metadata": {},
     "output_type": "execute_result"
    }
   ],
   "source": [
    "from torch.utils.data import DataLoader\n",
    "\n",
    "BATCH_SIZE = 32\n",
    "\n",
    "train_dataloader = DataLoader(dataset=train_dataset, batch_size=BATCH_SIZE, shuffle=True)\n",
    "val_dataloader = DataLoader(dataset=val_dataset, batch_size=BATCH_SIZE, shuffle=True)\n",
    "test_dataloader = DataLoader(dataset=test_dataset, batch_size=BATCH_SIZE, shuffle=True)\n",
    "\n",
    "# Let's see no of batches that we have now with the current batch-size\n",
    "len(train_dataloader), len(val_dataloader), len(test_dataloader) "
   ]
  },
  {
   "cell_type": "code",
   "execution_count": 16,
   "metadata": {},
   "outputs": [
    {
     "name": "stdout",
     "output_type": "stream",
     "text": [
      "<bound method Module.parameters of ViT(\n",
      "  (to_patch_embedding): Sequential(\n",
      "    (0): Rearrange('b c (h p1) (w p2) -> b (h w) (p1 p2 c)', p1=7, p2=7)\n",
      "    (1): LayerNorm((49,), eps=1e-05, elementwise_affine=True)\n",
      "    (2): Linear(in_features=49, out_features=64, bias=True)\n",
      "    (3): LayerNorm((64,), eps=1e-05, elementwise_affine=True)\n",
      "  )\n",
      "  (dropout): Dropout(p=0.1, inplace=False)\n",
      "  (transformer): Transformer(\n",
      "    (norm): LayerNorm((64,), eps=1e-05, elementwise_affine=True)\n",
      "    (layers): ModuleList(\n",
      "      (0-5): 6 x ModuleList(\n",
      "        (0): Attention(\n",
      "          (norm): LayerNorm((64,), eps=1e-05, elementwise_affine=True)\n",
      "          (attend): Softmax(dim=-1)\n",
      "          (dropout): Dropout(p=0.1, inplace=False)\n",
      "          (to_qkv): Linear(in_features=64, out_features=1536, bias=False)\n",
      "          (to_out): Sequential(\n",
      "            (0): Linear(in_features=512, out_features=64, bias=True)\n",
      "            (1): Dropout(p=0.1, inplace=False)\n",
      "          )\n",
      "        )\n",
      "        (1): FeedForward(\n",
      "          (net): Sequential(\n",
      "            (0): LayerNorm((64,), eps=1e-05, elementwise_affine=True)\n",
      "            (1): Linear(in_features=64, out_features=128, bias=True)\n",
      "            (2): GELU(approximate='none')\n",
      "            (3): Dropout(p=0.1, inplace=False)\n",
      "            (4): Linear(in_features=128, out_features=64, bias=True)\n",
      "            (5): Dropout(p=0.1, inplace=False)\n",
      "          )\n",
      "        )\n",
      "      )\n",
      "    )\n",
      "  )\n",
      "  (to_latent): Identity()\n",
      "  (mlp_head): Linear(in_features=64, out_features=10, bias=True)\n",
      ")>\n"
     ]
    }
   ],
   "source": [
    "from tqdm import tqdm\n",
    "from torch.utils.tensorboard import SummaryWriter\n",
    "from datetime import datetime\n",
    "import torch\n",
    "import torch.nn as nn\n",
    "import torch.optim as optim\n",
    "from vit_pytorch import ViT  # ViT model\n",
    "import os\n",
    "from torchmetrics import Accuracy\n",
    "\n",
    "\n",
    "# Experiment tracking setup\n",
    "timestamp = datetime.now().strftime(\"%Y-%m-%d\")\n",
    "experiment_name = \"MNIST\"\n",
    "model_name = \"VisionTransformer_v2\"\n",
    "log_dir = os.path.join(\"runs\", timestamp, experiment_name, model_name)\n",
    "writer = SummaryWriter(log_dir)\n",
    "\n",
    "# Device setup\n",
    "device = 'cuda' if torch.cuda.is_available() else 'cpu'\n",
    "\n",
    "# Define Vision Transformer (ViT) model v1\n",
    "# model_vit = ViT(\n",
    "#     image_size=28,       # MNIST images are 28x28\n",
    "#     patch_size=4,        # 4 patches per dimension (28/7)\n",
    "#     num_classes=10,      # 10 output classes for digits 0-9\n",
    "#     dim=64,             # Embedding dimension\n",
    "#     depth=6,             # Number of transformer layers\n",
    "#     heads=8,             # Number of attention heads\n",
    "#     mlp_dim=128,         # Hidden dimension in MLP layers\n",
    "#     dropout=0.1,         # Dropout rate in transformer\n",
    "#     emb_dropout=0.1,     # Dropout rate for embeddings\n",
    "#     channels = 1\n",
    "# ).to(device)\n",
    "\n",
    "### V2\n",
    "\n",
    "model_vit = ViT(\n",
    "    image_size=28,       # MNIST images are 28x28\n",
    "    patch_size=7,        # 4 patches per dimension (28/7)\n",
    "    num_classes=10,      # 10 output classes for digits 0-9\n",
    "    dim=64,             # Embedding dimension\n",
    "    depth=6,             # Number of transformer layers\n",
    "    heads=8,             # Number of attention heads\n",
    "    mlp_dim=128,         # Hidden dimension in MLP layers\n",
    "    dropout=0.1,         # Dropout rate in transformer\n",
    "    emb_dropout=0.1,     # Dropout rate for embeddings\n",
    "    channels = 1\n",
    ").to(device)\n",
    "\n",
    "#### Vanilla Model\n",
    "# model_vit = ViT(\n",
    "#     image_size=28,       # MNIST images are 28x28\n",
    "#     patch_size=4,        # 4 patches per dimension (28/7)\n",
    "#     num_classes=10,      # 10 output classes for digits 0-9\n",
    "#     dim=64,             # Embedding dimension\n",
    "#     depth=4,             # Number of transformer layers\n",
    "#     heads=2,             # Number of attention heads\n",
    "#     mlp_dim=64,         # Hidden dimension in MLP layers\n",
    "#     dropout=0.1,         # Dropout rate in transformer\n",
    "#     emb_dropout=0.1,     # Dropout rate for embeddings\n",
    "#     channels = 1\n",
    "# ).to(device)\n",
    "\n",
    "\n",
    "\n",
    "# Initialize optimizer and loss function\n",
    "loss_fn = nn.CrossEntropyLoss()\n",
    "optimizer = optim.Adam(model_vit.parameters(), lr=1e-4)\n",
    "#optimizer = optim.SGD(model_vit.parameters(),momentum=0.9,lr=0.01)\n",
    "\n",
    "print(model_vit.parameters)\n",
    "\n",
    "\n",
    "# accuracy = Accuracy(task='multiclass', num_classes=10).to(device)\n",
    "# # Training and Validation Loops\n",
    "# EPOCHS = 10\n",
    "# for epoch in tqdm(range(EPOCHS)):\n",
    "#     # Training Loop\n",
    "#     train_loss, train_acc = 0.0, 0.0\n",
    "#     model_vit.train()\n",
    "#     for X, y in train_dataloader:\n",
    "#         X, y = X.to(device), y.to(device)\n",
    "#        # print(X.shape)\n",
    "#         optimizer.zero_grad()\n",
    "        \n",
    "#         # Forward pass\n",
    "#         y_pred = model_vit(X)\n",
    "#         loss = loss_fn(y_pred, y)\n",
    "#         train_loss += loss.item()\n",
    "#         train_acc += accuracy(y_pred, y)\n",
    "        \n",
    "#         # Backward pass and optimization\n",
    "#         loss.backward()\n",
    "#         optimizer.step()\n",
    "\n",
    "#     # Average metrics\n",
    "#     train_loss /= len(train_dataloader)\n",
    "#     train_acc /= len(train_dataloader)\n",
    "\n",
    "#     # Validation Loop\n",
    "#     val_loss, val_acc = 0.0, 0.0\n",
    "#     model_vit.eval()\n",
    "#     with torch.no_grad():\n",
    "#         for X, y in val_dataloader:\n",
    "#             X, y = X.to(device), y.to(device)\n",
    "            \n",
    "#             # Forward pass\n",
    "#             y_pred = model_vit(X)\n",
    "#             loss = loss_fn(y_pred, y)\n",
    "#             val_loss += loss.item()\n",
    "#             val_acc += accuracy(y_pred, y)\n",
    "\n",
    "#     # Average metrics\n",
    "#     val_loss /= len(val_dataloader)\n",
    "#     val_acc /= len(val_dataloader)\n",
    "\n",
    "#     # Log metrics to TensorBoard\n",
    "#     writer.add_scalars(main_tag=\"Loss\", tag_scalar_dict={\"train/loss\": train_loss, \"val/loss\": val_loss}, global_step=epoch)\n",
    "#     writer.add_scalars(main_tag=\"Accuracy\", tag_scalar_dict={\"train/acc\": train_acc, \"val/acc\": val_acc}, global_step=epoch)\n",
    "\n",
    "#     # Print progress\n",
    "#     print(f\"Epoch: {epoch+1} | Train Loss: {train_loss:.5f} | Train Accuracy: {train_acc:.5f} | Val Loss: {val_loss:.5f} | Val Accuracy: {val_acc:.5f}\")\n"
   ]
  },
  {
   "cell_type": "code",
   "execution_count": 9,
   "metadata": {},
   "outputs": [],
   "source": [
    "from torch import nn\n",
    "\n",
    "class LeNet5V1(nn.Module):\n",
    "    def __init__(self):\n",
    "        super().__init__()\n",
    "        self.feature = nn.Sequential(\n",
    "            #1\n",
    "            nn.Conv2d(in_channels=1, out_channels=6, kernel_size=5, stride=1, padding=2),   # 28*28->32*32-->28*28\n",
    "            nn.Tanh(),\n",
    "            nn.AvgPool2d(kernel_size=2, stride=2),  # 14*14\n",
    "            \n",
    "            #2\n",
    "            nn.Conv2d(in_channels=6, out_channels=16, kernel_size=5, stride=1),  # 10*10\n",
    "            nn.Tanh(),\n",
    "            nn.AvgPool2d(kernel_size=2, stride=2),  # 5*5\n",
    "            \n",
    "        )\n",
    "        self.classifier = nn.Sequential(\n",
    "            nn.Flatten(),\n",
    "            nn.Linear(in_features=16*5*5, out_features=120),\n",
    "            nn.Tanh(),\n",
    "            nn.Linear(in_features=120, out_features=84),\n",
    "            nn.Tanh(),\n",
    "            nn.Linear(in_features=84, out_features=10),\n",
    "        )\n",
    "        \n",
    "    def forward(self, x):\n",
    "        return self.classifier(self.feature(x))"
   ]
  },
  {
   "cell_type": "markdown",
   "metadata": {},
   "source": [
    "#### Only run when training new model"
   ]
  },
  {
   "cell_type": "code",
   "execution_count": 17,
   "metadata": {},
   "outputs": [
    {
     "name": "stdout",
     "output_type": "stream",
     "text": [
      "<bound method Module.parameters of ViT(\n",
      "  (to_patch_embedding): Sequential(\n",
      "    (0): Rearrange('b c (h p1) (w p2) -> b (h w) (p1 p2 c)', p1=7, p2=7)\n",
      "    (1): LayerNorm((49,), eps=1e-05, elementwise_affine=True)\n",
      "    (2): Linear(in_features=49, out_features=64, bias=True)\n",
      "    (3): LayerNorm((64,), eps=1e-05, elementwise_affine=True)\n",
      "  )\n",
      "  (dropout): Dropout(p=0.1, inplace=False)\n",
      "  (transformer): Transformer(\n",
      "    (norm): LayerNorm((64,), eps=1e-05, elementwise_affine=True)\n",
      "    (layers): ModuleList(\n",
      "      (0-5): 6 x ModuleList(\n",
      "        (0): Attention(\n",
      "          (norm): LayerNorm((64,), eps=1e-05, elementwise_affine=True)\n",
      "          (attend): Softmax(dim=-1)\n",
      "          (dropout): Dropout(p=0.1, inplace=False)\n",
      "          (to_qkv): Linear(in_features=64, out_features=1536, bias=False)\n",
      "          (to_out): Sequential(\n",
      "            (0): Linear(in_features=512, out_features=64, bias=True)\n",
      "            (1): Dropout(p=0.1, inplace=False)\n",
      "          )\n",
      "        )\n",
      "        (1): FeedForward(\n",
      "          (net): Sequential(\n",
      "            (0): LayerNorm((64,), eps=1e-05, elementwise_affine=True)\n",
      "            (1): Linear(in_features=64, out_features=128, bias=True)\n",
      "            (2): GELU(approximate='none')\n",
      "            (3): Dropout(p=0.1, inplace=False)\n",
      "            (4): Linear(in_features=128, out_features=64, bias=True)\n",
      "            (5): Dropout(p=0.1, inplace=False)\n",
      "          )\n",
      "        )\n",
      "      )\n",
      "    )\n",
      "  )\n",
      "  (to_latent): Identity()\n",
      "  (mlp_head): Linear(in_features=64, out_features=10, bias=True)\n",
      ")>\n"
     ]
    },
    {
     "name": "stderr",
     "output_type": "stream",
     "text": [
      "  7%|▋         | 1/15 [00:18<04:25, 18.95s/it]"
     ]
    },
    {
     "name": "stdout",
     "output_type": "stream",
     "text": [
      "Epoch: 1 | Train Loss: 0.60971 | Train Accuracy: 0.82431 | Val Loss: 0.19000 | Val Accuracy: 0.94531\n"
     ]
    },
    {
     "name": "stderr",
     "output_type": "stream",
     "text": [
      " 13%|█▎        | 2/15 [00:37<04:03, 18.70s/it]"
     ]
    },
    {
     "name": "stdout",
     "output_type": "stream",
     "text": [
      "Epoch: 2 | Train Loss: 0.20420 | Train Accuracy: 0.94039 | Val Loss: 0.12013 | Val Accuracy: 0.96376\n"
     ]
    },
    {
     "name": "stderr",
     "output_type": "stream",
     "text": [
      " 20%|██        | 3/15 [00:59<04:02, 20.19s/it]"
     ]
    },
    {
     "name": "stdout",
     "output_type": "stream",
     "text": [
      "Epoch: 3 | Train Loss: 0.14820 | Train Accuracy: 0.95601 | Val Loss: 0.10031 | Val Accuracy: 0.97124\n"
     ]
    },
    {
     "name": "stderr",
     "output_type": "stream",
     "text": [
      " 27%|██▋       | 4/15 [01:22<03:52, 21.15s/it]"
     ]
    },
    {
     "name": "stdout",
     "output_type": "stream",
     "text": [
      "Epoch: 4 | Train Loss: 0.12316 | Train Accuracy: 0.96275 | Val Loss: 0.08592 | Val Accuracy: 0.97457\n"
     ]
    },
    {
     "name": "stderr",
     "output_type": "stream",
     "text": [
      " 33%|███▎      | 5/15 [01:44<03:35, 21.59s/it]"
     ]
    },
    {
     "name": "stdout",
     "output_type": "stream",
     "text": [
      "Epoch: 5 | Train Loss: 0.10246 | Train Accuracy: 0.96829 | Val Loss: 0.07325 | Val Accuracy: 0.97922\n"
     ]
    },
    {
     "name": "stderr",
     "output_type": "stream",
     "text": [
      " 40%|████      | 6/15 [02:06<03:14, 21.66s/it]"
     ]
    },
    {
     "name": "stdout",
     "output_type": "stream",
     "text": [
      "Epoch: 6 | Train Loss: 0.09095 | Train Accuracy: 0.97199 | Val Loss: 0.07059 | Val Accuracy: 0.98005\n"
     ]
    },
    {
     "name": "stderr",
     "output_type": "stream",
     "text": [
      " 47%|████▋     | 7/15 [02:28<02:55, 21.98s/it]"
     ]
    },
    {
     "name": "stdout",
     "output_type": "stream",
     "text": [
      "Epoch: 7 | Train Loss: 0.08321 | Train Accuracy: 0.97371 | Val Loss: 0.06526 | Val Accuracy: 0.98172\n"
     ]
    },
    {
     "name": "stderr",
     "output_type": "stream",
     "text": [
      " 53%|█████▎    | 8/15 [02:50<02:32, 21.81s/it]"
     ]
    },
    {
     "name": "stdout",
     "output_type": "stream",
     "text": [
      "Epoch: 8 | Train Loss: 0.07368 | Train Accuracy: 0.97610 | Val Loss: 0.06309 | Val Accuracy: 0.98205\n"
     ]
    },
    {
     "name": "stderr",
     "output_type": "stream",
     "text": [
      " 60%|██████    | 9/15 [03:12<02:11, 21.92s/it]"
     ]
    },
    {
     "name": "stdout",
     "output_type": "stream",
     "text": [
      "Epoch: 9 | Train Loss: 0.06733 | Train Accuracy: 0.97804 | Val Loss: 0.06250 | Val Accuracy: 0.98188\n"
     ]
    },
    {
     "name": "stderr",
     "output_type": "stream",
     "text": [
      " 67%|██████▋   | 10/15 [03:31<01:45, 21.09s/it]"
     ]
    },
    {
     "name": "stdout",
     "output_type": "stream",
     "text": [
      "Epoch: 10 | Train Loss: 0.05966 | Train Accuracy: 0.98078 | Val Loss: 0.06245 | Val Accuracy: 0.98305\n"
     ]
    },
    {
     "name": "stderr",
     "output_type": "stream",
     "text": [
      " 73%|███████▎  | 11/15 [03:51<01:22, 20.56s/it]"
     ]
    },
    {
     "name": "stdout",
     "output_type": "stream",
     "text": [
      "Epoch: 11 | Train Loss: 0.05475 | Train Accuracy: 0.98239 | Val Loss: 0.06339 | Val Accuracy: 0.98305\n"
     ]
    },
    {
     "name": "stderr",
     "output_type": "stream",
     "text": [
      " 80%|████████  | 12/15 [04:10<01:00, 20.11s/it]"
     ]
    },
    {
     "name": "stdout",
     "output_type": "stream",
     "text": [
      "Epoch: 12 | Train Loss: 0.05313 | Train Accuracy: 0.98302 | Val Loss: 0.05432 | Val Accuracy: 0.98637\n"
     ]
    },
    {
     "name": "stderr",
     "output_type": "stream",
     "text": [
      " 87%|████████▋ | 13/15 [04:29<00:39, 19.78s/it]"
     ]
    },
    {
     "name": "stdout",
     "output_type": "stream",
     "text": [
      "Epoch: 13 | Train Loss: 0.04783 | Train Accuracy: 0.98473 | Val Loss: 0.05704 | Val Accuracy: 0.98421\n"
     ]
    },
    {
     "name": "stderr",
     "output_type": "stream",
     "text": [
      " 93%|█████████▎| 14/15 [04:48<00:19, 19.62s/it]"
     ]
    },
    {
     "name": "stdout",
     "output_type": "stream",
     "text": [
      "Epoch: 14 | Train Loss: 0.04239 | Train Accuracy: 0.98643 | Val Loss: 0.05648 | Val Accuracy: 0.98521\n"
     ]
    },
    {
     "name": "stderr",
     "output_type": "stream",
     "text": [
      "100%|██████████| 15/15 [05:07<00:00, 20.52s/it]"
     ]
    },
    {
     "name": "stdout",
     "output_type": "stream",
     "text": [
      "Epoch: 15 | Train Loss: 0.04080 | Train Accuracy: 0.98626 | Val Loss: 0.05554 | Val Accuracy: 0.98471\n"
     ]
    },
    {
     "name": "stderr",
     "output_type": "stream",
     "text": [
      "\n"
     ]
    }
   ],
   "source": [
    "# Initialize optimizer and loss function\n",
    "loss_fn = nn.CrossEntropyLoss()\n",
    "optimizer = optim.Adam(model_vit.parameters(), lr=1e-4)\n",
    "\n",
    "print(model_vit.parameters)\n",
    "\n",
    "\n",
    "accuracy = Accuracy(task='multiclass', num_classes=10).to(device)\n",
    "# Training and Validation Loops\n",
    "EPOCHS = 15\n",
    "for epoch in tqdm(range(EPOCHS)):\n",
    "    # Training Loop\n",
    "    train_loss, train_acc = 0.0, 0.0\n",
    "    model_vit.train()\n",
    "    for X, y in train_dataloader:\n",
    "        X, y = X.to(device), y.to(device)\n",
    "       # print(X.shape)\n",
    "        optimizer.zero_grad()\n",
    "        \n",
    "        # Forward pass\n",
    "        y_pred = model_vit(X)\n",
    "        loss = loss_fn(y_pred, y)\n",
    "        train_loss += loss.item()\n",
    "        train_acc += accuracy(y_pred, y)\n",
    "        \n",
    "        # Backward pass and optimization\n",
    "        loss.backward()\n",
    "        optimizer.step()\n",
    "\n",
    "    # Average metrics\n",
    "    train_loss /= len(train_dataloader)\n",
    "    train_acc /= len(train_dataloader)\n",
    "\n",
    "    # Validation Loop\n",
    "    val_loss, val_acc = 0.0, 0.0\n",
    "    model_vit.eval()\n",
    "    with torch.no_grad():\n",
    "        for X, y in val_dataloader:\n",
    "            X, y = X.to(device), y.to(device)\n",
    "            \n",
    "            # Forward pass\n",
    "            y_pred = model_vit(X)\n",
    "            loss = loss_fn(y_pred, y)\n",
    "            val_loss += loss.item()\n",
    "            val_acc += accuracy(y_pred, y)\n",
    "\n",
    "    # Average metrics\n",
    "    val_loss /= len(val_dataloader)\n",
    "    val_acc /= len(val_dataloader)\n",
    "\n",
    "    # Log metrics to TensorBoard\n",
    "    writer.add_scalars(main_tag=\"Loss\", tag_scalar_dict={\"train/loss\": train_loss, \"val/loss\": val_loss}, global_step=epoch)\n",
    "    writer.add_scalars(main_tag=\"Accuracy\", tag_scalar_dict={\"train/acc\": train_acc, \"val/acc\": val_acc}, global_step=epoch)\n",
    "\n",
    "    # Print progress\n",
    "    print(f\"Epoch: {epoch+1} | Train Loss: {train_loss:.5f} | Train Accuracy: {train_acc:.5f} | Val Loss: {val_loss:.5f} | Val Accuracy: {val_acc:.5f}\")"
   ]
  },
  {
   "cell_type": "code",
   "execution_count": 18,
   "metadata": {},
   "outputs": [
    {
     "name": "stderr",
     "output_type": "stream",
     "text": [
      "C:\\Users\\Sven Jacob\\AppData\\Local\\Temp\\ipykernel_23708\\4031630476.py:58: FutureWarning: You are using `torch.load` with `weights_only=False` (the current default value), which uses the default pickle module implicitly. It is possible to construct malicious pickle data which will execute arbitrary code during unpickling (See https://github.com/pytorch/pytorch/blob/main/SECURITY.md#untrusted-models for more details). In a future release, the default value for `weights_only` will be flipped to `True`. This limits the functions that could be executed during unpickling. Arbitrary objects will no longer be allowed to be loaded via this mode unless they are explicitly allowlisted by the user via `torch.serialization.add_safe_globals`. We recommend you start setting `weights_only=True` for any use case where you don't have full control of the loaded file. Please open an issue on GitHub for any issues related to this experimental feature.\n",
      "  model_ViT_mnist_loaded.load_state_dict(torch.load(MODEL_SAVE_PATH))\n"
     ]
    },
    {
     "data": {
      "text/plain": [
       "<All keys matched successfully>"
      ]
     },
     "execution_count": 18,
     "metadata": {},
     "output_type": "execute_result"
    }
   ],
   "source": [
    "from pathlib import Path\n",
    "\n",
    "MODEL_PATH = Path(\"models\")\n",
    "MODEL_PATH.mkdir(parents=True, exist_ok=True)\n",
    "\n",
    "#MODEL_NAME = \"ViT_vanilla_mnist.pth\"\n",
    "MODEL_NAME = \"ViT_v2_mnist.pth\"\n",
    "#MODEL_NAME = \"lenet5_v1_mnist.pth\"\n",
    "MODEL_SAVE_PATH = MODEL_PATH / MODEL_NAME\n",
    "\n",
    "#Saving the model\n",
    "#print(f\"Saving the model: {MODEL_SAVE_PATH}\")\n",
    "#torch.save(obj=model_vit.state_dict(), f=MODEL_SAVE_PATH)\n",
    "\n",
    "#Loading the saved model\n",
    "# model_ViT_mnist_loaded = ViT(\n",
    "#     image_size=28,       # MNIST images are 28x28\n",
    "#     patch_size=4,        # 4 patches per dimension (28/7)\n",
    "#     num_classes=10,      # 10 output classes for digits 0-9\n",
    "#     dim=64,             # Embedding dimension\n",
    "#     depth=4,             # Number of transformer layers\n",
    "#     heads=2,             # Number of attention heads\n",
    "#     mlp_dim=64,         # Hidden dimension in MLP layers\n",
    "#     dropout=0.1,         # Dropout rate in transformer\n",
    "#     emb_dropout=0.1,     # Dropout rate for embeddings\n",
    "#     channels = 1\n",
    "# ).to(device)\n",
    "\n",
    "# model_ViT_mnist_loaded = ViT(\n",
    "#     image_size=28,       # MNIST images are 28x28\n",
    "#     patch_size=4,        # 4 patches per dimension (28/7)\n",
    "#     num_classes=10,      # 10 output classes for digits 0-9\n",
    "#     dim=64,             # Embedding dimension\n",
    "#     depth=6,             # Number of transformer layers\n",
    "#     heads=8,             # Number of attention heads\n",
    "#     mlp_dim=128,         # Hidden dimension in MLP layers\n",
    "#     dropout=0.1,         # Dropout rate in transformer\n",
    "#     emb_dropout=0.1,     # Dropout rate for embeddings\n",
    "#     channels = 1\n",
    "# ).to(device)\n",
    "\n",
    "\n",
    "#v2\n",
    "model_ViT_mnist_loaded = ViT(\n",
    "    image_size=28,       # MNIST images are 28x28\n",
    "    patch_size=7,        # 4 patches per dimension (28/7)\n",
    "    num_classes=10,      # 10 output classes for digits 0-9\n",
    "    dim=64,             # Embedding dimension\n",
    "    depth=6,             # Number of transformer layers\n",
    "    heads=8,             # Number of attention heads\n",
    "    mlp_dim=128,         # Hidden dimension in MLP layers\n",
    "    dropout=0.1,         # Dropout rate in transformer\n",
    "    emb_dropout=0.1,     # Dropout rate for embeddings\n",
    "    channels = 1\n",
    ").to(device)\n",
    "\n",
    "\n",
    "model_ViT_mnist_loaded.load_state_dict(torch.load(MODEL_SAVE_PATH))\n",
    "\n",
    "\n",
    "\n",
    "#model_lenet5_v1_mnist_loaded = LeNet5V1()\n",
    "#model_lenet5_v1_mnist_loaded.load_state_dict(torch.load(MODEL_SAVE_PATH))"
   ]
  },
  {
   "cell_type": "code",
   "execution_count": 19,
   "metadata": {},
   "outputs": [
    {
     "data": {
      "text/plain": [
       "893164"
      ]
     },
     "execution_count": 19,
     "metadata": {},
     "output_type": "execute_result"
    }
   ],
   "source": [
    "sum(p.numel() for p in model_ViT_mnist_loaded.parameters())"
   ]
  },
  {
   "cell_type": "code",
   "execution_count": 20,
   "metadata": {},
   "outputs": [
    {
     "name": "stdout",
     "output_type": "stream",
     "text": [
      "Test loss:  0.06248| Test acc:  0.98103\n"
     ]
    }
   ],
   "source": [
    "from torchmetrics import Accuracy\n",
    "\n",
    "\n",
    "device = 'cuda' if torch.cuda.is_available() else 'cpu'\n",
    "\n",
    "loss_fn = nn.CrossEntropyLoss()\n",
    "accuracy = Accuracy(task='multiclass', num_classes=10).to(device)\n",
    "\n",
    "test_loss, test_acc = 0, 0\n",
    "\n",
    "model_loaded = model_ViT_mnist_loaded.to(device)\n",
    "#model_loaded = model_lenet5_v1_mnist_loaded.to(device)\n",
    "\n",
    "#model_ViT_mnist_loaded.eval()\n",
    "model_loaded.eval()\n",
    "with torch.inference_mode():\n",
    "    for X, y in test_dataloader:\n",
    "        X, y = X.to(device), y.to(device)\n",
    "        #y_pred = model_ViT_mnist_loaded(X)\n",
    "        y_pred = model_loaded(X)\n",
    "        \n",
    "        test_loss += loss_fn(y_pred, y)\n",
    "        test_acc += accuracy(y_pred, y)\n",
    "        \n",
    "    test_loss /= len(test_dataloader)\n",
    "    test_acc /= len(test_dataloader)\n",
    "\n",
    "print(f\"Test loss: {test_loss: .5f}| Test acc: {test_acc: .5f}\")"
   ]
  },
  {
   "cell_type": "code",
   "execution_count": 24,
   "metadata": {},
   "outputs": [
    {
     "data": {
      "text/plain": [
       "'cuda'"
      ]
     },
     "execution_count": 24,
     "metadata": {},
     "output_type": "execute_result"
    }
   ],
   "source": [
    "device"
   ]
  },
  {
   "cell_type": "code",
   "execution_count": 21,
   "metadata": {},
   "outputs": [
    {
     "name": "stderr",
     "output_type": "stream",
     "text": [
      "  0%|          | 0/313 [00:00<?, ?it/s]c:\\Users\\Sven Jacob\\miniconda3\\envs\\torch\\Lib\\site-packages\\captum\\attr\\_core\\deep_lift.py:304: UserWarning: Setting forward, backward hooks and attributes on non-linear\n",
      "               activations. The hooks and attributes will be removed\n",
      "            after the attribution is finished\n",
      "  warnings.warn(\n",
      "100%|██████████| 313/313 [00:43<00:00,  7.17it/s]\n"
     ]
    }
   ],
   "source": [
    "from captum.attr import IntegratedGradients, GradientShap, DeepLift\n",
    "from tqdm import tqdm\n",
    "\n",
    "ig = IntegratedGradients(model_loaded)\n",
    "gs = GradientShap(model_loaded)\n",
    "dl = DeepLift(model_loaded)\n",
    "#sample ,label = test_dataset[10]\n",
    "\n",
    "#tensor_1 = torch.mean(torch.stack(data_c1),axis=0)\n",
    "#tensor_2 = torch.mean(torch.stack(data_c2),axis=0)\n",
    "\n",
    "all_attributions_ig = []\n",
    "all_labels = []\n",
    "all_attributions_gs = []\n",
    "all_attributions_ks = []\n",
    "all_attributions_dl = []\n",
    "all_batches= []\n",
    "model_loaded.eval()\n",
    "for batch_samples, batch_labels in tqdm(test_dataloader):\n",
    "    #print(1)\n",
    "    # Ensure samples have the correct shape\n",
    "    batch_labels = batch_labels.to(device)\n",
    "    batch_samples = batch_samples.requires_grad_().to(device) # Enable gradients for attribution\n",
    "    baseline_dist = torch.zeros((batch_samples.shape[0],1,28,28)).to(device)\n",
    "    #print(baseline_dist.shape)\n",
    "    #baseline_dist = torch.abs(torch.tensor(Contributions[0],dtype=torch.float32).repeat(batch_samples.shape[0],1))\n",
    "\n",
    "    # Calculate the attributions for each sample in the batch\n",
    "    # We use target=0 as we are working with a binary classification output\n",
    "    attributions, deltas = ig.attribute(batch_samples, target=batch_labels, return_convergence_delta=True)\n",
    "\n",
    "    \n",
    "    # Append attributions and labels for further analysis\n",
    "    all_attributions_ig.append(attributions)\n",
    "    all_labels.append(batch_labels)\n",
    "    all_batches.append(batch_samples.detach())\n",
    "    #batch_samples = batch_samples.requires_grad_().to(device)\n",
    "    attributions_gs, deltas = gs.attribute(batch_samples, target=batch_labels,  baselines=baseline_dist,return_convergence_delta=True)\n",
    "    all_attributions_gs.append(attributions_gs)\n",
    "    \n",
    "    #batch_samples = batch_samples.requires_grad_().to(device)\n",
    "    #attributions_dl = dl.attribute(batch_samples, target=batch_labels)\n",
    "    attributions_dl = dl.attribute(batch_samples, target=batch_labels)\n",
    "    all_attributions_dl.append(attributions_dl)\n",
    "\n",
    "\n",
    "# Concatenate all attributions and labels\n",
    "all_attributions_ig = torch.cat(all_attributions_ig, dim=0)  # Shape: [num_samples, num_features]\n",
    "all_labels = torch.cat(all_labels, dim=0)\n",
    "\n",
    "all_attributions_gs = torch.cat(all_attributions_gs, dim=0)\n",
    "all_attributions_dl = torch.cat(all_attributions_dl, dim=0)\n",
    "\n",
    "all_batches = torch.cat(all_batches,dim=0)"
   ]
  },
  {
   "cell_type": "code",
   "execution_count": 28,
   "metadata": {},
   "outputs": [
    {
     "name": "stderr",
     "output_type": "stream",
     "text": [
      "C:\\Users\\jsve\\AppData\\Local\\Temp\\ipykernel_1440\\3700276918.py:1: FutureWarning: You are using `torch.load` with `weights_only=False` (the current default value), which uses the default pickle module implicitly. It is possible to construct malicious pickle data which will execute arbitrary code during unpickling (See https://github.com/pytorch/pytorch/blob/main/SECURITY.md#untrusted-models for more details). In a future release, the default value for `weights_only` will be flipped to `True`. This limits the functions that could be executed during unpickling. Arbitrary objects will no longer be allowed to be loaded via this mode unless they are explicitly allowlisted by the user via `torch.serialization.add_safe_globals`. We recommend you start setting `weights_only=True` for any use case where you don't have full control of the loaded file. Please open an issue on GitHub for any issues related to this experimental feature.\n",
      "  all_attributions_dl_old = torch.load('DL_Attributions.pt')\n"
     ]
    }
   ],
   "source": [
    "all_attributions_dl_old = torch.load('DL_Attributions.pt')"
   ]
  },
  {
   "cell_type": "code",
   "execution_count": 32,
   "metadata": {},
   "outputs": [],
   "source": [
    "import io\n",
    "\n",
    "torch.save(all_attributions_dl.detach().cpu().numpy(),\"DL_Attributions_v1.pt\")\n",
    "buffer = io.BytesIO()\n",
    "torch.save(all_attributions_dl, buffer)\n",
    "\n",
    "torch.save(all_attributions_gs.detach().cpu().numpy(),\"GS_Attributions_v1.pt\")\n",
    "buffer = io.BytesIO()\n",
    "torch.save(all_attributions_gs, buffer)\n",
    "\n",
    "torch.save(all_attributions_ig.detach().cpu().numpy(),\"IG_Attributions_v1.pt\")\n",
    "buffer = io.BytesIO()\n",
    "torch.save(all_attributions_ig, buffer)"
   ]
  },
  {
   "cell_type": "code",
   "execution_count": 44,
   "metadata": {},
   "outputs": [],
   "source": [
    "all_batches = torch.cat(all_batches,dim=0)"
   ]
  },
  {
   "cell_type": "code",
   "execution_count": 35,
   "metadata": {},
   "outputs": [],
   "source": [
    "from utils import *\n",
    "\n",
    "\n",
    "# c1=8\n",
    "# c2=9\n",
    "\n",
    "# c1 = 7\n",
    "# c2 = 1\n",
    "\n",
    "\n",
    "#c1 = 5\n",
    "#c2 = 6\n",
    "c1 = 5\n",
    "c2 = 6\n",
    "\n",
    "# all_labels = []\n",
    "# all_batches = []\n",
    "# for batch_samples,batch_labels in test_dataloader:\n",
    "#     all_labels.append(batch_labels)\n",
    "#     all_batches.append(batch_samples)\n",
    "\n",
    "# all_batches = torch.cat(all_batches,dim=0)\n",
    "# all_labels = torch.cat(all_labels,dim=0)\n",
    "\n",
    "\n",
    "all_labels == c1\n",
    "\n",
    "ig_plot = torch.abs(all_attributions_ig[all_labels ==c1 ].mean(axis=0)-all_attributions_ig[all_labels ==c2 ].mean(axis=0)).cpu().detach().numpy()\n",
    "dl_plot = torch.abs(all_attributions_dl[all_labels ==c1 ].mean(axis=0)-all_attributions_dl[all_labels ==c2 ].mean(axis=0)).cpu().detach().numpy()\n",
    "gs_plot = torch.abs(all_attributions_gs[all_labels ==c1 ].mean(axis=0)-all_attributions_gs[all_labels ==c2 ].mean(axis=0)).cpu().detach().numpy()\n",
    "\n",
    "data_X = all_batches[all_labels==c1].mean(axis=0)[0,:,:]\n",
    "data_Y = all_batches[all_labels==c2].mean(axis=0)[0,:,:]\n",
    "\n",
    "rf, betas, swd = remove_important_features(data_X.cpu().detach().numpy().reshape(1,784),data_Y.cpu().detach().numpy().reshape(1,784),100,1000)"
   ]
  },
  {
   "cell_type": "code",
   "execution_count": 50,
   "metadata": {},
   "outputs": [],
   "source": [
    "all_attributions_dl_old = torch.Tensor(all_attributions_dl_old).to(device)"
   ]
  },
  {
   "cell_type": "code",
   "execution_count": 23,
   "metadata": {},
   "outputs": [],
   "source": [
    "def filter_explanations(C1,C2,all_attributions_ig,all_attributions_dl,all_attributions_gs,all_labels):\n",
    "    data={'X':[],'Y':[],'Features':[],'IG':[],'GS':[],'DL':[]}\n",
    "    for c1,c2 in zip(C1,C2):\n",
    "        data['IG'].append(torch.abs(all_attributions_ig[all_labels ==c1 ].mean(axis=0)-all_attributions_ig[all_labels ==c2 ].mean(axis=0)).cpu().detach().numpy())\n",
    "        data['DL'].append(torch.abs(all_attributions_dl[all_labels ==c1 ].mean(axis=0)-all_attributions_dl[all_labels ==c2 ].mean(axis=0)).cpu().detach().numpy())\n",
    "        data['GS'].append(torch.abs(all_attributions_gs[all_labels ==c1 ].mean(axis=0)-all_attributions_gs[all_labels ==c2 ].mean(axis=0)).cpu().detach().numpy())\n",
    "\n",
    "        data_X = all_batches[all_labels==c1].mean(axis=0)[0,:,:]\n",
    "        data_Y = all_batches[all_labels==c2].mean(axis=0)[0,:,:]\n",
    "\n",
    "        data['X'].append(data_X)\n",
    "        data['Y'].append(data_Y)\n",
    "\n",
    "        rf, _, _ = remove_important_features(data_X.cpu().detach().numpy().reshape(1,784),data_Y.cpu().detach().numpy().reshape(1,784),250,1000)\n",
    "\n",
    "        Features = np.zeros(784)\n",
    "        f_id = []\n",
    "        contributions = []\n",
    "        k=1\n",
    "        for d in rf:\n",
    "            i = d[\"removed_feature\"]\n",
    "            Features[i] = 1/(np.log(k+1)**3)\n",
    "            k+=0.075\n",
    "            f_id.append(i)\n",
    "            contributions.append(d['contribution_value'])\n",
    "        data['Features'].append(Features)\n",
    "\n",
    "    return data\n",
    "\n",
    "\n",
    "def plot_MNIST_explanations(n_rows,n_cols,data):\n",
    "    fig, ax = plt.subplots(n_rows,n_cols,figsize=(12,6))\n",
    "    \n",
    "    for i in range(n_rows):\n",
    "        data_X = data['X'][i]\n",
    "        data_Y = data['Y'][i]\n",
    "        Features = data['Features'][i]\n",
    "        ig_plot = data['IG'][i]\n",
    "        gs_plot = data['GS'][i]\n",
    "        dl_plot = data['DL'][i]\n",
    "        ###first row set titles\n",
    "        if i==0:\n",
    "            ax[i,0].set_title('Before Drift',fontsize=17)\n",
    "            ax[i,1].set_title('After Drift',fontsize=17)\n",
    "            ax[i,2].set_title('SWD',fontsize=17)\n",
    "            ax[i,3].set_title('IG',fontsize=17)\n",
    "            ax[i,4].set_title('Grad SHAP',fontsize=17)\n",
    "            ax[i,5].set_title('DeepLift',fontsize=17)\n",
    "\n",
    "        ax[i,0].imshow(data_X.cpu().numpy(),cmap='gray')\n",
    "        ax[i,0].set_xticks([])\n",
    "        ax[i,0].set_yticks([])\n",
    "        ax[i,1].imshow(data_Y.cpu().numpy(),cmap='gray')\n",
    "        ax[i,1].set_xticks([])\n",
    "        ax[i,1].set_yticks([])\n",
    "        ax[i,2].imshow(np.float64(Features.reshape(28,28)),cmap='plasma')\n",
    "        ax[i,2].set_xticks([])\n",
    "        ax[i,2].set_yticks([])\n",
    "        ax[i,3].imshow(ig_plot[0,:,:],cmap='plasma')\n",
    "        ax[i,3].set_xticks([])\n",
    "        ax[i,3].set_yticks([])\n",
    "        ax[i,4].imshow(gs_plot[0,:,:], cmap='plasma')\n",
    "        ax[i,4].set_xticks([])\n",
    "        ax[i,4].set_yticks([])\n",
    "        ax[i,5].imshow(dl_plot[0,:,:], cmap='plasma')\n",
    "        ax[i,5].set_xticks([])\n",
    "        ax[i,5].set_yticks([])\n",
    "    \n",
    "    # for axes in ax:\n",
    "    #     axes.set_xticks([])\n",
    "    #     axes.set_yticks([])\n",
    "\n",
    "    fig.tight_layout()\n",
    "\n",
    "    return fig\n",
    "\n",
    "\n",
    "\n",
    "\n",
    "        "
   ]
  },
  {
   "cell_type": "code",
   "execution_count": 24,
   "metadata": {},
   "outputs": [
    {
     "data": {
      "image/png": "[encoded data removed]",
      "text/plain": [
       "<Figure size 1200x600 with 18 Axes>"
      ]
     },
     "metadata": {},
     "output_type": "display_data"
    }
   ],
   "source": [
    "from utils import *\n",
    "import matplotlib.pyplot as plt\n",
    "data = filter_explanations([5,7,9],[6,1,3],all_attributions_ig,all_attributions_dl,all_attributions_gs,all_labels)\n",
    "fig = plot_MNIST_explanations(3,6,data)"
   ]
  },
  {
   "cell_type": "code",
   "execution_count": 14,
   "metadata": {},
   "outputs": [
    {
     "data": {
      "image/png": "[encoded data removed]",
      "text/plain": [
       "<Figure size 1200x600 with 18 Axes>"
      ]
     },
     "metadata": {},
     "output_type": "display_data"
    }
   ],
   "source": [
    "from utils import *\n",
    "import matplotlib.pyplot as plt\n",
    "data = filter_explanations([5,7,9],[6,1,3],all_attributions_ig,all_attributions_dl,all_attributions_gs,all_labels)\n",
    "fig = plot_MNIST_explanations(3,6,data)"
   ]
  },
  {
   "cell_type": "code",
   "execution_count": 45,
   "metadata": {},
   "outputs": [],
   "source": [
    "fig.savefig('MNIST_LENET5_plot.pdf')"
   ]
  },
  {
   "cell_type": "code",
   "execution_count": 54,
   "metadata": {},
   "outputs": [
    {
     "data": {
      "image/png": "[encoded data removed]",
      "text/plain": [
       "<Figure size 1200x400 with 6 Axes>"
      ]
     },
     "metadata": {},
     "output_type": "display_data"
    }
   ],
   "source": [
    "replace_negatives = np.vectorize(lambda x: 0 if x < 0 else x)\n",
    "\n",
    "Features = np.zeros(784)\n",
    "f_id = []\n",
    "contributions = []\n",
    "k=1\n",
    "for d in rf:\n",
    "    i = d[\"removed_feature\"]\n",
    "    #Features[i] = 1/(1+k**(1/2))\n",
    "    Features[i] = 1/(np.log(k+1)**3)\n",
    "    k+=0.075\n",
    "    f_id.append(i)\n",
    "    contributions.append(d['contribution_value'])\n",
    "\n",
    "\n",
    "fig,ax = plt.subplots(1,6,figsize=(12,4))\n",
    "ax[0].set_title('Before Drift')\n",
    "ax[0].imshow(data_X.cpu().numpy(), cmap='gray')\n",
    "ax[1].set_title('After Drift')\n",
    "ax[1].imshow(data_Y.cpu().numpy(), cmap='gray')\n",
    "#ax[0].imshow(X_img,cmap=plt.cm.gray)\n",
    "#ax[1].imshow(Y_img,cmap=plt.cm.gray)\n",
    "ax[2].set_title('SWD')\n",
    "ax[2].imshow(np.float64(Features.reshape(28,28)),cmap='plasma')\n",
    "ax[3].imshow(ig_plot[0,:,:],cmap='plasma')\n",
    "#ax[3].imshow(np.abs(attr1[0][0].detach().to('cpu').numpy()-attr2[0][0].detach().to('cpu').numpy()),cmap='plasma')\n",
    "ax[3].set_title('IG')\n",
    "#ax[4].imshow(replace_negatives(attr1_GS[0][0].detach().to('cpu').numpy()+attr2_GS[0][0].detach().to('cpu').numpy()),cmap='plasma')\n",
    "#ax[4].imshow(np.abs(attr1_GS[0][0].detach().to('cpu').numpy()-attr2_GS[0][0].detach().to('cpu').numpy()),cmap='plasma')\n",
    "ax[4].imshow(gs_plot[0,:,:],cmap='plasma')\n",
    "ax[4].set_title('Grad SHAP')\n",
    "\n",
    "ax[5].imshow(dl_plot[0,:,:],cmap='plasma')\n",
    "#ax[5].imshow(replace_negatives())\n",
    "#ax[5].imshow(np.abs(attr1_DL[0][0].detach().to('cpu').numpy())+np.abs(attr2_DL[0][0].detach().to('cpu').numpy()),cmap='plasma')\n",
    "\n",
    "#ax[5].imshow(np.abs(attr1_DL[0][0].detach().to('cpu').numpy()-attr2_DL[0][0].detach().to('cpu').numpy()),cmap='plasma')\n",
    "ax[5].set_title('Deep Lift')\n",
    "\n",
    "\n",
    "for axes in ax:\n",
    "    axes.set_xticks([])\n",
    "    axes.set_yticks([])\n",
    "#ax[5].imshow(np.abs(Features.reshape(28,28)-(attr2_GS[0][0].detach().to('cpu').numpy()+attr1_GS[0][0].detach().to('cpu').numpy())),cmap='plasma')\n",
    "fig.tight_layout()"
   ]
  },
  {
   "cell_type": "code",
   "execution_count": 57,
   "metadata": {},
   "outputs": [],
   "source": [
    "fig.savefig('MNIST_example0-8.pdf')"
   ]
  }
 ],
 "metadata": {
  "kernelspec": {
   "display_name": "torch",
   "language": "python",
   "name": "python3"
  },
  "language_info": {
   "codemirror_mode": {
    "name": "ipython",
    "version": 3
   },
   "file_extension": ".py",
   "mimetype": "text/x-python",
   "name": "python",
   "nbconvert_exporter": "python",
   "pygments_lexer": "ipython3",
   "version": "3.12.7"
  }
 },
 "nbformat": 4,
 "nbformat_minor": 2
}
